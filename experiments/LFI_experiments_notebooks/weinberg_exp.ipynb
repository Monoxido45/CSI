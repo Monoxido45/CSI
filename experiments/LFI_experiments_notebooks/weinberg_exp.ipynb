{
 "cells": [
  {
   "cell_type": "markdown",
   "metadata": {},
   "source": [
    "# Weinberg experiments"
   ]
  },
  {
   "cell_type": "code",
   "execution_count": null,
   "metadata": {},
   "outputs": [],
   "source": [
    "# Importing all packages\n",
    "# normalizing flows packages\n",
    "import torch\n",
    "from torch.distributions.beta import Beta\n",
    "\n",
    "# loforest and locart functions\n",
    "from CSI.loforest import ConformalLoforest, tune_loforest_LFI\n",
    "from CSI.scores import Scores, LambdaScore, WaldoScore, BFFScore, E_valueScore\n",
    "from CSI.posterior_models import normflow_posterior\n",
    "from clover import LocartSplit\n",
    "\n",
    "# quantile regression\n",
    "from sklearn.ensemble import HistGradientBoostingRegressor\n",
    "\n",
    "# plotting and numpy\n",
    "from matplotlib import pyplot as plt\n",
    "import numpy as np\n",
    "from tqdm import tqdm\n",
    "import itertools\n",
    "import pandas as pd\n",
    "\n",
    "# utils functions\n",
    "from CSI.utils import obtain_quantiles, fit_post_model\n",
    "\n",
    "# package to simulate from tractable\n",
    "from hypothesis.benchmark import weinberg"
   ]
  },
  {
   "cell_type": "markdown",
   "metadata": {},
   "source": [
    "Function to compute MAE for fixed $n$ and $B$:"
   ]
  },
  {
   "cell_type": "code",
   "execution_count": 2,
   "metadata": {},
   "outputs": [],
   "source": [
    "# function to compute MAE for a single N and B\n",
    "def compute_MAE_N_B(\n",
    "    kind,\n",
    "    score,\n",
    "    theta_grid_eval,\n",
    "    simulator,\n",
    "    prior,\n",
    "    N = 5,\n",
    "    B = 10000,\n",
    "    alpha=0.05,\n",
    "    min_samples_leaf = 300,\n",
    "    n_estimators = 200,\n",
    "    K = 50,\n",
    "    B_valid= 500,\n",
    "    N_lambda = 250,\n",
    "    K_grid= np.concatenate((np.array([0]), np.arange(15, 95, 5))),\n",
    "    naive_n=500,\n",
    "    disable_tqdm = True,\n",
    "    seed = 45,\n",
    "    n_lambda = 300,\n",
    "    log_transf = False,\n",
    "    split_calib = False,\n",
    "    using_beta = False,\n",
    "):\n",
    "    torch.manual_seed(seed)\n",
    "    torch.cuda.manual_seed(seed)\n",
    "\n",
    "    quantiles_dict = obtain_quantiles(\n",
    "    kind = kind, \n",
    "    score = score, \n",
    "    theta_grid_eval = theta_grid_eval, \n",
    "    simulator = simulator,\n",
    "    prior = prior, \n",
    "    N = N, \n",
    "    B = B, \n",
    "    alpha = alpha, \n",
    "    min_samples_leaf = min_samples_leaf, \n",
    "    n_estimators = n_estimators, \n",
    "    K = K,\n",
    "    disable_tqdm = disable_tqdm,\n",
    "    B_valid = B_valid,\n",
    "    N_lambda= N_lambda,\n",
    "    K_grid = K_grid,\n",
    "    naive_n = naive_n,\n",
    "    log_transf = log_transf,\n",
    "    split_calib = split_calib,\n",
    "    using_beta = using_beta,\n",
    ")\n",
    "    mae_list, se_list, methods_list, N_list, B_list = [], [], [], [], []\n",
    "    err_data = np.zeros((theta_grid_eval.shape[0], 5))\n",
    "    l = 0\n",
    "    for theta in tqdm(theta_grid_eval, desc = \"Evaluating coverage in this setting\"):\n",
    "        if theta_grid_eval.ndim == 1:\n",
    "            theta_repeated = torch.tensor([theta]).reshape(1, -1).repeat_interleave(repeats = n_lambda*N, dim = 0)\n",
    "        else:\n",
    "            theta_repeated = torch.tensor([theta]).repeat_interleave(repeats = n_lambda*N, dim = 0)\n",
    "            \n",
    "        # simulating lambdas for testing\n",
    "        X_net = simulator(theta_repeated)\n",
    "        if log_transf:\n",
    "            X_net = torch.log(X_net)\n",
    "        X_dim = X_net.shape[1]\n",
    "        X_net = X_net.reshape(n_lambda, N * X_dim)\n",
    "\n",
    "        stat = score.compute(theta_repeated.numpy()[0:n_lambda, :], X_net.numpy(), disable_tqdm = True)\n",
    "                \n",
    "        # comparing coverage of methods\n",
    "        locart_cover = np.mean(stat <= quantiles_dict[\"locart\"][l])\n",
    "        loforest_cover = np.mean(stat <= quantiles_dict[\"loforest_fixed\"][l])\n",
    "        loforest_tuned_cover = np.mean(stat <= quantiles_dict[\"loforest_tuned\"][l])\n",
    "        boosting_cover = np.mean(stat <= quantiles_dict[\"boosting\"][l])\n",
    "        naive_cover = np.mean(stat <= quantiles_dict[\"naive\"][l])\n",
    "\n",
    "        # appending the errors\n",
    "        err_locart = np.abs(locart_cover - (1 - alpha))\n",
    "        err_loforest = np.abs(loforest_cover - (1 - alpha))\n",
    "        err_loforest_tuned = np.abs(loforest_tuned_cover - (1 - alpha))\n",
    "        err_boosting = np.abs(boosting_cover - (1 - alpha))\n",
    "        err_naive = np.abs(naive_cover - (1 - alpha))\n",
    "        \n",
    "            # saving in numpy array\n",
    "        err_data[l, :] = np.array([err_locart, err_loforest, err_loforest_tuned, err_boosting, err_naive])\n",
    "        l += 1\n",
    "\n",
    "    mae_list.extend(np.mean(err_data, axis=0).tolist())\n",
    "    se_list.extend((np.std(err_data, axis=0) / np.sqrt(theta_grid_eval.shape[0])).tolist())\n",
    "    methods_list.extend([\"LOCART\", \"LOFOREST\", \"tuned LOFOREST\", \"boosting\", \"monte-carlo\"])\n",
    "    N_list.extend([N] * 5)\n",
    "    B_list.extend([B] * 5)\n",
    "\n",
    "    stats_data = pd.DataFrame(\n",
    "        {\n",
    "            \"methods\": methods_list,\n",
    "            \"N\": N_list,\n",
    "            \"B\": B_list,\n",
    "            \"MAE\": mae_list,\n",
    "            \"se\": se_list,\n",
    "        }\n",
    "    )\n",
    "    return stats_data"
   ]
  },
  {
   "cell_type": "markdown",
   "metadata": {},
   "source": [
    "Fixing simulator and grid of evaluation:"
   ]
  },
  {
   "cell_type": "code",
   "execution_count": 3,
   "metadata": {},
   "outputs": [],
   "source": [
    "simulator = weinberg.Simulator(default_beam_energy=40.0)\n",
    "prior = weinberg.Prior()\n",
    "\n",
    "# weinberg grid\n",
    "n_out = 300\n",
    "thetas_valid = np.linspace(0.51, 1.49, n_out)"
   ]
  },
  {
   "cell_type": "markdown",
   "metadata": {},
   "source": [
    "Fitting posterior model for $n = 5$:"
   ]
  },
  {
   "cell_type": "code",
   "execution_count": 4,
   "metadata": {},
   "outputs": [
    {
     "name": "stderr",
     "output_type": "stream",
     "text": [
      "Fitting normalizing flows posterior estimator:  16%|█▌        | 324/2000 [07:43<39:57,  1.43s/it]"
     ]
    },
    {
     "name": "stdout",
     "output_type": "stream",
     "text": [
      "Early stopping at epoch 324\n",
      "a\n"
     ]
    },
    {
     "name": "stderr",
     "output_type": "stream",
     "text": [
      "\n"
     ]
    },
    {
     "data": {
      "image/png": "[encoded data removed]",
      "text/plain": [
       "<Figure size 640x480 with 1 Axes>"
      ]
     },
     "metadata": {},
     "output_type": "display_data"
    }
   ],
   "source": [
    "nflow_post = fit_post_model(simulator = simulator, prior = prior, B_model = 20000, n = 5, seed = 45, split_seed = 0)"
   ]
  },
  {
   "cell_type": "markdown",
   "metadata": {},
   "source": [
    "defining scores:"
   ]
  },
  {
   "cell_type": "code",
   "execution_count": 5,
   "metadata": {},
   "outputs": [
    {
     "data": {
      "text/plain": [
       "<CP2LFI.scores.E_valueScore at 0x7f04ad10a5d0>"
      ]
     },
     "execution_count": 5,
     "metadata": {},
     "output_type": "execute_result"
    }
   ],
   "source": [
    "# defining scores\n",
    "# waldo score\n",
    "waldo_score = WaldoScore(nflow_post, is_fitted = True)\n",
    "waldo_score.fit()\n",
    "\n",
    "# BFF score\n",
    "bff_score = BFFScore(nflow_post, is_fitted = True)\n",
    "bff_score.fit()\n",
    "\n",
    "# e-value score\n",
    "e_value_score = E_valueScore(nflow_post, is_fitted = True)\n",
    "e_value_score.fit()"
   ]
  },
  {
   "cell_type": "markdown",
   "metadata": {},
   "source": [
    "## Comparing all models for $n = 5$:"
   ]
  },
  {
   "cell_type": "markdown",
   "metadata": {},
   "source": [
    "Considering a beta(1/2, 1/2) prior for calibration:"
   ]
  },
  {
   "cell_type": "code",
   "execution_count": 6,
   "metadata": {},
   "outputs": [
    {
     "name": "stdout",
     "output_type": "stream",
     "text": [
      "Running naive method\n"
     ]
    },
    {
     "name": "stderr",
     "output_type": "stream",
     "text": [
      "fitting monte carlo cutoffs: 100%|██████████| 20/20 [00:07<00:00,  2.58it/s]\n"
     ]
    },
    {
     "name": "stdout",
     "output_type": "stream",
     "text": [
      "[-1.1442953 -1.14258   -1.6225019 ... -1.1628829 -1.6500874 -1.3096373]\n",
      "Running all the other methods\n",
      "Obtaining tuning samples\n"
     ]
    },
    {
     "name": "stderr",
     "output_type": "stream",
     "text": [
      "Simulating all tuning samples: 100%|██████████| 1000/1000 [06:06<00:00,  2.73it/s]\n"
     ]
    },
    {
     "name": "stdout",
     "output_type": "stream",
     "text": [
      "Fitting tuned loforest\n"
     ]
    },
    {
     "name": "stderr",
     "output_type": "stream",
     "text": [
      "Evaluating coverage in this setting: 100%|██████████| 300/300 [01:29<00:00,  3.35it/s]\n"
     ]
    }
   ],
   "source": [
    "bff_stats_weinberg_beta = compute_MAE_N_B(\n",
    "    kind = \"weinberg\", \n",
    "    score = bff_score, \n",
    "    theta_grid_eval = thetas_valid, \n",
    "    simulator = simulator, \n",
    "    prior = prior, \n",
    "    N = 5, \n",
    "    B = 10000, \n",
    "    B_valid = 1000, \n",
    "    N_lambda = 500,\n",
    "    seed = 125,\n",
    "    K = 70,\n",
    "    n_estimators = 200,\n",
    "    min_samples_leaf = 300,\n",
    "    log_transf = False,\n",
    "    split_calib = False,\n",
    "    using_beta = False,\n",
    "    )"
   ]
  },
  {
   "cell_type": "code",
   "execution_count": 7,
   "metadata": {},
   "outputs": [
    {
     "data": {
      "text/html": [
       "<div>\n",
       "<style scoped>\n",
       "    .dataframe tbody tr th:only-of-type {\n",
       "        vertical-align: middle;\n",
       "    }\n",
       "\n",
       "    .dataframe tbody tr th {\n",
       "        vertical-align: top;\n",
       "    }\n",
       "\n",
       "    .dataframe thead th {\n",
       "        text-align: right;\n",
       "    }\n",
       "</style>\n",
       "<table border=\"1\" class=\"dataframe\">\n",
       "  <thead>\n",
       "    <tr style=\"text-align: right;\">\n",
       "      <th></th>\n",
       "      <th>methods</th>\n",
       "      <th>N</th>\n",
       "      <th>B</th>\n",
       "      <th>MAE</th>\n",
       "      <th>se</th>\n",
       "    </tr>\n",
       "  </thead>\n",
       "  <tbody>\n",
       "    <tr>\n",
       "      <th>0</th>\n",
       "      <td>LOCART</td>\n",
       "      <td>5</td>\n",
       "      <td>10000</td>\n",
       "      <td>0.017889</td>\n",
       "      <td>0.000840</td>\n",
       "    </tr>\n",
       "    <tr>\n",
       "      <th>1</th>\n",
       "      <td>LOFOREST</td>\n",
       "      <td>5</td>\n",
       "      <td>10000</td>\n",
       "      <td>0.015944</td>\n",
       "      <td>0.000725</td>\n",
       "    </tr>\n",
       "    <tr>\n",
       "      <th>2</th>\n",
       "      <td>tuned LOFOREST</td>\n",
       "      <td>5</td>\n",
       "      <td>10000</td>\n",
       "      <td>0.015667</td>\n",
       "      <td>0.000712</td>\n",
       "    </tr>\n",
       "    <tr>\n",
       "      <th>3</th>\n",
       "      <td>boosting</td>\n",
       "      <td>5</td>\n",
       "      <td>10000</td>\n",
       "      <td>0.014922</td>\n",
       "      <td>0.000694</td>\n",
       "    </tr>\n",
       "    <tr>\n",
       "      <th>4</th>\n",
       "      <td>monte-carlo</td>\n",
       "      <td>5</td>\n",
       "      <td>10000</td>\n",
       "      <td>0.019933</td>\n",
       "      <td>0.001334</td>\n",
       "    </tr>\n",
       "  </tbody>\n",
       "</table>\n",
       "</div>"
      ],
      "text/plain": [
       "          methods  N      B       MAE        se\n",
       "0          LOCART  5  10000  0.017889  0.000840\n",
       "1        LOFOREST  5  10000  0.015944  0.000725\n",
       "2  tuned LOFOREST  5  10000  0.015667  0.000712\n",
       "3        boosting  5  10000  0.014922  0.000694\n",
       "4     monte-carlo  5  10000  0.019933  0.001334"
      ]
     },
     "execution_count": 7,
     "metadata": {},
     "output_type": "execute_result"
    }
   ],
   "source": [
    "bff_stats_weinberg_beta"
   ]
  },
  {
   "cell_type": "code",
   "execution_count": 17,
   "metadata": {},
   "outputs": [
    {
     "name": "stdout",
     "output_type": "stream",
     "text": [
      "Running naive method\n"
     ]
    },
    {
     "name": "stderr",
     "output_type": "stream",
     "text": [
      "fitting monte carlo cutoffs: 100%|██████████| 20/20 [09:12<00:00, 27.64s/it]\n"
     ]
    },
    {
     "name": "stdout",
     "output_type": "stream",
     "text": [
      "[0.33889982 0.61996692 0.846829   ... 0.45980597 1.3070426  0.43137616]\n",
      "Running all the other methods\n",
      "Obtaining tuning sample\n"
     ]
    },
    {
     "name": "stderr",
     "output_type": "stream",
     "text": [
      "Simulating all tuning sample: 100%|██████████| 350/350 [57:46<00:00,  9.90s/it]\n"
     ]
    },
    {
     "name": "stdout",
     "output_type": "stream",
     "text": [
      "Fitting tuned loforest\n"
     ]
    },
    {
     "name": "stderr",
     "output_type": "stream",
     "text": [
      "Evaluating coverage in this setting: 100%|██████████| 300/300 [1:41:47<00:00, 20.36s/it]\n"
     ]
    }
   ],
   "source": [
    "waldo_stats_weinberg_beta = compute_MAE_N_B(\n",
    "    kind = \"weinberg\", \n",
    "    score = waldo_score, \n",
    "    theta_grid_eval = thetas_valid, \n",
    "    simulator = simulator, \n",
    "    prior = prior, \n",
    "    N = 5, \n",
    "    B = 10000, \n",
    "    B_valid = 350, \n",
    "    N_lambda = 150,\n",
    "    seed = 125,\n",
    "    K = 70,\n",
    "    n_estimators = 200,\n",
    "    min_samples_leaf = 300,\n",
    "    log_transf = False,\n",
    "    split_calib = False,\n",
    "    using_beta = False,\n",
    "    )"
   ]
  },
  {
   "cell_type": "code",
   "execution_count": 18,
   "metadata": {},
   "outputs": [
    {
     "data": {
      "text/html": [
       "<div>\n",
       "<style scoped>\n",
       "    .dataframe tbody tr th:only-of-type {\n",
       "        vertical-align: middle;\n",
       "    }\n",
       "\n",
       "    .dataframe tbody tr th {\n",
       "        vertical-align: top;\n",
       "    }\n",
       "\n",
       "    .dataframe thead th {\n",
       "        text-align: right;\n",
       "    }\n",
       "</style>\n",
       "<table border=\"1\" class=\"dataframe\">\n",
       "  <thead>\n",
       "    <tr style=\"text-align: right;\">\n",
       "      <th></th>\n",
       "      <th>methods</th>\n",
       "      <th>N</th>\n",
       "      <th>B</th>\n",
       "      <th>MAE</th>\n",
       "      <th>se</th>\n",
       "    </tr>\n",
       "  </thead>\n",
       "  <tbody>\n",
       "    <tr>\n",
       "      <th>0</th>\n",
       "      <td>LOCART</td>\n",
       "      <td>5</td>\n",
       "      <td>10000</td>\n",
       "      <td>0.016878</td>\n",
       "      <td>0.000803</td>\n",
       "    </tr>\n",
       "    <tr>\n",
       "      <th>1</th>\n",
       "      <td>LOFOREST</td>\n",
       "      <td>5</td>\n",
       "      <td>10000</td>\n",
       "      <td>0.014533</td>\n",
       "      <td>0.000645</td>\n",
       "    </tr>\n",
       "    <tr>\n",
       "      <th>2</th>\n",
       "      <td>tuned LOFOREST</td>\n",
       "      <td>5</td>\n",
       "      <td>10000</td>\n",
       "      <td>0.014200</td>\n",
       "      <td>0.000588</td>\n",
       "    </tr>\n",
       "    <tr>\n",
       "      <th>3</th>\n",
       "      <td>boosting</td>\n",
       "      <td>5</td>\n",
       "      <td>10000</td>\n",
       "      <td>0.016767</td>\n",
       "      <td>0.000751</td>\n",
       "    </tr>\n",
       "    <tr>\n",
       "      <th>4</th>\n",
       "      <td>monte-carlo</td>\n",
       "      <td>5</td>\n",
       "      <td>10000</td>\n",
       "      <td>0.017167</td>\n",
       "      <td>0.000806</td>\n",
       "    </tr>\n",
       "  </tbody>\n",
       "</table>\n",
       "</div>"
      ],
      "text/plain": [
       "          methods  N      B       MAE        se\n",
       "0          LOCART  5  10000  0.016878  0.000803\n",
       "1        LOFOREST  5  10000  0.014533  0.000645\n",
       "2  tuned LOFOREST  5  10000  0.014200  0.000588\n",
       "3        boosting  5  10000  0.016767  0.000751\n",
       "4     monte-carlo  5  10000  0.017167  0.000806"
      ]
     },
     "execution_count": 18,
     "metadata": {},
     "output_type": "execute_result"
    }
   ],
   "source": [
    "waldo_stats_weinberg_beta"
   ]
  },
  {
   "cell_type": "code",
   "execution_count": 19,
   "metadata": {},
   "outputs": [
    {
     "name": "stdout",
     "output_type": "stream",
     "text": [
      "Running naive method\n"
     ]
    },
    {
     "name": "stderr",
     "output_type": "stream",
     "text": [
      "fitting monte carlo cutoffs: 100%|██████████| 20/20 [40:11<00:00, 120.57s/it]\n"
     ]
    },
    {
     "name": "stdout",
     "output_type": "stream",
     "text": [
      "[0.767 0.765 0.146 ... 0.331 0.906 0.289]\n",
      "Running all the other methods\n",
      "Obtaining tuning sample\n"
     ]
    },
    {
     "name": "stderr",
     "output_type": "stream",
     "text": [
      "Simulating all tuning sample: 100%|██████████| 350/350 [2:58:16<00:00, 30.56s/it]  \n"
     ]
    },
    {
     "name": "stdout",
     "output_type": "stream",
     "text": [
      "Fitting tuned loforest\n"
     ]
    },
    {
     "name": "stderr",
     "output_type": "stream",
     "text": [
      "Evaluating coverage in this setting: 100%|██████████| 300/300 [4:24:37<00:00, 52.93s/it]  \n"
     ]
    }
   ],
   "source": [
    "e_value_stats_weinberg_beta = compute_MAE_N_B(\n",
    "    kind = \"weinberg\", \n",
    "    score = e_value_score, \n",
    "    theta_grid_eval = thetas_valid, \n",
    "    simulator = simulator, \n",
    "    prior = prior, \n",
    "    N = 5, \n",
    "    B = 10000, \n",
    "    B_valid = 350, \n",
    "    N_lambda = 150,\n",
    "    seed = 125,\n",
    "    K = 70,\n",
    "    n_estimators = 250,\n",
    "    min_samples_leaf = 300,\n",
    "    log_transf = False,\n",
    "    split_calib = False,\n",
    "    using_beta = False,\n",
    "    )"
   ]
  },
  {
   "cell_type": "code",
   "execution_count": 20,
   "metadata": {},
   "outputs": [
    {
     "data": {
      "text/html": [
       "<div>\n",
       "<style scoped>\n",
       "    .dataframe tbody tr th:only-of-type {\n",
       "        vertical-align: middle;\n",
       "    }\n",
       "\n",
       "    .dataframe tbody tr th {\n",
       "        vertical-align: top;\n",
       "    }\n",
       "\n",
       "    .dataframe thead th {\n",
       "        text-align: right;\n",
       "    }\n",
       "</style>\n",
       "<table border=\"1\" class=\"dataframe\">\n",
       "  <thead>\n",
       "    <tr style=\"text-align: right;\">\n",
       "      <th></th>\n",
       "      <th>methods</th>\n",
       "      <th>N</th>\n",
       "      <th>B</th>\n",
       "      <th>MAE</th>\n",
       "      <th>se</th>\n",
       "    </tr>\n",
       "  </thead>\n",
       "  <tbody>\n",
       "    <tr>\n",
       "      <th>0</th>\n",
       "      <td>LOCART</td>\n",
       "      <td>5</td>\n",
       "      <td>10000</td>\n",
       "      <td>0.019778</td>\n",
       "      <td>0.000910</td>\n",
       "    </tr>\n",
       "    <tr>\n",
       "      <th>1</th>\n",
       "      <td>LOFOREST</td>\n",
       "      <td>5</td>\n",
       "      <td>10000</td>\n",
       "      <td>0.020433</td>\n",
       "      <td>0.000960</td>\n",
       "    </tr>\n",
       "    <tr>\n",
       "      <th>2</th>\n",
       "      <td>tuned LOFOREST</td>\n",
       "      <td>5</td>\n",
       "      <td>10000</td>\n",
       "      <td>0.020556</td>\n",
       "      <td>0.000947</td>\n",
       "    </tr>\n",
       "    <tr>\n",
       "      <th>3</th>\n",
       "      <td>boosting</td>\n",
       "      <td>5</td>\n",
       "      <td>10000</td>\n",
       "      <td>0.015056</td>\n",
       "      <td>0.000641</td>\n",
       "    </tr>\n",
       "    <tr>\n",
       "      <th>4</th>\n",
       "      <td>monte-carlo</td>\n",
       "      <td>5</td>\n",
       "      <td>10000</td>\n",
       "      <td>0.023878</td>\n",
       "      <td>0.001626</td>\n",
       "    </tr>\n",
       "  </tbody>\n",
       "</table>\n",
       "</div>"
      ],
      "text/plain": [
       "          methods  N      B       MAE        se\n",
       "0          LOCART  5  10000  0.019778  0.000910\n",
       "1        LOFOREST  5  10000  0.020433  0.000960\n",
       "2  tuned LOFOREST  5  10000  0.020556  0.000947\n",
       "3        boosting  5  10000  0.015056  0.000641\n",
       "4     monte-carlo  5  10000  0.023878  0.001626"
      ]
     },
     "execution_count": 20,
     "metadata": {},
     "output_type": "execute_result"
    }
   ],
   "source": [
    "e_value_stats_weinberg_beta"
   ]
  }
 ],
 "metadata": {
  "kernelspec": {
   "display_name": "base",
   "language": "python",
   "name": "python3"
  },
  "language_info": {
   "codemirror_mode": {
    "name": "ipython",
    "version": 3
   },
   "file_extension": ".py",
   "mimetype": "text/x-python",
   "name": "python",
   "nbconvert_exporter": "python",
   "pygments_lexer": "ipython3",
   "version": "3.11.5"
  }
 },
 "nbformat": 4,
 "nbformat_minor": 2
}
