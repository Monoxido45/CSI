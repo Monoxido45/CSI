{
 "cells": [
  {
   "cell_type": "code",
   "execution_count": 1,
   "id": "c9542482-ab64-4ca1-aa6f-d7dd152d29b9",
   "metadata": {
    "tags": []
   },
   "outputs": [],
   "source": [
    "from sklearn.ensemble import HistGradientBoostingRegressor\n",
    "from sklearn.ensemble import GradientBoostingRegressor\n",
    "import numpy as np\n",
    "import pandas as pd\n",
    "import seaborn as sns\n",
    "import matplotlib.pyplot as plt\n",
    "\n",
    "# loforest and locart functions\n",
    "from CP2LFI.loforest import ConformalLoforest\n",
    "from CP2LFI.scores import LambdaScore\n",
    "\n",
    "from clover import Scores\n",
    "from clover import LocartSplit\n",
    "\n",
    "from copy import deepcopy\n",
    "\n",
    "from tqdm import tqdm"
   ]
  },
  {
   "cell_type": "code",
   "execution_count": 2,
   "id": "56831574-dd29-49b9-9f85-d16a93735a83",
   "metadata": {
    "tags": []
   },
   "outputs": [],
   "source": [
    "err = {}\n",
    "alpha = 0.05\n",
    "\n",
    "# defining statistic of interest as a new score using the Scores class \n",
    "class LambdaScore(Scores):\n",
    "    def fit(self, X, y):\n",
    "        return self\n",
    "\n",
    "    def compute(self, thetas, lambdas):\n",
    "        return lambdas\n",
    "\n",
    "    def predict(self, thetas, cutoff):\n",
    "        pred = np.vstack((thetas - cutoff, thetas + cutoff)).T\n",
    "        return pred"
   ]
  },
  {
   "cell_type": "markdown",
   "id": "b53e07c7",
   "metadata": {},
   "source": [
    "# First simulation\n",
    "\n",
    "Let $\\theta$ be the parameter of interest and $\\lambda(\\theta) = |F(1; \\theta) - \\hat{F}(1)|$ be the test statistic, where $F$ is the cummulative distribution of an $\\text{exp}(\\theta)$ evaluated at 1 and $\\hat{F}$ the empirical cumulative distribution."
   ]
  },
  {
   "cell_type": "code",
   "execution_count": 3,
   "id": "05336e1d-13c0-4dfa-8532-cfc86f83e090",
   "metadata": {
    "tags": []
   },
   "outputs": [],
   "source": [
    "# o df_melted que retorna é só para printar as distribuicoes dos \n",
    "# lambdas com histplots e ver que elas mudam conforme theta\n",
    "\n",
    "def generate_parameters(thetas, N, iters):\n",
    "    values = pd.DataFrame()\n",
    "    ## Parametros para arvore\n",
    "    lambdas = []\n",
    "    thetas_ = []\n",
    "    ##\n",
    "    for theta in thetas:\n",
    "        diff = []\n",
    "        theoretical = np.e**(-theta)\n",
    "        for i in range(iters):\n",
    "            exp = np.random.exponential(1/theta, N)\n",
    "            empirical = (len([i for i in exp if i > 1])/len(exp))\n",
    "            diff.append(abs(theoretical - empirical))\n",
    "            lambdas.append(abs(theoretical - empirical))\n",
    "            thetas_.append(theta)\n",
    "        values[f\"{theta}\"] = diff\n",
    "    df_melted = values.melt(var_name='theta')\n",
    "    \n",
    "    return lambdas, thetas_, df_melted"
   ]
  },
  {
   "cell_type": "code",
   "execution_count": 4,
   "id": "09236b91-774d-4dbd-ba19-882245cb07a6",
   "metadata": {
    "tags": []
   },
   "outputs": [],
   "source": [
    "def eval_coverage(quantiles, thetas, iters = 10000, N = 10000, verbose = True):\n",
    "    # theta = parametro\n",
    "    # lambda = estatistica de teste\n",
    "    # Lambda: |P_teorica(exp > 1) - P_empirica(exp > 1)|\n",
    "    j = 0\n",
    "    err = 0\n",
    "    err_each = np.zeros(len(thetas))\n",
    "    # computando erro padrao tambem\n",
    "    for theta in thetas:\n",
    "        theoretical = np.e**(-theta)\n",
    "        lambdas_ = []\n",
    "        for i in range(iters):\n",
    "            distr = np.random.exponential(1/theta, N)\n",
    "            empirical = len([i for i in distr if i > 1])/len(distr)\n",
    "            diff = abs(theoretical - empirical)\n",
    "            lambdas_.append(diff)\n",
    "        alpha = len([i for i in lambdas_ if i >= quantiles[j]])/len(lambdas_)\n",
    "        if verbose:\n",
    "            print(f\"alpha for theta={theta} : {alpha} --- quantile: {quantiles[j]}\")\n",
    "        err += abs(alpha - 0.05)\n",
    "        err_each[j] = (alpha - 0.05)**2\n",
    "        j += 1\n",
    "    standard_error = np.std(err_each)\n",
    "    if verbose:\n",
    "        print(f\"mean absolute error: {err/j}\")\n",
    "        print(f\"standard error: {standard_error/np.sqrt(j)}\")\n",
    "    return [err/j, standard_error/np.sqrt(j)]"
   ]
  },
  {
   "cell_type": "code",
   "execution_count": 5,
   "id": "5a951038-81e6-41da-a629-5f53525a88ac",
   "metadata": {
    "tags": []
   },
   "outputs": [],
   "source": [
    "# isso foi usado em um experimento\n",
    "def params_with_random_thetas(thetas, N):\n",
    "    values = pd.DataFrame()\n",
    "    chosen_thetas = np.random.choice(thetas, N)\n",
    "    lambdas = []\n",
    "    thetas_ = []\n",
    "    ##\n",
    "    for theta in chosen_thetas:\n",
    "        theoretical = np.e**(-theta)\n",
    "        exp = np.random.exponential(1/theta, 10000)\n",
    "        empirical = len([i for i in exp if i > 1])/len(exp)\n",
    "        lambdas.append(abs(theoretical - empirical))\n",
    "        thetas_.append(theta)\n",
    "    values = pd.DataFrame({\"theta\": [str(e) for e in thetas_],\n",
    "                           \"value\": lambdas})\n",
    "        \n",
    "    return lambdas, thetas_, values"
   ]
  },
  {
   "cell_type": "code",
   "execution_count": 150,
   "id": "89cb8002",
   "metadata": {},
   "outputs": [],
   "source": [
    "thetas = np.arange(0.5, 7, 0.5)"
   ]
  },
  {
   "cell_type": "code",
   "execution_count": 151,
   "id": "d4978b91",
   "metadata": {},
   "outputs": [
    {
     "data": {
      "text/plain": [
       "array([0.5, 1. , 1.5, 2. , 2.5, 3. , 3.5, 4. , 4.5, 5. , 5.5, 6. , 6.5])"
      ]
     },
     "execution_count": 151,
     "metadata": {},
     "output_type": "execute_result"
    }
   ],
   "source": [
    "thetas"
   ]
  },
  {
   "cell_type": "code",
   "execution_count": 11,
   "id": "a5cf503b-9a5c-42a0-b518-f330e0661385",
   "metadata": {
    "tags": []
   },
   "outputs": [],
   "source": [
    "# Fica a vontade pra mudar isso aqui se quiser brincar\n",
    "thetas = np.arange(0.5, 7, 0.5)\n",
    "N = 10000\n",
    "iters = 10000\n",
    "\n",
    "np.random.seed(1250)\n",
    "lambdas, thetas_, df_melted = generate_parameters(thetas, N, iters)"
   ]
  },
  {
   "cell_type": "markdown",
   "id": "621d8a68",
   "metadata": {},
   "source": [
    "*df_melted* is the dataset with simulated $\\lambda$ values for each value of $\\theta$:"
   ]
  },
  {
   "cell_type": "code",
   "execution_count": 7,
   "id": "f0984018",
   "metadata": {},
   "outputs": [
    {
     "data": {
      "text/html": [
       "<div>\n",
       "<style scoped>\n",
       "    .dataframe tbody tr th:only-of-type {\n",
       "        vertical-align: middle;\n",
       "    }\n",
       "\n",
       "    .dataframe tbody tr th {\n",
       "        vertical-align: top;\n",
       "    }\n",
       "\n",
       "    .dataframe thead th {\n",
       "        text-align: right;\n",
       "    }\n",
       "</style>\n",
       "<table border=\"1\" class=\"dataframe\">\n",
       "  <thead>\n",
       "    <tr style=\"text-align: right;\">\n",
       "      <th></th>\n",
       "      <th>theta</th>\n",
       "      <th>value</th>\n",
       "    </tr>\n",
       "  </thead>\n",
       "  <tbody>\n",
       "    <tr>\n",
       "      <th>0</th>\n",
       "      <td>0.5</td>\n",
       "      <td>0.000369</td>\n",
       "    </tr>\n",
       "    <tr>\n",
       "      <th>1</th>\n",
       "      <td>0.5</td>\n",
       "      <td>0.003531</td>\n",
       "    </tr>\n",
       "    <tr>\n",
       "      <th>2</th>\n",
       "      <td>0.5</td>\n",
       "      <td>0.008069</td>\n",
       "    </tr>\n",
       "    <tr>\n",
       "      <th>3</th>\n",
       "      <td>0.5</td>\n",
       "      <td>0.003431</td>\n",
       "    </tr>\n",
       "    <tr>\n",
       "      <th>4</th>\n",
       "      <td>0.5</td>\n",
       "      <td>0.004531</td>\n",
       "    </tr>\n",
       "    <tr>\n",
       "      <th>5</th>\n",
       "      <td>0.5</td>\n",
       "      <td>0.004569</td>\n",
       "    </tr>\n",
       "    <tr>\n",
       "      <th>6</th>\n",
       "      <td>0.5</td>\n",
       "      <td>0.000669</td>\n",
       "    </tr>\n",
       "    <tr>\n",
       "      <th>7</th>\n",
       "      <td>0.5</td>\n",
       "      <td>0.009131</td>\n",
       "    </tr>\n",
       "    <tr>\n",
       "      <th>8</th>\n",
       "      <td>0.5</td>\n",
       "      <td>0.002969</td>\n",
       "    </tr>\n",
       "    <tr>\n",
       "      <th>9</th>\n",
       "      <td>0.5</td>\n",
       "      <td>0.005231</td>\n",
       "    </tr>\n",
       "  </tbody>\n",
       "</table>\n",
       "</div>"
      ],
      "text/plain": [
       "  theta     value\n",
       "0   0.5  0.000369\n",
       "1   0.5  0.003531\n",
       "2   0.5  0.008069\n",
       "3   0.5  0.003431\n",
       "4   0.5  0.004531\n",
       "5   0.5  0.004569\n",
       "6   0.5  0.000669\n",
       "7   0.5  0.009131\n",
       "8   0.5  0.002969\n",
       "9   0.5  0.005231"
      ]
     },
     "execution_count": 7,
     "metadata": {},
     "output_type": "execute_result"
    }
   ],
   "source": [
    "df_melted.head(10)"
   ]
  },
  {
   "cell_type": "markdown",
   "id": "d9ef3bdf",
   "metadata": {},
   "source": [
    "Implementing naive quantile estimation and prediction for any theta grid:"
   ]
  },
  {
   "cell_type": "code",
   "execution_count": 6,
   "id": "6554739d",
   "metadata": {},
   "outputs": [],
   "source": [
    "def train_naive_quantile(df_melted, thetas, alpha):\n",
    "    quantiles = {}\n",
    "    for theta in thetas:\n",
    "        quantiles[theta] = np.quantile(list(df_melted[df_melted[\"theta\"] == str(theta)].value), 1 - alpha)\n",
    "    return quantiles\n",
    "\n",
    "def predict_naive_quantile(theta_grid, quantiles_dict):\n",
    "    thetas_values = np.array(list(quantiles_dict.keys()))\n",
    "    quantiles_list = []\n",
    "    for theta in theta_grid:\n",
    "        idx = thetas_values[int(np.argmin(np.abs(theta - thetas_values)))]\n",
    "        quantiles_list.append(quantiles_dict[idx])\n",
    "    return quantiles_list"
   ]
  },
  {
   "cell_type": "markdown",
   "id": "8c2e3f71",
   "metadata": {},
   "source": [
    "We want to obtain, for each $\\theta$ a cutoff $C_{\\theta}$ to build:\n",
    "$$R(\\mathcal{D}) = \\{\\theta \\in \\Theta: \\lambda(\\theta, \\mathcal{D}) \\geq C_{\\theta} \\} ,$$\n",
    "such that:\n",
    "$$\\mathbb{P}_{\\mathcal{D}|\\theta}(\\theta \\in R(\\mathcal{D})) \\geq 1 - \\alpha \\quad \\forall \\theta \\in \\Theta.$$"
   ]
  },
  {
   "cell_type": "markdown",
   "id": "90b5928a",
   "metadata": {},
   "source": [
    "## First comparisson:"
   ]
  },
  {
   "cell_type": "markdown",
   "id": "8c2ad1a0",
   "metadata": {},
   "source": [
    "### Naive estimation"
   ]
  },
  {
   "cell_type": "code",
   "execution_count": 9,
   "id": "8ab77fe2-97bd-4471-a11f-997bfe8c1733",
   "metadata": {
    "tags": []
   },
   "outputs": [],
   "source": [
    "# isso aqui eh o que eu to chamando de naive. Basicamente pega o\n",
    "# parametro e tira o quantil dele. usei o df_melted pq era mais facil\n",
    "# por algum motivo que nao consigo lembrar de cabeça agora\n",
    "# naive = [\n",
    "#     np.quantile(list(df_melted[df_melted[\"theta\"] == str(theta)].value), 0.95)\n",
    "#    for theta in thetas\n",
    "# ]\n",
    "\n",
    "naive_quantiles = train_naive_quantile(df_melted, thetas = thetas, alpha = alpha)\n",
    "naive = predict_naive_quantile(thetas, naive_quantiles)"
   ]
  },
  {
   "cell_type": "code",
   "execution_count": 10,
   "id": "41339fa0-7179-426a-a379-5a62e8494963",
   "metadata": {
    "tags": []
   },
   "outputs": [
    {
     "name": "stdout",
     "output_type": "stream",
     "text": [
      "alpha for theta=0.5 : 0.055 --- quantile: 0.009530659712633449\n",
      "alpha for theta=1.0 : 0.0488 --- quantile: 0.009479441171442338\n",
      "alpha for theta=1.5 : 0.0497 --- quantile: 0.008230160148429838\n",
      "alpha for theta=2.0 : 0.0532 --- quantile: 0.0066352832366126935\n",
      "alpha for theta=2.5 : 0.0576 --- quantile: 0.005284998623898807\n",
      "alpha for theta=3.0 : 0.0517 --- quantile: 0.004312931632136051\n",
      "alpha for theta=3.5 : 0.0536 --- quantile: 0.003302616577681494\n",
      "alpha for theta=4.0 : 0.047 --- quantile: 0.0026843611112658157\n",
      "alpha for theta=4.5 : 0.0532 --- quantile: 0.002008996538242309\n",
      "alpha for theta=5.0 : 0.0512 --- quantile: 0.0016379469990854684\n",
      "alpha for theta=5.5 : 0.0596 --- quantile: 0.0012132285615359317\n",
      "alpha for theta=6.0 : 0.059 --- quantile: 0.0009787521766663593\n",
      "alpha for theta=6.5 : 0.0741 --- quantile: 0.000703439192977573\n",
      "mean absolute error: 0.00559230769230769\n",
      "standard error: 0.0016826107334411324\n"
     ]
    }
   ],
   "source": [
    "err[\"err_naive\"] = eval_coverage(naive, thetas)"
   ]
  },
  {
   "cell_type": "markdown",
   "id": "754cb2ab-d07e-4cba-b9ce-8ab75d59dc55",
   "metadata": {},
   "source": [
    "### Pinball oriented Regression Tree\n",
    "Fitting a regression tree that uses the pinball loss for partitioning the data:"
   ]
  },
  {
   "cell_type": "code",
   "execution_count": 11,
   "id": "13cb168e-b31b-4a2b-b909-d3a852026687",
   "metadata": {
    "tags": []
   },
   "outputs": [
    {
     "name": "stderr",
     "output_type": "stream",
     "text": [
      "/home/kuben45/anaconda3/lib/python3.11/site-packages/sklearn/ensemble/_gb.py:424: DataConversionWarning: A column-vector y was passed when a 1d array was expected. Please change the shape of y to (n_samples, ), for example using ravel().\n",
      "  y = column_or_1d(y, warn=True)\n"
     ]
    },
    {
     "data": {
      "text/html": [
       "<style>#sk-container-id-1 {color: black;}#sk-container-id-1 pre{padding: 0;}#sk-container-id-1 div.sk-toggleable {background-color: white;}#sk-container-id-1 label.sk-toggleable__label {cursor: pointer;display: block;width: 100%;margin-bottom: 0;padding: 0.3em;box-sizing: border-box;text-align: center;}#sk-container-id-1 label.sk-toggleable__label-arrow:before {content: \"▸\";float: left;margin-right: 0.25em;color: #696969;}#sk-container-id-1 label.sk-toggleable__label-arrow:hover:before {color: black;}#sk-container-id-1 div.sk-estimator:hover label.sk-toggleable__label-arrow:before {color: black;}#sk-container-id-1 div.sk-toggleable__content {max-height: 0;max-width: 0;overflow: hidden;text-align: left;background-color: #f0f8ff;}#sk-container-id-1 div.sk-toggleable__content pre {margin: 0.2em;color: black;border-radius: 0.25em;background-color: #f0f8ff;}#sk-container-id-1 input.sk-toggleable__control:checked~div.sk-toggleable__content {max-height: 200px;max-width: 100%;overflow: auto;}#sk-container-id-1 input.sk-toggleable__control:checked~label.sk-toggleable__label-arrow:before {content: \"▾\";}#sk-container-id-1 div.sk-estimator input.sk-toggleable__control:checked~label.sk-toggleable__label {background-color: #d4ebff;}#sk-container-id-1 div.sk-label input.sk-toggleable__control:checked~label.sk-toggleable__label {background-color: #d4ebff;}#sk-container-id-1 input.sk-hidden--visually {border: 0;clip: rect(1px 1px 1px 1px);clip: rect(1px, 1px, 1px, 1px);height: 1px;margin: -1px;overflow: hidden;padding: 0;position: absolute;width: 1px;}#sk-container-id-1 div.sk-estimator {font-family: monospace;background-color: #f0f8ff;border: 1px dotted black;border-radius: 0.25em;box-sizing: border-box;margin-bottom: 0.5em;}#sk-container-id-1 div.sk-estimator:hover {background-color: #d4ebff;}#sk-container-id-1 div.sk-parallel-item::after {content: \"\";width: 100%;border-bottom: 1px solid gray;flex-grow: 1;}#sk-container-id-1 div.sk-label:hover label.sk-toggleable__label {background-color: #d4ebff;}#sk-container-id-1 div.sk-serial::before {content: \"\";position: absolute;border-left: 1px solid gray;box-sizing: border-box;top: 0;bottom: 0;left: 50%;z-index: 0;}#sk-container-id-1 div.sk-serial {display: flex;flex-direction: column;align-items: center;background-color: white;padding-right: 0.2em;padding-left: 0.2em;position: relative;}#sk-container-id-1 div.sk-item {position: relative;z-index: 1;}#sk-container-id-1 div.sk-parallel {display: flex;align-items: stretch;justify-content: center;background-color: white;position: relative;}#sk-container-id-1 div.sk-item::before, #sk-container-id-1 div.sk-parallel-item::before {content: \"\";position: absolute;border-left: 1px solid gray;box-sizing: border-box;top: 0;bottom: 0;left: 50%;z-index: -1;}#sk-container-id-1 div.sk-parallel-item {display: flex;flex-direction: column;z-index: 1;position: relative;background-color: white;}#sk-container-id-1 div.sk-parallel-item:first-child::after {align-self: flex-end;width: 50%;}#sk-container-id-1 div.sk-parallel-item:last-child::after {align-self: flex-start;width: 50%;}#sk-container-id-1 div.sk-parallel-item:only-child::after {width: 0;}#sk-container-id-1 div.sk-dashed-wrapped {border: 1px dashed gray;margin: 0 0.4em 0.5em 0.4em;box-sizing: border-box;padding-bottom: 0.4em;background-color: white;}#sk-container-id-1 div.sk-label label {font-family: monospace;font-weight: bold;display: inline-block;line-height: 1.2em;}#sk-container-id-1 div.sk-label-container {text-align: center;}#sk-container-id-1 div.sk-container {/* jupyter's `normalize.less` sets `[hidden] { display: none; }` but bootstrap.min.css set `[hidden] { display: none !important; }` so we also need the `!important` here to be able to override the default hidden behavior on the sphinx rendered scikit-learn.org. See: https://github.com/scikit-learn/scikit-learn/issues/21755 */display: inline-block !important;position: relative;}#sk-container-id-1 div.sk-text-repr-fallback {display: none;}</style><div id=\"sk-container-id-1\" class=\"sk-top-container\"><div class=\"sk-text-repr-fallback\"><pre>GradientBoostingRegressor(alpha=0.95, loss=&#x27;quantile&#x27;, max_depth=None,\n",
       "                          min_samples_leaf=100, n_estimators=1)</pre><b>In a Jupyter environment, please rerun this cell to show the HTML representation or trust the notebook. <br />On GitHub, the HTML representation is unable to render, please try loading this page with nbviewer.org.</b></div><div class=\"sk-container\" hidden><div class=\"sk-item\"><div class=\"sk-estimator sk-toggleable\"><input class=\"sk-toggleable__control sk-hidden--visually\" id=\"sk-estimator-id-1\" type=\"checkbox\" checked><label for=\"sk-estimator-id-1\" class=\"sk-toggleable__label sk-toggleable__label-arrow\">GradientBoostingRegressor</label><div class=\"sk-toggleable__content\"><pre>GradientBoostingRegressor(alpha=0.95, loss=&#x27;quantile&#x27;, max_depth=None,\n",
       "                          min_samples_leaf=100, n_estimators=1)</pre></div></div></div></div></div>"
      ],
      "text/plain": [
       "GradientBoostingRegressor(alpha=0.95, loss='quantile', max_depth=None,\n",
       "                          min_samples_leaf=100, n_estimators=1)"
      ]
     },
     "execution_count": 11,
     "metadata": {},
     "output_type": "execute_result"
    }
   ],
   "source": [
    "# se colocar o boosting com 1 iteracao, ele vira uma arvore\n",
    "# e o quantile loss eh o pinball. ref: \n",
    "# https://scikit-learn.org/stable/modules/generated/sklearn.ensemble.HistGradientBoostingRegressor.html\n",
    "model = GradientBoostingRegressor(\n",
    "    loss = \"quantile\", alpha = .95, min_samples_leaf = 100, n_estimators = 1, max_depth = None\n",
    ")\n",
    "\n",
    "model_thetas = np.array(thetas_).reshape(-1, 1)\n",
    "model_lambdas = np.array(lambdas).reshape(-1, 1)\n",
    "model.fit(model_thetas, model_lambdas)"
   ]
  },
  {
   "cell_type": "markdown",
   "id": "0d7de1d1",
   "metadata": {},
   "source": [
    "testing first a locart way of obtaining the cutoffs (pinball-LOCART):"
   ]
  },
  {
   "cell_type": "code",
   "execution_count": 12,
   "id": "56de6c63",
   "metadata": {},
   "outputs": [
    {
     "data": {
      "text/plain": [
       "array([[ 3.],\n",
       "       [ 4.],\n",
       "       [ 5.],\n",
       "       [ 7.],\n",
       "       [ 9.],\n",
       "       [11.],\n",
       "       [13.],\n",
       "       [15.],\n",
       "       [16.],\n",
       "       [16.],\n",
       "       [16.],\n",
       "       [16.],\n",
       "       [16.]])"
      ]
     },
     "execution_count": 12,
     "metadata": {},
     "output_type": "execute_result"
    }
   ],
   "source": [
    "model.apply(thetas.reshape(-1, 1))"
   ]
  },
  {
   "cell_type": "markdown",
   "id": "a96f863a",
   "metadata": {},
   "source": [
    "Obtaining quantiles in the LOCART manner:"
   ]
  },
  {
   "cell_type": "code",
   "execution_count": 13,
   "id": "cb854bce",
   "metadata": {},
   "outputs": [],
   "source": [
    "leaves = np.unique(model.apply(thetas.reshape(-1, 1)))\n",
    "quantiles = {}\n",
    "for leaf in leaves:\n",
    "    indices = model.apply(model_thetas)\n",
    "    selected_lambdas = model_lambdas[indices == leaf]\n",
    "    n = selected_lambdas.shape[0]\n",
    "    quantiles[leaf]  = np.quantile(selected_lambdas, q=np.ceil((n + 1) * (1 - 0.05)) / n)\n",
    "idxs = model.apply(thetas.reshape(-1, 1))\n",
    "list_gb_quantiles = [quantiles[idx] for idx in idxs.reshape(-1)]"
   ]
  },
  {
   "cell_type": "markdown",
   "id": "2e6c1eec",
   "metadata": {},
   "source": [
    "Obtaining errors for these quantiles:"
   ]
  },
  {
   "cell_type": "code",
   "execution_count": 14,
   "id": "c2736516",
   "metadata": {},
   "outputs": [
    {
     "name": "stdout",
     "output_type": "stream",
     "text": [
      "alpha for theta=0.5 : 0.0505 --- quantile: 0.009530659712633449\n",
      "alpha for theta=1.0 : 0.0503 --- quantile: 0.009479441171442338\n",
      "alpha for theta=1.5 : 0.0479 --- quantile: 0.008230160148429838\n",
      "alpha for theta=2.0 : 0.0557 --- quantile: 0.0066352832366126935\n",
      "alpha for theta=2.5 : 0.0564 --- quantile: 0.005284998623898807\n",
      "alpha for theta=3.0 : 0.0476 --- quantile: 0.004312931632136051\n",
      "alpha for theta=3.5 : 0.054 --- quantile: 0.003302616577681494\n",
      "alpha for theta=4.0 : 0.0482 --- quantile: 0.0026843611112658157\n",
      "alpha for theta=4.5 : 0.1655 --- quantile: 0.0014910034617576905\n",
      "alpha for theta=5.0 : 0.0663 --- quantile: 0.0014910034617576905\n",
      "alpha for theta=5.5 : 0.0168 --- quantile: 0.0014910034617576905\n",
      "alpha for theta=6.0 : 0.0033 --- quantile: 0.0014910034617576905\n",
      "alpha for theta=6.5 : 0.0002 --- quantile: 0.0014910034617576905\n",
      "mean absolute error: 0.0219\n",
      "standard error: 0.008850293345855397\n"
     ]
    }
   ],
   "source": [
    "err[\"err_pinball_locart\"] = eval_coverage(list_gb_quantiles, thetas)"
   ]
  },
  {
   "cell_type": "markdown",
   "id": "81962e96",
   "metadata": {},
   "source": [
    "testing now cutoffs obtained from direct predictions of the model:"
   ]
  },
  {
   "cell_type": "code",
   "execution_count": 15,
   "id": "da230e8a-2985-4328-895b-18e4d5ef63ef",
   "metadata": {
    "tags": []
   },
   "outputs": [
    {
     "name": "stderr",
     "output_type": "stream",
     "text": [
      "/home/kuben45/anaconda3/lib/python3.11/site-packages/sklearn/utils/validation.py:1184: DataConversionWarning: A column-vector y was passed when a 1d array was expected. Please change the shape of y to (n_samples, ), for example using ravel().\n",
      "  y = column_or_1d(y, warn=True)\n"
     ]
    },
    {
     "data": {
      "text/plain": [
       "array([0.00650547, 0.00650364, 0.00637939, 0.00621593, 0.00608091,\n",
       "       0.0059837 , 0.00588267, 0.00581397, 0.00569861, 0.00569861,\n",
       "       0.00569861, 0.00569861, 0.00569861])"
      ]
     },
     "execution_count": 15,
     "metadata": {},
     "output_type": "execute_result"
    }
   ],
   "source": [
    "model = HistGradientBoostingRegressor(\n",
    "    loss = \"quantile\", quantile = .95, min_samples_leaf = 100, max_iter=1\n",
    ")\n",
    "\n",
    "model_thetas = np.array(thetas_).reshape(-1, 1)\n",
    "model_lambdas = np.array(lambdas).reshape(-1, 1)\n",
    "model.fit(model_thetas, model_lambdas)\n",
    "\n",
    "quantiles = model.predict(thetas.reshape(-1, 1))\n",
    "quantiles"
   ]
  },
  {
   "cell_type": "code",
   "execution_count": 16,
   "id": "0b7518fd-8426-4b24-a27c-19b0f16ac443",
   "metadata": {
    "tags": []
   },
   "outputs": [
    {
     "name": "stdout",
     "output_type": "stream",
     "text": [
      "alpha for theta=0.5 : 0.1709 --- quantile: 0.006505472229893283\n",
      "alpha for theta=1.0 : 0.1772 --- quantile: 0.006503639788343396\n",
      "alpha for theta=1.5 : 0.1161 --- quantile: 0.006379390243786953\n",
      "alpha for theta=2.0 : 0.0712 --- quantile: 0.006215934582291208\n",
      "alpha for theta=2.5 : 0.0296 --- quantile: 0.006080906121019819\n",
      "alpha for theta=3.0 : 0.0064 --- quantile: 0.005983699421843543\n",
      "alpha for theta=3.5 : 0.0007 --- quantile: 0.005882667916398088\n",
      "alpha for theta=4.0 : 0.0 --- quantile: 0.005813970147503357\n",
      "alpha for theta=4.5 : 0.0 --- quantile: 0.005698611558721391\n",
      "alpha for theta=5.0 : 0.0 --- quantile: 0.005698611558721391\n",
      "alpha for theta=5.5 : 0.0 --- quantile: 0.005698611558721391\n",
      "alpha for theta=6.0 : 0.0 --- quantile: 0.005698611558721391\n",
      "alpha for theta=6.5 : 0.0 --- quantile: 0.005698611558721391\n",
      "mean absolute error: 0.057592307692307707\n",
      "standard error: 0.00851158251257996\n"
     ]
    }
   ],
   "source": [
    "err[\"err_reg\"] = eval_coverage(quantiles, thetas)"
   ]
  },
  {
   "cell_type": "markdown",
   "id": "387cac18",
   "metadata": {},
   "source": [
    "### MSE-LOCART"
   ]
  },
  {
   "cell_type": "code",
   "execution_count": 17,
   "id": "5d780cbb",
   "metadata": {},
   "outputs": [],
   "source": [
    "# fitting locart to the new synthetic class\n",
    "locart_object = LocartSplit(LambdaScore, None, alpha = 0.05, is_fitted = True, split_calib = False)\n",
    "locart_quantiles = locart_object.calib(model_thetas, model_lambdas)\n",
    "idxs = locart_object.cart.apply(thetas.reshape(-1, 1))\n",
    "list_locart_quantiles = [locart_quantiles[idx] for idx in idxs]"
   ]
  },
  {
   "cell_type": "code",
   "execution_count": 18,
   "id": "aa20d554",
   "metadata": {},
   "outputs": [
    {
     "name": "stdout",
     "output_type": "stream",
     "text": [
      "alpha for theta=0.5 : 0.0484 --- quantile: 0.009530659712633449\n",
      "alpha for theta=1.0 : 0.0516 --- quantile: 0.009479441171442338\n",
      "alpha for theta=1.5 : 0.05 --- quantile: 0.008230160148429838\n",
      "alpha for theta=2.0 : 0.0547 --- quantile: 0.0066352832366126935\n",
      "alpha for theta=2.5 : 0.0503 --- quantile: 0.005284998623898807\n",
      "alpha for theta=3.0 : 0.0445 --- quantile: 0.004312931632136051\n",
      "alpha for theta=3.5 : 0.0523 --- quantile: 0.003302616577681494\n",
      "alpha for theta=4.0 : 0.0475 --- quantile: 0.0026843611112658157\n",
      "alpha for theta=4.5 : 0.053 --- quantile: 0.002008996538242309\n",
      "alpha for theta=5.0 : 0.0514 --- quantile: 0.0016379469990854684\n",
      "alpha for theta=5.5 : 0.063 --- quantile: 0.0012132285615359317\n",
      "alpha for theta=6.0 : 0.0548 --- quantile: 0.0009787521766663593\n",
      "alpha for theta=6.5 : 0.0725 --- quantile: 0.000703439192977573\n",
      "mean absolute error: 0.00486153846153846\n",
      "standard error: 0.0016695865789352656\n"
     ]
    }
   ],
   "source": [
    "err[\"err_locart\"] = eval_coverage(list_locart_quantiles, thetas)"
   ]
  },
  {
   "cell_type": "markdown",
   "id": "c250636d",
   "metadata": {},
   "source": [
    "### Conformal loforest"
   ]
  },
  {
   "cell_type": "code",
   "execution_count": 19,
   "id": "9ccb8e64",
   "metadata": {},
   "outputs": [
    {
     "data": {
      "text/plain": [
       "array([0.00953066, 0.00947944, 0.00823016, 0.00663528, 0.005285  ,\n",
       "       0.00431293, 0.00330262, 0.00268436, 0.002009  , 0.00163795,\n",
       "       0.00121323, 0.00097875, 0.00070344])"
      ]
     },
     "execution_count": 19,
     "metadata": {},
     "output_type": "execute_result"
    }
   ],
   "source": [
    "model_thetas = np.array(thetas_).reshape(-1, 1)\n",
    "model_lambdas = np.array(lambdas)\n",
    "\n",
    "loforest_object = ConformalLoforest(LambdaScore, None, alpha = 0.05, is_fitted = True, split_calib = False)\n",
    "loforest_object.calibrate(model_thetas, model_lambdas, min_samples_leaf = 300, n_estimators = 100)\n",
    "loforest_cutoffs = loforest_object.compute_cutoffs(thetas.reshape(-1, 1))\n",
    "\n",
    "loforest_cutoffs"
   ]
  },
  {
   "cell_type": "markdown",
   "id": "fde649c9",
   "metadata": {},
   "source": [
    "computing errors and assessing conformal loforest performance:"
   ]
  },
  {
   "cell_type": "code",
   "execution_count": 20,
   "id": "546cbf25",
   "metadata": {},
   "outputs": [
    {
     "name": "stdout",
     "output_type": "stream",
     "text": [
      "alpha for theta=0.5 : 0.0483 --- quantile: 0.009530659712633449\n",
      "alpha for theta=1.0 : 0.0511 --- quantile: 0.009479441171442338\n",
      "alpha for theta=1.5 : 0.0484 --- quantile: 0.008230160148429838\n",
      "alpha for theta=2.0 : 0.0545 --- quantile: 0.0066352832366126935\n",
      "alpha for theta=2.5 : 0.0556 --- quantile: 0.005284998623898807\n",
      "alpha for theta=3.0 : 0.0487 --- quantile: 0.004312931632136051\n",
      "alpha for theta=3.5 : 0.0565 --- quantile: 0.003302616577681494\n",
      "alpha for theta=4.0 : 0.0504 --- quantile: 0.0026843611112658157\n",
      "alpha for theta=4.5 : 0.057 --- quantile: 0.002008996538242309\n",
      "alpha for theta=5.0 : 0.0475 --- quantile: 0.0016379469990854684\n",
      "alpha for theta=5.5 : 0.0625 --- quantile: 0.0012132285615359317\n",
      "alpha for theta=6.0 : 0.0534 --- quantile: 0.0009787521766663593\n",
      "alpha for theta=6.5 : 0.0671 --- quantile: 0.000703439192977573\n",
      "mean absolute error: 0.005015384615384615\n",
      "standard error: 0.0013118416592396754\n"
     ]
    }
   ],
   "source": [
    "err[\"err_conformal_loforest\"] = eval_coverage(loforest_cutoffs, thetas)"
   ]
  },
  {
   "cell_type": "markdown",
   "id": "e28f0e5c",
   "metadata": {},
   "source": [
    "### Conformal pinball loforest"
   ]
  },
  {
   "cell_type": "code",
   "execution_count": 21,
   "id": "e7d49959",
   "metadata": {},
   "outputs": [],
   "source": [
    "model_thetas = np.array(thetas_).reshape(-1, 1)\n",
    "model_lambdas = np.array(lambdas)\n",
    "\n",
    "qloforest_object = ConformalLoforest(LambdaScore, None, alpha = 0.05, is_fitted = True, split_calib = False)\n",
    "qloforest_object.calibrate(model_thetas, model_lambdas, min_samples_leaf = 50, objective = \"quantile\", colsample_bynode = 1, max_features = 1)\n",
    "qloforest_cutoffs = qloforest_object.compute_cutoffs(thetas.reshape(-1, 1))"
   ]
  },
  {
   "cell_type": "code",
   "execution_count": 22,
   "id": "e5979d23",
   "metadata": {},
   "outputs": [
    {
     "name": "stdout",
     "output_type": "stream",
     "text": [
      "alpha for theta=0.5 : 0.0491 --- quantile: 0.009530659712633449\n",
      "alpha for theta=1.0 : 0.0498 --- quantile: 0.009479441171442338\n",
      "alpha for theta=1.5 : 0.0449 --- quantile: 0.008230160148429838\n",
      "alpha for theta=2.0 : 0.0552 --- quantile: 0.0066352832366126935\n",
      "alpha for theta=2.5 : 0.0562 --- quantile: 0.005284998623898807\n",
      "alpha for theta=3.0 : 0.0491 --- quantile: 0.004312931632136051\n",
      "alpha for theta=3.5 : 0.2083 --- quantile: 0.0021973834223185072\n",
      "alpha for theta=4.0 : 0.0984 --- quantile: 0.0021973834223185072\n",
      "alpha for theta=4.5 : 0.0346 --- quantile: 0.0021973834223185072\n",
      "alpha for theta=5.0 : 0.0052 --- quantile: 0.0021973834223185072\n",
      "alpha for theta=5.5 : 0.0007 --- quantile: 0.0021973834223185072\n",
      "alpha for theta=6.0 : 0.0001 --- quantile: 0.0021973834223185072\n",
      "alpha for theta=6.5 : 0.0 --- quantile: 0.0021973834223185072\n",
      "mean absolute error: 0.03343076923076923\n",
      "standard error: 0.01157182041707934\n"
     ]
    }
   ],
   "source": [
    "err[\"err_conformal_qloforest\"] = eval_coverage(qloforest_cutoffs, thetas)"
   ]
  },
  {
   "cell_type": "markdown",
   "id": "4742376f",
   "metadata": {},
   "source": [
    "### Boosting"
   ]
  },
  {
   "cell_type": "code",
   "execution_count": 23,
   "id": "30303ca5",
   "metadata": {},
   "outputs": [
    {
     "name": "stderr",
     "output_type": "stream",
     "text": [
      "/home/kuben45/anaconda3/lib/python3.11/site-packages/sklearn/utils/validation.py:1184: DataConversionWarning: A column-vector y was passed when a 1d array was expected. Please change the shape of y to (n_samples, ), for example using ravel().\n",
      "  y = column_or_1d(y, warn=True)\n"
     ]
    }
   ],
   "source": [
    "model = HistGradientBoostingRegressor(\n",
    "    loss=\"quantile\", quantile=.95\n",
    ")\n",
    "\n",
    "model_thetas = np.array(thetas_).reshape(-1, 1)\n",
    "model_lambdas = np.array(lambdas).reshape(-1, 1)\n",
    "model.fit(model_thetas, model_lambdas)\n",
    "\n",
    "boosting_quantiles = model.predict(thetas.reshape(-1, 1))"
   ]
  },
  {
   "cell_type": "markdown",
   "id": "9fb755de",
   "metadata": {},
   "source": [
    "Computing errros for booosting:"
   ]
  },
  {
   "cell_type": "code",
   "execution_count": 24,
   "id": "f790b1d8",
   "metadata": {},
   "outputs": [
    {
     "name": "stdout",
     "output_type": "stream",
     "text": [
      "alpha for theta=0.5 : 0.0549 --- quantile: 0.009448343425410819\n",
      "alpha for theta=1.0 : 0.0459 --- quantile: 0.009458380040738536\n",
      "alpha for theta=1.5 : 0.046 --- quantile: 0.008256475033573876\n",
      "alpha for theta=2.0 : 0.0532 --- quantile: 0.006661564838695426\n",
      "alpha for theta=2.5 : 0.0538 --- quantile: 0.0052906254117259435\n",
      "alpha for theta=3.0 : 0.0484 --- quantile: 0.004324743376459485\n",
      "alpha for theta=3.5 : 0.0505 --- quantile: 0.003315656780451319\n",
      "alpha for theta=4.0 : 0.0434 --- quantile: 0.002706534937532254\n",
      "alpha for theta=4.5 : 0.0551 --- quantile: 0.002034143723378032\n",
      "alpha for theta=5.0 : 0.0394 --- quantile: 0.0016647060986828082\n",
      "alpha for theta=5.5 : 0.0497 --- quantile: 0.0012488941949300608\n",
      "alpha for theta=6.0 : 0.0475 --- quantile: 0.0010117172676676067\n",
      "alpha for theta=6.5 : 0.0569 --- quantile: 0.0007395871425145823\n",
      "mean absolute error: 0.004161538461538461\n",
      "standard error: 0.0007499537233485243\n"
     ]
    }
   ],
   "source": [
    "err[\"err_boosting\"] = eval_coverage(boosting_quantiles, thetas)"
   ]
  },
  {
   "cell_type": "markdown",
   "id": "3a15cd00",
   "metadata": {},
   "source": [
    "### Plotting:"
   ]
  },
  {
   "cell_type": "code",
   "execution_count": 25,
   "id": "0f29daab",
   "metadata": {},
   "outputs": [
    {
     "name": "stderr",
     "output_type": "stream",
     "text": [
      "/tmp/ipykernel_18369/2792650886.py:2: MatplotlibDeprecationWarning: The seaborn styles shipped by Matplotlib are deprecated since 3.6, as they no longer correspond to the styles shipped by seaborn. However, they will remain available as 'seaborn-v0_8-<style>'. Alternatively, directly use the seaborn API instead.\n",
      "  plt.style.use('seaborn-white')\n"
     ]
    },
    {
     "data": {
      "image/png": "[encoded data removed]",
      "text/plain": [
       "<Figure size 1000x600 with 1 Axes>"
      ]
     },
     "metadata": {},
     "output_type": "display_data"
    }
   ],
   "source": [
    "# Use seaborn-white style\n",
    "plt.style.use('seaborn-white')\n",
    "\n",
    "# Extract keys and values from the dictionary\n",
    "keys = list(err.keys())\n",
    "values = list(err.values())\n",
    "\n",
    "# Separate mean absolute errors and standard errors\n",
    "mae = [val[0] for val in values]\n",
    "std_err = [val[1] for val in values]\n",
    "\n",
    "# Create an error bar plot\n",
    "plt.figure(figsize=(10, 6))\n",
    "plt.errorbar(keys, mae, yerr=std_err, fmt='o')\n",
    "plt.xlabel('Method')\n",
    "plt.ylabel('Error')\n",
    "plt.title('Coverage MAE error bars')\n",
    "plt.xticks(rotation=90)  # Rotate x-axis labels for better visibility\n",
    "plt.show()"
   ]
  },
  {
   "cell_type": "markdown",
   "id": "28a6a694-24ef-4aad-a6c2-e6f7de22dfc7",
   "metadata": {},
   "source": [
    "## Regressor - random"
   ]
  },
  {
   "cell_type": "code",
   "execution_count": 73,
   "id": "6cb08678",
   "metadata": {},
   "outputs": [],
   "source": [
    "err_random = {}"
   ]
  },
  {
   "cell_type": "markdown",
   "id": "177f0271",
   "metadata": {},
   "source": [
    "Generating 1000 random thetas from the grid to compute the metrics of both the gradient boosting tree and the MSE-locart:"
   ]
  },
  {
   "cell_type": "code",
   "execution_count": 74,
   "id": "1c8016f5-0161-4717-9ce3-2746528e848b",
   "metadata": {
    "tags": []
   },
   "outputs": [],
   "source": [
    "# aqui, a gente gera N (=1000) thetas aleatoriamente entre\n",
    "# os possiveis valores do grid e computa as metricas\n",
    "lambdas_r, thetas_r, data_melted = params_with_random_thetas(thetas, 1000)"
   ]
  },
  {
   "cell_type": "markdown",
   "id": "23669a5a",
   "metadata": {},
   "source": [
    "Sorting thetas to obtain naive quantiles:"
   ]
  },
  {
   "cell_type": "code",
   "execution_count": 75,
   "id": "68fab920",
   "metadata": {},
   "outputs": [],
   "source": [
    "new_thetas = deepcopy(thetas_r)\n",
    "new_thetas.sort()"
   ]
  },
  {
   "cell_type": "markdown",
   "id": "32672e0c",
   "metadata": {},
   "source": [
    "Obtaining metrics for the naive method:"
   ]
  },
  {
   "cell_type": "code",
   "execution_count": 76,
   "id": "1a10b4f7",
   "metadata": {},
   "outputs": [],
   "source": [
    "thetas_fixed = list(set(new_thetas))\n",
    "naive_quantiles = train_naive_quantile(data_melted, thetas = thetas_fixed, alpha = alpha)\n",
    "naive = predict_naive_quantile(thetas, naive_quantiles)"
   ]
  },
  {
   "cell_type": "code",
   "execution_count": 77,
   "id": "8195b535",
   "metadata": {},
   "outputs": [
    {
     "name": "stdout",
     "output_type": "stream",
     "text": [
      "alpha for theta=0.5 : 0.1006 --- quantile: 0.008040659712633392\n",
      "alpha for theta=1.0 : 0.0626 --- quantile: 0.009064720585721178\n",
      "alpha for theta=1.5 : 0.0536 --- quantile: 0.008034919925785082\n",
      "alpha for theta=2.0 : 0.1108 --- quantile: 0.005489716763387303\n",
      "alpha for theta=2.5 : 0.096 --- quantile: 0.00459549958716964\n",
      "alpha for theta=3.0 : 0.0632 --- quantile: 0.00391293163213605\n",
      "alpha for theta=3.5 : 0.0619 --- quantile: 0.0031676165776814928\n",
      "alpha for theta=4.0 : 0.0944 --- quantile: 0.0022671805556329075\n",
      "alpha for theta=4.5 : 0.0777 --- quantile: 0.001870501730878845\n",
      "alpha for theta=5.0 : 0.0415 --- quantile: 0.0016620530009145307\n",
      "alpha for theta=5.5 : 0.0585 --- quantile: 0.0012132285615359317\n",
      "alpha for theta=6.0 : 0.1515 --- quantile: 0.0007063743470000922\n",
      "alpha for theta=6.5 : 0.1249 --- quantile: 0.000603439192977573\n",
      "mean absolute error: 0.0357076923076923\n",
      "standard error: 0.008097215983962772\n"
     ]
    }
   ],
   "source": [
    "err_random[\"err_naive\"] = eval_coverage(naive, thetas)"
   ]
  },
  {
   "cell_type": "markdown",
   "id": "07fe4849",
   "metadata": {},
   "source": [
    "Obtaining metrics first for the gradient boosting unique tree:"
   ]
  },
  {
   "cell_type": "code",
   "execution_count": 78,
   "id": "6da7a7b0-fe6f-412e-8ecb-cd8ba4f198a7",
   "metadata": {
    "tags": []
   },
   "outputs": [
    {
     "name": "stderr",
     "output_type": "stream",
     "text": [
      "/home/kuben45/anaconda3/lib/python3.11/site-packages/sklearn/utils/validation.py:1184: DataConversionWarning: A column-vector y was passed when a 1d array was expected. Please change the shape of y to (n_samples, ), for example using ravel().\n",
      "  y = column_or_1d(y, warn=True)\n"
     ]
    },
    {
     "data": {
      "text/html": [
       "<style>#sk-container-id-3 {color: black;}#sk-container-id-3 pre{padding: 0;}#sk-container-id-3 div.sk-toggleable {background-color: white;}#sk-container-id-3 label.sk-toggleable__label {cursor: pointer;display: block;width: 100%;margin-bottom: 0;padding: 0.3em;box-sizing: border-box;text-align: center;}#sk-container-id-3 label.sk-toggleable__label-arrow:before {content: \"▸\";float: left;margin-right: 0.25em;color: #696969;}#sk-container-id-3 label.sk-toggleable__label-arrow:hover:before {color: black;}#sk-container-id-3 div.sk-estimator:hover label.sk-toggleable__label-arrow:before {color: black;}#sk-container-id-3 div.sk-toggleable__content {max-height: 0;max-width: 0;overflow: hidden;text-align: left;background-color: #f0f8ff;}#sk-container-id-3 div.sk-toggleable__content pre {margin: 0.2em;color: black;border-radius: 0.25em;background-color: #f0f8ff;}#sk-container-id-3 input.sk-toggleable__control:checked~div.sk-toggleable__content {max-height: 200px;max-width: 100%;overflow: auto;}#sk-container-id-3 input.sk-toggleable__control:checked~label.sk-toggleable__label-arrow:before {content: \"▾\";}#sk-container-id-3 div.sk-estimator input.sk-toggleable__control:checked~label.sk-toggleable__label {background-color: #d4ebff;}#sk-container-id-3 div.sk-label input.sk-toggleable__control:checked~label.sk-toggleable__label {background-color: #d4ebff;}#sk-container-id-3 input.sk-hidden--visually {border: 0;clip: rect(1px 1px 1px 1px);clip: rect(1px, 1px, 1px, 1px);height: 1px;margin: -1px;overflow: hidden;padding: 0;position: absolute;width: 1px;}#sk-container-id-3 div.sk-estimator {font-family: monospace;background-color: #f0f8ff;border: 1px dotted black;border-radius: 0.25em;box-sizing: border-box;margin-bottom: 0.5em;}#sk-container-id-3 div.sk-estimator:hover {background-color: #d4ebff;}#sk-container-id-3 div.sk-parallel-item::after {content: \"\";width: 100%;border-bottom: 1px solid gray;flex-grow: 1;}#sk-container-id-3 div.sk-label:hover label.sk-toggleable__label {background-color: #d4ebff;}#sk-container-id-3 div.sk-serial::before {content: \"\";position: absolute;border-left: 1px solid gray;box-sizing: border-box;top: 0;bottom: 0;left: 50%;z-index: 0;}#sk-container-id-3 div.sk-serial {display: flex;flex-direction: column;align-items: center;background-color: white;padding-right: 0.2em;padding-left: 0.2em;position: relative;}#sk-container-id-3 div.sk-item {position: relative;z-index: 1;}#sk-container-id-3 div.sk-parallel {display: flex;align-items: stretch;justify-content: center;background-color: white;position: relative;}#sk-container-id-3 div.sk-item::before, #sk-container-id-3 div.sk-parallel-item::before {content: \"\";position: absolute;border-left: 1px solid gray;box-sizing: border-box;top: 0;bottom: 0;left: 50%;z-index: -1;}#sk-container-id-3 div.sk-parallel-item {display: flex;flex-direction: column;z-index: 1;position: relative;background-color: white;}#sk-container-id-3 div.sk-parallel-item:first-child::after {align-self: flex-end;width: 50%;}#sk-container-id-3 div.sk-parallel-item:last-child::after {align-self: flex-start;width: 50%;}#sk-container-id-3 div.sk-parallel-item:only-child::after {width: 0;}#sk-container-id-3 div.sk-dashed-wrapped {border: 1px dashed gray;margin: 0 0.4em 0.5em 0.4em;box-sizing: border-box;padding-bottom: 0.4em;background-color: white;}#sk-container-id-3 div.sk-label label {font-family: monospace;font-weight: bold;display: inline-block;line-height: 1.2em;}#sk-container-id-3 div.sk-label-container {text-align: center;}#sk-container-id-3 div.sk-container {/* jupyter's `normalize.less` sets `[hidden] { display: none; }` but bootstrap.min.css set `[hidden] { display: none !important; }` so we also need the `!important` here to be able to override the default hidden behavior on the sphinx rendered scikit-learn.org. See: https://github.com/scikit-learn/scikit-learn/issues/21755 */display: inline-block !important;position: relative;}#sk-container-id-3 div.sk-text-repr-fallback {display: none;}</style><div id=\"sk-container-id-3\" class=\"sk-top-container\"><div class=\"sk-text-repr-fallback\"><pre>HistGradientBoostingRegressor(loss=&#x27;quantile&#x27;, max_iter=1, quantile=0.95)</pre><b>In a Jupyter environment, please rerun this cell to show the HTML representation or trust the notebook. <br />On GitHub, the HTML representation is unable to render, please try loading this page with nbviewer.org.</b></div><div class=\"sk-container\" hidden><div class=\"sk-item\"><div class=\"sk-estimator sk-toggleable\"><input class=\"sk-toggleable__control sk-hidden--visually\" id=\"sk-estimator-id-3\" type=\"checkbox\" checked><label for=\"sk-estimator-id-3\" class=\"sk-toggleable__label sk-toggleable__label-arrow\">HistGradientBoostingRegressor</label><div class=\"sk-toggleable__content\"><pre>HistGradientBoostingRegressor(loss=&#x27;quantile&#x27;, max_iter=1, quantile=0.95)</pre></div></div></div></div></div>"
      ],
      "text/plain": [
       "HistGradientBoostingRegressor(loss='quantile', max_iter=1, quantile=0.95)"
      ]
     },
     "execution_count": 78,
     "metadata": {},
     "output_type": "execute_result"
    }
   ],
   "source": [
    "model = HistGradientBoostingRegressor(\n",
    "    loss=\"quantile\", quantile=.95, max_iter=1\n",
    ")\n",
    "\n",
    "model_thetas = np.array(thetas_r).reshape(-1, 1)\n",
    "model_lambdas = np.array(lambdas_r).reshape(-1, 1)\n",
    "model.fit(model_thetas, model_lambdas)"
   ]
  },
  {
   "cell_type": "code",
   "execution_count": 79,
   "id": "deed538c-e372-4116-b2be-53b652a7652a",
   "metadata": {
    "tags": []
   },
   "outputs": [
    {
     "data": {
      "text/plain": [
       "array([0.00614594, 0.00624835, 0.00614537, 0.00589085, 0.00580142,\n",
       "       0.00561622, 0.00561622, 0.00561622, 0.00561622, 0.00561622,\n",
       "       0.00561622, 0.00561622, 0.00561622])"
      ]
     },
     "execution_count": 79,
     "metadata": {},
     "output_type": "execute_result"
    }
   ],
   "source": [
    "quantiles = model.predict(thetas.reshape(-1, 1))\n",
    "quantiles"
   ]
  },
  {
   "cell_type": "code",
   "execution_count": 80,
   "id": "d5812f10-db87-4129-85be-ec2daeb3a6fd",
   "metadata": {
    "tags": []
   },
   "outputs": [
    {
     "name": "stdout",
     "output_type": "stream",
     "text": [
      "alpha for theta=0.5 : 0.2099 --- quantile: 0.006145940643818421\n",
      "alpha for theta=1.0 : 0.1992 --- quantile: 0.0062483467311272\n",
      "alpha for theta=1.5 : 0.1347 --- quantile: 0.006145366665133591\n",
      "alpha for theta=2.0 : 0.0867 --- quantile: 0.005890846348893812\n",
      "alpha for theta=2.5 : 0.0367 --- quantile: 0.005801424631272046\n",
      "alpha for theta=3.0 : 0.0095 --- quantile: 0.005616223557002448\n",
      "alpha for theta=3.5 : 0.0013 --- quantile: 0.005616223557002448\n",
      "alpha for theta=4.0 : 0.0002 --- quantile: 0.005616223557002448\n",
      "alpha for theta=4.5 : 0.0 --- quantile: 0.005616223557002448\n",
      "alpha for theta=5.0 : 0.0 --- quantile: 0.005616223557002448\n",
      "alpha for theta=5.5 : 0.0 --- quantile: 0.005616223557002448\n",
      "alpha for theta=6.0 : 0.0 --- quantile: 0.005616223557002448\n",
      "alpha for theta=6.5 : 0.0 --- quantile: 0.005616223557002448\n",
      "mean absolute error: 0.06406153846153848\n",
      "standard error: 0.011453030081283538\n"
     ]
    }
   ],
   "source": [
    "err_random[\"err_reg\"] = eval_coverage(quantiles, thetas)"
   ]
  },
  {
   "cell_type": "markdown",
   "id": "34979e13",
   "metadata": {},
   "source": [
    "Obtaining the metrics for locart:"
   ]
  },
  {
   "cell_type": "code",
   "execution_count": 81,
   "id": "8c07feeb",
   "metadata": {},
   "outputs": [],
   "source": [
    "# fitting locart to the new synthetic class\n",
    "locart_object = LocartSplit(LambdaScore, None, alpha = 0.05, is_fitted = True, split_calib = False)\n",
    "locart_quantiles = locart_object.calib(model_thetas, model_lambdas, min_samples_leaf = 50)\n",
    "idxs = locart_object.cart.apply(thetas.reshape(-1, 1))\n",
    "list_locart_quantiles = [locart_quantiles[idx] for idx in idxs]"
   ]
  },
  {
   "cell_type": "code",
   "execution_count": 82,
   "id": "911da415",
   "metadata": {},
   "outputs": [
    {
     "name": "stdout",
     "output_type": "stream",
     "text": [
      "alpha for theta=0.5 : 0.0855 --- quantile: 0.00833410798849554\n",
      "alpha for theta=1.0 : 0.0299 --- quantile: 0.01054052941652833\n",
      "alpha for theta=1.5 : 0.0367 --- quantile: 0.008571427227803293\n",
      "alpha for theta=2.0 : 0.0733 --- quantile: 0.006038689382054141\n",
      "alpha for theta=2.5 : 0.0139 --- quantile: 0.006622836461736646\n",
      "alpha for theta=3.0 : 0.0433 --- quantile: 0.004315375700346861\n",
      "alpha for theta=3.5 : 0.0538 --- quantile: 0.003302616577681494\n",
      "alpha for theta=4.0 : 0.0513 --- quantile: 0.002590421717326419\n",
      "alpha for theta=4.5 : 0.0565 --- quantile: 0.001997064067818297\n",
      "alpha for theta=5.0 : 0.0305 --- quantile: 0.0017422762782190414\n",
      "alpha for theta=5.5 : 0.034 --- quantile: 0.0013867714384640682\n",
      "alpha for theta=6.0 : 0.1042 --- quantile: 0.000790516882548713\n",
      "alpha for theta=6.5 : 0.0707 --- quantile: 0.0006968094233822517\n",
      "mean absolute error: 0.019769230769230768\n",
      "standard error: 0.004006066178518865\n"
     ]
    }
   ],
   "source": [
    "err_random[\"err_locart\"] = eval_coverage(list_locart_quantiles, thetas)"
   ]
  },
  {
   "cell_type": "markdown",
   "id": "40d28bd3",
   "metadata": {},
   "source": [
    "Obtaining metrics for loforest:"
   ]
  },
  {
   "cell_type": "code",
   "execution_count": 83,
   "id": "d514de86",
   "metadata": {},
   "outputs": [
    {
     "name": "stderr",
     "output_type": "stream",
     "text": [
      "/home/kuben45/anaconda3/lib/python3.11/site-packages/sklearn/base.py:1151: DataConversionWarning: A column-vector y was passed when a 1d array was expected. Please change the shape of y to (n_samples,), for example using ravel().\n",
      "  return fit_method(estimator, *args, **kwargs)\n"
     ]
    },
    {
     "data": {
      "text/plain": [
       "array([0.00843524, 0.00843524, 0.00833466, 0.0065976 , 0.00479518,\n",
       "       0.00431811, 0.00361293, 0.00260217, 0.00211875, 0.00211875,\n",
       "       0.00088719, 0.00088719, 0.00088719])"
      ]
     },
     "execution_count": 83,
     "metadata": {},
     "output_type": "execute_result"
    }
   ],
   "source": [
    "model_thetas = np.array(thetas_r).reshape(-1, 1)\n",
    "model_lambdas = np.array(lambdas_r).reshape(-1, 1)\n",
    "\n",
    "loforest_object = ConformalLoforest(LambdaScore, None, alpha = 0.05, is_fitted = True, split_calib = False)\n",
    "loforest_object.calibrate(model_thetas, model_lambdas, min_samples_leaf = 100)\n",
    "loforest_cutoffs = loforest_object.compute_cutoffs(thetas.reshape(-1, 1))\n",
    "\n",
    "loforest_cutoffs"
   ]
  },
  {
   "cell_type": "code",
   "execution_count": 84,
   "id": "02e1195b",
   "metadata": {},
   "outputs": [
    {
     "name": "stdout",
     "output_type": "stream",
     "text": [
      "alpha for theta=0.5 : 0.0796 --- quantile: 0.008435239230598985\n",
      "alpha for theta=1.0 : 0.0749 --- quantile: 0.008435239230598985\n",
      "alpha for theta=1.5 : 0.0444 --- quantile: 0.008334655228896773\n",
      "alpha for theta=2.0 : 0.055 --- quantile: 0.006597602218043556\n",
      "alpha for theta=2.5 : 0.0807 --- quantile: 0.004795176800854647\n",
      "alpha for theta=3.0 : 0.0516 --- quantile: 0.004318110148294893\n",
      "alpha for theta=3.5 : 0.0332 --- quantile: 0.0036129316321360516\n",
      "alpha for theta=4.0 : 0.0519 --- quantile: 0.002602166747562282\n",
      "alpha for theta=4.5 : 0.0399 --- quantile: 0.002118750270189285\n",
      "alpha for theta=5.0 : 0.0098 --- quantile: 0.002118750270189285\n",
      "alpha for theta=5.5 : 0.1658 --- quantile: 0.0008871870248651305\n",
      "alpha for theta=6.0 : 0.0697 --- quantile: 0.0008871870248651305\n",
      "alpha for theta=6.5 : 0.0276 --- quantile: 0.0008871870248651305\n",
      "mean absolute error: 0.024946153846153847\n",
      "standard error: 0.007961048780069917\n"
     ]
    }
   ],
   "source": [
    "err_random[\"err_conformal_loforest\"] = eval_coverage(loforest_cutoffs, thetas)"
   ]
  },
  {
   "cell_type": "markdown",
   "id": "9df7992f",
   "metadata": {},
   "source": [
    "Obtaining metrics for pinball loforest:"
   ]
  },
  {
   "cell_type": "code",
   "execution_count": 85,
   "id": "27e28fd5",
   "metadata": {},
   "outputs": [],
   "source": [
    "model_thetas = np.array(thetas_r).reshape(-1, 1)\n",
    "model_lambdas = np.array(lambdas_r)\n",
    "\n",
    "qloforest_object = ConformalLoforest(LambdaScore, None, alpha = 0.05, is_fitted = True, split_calib = False)\n",
    "qloforest_object.calibrate(model_thetas, model_lambdas, min_samples_leaf = 50, objective = \"quantile\", colsample_bynode = 1, max_features = 1)\n",
    "qloforest_cutoffs = qloforest_object.compute_cutoffs(thetas.reshape(-1, 1))"
   ]
  },
  {
   "cell_type": "code",
   "execution_count": 86,
   "id": "02383c21",
   "metadata": {},
   "outputs": [
    {
     "name": "stdout",
     "output_type": "stream",
     "text": [
      "alpha for theta=0.5 : 0.0922 --- quantile: 0.00833410798849554\n",
      "alpha for theta=1.0 : 0.0284 --- quantile: 0.01054052941652833\n",
      "alpha for theta=1.5 : 0.0386 --- quantile: 0.008571427227803293\n",
      "alpha for theta=2.0 : 0.0771 --- quantile: 0.006038689382054141\n",
      "alpha for theta=2.5 : 0.0142 --- quantile: 0.006622836461736646\n",
      "alpha for theta=3.0 : 0.1979 --- quantile: 0.002797631804487945\n",
      "alpha for theta=3.5 : 0.1016 --- quantile: 0.002797631804487945\n",
      "alpha for theta=4.0 : 0.0367 --- quantile: 0.002797631804487945\n",
      "alpha for theta=4.5 : 0.0076 --- quantile: 0.002797631804487945\n",
      "alpha for theta=5.0 : 0.0005 --- quantile: 0.002797631804487945\n",
      "alpha for theta=5.5 : 0.0 --- quantile: 0.002797631804487945\n",
      "alpha for theta=6.0 : 0.0 --- quantile: 0.002797631804487945\n",
      "alpha for theta=6.5 : 0.0 --- quantile: 0.002797631804487945\n",
      "mean absolute error: 0.0456\n",
      "standard error: 0.009044138969749526\n"
     ]
    }
   ],
   "source": [
    "err_random[\"err_conformal_qloforest\"] = eval_coverage(qloforest_cutoffs, thetas)"
   ]
  },
  {
   "cell_type": "markdown",
   "id": "60155f50",
   "metadata": {},
   "source": [
    "Obtaining metrics for boosting:"
   ]
  },
  {
   "cell_type": "code",
   "execution_count": 87,
   "id": "8fde137d",
   "metadata": {},
   "outputs": [
    {
     "name": "stderr",
     "output_type": "stream",
     "text": [
      "/home/kuben45/anaconda3/lib/python3.11/site-packages/sklearn/utils/validation.py:1184: DataConversionWarning: A column-vector y was passed when a 1d array was expected. Please change the shape of y to (n_samples, ), for example using ravel().\n",
      "  y = column_or_1d(y, warn=True)\n"
     ]
    }
   ],
   "source": [
    "# boosting com os parametros gerados aleatoriamente\n",
    "model_r = HistGradientBoostingRegressor(\n",
    "    loss=\"quantile\", quantile=.95\n",
    ")\n",
    "\n",
    "model_thetas = np.array(thetas_r).reshape(-1, 1)\n",
    "model_lambdas = np.array(lambdas_r).reshape(-1, 1)\n",
    "model_r.fit(model_thetas, model_lambdas)\n",
    "\n",
    "boosting_quantiles_r = model_r.predict(thetas.reshape(-1, 1))"
   ]
  },
  {
   "cell_type": "code",
   "execution_count": 88,
   "id": "cb9b074e",
   "metadata": {},
   "outputs": [
    {
     "name": "stdout",
     "output_type": "stream",
     "text": [
      "alpha for theta=0.5 : 0.0971 --- quantile: 0.00804060379442343\n",
      "alpha for theta=1.0 : 0.0675 --- quantile: 0.00890467327119382\n",
      "alpha for theta=1.5 : 0.0595 --- quantile: 0.0079103412720479\n",
      "alpha for theta=2.0 : 0.1074 --- quantile: 0.005551120204557833\n",
      "alpha for theta=2.5 : 0.0935 --- quantile: 0.004595535177232001\n",
      "alpha for theta=3.0 : 0.0746 --- quantile: 0.003912978066001455\n",
      "alpha for theta=3.5 : 0.0668 --- quantile: 0.0031676874518067233\n",
      "alpha for theta=4.0 : 0.0983 --- quantile: 0.0022804634142282805\n",
      "alpha for theta=4.5 : 0.0708 --- quantile: 0.0018902457756369442\n",
      "alpha for theta=5.0 : 0.0383 --- quantile: 0.0016621638328714172\n",
      "alpha for theta=5.5 : 0.0494 --- quantile: 0.0012134188194159448\n",
      "alpha for theta=6.0 : 0.1595 --- quantile: 0.0007066071288035281\n",
      "alpha for theta=6.5 : 0.0917 --- quantile: 0.0006037189930793961\n",
      "mean absolute error: 0.03453846153846153\n",
      "standard error: 0.007620227973895962\n"
     ]
    }
   ],
   "source": [
    "err_random[\"err_boosting\"] = eval_coverage(boosting_quantiles_r, thetas)"
   ]
  },
  {
   "cell_type": "markdown",
   "id": "bf632009",
   "metadata": {},
   "source": [
    "### Plotting results:"
   ]
  },
  {
   "cell_type": "code",
   "execution_count": 93,
   "id": "4f07fc09",
   "metadata": {},
   "outputs": [
    {
     "name": "stderr",
     "output_type": "stream",
     "text": [
      "/tmp/ipykernel_18369/3233925417.py:2: MatplotlibDeprecationWarning: The seaborn styles shipped by Matplotlib are deprecated since 3.6, as they no longer correspond to the styles shipped by seaborn. However, they will remain available as 'seaborn-v0_8-<style>'. Alternatively, directly use the seaborn API instead.\n",
      "  plt.style.use('seaborn-white')\n"
     ]
    },
    {
     "data": {
      "image/png": "[encoded data removed]",
      "text/plain": [
       "<Figure size 1000x600 with 1 Axes>"
      ]
     },
     "metadata": {},
     "output_type": "display_data"
    }
   ],
   "source": [
    "# Use seaborn-white style\n",
    "plt.style.use('seaborn-white')\n",
    "\n",
    "# Extract keys and values from the dictionary\n",
    "keys = list(err_random.keys())\n",
    "values = list(err_random.values())\n",
    "\n",
    "# Separate mean absolute errors and standard errors\n",
    "mae = [val[0] for val in values]\n",
    "std_err = [val[1] for val in values]\n",
    "\n",
    "# Create an error bar plot\n",
    "plt.figure(figsize=(10, 6))\n",
    "plt.errorbar(keys, mae, yerr=std_err, fmt='o')\n",
    "plt.xlabel('Method')\n",
    "plt.ylabel('Error')\n",
    "plt.title(r'Coverage MAE error bars for randomized $\\theta$')\n",
    "plt.xticks(rotation=90)  # Rotate x-axis labels for better visibility\n",
    "plt.show()"
   ]
  },
  {
   "cell_type": "markdown",
   "id": "f65280d1-7ffc-4810-a53f-062162e59acf",
   "metadata": {},
   "source": [
    "## 30 iters in each theta"
   ]
  },
  {
   "cell_type": "code",
   "execution_count": 94,
   "id": "041128f1",
   "metadata": {},
   "outputs": [],
   "source": [
    "err_few = {}"
   ]
  },
  {
   "cell_type": "markdown",
   "id": "fb48068f",
   "metadata": {},
   "source": [
    "Making less iterations for each theta and testing the gradient boosting, naive and so on:"
   ]
  },
  {
   "cell_type": "code",
   "execution_count": 95,
   "id": "e28aaff1-67e1-43c0-8ec6-e49aff095024",
   "metadata": {
    "tags": []
   },
   "outputs": [],
   "source": [
    "# Aqui foi uma tentativa de fazer poucas iteracoes em cima de cada theta,\n",
    "# que é algo mais proximo do que acontece na realidade\n",
    "lambdas_few, thetas_few, data_melted = generate_parameters(thetas, N, 30)"
   ]
  },
  {
   "cell_type": "markdown",
   "id": "4f895d00",
   "metadata": {},
   "source": [
    "Obtaining naive cutoffs:"
   ]
  },
  {
   "cell_type": "code",
   "execution_count": 97,
   "id": "553b0866",
   "metadata": {},
   "outputs": [],
   "source": [
    "new_thetas = deepcopy(thetas_few)\n",
    "new_thetas.sort()\n",
    "\n",
    "thetas_fixed = list(set(new_thetas))\n",
    "naive_quantiles = train_naive_quantile(data_melted, thetas = thetas_fixed, alpha = alpha)\n",
    "naive = predict_naive_quantile(thetas, naive_quantiles)"
   ]
  },
  {
   "cell_type": "code",
   "execution_count": 98,
   "id": "bca3de22",
   "metadata": {},
   "outputs": [
    {
     "name": "stdout",
     "output_type": "stream",
     "text": [
      "alpha for theta=0.5 : 0.0948 --- quantile: 0.00825193402873664\n",
      "alpha for theta=1.0 : 0.0682 --- quantile: 0.008840558828557677\n",
      "alpha for theta=1.5 : 0.1588 --- quantile: 0.005871983985157008\n",
      "alpha for theta=2.0 : 0.0835 --- quantile: 0.005953528323661271\n",
      "alpha for theta=2.5 : 0.1175 --- quantile: 0.004263499862389876\n",
      "alpha for theta=3.0 : 0.0326 --- quantile: 0.0046812931632136\n",
      "alpha for theta=3.5 : 0.072 --- quantile: 0.0031002616577681516\n",
      "alpha for theta=4.0 : 0.0771 --- quantile: 0.002325638888734185\n",
      "alpha for theta=4.5 : 0.0651 --- quantile: 0.0019560034617576894\n",
      "alpha for theta=5.0 : 0.0663 --- quantile: 0.0015137946999085458\n",
      "alpha for theta=5.5 : 0.0502 --- quantile: 0.0012536771438464067\n",
      "alpha for theta=6.0 : 0.0677 --- quantile: 0.0009078752176666354\n",
      "alpha for theta=6.5 : 0.0509 --- quantile: 0.0007584391929775727\n",
      "mean absolute error: 0.029961538461538463\n",
      "standard error: 0.007887226873047817\n"
     ]
    }
   ],
   "source": [
    "err_few[\"err_naive\"] = eval_coverage(naive, thetas)"
   ]
  },
  {
   "cell_type": "code",
   "execution_count": 99,
   "id": "d994af11-91e8-4edb-987f-3843176d976d",
   "metadata": {
    "tags": []
   },
   "outputs": [
    {
     "name": "stderr",
     "output_type": "stream",
     "text": [
      "/home/kuben45/anaconda3/lib/python3.11/site-packages/sklearn/utils/validation.py:1184: DataConversionWarning: A column-vector y was passed when a 1d array was expected. Please change the shape of y to (n_samples, ), for example using ravel().\n",
      "  y = column_or_1d(y, warn=True)\n"
     ]
    },
    {
     "data": {
      "text/html": [
       "<style>#sk-container-id-4 {color: black;}#sk-container-id-4 pre{padding: 0;}#sk-container-id-4 div.sk-toggleable {background-color: white;}#sk-container-id-4 label.sk-toggleable__label {cursor: pointer;display: block;width: 100%;margin-bottom: 0;padding: 0.3em;box-sizing: border-box;text-align: center;}#sk-container-id-4 label.sk-toggleable__label-arrow:before {content: \"▸\";float: left;margin-right: 0.25em;color: #696969;}#sk-container-id-4 label.sk-toggleable__label-arrow:hover:before {color: black;}#sk-container-id-4 div.sk-estimator:hover label.sk-toggleable__label-arrow:before {color: black;}#sk-container-id-4 div.sk-toggleable__content {max-height: 0;max-width: 0;overflow: hidden;text-align: left;background-color: #f0f8ff;}#sk-container-id-4 div.sk-toggleable__content pre {margin: 0.2em;color: black;border-radius: 0.25em;background-color: #f0f8ff;}#sk-container-id-4 input.sk-toggleable__control:checked~div.sk-toggleable__content {max-height: 200px;max-width: 100%;overflow: auto;}#sk-container-id-4 input.sk-toggleable__control:checked~label.sk-toggleable__label-arrow:before {content: \"▾\";}#sk-container-id-4 div.sk-estimator input.sk-toggleable__control:checked~label.sk-toggleable__label {background-color: #d4ebff;}#sk-container-id-4 div.sk-label input.sk-toggleable__control:checked~label.sk-toggleable__label {background-color: #d4ebff;}#sk-container-id-4 input.sk-hidden--visually {border: 0;clip: rect(1px 1px 1px 1px);clip: rect(1px, 1px, 1px, 1px);height: 1px;margin: -1px;overflow: hidden;padding: 0;position: absolute;width: 1px;}#sk-container-id-4 div.sk-estimator {font-family: monospace;background-color: #f0f8ff;border: 1px dotted black;border-radius: 0.25em;box-sizing: border-box;margin-bottom: 0.5em;}#sk-container-id-4 div.sk-estimator:hover {background-color: #d4ebff;}#sk-container-id-4 div.sk-parallel-item::after {content: \"\";width: 100%;border-bottom: 1px solid gray;flex-grow: 1;}#sk-container-id-4 div.sk-label:hover label.sk-toggleable__label {background-color: #d4ebff;}#sk-container-id-4 div.sk-serial::before {content: \"\";position: absolute;border-left: 1px solid gray;box-sizing: border-box;top: 0;bottom: 0;left: 50%;z-index: 0;}#sk-container-id-4 div.sk-serial {display: flex;flex-direction: column;align-items: center;background-color: white;padding-right: 0.2em;padding-left: 0.2em;position: relative;}#sk-container-id-4 div.sk-item {position: relative;z-index: 1;}#sk-container-id-4 div.sk-parallel {display: flex;align-items: stretch;justify-content: center;background-color: white;position: relative;}#sk-container-id-4 div.sk-item::before, #sk-container-id-4 div.sk-parallel-item::before {content: \"\";position: absolute;border-left: 1px solid gray;box-sizing: border-box;top: 0;bottom: 0;left: 50%;z-index: -1;}#sk-container-id-4 div.sk-parallel-item {display: flex;flex-direction: column;z-index: 1;position: relative;background-color: white;}#sk-container-id-4 div.sk-parallel-item:first-child::after {align-self: flex-end;width: 50%;}#sk-container-id-4 div.sk-parallel-item:last-child::after {align-self: flex-start;width: 50%;}#sk-container-id-4 div.sk-parallel-item:only-child::after {width: 0;}#sk-container-id-4 div.sk-dashed-wrapped {border: 1px dashed gray;margin: 0 0.4em 0.5em 0.4em;box-sizing: border-box;padding-bottom: 0.4em;background-color: white;}#sk-container-id-4 div.sk-label label {font-family: monospace;font-weight: bold;display: inline-block;line-height: 1.2em;}#sk-container-id-4 div.sk-label-container {text-align: center;}#sk-container-id-4 div.sk-container {/* jupyter's `normalize.less` sets `[hidden] { display: none; }` but bootstrap.min.css set `[hidden] { display: none !important; }` so we also need the `!important` here to be able to override the default hidden behavior on the sphinx rendered scikit-learn.org. See: https://github.com/scikit-learn/scikit-learn/issues/21755 */display: inline-block !important;position: relative;}#sk-container-id-4 div.sk-text-repr-fallback {display: none;}</style><div id=\"sk-container-id-4\" class=\"sk-top-container\"><div class=\"sk-text-repr-fallback\"><pre>HistGradientBoostingRegressor(loss=&#x27;quantile&#x27;, max_iter=1, quantile=0.95)</pre><b>In a Jupyter environment, please rerun this cell to show the HTML representation or trust the notebook. <br />On GitHub, the HTML representation is unable to render, please try loading this page with nbviewer.org.</b></div><div class=\"sk-container\" hidden><div class=\"sk-item\"><div class=\"sk-estimator sk-toggleable\"><input class=\"sk-toggleable__control sk-hidden--visually\" id=\"sk-estimator-id-4\" type=\"checkbox\" checked><label for=\"sk-estimator-id-4\" class=\"sk-toggleable__label sk-toggleable__label-arrow\">HistGradientBoostingRegressor</label><div class=\"sk-toggleable__content\"><pre>HistGradientBoostingRegressor(loss=&#x27;quantile&#x27;, max_iter=1, quantile=0.95)</pre></div></div></div></div></div>"
      ],
      "text/plain": [
       "HistGradientBoostingRegressor(loss='quantile', max_iter=1, quantile=0.95)"
      ]
     },
     "execution_count": 99,
     "metadata": {},
     "output_type": "execute_result"
    }
   ],
   "source": [
    "model = HistGradientBoostingRegressor(\n",
    "    loss=\"quantile\", quantile=.95, max_iter=1\n",
    ")\n",
    "\n",
    "model_thetas = np.array(thetas_few).reshape(-1, 1)\n",
    "model_lambdas = np.array(lambdas_few).reshape(-1, 1)\n",
    "model.fit(model_thetas, model_lambdas)"
   ]
  },
  {
   "cell_type": "code",
   "execution_count": 100,
   "id": "0bd893a1-0a6b-4674-9f4c-05494ce731de",
   "metadata": {
    "tags": []
   },
   "outputs": [
    {
     "data": {
      "text/plain": [
       "array([0.00583355, 0.00589241, 0.00559555, 0.00560371, 0.0054347 ,\n",
       "       0.00547648, 0.00531838, 0.00519838, 0.00519838, 0.00519838,\n",
       "       0.00519838, 0.00519838, 0.0050842 ])"
      ]
     },
     "execution_count": 100,
     "metadata": {},
     "output_type": "execute_result"
    }
   ],
   "source": [
    "quantiles = model.predict(thetas.reshape(-1, 1))\n",
    "quantiles"
   ]
  },
  {
   "cell_type": "code",
   "execution_count": 101,
   "id": "f4137675-c8ff-4508-ba50-4782bd948c70",
   "metadata": {
    "tags": []
   },
   "outputs": [
    {
     "name": "stdout",
     "output_type": "stream",
     "text": [
      "alpha for theta=0.5 : 0.232 --- quantile: 0.0058335471190254454\n",
      "alpha for theta=1.0 : 0.2237 --- quantile: 0.00589240959900755\n",
      "alpha for theta=1.5 : 0.1779 --- quantile: 0.005595552114667482\n",
      "alpha for theta=2.0 : 0.0993 --- quantile: 0.005603706548517908\n",
      "alpha for theta=2.5 : 0.0459 --- quantile: 0.005434703702390769\n",
      "alpha for theta=3.0 : 0.0102 --- quantile: 0.005476483032473141\n",
      "alpha for theta=3.5 : 0.001 --- quantile: 0.005318379881928597\n",
      "alpha for theta=4.0 : 0.0 --- quantile: 0.0051983775370432195\n",
      "alpha for theta=4.5 : 0.0 --- quantile: 0.0051983775370432195\n",
      "alpha for theta=5.0 : 0.0 --- quantile: 0.0051983775370432195\n",
      "alpha for theta=5.5 : 0.0 --- quantile: 0.0051983775370432195\n",
      "alpha for theta=6.0 : 0.0 --- quantile: 0.0051983775370432195\n",
      "alpha for theta=6.5 : 0.0 --- quantile: 0.005084197635449539\n",
      "mean absolute error: 0.07121538461538464\n",
      "standard error: 0.014422869110928929\n"
     ]
    }
   ],
   "source": [
    "err_few[\"err_reg\"] = eval_coverage(quantiles, thetas)"
   ]
  },
  {
   "cell_type": "markdown",
   "id": "10eb453d",
   "metadata": {},
   "source": [
    "Testing also for MSE-locart:"
   ]
  },
  {
   "cell_type": "code",
   "execution_count": 102,
   "id": "57473b5b",
   "metadata": {},
   "outputs": [],
   "source": [
    "# fitting locart to the new synthetic class\n",
    "# changing minimal sample leaves to a new strategic value\n",
    "locart_object = LocartSplit(LambdaScore, None, alpha = 0.05, is_fitted = True, split_calib = False)\n",
    "locart_quantiles = locart_object.calib(model_thetas, model_lambdas, min_samples_leaf = 10)\n",
    "idxs = locart_object.cart.apply(thetas.reshape(-1, 1))\n",
    "list_locart_quantiles = [locart_quantiles[idx] for idx in idxs]"
   ]
  },
  {
   "cell_type": "code",
   "execution_count": 103,
   "id": "96f2b31f",
   "metadata": {},
   "outputs": [
    {
     "name": "stdout",
     "output_type": "stream",
     "text": [
      "alpha for theta=0.5 : 0.0669 --- quantile: 0.009069340287366612\n",
      "alpha for theta=1.0 : 0.0294 --- quantile: 0.01037944117144235\n",
      "alpha for theta=1.5 : 0.0584 --- quantile: 0.008030160148429832\n",
      "alpha for theta=2.0 : 0.0156 --- quantile: 0.0083352832366127\n",
      "alpha for theta=2.5 : 0.0489 --- quantile: 0.0054849986238987986\n",
      "alpha for theta=3.0 : 0.0086 --- quantile: 0.00588706836786395\n",
      "alpha for theta=3.5 : 0.0617 --- quantile: 0.0032973834223185075\n",
      "alpha for theta=4.0 : 0.0044 --- quantile: 0.003815638888734185\n",
      "alpha for theta=4.5 : 0.0884 --- quantile: 0.0018010034617576898\n",
      "alpha for theta=5.0 : 0.0295 --- quantile: 0.0018010034617576898\n",
      "alpha for theta=5.5 : 0.0026 --- quantile: 0.0019132285615359318\n",
      "alpha for theta=6.0 : 0.045 --- quantile: 0.0009793457976782281\n",
      "alpha for theta=6.5 : 0.014 --- quantile: 0.0009793457976782281\n",
      "mean absolute error: 0.025184615384615385\n",
      "standard error: 0.00429147836148365\n"
     ]
    }
   ],
   "source": [
    "err_few[\"err_locart\"] = eval_coverage(list_locart_quantiles, thetas)"
   ]
  },
  {
   "cell_type": "markdown",
   "id": "764527e3",
   "metadata": {},
   "source": [
    "Testing for conformal loforest:"
   ]
  },
  {
   "cell_type": "code",
   "execution_count": 104,
   "id": "f9f67318",
   "metadata": {},
   "outputs": [
    {
     "name": "stderr",
     "output_type": "stream",
     "text": [
      "/home/kuben45/anaconda3/lib/python3.11/site-packages/sklearn/base.py:1151: DataConversionWarning: A column-vector y was passed when a 1d array was expected. Please change the shape of y to (n_samples,), for example using ravel().\n",
      "  return fit_method(estimator, *args, **kwargs)\n"
     ]
    },
    {
     "data": {
      "text/plain": [
       "array([0.00906934, 0.01037944, 0.00803016, 0.00833528, 0.005485  ,\n",
       "       0.00588707, 0.00329738, 0.00381564, 0.002109  , 0.00166205,\n",
       "       0.00191323, 0.00112125, 0.00099656])"
      ]
     },
     "execution_count": 104,
     "metadata": {},
     "output_type": "execute_result"
    }
   ],
   "source": [
    "model_thetas = np.array(thetas_few).reshape(-1, 1)\n",
    "model_lambdas = np.array(lambdas_few).reshape(-1, 1)\n",
    "\n",
    "\n",
    "loforest_object = ConformalLoforest(LambdaScore, None, alpha = 0.05, is_fitted = True, split_calib = False)\n",
    "loforest_object.calibrate(model_thetas, model_lambdas, min_samples_leaf = 10)\n",
    "loforest_cutoffs = loforest_object.compute_cutoffs(thetas.reshape(-1, 1))\n",
    "\n",
    "loforest_cutoffs"
   ]
  },
  {
   "cell_type": "code",
   "execution_count": 105,
   "id": "d515ec05",
   "metadata": {},
   "outputs": [
    {
     "name": "stdout",
     "output_type": "stream",
     "text": [
      "alpha for theta=0.5 : 0.0628 --- quantile: 0.009069340287366612\n",
      "alpha for theta=1.0 : 0.0325 --- quantile: 0.01037944117144235\n",
      "alpha for theta=1.5 : 0.0555 --- quantile: 0.008030160148429832\n",
      "alpha for theta=2.0 : 0.0145 --- quantile: 0.0083352832366127\n",
      "alpha for theta=2.5 : 0.0461 --- quantile: 0.0054849986238987986\n",
      "alpha for theta=3.0 : 0.0091 --- quantile: 0.00588706836786395\n",
      "alpha for theta=3.5 : 0.0561 --- quantile: 0.0032973834223185075\n",
      "alpha for theta=4.0 : 0.0052 --- quantile: 0.003815638888734185\n",
      "alpha for theta=4.5 : 0.0406 --- quantile: 0.0021089965382423102\n",
      "alpha for theta=5.0 : 0.047 --- quantile: 0.0016620530009145307\n",
      "alpha for theta=5.5 : 0.0034 --- quantile: 0.0019132285615359318\n",
      "alpha for theta=6.0 : 0.028 --- quantile: 0.0011212478233336405\n",
      "alpha for theta=6.5 : 0.015 --- quantile: 0.000996560807022427\n",
      "mean absolute error: 0.02176923076923077\n",
      "standard error: 0.004425643196865591\n"
     ]
    }
   ],
   "source": [
    "err_few[\"err_conformal_loforest\"] = eval_coverage(loforest_cutoffs, thetas)"
   ]
  },
  {
   "cell_type": "markdown",
   "id": "04ddd2d7",
   "metadata": {},
   "source": [
    "Obtaining metrics for pinball loforest:"
   ]
  },
  {
   "cell_type": "code",
   "execution_count": 106,
   "id": "c96933df",
   "metadata": {},
   "outputs": [],
   "source": [
    "model_thetas = np.array(thetas_few).reshape(-1, 1)\n",
    "model_lambdas = np.array(lambdas_few)\n",
    "\n",
    "qloforest_object = ConformalLoforest(LambdaScore, None, alpha = 0.05, is_fitted = True, split_calib = False)\n",
    "qloforest_object.calibrate(model_thetas, model_lambdas, min_samples_leaf = 10, objective = \"quantile\", colsample_bynode = 1, max_features = 1)\n",
    "qloforest_cutoffs = qloforest_object.compute_cutoffs(thetas.reshape(-1, 1))"
   ]
  },
  {
   "cell_type": "code",
   "execution_count": 107,
   "id": "77917725",
   "metadata": {},
   "outputs": [
    {
     "name": "stdout",
     "output_type": "stream",
     "text": [
      "alpha for theta=0.5 : 0.0665 --- quantile: 0.009069340287366612\n",
      "alpha for theta=1.0 : 0.0323 --- quantile: 0.01037944117144235\n",
      "alpha for theta=1.5 : 0.0562 --- quantile: 0.008030160148429832\n",
      "alpha for theta=2.0 : 0.0163 --- quantile: 0.0083352832366127\n",
      "alpha for theta=2.5 : 0.2055 --- quantile: 0.003418112364892213\n",
      "alpha for theta=3.0 : 0.116 --- quantile: 0.003418112364892213\n",
      "alpha for theta=3.5 : 0.0454 --- quantile: 0.003418112364892213\n",
      "alpha for theta=4.0 : 0.0091 --- quantile: 0.003418112364892213\n",
      "alpha for theta=4.5 : 0.0007 --- quantile: 0.003418112364892213\n",
      "alpha for theta=5.0 : 0.0002 --- quantile: 0.003418112364892213\n",
      "alpha for theta=5.5 : 0.0 --- quantile: 0.003418112364892213\n",
      "alpha for theta=6.0 : 0.0 --- quantile: 0.003418112364892213\n",
      "alpha for theta=6.5 : 0.0 --- quantile: 0.003418112364892213\n",
      "mean absolute error: 0.0454\n",
      "standard error: 0.010206547382315707\n"
     ]
    }
   ],
   "source": [
    "err_few[\"err_conformal_qloforest\"] = eval_coverage(qloforest_cutoffs, thetas)"
   ]
  },
  {
   "cell_type": "markdown",
   "id": "86f9ce84",
   "metadata": {},
   "source": [
    "Testing for boosting:"
   ]
  },
  {
   "cell_type": "code",
   "execution_count": 108,
   "id": "5ccad1a2",
   "metadata": {},
   "outputs": [
    {
     "name": "stderr",
     "output_type": "stream",
     "text": [
      "/home/kuben45/anaconda3/lib/python3.11/site-packages/sklearn/utils/validation.py:1184: DataConversionWarning: A column-vector y was passed when a 1d array was expected. Please change the shape of y to (n_samples, ), for example using ravel().\n",
      "  y = column_or_1d(y, warn=True)\n"
     ]
    }
   ],
   "source": [
    "# boosting com poucas observacoes sobre cada theta\n",
    "model = HistGradientBoostingRegressor(\n",
    "    loss=\"quantile\", quantile=.95,\n",
    ")\n",
    "\n",
    "model_thetas = np.array(thetas_few).reshape(-1, 1)\n",
    "model_lambdas = np.array(lambdas_few).reshape(-1, 1)\n",
    "model.fit(model_thetas, model_lambdas)\n",
    "\n",
    "quantiles = model.predict(thetas.reshape(-1, 1))"
   ]
  },
  {
   "cell_type": "code",
   "execution_count": 109,
   "id": "f7898557",
   "metadata": {},
   "outputs": [
    {
     "name": "stdout",
     "output_type": "stream",
     "text": [
      "alpha for theta=0.5 : 0.0912 --- quantile: 0.008269529141730092\n",
      "alpha for theta=1.0 : 0.0606 --- quantile: 0.009055161300493214\n",
      "alpha for theta=1.5 : 0.1461 --- quantile: 0.006069220299636297\n",
      "alpha for theta=2.0 : 0.0644 --- quantile: 0.006337768392053191\n",
      "alpha for theta=2.5 : 0.1127 --- quantile: 0.004380939518170935\n",
      "alpha for theta=3.0 : 0.0261 --- quantile: 0.004797320096105731\n",
      "alpha for theta=3.5 : 0.064 --- quantile: 0.0031027290797136678\n",
      "alpha for theta=4.0 : 0.0719 --- quantile: 0.0024079635421097386\n",
      "alpha for theta=4.5 : 0.0547 --- quantile: 0.0020051272199606194\n",
      "alpha for theta=5.0 : 0.0487 --- quantile: 0.0016255357623683633\n",
      "alpha for theta=5.5 : 0.0411 --- quantile: 0.0012867751446389653\n",
      "alpha for theta=6.0 : 0.0454 --- quantile: 0.0009787894213087716\n",
      "alpha for theta=6.5 : 0.051 --- quantile: 0.0007592131329563885\n",
      "mean absolute error: 0.02348461538461538\n",
      "standard error: 0.007452324574028442\n"
     ]
    }
   ],
   "source": [
    "err_few[\"err_boosting\"] = eval_coverage(quantiles, thetas)"
   ]
  },
  {
   "cell_type": "markdown",
   "id": "15a69c33",
   "metadata": {},
   "source": [
    "Plotting:"
   ]
  },
  {
   "cell_type": "code",
   "execution_count": 110,
   "id": "87db398c",
   "metadata": {},
   "outputs": [
    {
     "name": "stderr",
     "output_type": "stream",
     "text": [
      "/tmp/ipykernel_18369/3357109697.py:2: MatplotlibDeprecationWarning: The seaborn styles shipped by Matplotlib are deprecated since 3.6, as they no longer correspond to the styles shipped by seaborn. However, they will remain available as 'seaborn-v0_8-<style>'. Alternatively, directly use the seaborn API instead.\n",
      "  plt.style.use('seaborn-white')\n"
     ]
    },
    {
     "data": {
      "image/png": "[encoded data removed]",
      "text/plain": [
       "<Figure size 1000x600 with 1 Axes>"
      ]
     },
     "metadata": {},
     "output_type": "display_data"
    }
   ],
   "source": [
    "# Use seaborn-white style\n",
    "plt.style.use('seaborn-white')\n",
    "\n",
    "# Extract keys and values from the dictionary\n",
    "keys = list(err_few.keys())\n",
    "values = list(err_few.values())\n",
    "\n",
    "# Separate mean absolute errors and standard errors\n",
    "mae = [val[0] for val in values]\n",
    "std_err = [val[1] for val in values]\n",
    "\n",
    "# Create an error bar plot\n",
    "plt.figure(figsize=(10, 6))\n",
    "plt.errorbar(keys, mae, yerr=std_err, fmt='o')\n",
    "plt.xlabel('Method')\n",
    "plt.ylabel('Error')\n",
    "plt.title(r'Coverage MAE error bars for few values in each grid element')\n",
    "plt.xticks(rotation=90)  # Rotate x-axis labels for better visibility\n",
    "plt.show()"
   ]
  },
  {
   "cell_type": "markdown",
   "id": "1ef18d2d",
   "metadata": {},
   "source": [
    "# Comparing naive to locart, conformal loforest and boosting for out of grid points:"
   ]
  },
  {
   "cell_type": "code",
   "execution_count": 87,
   "id": "793f2794",
   "metadata": {},
   "outputs": [],
   "source": [
    "def eval_coverage_new_grid(theta_grid, quantiles, iters = 10000, N = 10000):\n",
    "    # theta = parametro\n",
    "    # lambda = estatistica de teste\n",
    "    # Lambda: |P_teorica(exp > 1) - P_empirica(exp > 1)|\n",
    "    j = 0\n",
    "    err = 0\n",
    "    err_each = np.zeros(theta_grid.shape[0])\n",
    "    # computando erro padrao tambem\n",
    "    for theta in theta_grid:\n",
    "        theoretical = np.e**(-theta)\n",
    "        lambdas_ = []\n",
    "        for i in range(iters):\n",
    "            distr = np.random.exponential(1/theta, N)\n",
    "            empirical = len([i for i in distr if i > 1])/len(distr)\n",
    "            diff = abs(theoretical - empirical)\n",
    "            lambdas_.append(diff)\n",
    "        alpha = len([i for i in lambdas_ if i >= quantiles[j]])/len(lambdas_)\n",
    "        print(f\"alpha for theta={theta} : {alpha} --- quantile: {quantiles[j]}\")\n",
    "        err += abs(alpha - 0.05)\n",
    "        err_each[j] = abs(alpha - 0.05)\n",
    "        j += 1\n",
    "    print(f\"mean absolute error: {err/j}\")\n",
    "    standard_error = np.std(err_each)\n",
    "    print(f\"standard error: {standard_error/np.sqrt(j)}\")\n",
    "    return [err/j, standard_error/np.sqrt(j)]"
   ]
  },
  {
   "cell_type": "markdown",
   "id": "b225ca17",
   "metadata": {},
   "source": [
    "Generating random grid points:"
   ]
  },
  {
   "cell_type": "code",
   "execution_count": null,
   "id": "acfa926e",
   "metadata": {},
   "outputs": [],
   "source": [
    "np.random.seed(1250)\n",
    "random_theta_grid = np.random.uniform(0, 7, 20)\n",
    "err_random_grid = {}\n",
    "\n",
    "# model thetas for locart, loforest and boosting\n",
    "model_thetas = np.array(thetas_).reshape(-1, 1)\n",
    "model_lambdas = np.array(lambdas)"
   ]
  },
  {
   "cell_type": "markdown",
   "id": "d5f04256",
   "metadata": {},
   "source": [
    "Obtaining the quantiles for each method: Locart, Loforest, Boosting and Naive."
   ]
  },
  {
   "cell_type": "code",
   "execution_count": null,
   "id": "99c04c1e",
   "metadata": {},
   "outputs": [
    {
     "name": "stdout",
     "output_type": "stream",
     "text": [
      "alpha for theta=0.30275232042893696 : 0.0274 --- quantile: 0.009530659712633449\n",
      "alpha for theta=1.2411049560396177 : 0.0366 --- quantile: 0.009479441171442338\n",
      "alpha for theta=0.4083525026586644 : 0.0431 --- quantile: 0.009530659712633449\n",
      "alpha for theta=1.1196895413602677 : 0.043 --- quantile: 0.009479441171442338\n",
      "alpha for theta=3.4200838573417056 : 0.0593 --- quantile: 0.003302616577681494\n",
      "alpha for theta=1.9261873242851286 : 0.0571 --- quantile: 0.0066352832366126935\n",
      "alpha for theta=1.830834771124082 : 0.0723 --- quantile: 0.0066352832366126935\n",
      "alpha for theta=4.820033691255512 : 0.0707 --- quantile: 0.0016379469990854684\n",
      "alpha for theta=5.262142812213676 : 0.0918 --- quantile: 0.0012132285615359317\n",
      "alpha for theta=2.429114271837263 : 0.0627 --- quantile: 0.005284998623898807\n",
      "alpha for theta=0.7075902889591793 : 0.0585 --- quantile: 0.009530659712633449\n",
      "alpha for theta=2.25966809806648 : 0.0854 --- quantile: 0.005284998623898807\n",
      "alpha for theta=5.3851792923277175 : 0.0778 --- quantile: 0.0012132285615359317\n",
      "alpha for theta=6.073430391642602 : 0.0449 --- quantile: 0.0009787521766663593\n",
      "alpha for theta=5.464922471193592 : 0.0622 --- quantile: 0.0012132285615359317\n",
      "alpha for theta=5.505731352976682 : 0.0562 --- quantile: 0.0012132285615359317\n",
      "alpha for theta=5.291871356978555 : 0.085 --- quantile: 0.0012132285615359317\n",
      "alpha for theta=2.8995725181895837 : 0.0606 --- quantile: 0.004312931632136051\n",
      "alpha for theta=6.514790425294626 : 0.0681 --- quantile: 0.000703439192977573\n",
      "alpha for theta=4.308704764345565 : 0.0802 --- quantile: 0.002008996538242309\n",
      "mean absolute error: 0.017644999999999997\n",
      "standard error: 0.0024595576329901276\n",
      "alpha for theta=0.30275232042893696 : 0.0298 --- quantile: 0.009530659712633449\n",
      "alpha for theta=1.2411049560396177 : 0.038 --- quantile: 0.009479441171442338\n",
      "alpha for theta=0.4083525026586644 : 0.0469 --- quantile: 0.009530659712633449\n",
      "alpha for theta=1.1196895413602677 : 0.0431 --- quantile: 0.009479441171442338\n",
      "alpha for theta=3.4200838573417056 : 0.0607 --- quantile: 0.003302616577681494\n",
      "alpha for theta=1.9261873242851286 : 0.06 --- quantile: 0.0066352832366126935\n",
      "alpha for theta=1.830834771124082 : 0.0691 --- quantile: 0.0066352832366126935\n",
      "alpha for theta=4.820033691255512 : 0.0621 --- quantile: 0.0016379469990854684\n",
      "alpha for theta=5.262142812213676 : 0.0938 --- quantile: 0.0012132285615359317\n",
      "alpha for theta=2.429114271837263 : 0.0645 --- quantile: 0.005284998623898807\n",
      "alpha for theta=0.7075902889591793 : 0.0567 --- quantile: 0.009530659712633449\n",
      "alpha for theta=2.25966809806648 : 0.0866 --- quantile: 0.005284998623898807\n",
      "alpha for theta=5.3851792923277175 : 0.0796 --- quantile: 0.0012132285615359317\n",
      "alpha for theta=6.073430391642602 : 0.0481 --- quantile: 0.0009787521766663593\n",
      "alpha for theta=5.464922471193592 : 0.0609 --- quantile: 0.0012132285615359317\n",
      "alpha for theta=5.505731352976682 : 0.0605 --- quantile: 0.0012132285615359317\n",
      "alpha for theta=5.291871356978555 : 0.0888 --- quantile: 0.0012132285615359317\n",
      "alpha for theta=2.8995725181895837 : 0.0593 --- quantile: 0.004312931632136051\n",
      "alpha for theta=6.514790425294626 : 0.0662 --- quantile: 0.000703439192977573\n",
      "alpha for theta=4.308704764345565 : 0.0802 --- quantile: 0.002008996538242309\n",
      "mean absolute error: 0.017154999999999997\n",
      "standard error: 0.0026633951546850866\n",
      "alpha for theta=0.30275232042893696 : 0.0299 --- quantile: 0.009530659712633449\n",
      "alpha for theta=1.2411049560396177 : 0.037 --- quantile: 0.009479441171442338\n",
      "alpha for theta=0.4083525026586644 : 0.0407 --- quantile: 0.009530659712633449\n",
      "alpha for theta=1.1196895413602677 : 0.0459 --- quantile: 0.009479441171442338\n",
      "alpha for theta=3.4200838573417056 : 0.0605 --- quantile: 0.003302616577681494\n",
      "alpha for theta=1.9261873242851286 : 0.0636 --- quantile: 0.0066352832366126935\n",
      "alpha for theta=1.830834771124082 : 0.0703 --- quantile: 0.0066352832366126935\n",
      "alpha for theta=4.820033691255512 : 0.0622 --- quantile: 0.0016379469990854684\n",
      "alpha for theta=5.262142812213676 : 0.0934 --- quantile: 0.0012132285615359317\n",
      "alpha for theta=2.429114271837263 : 0.0605 --- quantile: 0.005284998623898807\n",
      "alpha for theta=0.7075902889591793 : 0.0539 --- quantile: 0.009530659712633449\n",
      "alpha for theta=2.25966809806648 : 0.0898 --- quantile: 0.005284998623898807\n",
      "alpha for theta=5.3851792923277175 : 0.0766 --- quantile: 0.0012132285615359317\n",
      "alpha for theta=6.073430391642602 : 0.047 --- quantile: 0.0009787521766663593\n",
      "alpha for theta=5.464922471193592 : 0.0666 --- quantile: 0.0012132285615359317\n",
      "alpha for theta=5.505731352976682 : 0.059 --- quantile: 0.0012132285615359317\n",
      "alpha for theta=5.291871356978555 : 0.0913 --- quantile: 0.0012132285615359317\n",
      "alpha for theta=2.8995725181895837 : 0.0541 --- quantile: 0.004312931632136051\n",
      "alpha for theta=6.514790425294626 : 0.0681 --- quantile: 0.000703439192977573\n",
      "alpha for theta=4.308704764345565 : 0.083 --- quantile: 0.002008996538242309\n",
      "mean absolute error: 0.017620000000000004\n",
      "standard error: 0.002796628327111059\n",
      "alpha for theta=0.30275232042893696 : 0.0341 --- quantile: 0.009448314007382108\n",
      "alpha for theta=1.2411049560396177 : 0.0392 --- quantile: 0.009458350622709827\n",
      "alpha for theta=0.4083525026586644 : 0.0481 --- quantile: 0.009448314007382108\n",
      "alpha for theta=1.1196895413602677 : 0.0428 --- quantile: 0.009458350622709827\n",
      "alpha for theta=3.4200838573417056 : 0.0563 --- quantile: 0.003315627362422609\n",
      "alpha for theta=1.9261873242851286 : 0.0562 --- quantile: 0.006632289170164415\n",
      "alpha for theta=1.830834771124082 : 0.0649 --- quantile: 0.006632289170164415\n",
      "alpha for theta=4.820033691255512 : 0.0634 --- quantile: 0.0016644749630685442\n",
      "alpha for theta=5.262142812213676 : 0.0807 --- quantile: 0.0012493247521742253\n",
      "alpha for theta=2.429114271837263 : 0.0615 --- quantile: 0.0052905959936972325\n",
      "alpha for theta=0.7075902889591793 : 0.0611 --- quantile: 0.009448314007382108\n",
      "alpha for theta=2.25966809806648 : 0.0848 --- quantile: 0.0052905959936972325\n",
      "alpha for theta=5.3851792923277175 : 0.0637 --- quantile: 0.0012493247521742253\n",
      "alpha for theta=6.073430391642602 : 0.027 --- quantile: 0.0010158735096434377\n",
      "alpha for theta=5.464922471193592 : 0.0562 --- quantile: 0.0012493247521742253\n",
      "alpha for theta=5.505731352976682 : 0.0489 --- quantile: 0.0012493247521742253\n",
      "alpha for theta=5.291871356978555 : 0.0758 --- quantile: 0.0012493247521742253\n",
      "alpha for theta=2.8995725181895837 : 0.0586 --- quantile: 0.004324713958430776\n",
      "alpha for theta=6.514790425294626 : 0.0509 --- quantile: 0.0007381875842648212\n",
      "alpha for theta=4.308704764345565 : 0.083 --- quantile: 0.0020335936516695415\n",
      "mean absolute error: 0.013850000000000001\n",
      "standard error: 0.002270952443359393\n"
     ]
    }
   ],
   "source": [
    "# naive quantiles\n",
    "naive_quantiles = train_naive_quantile(df_melted, thetas = thetas, alpha = alpha)\n",
    "naive = predict_naive_quantile(random_theta_grid, naive_quantiles)\n",
    "err_random_grid[\"naive\"] = eval_coverage_new_grid(random_theta_grid, naive)\n",
    "\n",
    "# locart quantiles\n",
    "locart_object = LocartSplit(LambdaScore, None, alpha = 0.05, is_fitted = True, split_calib = False)\n",
    "locart_quantiles = locart_object.calib(model_thetas, model_lambdas)\n",
    "idxs = locart_object.cart.apply(random_theta_grid.reshape(-1, 1))\n",
    "list_locart_quantiles = [locart_quantiles[idx] for idx in idxs]\n",
    "err_random_grid[\"locart\"] = eval_coverage_new_grid(random_theta_grid, list_locart_quantiles)\n",
    "\n",
    "# loforest quantiles\n",
    "loforest_object = ConformalLoforest(LambdaScore, None, alpha = 0.05, is_fitted = True, split_calib = False)\n",
    "loforest_object.calibrate(model_thetas, model_lambdas, min_samples_leaf = 100)\n",
    "loforest_cutoffs = loforest_object.compute_cutoffs(random_theta_grid.reshape(-1, 1))\n",
    "err_random_grid[\"c-loforest\"] = eval_coverage_new_grid(random_theta_grid, loforest_cutoffs)\n",
    "\n",
    "# boosting quantiles\n",
    "model = HistGradientBoostingRegressor(loss=\"quantile\", quantile=.95)\n",
    "model.fit(model_thetas, model_lambdas)\n",
    "boosting_quantiles = model.predict(random_theta_grid.reshape(-1, 1))\n",
    "err_random_grid[\"boosting\"] = eval_coverage_new_grid(random_theta_grid, boosting_quantiles)"
   ]
  },
  {
   "cell_type": "markdown",
   "id": "0ff1cf71",
   "metadata": {},
   "source": [
    "Plotting results:"
   ]
  },
  {
   "cell_type": "code",
   "execution_count": null,
   "id": "15cfaebb",
   "metadata": {},
   "outputs": [
    {
     "data": {
      "image/png": "[encoded data removed]",
      "text/plain": [
       "<Figure size 1000x600 with 1 Axes>"
      ]
     },
     "metadata": {},
     "output_type": "display_data"
    }
   ],
   "source": [
    "# Extract keys and values from the dictionary\n",
    "keys = list(err_random_grid.keys())\n",
    "values = list(err_random_grid.values())\n",
    "\n",
    "# Separate mean absolute errors and standard errors\n",
    "mae = [val[0] for val in values]\n",
    "std_err = [val[1] for val in values]\n",
    "\n",
    "# Create an error bar plot\n",
    "plt.figure(figsize=(10, 6))\n",
    "plt.errorbar(keys, mae, yerr=std_err, fmt='o')\n",
    "plt.xlabel('Method')\n",
    "plt.ylabel('Error')\n",
    "plt.title('Coverage MAE error bars')\n",
    "plt.xticks(rotation=90)  # Rotate x-axis labels for better visibility\n",
    "plt.show()"
   ]
  },
  {
   "cell_type": "markdown",
   "id": "ad6ed365",
   "metadata": {},
   "source": [
    "# Generating random thetas and lambdas for training:"
   ]
  },
  {
   "cell_type": "code",
   "execution_count": 41,
   "id": "ad2404c1",
   "metadata": {},
   "outputs": [],
   "source": [
    "# fixing coarse grid\n",
    "thetas = np.arange(0.5, 7, 0.5)"
   ]
  },
  {
   "cell_type": "code",
   "execution_count": 42,
   "id": "6583597a",
   "metadata": {},
   "outputs": [],
   "source": [
    "err_random_thetas = {}"
   ]
  },
  {
   "cell_type": "markdown",
   "id": "33cca63d",
   "metadata": {},
   "source": [
    "New functions to generate random thetas and lambdas and deriving naive quantiles from random thetas:"
   ]
  },
  {
   "cell_type": "code",
   "execution_count": 102,
   "id": "faac5d5e",
   "metadata": {},
   "outputs": [],
   "source": [
    "def generate_parameters_random(n = 5000, random_seed = 45, N = 10000):\n",
    "    np.random.seed(random_seed)\n",
    "    random_theta_grid = np.random.uniform(0, 7, n)\n",
    "    lambdas = []\n",
    "    for theta in random_theta_grid:\n",
    "        theoretical = np.e**(-theta)\n",
    "        exp = np.random.exponential(1/theta, N)\n",
    "        empirical = (len([i for i in exp if i > 1])/len(exp))\n",
    "        lambdas.append(np.abs(theoretical - empirical))\n",
    "\n",
    "    values = pd.DataFrame({\"theta\": random_theta_grid,\n",
    "                           \"value\": lambdas})\n",
    "    return random_theta_grid, lambdas, values\n",
    "\n",
    "def train_naive_quantile_random(n_random, n_grid = 1000, N = 10000, lower = 0.1, upper = 7, alpha = 0.05):\n",
    "    # simulating by the a fixed theta_grid with size compatible with the amount we want to simulate\n",
    "    if int(n_random/n_grid) > 1:\n",
    "        step = (upper - lower)/int(n_random/n_grid)\n",
    "        thetas_fixed = np.arange(lower, upper, step)[:-1]\n",
    "    else:\n",
    "        step = (upper - lower)/2\n",
    "        thetas_fixed = np.array([np.arange(lower, upper, step)[1]])\n",
    "\n",
    "    quantiles = {}\n",
    "    for theta in thetas_fixed:\n",
    "        diff = []\n",
    "        theoretical = np.e**(-theta)\n",
    "        for i in range(n_grid):\n",
    "            exp = np.random.exponential(1/theta, N)\n",
    "            empirical = (len([i for i in exp if i > 1])/len(exp))\n",
    "            diff.append(abs(theoretical - empirical))\n",
    "        quantiles[theta] = np.quantile(np.array(diff), q = 1 - alpha)\n",
    "    return quantiles"
   ]
  },
  {
   "cell_type": "markdown",
   "id": "4a18ee5a",
   "metadata": {},
   "source": [
    "generating $\\theta$ random sample:"
   ]
  },
  {
   "cell_type": "code",
   "execution_count": 44,
   "id": "521485d1",
   "metadata": {},
   "outputs": [],
   "source": [
    "random_theta_grid, lambdas, data_melted = generate_parameters_random(n = 10000)"
   ]
  },
  {
   "cell_type": "markdown",
   "id": "395c0a68",
   "metadata": {},
   "source": [
    "Obtaining naive quantiles and metrics:"
   ]
  },
  {
   "cell_type": "code",
   "execution_count": 45,
   "id": "2c9a056d",
   "metadata": {},
   "outputs": [],
   "source": [
    "naive_quantiles = train_naive_quantile_random(n_random = 10000, alpha = alpha)\n",
    "naive = predict_naive_quantile(thetas, naive_quantiles)"
   ]
  },
  {
   "cell_type": "code",
   "execution_count": 46,
   "id": "bdc9f17f",
   "metadata": {},
   "outputs": [
    {
     "name": "stdout",
     "output_type": "stream",
     "text": [
      "alpha for theta=0.5 : 0.0512 --- quantile: 0.009349795282355817\n",
      "alpha for theta=1.0 : 0.0521 --- quantile: 0.009349795282355817\n",
      "alpha for theta=1.5 : 0.0467 --- quantile: 0.008362311616187279\n",
      "alpha for theta=2.0 : 0.0645 --- quantile: 0.0062776169108364616\n",
      "alpha for theta=2.5 : 0.0243 --- quantile: 0.0062776169108364616\n",
      "alpha for theta=3.0 : 0.0404 --- quantile: 0.0044312397345326535\n",
      "alpha for theta=3.5 : 0.0553 --- quantile: 0.0032753603457605744\n",
      "alpha for theta=4.0 : 0.0899 --- quantile: 0.0022924081568876462\n",
      "alpha for theta=4.5 : 0.029 --- quantile: 0.0022924081568876462\n",
      "alpha for theta=5.0 : 0.0366 --- quantile: 0.0017265032813764646\n",
      "alpha for theta=5.5 : 0.0507 --- quantile: 0.0012246411089657573\n",
      "alpha for theta=6.0 : 0.0111 --- quantile: 0.0012246411089657573\n",
      "alpha for theta=6.5 : 0.0013 --- quantile: 0.0012246411089657573\n",
      "mean absolute error: 0.017253846153846154\n",
      "standard error: 0.004375599575275341\n"
     ]
    }
   ],
   "source": [
    "err_random_thetas[\"err_naive\"] = eval_coverage(naive, thetas)"
   ]
  },
  {
   "cell_type": "code",
   "execution_count": 49,
   "id": "91b4e06c",
   "metadata": {},
   "outputs": [],
   "source": [
    "# model thetas for locart, loforest and boosting\n",
    "model_thetas = random_theta_grid.reshape(-1, 1)\n",
    "model_lambdas = np.array(lambdas)"
   ]
  },
  {
   "cell_type": "code",
   "execution_count": 50,
   "id": "b718c70e",
   "metadata": {},
   "outputs": [
    {
     "name": "stdout",
     "output_type": "stream",
     "text": [
      "alpha for theta=0.5 : 0.0485 --- quantile: 0.009724446578683129\n",
      "alpha for theta=1.0 : 0.0439 --- quantile: 0.009713847855581766\n",
      "alpha for theta=1.5 : 0.0555 --- quantile: 0.008055168846910085\n",
      "alpha for theta=2.0 : 0.0452 --- quantile: 0.006841111163422182\n",
      "alpha for theta=2.5 : 0.0398 --- quantile: 0.005628856227659591\n",
      "alpha for theta=3.0 : 0.0478 --- quantile: 0.0042836134438679375\n",
      "alpha for theta=3.5 : 0.0642 --- quantile: 0.0031185564785325103\n",
      "alpha for theta=4.0 : 0.0461 --- quantile: 0.002653232460549893\n",
      "alpha for theta=4.5 : 0.0509 --- quantile: 0.002009007844382085\n",
      "alpha for theta=5.0 : 0.0429 --- quantile: 0.0016494980637133318\n",
      "alpha for theta=5.5 : 0.0348 --- quantile: 0.0013310895023023294\n",
      "alpha for theta=6.0 : 0.07 --- quantile: 0.0008870093628994546\n",
      "alpha for theta=6.5 : 0.049 --- quantile: 0.0007328160550229512\n",
      "mean absolute error: 0.007123076923076923\n",
      "standard error: 0.0016174768079935196\n",
      "alpha for theta=0.5 : 0.0454 --- quantile: 0.009761984471854874\n",
      "alpha for theta=1.0 : 0.0535 --- quantile: 0.009351825912128091\n",
      "alpha for theta=1.5 : 0.0435 --- quantile: 0.008287024406665674\n",
      "alpha for theta=2.0 : 0.0367 --- quantile: 0.007045767362783092\n",
      "alpha for theta=2.5 : 0.027 --- quantile: 0.006016765173271628\n",
      "alpha for theta=3.0 : 0.0417 --- quantile: 0.004451345360050209\n",
      "alpha for theta=3.5 : 0.0657 --- quantile: 0.003180690618116854\n",
      "alpha for theta=4.0 : 0.0468 --- quantile: 0.002653229664785583\n",
      "alpha for theta=4.5 : 0.0517 --- quantile: 0.0020181318612431873\n",
      "alpha for theta=5.0 : 0.0491 --- quantile: 0.0015943823562642435\n",
      "alpha for theta=5.5 : 0.053 --- quantile: 0.001224435546802967\n",
      "alpha for theta=6.0 : 0.0542 --- quantile: 0.0009390271187048955\n",
      "alpha for theta=6.5 : 0.0284 --- quantile: 0.0008105972932572612\n",
      "mean absolute error: 0.008423076923076924\n",
      "standard error: 0.0020084777080383157\n",
      "alpha for theta=0.5 : 0.0819 --- quantile: 0.008607079708742364\n",
      "alpha for theta=1.0 : 0.0901 --- quantile: 0.008149737661663067\n",
      "alpha for theta=1.5 : 0.0582 --- quantile: 0.007866563587621707\n",
      "alpha for theta=2.0 : 0.0489 --- quantile: 0.006731549343093232\n",
      "alpha for theta=2.5 : 0.0339 --- quantile: 0.005748173568001628\n",
      "alpha for theta=3.0 : 0.0384 --- quantile: 0.004559701536869842\n",
      "alpha for theta=3.5 : 0.067 --- quantile: 0.003112354346023819\n",
      "alpha for theta=4.0 : 0.082 --- quantile: 0.0023781911075360486\n",
      "alpha for theta=4.5 : 0.064 --- quantile: 0.0019547487245711545\n",
      "alpha for theta=5.0 : 0.0153 --- quantile: 0.0019920236918015456\n",
      "alpha for theta=5.5 : 0.055 --- quantile: 0.001259768145840895\n",
      "alpha for theta=6.0 : 0.0701 --- quantile: 0.0008976161108887416\n",
      "alpha for theta=6.5 : 0.053 --- quantile: 0.0007407817265235757\n",
      "mean absolute error: 0.018061538461538462\n",
      "standard error: 0.0034384622003361693\n"
     ]
    }
   ],
   "source": [
    "# locart quantiles\n",
    "locart_object = LocartSplit(LambdaScore, None, alpha = 0.05, is_fitted = True, split_calib = False)\n",
    "locart_quantiles = locart_object.calib(model_thetas, model_lambdas, min_samples_leaf = 300)\n",
    "idxs = locart_object.cart.apply(thetas.reshape(-1, 1))\n",
    "list_locart_quantiles = [locart_quantiles[idx] for idx in idxs]\n",
    "err_random_thetas[\"locart\"] = eval_coverage(list_locart_quantiles, thetas)\n",
    "\n",
    "# loforest quantiles\n",
    "loforest_object = ConformalLoforest(LambdaScore, None, alpha = 0.05, is_fitted = True, split_calib = False)\n",
    "loforest_object.calibrate(model_thetas, model_lambdas, min_samples_leaf = 300)\n",
    "loforest_cutoffs = loforest_object.compute_cutoffs(thetas.reshape(-1, 1))\n",
    "err_random_thetas[\"c-loforest\"] = eval_coverage(loforest_cutoffs, thetas)\n",
    "\n",
    "# boosting quantiles\n",
    "model = HistGradientBoostingRegressor(loss=\"quantile\", quantile=.95, random_state = 105)\n",
    "model.fit(model_thetas, model_lambdas)\n",
    "boosting_quantiles = model.predict(thetas.reshape(-1, 1))\n",
    "err_random_thetas[\"boosting\"] = eval_coverage(boosting_quantiles, thetas)"
   ]
  },
  {
   "cell_type": "code",
   "execution_count": 52,
   "id": "23a91718",
   "metadata": {},
   "outputs": [
    {
     "data": {
      "image/png": "[encoded data removed]",
      "text/plain": [
       "<Figure size 1000x600 with 1 Axes>"
      ]
     },
     "metadata": {},
     "output_type": "display_data"
    }
   ],
   "source": [
    "# Extract keys and values from the dictionary\n",
    "keys = list(err_random_thetas.keys())\n",
    "values = list(err_random_thetas.values())\n",
    "\n",
    "# Separate mean absolute errors and standard errors\n",
    "mae = [val[0] for val in values]\n",
    "std_err = [val[1] for val in values]\n",
    "\n",
    "# Create an error bar plot\n",
    "plt.figure(figsize=(10, 6))\n",
    "plt.errorbar(keys, mae, yerr=std_err, fmt='o')\n",
    "plt.xlabel('Method')\n",
    "plt.ylabel('Error')\n",
    "plt.title('Coverage MAE error bars for random thetas and lambdas used in training')\n",
    "plt.xticks(rotation=90)  # Rotate x-axis labels for better visibility\n",
    "plt.show()"
   ]
  },
  {
   "cell_type": "markdown",
   "id": "aff07d08",
   "metadata": {},
   "source": [
    "# Thinner grid for $\\theta$"
   ]
  },
  {
   "cell_type": "markdown",
   "id": "78717a96",
   "metadata": {},
   "source": [
    "Increasing the number of grid elements in the interval between 0 and 7:"
   ]
  },
  {
   "cell_type": "code",
   "execution_count": 78,
   "id": "f6d12d99",
   "metadata": {},
   "outputs": [],
   "source": [
    "# Fica a vontade pra mudar isso aqui se quiser brincar\n",
    "thetas = np.arange(0.1, 7, 0.1)\n",
    "N = 10000\n",
    "# decreasing number of iteration for each theta\n",
    "iters = 700\n",
    "\n",
    "np.random.seed(1250)\n",
    "lambdas, thetas_, df_melted = generate_parameters(thetas, N, iters)"
   ]
  },
  {
   "cell_type": "code",
   "execution_count": 79,
   "id": "14b1e6bc",
   "metadata": {},
   "outputs": [],
   "source": [
    "err_thin = {}"
   ]
  },
  {
   "cell_type": "markdown",
   "id": "61837031",
   "metadata": {},
   "source": [
    "Fitting the naive method in this case:"
   ]
  },
  {
   "cell_type": "code",
   "execution_count": 80,
   "id": "0324f98f",
   "metadata": {},
   "outputs": [],
   "source": [
    "naive_quantiles = train_naive_quantile(df_melted, thetas = thetas, alpha = alpha)\n",
    "naive = predict_naive_quantile(thetas, naive_quantiles)"
   ]
  },
  {
   "cell_type": "code",
   "execution_count": 81,
   "id": "a18cb259",
   "metadata": {},
   "outputs": [],
   "source": [
    "err_thin[\"err_naive\"] = eval_coverage(naive, thetas, iters = 1000, verbose = False)"
   ]
  },
  {
   "cell_type": "markdown",
   "id": "684abd56",
   "metadata": {},
   "source": [
    "Fitting the remaining methods:"
   ]
  },
  {
   "cell_type": "code",
   "execution_count": 82,
   "id": "17a05f51",
   "metadata": {},
   "outputs": [],
   "source": [
    "# model thetas for locart, loforest and boosting\n",
    "model_thetas = np.array(thetas_).reshape(-1, 1)\n",
    "model_lambdas = np.array(lambdas)"
   ]
  },
  {
   "cell_type": "code",
   "execution_count": 83,
   "id": "c43c298f",
   "metadata": {},
   "outputs": [],
   "source": [
    "# locart quantiles\n",
    "locart_object = LocartSplit(LambdaScore, None, alpha = 0.05, is_fitted = True, split_calib = False)\n",
    "locart_quantiles = locart_object.calib(model_thetas, model_lambdas, min_samples_leaf = 150)\n",
    "idxs = locart_object.cart.apply(thetas.reshape(-1, 1))\n",
    "list_locart_quantiles = [locart_quantiles[idx] for idx in idxs]\n",
    "err_thin[\"locart\"] = eval_coverage(list_locart_quantiles, thetas,  iters = 1000, verbose = False)\n",
    "\n",
    "# loforest quantiles\n",
    "loforest_object = ConformalLoforest(LambdaScore, None, alpha = 0.05, is_fitted = True, split_calib = False)\n",
    "loforest_object.calibrate(model_thetas, model_lambdas, min_samples_leaf = 150)\n",
    "loforest_cutoffs = loforest_object.compute_cutoffs(thetas.reshape(-1, 1))\n",
    "err_thin[\"c-loforest\"] = eval_coverage(loforest_cutoffs, thetas, iters = 1000, verbose = False)\n",
    "\n",
    "# boosting quantiles\n",
    "model = HistGradientBoostingRegressor(loss=\"quantile\", quantile=.95, random_state = 105)\n",
    "model.fit(model_thetas, model_lambdas)\n",
    "boosting_quantiles = model.predict(thetas.reshape(-1, 1))\n",
    "err_thin[\"boosting\"] = eval_coverage(boosting_quantiles, thetas, iters = 1000, verbose = False)"
   ]
  },
  {
   "cell_type": "code",
   "execution_count": 84,
   "id": "709c8d2c",
   "metadata": {},
   "outputs": [
    {
     "data": {
      "image/png": "[encoded data removed]",
      "text/plain": [
       "<Figure size 1000x600 with 1 Axes>"
      ]
     },
     "metadata": {},
     "output_type": "display_data"
    }
   ],
   "source": [
    "# Extract keys and values from the dictionary\n",
    "keys = list(err_thin.keys())\n",
    "values = list(err_thin.values())\n",
    "\n",
    "# Separate mean absolute errors and standard errors\n",
    "mae = [val[0] for val in values]\n",
    "std_err = [val[1] for val in values]\n",
    "\n",
    "# Create an error bar plot\n",
    "plt.figure(figsize=(10, 6))\n",
    "plt.errorbar(keys, mae, yerr=std_err, fmt='o')\n",
    "plt.xlabel('Method')\n",
    "plt.ylabel('Error')\n",
    "plt.title('Coverage MAE error bars in a thinner grid')\n",
    "plt.xticks(rotation=90)  # Rotate x-axis labels for better visibility\n",
    "plt.show()"
   ]
  },
  {
   "cell_type": "markdown",
   "id": "e93ccd6f",
   "metadata": {},
   "source": [
    "# Randomly sampling theta and lambda and evaluating using the thinner grid"
   ]
  },
  {
   "cell_type": "code",
   "execution_count": 70,
   "id": "58447cc3",
   "metadata": {},
   "outputs": [],
   "source": [
    "# Fica a vontade pra mudar isso aqui se quiser brincar\n",
    "thetas = np.arange(0.1, 7, 0.1)\n",
    "err_random_thin_thetas = {}"
   ]
  },
  {
   "cell_type": "markdown",
   "id": "7eb2fa7e",
   "metadata": {},
   "source": [
    "Generating random $\\theta$ and $\\lambda$:"
   ]
  },
  {
   "cell_type": "code",
   "execution_count": 71,
   "id": "154001c3",
   "metadata": {},
   "outputs": [],
   "source": [
    "random_theta_grid, lambdas, data_melted = generate_parameters_random(n = 10000)"
   ]
  },
  {
   "cell_type": "code",
   "execution_count": 72,
   "id": "cfa76100",
   "metadata": {},
   "outputs": [],
   "source": [
    "naive_quantiles = train_naive_quantile_random(n_random = len(lambdas), alpha = alpha)\n",
    "naive = predict_naive_quantile(thetas, naive_quantiles)\n",
    "err_random_thin_thetas[\"err_naive\"] = eval_coverage(naive, thetas, iters = 1000, verbose = False)"
   ]
  },
  {
   "cell_type": "code",
   "execution_count": 73,
   "id": "db251143",
   "metadata": {},
   "outputs": [],
   "source": [
    "# model thetas for locart, loforest and boosting\n",
    "model_thetas = random_theta_grid.reshape(-1, 1)\n",
    "model_lambdas = np.array(lambdas)"
   ]
  },
  {
   "cell_type": "code",
   "execution_count": 74,
   "id": "05bb3574",
   "metadata": {},
   "outputs": [],
   "source": [
    "# locart quantiles\n",
    "locart_object = LocartSplit(LambdaScore, None, alpha = 0.05, is_fitted = True, split_calib = False)\n",
    "locart_quantiles = locart_object.calib(model_thetas, model_lambdas, min_samples_leaf = 150)\n",
    "idxs = locart_object.cart.apply(thetas.reshape(-1, 1))\n",
    "list_locart_quantiles = [locart_quantiles[idx] for idx in idxs]\n",
    "err_random_thin_thetas[\"locart\"] = eval_coverage(list_locart_quantiles, thetas, iters = 1000, verbose = False)\n",
    "\n",
    "# loforest quantiles\n",
    "loforest_object = ConformalLoforest(LambdaScore, None, alpha = 0.05, is_fitted = True, split_calib = False)\n",
    "loforest_object.calibrate(model_thetas, model_lambdas, min_samples_leaf = 150)\n",
    "loforest_cutoffs = loforest_object.compute_cutoffs(thetas.reshape(-1, 1))\n",
    "err_random_thin_thetas[\"c-loforest\"] = eval_coverage(loforest_cutoffs, thetas, iters = 1000, verbose = False)\n",
    "\n",
    "# boosting quantiles\n",
    "model = HistGradientBoostingRegressor(loss=\"quantile\", quantile=.95, random_state = 105)\n",
    "model.fit(model_thetas, model_lambdas)\n",
    "boosting_quantiles = model.predict(thetas.reshape(-1, 1))\n",
    "err_random_thin_thetas[\"boosting\"] = eval_coverage(boosting_quantiles, thetas, iters = 1000, verbose = False)"
   ]
  },
  {
   "cell_type": "code",
   "execution_count": 75,
   "id": "f9c2dcdd",
   "metadata": {},
   "outputs": [
    {
     "data": {
      "image/png": "[encoded data removed]",
      "text/plain": [
       "<Figure size 1000x600 with 1 Axes>"
      ]
     },
     "metadata": {},
     "output_type": "display_data"
    }
   ],
   "source": [
    "# Extract keys and values from the dictionary\n",
    "keys = list(err_random_thin_thetas.keys())\n",
    "values = list(err_random_thin_thetas.values())\n",
    "\n",
    "# Separate mean absolute errors and standard errors\n",
    "mae = [val[0] for val in values]\n",
    "std_err = [val[1] for val in values]\n",
    "\n",
    "# Create an error bar plot\n",
    "plt.figure(figsize=(10, 6))\n",
    "plt.errorbar(keys, mae, yerr=std_err, fmt='o')\n",
    "plt.xlabel('Method')\n",
    "plt.ylabel('Error')\n",
    "plt.title(r'Coverage MAE error bars in a thinner grid and random sampling $\\theta$ for calibration')\n",
    "plt.xticks(rotation=90)  # Rotate x-axis labels for better visibility\n",
    "plt.show()"
   ]
  },
  {
   "cell_type": "markdown",
   "id": "cb4aceb5",
   "metadata": {},
   "source": [
    "# Random thetas and lambdas for both training and validating coverage:"
   ]
  },
  {
   "cell_type": "code",
   "execution_count": 85,
   "id": "c62b37f4",
   "metadata": {},
   "outputs": [],
   "source": [
    "np.random.seed(1250)\n",
    "random_theta_grid_valid = np.random.uniform(0, 7, 20)\n",
    "err_random_thetas_validation = {}\n",
    "\n",
    "# training thetas and lambdas\n",
    "random_theta_grid, lambdas, data_melted = generate_parameters_random(n = 10000)\n",
    "\n",
    "# model thetas for locart, loforest and boosting\n",
    "model_thetas = random_theta_grid.reshape(-1, 1)\n",
    "model_lambdas = np.array(lambdas)"
   ]
  },
  {
   "cell_type": "code",
   "execution_count": 88,
   "id": "b89e1cbb",
   "metadata": {},
   "outputs": [
    {
     "name": "stdout",
     "output_type": "stream",
     "text": [
      "alpha for theta=0.30275232042893696 : 0.2078 --- quantile: 0.0055625819640404695\n",
      "alpha for theta=1.2411049560396177 : 0.0733 --- quantile: 0.008137688383812708\n",
      "alpha for theta=0.4083525026586644 : 0.2418 --- quantile: 0.0055625819640404695\n",
      "alpha for theta=1.1196895413602677 : 0.0526 --- quantile: 0.009245315754120251\n",
      "alpha for theta=3.4200838573417056 : 0.0705 --- quantile: 0.003224639654239428\n",
      "alpha for theta=1.9261873242851286 : 0.0661 --- quantile: 0.006422383089163541\n",
      "alpha for theta=1.830834771124082 : 0.0747 --- quantile: 0.006422383089163541\n",
      "alpha for theta=4.820033691255512 : 0.0762 --- quantile: 0.0016265032813764643\n",
      "alpha for theta=5.262142812213676 : 0.0204 --- quantile: 0.0016265032813764643\n",
      "alpha for theta=2.429114271837263 : 0.0224 --- quantile: 0.006422383089163541\n",
      "alpha for theta=0.7075902889591793 : 0.0612 --- quantile: 0.009245315754120251\n",
      "alpha for theta=2.25966809806648 : 0.0322 --- quantile: 0.006422383089163541\n",
      "alpha for theta=5.3851792923277175 : 0.0846 --- quantile: 0.0011753588910342425\n",
      "alpha for theta=6.073430391642602 : 0.0172 --- quantile: 0.0011753588910342425\n",
      "alpha for theta=5.464922471193592 : 0.0614 --- quantile: 0.0011753588910342425\n",
      "alpha for theta=5.505731352976682 : 0.0579 --- quantile: 0.0011753588910342425\n",
      "alpha for theta=5.291871356978555 : 0.0915 --- quantile: 0.0011753588910342425\n",
      "alpha for theta=2.8995725181895837 : 0.0525 --- quantile: 0.004468760265467345\n",
      "alpha for theta=6.514790425294626 : 0.0022 --- quantile: 0.0011753588910342425\n",
      "alpha for theta=4.308704764345565 : 0.027 --- quantile: 0.002492408156887645\n",
      "mean absolute error: 0.03753499999999999\n",
      "standard error: 0.010621217620875678\n"
     ]
    }
   ],
   "source": [
    "naive_quantiles = train_naive_quantile_random(n_random = 10000, alpha = alpha)\n",
    "naive = predict_naive_quantile(random_theta_grid_valid, naive_quantiles)\n",
    "\n",
    "err_random_thetas_validation[\"naive\"] = eval_coverage_new_grid(random_theta_grid_valid, naive)"
   ]
  },
  {
   "cell_type": "code",
   "execution_count": 89,
   "id": "66ab4fc0",
   "metadata": {},
   "outputs": [
    {
     "name": "stdout",
     "output_type": "stream",
     "text": [
      "alpha for theta=0.30275232042893696 : 0.0388 --- quantile: 0.009093149596122771\n",
      "alpha for theta=1.2411049560396177 : 0.0625 --- quantile: 0.008445888352873531\n",
      "alpha for theta=0.4083525026586644 : 0.055 --- quantile: 0.009093149596122771\n",
      "alpha for theta=1.1196895413602677 : 0.0781 --- quantile: 0.008445888352873531\n",
      "alpha for theta=3.4200838573417056 : 0.0738 --- quantile: 0.0031185564785325103\n",
      "alpha for theta=1.9261873242851286 : 0.0395 --- quantile: 0.007146635718579916\n",
      "alpha for theta=1.830834771124082 : 0.045 --- quantile: 0.007146635718579916\n",
      "alpha for theta=4.820033691255512 : 0.0639 --- quantile: 0.0016494980637133318\n",
      "alpha for theta=5.262142812213676 : 0.0339 --- quantile: 0.0014911403827139087\n",
      "alpha for theta=2.429114271837263 : 0.0464 --- quantile: 0.005628856227659591\n",
      "alpha for theta=0.7075902889591793 : 0.0463 --- quantile: 0.00981781096911532\n",
      "alpha for theta=2.25966809806648 : 0.026 --- quantile: 0.006841111163422182\n",
      "alpha for theta=5.3851792923277175 : 0.0463 --- quantile: 0.0013310895023023294\n",
      "alpha for theta=6.073430391642602 : 0.0743 --- quantile: 0.0008870093628994546\n",
      "alpha for theta=5.464922471193592 : 0.0453 --- quantile: 0.0013310895023023294\n",
      "alpha for theta=5.505731352976682 : 0.0437 --- quantile: 0.0013310895023023294\n",
      "alpha for theta=5.291871356978555 : 0.033 --- quantile: 0.0014911403827139087\n",
      "alpha for theta=2.8995725181895837 : 0.0576 --- quantile: 0.0042836134438679375\n",
      "alpha for theta=6.514790425294626 : 0.0451 --- quantile: 0.0007328160550229512\n",
      "alpha for theta=4.308704764345565 : 0.0375 --- quantile: 0.0023557210905882416\n",
      "mean absolute error: 0.011920000000000005\n",
      "standard error: 0.0017351599349915844\n",
      "alpha for theta=0.30275232042893696 : 0.0842 --- quantile: 0.007677373525118501\n",
      "alpha for theta=1.2411049560396177 : 0.0622 --- quantile: 0.00844594082220216\n",
      "alpha for theta=0.4083525026586644 : 0.037 --- quantile: 0.009798480528259837\n",
      "alpha for theta=1.1196895413602677 : 0.0617 --- quantile: 0.008712944566683527\n",
      "alpha for theta=3.4200838573417056 : 0.0632 --- quantile: 0.0032363115406367155\n",
      "alpha for theta=1.9261873242851286 : 0.0426 --- quantile: 0.007146630920306043\n",
      "alpha for theta=1.830834771124082 : 0.0489 --- quantile: 0.007234351476946579\n",
      "alpha for theta=4.820033691255512 : 0.0625 --- quantile: 0.0016495010038619414\n",
      "alpha for theta=5.262142812213676 : 0.0316 --- quantile: 0.0015644762559863458\n",
      "alpha for theta=2.429114271837263 : 0.0268 --- quantile: 0.006190641493138275\n",
      "alpha for theta=0.7075902889591793 : 0.0503 --- quantile: 0.009675532158236307\n",
      "alpha for theta=2.25966809806648 : 0.0312 --- quantile: 0.006423075980909774\n",
      "alpha for theta=5.3851792923277175 : 0.044 --- quantile: 0.0013754264323214392\n",
      "alpha for theta=6.073430391642602 : 0.0484 --- quantile: 0.0009223064502733219\n",
      "alpha for theta=5.464922471193592 : 0.065 --- quantile: 0.0012244444843574496\n",
      "alpha for theta=5.505731352976682 : 0.0582 --- quantile: 0.0012183627383887037\n",
      "alpha for theta=5.291871356978555 : 0.0323 --- quantile: 0.0015105095601785146\n",
      "alpha for theta=2.8995725181895837 : 0.0496 --- quantile: 0.004480070411410815\n",
      "alpha for theta=6.514790425294626 : 0.0379 --- quantile: 0.0008105991655490934\n",
      "alpha for theta=4.308704764345565 : 0.0552 --- quantile: 0.0021590750328822797\n",
      "mean absolute error: 0.01161\n",
      "standard error: 0.0018459536830592468\n",
      "alpha for theta=0.30275232042893696 : 0.0487 --- quantile: 0.008638809539373854\n",
      "alpha for theta=1.2411049560396177 : 0.0793 --- quantile: 0.008033703785644022\n",
      "alpha for theta=0.4083525026586644 : 0.0489 --- quantile: 0.009264903421737917\n",
      "alpha for theta=1.1196895413602677 : 0.0557 --- quantile: 0.00885997049831585\n",
      "alpha for theta=3.4200838573417056 : 0.0619 --- quantile: 0.0033791517966704062\n",
      "alpha for theta=1.9261873242851286 : 0.0442 --- quantile: 0.0070723274985348885\n",
      "alpha for theta=1.830834771124082 : 0.0445 --- quantile: 0.007343211150711727\n",
      "alpha for theta=4.820033691255512 : 0.0654 --- quantile: 0.0016477540468751385\n",
      "alpha for theta=5.262142812213676 : 0.032 --- quantile: 0.001562353250465912\n",
      "alpha for theta=2.429114271837263 : 0.0761 --- quantile: 0.004980839022236268\n",
      "alpha for theta=0.7075902889591793 : 0.0883 --- quantile: 0.00851002212927656\n",
      "alpha for theta=2.25966809806648 : 0.0273 --- quantile: 0.006865324623813757\n",
      "alpha for theta=5.3851792923277175 : 0.0225 --- quantile: 0.0015703430448926901\n",
      "alpha for theta=6.073430391642602 : 0.047 --- quantile: 0.0009477773681182114\n",
      "alpha for theta=5.464922471193592 : 0.0238 --- quantile: 0.0015053038562951422\n",
      "alpha for theta=5.505731352976682 : 0.0497 --- quantile: 0.001259768145840895\n",
      "alpha for theta=5.291871356978555 : 0.0545 --- quantile: 0.0013638331323762834\n",
      "alpha for theta=2.8995725181895837 : 0.064 --- quantile: 0.004149865943895594\n",
      "alpha for theta=6.514790425294626 : 0.0484 --- quantile: 0.0007294663570653891\n",
      "alpha for theta=4.308704764345565 : 0.0577 --- quantile: 0.0021530726851675163\n",
      "mean absolute error: 0.013294999999999998\n",
      "standard error: 0.002509317387258933\n"
     ]
    }
   ],
   "source": [
    "# locart quantiles\n",
    "locart_object = LocartSplit(LambdaScore, None, alpha = 0.05, is_fitted = True, split_calib = False)\n",
    "locart_quantiles = locart_object.calib(model_thetas, model_lambdas, min_samples_leaf = 300)\n",
    "idxs = locart_object.cart.apply(random_theta_grid_valid.reshape(-1, 1))\n",
    "list_locart_quantiles = [locart_quantiles[idx] for idx in idxs]\n",
    "err_random_thetas_validation[\"locart\"] = eval_coverage_new_grid(random_theta_grid_valid, list_locart_quantiles)\n",
    "\n",
    "# loforest quantiles\n",
    "loforest_object = ConformalLoforest(LambdaScore, None, alpha = 0.05, is_fitted = True, split_calib = False)\n",
    "loforest_object.calibrate(model_thetas, model_lambdas, min_samples_leaf = 300)\n",
    "loforest_cutoffs = loforest_object.compute_cutoffs(random_theta_grid_valid.reshape(-1, 1))\n",
    "err_random_thetas_validation[\"c-loforest\"] = eval_coverage_new_grid(random_theta_grid_valid, loforest_cutoffs)\n",
    "\n",
    "# boosting quantiles\n",
    "model = HistGradientBoostingRegressor(loss=\"quantile\", quantile=.95, random_state = 105)\n",
    "model.fit(model_thetas, model_lambdas)\n",
    "boosting_quantiles = model.predict(random_theta_grid_valid.reshape(-1, 1))\n",
    "err_random_thetas_validation[\"boosting\"] = eval_coverage_new_grid(random_theta_grid_valid, boosting_quantiles)"
   ]
  },
  {
   "cell_type": "code",
   "execution_count": 90,
   "id": "d623d72f",
   "metadata": {},
   "outputs": [
    {
     "data": {
      "image/png": "[encoded data removed]",
      "text/plain": [
       "<Figure size 1000x600 with 1 Axes>"
      ]
     },
     "metadata": {},
     "output_type": "display_data"
    }
   ],
   "source": [
    "# Extract keys and values from the dictionary\n",
    "keys = list(err_random_thetas_validation.keys())\n",
    "values = list(err_random_thetas_validation.values())\n",
    "\n",
    "# Separate mean absolute errors and standard errors\n",
    "mae = [val[0] for val in values]\n",
    "std_err = [val[1] for val in values]\n",
    "\n",
    "# Create an error bar plot\n",
    "plt.figure(figsize=(10, 6))\n",
    "plt.errorbar(keys, mae, yerr=std_err, fmt='o')\n",
    "plt.xlabel('Method')\n",
    "plt.ylabel('Error')\n",
    "plt.title('Coverage MAE error bars for random thetas and lambdas used in training and validation')\n",
    "plt.xticks(rotation=90)  # Rotate x-axis labels for better visibility\n",
    "plt.show()"
   ]
  },
  {
   "cell_type": "markdown",
   "id": "b8f479d4",
   "metadata": {},
   "source": [
    "# Assessing coverage for several training sample sizes:"
   ]
  },
  {
   "cell_type": "markdown",
   "id": "af946e50",
   "metadata": {},
   "source": [
    "Implementing function to return coverage data"
   ]
  },
  {
   "cell_type": "code",
   "execution_count": 103,
   "id": "d9b8aa93",
   "metadata": {},
   "outputs": [],
   "source": [
    "def calculate_coverage(sample_sizes, random_seed = 45, step = 0.1, alpha = 0.05):\n",
    "    mean_list = []\n",
    "    se_list = []\n",
    "    names_list = []\n",
    "    size_lists = []\n",
    "    theta_grid_eval = np.arange(0.1, 7, step)\n",
    "\n",
    "    for size in tqdm(sample_sizes, desc=\"Processing sample sizes\"):\n",
    "        # Generate parameters\n",
    "        random_theta_grid, lambdas, data_melted = generate_parameters_random(n = size, random_seed = random_seed)\n",
    "\n",
    "        # Model thetas for locart, loforest and boosting\n",
    "        model_thetas = random_theta_grid.reshape(-1, 1)\n",
    "        model_lambdas = np.array(lambdas)\n",
    "\n",
    "        # Naive quantiles\n",
    "        naive_quantiles = train_naive_quantile_random(n_random = size, alpha = alpha)\n",
    "        naive = predict_naive_quantile(theta_grid_eval, naive_quantiles)\n",
    "        coverage_list = eval_coverage(naive, theta_grid_eval, iters = 1000, verbose = False)\n",
    "        mean_mae, std_error = coverage_list[0], coverage_list[1]\n",
    "        mean_list.append(mean_mae)\n",
    "        se_list.append(std_error)\n",
    "        names_list.append(\"naive\")\n",
    "        size_lists.append(size)\n",
    "\n",
    "\n",
    "        # Locart quantiles\n",
    "        locart_object = LocartSplit(LambdaScore, None, alpha = 0.05, is_fitted = True, split_calib = False)\n",
    "        locart_quantiles = locart_object.calib(model_thetas, model_lambdas, min_samples_leaf = 300)\n",
    "        idxs = locart_object.cart.apply(theta_grid_eval.reshape(-1, 1))\n",
    "        list_locart_quantiles = [locart_quantiles[idx] for idx in idxs]\n",
    "        coverage_list = eval_coverage(list_locart_quantiles, theta_grid_eval, iters = 1000, verbose = False)\n",
    "        mean_mae, std_error = coverage_list[0], coverage_list[1]\n",
    "        mean_list.append(mean_mae)\n",
    "        se_list.append(std_error)\n",
    "        names_list.append(\"locart\")\n",
    "        size_lists.append(size)\n",
    "\n",
    "\n",
    "        # Loforest quantiles\n",
    "        loforest_object = ConformalLoforest(LambdaScore, None, alpha = 0.05, is_fitted = True, split_calib = False)\n",
    "        loforest_object.calibrate(model_thetas, model_lambdas, min_samples_leaf = 300)\n",
    "        loforest_cutoffs = loforest_object.compute_cutoffs(theta_grid_eval.reshape(-1, 1))\n",
    "        coverage_list = eval_coverage(loforest_cutoffs, theta_grid_eval, iters = 1000, verbose = False)\n",
    "        mean_mae, std_error = coverage_list[0], coverage_list[1]\n",
    "        mean_list.append(mean_mae)\n",
    "        se_list.append(std_error)\n",
    "        names_list.append(\"loforest\")\n",
    "        size_lists.append(size)\n",
    "\n",
    "\n",
    "        # Boosting quantiles\n",
    "        model = HistGradientBoostingRegressor(loss=\"quantile\", quantile=.95, random_state = 105)\n",
    "        model.fit(model_thetas, model_lambdas)\n",
    "        boosting_quantiles = model.predict(theta_grid_eval.reshape(-1, 1))\n",
    "        eval_coverage(boosting_quantiles, theta_grid_eval, iters = 1000, verbose = False)\n",
    "        coverage_list = eval_coverage(boosting_quantiles, theta_grid_eval, iters = 1000, verbose = False)\n",
    "        mean_mae, std_error = coverage_list[0], coverage_list[1]\n",
    "        mean_list.append(mean_mae)\n",
    "        se_list.append(std_error)\n",
    "        names_list.append(\"boosting\")\n",
    "        size_lists.append(size)\n",
    "    \n",
    "    coverage_data = pd.DataFrame({\n",
    "        \"coverage_mae\": mean_list,\n",
    "        \"std_error\": se_list,\n",
    "        \"method\": names_list,\n",
    "        \"n\": size_lists\n",
    "    })\n",
    "\n",
    "    return coverage_data"
   ]
  },
  {
   "cell_type": "code",
   "execution_count": 95,
   "id": "5689d8d0",
   "metadata": {},
   "outputs": [
    {
     "data": {
      "text/plain": [
       "array([0.1 , 3.55])"
      ]
     },
     "execution_count": 95,
     "metadata": {},
     "output_type": "execute_result"
    }
   ],
   "source": [
    "np.arange(0.1, 7, 6.9/2)"
   ]
  },
  {
   "cell_type": "code",
   "execution_count": 104,
   "id": "0d959117",
   "metadata": {},
   "outputs": [
    {
     "name": "stderr",
     "output_type": "stream",
     "text": [
      "Processing sample sizes: 100%|██████████| 11/11 [47:15<00:00, 257.80s/it]\n"
     ]
    }
   ],
   "source": [
    "coverage_data = calculate_coverage(np.array([1000, 2500, 5000, 10000, 12500, 15000, 20000, 30000, 50000, 75000, 100000]))"
   ]
  },
  {
   "cell_type": "code",
   "execution_count": 105,
   "id": "70a5692d",
   "metadata": {},
   "outputs": [
    {
     "name": "stderr",
     "output_type": "stream",
     "text": [
      "/home/kuben45/anaconda3/lib/python3.11/site-packages/seaborn/axisgrid.py:848: UserWarning: marker is redundantly defined by the 'marker' keyword argument and the fmt string \"-o\" (-> marker='o'). The keyword argument will take precedence.\n",
      "  func(*plot_args, **plot_kwargs)\n",
      "/home/kuben45/anaconda3/lib/python3.11/site-packages/seaborn/axisgrid.py:848: UserWarning: marker is redundantly defined by the 'marker' keyword argument and the fmt string \"-o\" (-> marker='o'). The keyword argument will take precedence.\n",
      "  func(*plot_args, **plot_kwargs)\n",
      "/home/kuben45/anaconda3/lib/python3.11/site-packages/seaborn/axisgrid.py:848: UserWarning: marker is redundantly defined by the 'marker' keyword argument and the fmt string \"-o\" (-> marker='o'). The keyword argument will take precedence.\n",
      "  func(*plot_args, **plot_kwargs)\n",
      "/home/kuben45/anaconda3/lib/python3.11/site-packages/seaborn/axisgrid.py:848: UserWarning: marker is redundantly defined by the 'marker' keyword argument and the fmt string \"-o\" (-> marker='o'). The keyword argument will take precedence.\n",
      "  func(*plot_args, **plot_kwargs)\n",
      "/home/kuben45/anaconda3/lib/python3.11/site-packages/seaborn/axisgrid.py:118: UserWarning: The figure layout has changed to tight\n",
      "  self._figure.tight_layout(*args, **kwargs)\n"
     ]
    },
    {
     "data": {
      "image/png": "[encoded data removed]",
      "text/plain": [
       "<Figure size 1000x800 with 1 Axes>"
      ]
     },
     "metadata": {},
     "output_type": "display_data"
    }
   ],
   "source": [
    "# Create a line plot with error bars\n",
    "g = sns.FacetGrid(coverage_data, height = 8, aspect = 1.25, hue = \"method\")\n",
    "g.map(plt.errorbar, \"n\", \"coverage_mae\", \"std_error\", marker = 'o', fmt = \"-o\")\n",
    "\n",
    "# Set plot title and labels\n",
    "plt.plot()\n",
    "plt.legend()\n",
    "plt.title('Coverage Data with Standard Errors')\n",
    "plt.xlabel('n')\n",
    "plt.ylabel('Coverage MAE')\n",
    "\n",
    "# Show the plot\n",
    "plt.show()"
   ]
  }
 ],
 "metadata": {
  "kernelspec": {
   "display_name": "base",
   "language": "python",
   "name": "python3"
  },
  "language_info": {
   "codemirror_mode": {
    "name": "ipython",
    "version": 3
   },
   "file_extension": ".py",
   "mimetype": "text/x-python",
   "name": "python",
   "nbconvert_exporter": "python",
   "pygments_lexer": "ipython3",
   "version": "3.11.5"
  }
 },
 "nbformat": 4,
 "nbformat_minor": 5
}
