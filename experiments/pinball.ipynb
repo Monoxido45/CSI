{
 "cells": [
  {
   "cell_type": "code",
   "execution_count": 1,
   "id": "c9542482-ab64-4ca1-aa6f-d7dd152d29b9",
   "metadata": {
    "tags": []
   },
   "outputs": [],
   "source": [
    "from sklearn.ensemble import HistGradientBoostingRegressor\n",
    "from sklearn.ensemble import GradientBoostingRegressor\n",
    "import numpy as np\n",
    "import pandas as pd\n",
    "import seaborn as sns\n",
    "import matplotlib.pyplot as plt\n",
    "\n",
    "# loforest and locart functions\n",
    "from CP2LFI.loforest import ConformalLoforest\n",
    "from CP2LFI.scores import LambdaScore\n",
    "\n",
    "from clover import Scores\n",
    "from clover import LocartSplit"
   ]
  },
  {
   "cell_type": "code",
   "execution_count": 2,
   "id": "56831574-dd29-49b9-9f85-d16a93735a83",
   "metadata": {
    "tags": []
   },
   "outputs": [],
   "source": [
    "err = {}\n",
    "alpha = 0.05"
   ]
  },
  {
   "cell_type": "markdown",
   "id": "b53e07c7",
   "metadata": {},
   "source": [
    "# First simulation\n",
    "\n",
    "Let $\\theta$ be the parameter of interest and $\\lambda(\\theta) = F(\\theta) - \\hat{F}(\\theta)$, $F$ being the cummulative distribution of an $\\text{exp}(1)$ and $\\hat{F}$ the empirical cumulative distribution the test statistic."
   ]
  },
  {
   "cell_type": "code",
   "execution_count": 3,
   "id": "05336e1d-13c0-4dfa-8532-cfc86f83e090",
   "metadata": {
    "tags": []
   },
   "outputs": [],
   "source": [
    "# o df_melted que retorna é só para printar as distribuicoes dos \n",
    "# lambdas com histplots e ver que elas mudam conforme theta\n",
    "\n",
    "def generate_parameters(thetas, N, iters):\n",
    "    values = pd.DataFrame()\n",
    "    ## Parametros para arvore\n",
    "    lambdas = []\n",
    "    thetas_ = []\n",
    "    ##\n",
    "    for theta in thetas:\n",
    "        diff = []\n",
    "        theoretical = np.e**(-theta)\n",
    "        for i in range(iters):\n",
    "            exp = np.random.exponential(1/theta, N)\n",
    "            empirical = (len([i for i in exp if i > 1])/len(exp))\n",
    "            diff.append(abs(theoretical - empirical))\n",
    "            lambdas.append(abs(theoretical - empirical))\n",
    "            thetas_.append(theta)\n",
    "        values[f\"{theta}\"] = diff\n",
    "    df_melted = values.melt(var_name='theta')\n",
    "    \n",
    "    return lambdas, thetas_, df_melted"
   ]
  },
  {
   "cell_type": "code",
   "execution_count": 4,
   "id": "e96ce539",
   "metadata": {},
   "outputs": [],
   "source": [
    "# defining statistic of interest as a new score using the Scores class \n",
    "class LambdaScore(Scores):\n",
    "    def fit(self, X, y):\n",
    "        return self\n",
    "\n",
    "    def compute(self, thetas, lambdas):\n",
    "        return lambdas\n",
    "\n",
    "    def predict(self, thetas, cutoff):\n",
    "        pred = np.vstack((thetas - cutoff, thetas + cutoff)).T\n",
    "        return pred"
   ]
  },
  {
   "cell_type": "code",
   "execution_count": 5,
   "id": "09236b91-774d-4dbd-ba19-882245cb07a6",
   "metadata": {
    "tags": []
   },
   "outputs": [],
   "source": [
    "def eval_coverage(quantiles):\n",
    "    # theta = parametro\n",
    "    # lambda = estatistica de teste\n",
    "    # Lambda: |P_teorica(exp > 1) - P_empirica(exp > 1)|\n",
    "    j = 0\n",
    "    err = 0\n",
    "    err_each = np.zeros(len(thetas))\n",
    "    # computando erro padrao tambem\n",
    "    for theta in thetas:\n",
    "        theoretical = np.e**(-theta)\n",
    "        lambdas_ = []\n",
    "        for i in range(iters):\n",
    "            distr = np.random.exponential(1/theta, N)\n",
    "            empirical = len([i for i in distr if i > 1])/len(distr)\n",
    "            diff = abs(theoretical - empirical)\n",
    "            lambdas_.append(diff)\n",
    "        alpha = len([i for i in lambdas_ if i >= quantiles[j]])/len(lambdas_)\n",
    "        print(f\"alpha for theta={theta} : {alpha} --- quantile: {quantiles[j]}\")\n",
    "        err += abs(alpha - 0.05)\n",
    "        err_each[j] = abs(alpha - 0.05)\n",
    "        j += 1\n",
    "    print(f\"mean absolute error: {err/j}\")\n",
    "    standard_error = np.std(err_each)\n",
    "    print(f\"standard error: {standard_error/np.sqrt(j)}\")\n",
    "    return [err/j, standard_error/np.sqrt(j)]"
   ]
  },
  {
   "cell_type": "code",
   "execution_count": 6,
   "id": "5a951038-81e6-41da-a629-5f53525a88ac",
   "metadata": {
    "tags": []
   },
   "outputs": [],
   "source": [
    "# isso foi usado em um experimento\n",
    "def params_with_random_thetas(thetas, N):\n",
    "    chosen_thetas = np.random.choice(thetas, N)\n",
    "    lambdas = []\n",
    "    thetas_ = []\n",
    "    ##\n",
    "    for theta in chosen_thetas:\n",
    "        theoretical = np.e**(-theta)\n",
    "        exp = np.random.exponential(1/theta, 10000)\n",
    "        empirical = len([i for i in exp if i > 1])/len(exp)\n",
    "        lambdas.append(abs(theoretical - empirical))\n",
    "        thetas_.append(theta)\n",
    "        \n",
    "    return lambdas, thetas_"
   ]
  },
  {
   "cell_type": "code",
   "execution_count": 7,
   "id": "a5cf503b-9a5c-42a0-b518-f330e0661385",
   "metadata": {
    "tags": []
   },
   "outputs": [],
   "source": [
    "# Fica a vontade pra mudar isso aqui se quiser brincar\n",
    "thetas = np.arange(0.5, 7, 0.5)\n",
    "N = 10000\n",
    "iters = 10000\n",
    "\n",
    "np.random.seed(1250)\n",
    "lambdas, thetas_, df_melted = generate_parameters(thetas, N, iters)"
   ]
  },
  {
   "cell_type": "markdown",
   "id": "621d8a68",
   "metadata": {},
   "source": [
    "*df_melted* is the dataset with simulated $\\lambda$ values for each value of $\\theta$:"
   ]
  },
  {
   "cell_type": "code",
   "execution_count": 8,
   "id": "f0984018",
   "metadata": {},
   "outputs": [
    {
     "data": {
      "text/html": [
       "<div>\n",
       "<style scoped>\n",
       "    .dataframe tbody tr th:only-of-type {\n",
       "        vertical-align: middle;\n",
       "    }\n",
       "\n",
       "    .dataframe tbody tr th {\n",
       "        vertical-align: top;\n",
       "    }\n",
       "\n",
       "    .dataframe thead th {\n",
       "        text-align: right;\n",
       "    }\n",
       "</style>\n",
       "<table border=\"1\" class=\"dataframe\">\n",
       "  <thead>\n",
       "    <tr style=\"text-align: right;\">\n",
       "      <th></th>\n",
       "      <th>theta</th>\n",
       "      <th>value</th>\n",
       "    </tr>\n",
       "  </thead>\n",
       "  <tbody>\n",
       "    <tr>\n",
       "      <th>0</th>\n",
       "      <td>0.5</td>\n",
       "      <td>0.000369</td>\n",
       "    </tr>\n",
       "    <tr>\n",
       "      <th>1</th>\n",
       "      <td>0.5</td>\n",
       "      <td>0.003531</td>\n",
       "    </tr>\n",
       "    <tr>\n",
       "      <th>2</th>\n",
       "      <td>0.5</td>\n",
       "      <td>0.008069</td>\n",
       "    </tr>\n",
       "    <tr>\n",
       "      <th>3</th>\n",
       "      <td>0.5</td>\n",
       "      <td>0.003431</td>\n",
       "    </tr>\n",
       "    <tr>\n",
       "      <th>4</th>\n",
       "      <td>0.5</td>\n",
       "      <td>0.004531</td>\n",
       "    </tr>\n",
       "    <tr>\n",
       "      <th>5</th>\n",
       "      <td>0.5</td>\n",
       "      <td>0.004569</td>\n",
       "    </tr>\n",
       "    <tr>\n",
       "      <th>6</th>\n",
       "      <td>0.5</td>\n",
       "      <td>0.000669</td>\n",
       "    </tr>\n",
       "    <tr>\n",
       "      <th>7</th>\n",
       "      <td>0.5</td>\n",
       "      <td>0.009131</td>\n",
       "    </tr>\n",
       "    <tr>\n",
       "      <th>8</th>\n",
       "      <td>0.5</td>\n",
       "      <td>0.002969</td>\n",
       "    </tr>\n",
       "    <tr>\n",
       "      <th>9</th>\n",
       "      <td>0.5</td>\n",
       "      <td>0.005231</td>\n",
       "    </tr>\n",
       "  </tbody>\n",
       "</table>\n",
       "</div>"
      ],
      "text/plain": [
       "  theta     value\n",
       "0   0.5  0.000369\n",
       "1   0.5  0.003531\n",
       "2   0.5  0.008069\n",
       "3   0.5  0.003431\n",
       "4   0.5  0.004531\n",
       "5   0.5  0.004569\n",
       "6   0.5  0.000669\n",
       "7   0.5  0.009131\n",
       "8   0.5  0.002969\n",
       "9   0.5  0.005231"
      ]
     },
     "execution_count": 8,
     "metadata": {},
     "output_type": "execute_result"
    }
   ],
   "source": [
    "df_melted.head(10)"
   ]
  },
  {
   "cell_type": "markdown",
   "id": "d9ef3bdf",
   "metadata": {},
   "source": [
    "Implementing naive quantile estimation and prediction for any theta grid:"
   ]
  },
  {
   "cell_type": "code",
   "execution_count": 9,
   "id": "6554739d",
   "metadata": {},
   "outputs": [],
   "source": [
    "def train_naive_quantile(df_melted, thetas, alpha):\n",
    "    quantiles = {}\n",
    "    for theta in thetas:\n",
    "        quantiles[theta] = np.quantile(list(df_melted[df_melted[\"theta\"] == str(theta)].value), 1 - alpha)\n",
    "    return quantiles\n",
    "\n",
    "def predict_naive_quantile(theta_grid, quantiles_dict):\n",
    "    thetas_values = np.array(list(quantiles_dict.keys()))\n",
    "    quantiles_list = []\n",
    "    for theta in theta_grid:\n",
    "        idx = thetas_values[int(np.argmin(np.abs(theta - thetas_values)))]\n",
    "        quantiles_list.append(quantiles_dict[idx])\n",
    "    return quantiles_list"
   ]
  },
  {
   "cell_type": "markdown",
   "id": "8c2e3f71",
   "metadata": {},
   "source": [
    "We want to obtain, for each $\\theta$ a cutoff $C_{\\theta}$ to build:\n",
    "$$R(\\mathcal{D}) = \\{\\theta \\in \\Theta: \\lambda(\\theta, \\mathcal{D}) \\geq C_{\\theta} \\} ,$$\n",
    "such that:\n",
    "$$\\mathbb{P}_{\\mathcal{D}|\\theta}(\\theta \\in R(\\mathcal{D})) \\geq 1 - \\alpha \\quad \\forall \\theta \\in \\Theta.$$"
   ]
  },
  {
   "cell_type": "markdown",
   "id": "2453580d-254b-48b0-a048-e73a45169372",
   "metadata": {},
   "source": [
    "# Naive estimator"
   ]
  },
  {
   "cell_type": "markdown",
   "id": "8c2ad1a0",
   "metadata": {},
   "source": [
    "Naive estimation of each cutoff"
   ]
  },
  {
   "cell_type": "code",
   "execution_count": null,
   "id": "8ab77fe2-97bd-4471-a11f-997bfe8c1733",
   "metadata": {
    "tags": []
   },
   "outputs": [],
   "source": [
    "# isso aqui eh o que eu to chamando de naive. Basicamente pega o\n",
    "# parametro e tira o quantil dele. usei o df_melted pq era mais facil\n",
    "# por algum motivo que nao consigo lembrar de cabeça agora\n",
    "# naive = [\n",
    "#     np.quantile(list(df_melted[df_melted[\"theta\"] == str(theta)].value), 0.95)\n",
    "#    for theta in thetas\n",
    "# ]\n",
    "\n",
    "naive_quantiles = train_naive_quantile(df_melted, thetas = thetas, alpha = alpha)\n",
    "naive = predict_naive_quantile(thetas, naive_quantiles)"
   ]
  },
  {
   "cell_type": "code",
   "execution_count": null,
   "id": "41339fa0-7179-426a-a379-5a62e8494963",
   "metadata": {
    "tags": []
   },
   "outputs": [
    {
     "name": "stdout",
     "output_type": "stream",
     "text": [
      "alpha for theta=0.5 : 0.055 --- quantile: 0.009530659712633449\n",
      "alpha for theta=1.0 : 0.0488 --- quantile: 0.009479441171442338\n",
      "alpha for theta=1.5 : 0.0497 --- quantile: 0.008230160148429838\n",
      "alpha for theta=2.0 : 0.0532 --- quantile: 0.0066352832366126935\n",
      "alpha for theta=2.5 : 0.0576 --- quantile: 0.005284998623898807\n",
      "alpha for theta=3.0 : 0.0517 --- quantile: 0.004312931632136051\n",
      "alpha for theta=3.5 : 0.0536 --- quantile: 0.003302616577681494\n",
      "alpha for theta=4.0 : 0.047 --- quantile: 0.0026843611112658157\n",
      "alpha for theta=4.5 : 0.0532 --- quantile: 0.002008996538242309\n",
      "alpha for theta=5.0 : 0.0512 --- quantile: 0.0016379469990854684\n",
      "alpha for theta=5.5 : 0.0596 --- quantile: 0.0012132285615359317\n",
      "alpha for theta=6.0 : 0.059 --- quantile: 0.0009787521766663593\n",
      "alpha for theta=6.5 : 0.0741 --- quantile: 0.000703439192977573\n",
      "mean absolute error: 0.00559230769230769\n",
      "standard error: 0.0016826107334411324\n"
     ]
    }
   ],
   "source": [
    "err[\"err_naive\"] = eval_coverage(naive)"
   ]
  },
  {
   "cell_type": "markdown",
   "id": "754cb2ab-d07e-4cba-b9ce-8ab75d59dc55",
   "metadata": {},
   "source": [
    "# Pinball oriented Regression Tree\n",
    "Fitting a regression tree that uses the pinball loss for partitioning the data:"
   ]
  },
  {
   "cell_type": "code",
   "execution_count": null,
   "id": "13cb168e-b31b-4a2b-b909-d3a852026687",
   "metadata": {
    "tags": []
   },
   "outputs": [
    {
     "name": "stderr",
     "output_type": "stream",
     "text": [
      "/home/kuben45/anaconda3/lib/python3.11/site-packages/sklearn/ensemble/_gb.py:424: DataConversionWarning: A column-vector y was passed when a 1d array was expected. Please change the shape of y to (n_samples, ), for example using ravel().\n",
      "  y = column_or_1d(y, warn=True)\n"
     ]
    },
    {
     "data": {
      "text/html": [
       "<style>#sk-container-id-1 {color: black;}#sk-container-id-1 pre{padding: 0;}#sk-container-id-1 div.sk-toggleable {background-color: white;}#sk-container-id-1 label.sk-toggleable__label {cursor: pointer;display: block;width: 100%;margin-bottom: 0;padding: 0.3em;box-sizing: border-box;text-align: center;}#sk-container-id-1 label.sk-toggleable__label-arrow:before {content: \"▸\";float: left;margin-right: 0.25em;color: #696969;}#sk-container-id-1 label.sk-toggleable__label-arrow:hover:before {color: black;}#sk-container-id-1 div.sk-estimator:hover label.sk-toggleable__label-arrow:before {color: black;}#sk-container-id-1 div.sk-toggleable__content {max-height: 0;max-width: 0;overflow: hidden;text-align: left;background-color: #f0f8ff;}#sk-container-id-1 div.sk-toggleable__content pre {margin: 0.2em;color: black;border-radius: 0.25em;background-color: #f0f8ff;}#sk-container-id-1 input.sk-toggleable__control:checked~div.sk-toggleable__content {max-height: 200px;max-width: 100%;overflow: auto;}#sk-container-id-1 input.sk-toggleable__control:checked~label.sk-toggleable__label-arrow:before {content: \"▾\";}#sk-container-id-1 div.sk-estimator input.sk-toggleable__control:checked~label.sk-toggleable__label {background-color: #d4ebff;}#sk-container-id-1 div.sk-label input.sk-toggleable__control:checked~label.sk-toggleable__label {background-color: #d4ebff;}#sk-container-id-1 input.sk-hidden--visually {border: 0;clip: rect(1px 1px 1px 1px);clip: rect(1px, 1px, 1px, 1px);height: 1px;margin: -1px;overflow: hidden;padding: 0;position: absolute;width: 1px;}#sk-container-id-1 div.sk-estimator {font-family: monospace;background-color: #f0f8ff;border: 1px dotted black;border-radius: 0.25em;box-sizing: border-box;margin-bottom: 0.5em;}#sk-container-id-1 div.sk-estimator:hover {background-color: #d4ebff;}#sk-container-id-1 div.sk-parallel-item::after {content: \"\";width: 100%;border-bottom: 1px solid gray;flex-grow: 1;}#sk-container-id-1 div.sk-label:hover label.sk-toggleable__label {background-color: #d4ebff;}#sk-container-id-1 div.sk-serial::before {content: \"\";position: absolute;border-left: 1px solid gray;box-sizing: border-box;top: 0;bottom: 0;left: 50%;z-index: 0;}#sk-container-id-1 div.sk-serial {display: flex;flex-direction: column;align-items: center;background-color: white;padding-right: 0.2em;padding-left: 0.2em;position: relative;}#sk-container-id-1 div.sk-item {position: relative;z-index: 1;}#sk-container-id-1 div.sk-parallel {display: flex;align-items: stretch;justify-content: center;background-color: white;position: relative;}#sk-container-id-1 div.sk-item::before, #sk-container-id-1 div.sk-parallel-item::before {content: \"\";position: absolute;border-left: 1px solid gray;box-sizing: border-box;top: 0;bottom: 0;left: 50%;z-index: -1;}#sk-container-id-1 div.sk-parallel-item {display: flex;flex-direction: column;z-index: 1;position: relative;background-color: white;}#sk-container-id-1 div.sk-parallel-item:first-child::after {align-self: flex-end;width: 50%;}#sk-container-id-1 div.sk-parallel-item:last-child::after {align-self: flex-start;width: 50%;}#sk-container-id-1 div.sk-parallel-item:only-child::after {width: 0;}#sk-container-id-1 div.sk-dashed-wrapped {border: 1px dashed gray;margin: 0 0.4em 0.5em 0.4em;box-sizing: border-box;padding-bottom: 0.4em;background-color: white;}#sk-container-id-1 div.sk-label label {font-family: monospace;font-weight: bold;display: inline-block;line-height: 1.2em;}#sk-container-id-1 div.sk-label-container {text-align: center;}#sk-container-id-1 div.sk-container {/* jupyter's `normalize.less` sets `[hidden] { display: none; }` but bootstrap.min.css set `[hidden] { display: none !important; }` so we also need the `!important` here to be able to override the default hidden behavior on the sphinx rendered scikit-learn.org. See: https://github.com/scikit-learn/scikit-learn/issues/21755 */display: inline-block !important;position: relative;}#sk-container-id-1 div.sk-text-repr-fallback {display: none;}</style><div id=\"sk-container-id-1\" class=\"sk-top-container\"><div class=\"sk-text-repr-fallback\"><pre>GradientBoostingRegressor(alpha=0.95, loss=&#x27;quantile&#x27;, max_depth=None,\n",
       "                          min_samples_leaf=100, n_estimators=1)</pre><b>In a Jupyter environment, please rerun this cell to show the HTML representation or trust the notebook. <br />On GitHub, the HTML representation is unable to render, please try loading this page with nbviewer.org.</b></div><div class=\"sk-container\" hidden><div class=\"sk-item\"><div class=\"sk-estimator sk-toggleable\"><input class=\"sk-toggleable__control sk-hidden--visually\" id=\"sk-estimator-id-1\" type=\"checkbox\" checked><label for=\"sk-estimator-id-1\" class=\"sk-toggleable__label sk-toggleable__label-arrow\">GradientBoostingRegressor</label><div class=\"sk-toggleable__content\"><pre>GradientBoostingRegressor(alpha=0.95, loss=&#x27;quantile&#x27;, max_depth=None,\n",
       "                          min_samples_leaf=100, n_estimators=1)</pre></div></div></div></div></div>"
      ],
      "text/plain": [
       "GradientBoostingRegressor(alpha=0.95, loss='quantile', max_depth=None,\n",
       "                          min_samples_leaf=100, n_estimators=1)"
      ]
     },
     "execution_count": 13,
     "metadata": {},
     "output_type": "execute_result"
    }
   ],
   "source": [
    "# se colocar o boosting com 1 iteracao, ele vira uma arvore\n",
    "# e o quantile loss eh o pinball. ref: \n",
    "# https://scikit-learn.org/stable/modules/generated/sklearn.ensemble.HistGradientBoostingRegressor.html\n",
    "model = GradientBoostingRegressor(\n",
    "    loss = \"quantile\", alpha = .95, min_samples_leaf = 100, n_estimators = 1, max_depth = None\n",
    ")\n",
    "\n",
    "model_thetas = np.array(thetas_).reshape(-1, 1)\n",
    "model_lambdas = np.array(lambdas).reshape(-1, 1)\n",
    "model.fit(model_thetas, model_lambdas)"
   ]
  },
  {
   "cell_type": "markdown",
   "id": "0d7de1d1",
   "metadata": {},
   "source": [
    "testing first a locart way of obtaining the cutoffs (pinball-LOCART):"
   ]
  },
  {
   "cell_type": "code",
   "execution_count": null,
   "id": "56de6c63",
   "metadata": {},
   "outputs": [
    {
     "data": {
      "text/plain": [
       "array([[ 3.],\n",
       "       [ 4.],\n",
       "       [ 5.],\n",
       "       [ 7.],\n",
       "       [ 9.],\n",
       "       [11.],\n",
       "       [13.],\n",
       "       [15.],\n",
       "       [16.],\n",
       "       [16.],\n",
       "       [16.],\n",
       "       [16.],\n",
       "       [16.]])"
      ]
     },
     "execution_count": 14,
     "metadata": {},
     "output_type": "execute_result"
    }
   ],
   "source": [
    "model.apply(thetas.reshape(-1, 1))"
   ]
  },
  {
   "cell_type": "markdown",
   "id": "a96f863a",
   "metadata": {},
   "source": [
    "Obtaining quantiles in the LOCART manner:"
   ]
  },
  {
   "cell_type": "code",
   "execution_count": null,
   "id": "cb854bce",
   "metadata": {},
   "outputs": [],
   "source": [
    "leaves = np.unique(model.apply(thetas.reshape(-1, 1)))\n",
    "quantiles = {}\n",
    "for leaf in leaves:\n",
    "    indices = model.apply(model_thetas)\n",
    "    selected_lambdas = model_lambdas[indices == leaf]\n",
    "    n = selected_lambdas.shape[0]\n",
    "    quantiles[leaf]  = np.quantile(selected_lambdas, q=np.ceil((n + 1) * (1 - 0.05)) / n)\n",
    "idxs = model.apply(thetas.reshape(-1, 1))\n",
    "list_gb_quantiles = [quantiles[idx] for idx in idxs.reshape(-1)]"
   ]
  },
  {
   "cell_type": "code",
   "execution_count": null,
   "id": "724d6f63",
   "metadata": {},
   "outputs": [
    {
     "data": {
      "text/plain": [
       "[0.009530659712633449,\n",
       " 0.009479441171442338,\n",
       " 0.008230160148429838,\n",
       " 0.0066352832366126935,\n",
       " 0.005284998623898807,\n",
       " 0.004312931632136051,\n",
       " 0.003302616577681494,\n",
       " 0.0026843611112658157,\n",
       " 0.0014910034617576905,\n",
       " 0.0014910034617576905,\n",
       " 0.0014910034617576905,\n",
       " 0.0014910034617576905,\n",
       " 0.0014910034617576905]"
      ]
     },
     "execution_count": 16,
     "metadata": {},
     "output_type": "execute_result"
    }
   ],
   "source": [
    "list_gb_quantiles"
   ]
  },
  {
   "cell_type": "markdown",
   "id": "2e6c1eec",
   "metadata": {},
   "source": [
    "Obtaining errors for these quantiles:"
   ]
  },
  {
   "cell_type": "code",
   "execution_count": null,
   "id": "c2736516",
   "metadata": {},
   "outputs": [
    {
     "name": "stdout",
     "output_type": "stream",
     "text": [
      "alpha for theta=0.5 : 0.0505 --- quantile: 0.009530659712633449\n",
      "alpha for theta=1.0 : 0.0503 --- quantile: 0.009479441171442338\n",
      "alpha for theta=1.5 : 0.0479 --- quantile: 0.008230160148429838\n",
      "alpha for theta=2.0 : 0.0557 --- quantile: 0.0066352832366126935\n",
      "alpha for theta=2.5 : 0.0564 --- quantile: 0.005284998623898807\n",
      "alpha for theta=3.0 : 0.0476 --- quantile: 0.004312931632136051\n",
      "alpha for theta=3.5 : 0.054 --- quantile: 0.003302616577681494\n",
      "alpha for theta=4.0 : 0.0482 --- quantile: 0.0026843611112658157\n",
      "alpha for theta=4.5 : 0.1655 --- quantile: 0.0014910034617576905\n",
      "alpha for theta=5.0 : 0.0663 --- quantile: 0.0014910034617576905\n",
      "alpha for theta=5.5 : 0.0168 --- quantile: 0.0014910034617576905\n",
      "alpha for theta=6.0 : 0.0033 --- quantile: 0.0014910034617576905\n",
      "alpha for theta=6.5 : 0.0002 --- quantile: 0.0014910034617576905\n",
      "mean absolute error: 0.0219\n",
      "standard error: 0.008850293345855397\n"
     ]
    }
   ],
   "source": [
    "err[\"err_pinball_locart\"] = eval_coverage(list_gb_quantiles)"
   ]
  },
  {
   "cell_type": "markdown",
   "id": "81962e96",
   "metadata": {},
   "source": [
    "testing now cutoffs obtained from direct predictions of the model:"
   ]
  },
  {
   "cell_type": "code",
   "execution_count": null,
   "id": "da230e8a-2985-4328-895b-18e4d5ef63ef",
   "metadata": {
    "tags": []
   },
   "outputs": [
    {
     "name": "stderr",
     "output_type": "stream",
     "text": [
      "/home/kuben45/anaconda3/lib/python3.11/site-packages/sklearn/utils/validation.py:1184: DataConversionWarning: A column-vector y was passed when a 1d array was expected. Please change the shape of y to (n_samples, ), for example using ravel().\n",
      "  y = column_or_1d(y, warn=True)\n"
     ]
    },
    {
     "data": {
      "text/plain": [
       "array([0.00650547, 0.00650364, 0.00637939, 0.00621593, 0.00608091,\n",
       "       0.0059837 , 0.00588267, 0.00581397, 0.00569861, 0.00569861,\n",
       "       0.00569861, 0.00569861, 0.00569861])"
      ]
     },
     "execution_count": 18,
     "metadata": {},
     "output_type": "execute_result"
    }
   ],
   "source": [
    "model = HistGradientBoostingRegressor(\n",
    "    loss = \"quantile\", quantile = .95, min_samples_leaf = 100, max_iter=1\n",
    ")\n",
    "\n",
    "model_thetas = np.array(thetas_).reshape(-1, 1)\n",
    "model_lambdas = np.array(lambdas).reshape(-1, 1)\n",
    "model.fit(model_thetas, model_lambdas)\n",
    "\n",
    "quantiles = model.predict(thetas.reshape(-1, 1))\n",
    "quantiles"
   ]
  },
  {
   "cell_type": "code",
   "execution_count": null,
   "id": "0b7518fd-8426-4b24-a27c-19b0f16ac443",
   "metadata": {
    "tags": []
   },
   "outputs": [
    {
     "name": "stdout",
     "output_type": "stream",
     "text": [
      "alpha for theta=0.5 : 0.1709 --- quantile: 0.006505472229893283\n",
      "alpha for theta=1.0 : 0.1772 --- quantile: 0.006503639788343396\n",
      "alpha for theta=1.5 : 0.1161 --- quantile: 0.006379390243786953\n",
      "alpha for theta=2.0 : 0.0712 --- quantile: 0.006215934582291208\n",
      "alpha for theta=2.5 : 0.0296 --- quantile: 0.006080906121019819\n",
      "alpha for theta=3.0 : 0.0064 --- quantile: 0.005983699421843543\n",
      "alpha for theta=3.5 : 0.0007 --- quantile: 0.005882667916398088\n",
      "alpha for theta=4.0 : 0.0 --- quantile: 0.005813970147503357\n",
      "alpha for theta=4.5 : 0.0 --- quantile: 0.005698611558721391\n",
      "alpha for theta=5.0 : 0.0 --- quantile: 0.005698611558721391\n",
      "alpha for theta=5.5 : 0.0 --- quantile: 0.005698611558721391\n",
      "alpha for theta=6.0 : 0.0 --- quantile: 0.005698611558721391\n",
      "alpha for theta=6.5 : 0.0 --- quantile: 0.005698611558721391\n",
      "mean absolute error: 0.057592307692307707\n",
      "standard error: 0.00851158251257996\n"
     ]
    }
   ],
   "source": [
    "err[\"err_reg\"] = eval_coverage(quantiles)"
   ]
  },
  {
   "cell_type": "markdown",
   "id": "387cac18",
   "metadata": {},
   "source": [
    "## Testing MSE-LOCART"
   ]
  },
  {
   "cell_type": "code",
   "execution_count": null,
   "id": "5d780cbb",
   "metadata": {},
   "outputs": [],
   "source": [
    "# fitting locart to the new synthetic class\n",
    "locart_object = LocartSplit(LambdaScore, None, alpha = 0.05, is_fitted = True, split_calib = False)\n",
    "locart_quantiles = locart_object.calib(model_thetas, model_lambdas)\n",
    "idxs = locart_object.cart.apply(thetas.reshape(-1, 1))\n",
    "list_locart_quantiles = [locart_quantiles[idx] for idx in idxs]"
   ]
  },
  {
   "cell_type": "code",
   "execution_count": null,
   "id": "aa20d554",
   "metadata": {},
   "outputs": [
    {
     "name": "stdout",
     "output_type": "stream",
     "text": [
      "alpha for theta=0.5 : 0.0484 --- quantile: 0.009530659712633449\n",
      "alpha for theta=1.0 : 0.0516 --- quantile: 0.009479441171442338\n",
      "alpha for theta=1.5 : 0.05 --- quantile: 0.008230160148429838\n",
      "alpha for theta=2.0 : 0.0547 --- quantile: 0.0066352832366126935\n",
      "alpha for theta=2.5 : 0.0503 --- quantile: 0.005284998623898807\n",
      "alpha for theta=3.0 : 0.0445 --- quantile: 0.004312931632136051\n",
      "alpha for theta=3.5 : 0.0523 --- quantile: 0.003302616577681494\n",
      "alpha for theta=4.0 : 0.0475 --- quantile: 0.0026843611112658157\n",
      "alpha for theta=4.5 : 0.053 --- quantile: 0.002008996538242309\n",
      "alpha for theta=5.0 : 0.0514 --- quantile: 0.0016379469990854684\n",
      "alpha for theta=5.5 : 0.063 --- quantile: 0.0012132285615359317\n",
      "alpha for theta=6.0 : 0.0548 --- quantile: 0.0009787521766663593\n",
      "alpha for theta=6.5 : 0.0725 --- quantile: 0.000703439192977573\n",
      "mean absolute error: 0.00486153846153846\n",
      "standard error: 0.0016695865789352656\n"
     ]
    }
   ],
   "source": [
    "err[\"err_locart\"] = eval_coverage(list_locart_quantiles)"
   ]
  },
  {
   "cell_type": "markdown",
   "id": "28a6a694-24ef-4aad-a6c2-e6f7de22dfc7",
   "metadata": {},
   "source": [
    "## Regressor - random"
   ]
  },
  {
   "cell_type": "markdown",
   "id": "177f0271",
   "metadata": {},
   "source": [
    "Generating 1000 random thetas from the grid to compute the metrics of both the gradient boosting tree and the MSE-locart:"
   ]
  },
  {
   "cell_type": "code",
   "execution_count": null,
   "id": "1c8016f5-0161-4717-9ce3-2746528e848b",
   "metadata": {
    "tags": []
   },
   "outputs": [],
   "source": [
    "# aqui, a gente gera N (=1000) thetas aleatoriamente entre\n",
    "# os possiveis valores do grid e computa as metricas\n",
    "lambdas_r, thetas_r = params_with_random_thetas(thetas, 1000)"
   ]
  },
  {
   "cell_type": "markdown",
   "id": "07fe4849",
   "metadata": {},
   "source": [
    "Obtaining metrics first for the gradient boosting unique tree:"
   ]
  },
  {
   "cell_type": "code",
   "execution_count": null,
   "id": "6da7a7b0-fe6f-412e-8ecb-cd8ba4f198a7",
   "metadata": {
    "tags": []
   },
   "outputs": [
    {
     "name": "stderr",
     "output_type": "stream",
     "text": [
      "/home/kuben45/anaconda3/lib/python3.11/site-packages/sklearn/utils/validation.py:1184: DataConversionWarning: A column-vector y was passed when a 1d array was expected. Please change the shape of y to (n_samples, ), for example using ravel().\n",
      "  y = column_or_1d(y, warn=True)\n"
     ]
    },
    {
     "data": {
      "text/html": [
       "<style>#sk-container-id-2 {color: black;}#sk-container-id-2 pre{padding: 0;}#sk-container-id-2 div.sk-toggleable {background-color: white;}#sk-container-id-2 label.sk-toggleable__label {cursor: pointer;display: block;width: 100%;margin-bottom: 0;padding: 0.3em;box-sizing: border-box;text-align: center;}#sk-container-id-2 label.sk-toggleable__label-arrow:before {content: \"▸\";float: left;margin-right: 0.25em;color: #696969;}#sk-container-id-2 label.sk-toggleable__label-arrow:hover:before {color: black;}#sk-container-id-2 div.sk-estimator:hover label.sk-toggleable__label-arrow:before {color: black;}#sk-container-id-2 div.sk-toggleable__content {max-height: 0;max-width: 0;overflow: hidden;text-align: left;background-color: #f0f8ff;}#sk-container-id-2 div.sk-toggleable__content pre {margin: 0.2em;color: black;border-radius: 0.25em;background-color: #f0f8ff;}#sk-container-id-2 input.sk-toggleable__control:checked~div.sk-toggleable__content {max-height: 200px;max-width: 100%;overflow: auto;}#sk-container-id-2 input.sk-toggleable__control:checked~label.sk-toggleable__label-arrow:before {content: \"▾\";}#sk-container-id-2 div.sk-estimator input.sk-toggleable__control:checked~label.sk-toggleable__label {background-color: #d4ebff;}#sk-container-id-2 div.sk-label input.sk-toggleable__control:checked~label.sk-toggleable__label {background-color: #d4ebff;}#sk-container-id-2 input.sk-hidden--visually {border: 0;clip: rect(1px 1px 1px 1px);clip: rect(1px, 1px, 1px, 1px);height: 1px;margin: -1px;overflow: hidden;padding: 0;position: absolute;width: 1px;}#sk-container-id-2 div.sk-estimator {font-family: monospace;background-color: #f0f8ff;border: 1px dotted black;border-radius: 0.25em;box-sizing: border-box;margin-bottom: 0.5em;}#sk-container-id-2 div.sk-estimator:hover {background-color: #d4ebff;}#sk-container-id-2 div.sk-parallel-item::after {content: \"\";width: 100%;border-bottom: 1px solid gray;flex-grow: 1;}#sk-container-id-2 div.sk-label:hover label.sk-toggleable__label {background-color: #d4ebff;}#sk-container-id-2 div.sk-serial::before {content: \"\";position: absolute;border-left: 1px solid gray;box-sizing: border-box;top: 0;bottom: 0;left: 50%;z-index: 0;}#sk-container-id-2 div.sk-serial {display: flex;flex-direction: column;align-items: center;background-color: white;padding-right: 0.2em;padding-left: 0.2em;position: relative;}#sk-container-id-2 div.sk-item {position: relative;z-index: 1;}#sk-container-id-2 div.sk-parallel {display: flex;align-items: stretch;justify-content: center;background-color: white;position: relative;}#sk-container-id-2 div.sk-item::before, #sk-container-id-2 div.sk-parallel-item::before {content: \"\";position: absolute;border-left: 1px solid gray;box-sizing: border-box;top: 0;bottom: 0;left: 50%;z-index: -1;}#sk-container-id-2 div.sk-parallel-item {display: flex;flex-direction: column;z-index: 1;position: relative;background-color: white;}#sk-container-id-2 div.sk-parallel-item:first-child::after {align-self: flex-end;width: 50%;}#sk-container-id-2 div.sk-parallel-item:last-child::after {align-self: flex-start;width: 50%;}#sk-container-id-2 div.sk-parallel-item:only-child::after {width: 0;}#sk-container-id-2 div.sk-dashed-wrapped {border: 1px dashed gray;margin: 0 0.4em 0.5em 0.4em;box-sizing: border-box;padding-bottom: 0.4em;background-color: white;}#sk-container-id-2 div.sk-label label {font-family: monospace;font-weight: bold;display: inline-block;line-height: 1.2em;}#sk-container-id-2 div.sk-label-container {text-align: center;}#sk-container-id-2 div.sk-container {/* jupyter's `normalize.less` sets `[hidden] { display: none; }` but bootstrap.min.css set `[hidden] { display: none !important; }` so we also need the `!important` here to be able to override the default hidden behavior on the sphinx rendered scikit-learn.org. See: https://github.com/scikit-learn/scikit-learn/issues/21755 */display: inline-block !important;position: relative;}#sk-container-id-2 div.sk-text-repr-fallback {display: none;}</style><div id=\"sk-container-id-2\" class=\"sk-top-container\"><div class=\"sk-text-repr-fallback\"><pre>HistGradientBoostingRegressor(loss=&#x27;quantile&#x27;, max_iter=1, quantile=0.95)</pre><b>In a Jupyter environment, please rerun this cell to show the HTML representation or trust the notebook. <br />On GitHub, the HTML representation is unable to render, please try loading this page with nbviewer.org.</b></div><div class=\"sk-container\" hidden><div class=\"sk-item\"><div class=\"sk-estimator sk-toggleable\"><input class=\"sk-toggleable__control sk-hidden--visually\" id=\"sk-estimator-id-2\" type=\"checkbox\" checked><label for=\"sk-estimator-id-2\" class=\"sk-toggleable__label sk-toggleable__label-arrow\">HistGradientBoostingRegressor</label><div class=\"sk-toggleable__content\"><pre>HistGradientBoostingRegressor(loss=&#x27;quantile&#x27;, max_iter=1, quantile=0.95)</pre></div></div></div></div></div>"
      ],
      "text/plain": [
       "HistGradientBoostingRegressor(loss='quantile', max_iter=1, quantile=0.95)"
      ]
     },
     "execution_count": 23,
     "metadata": {},
     "output_type": "execute_result"
    }
   ],
   "source": [
    "model = HistGradientBoostingRegressor(\n",
    "    loss=\"quantile\", quantile=.95, max_iter=1\n",
    ")\n",
    "\n",
    "model_thetas = np.array(thetas_r).reshape(-1, 1)\n",
    "model_lambdas = np.array(lambdas_r).reshape(-1, 1)\n",
    "model.fit(model_thetas, model_lambdas)"
   ]
  },
  {
   "cell_type": "code",
   "execution_count": null,
   "id": "deed538c-e372-4116-b2be-53b652a7652a",
   "metadata": {
    "tags": []
   },
   "outputs": [
    {
     "data": {
      "text/plain": [
       "array([0.00633479, 0.00631502, 0.0062397 , 0.00604401, 0.00606857,\n",
       "       0.0057016 , 0.0057016 , 0.0057016 , 0.0057016 , 0.0057016 ,\n",
       "       0.0057016 , 0.0057016 , 0.0057016 ])"
      ]
     },
     "execution_count": 24,
     "metadata": {},
     "output_type": "execute_result"
    }
   ],
   "source": [
    "quantiles = model.predict(thetas.reshape(-1, 1))\n",
    "quantiles"
   ]
  },
  {
   "cell_type": "code",
   "execution_count": null,
   "id": "d5812f10-db87-4129-85be-ec2daeb3a6fd",
   "metadata": {
    "tags": []
   },
   "outputs": [
    {
     "name": "stdout",
     "output_type": "stream",
     "text": [
      "alpha for theta=0.5 : 0.1925 --- quantile: 0.006334786563000806\n",
      "alpha for theta=1.0 : 0.1847 --- quantile: 0.006315015003451892\n",
      "alpha for theta=1.5 : 0.1302 --- quantile: 0.006239704576894481\n",
      "alpha for theta=2.0 : 0.0765 --- quantile: 0.0060440149270052125\n",
      "alpha for theta=2.5 : 0.0256 --- quantile: 0.0060685705779764555\n",
      "alpha for theta=3.0 : 0.0098 --- quantile: 0.00570160115277289\n",
      "alpha for theta=3.5 : 0.0005 --- quantile: 0.00570160115277289\n",
      "alpha for theta=4.0 : 0.0 --- quantile: 0.00570160115277289\n",
      "alpha for theta=4.5 : 0.0 --- quantile: 0.00570160115277289\n",
      "alpha for theta=5.0 : 0.0 --- quantile: 0.00570160115277289\n",
      "alpha for theta=5.5 : 0.0 --- quantile: 0.00570160115277289\n",
      "alpha for theta=6.0 : 0.0 --- quantile: 0.00570160115277289\n",
      "alpha for theta=6.5 : 0.0 --- quantile: 0.00570160115277289\n",
      "mean absolute error: 0.061384615384615406\n",
      "standard error: 0.009809232736667634\n"
     ]
    }
   ],
   "source": [
    "err[\"err_reg_random\"] = eval_coverage(quantiles)"
   ]
  },
  {
   "cell_type": "markdown",
   "id": "34979e13",
   "metadata": {},
   "source": [
    "Obtaining the metrics for locart:"
   ]
  },
  {
   "cell_type": "code",
   "execution_count": null,
   "id": "8c07feeb",
   "metadata": {},
   "outputs": [],
   "source": [
    "# fitting locart to the new synthetic class\n",
    "locart_object = LocartSplit(LambdaScore, None, alpha = 0.05, is_fitted = True, split_calib = False)\n",
    "locart_quantiles = locart_object.calib(model_thetas, model_lambdas, min_samples_leaf = 50)\n",
    "idxs = locart_object.cart.apply(thetas.reshape(-1, 1))\n",
    "list_locart_quantiles = [locart_quantiles[idx] for idx in idxs]"
   ]
  },
  {
   "cell_type": "code",
   "execution_count": null,
   "id": "911da415",
   "metadata": {},
   "outputs": [
    {
     "name": "stdout",
     "output_type": "stream",
     "text": [
      "alpha for theta=0.5 : 0.0564 --- quantile: 0.009379409712633482\n",
      "alpha for theta=1.0 : 0.029 --- quantile: 0.010542781050779897\n",
      "alpha for theta=1.5 : 0.0231 --- quantile: 0.009479881221487699\n",
      "alpha for theta=2.0 : 0.0498 --- quantile: 0.006741569086661329\n",
      "alpha for theta=2.5 : 0.005 --- quantile: 0.0074858320336822\n",
      "alpha for theta=3.0 : 0.031 --- quantile: 0.004688038240274154\n",
      "alpha for theta=3.5 : 0.0381 --- quantile: 0.0035059815393709863\n",
      "alpha for theta=4.0 : 0.019 --- quantile: 0.0031872182541229552\n",
      "alpha for theta=4.5 : 0.0654 --- quantile: 0.0018915966401033368\n",
      "alpha for theta=5.0 : 0.0614 --- quantile: 0.0015387879061260178\n",
      "alpha for theta=5.5 : 0.0497 --- quantile: 0.0012157075349155317\n",
      "alpha for theta=6.0 : 0.0425 --- quantile: 0.0009826561669860107\n",
      "alpha for theta=6.5 : 0.0716 --- quantile: 0.0006996587312530109\n",
      "mean absolute error: 0.01673846153846154\n",
      "standard error: 0.0033898131149118268\n"
     ]
    }
   ],
   "source": [
    "err[\"err_locart_random\"] = eval_coverage(list_locart_quantiles)"
   ]
  },
  {
   "cell_type": "markdown",
   "id": "f65280d1-7ffc-4810-a53f-062162e59acf",
   "metadata": {},
   "source": [
    "## 20 iters in each theta"
   ]
  },
  {
   "cell_type": "markdown",
   "id": "fb48068f",
   "metadata": {},
   "source": [
    "Making less iterations for each theta and testing the gradient boosting, naive and so on:"
   ]
  },
  {
   "cell_type": "code",
   "execution_count": null,
   "id": "e28aaff1-67e1-43c0-8ec6-e49aff095024",
   "metadata": {
    "tags": []
   },
   "outputs": [],
   "source": [
    "# Aqui foi uma tentativa de fazer poucas iteracoes em cima de cada theta,\n",
    "# que é algo mais proximo do que acontece na realidade\n",
    "lambdas_few, thetas_few, _ = generate_parameters(thetas, N, 20)"
   ]
  },
  {
   "cell_type": "code",
   "execution_count": null,
   "id": "d994af11-91e8-4edb-987f-3843176d976d",
   "metadata": {
    "tags": []
   },
   "outputs": [
    {
     "name": "stderr",
     "output_type": "stream",
     "text": [
      "/home/kuben45/anaconda3/lib/python3.11/site-packages/sklearn/utils/validation.py:1184: DataConversionWarning: A column-vector y was passed when a 1d array was expected. Please change the shape of y to (n_samples, ), for example using ravel().\n",
      "  y = column_or_1d(y, warn=True)\n"
     ]
    },
    {
     "data": {
      "text/html": [
       "<style>#sk-container-id-3 {color: black;}#sk-container-id-3 pre{padding: 0;}#sk-container-id-3 div.sk-toggleable {background-color: white;}#sk-container-id-3 label.sk-toggleable__label {cursor: pointer;display: block;width: 100%;margin-bottom: 0;padding: 0.3em;box-sizing: border-box;text-align: center;}#sk-container-id-3 label.sk-toggleable__label-arrow:before {content: \"▸\";float: left;margin-right: 0.25em;color: #696969;}#sk-container-id-3 label.sk-toggleable__label-arrow:hover:before {color: black;}#sk-container-id-3 div.sk-estimator:hover label.sk-toggleable__label-arrow:before {color: black;}#sk-container-id-3 div.sk-toggleable__content {max-height: 0;max-width: 0;overflow: hidden;text-align: left;background-color: #f0f8ff;}#sk-container-id-3 div.sk-toggleable__content pre {margin: 0.2em;color: black;border-radius: 0.25em;background-color: #f0f8ff;}#sk-container-id-3 input.sk-toggleable__control:checked~div.sk-toggleable__content {max-height: 200px;max-width: 100%;overflow: auto;}#sk-container-id-3 input.sk-toggleable__control:checked~label.sk-toggleable__label-arrow:before {content: \"▾\";}#sk-container-id-3 div.sk-estimator input.sk-toggleable__control:checked~label.sk-toggleable__label {background-color: #d4ebff;}#sk-container-id-3 div.sk-label input.sk-toggleable__control:checked~label.sk-toggleable__label {background-color: #d4ebff;}#sk-container-id-3 input.sk-hidden--visually {border: 0;clip: rect(1px 1px 1px 1px);clip: rect(1px, 1px, 1px, 1px);height: 1px;margin: -1px;overflow: hidden;padding: 0;position: absolute;width: 1px;}#sk-container-id-3 div.sk-estimator {font-family: monospace;background-color: #f0f8ff;border: 1px dotted black;border-radius: 0.25em;box-sizing: border-box;margin-bottom: 0.5em;}#sk-container-id-3 div.sk-estimator:hover {background-color: #d4ebff;}#sk-container-id-3 div.sk-parallel-item::after {content: \"\";width: 100%;border-bottom: 1px solid gray;flex-grow: 1;}#sk-container-id-3 div.sk-label:hover label.sk-toggleable__label {background-color: #d4ebff;}#sk-container-id-3 div.sk-serial::before {content: \"\";position: absolute;border-left: 1px solid gray;box-sizing: border-box;top: 0;bottom: 0;left: 50%;z-index: 0;}#sk-container-id-3 div.sk-serial {display: flex;flex-direction: column;align-items: center;background-color: white;padding-right: 0.2em;padding-left: 0.2em;position: relative;}#sk-container-id-3 div.sk-item {position: relative;z-index: 1;}#sk-container-id-3 div.sk-parallel {display: flex;align-items: stretch;justify-content: center;background-color: white;position: relative;}#sk-container-id-3 div.sk-item::before, #sk-container-id-3 div.sk-parallel-item::before {content: \"\";position: absolute;border-left: 1px solid gray;box-sizing: border-box;top: 0;bottom: 0;left: 50%;z-index: -1;}#sk-container-id-3 div.sk-parallel-item {display: flex;flex-direction: column;z-index: 1;position: relative;background-color: white;}#sk-container-id-3 div.sk-parallel-item:first-child::after {align-self: flex-end;width: 50%;}#sk-container-id-3 div.sk-parallel-item:last-child::after {align-self: flex-start;width: 50%;}#sk-container-id-3 div.sk-parallel-item:only-child::after {width: 0;}#sk-container-id-3 div.sk-dashed-wrapped {border: 1px dashed gray;margin: 0 0.4em 0.5em 0.4em;box-sizing: border-box;padding-bottom: 0.4em;background-color: white;}#sk-container-id-3 div.sk-label label {font-family: monospace;font-weight: bold;display: inline-block;line-height: 1.2em;}#sk-container-id-3 div.sk-label-container {text-align: center;}#sk-container-id-3 div.sk-container {/* jupyter's `normalize.less` sets `[hidden] { display: none; }` but bootstrap.min.css set `[hidden] { display: none !important; }` so we also need the `!important` here to be able to override the default hidden behavior on the sphinx rendered scikit-learn.org. See: https://github.com/scikit-learn/scikit-learn/issues/21755 */display: inline-block !important;position: relative;}#sk-container-id-3 div.sk-text-repr-fallback {display: none;}</style><div id=\"sk-container-id-3\" class=\"sk-top-container\"><div class=\"sk-text-repr-fallback\"><pre>HistGradientBoostingRegressor(loss=&#x27;quantile&#x27;, max_iter=1, quantile=0.95)</pre><b>In a Jupyter environment, please rerun this cell to show the HTML representation or trust the notebook. <br />On GitHub, the HTML representation is unable to render, please try loading this page with nbviewer.org.</b></div><div class=\"sk-container\" hidden><div class=\"sk-item\"><div class=\"sk-estimator sk-toggleable\"><input class=\"sk-toggleable__control sk-hidden--visually\" id=\"sk-estimator-id-3\" type=\"checkbox\" checked><label for=\"sk-estimator-id-3\" class=\"sk-toggleable__label sk-toggleable__label-arrow\">HistGradientBoostingRegressor</label><div class=\"sk-toggleable__content\"><pre>HistGradientBoostingRegressor(loss=&#x27;quantile&#x27;, max_iter=1, quantile=0.95)</pre></div></div></div></div></div>"
      ],
      "text/plain": [
       "HistGradientBoostingRegressor(loss='quantile', max_iter=1, quantile=0.95)"
      ]
     },
     "execution_count": 29,
     "metadata": {},
     "output_type": "execute_result"
    }
   ],
   "source": [
    "model = HistGradientBoostingRegressor(\n",
    "    loss=\"quantile\", quantile=.95, max_iter=1\n",
    ")\n",
    "\n",
    "model_thetas = np.array(thetas_few).reshape(-1, 1)\n",
    "model_lambdas = np.array(lambdas_few).reshape(-1, 1)\n",
    "model.fit(model_thetas, model_lambdas)"
   ]
  },
  {
   "cell_type": "code",
   "execution_count": null,
   "id": "0bd893a1-0a6b-4674-9f4c-05494ce731de",
   "metadata": {
    "tags": []
   },
   "outputs": [
    {
     "data": {
      "text/plain": [
       "array([0.00595127, 0.00627218, 0.00591232, 0.00561421, 0.00559368,\n",
       "       0.00528434, 0.00528434, 0.00528434, 0.00528434, 0.00528434,\n",
       "       0.00528434, 0.00528434, 0.00528434])"
      ]
     },
     "execution_count": 30,
     "metadata": {},
     "output_type": "execute_result"
    }
   ],
   "source": [
    "quantiles = model.predict(thetas.reshape(-1, 1))\n",
    "quantiles"
   ]
  },
  {
   "cell_type": "code",
   "execution_count": null,
   "id": "f4137675-c8ff-4508-ba50-4782bd948c70",
   "metadata": {
    "tags": []
   },
   "outputs": [
    {
     "name": "stdout",
     "output_type": "stream",
     "text": [
      "alpha for theta=0.5 : 0.2121 --- quantile: 0.005951271655975811\n",
      "alpha for theta=1.0 : 0.1923 --- quantile: 0.006272180735542627\n",
      "alpha for theta=1.5 : 0.1538 --- quantile: 0.005912316616754129\n",
      "alpha for theta=2.0 : 0.104 --- quantile: 0.005614206521407959\n",
      "alpha for theta=2.5 : 0.0409 --- quantile: 0.0055936809062637075\n",
      "alpha for theta=3.0 : 0.0154 --- quantile: 0.005284337729609411\n",
      "alpha for theta=3.5 : 0.0025 --- quantile: 0.005284337729609411\n",
      "alpha for theta=4.0 : 0.0002 --- quantile: 0.005284337729609411\n",
      "alpha for theta=4.5 : 0.0 --- quantile: 0.005284337729609411\n",
      "alpha for theta=5.0 : 0.0 --- quantile: 0.005284337729609411\n",
      "alpha for theta=5.5 : 0.0 --- quantile: 0.005284337729609411\n",
      "alpha for theta=6.0 : 0.0 --- quantile: 0.005284337729609411\n",
      "alpha for theta=6.5 : 0.0 --- quantile: 0.005284337729609411\n",
      "mean absolute error: 0.06563076923076924\n",
      "standard error: 0.01159887458637517\n"
     ]
    }
   ],
   "source": [
    "err[\"err_reg_few_iters\"] = eval_coverage(quantiles)"
   ]
  },
  {
   "cell_type": "markdown",
   "id": "10eb453d",
   "metadata": {},
   "source": [
    "Testing also for MSE-locart:"
   ]
  },
  {
   "cell_type": "code",
   "execution_count": null,
   "id": "57473b5b",
   "metadata": {},
   "outputs": [],
   "source": [
    "# fitting locart to the new synthetic class\n",
    "# changing minimal sample leaves to a new strategic value\n",
    "locart_object = LocartSplit(LambdaScore, None, alpha = 0.05, is_fitted = True, split_calib = False)\n",
    "locart_quantiles = locart_object.calib(model_thetas, model_lambdas, min_samples_leaf = 5)\n",
    "idxs = locart_object.cart.apply(thetas.reshape(-1, 1))\n",
    "list_locart_quantiles = [locart_quantiles[idx] for idx in idxs]"
   ]
  },
  {
   "cell_type": "code",
   "execution_count": null,
   "id": "96f2b31f",
   "metadata": {},
   "outputs": [
    {
     "name": "stdout",
     "output_type": "stream",
     "text": [
      "alpha for theta=0.5 : 0.0214 --- quantile: 0.011365619094593767\n",
      "alpha for theta=1.0 : 0.0184 --- quantile: 0.011365619094593767\n",
      "alpha for theta=1.5 : 0.0083 --- quantile: 0.011365619094593767\n",
      "alpha for theta=2.0 : 0.0735 --- quantile: 0.006046244260783349\n",
      "alpha for theta=2.5 : 0.0262 --- quantile: 0.006046244260783349\n",
      "alpha for theta=3.0 : 0.1138 --- quantile: 0.0034275448175940036\n",
      "alpha for theta=3.5 : 0.0446 --- quantile: 0.0034275448175940036\n",
      "alpha for theta=4.0 : 0.0094 --- quantile: 0.0034275448175940036\n",
      "alpha for theta=4.5 : 0.0015 --- quantile: 0.0034275448175940036\n",
      "alpha for theta=5.0 : 0.0886 --- quantile: 0.0013695530009145325\n",
      "alpha for theta=5.5 : 0.0328 --- quantile: 0.0013695530009145325\n",
      "alpha for theta=6.0 : 0.0063 --- quantile: 0.0013695530009145325\n",
      "alpha for theta=6.5 : 0.0008 --- quantile: 0.0013695530009145325\n",
      "mean absolute error: 0.035092307692307693\n",
      "standard error: 0.00412907803137299\n"
     ]
    }
   ],
   "source": [
    "err[\"err_locart_few\"] = eval_coverage(list_locart_quantiles)"
   ]
  },
  {
   "cell_type": "markdown",
   "id": "36d6969e",
   "metadata": {},
   "source": [
    "# Conformal Loforest"
   ]
  },
  {
   "cell_type": "code",
   "execution_count": null,
   "id": "6e57dd63",
   "metadata": {},
   "outputs": [
    {
     "data": {
      "text/plain": [
       "array([0.00953066, 0.00947944, 0.00823016, 0.00663528, 0.005285  ,\n",
       "       0.00431293, 0.00330262, 0.00268436, 0.002009  , 0.00163795,\n",
       "       0.00121323, 0.00097875, 0.00070344])"
      ]
     },
     "execution_count": 35,
     "metadata": {},
     "output_type": "execute_result"
    }
   ],
   "source": [
    "model_thetas = np.array(thetas_).reshape(-1, 1)\n",
    "model_lambdas = np.array(lambdas)\n",
    "\n",
    "loforest_object = ConformalLoforest(LambdaScore, None, alpha = 0.05, is_fitted = True, split_calib = False)\n",
    "loforest_object.calibrate(model_thetas, model_lambdas, min_samples_leaf = 100)\n",
    "loforest_cutoffs = loforest_object.compute_cutoffs(thetas.reshape(-1, 1))\n",
    "\n",
    "loforest_cutoffs"
   ]
  },
  {
   "cell_type": "code",
   "execution_count": null,
   "id": "50874560",
   "metadata": {},
   "outputs": [
    {
     "name": "stdout",
     "output_type": "stream",
     "text": [
      "alpha for theta=0.5 : 0.0486 --- quantile: 0.009530659712633449\n",
      "alpha for theta=1.0 : 0.0486 --- quantile: 0.009479441171442338\n",
      "alpha for theta=1.5 : 0.0521 --- quantile: 0.008230160148429838\n",
      "alpha for theta=2.0 : 0.0523 --- quantile: 0.0066352832366126935\n",
      "alpha for theta=2.5 : 0.0545 --- quantile: 0.005284998623898807\n",
      "alpha for theta=3.0 : 0.0479 --- quantile: 0.004312931632136051\n",
      "alpha for theta=3.5 : 0.0551 --- quantile: 0.003302616577681494\n",
      "alpha for theta=4.0 : 0.0508 --- quantile: 0.0026843611112658157\n",
      "alpha for theta=4.5 : 0.0598 --- quantile: 0.002008996538242309\n",
      "alpha for theta=5.0 : 0.0522 --- quantile: 0.0016379469990854684\n",
      "alpha for theta=5.5 : 0.0589 --- quantile: 0.0012132285615359317\n",
      "alpha for theta=6.0 : 0.0542 --- quantile: 0.0009787521766663593\n",
      "alpha for theta=6.5 : 0.0684 --- quantile: 0.000703439192977573\n",
      "mean absolute error: 0.0048615384615384605\n",
      "standard error: 0.0013188904455195122\n"
     ]
    }
   ],
   "source": [
    "err[\"err_conformal_loforest\"] = eval_coverage(loforest_cutoffs)"
   ]
  },
  {
   "cell_type": "markdown",
   "id": "2662d5b2",
   "metadata": {},
   "source": [
    "Testing the random grid:"
   ]
  },
  {
   "cell_type": "code",
   "execution_count": null,
   "id": "0f85cd6c",
   "metadata": {},
   "outputs": [
    {
     "name": "stderr",
     "output_type": "stream",
     "text": [
      "/home/kuben45/anaconda3/lib/python3.11/site-packages/sklearn/base.py:1151: DataConversionWarning: A column-vector y was passed when a 1d array was expected. Please change the shape of y to (n_samples,), for example using ravel().\n",
      "  return fit_method(estimator, *args, **kwargs)\n"
     ]
    },
    {
     "data": {
      "text/plain": [
       "array([0.00913951, 0.00913951, 0.00823246, 0.0059261 , 0.00468826,\n",
       "       0.00468826, 0.00468826, 0.00468826, 0.00208553, 0.00208553,\n",
       "       0.00132199, 0.00132199, 0.00132199])"
      ]
     },
     "execution_count": 56,
     "metadata": {},
     "output_type": "execute_result"
    }
   ],
   "source": [
    "model_thetas = np.array(thetas_r).reshape(-1, 1)\n",
    "model_lambdas = np.array(lambdas_r).reshape(-1, 1)\n",
    "\n",
    "loforest_object = ConformalLoforest(LambdaScore, None, alpha = 0.05, is_fitted = True, split_calib = False)\n",
    "loforest_object.calibrate(model_thetas, model_lambdas, min_samples_leaf = 100)\n",
    "loforest_cutoffs = loforest_object.compute_cutoffs(thetas.reshape(-1, 1))\n",
    "\n",
    "loforest_cutoffs"
   ]
  },
  {
   "cell_type": "code",
   "execution_count": null,
   "id": "f1434158",
   "metadata": {},
   "outputs": [
    {
     "name": "stdout",
     "output_type": "stream",
     "text": [
      "alpha for theta=0.5 : 0.0576 --- quantile: 0.009139509270155511\n",
      "alpha for theta=1.0 : 0.057 --- quantile: 0.009139509270155511\n",
      "alpha for theta=1.5 : 0.0452 --- quantile: 0.008232460803696337\n",
      "alpha for theta=2.0 : 0.0852 --- quantile: 0.005926099837758356\n",
      "alpha for theta=2.5 : 0.0896 --- quantile: 0.0046882568329617924\n",
      "alpha for theta=3.0 : 0.0343 --- quantile: 0.0046882568329617924\n",
      "alpha for theta=3.5 : 0.006 --- quantile: 0.0046882568329617924\n",
      "alpha for theta=4.0 : 0.0002 --- quantile: 0.0046882568329617924\n",
      "alpha for theta=4.5 : 0.0516 --- quantile: 0.0020855278163685272\n",
      "alpha for theta=5.0 : 0.0108 --- quantile: 0.0020855278163685272\n",
      "alpha for theta=5.5 : 0.0328 --- quantile: 0.00132198532636369\n",
      "alpha for theta=6.0 : 0.0074 --- quantile: 0.00132198532636369\n",
      "alpha for theta=6.5 : 0.0002 --- quantile: 0.00132198532636369\n",
      "mean absolute error: 0.02723846153846154\n",
      "standard error: 0.004915998980042582\n"
     ]
    }
   ],
   "source": [
    "err[\"err_conformal_loforest_random\"] = eval_coverage(loforest_cutoffs)"
   ]
  },
  {
   "cell_type": "markdown",
   "id": "7277c899",
   "metadata": {},
   "source": [
    "Testing the small grid:"
   ]
  },
  {
   "cell_type": "code",
   "execution_count": null,
   "id": "3d509645",
   "metadata": {},
   "outputs": [
    {
     "name": "stderr",
     "output_type": "stream",
     "text": [
      "/home/kuben45/anaconda3/lib/python3.11/site-packages/sklearn/base.py:1151: DataConversionWarning: A column-vector y was passed when a 1d array was expected. Please change the shape of y to (n_samples,), for example using ravel().\n",
      "  return fit_method(estimator, *args, **kwargs)\n"
     ]
    },
    {
     "data": {
      "text/plain": [
       "array([0.01238547, 0.01136562, 0.00878135, 0.00604624, 0.00574461,\n",
       "       0.00551733, 0.00380876, 0.00279458, 0.003091  , 0.00178805,\n",
       "       0.00178677, 0.00133289, 0.00100344])"
      ]
     },
     "execution_count": 40,
     "metadata": {},
     "output_type": "execute_result"
    }
   ],
   "source": [
    "model_thetas = np.array(thetas_few).reshape(-1, 1)\n",
    "model_lambdas = np.array(lambdas_few).reshape(-1, 1)\n",
    "\n",
    "\n",
    "loforest_object = ConformalLoforest(LambdaScore, None, alpha = 0.05, is_fitted = True, split_calib = False)\n",
    "loforest_object.calibrate(model_thetas, model_lambdas, min_samples_leaf = 5)\n",
    "loforest_cutoffs = loforest_object.compute_cutoffs(thetas.reshape(-1, 1))\n",
    "\n",
    "loforest_cutoffs"
   ]
  },
  {
   "cell_type": "code",
   "execution_count": null,
   "id": "92d457df",
   "metadata": {},
   "outputs": [
    {
     "name": "stdout",
     "output_type": "stream",
     "text": [
      "alpha for theta=0.5 : 0.0114 --- quantile: 0.012385469112870234\n",
      "alpha for theta=1.0 : 0.0181 --- quantile: 0.011365619094593767\n",
      "alpha for theta=1.5 : 0.0361 --- quantile: 0.00878134785899164\n",
      "alpha for theta=2.0 : 0.0772 --- quantile: 0.006046244260783349\n",
      "alpha for theta=2.5 : 0.0369 --- quantile: 0.005744607174595659\n",
      "alpha for theta=3.0 : 0.0115 --- quantile: 0.005517334617694451\n",
      "alpha for theta=3.5 : 0.0221 --- quantile: 0.003808764970687576\n",
      "alpha for theta=4.0 : 0.0359 --- quantile: 0.0027945825229488772\n",
      "alpha for theta=4.5 : 0.0045 --- quantile: 0.0030910034617576913\n",
      "alpha for theta=5.0 : 0.028 --- quantile: 0.0017880508274796033\n",
      "alpha for theta=5.5 : 0.0055 --- quantile: 0.0017867714384640684\n",
      "alpha for theta=6.0 : 0.0064 --- quantile: 0.0013328859137119006\n",
      "alpha for theta=6.5 : 0.0099 --- quantile: 0.001003439192977573\n",
      "mean absolute error: 0.03083846153846154\n",
      "standard error: 0.003219789740305988\n"
     ]
    }
   ],
   "source": [
    "err[\"err_conformal_loforest_few\"] = eval_coverage(loforest_cutoffs)"
   ]
  },
  {
   "cell_type": "code",
   "execution_count": null,
   "id": "0e98ab0c",
   "metadata": {},
   "outputs": [],
   "source": [
    "err[\"err_pinball_loforest\"] = eval_coverage(loforest_cutoffs)"
   ]
  },
  {
   "cell_type": "markdown",
   "id": "8d65ee41",
   "metadata": {},
   "source": [
    "# Conformal loforest oriented by pinball loss"
   ]
  },
  {
   "cell_type": "code",
   "execution_count": 10,
   "id": "59d63678",
   "metadata": {},
   "outputs": [
    {
     "data": {
      "text/plain": [
       "array([0.00953066, 0.00947944, 0.00823016, 0.00663528, 0.00796934,\n",
       "       0.004815  , 0.00268707, 0.00268707, 0.00219738, 0.00219738,\n",
       "       0.00219738, 0.00219738, 0.00219738])"
      ]
     },
     "execution_count": 10,
     "metadata": {},
     "output_type": "execute_result"
    }
   ],
   "source": [
    "model_thetas = np.array(thetas_).reshape(-1, 1)\n",
    "model_lambdas = np.array(lambdas)\n",
    "\n",
    "qloforest_object = ConformalLoforest(LambdaScore, None, alpha = 0.05, is_fitted = True, split_calib = False)\n",
    "qloforest_object.calibrate(model_thetas, model_lambdas, min_samples_leaf = 50, objective = \"quantile\", colsample_bynode = 1, max_features = 1)\n",
    "qloforest_cutoffs = qloforest_object.compute_cutoffs(thetas.reshape(-1, 1))\n",
    "\n",
    "qloforest_cutoffs"
   ]
  },
  {
   "cell_type": "code",
   "execution_count": 11,
   "id": "55fa3663",
   "metadata": {},
   "outputs": [
    {
     "name": "stdout",
     "output_type": "stream",
     "text": [
      "alpha for theta=0.5 : 0.055 --- quantile: 0.009530659712633449\n",
      "alpha for theta=1.0 : 0.0488 --- quantile: 0.009479441171442338\n",
      "alpha for theta=1.5 : 0.0497 --- quantile: 0.008230160148429838\n",
      "alpha for theta=2.0 : 0.0532 --- quantile: 0.0066352832366126935\n",
      "alpha for theta=2.5 : 0.0039 --- quantile: 0.007969340287366622\n",
      "alpha for theta=3.0 : 0.0277 --- quantile: 0.004815001376101205\n",
      "alpha for theta=3.5 : 0.1212 --- quantile: 0.0026870683678639484\n",
      "alpha for theta=4.0 : 0.0431 --- quantile: 0.0026870683678639484\n",
      "alpha for theta=4.5 : 0.0338 --- quantile: 0.0021973834223185072\n",
      "alpha for theta=5.0 : 0.008 --- quantile: 0.0021973834223185072\n",
      "alpha for theta=5.5 : 0.0008 --- quantile: 0.0021973834223185072\n",
      "alpha for theta=6.0 : 0.0 --- quantile: 0.0021973834223185072\n",
      "alpha for theta=6.5 : 0.0 --- quantile: 0.0021973834223185072\n",
      "mean absolute error: 0.027969230769230767\n",
      "standard error: 0.006460525420728553\n"
     ]
    }
   ],
   "source": [
    "err[\"err_conformal_qloforest\"] = eval_coverage(qloforest_cutoffs)"
   ]
  },
  {
   "cell_type": "markdown",
   "id": "17e51429-86f3-4856-8c46-07f34ee93e9b",
   "metadata": {},
   "source": [
    "# Boosting"
   ]
  },
  {
   "cell_type": "markdown",
   "id": "1524efa5",
   "metadata": {},
   "source": [
    "Making use of the boosting algorithm to obtain the cutoff via a quantile regression"
   ]
  },
  {
   "cell_type": "code",
   "execution_count": null,
   "id": "baca09bb-b6dd-4f2d-aa56-84975b2240d7",
   "metadata": {
    "tags": []
   },
   "outputs": [
    {
     "name": "stderr",
     "output_type": "stream",
     "text": [
      "/home/kuben45/anaconda3/lib/python3.11/site-packages/sklearn/utils/validation.py:1184: DataConversionWarning: A column-vector y was passed when a 1d array was expected. Please change the shape of y to (n_samples, ), for example using ravel().\n",
      "  y = column_or_1d(y, warn=True)\n"
     ]
    },
    {
     "data": {
      "text/html": [
       "<style>#sk-container-id-4 {color: black;}#sk-container-id-4 pre{padding: 0;}#sk-container-id-4 div.sk-toggleable {background-color: white;}#sk-container-id-4 label.sk-toggleable__label {cursor: pointer;display: block;width: 100%;margin-bottom: 0;padding: 0.3em;box-sizing: border-box;text-align: center;}#sk-container-id-4 label.sk-toggleable__label-arrow:before {content: \"▸\";float: left;margin-right: 0.25em;color: #696969;}#sk-container-id-4 label.sk-toggleable__label-arrow:hover:before {color: black;}#sk-container-id-4 div.sk-estimator:hover label.sk-toggleable__label-arrow:before {color: black;}#sk-container-id-4 div.sk-toggleable__content {max-height: 0;max-width: 0;overflow: hidden;text-align: left;background-color: #f0f8ff;}#sk-container-id-4 div.sk-toggleable__content pre {margin: 0.2em;color: black;border-radius: 0.25em;background-color: #f0f8ff;}#sk-container-id-4 input.sk-toggleable__control:checked~div.sk-toggleable__content {max-height: 200px;max-width: 100%;overflow: auto;}#sk-container-id-4 input.sk-toggleable__control:checked~label.sk-toggleable__label-arrow:before {content: \"▾\";}#sk-container-id-4 div.sk-estimator input.sk-toggleable__control:checked~label.sk-toggleable__label {background-color: #d4ebff;}#sk-container-id-4 div.sk-label input.sk-toggleable__control:checked~label.sk-toggleable__label {background-color: #d4ebff;}#sk-container-id-4 input.sk-hidden--visually {border: 0;clip: rect(1px 1px 1px 1px);clip: rect(1px, 1px, 1px, 1px);height: 1px;margin: -1px;overflow: hidden;padding: 0;position: absolute;width: 1px;}#sk-container-id-4 div.sk-estimator {font-family: monospace;background-color: #f0f8ff;border: 1px dotted black;border-radius: 0.25em;box-sizing: border-box;margin-bottom: 0.5em;}#sk-container-id-4 div.sk-estimator:hover {background-color: #d4ebff;}#sk-container-id-4 div.sk-parallel-item::after {content: \"\";width: 100%;border-bottom: 1px solid gray;flex-grow: 1;}#sk-container-id-4 div.sk-label:hover label.sk-toggleable__label {background-color: #d4ebff;}#sk-container-id-4 div.sk-serial::before {content: \"\";position: absolute;border-left: 1px solid gray;box-sizing: border-box;top: 0;bottom: 0;left: 50%;z-index: 0;}#sk-container-id-4 div.sk-serial {display: flex;flex-direction: column;align-items: center;background-color: white;padding-right: 0.2em;padding-left: 0.2em;position: relative;}#sk-container-id-4 div.sk-item {position: relative;z-index: 1;}#sk-container-id-4 div.sk-parallel {display: flex;align-items: stretch;justify-content: center;background-color: white;position: relative;}#sk-container-id-4 div.sk-item::before, #sk-container-id-4 div.sk-parallel-item::before {content: \"\";position: absolute;border-left: 1px solid gray;box-sizing: border-box;top: 0;bottom: 0;left: 50%;z-index: -1;}#sk-container-id-4 div.sk-parallel-item {display: flex;flex-direction: column;z-index: 1;position: relative;background-color: white;}#sk-container-id-4 div.sk-parallel-item:first-child::after {align-self: flex-end;width: 50%;}#sk-container-id-4 div.sk-parallel-item:last-child::after {align-self: flex-start;width: 50%;}#sk-container-id-4 div.sk-parallel-item:only-child::after {width: 0;}#sk-container-id-4 div.sk-dashed-wrapped {border: 1px dashed gray;margin: 0 0.4em 0.5em 0.4em;box-sizing: border-box;padding-bottom: 0.4em;background-color: white;}#sk-container-id-4 div.sk-label label {font-family: monospace;font-weight: bold;display: inline-block;line-height: 1.2em;}#sk-container-id-4 div.sk-label-container {text-align: center;}#sk-container-id-4 div.sk-container {/* jupyter's `normalize.less` sets `[hidden] { display: none; }` but bootstrap.min.css set `[hidden] { display: none !important; }` so we also need the `!important` here to be able to override the default hidden behavior on the sphinx rendered scikit-learn.org. See: https://github.com/scikit-learn/scikit-learn/issues/21755 */display: inline-block !important;position: relative;}#sk-container-id-4 div.sk-text-repr-fallback {display: none;}</style><div id=\"sk-container-id-4\" class=\"sk-top-container\"><div class=\"sk-text-repr-fallback\"><pre>HistGradientBoostingRegressor(loss=&#x27;quantile&#x27;, quantile=0.95)</pre><b>In a Jupyter environment, please rerun this cell to show the HTML representation or trust the notebook. <br />On GitHub, the HTML representation is unable to render, please try loading this page with nbviewer.org.</b></div><div class=\"sk-container\" hidden><div class=\"sk-item\"><div class=\"sk-estimator sk-toggleable\"><input class=\"sk-toggleable__control sk-hidden--visually\" id=\"sk-estimator-id-4\" type=\"checkbox\" checked><label for=\"sk-estimator-id-4\" class=\"sk-toggleable__label sk-toggleable__label-arrow\">HistGradientBoostingRegressor</label><div class=\"sk-toggleable__content\"><pre>HistGradientBoostingRegressor(loss=&#x27;quantile&#x27;, quantile=0.95)</pre></div></div></div></div></div>"
      ],
      "text/plain": [
       "HistGradientBoostingRegressor(loss='quantile', quantile=0.95)"
      ]
     },
     "execution_count": 42,
     "metadata": {},
     "output_type": "execute_result"
    }
   ],
   "source": [
    "model = HistGradientBoostingRegressor(\n",
    "    loss=\"quantile\", quantile=.95\n",
    ")\n",
    "\n",
    "model_thetas = np.array(thetas_).reshape(-1, 1)\n",
    "model_lambdas = np.array(lambdas).reshape(-1, 1)\n",
    "model.fit(model_thetas, model_lambdas)"
   ]
  },
  {
   "cell_type": "code",
   "execution_count": null,
   "id": "de46fc41-6d51-48ae-9100-2afcba8aef22",
   "metadata": {
    "tags": []
   },
   "outputs": [
    {
     "data": {
      "text/plain": [
       "53"
      ]
     },
     "execution_count": 43,
     "metadata": {},
     "output_type": "execute_result"
    }
   ],
   "source": [
    "model.n_iter_"
   ]
  },
  {
   "cell_type": "code",
   "execution_count": null,
   "id": "471ad427-e371-4d2d-9d50-2805f95e27f9",
   "metadata": {
    "tags": []
   },
   "outputs": [
    {
     "data": {
      "text/plain": [
       "array([0.00951789, 0.00946686, 0.00822227, 0.00663339, 0.00528818,\n",
       "       0.00430301, 0.00330881, 0.00269731, 0.00202339, 0.00165305,\n",
       "       0.0012325 , 0.00100204, 0.00072469])"
      ]
     },
     "execution_count": 44,
     "metadata": {},
     "output_type": "execute_result"
    }
   ],
   "source": [
    "boosting_quantiles = model.predict(thetas.reshape(-1, 1))\n",
    "boosting_quantiles"
   ]
  },
  {
   "cell_type": "code",
   "execution_count": null,
   "id": "e9bd46fd-3e1b-49a1-92d0-44444da392a4",
   "metadata": {
    "tags": []
   },
   "outputs": [
    {
     "name": "stdout",
     "output_type": "stream",
     "text": [
      "alpha for theta=0.5 : 0.0509 --- quantile: 0.009517885565404586\n",
      "alpha for theta=1.0 : 0.0501 --- quantile: 0.00946685945750348\n",
      "alpha for theta=1.5 : 0.0457 --- quantile: 0.008222272110878684\n",
      "alpha for theta=2.0 : 0.0545 --- quantile: 0.006633387314497852\n",
      "alpha for theta=2.5 : 0.0528 --- quantile: 0.005288175858973282\n",
      "alpha for theta=3.0 : 0.0488 --- quantile: 0.004303013061496541\n",
      "alpha for theta=3.5 : 0.0511 --- quantile: 0.003308810354772356\n",
      "alpha for theta=4.0 : 0.044 --- quantile: 0.002697309207068315\n",
      "alpha for theta=4.5 : 0.0512 --- quantile: 0.0020233929319321583\n",
      "alpha for theta=5.0 : 0.0408 --- quantile: 0.0016530456026055012\n",
      "alpha for theta=5.5 : 0.0486 --- quantile: 0.00123250305627594\n",
      "alpha for theta=6.0 : 0.0472 --- quantile: 0.0010020419070685567\n",
      "alpha for theta=6.5 : 0.0488 --- quantile: 0.0007246870331545556\n",
      "mean absolute error: 0.0028230769230769234\n",
      "standard error: 0.0006870013605279974\n"
     ]
    }
   ],
   "source": [
    "err[\"err_boosting\"] = eval_coverage(boosting_quantiles)"
   ]
  },
  {
   "cell_type": "markdown",
   "id": "527a5b83-d32f-4189-bc5d-05a1cd6857cf",
   "metadata": {},
   "source": [
    "## Random - Boosting"
   ]
  },
  {
   "cell_type": "markdown",
   "id": "a42c7ac7",
   "metadata": {},
   "source": [
    "Repeating the random thetas experiment:"
   ]
  },
  {
   "cell_type": "code",
   "execution_count": null,
   "id": "69bd686e-f4e6-4182-aeed-5a50c5255f62",
   "metadata": {
    "tags": []
   },
   "outputs": [],
   "source": [
    "# boosting com os parametros gerados aleatoriamente\n",
    "model_r = HistGradientBoostingRegressor(\n",
    "    loss=\"quantile\", quantile=.95\n",
    ")"
   ]
  },
  {
   "cell_type": "code",
   "execution_count": null,
   "id": "9db7dd81-3989-485c-8a2e-5d23b1eb29ff",
   "metadata": {
    "tags": []
   },
   "outputs": [
    {
     "name": "stderr",
     "output_type": "stream",
     "text": [
      "/home/kuben45/anaconda3/lib/python3.11/site-packages/sklearn/utils/validation.py:1184: DataConversionWarning: A column-vector y was passed when a 1d array was expected. Please change the shape of y to (n_samples, ), for example using ravel().\n",
      "  y = column_or_1d(y, warn=True)\n"
     ]
    },
    {
     "data": {
      "text/html": [
       "<style>#sk-container-id-5 {color: black;}#sk-container-id-5 pre{padding: 0;}#sk-container-id-5 div.sk-toggleable {background-color: white;}#sk-container-id-5 label.sk-toggleable__label {cursor: pointer;display: block;width: 100%;margin-bottom: 0;padding: 0.3em;box-sizing: border-box;text-align: center;}#sk-container-id-5 label.sk-toggleable__label-arrow:before {content: \"▸\";float: left;margin-right: 0.25em;color: #696969;}#sk-container-id-5 label.sk-toggleable__label-arrow:hover:before {color: black;}#sk-container-id-5 div.sk-estimator:hover label.sk-toggleable__label-arrow:before {color: black;}#sk-container-id-5 div.sk-toggleable__content {max-height: 0;max-width: 0;overflow: hidden;text-align: left;background-color: #f0f8ff;}#sk-container-id-5 div.sk-toggleable__content pre {margin: 0.2em;color: black;border-radius: 0.25em;background-color: #f0f8ff;}#sk-container-id-5 input.sk-toggleable__control:checked~div.sk-toggleable__content {max-height: 200px;max-width: 100%;overflow: auto;}#sk-container-id-5 input.sk-toggleable__control:checked~label.sk-toggleable__label-arrow:before {content: \"▾\";}#sk-container-id-5 div.sk-estimator input.sk-toggleable__control:checked~label.sk-toggleable__label {background-color: #d4ebff;}#sk-container-id-5 div.sk-label input.sk-toggleable__control:checked~label.sk-toggleable__label {background-color: #d4ebff;}#sk-container-id-5 input.sk-hidden--visually {border: 0;clip: rect(1px 1px 1px 1px);clip: rect(1px, 1px, 1px, 1px);height: 1px;margin: -1px;overflow: hidden;padding: 0;position: absolute;width: 1px;}#sk-container-id-5 div.sk-estimator {font-family: monospace;background-color: #f0f8ff;border: 1px dotted black;border-radius: 0.25em;box-sizing: border-box;margin-bottom: 0.5em;}#sk-container-id-5 div.sk-estimator:hover {background-color: #d4ebff;}#sk-container-id-5 div.sk-parallel-item::after {content: \"\";width: 100%;border-bottom: 1px solid gray;flex-grow: 1;}#sk-container-id-5 div.sk-label:hover label.sk-toggleable__label {background-color: #d4ebff;}#sk-container-id-5 div.sk-serial::before {content: \"\";position: absolute;border-left: 1px solid gray;box-sizing: border-box;top: 0;bottom: 0;left: 50%;z-index: 0;}#sk-container-id-5 div.sk-serial {display: flex;flex-direction: column;align-items: center;background-color: white;padding-right: 0.2em;padding-left: 0.2em;position: relative;}#sk-container-id-5 div.sk-item {position: relative;z-index: 1;}#sk-container-id-5 div.sk-parallel {display: flex;align-items: stretch;justify-content: center;background-color: white;position: relative;}#sk-container-id-5 div.sk-item::before, #sk-container-id-5 div.sk-parallel-item::before {content: \"\";position: absolute;border-left: 1px solid gray;box-sizing: border-box;top: 0;bottom: 0;left: 50%;z-index: -1;}#sk-container-id-5 div.sk-parallel-item {display: flex;flex-direction: column;z-index: 1;position: relative;background-color: white;}#sk-container-id-5 div.sk-parallel-item:first-child::after {align-self: flex-end;width: 50%;}#sk-container-id-5 div.sk-parallel-item:last-child::after {align-self: flex-start;width: 50%;}#sk-container-id-5 div.sk-parallel-item:only-child::after {width: 0;}#sk-container-id-5 div.sk-dashed-wrapped {border: 1px dashed gray;margin: 0 0.4em 0.5em 0.4em;box-sizing: border-box;padding-bottom: 0.4em;background-color: white;}#sk-container-id-5 div.sk-label label {font-family: monospace;font-weight: bold;display: inline-block;line-height: 1.2em;}#sk-container-id-5 div.sk-label-container {text-align: center;}#sk-container-id-5 div.sk-container {/* jupyter's `normalize.less` sets `[hidden] { display: none; }` but bootstrap.min.css set `[hidden] { display: none !important; }` so we also need the `!important` here to be able to override the default hidden behavior on the sphinx rendered scikit-learn.org. See: https://github.com/scikit-learn/scikit-learn/issues/21755 */display: inline-block !important;position: relative;}#sk-container-id-5 div.sk-text-repr-fallback {display: none;}</style><div id=\"sk-container-id-5\" class=\"sk-top-container\"><div class=\"sk-text-repr-fallback\"><pre>HistGradientBoostingRegressor(loss=&#x27;quantile&#x27;, quantile=0.95)</pre><b>In a Jupyter environment, please rerun this cell to show the HTML representation or trust the notebook. <br />On GitHub, the HTML representation is unable to render, please try loading this page with nbviewer.org.</b></div><div class=\"sk-container\" hidden><div class=\"sk-item\"><div class=\"sk-estimator sk-toggleable\"><input class=\"sk-toggleable__control sk-hidden--visually\" id=\"sk-estimator-id-5\" type=\"checkbox\" checked><label for=\"sk-estimator-id-5\" class=\"sk-toggleable__label sk-toggleable__label-arrow\">HistGradientBoostingRegressor</label><div class=\"sk-toggleable__content\"><pre>HistGradientBoostingRegressor(loss=&#x27;quantile&#x27;, quantile=0.95)</pre></div></div></div></div></div>"
      ],
      "text/plain": [
       "HistGradientBoostingRegressor(loss='quantile', quantile=0.95)"
      ]
     },
     "execution_count": 47,
     "metadata": {},
     "output_type": "execute_result"
    }
   ],
   "source": [
    "model_thetas = np.array(thetas_r).reshape(-1, 1)\n",
    "model_lambdas = np.array(lambdas_r).reshape(-1, 1)\n",
    "model_r.fit(model_thetas, model_lambdas)"
   ]
  },
  {
   "cell_type": "code",
   "execution_count": null,
   "id": "1f35a650-d1f5-4db3-80e2-030782deeda3",
   "metadata": {
    "tags": []
   },
   "outputs": [
    {
     "data": {
      "text/plain": [
       "100"
      ]
     },
     "execution_count": 48,
     "metadata": {},
     "output_type": "execute_result"
    }
   ],
   "source": [
    "model_r.n_iter_"
   ]
  },
  {
   "cell_type": "code",
   "execution_count": null,
   "id": "37697f43-9928-4df9-9b50-45a5265735f0",
   "metadata": {
    "tags": []
   },
   "outputs": [
    {
     "data": {
      "text/plain": [
       "array([0.00914058, 0.00894287, 0.00818978, 0.00623294, 0.00647849,\n",
       "       0.00461665, 0.00340006, 0.0030394 , 0.00180907, 0.00145617,\n",
       "       0.00117344, 0.00094448, 0.00056116])"
      ]
     },
     "execution_count": 49,
     "metadata": {},
     "output_type": "execute_result"
    }
   ],
   "source": [
    "boosting_quantiles_r = model_r.predict(thetas.reshape(-1, 1))\n",
    "boosting_quantiles_r"
   ]
  },
  {
   "cell_type": "code",
   "execution_count": null,
   "id": "c24ce317-c138-4a28-932f-b4204df377fe",
   "metadata": {
    "tags": []
   },
   "outputs": [
    {
     "name": "stdout",
     "output_type": "stream",
     "text": [
      "alpha for theta=0.5 : 0.0597 --- quantile: 0.00914057690383788\n",
      "alpha for theta=1.0 : 0.0646 --- quantile: 0.008942866559951539\n",
      "alpha for theta=1.5 : 0.0497 --- quantile: 0.008189782297880236\n",
      "alpha for theta=2.0 : 0.0716 --- quantile: 0.006232937776896031\n",
      "alpha for theta=2.5 : 0.0208 --- quantile: 0.00647848776428406\n",
      "alpha for theta=3.0 : 0.0329 --- quantile: 0.004616650655146988\n",
      "alpha for theta=3.5 : 0.0459 --- quantile: 0.0034000614403316563\n",
      "alpha for theta=4.0 : 0.0227 --- quantile: 0.0030393998005053646\n",
      "alpha for theta=4.5 : 0.0782 --- quantile: 0.0018090736622344364\n",
      "alpha for theta=5.0 : 0.0758 --- quantile: 0.0014561710521714614\n",
      "alpha for theta=5.5 : 0.0719 --- quantile: 0.0011734427000124885\n",
      "alpha for theta=6.0 : 0.0524 --- quantile: 0.000944478226890295\n",
      "alpha for theta=6.5 : 0.1548 --- quantile: 0.0005611568324452675\n",
      "mean absolute error: 0.023615384615384614\n",
      "standard error: 0.00703348580874071\n"
     ]
    }
   ],
   "source": [
    "err[\"err_boosting_random\"] = eval_coverage(boosting_quantiles_r)"
   ]
  },
  {
   "cell_type": "markdown",
   "id": "336724ce-ecb6-40b4-9986-bcb702dd02d0",
   "metadata": {},
   "source": [
    "## 20 iters in each theta - Boosting"
   ]
  },
  {
   "cell_type": "code",
   "execution_count": null,
   "id": "223c2b70-1a85-4dc0-9f5d-3cac3f7b672c",
   "metadata": {
    "tags": []
   },
   "outputs": [
    {
     "name": "stderr",
     "output_type": "stream",
     "text": [
      "/home/kuben45/anaconda3/lib/python3.11/site-packages/sklearn/utils/validation.py:1184: DataConversionWarning: A column-vector y was passed when a 1d array was expected. Please change the shape of y to (n_samples, ), for example using ravel().\n",
      "  y = column_or_1d(y, warn=True)\n"
     ]
    },
    {
     "data": {
      "text/html": [
       "<style>#sk-container-id-6 {color: black;}#sk-container-id-6 pre{padding: 0;}#sk-container-id-6 div.sk-toggleable {background-color: white;}#sk-container-id-6 label.sk-toggleable__label {cursor: pointer;display: block;width: 100%;margin-bottom: 0;padding: 0.3em;box-sizing: border-box;text-align: center;}#sk-container-id-6 label.sk-toggleable__label-arrow:before {content: \"▸\";float: left;margin-right: 0.25em;color: #696969;}#sk-container-id-6 label.sk-toggleable__label-arrow:hover:before {color: black;}#sk-container-id-6 div.sk-estimator:hover label.sk-toggleable__label-arrow:before {color: black;}#sk-container-id-6 div.sk-toggleable__content {max-height: 0;max-width: 0;overflow: hidden;text-align: left;background-color: #f0f8ff;}#sk-container-id-6 div.sk-toggleable__content pre {margin: 0.2em;color: black;border-radius: 0.25em;background-color: #f0f8ff;}#sk-container-id-6 input.sk-toggleable__control:checked~div.sk-toggleable__content {max-height: 200px;max-width: 100%;overflow: auto;}#sk-container-id-6 input.sk-toggleable__control:checked~label.sk-toggleable__label-arrow:before {content: \"▾\";}#sk-container-id-6 div.sk-estimator input.sk-toggleable__control:checked~label.sk-toggleable__label {background-color: #d4ebff;}#sk-container-id-6 div.sk-label input.sk-toggleable__control:checked~label.sk-toggleable__label {background-color: #d4ebff;}#sk-container-id-6 input.sk-hidden--visually {border: 0;clip: rect(1px 1px 1px 1px);clip: rect(1px, 1px, 1px, 1px);height: 1px;margin: -1px;overflow: hidden;padding: 0;position: absolute;width: 1px;}#sk-container-id-6 div.sk-estimator {font-family: monospace;background-color: #f0f8ff;border: 1px dotted black;border-radius: 0.25em;box-sizing: border-box;margin-bottom: 0.5em;}#sk-container-id-6 div.sk-estimator:hover {background-color: #d4ebff;}#sk-container-id-6 div.sk-parallel-item::after {content: \"\";width: 100%;border-bottom: 1px solid gray;flex-grow: 1;}#sk-container-id-6 div.sk-label:hover label.sk-toggleable__label {background-color: #d4ebff;}#sk-container-id-6 div.sk-serial::before {content: \"\";position: absolute;border-left: 1px solid gray;box-sizing: border-box;top: 0;bottom: 0;left: 50%;z-index: 0;}#sk-container-id-6 div.sk-serial {display: flex;flex-direction: column;align-items: center;background-color: white;padding-right: 0.2em;padding-left: 0.2em;position: relative;}#sk-container-id-6 div.sk-item {position: relative;z-index: 1;}#sk-container-id-6 div.sk-parallel {display: flex;align-items: stretch;justify-content: center;background-color: white;position: relative;}#sk-container-id-6 div.sk-item::before, #sk-container-id-6 div.sk-parallel-item::before {content: \"\";position: absolute;border-left: 1px solid gray;box-sizing: border-box;top: 0;bottom: 0;left: 50%;z-index: -1;}#sk-container-id-6 div.sk-parallel-item {display: flex;flex-direction: column;z-index: 1;position: relative;background-color: white;}#sk-container-id-6 div.sk-parallel-item:first-child::after {align-self: flex-end;width: 50%;}#sk-container-id-6 div.sk-parallel-item:last-child::after {align-self: flex-start;width: 50%;}#sk-container-id-6 div.sk-parallel-item:only-child::after {width: 0;}#sk-container-id-6 div.sk-dashed-wrapped {border: 1px dashed gray;margin: 0 0.4em 0.5em 0.4em;box-sizing: border-box;padding-bottom: 0.4em;background-color: white;}#sk-container-id-6 div.sk-label label {font-family: monospace;font-weight: bold;display: inline-block;line-height: 1.2em;}#sk-container-id-6 div.sk-label-container {text-align: center;}#sk-container-id-6 div.sk-container {/* jupyter's `normalize.less` sets `[hidden] { display: none; }` but bootstrap.min.css set `[hidden] { display: none !important; }` so we also need the `!important` here to be able to override the default hidden behavior on the sphinx rendered scikit-learn.org. See: https://github.com/scikit-learn/scikit-learn/issues/21755 */display: inline-block !important;position: relative;}#sk-container-id-6 div.sk-text-repr-fallback {display: none;}</style><div id=\"sk-container-id-6\" class=\"sk-top-container\"><div class=\"sk-text-repr-fallback\"><pre>HistGradientBoostingRegressor(loss=&#x27;quantile&#x27;, quantile=0.95)</pre><b>In a Jupyter environment, please rerun this cell to show the HTML representation or trust the notebook. <br />On GitHub, the HTML representation is unable to render, please try loading this page with nbviewer.org.</b></div><div class=\"sk-container\" hidden><div class=\"sk-item\"><div class=\"sk-estimator sk-toggleable\"><input class=\"sk-toggleable__control sk-hidden--visually\" id=\"sk-estimator-id-6\" type=\"checkbox\" checked><label for=\"sk-estimator-id-6\" class=\"sk-toggleable__label sk-toggleable__label-arrow\">HistGradientBoostingRegressor</label><div class=\"sk-toggleable__content\"><pre>HistGradientBoostingRegressor(loss=&#x27;quantile&#x27;, quantile=0.95)</pre></div></div></div></div></div>"
      ],
      "text/plain": [
       "HistGradientBoostingRegressor(loss='quantile', quantile=0.95)"
      ]
     },
     "execution_count": 51,
     "metadata": {},
     "output_type": "execute_result"
    }
   ],
   "source": [
    "# boosting com poucas observacoes sobre cada theta\n",
    "model = HistGradientBoostingRegressor(\n",
    "    loss=\"quantile\", quantile=.95,\n",
    ")\n",
    "\n",
    "model_thetas = np.array(thetas_few).reshape(-1, 1)\n",
    "model_lambdas = np.array(lambdas_few).reshape(-1, 1)\n",
    "model.fit(model_thetas, model_lambdas)"
   ]
  },
  {
   "cell_type": "code",
   "execution_count": null,
   "id": "8cb0b32e-be25-4501-889b-123157b85c28",
   "metadata": {
    "tags": []
   },
   "outputs": [
    {
     "data": {
      "text/plain": [
       "100"
      ]
     },
     "execution_count": 52,
     "metadata": {},
     "output_type": "execute_result"
    }
   ],
   "source": [
    "model.n_iter_"
   ]
  },
  {
   "cell_type": "code",
   "execution_count": null,
   "id": "8ade981b-9679-4cc0-bad4-b0cd8d81a6aa",
   "metadata": {
    "tags": []
   },
   "outputs": [
    {
     "data": {
      "text/plain": [
       "array([0.00919342, 0.01239099, 0.00882378, 0.00577641, 0.00558608,\n",
       "       0.00492352, 0.00278027, 0.00265441, 0.00274259, 0.0017383 ,\n",
       "       0.00150412, 0.00130084, 0.00072386])"
      ]
     },
     "execution_count": 53,
     "metadata": {},
     "output_type": "execute_result"
    }
   ],
   "source": [
    "quantiles = model.predict(thetas.reshape(-1, 1))\n",
    "quantiles"
   ]
  },
  {
   "cell_type": "code",
   "execution_count": null,
   "id": "34448b1b-5d4e-4a95-b23a-ceef30fd92e1",
   "metadata": {
    "tags": []
   },
   "outputs": [
    {
     "name": "stdout",
     "output_type": "stream",
     "text": [
      "alpha for theta=0.5 : 0.0582 --- quantile: 0.00919342425185533\n",
      "alpha for theta=1.0 : 0.0105 --- quantile: 0.012390993913237138\n",
      "alpha for theta=1.5 : 0.0373 --- quantile: 0.00882378180140067\n",
      "alpha for theta=2.0 : 0.0876 --- quantile: 0.005776413735249767\n",
      "alpha for theta=2.5 : 0.0427 --- quantile: 0.005586083816467919\n",
      "alpha for theta=3.0 : 0.0216 --- quantile: 0.004923517746358238\n",
      "alpha for theta=3.5 : 0.1042 --- quantile: 0.0027802676585627034\n",
      "alpha for theta=4.0 : 0.0492 --- quantile: 0.002654408301393961\n",
      "alpha for theta=4.5 : 0.008 --- quantile: 0.002742594277357665\n",
      "alpha for theta=5.0 : 0.0311 --- quantile: 0.001738301331363586\n",
      "alpha for theta=5.5 : 0.0211 --- quantile: 0.0015041194997289955\n",
      "alpha for theta=6.0 : 0.0091 --- quantile: 0.0013008423245348634\n",
      "alpha for theta=6.5 : 0.051 --- quantile: 0.0007238562075916346\n",
      "mean absolute error: 0.02464615384615385\n",
      "standard error: 0.004700668659279569\n"
     ]
    }
   ],
   "source": [
    "err[\"err_boosting_few_iters\"] = eval_coverage(quantiles)"
   ]
  },
  {
   "cell_type": "markdown",
   "id": "721cd498",
   "metadata": {},
   "source": [
    "# Results:"
   ]
  },
  {
   "cell_type": "markdown",
   "id": "b40ee481",
   "metadata": {},
   "source": [
    "First, we plot all of these results in an errorbar plot:"
   ]
  },
  {
   "cell_type": "code",
   "execution_count": null,
   "id": "a40f1c8a-a7e8-4aa7-8d3f-a3b3a0f6e1e2",
   "metadata": {
    "tags": []
   },
   "outputs": [
    {
     "name": "stdout",
     "output_type": "stream",
     "text": [
      "err_naive = [0.00559230769230769, 0.0016826107334411324]\n",
      "err_pinball_locart = [0.0219, 0.008850293345855397]\n",
      "err_reg = [0.057592307692307707, 0.00851158251257996]\n",
      "err_locart = [0.00486153846153846, 0.0016695865789352656]\n",
      "err_reg_random = [0.061384615384615406, 0.009809232736667634]\n",
      "err_locart_random = [0.01673846153846154, 0.0033898131149118268]\n",
      "err_reg_few_iters = [0.06563076923076924, 0.01159887458637517]\n",
      "err_locart_few = [0.035092307692307693, 0.00412907803137299]\n",
      "err_conformal_loforest = [0.0048615384615384605, 0.0013188904455195122]\n",
      "err_conformal_loforest_random = [0.02783076923076924, 0.004685182290005167]\n",
      "err_conformal_loforest_few = [0.03083846153846154, 0.003219789740305988]\n",
      "err_boosting = [0.0028230769230769234, 0.0006870013605279974]\n",
      "err_boosting_random = [0.023615384615384614, 0.00703348580874071]\n",
      "err_boosting_few_iters = [0.02464615384615385, 0.004700668659279569]\n"
     ]
    }
   ],
   "source": [
    "for key, value in err.items():\n",
    "    print(f\"{key} = {value}\")"
   ]
  },
  {
   "cell_type": "code",
   "execution_count": null,
   "id": "40bad05c",
   "metadata": {},
   "outputs": [
    {
     "name": "stderr",
     "output_type": "stream",
     "text": [
      "/tmp/ipykernel_105472/322675001.py:4: MatplotlibDeprecationWarning: The seaborn styles shipped by Matplotlib are deprecated since 3.6, as they no longer correspond to the styles shipped by seaborn. However, they will remain available as 'seaborn-v0_8-<style>'. Alternatively, directly use the seaborn API instead.\n",
      "  plt.style.use('seaborn-white')\n"
     ]
    },
    {
     "data": {
      "image/png": "[encoded data removed]",
      "text/plain": [
       "<Figure size 1000x600 with 1 Axes>"
      ]
     },
     "metadata": {},
     "output_type": "display_data"
    }
   ],
   "source": [
    "# Use seaborn-white style\n",
    "plt.style.use('seaborn-white')\n",
    "\n",
    "# Extract keys and values from the dictionary\n",
    "keys = list(err.keys())\n",
    "values = list(err.values())\n",
    "\n",
    "# Separate mean absolute errors and standard errors\n",
    "mae = [val[0] for val in values]\n",
    "std_err = [val[1] for val in values]\n",
    "\n",
    "# Create an error bar plot\n",
    "plt.figure(figsize=(10, 6))\n",
    "plt.errorbar(keys, mae, yerr=std_err, fmt='o')\n",
    "plt.xlabel('Method')\n",
    "plt.ylabel('Error')\n",
    "plt.title('Coverage MAE error bars')\n",
    "plt.xticks(rotation=90)  # Rotate x-axis labels for better visibility\n",
    "plt.show()"
   ]
  },
  {
   "cell_type": "markdown",
   "id": "1ef18d2d",
   "metadata": {},
   "source": [
    "# Comparing naive to locart, conformal loforest and boosting for out of grid points:"
   ]
  },
  {
   "cell_type": "code",
   "execution_count": null,
   "id": "793f2794",
   "metadata": {},
   "outputs": [],
   "source": [
    "def eval_coverage_new_grid(theta_grid, quantiles):\n",
    "    # theta = parametro\n",
    "    # lambda = estatistica de teste\n",
    "    # Lambda: |P_teorica(exp > 1) - P_empirica(exp > 1)|\n",
    "    j = 0\n",
    "    err = 0\n",
    "    err_each = np.zeros(theta_grid.shape[0])\n",
    "    # computando erro padrao tambem\n",
    "    for theta in theta_grid:\n",
    "        theoretical = np.e**(-theta)\n",
    "        lambdas_ = []\n",
    "        for i in range(iters):\n",
    "            distr = np.random.exponential(1/theta, N)\n",
    "            empirical = len([i for i in distr if i > 1])/len(distr)\n",
    "            diff = abs(theoretical - empirical)\n",
    "            lambdas_.append(diff)\n",
    "        alpha = len([i for i in lambdas_ if i >= quantiles[j]])/len(lambdas_)\n",
    "        print(f\"alpha for theta={theta} : {alpha} --- quantile: {quantiles[j]}\")\n",
    "        err += abs(alpha - 0.05)\n",
    "        err_each[j] = abs(alpha - 0.05)\n",
    "        j += 1\n",
    "    print(f\"mean absolute error: {err/j}\")\n",
    "    standard_error = np.std(err_each)\n",
    "    print(f\"standard error: {standard_error/np.sqrt(j)}\")\n",
    "    return [err/j, standard_error/np.sqrt(j)]"
   ]
  },
  {
   "cell_type": "markdown",
   "id": "b225ca17",
   "metadata": {},
   "source": [
    "Generating random grid points:"
   ]
  },
  {
   "cell_type": "code",
   "execution_count": null,
   "id": "acfa926e",
   "metadata": {},
   "outputs": [],
   "source": [
    "np.random.seed(1250)\n",
    "random_theta_grid = np.random.uniform(0, 7, 20)\n",
    "err_random_grid = {}\n",
    "\n",
    "# model thetas for locart, loforest and boosting\n",
    "model_thetas = np.array(thetas_).reshape(-1, 1)\n",
    "model_lambdas = np.array(lambdas)"
   ]
  },
  {
   "cell_type": "markdown",
   "id": "d5f04256",
   "metadata": {},
   "source": [
    "Obtaining the quantiles for each method: Locart, Loforest, Boosting and Naive."
   ]
  },
  {
   "cell_type": "code",
   "execution_count": null,
   "id": "99c04c1e",
   "metadata": {},
   "outputs": [
    {
     "name": "stdout",
     "output_type": "stream",
     "text": [
      "alpha for theta=0.30275232042893696 : 0.0274 --- quantile: 0.009530659712633449\n",
      "alpha for theta=1.2411049560396177 : 0.0366 --- quantile: 0.009479441171442338\n",
      "alpha for theta=0.4083525026586644 : 0.0431 --- quantile: 0.009530659712633449\n",
      "alpha for theta=1.1196895413602677 : 0.043 --- quantile: 0.009479441171442338\n",
      "alpha for theta=3.4200838573417056 : 0.0593 --- quantile: 0.003302616577681494\n",
      "alpha for theta=1.9261873242851286 : 0.0571 --- quantile: 0.0066352832366126935\n",
      "alpha for theta=1.830834771124082 : 0.0723 --- quantile: 0.0066352832366126935\n",
      "alpha for theta=4.820033691255512 : 0.0707 --- quantile: 0.0016379469990854684\n",
      "alpha for theta=5.262142812213676 : 0.0918 --- quantile: 0.0012132285615359317\n",
      "alpha for theta=2.429114271837263 : 0.0627 --- quantile: 0.005284998623898807\n",
      "alpha for theta=0.7075902889591793 : 0.0585 --- quantile: 0.009530659712633449\n",
      "alpha for theta=2.25966809806648 : 0.0854 --- quantile: 0.005284998623898807\n",
      "alpha for theta=5.3851792923277175 : 0.0778 --- quantile: 0.0012132285615359317\n",
      "alpha for theta=6.073430391642602 : 0.0449 --- quantile: 0.0009787521766663593\n",
      "alpha for theta=5.464922471193592 : 0.0622 --- quantile: 0.0012132285615359317\n",
      "alpha for theta=5.505731352976682 : 0.0562 --- quantile: 0.0012132285615359317\n",
      "alpha for theta=5.291871356978555 : 0.085 --- quantile: 0.0012132285615359317\n",
      "alpha for theta=2.8995725181895837 : 0.0606 --- quantile: 0.004312931632136051\n",
      "alpha for theta=6.514790425294626 : 0.0681 --- quantile: 0.000703439192977573\n",
      "alpha for theta=4.308704764345565 : 0.0802 --- quantile: 0.002008996538242309\n",
      "mean absolute error: 0.017644999999999997\n",
      "standard error: 0.0024595576329901276\n",
      "alpha for theta=0.30275232042893696 : 0.0298 --- quantile: 0.009530659712633449\n",
      "alpha for theta=1.2411049560396177 : 0.038 --- quantile: 0.009479441171442338\n",
      "alpha for theta=0.4083525026586644 : 0.0469 --- quantile: 0.009530659712633449\n",
      "alpha for theta=1.1196895413602677 : 0.0431 --- quantile: 0.009479441171442338\n",
      "alpha for theta=3.4200838573417056 : 0.0607 --- quantile: 0.003302616577681494\n",
      "alpha for theta=1.9261873242851286 : 0.06 --- quantile: 0.0066352832366126935\n",
      "alpha for theta=1.830834771124082 : 0.0691 --- quantile: 0.0066352832366126935\n",
      "alpha for theta=4.820033691255512 : 0.0621 --- quantile: 0.0016379469990854684\n",
      "alpha for theta=5.262142812213676 : 0.0938 --- quantile: 0.0012132285615359317\n",
      "alpha for theta=2.429114271837263 : 0.0645 --- quantile: 0.005284998623898807\n",
      "alpha for theta=0.7075902889591793 : 0.0567 --- quantile: 0.009530659712633449\n",
      "alpha for theta=2.25966809806648 : 0.0866 --- quantile: 0.005284998623898807\n",
      "alpha for theta=5.3851792923277175 : 0.0796 --- quantile: 0.0012132285615359317\n",
      "alpha for theta=6.073430391642602 : 0.0481 --- quantile: 0.0009787521766663593\n",
      "alpha for theta=5.464922471193592 : 0.0609 --- quantile: 0.0012132285615359317\n",
      "alpha for theta=5.505731352976682 : 0.0605 --- quantile: 0.0012132285615359317\n",
      "alpha for theta=5.291871356978555 : 0.0888 --- quantile: 0.0012132285615359317\n",
      "alpha for theta=2.8995725181895837 : 0.0593 --- quantile: 0.004312931632136051\n",
      "alpha for theta=6.514790425294626 : 0.0662 --- quantile: 0.000703439192977573\n",
      "alpha for theta=4.308704764345565 : 0.0802 --- quantile: 0.002008996538242309\n",
      "mean absolute error: 0.017154999999999997\n",
      "standard error: 0.0026633951546850866\n",
      "alpha for theta=0.30275232042893696 : 0.0299 --- quantile: 0.009530659712633449\n",
      "alpha for theta=1.2411049560396177 : 0.037 --- quantile: 0.009479441171442338\n",
      "alpha for theta=0.4083525026586644 : 0.0407 --- quantile: 0.009530659712633449\n",
      "alpha for theta=1.1196895413602677 : 0.0459 --- quantile: 0.009479441171442338\n",
      "alpha for theta=3.4200838573417056 : 0.0605 --- quantile: 0.003302616577681494\n",
      "alpha for theta=1.9261873242851286 : 0.0636 --- quantile: 0.0066352832366126935\n",
      "alpha for theta=1.830834771124082 : 0.0703 --- quantile: 0.0066352832366126935\n",
      "alpha for theta=4.820033691255512 : 0.0622 --- quantile: 0.0016379469990854684\n",
      "alpha for theta=5.262142812213676 : 0.0934 --- quantile: 0.0012132285615359317\n",
      "alpha for theta=2.429114271837263 : 0.0605 --- quantile: 0.005284998623898807\n",
      "alpha for theta=0.7075902889591793 : 0.0539 --- quantile: 0.009530659712633449\n",
      "alpha for theta=2.25966809806648 : 0.0898 --- quantile: 0.005284998623898807\n",
      "alpha for theta=5.3851792923277175 : 0.0766 --- quantile: 0.0012132285615359317\n",
      "alpha for theta=6.073430391642602 : 0.047 --- quantile: 0.0009787521766663593\n",
      "alpha for theta=5.464922471193592 : 0.0666 --- quantile: 0.0012132285615359317\n",
      "alpha for theta=5.505731352976682 : 0.059 --- quantile: 0.0012132285615359317\n",
      "alpha for theta=5.291871356978555 : 0.0913 --- quantile: 0.0012132285615359317\n",
      "alpha for theta=2.8995725181895837 : 0.0541 --- quantile: 0.004312931632136051\n",
      "alpha for theta=6.514790425294626 : 0.0681 --- quantile: 0.000703439192977573\n",
      "alpha for theta=4.308704764345565 : 0.083 --- quantile: 0.002008996538242309\n",
      "mean absolute error: 0.017620000000000004\n",
      "standard error: 0.002796628327111059\n",
      "alpha for theta=0.30275232042893696 : 0.0341 --- quantile: 0.009448314007382108\n",
      "alpha for theta=1.2411049560396177 : 0.0392 --- quantile: 0.009458350622709827\n",
      "alpha for theta=0.4083525026586644 : 0.0481 --- quantile: 0.009448314007382108\n",
      "alpha for theta=1.1196895413602677 : 0.0428 --- quantile: 0.009458350622709827\n",
      "alpha for theta=3.4200838573417056 : 0.0563 --- quantile: 0.003315627362422609\n",
      "alpha for theta=1.9261873242851286 : 0.0562 --- quantile: 0.006632289170164415\n",
      "alpha for theta=1.830834771124082 : 0.0649 --- quantile: 0.006632289170164415\n",
      "alpha for theta=4.820033691255512 : 0.0634 --- quantile: 0.0016644749630685442\n",
      "alpha for theta=5.262142812213676 : 0.0807 --- quantile: 0.0012493247521742253\n",
      "alpha for theta=2.429114271837263 : 0.0615 --- quantile: 0.0052905959936972325\n",
      "alpha for theta=0.7075902889591793 : 0.0611 --- quantile: 0.009448314007382108\n",
      "alpha for theta=2.25966809806648 : 0.0848 --- quantile: 0.0052905959936972325\n",
      "alpha for theta=5.3851792923277175 : 0.0637 --- quantile: 0.0012493247521742253\n",
      "alpha for theta=6.073430391642602 : 0.027 --- quantile: 0.0010158735096434377\n",
      "alpha for theta=5.464922471193592 : 0.0562 --- quantile: 0.0012493247521742253\n",
      "alpha for theta=5.505731352976682 : 0.0489 --- quantile: 0.0012493247521742253\n",
      "alpha for theta=5.291871356978555 : 0.0758 --- quantile: 0.0012493247521742253\n",
      "alpha for theta=2.8995725181895837 : 0.0586 --- quantile: 0.004324713958430776\n",
      "alpha for theta=6.514790425294626 : 0.0509 --- quantile: 0.0007381875842648212\n",
      "alpha for theta=4.308704764345565 : 0.083 --- quantile: 0.0020335936516695415\n",
      "mean absolute error: 0.013850000000000001\n",
      "standard error: 0.002270952443359393\n"
     ]
    }
   ],
   "source": [
    "# naive quantiles\n",
    "naive_quantiles = train_naive_quantile(df_melted, thetas = thetas, alpha = alpha)\n",
    "naive = predict_naive_quantile(random_theta_grid, naive_quantiles)\n",
    "err_random_grid[\"naive\"] = eval_coverage_new_grid(random_theta_grid, naive)\n",
    "\n",
    "# locart quantiles\n",
    "locart_object = LocartSplit(LambdaScore, None, alpha = 0.05, is_fitted = True, split_calib = False)\n",
    "locart_quantiles = locart_object.calib(model_thetas, model_lambdas)\n",
    "idxs = locart_object.cart.apply(random_theta_grid.reshape(-1, 1))\n",
    "list_locart_quantiles = [locart_quantiles[idx] for idx in idxs]\n",
    "err_random_grid[\"locart\"] = eval_coverage_new_grid(random_theta_grid, list_locart_quantiles)\n",
    "\n",
    "# loforest quantiles\n",
    "loforest_object = ConformalLoforest(LambdaScore, None, alpha = 0.05, is_fitted = True, split_calib = False)\n",
    "loforest_object.calibrate(model_thetas, model_lambdas, min_samples_leaf = 100)\n",
    "loforest_cutoffs = loforest_object.compute_cutoffs(random_theta_grid.reshape(-1, 1))\n",
    "err_random_grid[\"c-loforest\"] = eval_coverage_new_grid(random_theta_grid, loforest_cutoffs)\n",
    "\n",
    "# boosting quantiles\n",
    "model = HistGradientBoostingRegressor(loss=\"quantile\", quantile=.95)\n",
    "model.fit(model_thetas, model_lambdas)\n",
    "boosting_quantiles = model.predict(random_theta_grid.reshape(-1, 1))\n",
    "err_random_grid[\"boosting\"] = eval_coverage_new_grid(random_theta_grid, boosting_quantiles)"
   ]
  },
  {
   "cell_type": "markdown",
   "id": "0ff1cf71",
   "metadata": {},
   "source": [
    "Plotting results:"
   ]
  },
  {
   "cell_type": "code",
   "execution_count": null,
   "id": "15cfaebb",
   "metadata": {},
   "outputs": [
    {
     "data": {
      "image/png": "[encoded data removed]",
      "text/plain": [
       "<Figure size 1000x600 with 1 Axes>"
      ]
     },
     "metadata": {},
     "output_type": "display_data"
    }
   ],
   "source": [
    "# Extract keys and values from the dictionary\n",
    "keys = list(err_random_grid.keys())\n",
    "values = list(err_random_grid.values())\n",
    "\n",
    "# Separate mean absolute errors and standard errors\n",
    "mae = [val[0] for val in values]\n",
    "std_err = [val[1] for val in values]\n",
    "\n",
    "# Create an error bar plot\n",
    "plt.figure(figsize=(10, 6))\n",
    "plt.errorbar(keys, mae, yerr=std_err, fmt='o')\n",
    "plt.xlabel('Method')\n",
    "plt.ylabel('Error')\n",
    "plt.title('Coverage MAE error bars')\n",
    "plt.xticks(rotation=90)  # Rotate x-axis labels for better visibility\n",
    "plt.show()"
   ]
  }
 ],
 "metadata": {
  "kernelspec": {
   "display_name": "base",
   "language": "python",
   "name": "python3"
  },
  "language_info": {
   "codemirror_mode": {
    "name": "ipython",
    "version": 3
   },
   "file_extension": ".py",
   "mimetype": "text/x-python",
   "name": "python",
   "nbconvert_exporter": "python",
   "pygments_lexer": "ipython3",
   "version": "3.11.5"
  }
 },
 "nbformat": 4,
 "nbformat_minor": 5
}
