{
 "cells": [
  {
   "cell_type": "markdown",
   "metadata": {},
   "source": [
    "# First experiments with all LFI data"
   ]
  },
  {
   "cell_type": "code",
   "execution_count": null,
   "metadata": {},
   "outputs": [],
   "source": [
    "# Importing all packages\n",
    "# normalizing flows packages\n",
    "import torch\n",
    "from torch.distributions.beta import Beta\n",
    "\n",
    "# loforest and locart functions\n",
    "from CSI.loforest import ConformalLoforest, tune_loforest_LFI\n",
    "from CSI.scores import Scores, LambdaScore, WaldoScore, BFFScore, E_valueScore\n",
    "from CSI.posterior_models import normflow_posterior\n",
    "from clover import LocartSplit\n",
    "\n",
    "# quantile regression\n",
    "from sklearn.ensemble import HistGradientBoostingRegressor\n",
    "\n",
    "# plotting and numpy\n",
    "from matplotlib import pyplot as plt\n",
    "import numpy as np\n",
    "from tqdm import tqdm\n",
    "import itertools\n",
    "import pandas as pd\n",
    "\n",
    "# package to simulate from weinberg LFI data\n",
    "# weinberg data (physics)\n",
    "from hypothesis.benchmark import weinberg\n",
    "# mg1 data (queue theory)\n",
    "from hypothesis.benchmark import mg1\n",
    "# multivariate normal (toy example)\n",
    "from hypothesis.benchmark import tractable\n",
    "\n",
    "from hypothesis.benchmark import sir"
   ]
  },
  {
   "cell_type": "markdown",
   "metadata": {},
   "source": [
    "## Defining general functions to make the comparisons:"
   ]
  },
  {
   "cell_type": "markdown",
   "metadata": {},
   "source": [
    "First, implementing naive quantiles and prediction:"
   ]
  },
  {
   "cell_type": "code",
   "execution_count": 26,
   "metadata": {},
   "outputs": [],
   "source": [
    "# defining naive function\n",
    "def naive(kind, simulator, score, alpha, B=1000, N=100, naive_n=500, disable_tqdm = True, log_transf = False):\n",
    "    n_grid = int(B / naive_n)\n",
    "    quantiles = {}\n",
    "\n",
    "    if kind == \"weinberg\":\n",
    "        thetas = np.linspace(0.5001, 1.4999, n_grid)\n",
    "        for theta in tqdm(thetas, desc = \"fitting monte carlo cutoffs\"):\n",
    "            theta_fixed = torch.tensor([theta])\n",
    "            repeated_thetas = theta_fixed.reshape(1, -1).repeat_interleave(repeats = naive_n*N, dim = 0)\n",
    "            X_samples = simulator(repeated_thetas)\n",
    "\n",
    "            if log_transf:\n",
    "                X_samples = torch.log(X_samples)\n",
    "\n",
    "            X_dim = X_samples.shape[1]\n",
    "            X_samples = X_samples.reshape(naive_n, N * X_dim)\n",
    "\n",
    "            lambdas = score.compute(thetas = repeated_thetas.numpy()[0:naive_n, :], X = X_samples.numpy(), disable_tqdm = disable_tqdm)\n",
    "\n",
    "            quantiles[theta] = np.quantile(lambdas, q = 1 - alpha)\n",
    "\n",
    "    elif kind == \"tractable\":\n",
    "        # given the complexity, reducing to only 10 grid if B > 5000\n",
    "        par_grid = np.linspace(-2.9999, 2.9999, int(np.ceil(n_grid**(1/5)))) \n",
    "\n",
    "        for theta_1, theta_2, theta_3, theta_4, theta_5 in tqdm(itertools.product(par_grid, par_grid, par_grid, par_grid, par_grid), \n",
    "                                                                desc =\"fitting monte carlo cutoffs\"):\n",
    "            theta_fixed = torch.tensor([theta_1, theta_2, theta_3, theta_4, theta_5])\n",
    "            repeated_thetas = theta_fixed.reshape(1, -1).repeat_interleave(repeats = naive_n*N, dim = 0)\n",
    "            X_samples = simulator(repeated_thetas)\n",
    "\n",
    "            if log_transf:\n",
    "                X_samples = torch.log(X_samples)\n",
    "\n",
    "            X_dim = X_samples.shape[1]\n",
    "            X_samples = X_samples.reshape(naive_n, N * X_dim)\n",
    "\n",
    "            lambdas = score.compute(thetas = repeated_thetas.numpy()[0:naive_n, :], X = X_samples.numpy(), disable_tqdm = disable_tqdm)\n",
    "\n",
    "            quantiles[(theta_1, theta_2, theta_3, theta_4, theta_5)] = np.quantile(lambdas, q = 1 - alpha)\n",
    "    \n",
    "    elif kind == \"sir\":\n",
    "        par_grid = np.linspace(0, 0.5, int(np.ceil(np.sqrt(n_grid))))\n",
    "\n",
    "        for theta_1, theta_2 in tqdm(itertools.product(par_grid, par_grid), desc = \"fitting monte carlo cutoffs\"):\n",
    "            theta_fixed = torch.tensor([theta_1, theta_2])\n",
    "            repeated_thetas = theta_fixed.reshape(1, -1).repeat_interleave(repeats = naive_n*N, dim = 0)\n",
    "            X_samples = simulator(repeated_thetas)\n",
    "\n",
    "            if log_transf:\n",
    "                X_samples = torch.log(X_samples)\n",
    "\n",
    "            X_dim = X_samples.shape[1]\n",
    "            X_samples = X_samples.reshape(naive_n, N * X_dim)\n",
    "\n",
    "            lambdas = score.compute(thetas = repeated_thetas.numpy()[0:naive_n, :], X = X_samples.numpy(), disable_tqdm = disable_tqdm)\n",
    "            \n",
    "            quantiles[(theta_1, theta_2)] = np.quantile(lambdas, q = 1 - alpha)\n",
    "\n",
    "    elif kind == \"mg1\":\n",
    "        pars_1 = np.linspace(0.0001, 9.9999, int(np.ceil(n_grid**(1/3))))\n",
    "        pars_2 = np.linspace(0.0001, 1/3 - 0.0001, int(np.ceil((n_grid)**(1/3))))\n",
    "\n",
    "        for par1, par2, par3 in tqdm(itertools.product(pars_1, pars_1, pars_2), desc = \"fitting monte carlo cutoffs\"):\n",
    "            theta_fixed = torch.tensor([par1, par2, par3])\n",
    "            repeated_thetas = theta_fixed.reshape(1, -1).repeat_interleave(repeats = naive_n*N, dim = 0)\n",
    "            X_samples = simulator(repeated_thetas)\n",
    "            \n",
    "            if log_transf:\n",
    "                X_samples = torch.log(X_samples)\n",
    "                \n",
    "            X_dim = X_samples.shape[1]\n",
    "            X_samples = X_samples.reshape(naive_n, N * X_dim)\n",
    "\n",
    "            lambdas = score.compute(\n",
    "                thetas = repeated_thetas.numpy()[0:naive_n, :],\n",
    "                X = X_samples.numpy(), \n",
    "                disable_tqdm = disable_tqdm)\n",
    "\n",
    "            quantiles[(par1, par2, par3)] = np.quantile(lambdas, q = 1 - alpha)\n",
    "    return quantiles\n",
    "\n",
    "# prediction function for naive\n",
    "def predict_naive_quantile(kind, theta_grid, quantiles_dict):\n",
    "    thetas_values = np.array(list(quantiles_dict.keys()))\n",
    "    quantiles_list = []\n",
    "    for theta in theta_grid:\n",
    "        if kind == \"weinberg\":\n",
    "            idx = thetas_values[int(np.argmin(np.abs(theta - thetas_values)))]\n",
    "            quantiles_list.append(quantiles_dict[idx])\n",
    "        else:\n",
    "            distances = np.linalg.norm(thetas_values - theta, axis=1)\n",
    "            idx = thetas_values[np.argmin(distances)]\n",
    "            quantiles_list.append(quantiles_dict[tuple(idx)])\n",
    "    return quantiles_list"
   ]
  },
  {
   "cell_type": "markdown",
   "metadata": {},
   "source": [
    "Defining an alternative prior to simulate data for calibration:"
   ]
  },
  {
   "cell_type": "code",
   "execution_count": 27,
   "metadata": {},
   "outputs": [],
   "source": [
    "def beta_prior(type, sample_size):\n",
    "    # simulating from beta(1/2, 1/2) for high-dimensional problems\n",
    "    new_prior = Beta(0.5, 0.5)\n",
    "    if type == \"mg1\":\n",
    "        prior_tensor = new_prior.sample((sample_size, 3))\n",
    "        # re-scaling to (0,10)\n",
    "        prior_tensor[:, :2] = prior_tensor[:, :2]*(10)\n",
    "        # re-scaling to (0,1/3)\n",
    "        prior_tensor[:, 2] = prior_tensor[:, 2]*(1/3)\n",
    "    elif type == \"tractable\":\n",
    "        prior_tensor = (new_prior.sample((sample_size, 5))*6) - 3\n",
    "    elif type == \"sir\":\n",
    "        prior_tensor = (new_prior.sample((sample_size, 2))*0.5)\n",
    "    elif type == \"weinberg\":\n",
    "        prior_tensor = (new_prior.sample((sample_size, ))) + 0.5\n",
    "    # add two moons and gravitational waves priors\n",
    "    return prior_tensor"
   ]
  },
  {
   "cell_type": "markdown",
   "metadata": {},
   "source": [
    "Now, implementing function for obtaining quantile in LFI version:"
   ]
  },
  {
   "cell_type": "code",
   "execution_count": 28,
   "metadata": {},
   "outputs": [],
   "source": [
    "def obtain_quantiles(\n",
    "    kind,\n",
    "    score,\n",
    "    theta_grid_eval,\n",
    "    simulator,\n",
    "    prior,\n",
    "    N,\n",
    "    B=1000,\n",
    "    alpha=0.05,\n",
    "    min_samples_leaf=100,\n",
    "    n_estimators = 100,\n",
    "    K = 50,\n",
    "    B_valid=1000,\n",
    "    N_lambda = 150,\n",
    "    K_grid= np.concatenate((np.array([0]), np.arange(15, 95, 5))),\n",
    "    naive_n=500,\n",
    "    disable_tqdm = True,\n",
    "    log_transf = False,\n",
    "    split_calib = False,\n",
    "    using_beta = False,\n",
    "):\n",
    "    # fitting and predicting naive (monte-carlo\n",
    "    print(\"Running naive method\")\n",
    "    naive_quantiles = naive(\n",
    "        kind = kind, \n",
    "        simulator = simulator, \n",
    "        score = score, \n",
    "        alpha = alpha, \n",
    "        B=B, \n",
    "        N=N, \n",
    "        naive_n= naive_n, \n",
    "        log_transf = log_transf\n",
    "        )\n",
    "    naive_list = predict_naive_quantile(kind, theta_grid_eval, naive_quantiles)\n",
    "\n",
    "    # simulating to fit models\n",
    "    if not using_beta:\n",
    "        thetas_sim = prior.sample((B,))\n",
    "    else:\n",
    "        thetas_sim = beta_prior(type = kind, sample_size = B)\n",
    "\n",
    "    if thetas_sim.ndim == 1:\n",
    "        model_thetas = thetas_sim.reshape(-1, 1)\n",
    "    else:\n",
    "        model_thetas = thetas_sim\n",
    "\n",
    "    repeated_thetas = thetas_sim.repeat_interleave(repeats = N, dim = 0)\n",
    "    X_net = simulator(repeated_thetas)\n",
    "    if log_transf:\n",
    "        X_net = torch.log(X_net)\n",
    "    X_dim = X_net.shape[1]\n",
    "    X_net = X_net.reshape(B, N * X_dim)\n",
    "\n",
    "    model_lambdas = score.compute(model_thetas.numpy(), X_net.numpy(), disable_tqdm = disable_tqdm)\n",
    "    print(model_lambdas)\n",
    "\n",
    "    print(\"Running all the other methods\")\n",
    "    locart_object = LocartSplit(\n",
    "        LambdaScore, None, alpha=alpha, is_fitted=True, split_calib= split_calib\n",
    "    )\n",
    "    locart_quantiles = locart_object.calib(\n",
    "        model_thetas.numpy(), model_lambdas, min_samples_leaf=min_samples_leaf\n",
    "    )\n",
    "\n",
    "    # loforest quantiles\n",
    "    loforest_object = ConformalLoforest(\n",
    "        LambdaScore, None, alpha=alpha, is_fitted=True, split_calib= split_calib\n",
    "    )\n",
    "    loforest_object.calibrate(\n",
    "        model_thetas.numpy(), \n",
    "        model_lambdas, \n",
    "        min_samples_leaf=min_samples_leaf, \n",
    "        n_estimators= n_estimators,\n",
    "        K = K,\n",
    "    )\n",
    "\n",
    "    # boosting quantiles\n",
    "    model = HistGradientBoostingRegressor(\n",
    "        loss=\"quantile\",\n",
    "        max_iter=100,\n",
    "        max_depth=3,\n",
    "        quantile=1 - alpha,\n",
    "        random_state=105,\n",
    "        n_iter_no_change=15,\n",
    "        early_stopping=True,\n",
    "    )\n",
    "    model.fit(model_thetas.numpy(), model_lambdas)\n",
    "\n",
    "    print(\"Obtaining tuning sample\")\n",
    "    # tuned loforest samples\n",
    "    if not using_beta:\n",
    "        theta_tune = prior.sample((B_valid,))\n",
    "    else:\n",
    "        theta_tune = beta_prior(type = kind, sample_size = B_valid)\n",
    "        \n",
    "\n",
    "    # finding tuned K\n",
    "    lambda_tune = np.zeros((theta_tune.shape[0], N_lambda))\n",
    "    if theta_tune.ndim == 1:\n",
    "        K_valid_thetas = theta_tune.reshape(-1, 1)\n",
    "    else:\n",
    "        K_valid_thetas = theta_tune\n",
    "\n",
    "    i = 0\n",
    "    for theta in tqdm(theta_tune, desc = \"Simulating all tuning sample\"):\n",
    "        if theta_tune.ndim == 1:\n",
    "            theta_repeated = torch.tensor([theta]).reshape(1, -1).repeat_interleave(repeats = N_lambda*N, dim = 0)\n",
    "        else:\n",
    "            theta_repeated = theta.reshape(1, -1).repeat_interleave(repeats = N_lambda*N, dim = 0)\n",
    "            \n",
    "        X_net = simulator(theta_repeated)\n",
    "        if log_transf:\n",
    "            X_net = torch.log(X_net)\n",
    "        X_dim = X_net.shape[1]\n",
    "        X_net = X_net.reshape(N_lambda, N * X_dim)\n",
    "        lambda_tune[i, :] = score.compute(thetas = theta_repeated.numpy()[0:N_lambda, :], X = X_net.numpy(), disable_tqdm = disable_tqdm)\n",
    "        i += 1\n",
    "\n",
    "    print(\"Fitting tuned loforest\")\n",
    "    K_loforest = tune_loforest_LFI(\n",
    "        loforest_object, theta_data = K_valid_thetas.numpy(), lambda_data = lambda_tune, K_grid=K_grid\n",
    "    )\n",
    "\n",
    "    # locart quantiles\n",
    "    if theta_grid_eval.ndim == 1:\n",
    "        model_eval = theta_grid_eval.reshape(-1, 1)\n",
    "    else:\n",
    "        model_eval = theta_grid_eval\n",
    "\n",
    "    idxs = locart_object.cart.apply(model_eval)\n",
    "    list_locart_quantiles = [locart_quantiles[idx] for idx in idxs]\n",
    "\n",
    "    # loforest\n",
    "    loforest_cutoffs = loforest_object.compute_cutoffs(model_eval)\n",
    "\n",
    "    # tuned loforest\n",
    "    loforest_tuned_cutoffs = loforest_object.compute_cutoffs(\n",
    "        model_eval, K=K_loforest\n",
    "    )\n",
    "\n",
    "    # boosting\n",
    "    boosting_quantiles = model.predict(model_eval)\n",
    "\n",
    "\n",
    "    # dictionary of quantiles\n",
    "    quantile_dict = {\n",
    "        \"naive\": naive_list,\n",
    "        \"locart\": list_locart_quantiles,\n",
    "        \"loforest_fixed\": loforest_cutoffs,\n",
    "        \"loforest_tuned\": loforest_tuned_cutoffs,\n",
    "        \"boosting\": boosting_quantiles,\n",
    "    }\n",
    "\n",
    "    return quantile_dict"
   ]
  },
  {
   "cell_type": "markdown",
   "metadata": {},
   "source": [
    "Function to compute MAE for a fixed N and B:"
   ]
  },
  {
   "cell_type": "code",
   "execution_count": 29,
   "metadata": {},
   "outputs": [],
   "source": [
    "def compute_MAE_N_B(\n",
    "    kind,\n",
    "    score,\n",
    "    theta_grid_eval,\n",
    "    simulator,\n",
    "    prior,\n",
    "    N = 1,\n",
    "    B = 10000,\n",
    "    alpha=0.05,\n",
    "    min_samples_leaf = 300,\n",
    "    n_estimators = 200,\n",
    "    K = 50,\n",
    "    B_valid= 500,\n",
    "    N_lambda = 250,\n",
    "    K_grid= np.concatenate((np.array([0]), np.arange(15, 125, 5))),\n",
    "    naive_n=500,\n",
    "    disable_tqdm = True,\n",
    "    seed = 45,\n",
    "    n_lambda = 300,\n",
    "    log_transf = False,\n",
    "    split_calib = False,\n",
    "    using_beta = False,\n",
    "):\n",
    "    torch.manual_seed(seed)\n",
    "    torch.cuda.manual_seed(seed)\n",
    "\n",
    "    quantiles_dict = obtain_quantiles(\n",
    "    kind = kind, \n",
    "    score = score, \n",
    "    theta_grid_eval = theta_grid_eval, \n",
    "    simulator = simulator,\n",
    "    prior = prior, \n",
    "    N = N, \n",
    "    B = B, \n",
    "    alpha = alpha, \n",
    "    min_samples_leaf = min_samples_leaf, \n",
    "    n_estimators = n_estimators, \n",
    "    K = K,\n",
    "    disable_tqdm = disable_tqdm,\n",
    "    B_valid = B_valid,\n",
    "    N_lambda= N_lambda,\n",
    "    K_grid = K_grid,\n",
    "    naive_n = naive_n,\n",
    "    log_transf = log_transf,\n",
    "    split_calib = split_calib,\n",
    "    using_beta = using_beta,\n",
    ")\n",
    "    mae_list, se_list, methods_list, N_list, B_list = [], [], [], [], []\n",
    "    err_data = np.zeros((theta_grid_eval.shape[0], 5))\n",
    "    l = 0\n",
    "    for theta in tqdm(theta_grid_eval, desc = \"Evaluating coverage in this setting\"):\n",
    "        if theta_grid_eval.ndim == 1:\n",
    "            theta_repeated = torch.tensor([theta]).reshape(1, -1).repeat_interleave(repeats = n_lambda*N, dim = 0)\n",
    "        else:\n",
    "            theta_repeated = torch.tensor([theta]).repeat_interleave(repeats = n_lambda*N, dim = 0)\n",
    "            \n",
    "        # simulating lambdas for testing\n",
    "        X_net = simulator(theta_repeated)\n",
    "        if log_transf:\n",
    "            X_net = torch.log(X_net)\n",
    "        X_dim = X_net.shape[1]\n",
    "        X_net = X_net.reshape(n_lambda, N * X_dim)\n",
    "\n",
    "        stat = score.compute(theta_repeated.numpy()[0:n_lambda, :], X_net.numpy(), disable_tqdm = True)\n",
    "                \n",
    "        # comparing coverage of methods\n",
    "        locart_cover = np.mean(stat <= quantiles_dict[\"locart\"][l])\n",
    "        loforest_cover = np.mean(stat <= quantiles_dict[\"loforest_fixed\"][l])\n",
    "        loforest_tuned_cover = np.mean(stat <= quantiles_dict[\"loforest_tuned\"][l])\n",
    "        boosting_cover = np.mean(stat <= quantiles_dict[\"boosting\"][l])\n",
    "        naive_cover = np.mean(stat <= quantiles_dict[\"naive\"][l])\n",
    "\n",
    "        # appending the errors\n",
    "        err_locart = np.abs(locart_cover - (1 - alpha))\n",
    "        err_loforest = np.abs(loforest_cover - (1 - alpha))\n",
    "        err_loforest_tuned = np.abs(loforest_tuned_cover - (1 - alpha))\n",
    "        err_boosting = np.abs(boosting_cover - (1 - alpha))\n",
    "        err_naive = np.abs(naive_cover - (1 - alpha))\n",
    "        \n",
    "            # saving in numpy array\n",
    "        err_data[l, :] = np.array([err_locart, err_loforest, err_loforest_tuned, err_boosting, err_naive])\n",
    "        l += 1\n",
    "\n",
    "    mae_list.extend(np.mean(err_data, axis=0).tolist())\n",
    "    se_list.extend((np.std(err_data, axis=0) / np.sqrt(theta_grid_eval.shape[0])).tolist())\n",
    "    methods_list.extend([\"LOCART\", \"LOFOREST\", \"tuned LOFOREST\", \"boosting\", \"monte-carlo\"])\n",
    "    N_list.extend([N] * 5)\n",
    "    B_list.extend([B] * 5)\n",
    "\n",
    "    stats_data = pd.DataFrame(\n",
    "        {\n",
    "            \"methods\": methods_list,\n",
    "            \"N\": N_list,\n",
    "            \"B\": B_list,\n",
    "            \"MAE\": mae_list,\n",
    "            \"se\": se_list,\n",
    "        }\n",
    "    )\n",
    "    return stats_data"
   ]
  },
  {
   "cell_type": "code",
   "execution_count": 30,
   "metadata": {},
   "outputs": [],
   "source": [
    "def fit_post_model(\n",
    "        simulator, \n",
    "        prior,\n",
    "        log_transf = False, \n",
    "        B_model = 20000, \n",
    "        n = 1, \n",
    "        seed = 45, \n",
    "        split_seed = 0,\n",
    "        n_flows = 8, \n",
    "        hidden_units = 128,\n",
    "        hidden_layers = 2,\n",
    "        enable_cuda = True,\n",
    "        patience = 50,\n",
    "        n_epochs = 2000,\n",
    "        batch_size = 250,\n",
    "        type_flow = \"Quadratic Spline\",\n",
    "        plot_history = True):\n",
    "\n",
    "        torch.manual_seed(seed)\n",
    "        torch.cuda.manual_seed(seed)\n",
    "\n",
    "        # simulating thetas\n",
    "        thetas = prior.sample((B_model, ))\n",
    "        repeated_thetas = thetas.repeat_interleave(repeats = n, dim = 0)\n",
    "\n",
    "        # simulating X's\n",
    "        X_sample = simulator(repeated_thetas)\n",
    "        # applying log if needed\n",
    "        if log_transf:\n",
    "                X_sample = torch.log(X_sample)\n",
    "        X_dim = X_sample.shape[1]\n",
    "        X_net = X_sample.reshape(B_model, n * X_dim)\n",
    "\n",
    "        if thetas.ndim == 1:\n",
    "                thetas = thetas.reshape(-1, 1)\n",
    "        nflow_post = normflow_posterior(\n",
    "        latent_size = thetas.shape[1],\n",
    "        sample_size = X_net.shape[1], \n",
    "        n_flows = n_flows, \n",
    "        hidden_units = hidden_units, \n",
    "        hidden_layers = hidden_layers,\n",
    "        enable_cuda = enable_cuda,\n",
    "        )\n",
    "\n",
    "        nflow_post.fit(\n",
    "                X_net.numpy(), \n",
    "                thetas.numpy(), \n",
    "                patience = patience, \n",
    "                n_epochs = n_epochs, \n",
    "                batch_size = batch_size, \n",
    "                split_seed = split_seed,\n",
    "                type = type_flow,\n",
    "                )\n",
    "        if plot_history:\n",
    "                nflow_post.plot_history()\n",
    "        \n",
    "        return nflow_post"
   ]
  },
  {
   "cell_type": "markdown",
   "metadata": {},
   "source": [
    "## Starting by the weinberg data:"
   ]
  },
  {
   "cell_type": "markdown",
   "metadata": {},
   "source": [
    "### First, fixing $n = 5$:"
   ]
  },
  {
   "cell_type": "markdown",
   "metadata": {},
   "source": [
    "Simulating and testing for tractable:"
   ]
  },
  {
   "cell_type": "code",
   "execution_count": 8,
   "metadata": {},
   "outputs": [],
   "source": [
    "simulator = weinberg.Simulator(default_beam_energy=40.0)\n",
    "prior = weinberg.Prior()"
   ]
  },
  {
   "cell_type": "markdown",
   "metadata": {},
   "source": [
    "Starting by samples size $n = 5$ and $B^{'} = 20000$ for posterior modeling. Fitting normalizing flow model and analysing loss:"
   ]
  },
  {
   "cell_type": "code",
   "execution_count": 9,
   "metadata": {},
   "outputs": [
    {
     "name": "stderr",
     "output_type": "stream",
     "text": [
      "Fitting normalizing flows posterior estimator:  10%|▉         | 198/2000 [00:43<06:32,  4.59it/s]"
     ]
    },
    {
     "name": "stdout",
     "output_type": "stream",
     "text": [
      "Early stopping at epoch 198\n",
      "a\n"
     ]
    },
    {
     "name": "stderr",
     "output_type": "stream",
     "text": [
      "\n"
     ]
    },
    {
     "data": {
      "image/png": "[encoded data removed]",
      "text/plain": [
       "<Figure size 640x480 with 1 Axes>"
      ]
     },
     "metadata": {},
     "output_type": "display_data"
    }
   ],
   "source": [
    "nflow_post = fit_post_model(simulator = simulator, prior = prior, B_model = 20000, n = 5, seed = 45, split_seed = 0)"
   ]
  },
  {
   "cell_type": "markdown",
   "metadata": {},
   "source": [
    "Now, fixing a grid and declaring all statistics that will be used in the comparisons:"
   ]
  },
  {
   "cell_type": "code",
   "execution_count": 10,
   "metadata": {},
   "outputs": [
    {
     "data": {
      "text/plain": [
       "<CP2LFI.scores.E_valueScore at 0x7f6860b7ed90>"
      ]
     },
     "execution_count": 10,
     "metadata": {},
     "output_type": "execute_result"
    }
   ],
   "source": [
    "# weinberg grid\n",
    "n_out = 150\n",
    "thetas_valid = np.linspace(0.5001, 1.4999, n_out)\n",
    "\n",
    "# defining scores\n",
    "# waldo score\n",
    "waldo_score = WaldoScore(nflow_post, is_fitted = True)\n",
    "waldo_score.fit()\n",
    "\n",
    "# BFF score\n",
    "bff_score = BFFScore(nflow_post, is_fitted = True)\n",
    "bff_score.fit()\n",
    "\n",
    "# e-value score\n",
    "e_value_score = E_valueScore(nflow_post, is_fitted = True)\n",
    "e_value_score.fit()"
   ]
  },
  {
   "cell_type": "markdown",
   "metadata": {},
   "source": [
    "#### Computing coverage for fixed $n$ and $B$:"
   ]
  },
  {
   "cell_type": "markdown",
   "metadata": {},
   "source": [
    "Computing for waldo:"
   ]
  },
  {
   "cell_type": "code",
   "execution_count": 11,
   "metadata": {},
   "outputs": [
    {
     "name": "stdout",
     "output_type": "stream",
     "text": [
      "Running naive method\n",
      "Running all the other methods\n",
      "Obtaining tuning sample\n"
     ]
    },
    {
     "name": "stderr",
     "output_type": "stream",
     "text": [
      "Simulating all tuning sample: 100%|██████████| 1000/1000 [1:46:51<00:00,  6.41s/it] \n"
     ]
    },
    {
     "name": "stdout",
     "output_type": "stream",
     "text": [
      "Fitting tuned loforest\n"
     ]
    },
    {
     "name": "stderr",
     "output_type": "stream",
     "text": [
      "Evaluating coverage in this setting: 100%|██████████| 300/300 [26:50<00:00,  5.37s/it]\n"
     ]
    }
   ],
   "source": [
    "waldo_stats_weinberg = compute_MAE_N_B(\n",
    "    kind = \"weinberg\", \n",
    "    score = waldo_score, \n",
    "    theta_grid_eval = thetas_valid, \n",
    "    simulator = simulator, \n",
    "    prior = prior, \n",
    "    N = 5, \n",
    "    B = 10000, \n",
    "    B_valid = 1000, \n",
    "    N_lambda = 300,\n",
    "    K = 70,\n",
    "    n_estimators = 200,\n",
    "    min_samples_leaf = 300,\n",
    "    )"
   ]
  },
  {
   "cell_type": "code",
   "execution_count": 14,
   "metadata": {},
   "outputs": [
    {
     "data": {
      "text/html": [
       "<div>\n",
       "<style scoped>\n",
       "    .dataframe tbody tr th:only-of-type {\n",
       "        vertical-align: middle;\n",
       "    }\n",
       "\n",
       "    .dataframe tbody tr th {\n",
       "        vertical-align: top;\n",
       "    }\n",
       "\n",
       "    .dataframe thead th {\n",
       "        text-align: right;\n",
       "    }\n",
       "</style>\n",
       "<table border=\"1\" class=\"dataframe\">\n",
       "  <thead>\n",
       "    <tr style=\"text-align: right;\">\n",
       "      <th></th>\n",
       "      <th>methods</th>\n",
       "      <th>N</th>\n",
       "      <th>B</th>\n",
       "      <th>MAE</th>\n",
       "      <th>se</th>\n",
       "    </tr>\n",
       "  </thead>\n",
       "  <tbody>\n",
       "    <tr>\n",
       "      <th>0</th>\n",
       "      <td>LOCART</td>\n",
       "      <td>5</td>\n",
       "      <td>10000</td>\n",
       "      <td>0.016367</td>\n",
       "      <td>0.000710</td>\n",
       "    </tr>\n",
       "    <tr>\n",
       "      <th>1</th>\n",
       "      <td>LOFOREST</td>\n",
       "      <td>5</td>\n",
       "      <td>10000</td>\n",
       "      <td>0.013800</td>\n",
       "      <td>0.000557</td>\n",
       "    </tr>\n",
       "    <tr>\n",
       "      <th>2</th>\n",
       "      <td>tuned LOFOREST</td>\n",
       "      <td>5</td>\n",
       "      <td>10000</td>\n",
       "      <td>0.013544</td>\n",
       "      <td>0.000536</td>\n",
       "    </tr>\n",
       "    <tr>\n",
       "      <th>3</th>\n",
       "      <td>boosting</td>\n",
       "      <td>5</td>\n",
       "      <td>10000</td>\n",
       "      <td>0.015722</td>\n",
       "      <td>0.000946</td>\n",
       "    </tr>\n",
       "    <tr>\n",
       "      <th>4</th>\n",
       "      <td>monte-carlo</td>\n",
       "      <td>5</td>\n",
       "      <td>10000</td>\n",
       "      <td>0.015311</td>\n",
       "      <td>0.000679</td>\n",
       "    </tr>\n",
       "  </tbody>\n",
       "</table>\n",
       "</div>"
      ],
      "text/plain": [
       "          methods  N      B       MAE        se\n",
       "0          LOCART  5  10000  0.016367  0.000710\n",
       "1        LOFOREST  5  10000  0.013800  0.000557\n",
       "2  tuned LOFOREST  5  10000  0.013544  0.000536\n",
       "3        boosting  5  10000  0.015722  0.000946\n",
       "4     monte-carlo  5  10000  0.015311  0.000679"
      ]
     },
     "execution_count": 14,
     "metadata": {},
     "output_type": "execute_result"
    }
   ],
   "source": [
    "waldo_stats_weinberg"
   ]
  },
  {
   "cell_type": "markdown",
   "metadata": {},
   "source": [
    "Computing for BFF:"
   ]
  },
  {
   "cell_type": "code",
   "execution_count": 18,
   "metadata": {},
   "outputs": [
    {
     "name": "stdout",
     "output_type": "stream",
     "text": [
      "Running naive method\n",
      "Running all the other methods\n",
      "Obtaining tuning sample\n"
     ]
    },
    {
     "name": "stderr",
     "output_type": "stream",
     "text": [
      "Simulating all tuning sample: 100%|██████████| 1000/1000 [03:46<00:00,  4.42it/s]\n"
     ]
    },
    {
     "name": "stdout",
     "output_type": "stream",
     "text": [
      "Fitting tuned loforest\n"
     ]
    },
    {
     "name": "stderr",
     "output_type": "stream",
     "text": [
      "Evaluating coverage in this setting: 100%|██████████| 300/300 [00:44<00:00,  6.80it/s]\n"
     ]
    }
   ],
   "source": [
    "bff_stats_weinberg = compute_MAE_N_B(\n",
    "    kind = \"weinberg\", \n",
    "    score = bff_score,\n",
    "    seed = 125,\n",
    "    theta_grid_eval = thetas_valid, \n",
    "    simulator = simulator, \n",
    "    prior = prior, \n",
    "    N = 5, \n",
    "    B = 10000, \n",
    "    B_valid = 1000, \n",
    "    N_lambda = 500,\n",
    "    K = 70,\n",
    "    n_estimators = 200,\n",
    "    min_samples_leaf = 300\n",
    "    )"
   ]
  },
  {
   "cell_type": "code",
   "execution_count": 19,
   "metadata": {},
   "outputs": [
    {
     "data": {
      "text/html": [
       "<div>\n",
       "<style scoped>\n",
       "    .dataframe tbody tr th:only-of-type {\n",
       "        vertical-align: middle;\n",
       "    }\n",
       "\n",
       "    .dataframe tbody tr th {\n",
       "        vertical-align: top;\n",
       "    }\n",
       "\n",
       "    .dataframe thead th {\n",
       "        text-align: right;\n",
       "    }\n",
       "</style>\n",
       "<table border=\"1\" class=\"dataframe\">\n",
       "  <thead>\n",
       "    <tr style=\"text-align: right;\">\n",
       "      <th></th>\n",
       "      <th>methods</th>\n",
       "      <th>N</th>\n",
       "      <th>B</th>\n",
       "      <th>MAE</th>\n",
       "      <th>se</th>\n",
       "    </tr>\n",
       "  </thead>\n",
       "  <tbody>\n",
       "    <tr>\n",
       "      <th>0</th>\n",
       "      <td>LOCART</td>\n",
       "      <td>5</td>\n",
       "      <td>10000</td>\n",
       "      <td>0.019544</td>\n",
       "      <td>0.001034</td>\n",
       "    </tr>\n",
       "    <tr>\n",
       "      <th>1</th>\n",
       "      <td>LOFOREST</td>\n",
       "      <td>5</td>\n",
       "      <td>10000</td>\n",
       "      <td>0.021856</td>\n",
       "      <td>0.001658</td>\n",
       "    </tr>\n",
       "    <tr>\n",
       "      <th>2</th>\n",
       "      <td>tuned LOFOREST</td>\n",
       "      <td>5</td>\n",
       "      <td>10000</td>\n",
       "      <td>0.020822</td>\n",
       "      <td>0.001657</td>\n",
       "    </tr>\n",
       "    <tr>\n",
       "      <th>3</th>\n",
       "      <td>boosting</td>\n",
       "      <td>5</td>\n",
       "      <td>10000</td>\n",
       "      <td>0.016644</td>\n",
       "      <td>0.000774</td>\n",
       "    </tr>\n",
       "    <tr>\n",
       "      <th>4</th>\n",
       "      <td>monte-carlo</td>\n",
       "      <td>5</td>\n",
       "      <td>10000</td>\n",
       "      <td>0.020367</td>\n",
       "      <td>0.001043</td>\n",
       "    </tr>\n",
       "  </tbody>\n",
       "</table>\n",
       "</div>"
      ],
      "text/plain": [
       "          methods  N      B       MAE        se\n",
       "0          LOCART  5  10000  0.019544  0.001034\n",
       "1        LOFOREST  5  10000  0.021856  0.001658\n",
       "2  tuned LOFOREST  5  10000  0.020822  0.001657\n",
       "3        boosting  5  10000  0.016644  0.000774\n",
       "4     monte-carlo  5  10000  0.020367  0.001043"
      ]
     },
     "execution_count": 19,
     "metadata": {},
     "output_type": "execute_result"
    }
   ],
   "source": [
    "bff_stats_weinberg"
   ]
  },
  {
   "cell_type": "markdown",
   "metadata": {},
   "source": [
    "Computing for e-value:"
   ]
  },
  {
   "cell_type": "code",
   "execution_count": 9,
   "metadata": {},
   "outputs": [
    {
     "name": "stdout",
     "output_type": "stream",
     "text": [
      "Running naive method\n",
      "Running all the other methods\n",
      "Obtaining tuning sample\n"
     ]
    },
    {
     "name": "stderr",
     "output_type": "stream",
     "text": [
      "Simulating all tuning sample: 100%|██████████| 500/500 [1:17:03<00:00,  9.25s/it]\n"
     ]
    },
    {
     "name": "stdout",
     "output_type": "stream",
     "text": [
      "Fitting tuned loforest\n"
     ]
    },
    {
     "name": "stderr",
     "output_type": "stream",
     "text": [
      "Evaluating coverage in this setting: 100%|██████████| 300/300 [1:08:46<00:00, 13.75s/it]\n"
     ]
    }
   ],
   "source": [
    "e_value_stats_weinberg = compute_MAE_N_B(\n",
    "    kind = \"weinberg\", \n",
    "    score = e_value_score,\n",
    "    seed = 150, \n",
    "    theta_grid_eval = thetas_valid, \n",
    "    simulator = simulator, \n",
    "    prior = prior, \n",
    "    N = 5, \n",
    "    B = 10000, \n",
    "    B_valid = 500, \n",
    "    N_lambda = 200,\n",
    "    K = 70,\n",
    "    n_estimators = 200,\n",
    "    min_samples_leaf = 300,\n",
    "    )"
   ]
  },
  {
   "cell_type": "code",
   "execution_count": 10,
   "metadata": {},
   "outputs": [
    {
     "data": {
      "text/html": [
       "<div>\n",
       "<style scoped>\n",
       "    .dataframe tbody tr th:only-of-type {\n",
       "        vertical-align: middle;\n",
       "    }\n",
       "\n",
       "    .dataframe tbody tr th {\n",
       "        vertical-align: top;\n",
       "    }\n",
       "\n",
       "    .dataframe thead th {\n",
       "        text-align: right;\n",
       "    }\n",
       "</style>\n",
       "<table border=\"1\" class=\"dataframe\">\n",
       "  <thead>\n",
       "    <tr style=\"text-align: right;\">\n",
       "      <th></th>\n",
       "      <th>methods</th>\n",
       "      <th>N</th>\n",
       "      <th>B</th>\n",
       "      <th>MAE</th>\n",
       "      <th>se</th>\n",
       "    </tr>\n",
       "  </thead>\n",
       "  <tbody>\n",
       "    <tr>\n",
       "      <th>0</th>\n",
       "      <td>LOCART</td>\n",
       "      <td>5</td>\n",
       "      <td>10000</td>\n",
       "      <td>0.020067</td>\n",
       "      <td>0.000966</td>\n",
       "    </tr>\n",
       "    <tr>\n",
       "      <th>1</th>\n",
       "      <td>LOFOREST</td>\n",
       "      <td>5</td>\n",
       "      <td>10000</td>\n",
       "      <td>0.021811</td>\n",
       "      <td>0.001100</td>\n",
       "    </tr>\n",
       "    <tr>\n",
       "      <th>2</th>\n",
       "      <td>tuned LOFOREST</td>\n",
       "      <td>5</td>\n",
       "      <td>10000</td>\n",
       "      <td>0.021733</td>\n",
       "      <td>0.001085</td>\n",
       "    </tr>\n",
       "    <tr>\n",
       "      <th>3</th>\n",
       "      <td>boosting</td>\n",
       "      <td>5</td>\n",
       "      <td>10000</td>\n",
       "      <td>0.017522</td>\n",
       "      <td>0.000995</td>\n",
       "    </tr>\n",
       "    <tr>\n",
       "      <th>4</th>\n",
       "      <td>monte-carlo</td>\n",
       "      <td>5</td>\n",
       "      <td>10000</td>\n",
       "      <td>0.023900</td>\n",
       "      <td>0.001530</td>\n",
       "    </tr>\n",
       "  </tbody>\n",
       "</table>\n",
       "</div>"
      ],
      "text/plain": [
       "          methods  N      B       MAE        se\n",
       "0          LOCART  5  10000  0.020067  0.000966\n",
       "1        LOFOREST  5  10000  0.021811  0.001100\n",
       "2  tuned LOFOREST  5  10000  0.021733  0.001085\n",
       "3        boosting  5  10000  0.017522  0.000995\n",
       "4     monte-carlo  5  10000  0.023900  0.001530"
      ]
     },
     "execution_count": 10,
     "metadata": {},
     "output_type": "execute_result"
    }
   ],
   "source": [
    "e_value_stats_weinberg"
   ]
  },
  {
   "cell_type": "markdown",
   "metadata": {},
   "source": [
    "### Increasing n to 25 and testing:"
   ]
  },
  {
   "cell_type": "markdown",
   "metadata": {},
   "source": [
    "refitting normalizing flows:"
   ]
  },
  {
   "cell_type": "code",
   "execution_count": 28,
   "metadata": {},
   "outputs": [
    {
     "name": "stderr",
     "output_type": "stream",
     "text": [
      "Fitting normalizing flows posterior estimator:  17%|█▋        | 342/2000 [01:14<06:02,  4.58it/s]"
     ]
    },
    {
     "name": "stdout",
     "output_type": "stream",
     "text": [
      "Early stopping at epoch 342\n",
      "a\n"
     ]
    },
    {
     "name": "stderr",
     "output_type": "stream",
     "text": [
      "\n"
     ]
    },
    {
     "data": {
      "image/png": "[encoded data removed]",
      "text/plain": [
       "<Figure size 640x480 with 1 Axes>"
      ]
     },
     "metadata": {},
     "output_type": "display_data"
    }
   ],
   "source": [
    "nflow_post = fit_post_model(simulator = simulator, prior = prior, B_model = 20000, n = 25, seed = 45, split_seed = 0)"
   ]
  },
  {
   "cell_type": "code",
   "execution_count": 29,
   "metadata": {},
   "outputs": [
    {
     "data": {
      "text/plain": [
       "<CP2LFI.scores.E_valueScore at 0x7f68582fb0d0>"
      ]
     },
     "execution_count": 29,
     "metadata": {},
     "output_type": "execute_result"
    }
   ],
   "source": [
    "# weinberg grid\n",
    "n_out = 150\n",
    "thetas_valid = np.linspace(0.5001, 1.4999, n_out)\n",
    "\n",
    "# defining scores\n",
    "# waldo score\n",
    "waldo_score = WaldoScore(nflow_post, is_fitted = True)\n",
    "waldo_score.fit()\n",
    "\n",
    "# BFF score\n",
    "bff_score = BFFScore(nflow_post, is_fitted = True)\n",
    "bff_score.fit()\n",
    "\n",
    "# e-value score\n",
    "e_value_score = E_valueScore(nflow_post, is_fitted = True)\n",
    "e_value_score.fit()"
   ]
  },
  {
   "cell_type": "markdown",
   "metadata": {},
   "source": [
    "testing first bff"
   ]
  },
  {
   "cell_type": "code",
   "execution_count": 30,
   "metadata": {},
   "outputs": [
    {
     "name": "stdout",
     "output_type": "stream",
     "text": [
      "Running naive method\n"
     ]
    },
    {
     "name": "stderr",
     "output_type": "stream",
     "text": [
      "fitting monte carlo cutoffs: 100%|██████████| 30/30 [00:32<00:00,  1.09s/it]\n"
     ]
    },
    {
     "name": "stdout",
     "output_type": "stream",
     "text": [
      "Running all the other methods\n",
      "Obtaining tuning sample\n"
     ]
    },
    {
     "name": "stderr",
     "output_type": "stream",
     "text": [
      "Simulating all tuning sample: 100%|██████████| 1000/1000 [24:23<00:00,  1.46s/it]\n"
     ]
    },
    {
     "name": "stdout",
     "output_type": "stream",
     "text": [
      "Fitting tuned loforest\n"
     ]
    },
    {
     "name": "stderr",
     "output_type": "stream",
     "text": [
      "Evaluating coverage in this setting: 100%|██████████| 150/150 [01:34<00:00,  1.59it/s]\n"
     ]
    }
   ],
   "source": [
    "bff_stats_weinberg = compute_MAE_N_B(\n",
    "    kind = \"weinberg\", \n",
    "    score = bff_score,\n",
    "    seed = 125,\n",
    "    theta_grid_eval = thetas_valid, \n",
    "    simulator = simulator, \n",
    "    prior = prior, \n",
    "    N = 25, \n",
    "    B = 15000, \n",
    "    B_valid = 1000, \n",
    "    N_lambda = 700,\n",
    "    K = 70,\n",
    "    n_estimators = 200,\n",
    "    min_samples_leaf = 300\n",
    "    )"
   ]
  },
  {
   "cell_type": "code",
   "execution_count": 31,
   "metadata": {},
   "outputs": [
    {
     "data": {
      "text/html": [
       "<div>\n",
       "<style scoped>\n",
       "    .dataframe tbody tr th:only-of-type {\n",
       "        vertical-align: middle;\n",
       "    }\n",
       "\n",
       "    .dataframe tbody tr th {\n",
       "        vertical-align: top;\n",
       "    }\n",
       "\n",
       "    .dataframe thead th {\n",
       "        text-align: right;\n",
       "    }\n",
       "</style>\n",
       "<table border=\"1\" class=\"dataframe\">\n",
       "  <thead>\n",
       "    <tr style=\"text-align: right;\">\n",
       "      <th></th>\n",
       "      <th>methods</th>\n",
       "      <th>N</th>\n",
       "      <th>B</th>\n",
       "      <th>MAE</th>\n",
       "      <th>se</th>\n",
       "    </tr>\n",
       "  </thead>\n",
       "  <tbody>\n",
       "    <tr>\n",
       "      <th>0</th>\n",
       "      <td>LOCART</td>\n",
       "      <td>25</td>\n",
       "      <td>15000</td>\n",
       "      <td>0.013911</td>\n",
       "      <td>0.001041</td>\n",
       "    </tr>\n",
       "    <tr>\n",
       "      <th>1</th>\n",
       "      <td>LOFOREST</td>\n",
       "      <td>25</td>\n",
       "      <td>15000</td>\n",
       "      <td>0.013956</td>\n",
       "      <td>0.001097</td>\n",
       "    </tr>\n",
       "    <tr>\n",
       "      <th>2</th>\n",
       "      <td>tuned LOFOREST</td>\n",
       "      <td>25</td>\n",
       "      <td>15000</td>\n",
       "      <td>0.013689</td>\n",
       "      <td>0.001059</td>\n",
       "    </tr>\n",
       "    <tr>\n",
       "      <th>3</th>\n",
       "      <td>boosting</td>\n",
       "      <td>25</td>\n",
       "      <td>15000</td>\n",
       "      <td>0.014000</td>\n",
       "      <td>0.001219</td>\n",
       "    </tr>\n",
       "    <tr>\n",
       "      <th>4</th>\n",
       "      <td>monte-carlo</td>\n",
       "      <td>25</td>\n",
       "      <td>15000</td>\n",
       "      <td>0.015622</td>\n",
       "      <td>0.001094</td>\n",
       "    </tr>\n",
       "  </tbody>\n",
       "</table>\n",
       "</div>"
      ],
      "text/plain": [
       "          methods   N      B       MAE        se\n",
       "0          LOCART  25  15000  0.013911  0.001041\n",
       "1        LOFOREST  25  15000  0.013956  0.001097\n",
       "2  tuned LOFOREST  25  15000  0.013689  0.001059\n",
       "3        boosting  25  15000  0.014000  0.001219\n",
       "4     monte-carlo  25  15000  0.015622  0.001094"
      ]
     },
     "execution_count": 31,
     "metadata": {},
     "output_type": "execute_result"
    }
   ],
   "source": [
    "bff_stats_weinberg"
   ]
  },
  {
   "cell_type": "markdown",
   "metadata": {},
   "source": [
    "## Now, testing MG1 data"
   ]
  },
  {
   "cell_type": "code",
   "execution_count": 109,
   "metadata": {},
   "outputs": [],
   "source": [
    "simulator = mg1.MG1Simulator()\n",
    "prior = mg1.Prior()"
   ]
  },
  {
   "cell_type": "markdown",
   "metadata": {},
   "source": [
    "fitting normalizing flow model to MG1:"
   ]
  },
  {
   "cell_type": "code",
   "execution_count": 110,
   "metadata": {},
   "outputs": [
    {
     "name": "stderr",
     "output_type": "stream",
     "text": [
      "Fitting normalizing flows posterior estimator:  83%|████████▎ | 1654/2000 [07:00<01:27,  3.94it/s]"
     ]
    },
    {
     "name": "stdout",
     "output_type": "stream",
     "text": [
      "Early stopping at epoch 1654\n",
      "a\n"
     ]
    },
    {
     "name": "stderr",
     "output_type": "stream",
     "text": [
      "\n"
     ]
    },
    {
     "data": {
      "image/png": "[encoded data removed]",
      "text/plain": [
       "<Figure size 640x480 with 1 Axes>"
      ]
     },
     "metadata": {},
     "output_type": "display_data"
    }
   ],
   "source": [
    "nflow_post_mg1 = fit_post_model(\n",
    "    simulator = simulator, \n",
    "    prior = prior, \n",
    "    B_model = 20000, \n",
    "    n = 5, \n",
    "    seed = 0, \n",
    "    split_seed = 125, \n",
    "    patience = 100,\n",
    "    n_flows = 6,\n",
    "    log_transf = True\n",
    "    )"
   ]
  },
  {
   "cell_type": "markdown",
   "metadata": {},
   "source": [
    "fixing grid and defining statistics to be computed:"
   ]
  },
  {
   "cell_type": "code",
   "execution_count": null,
   "metadata": {},
   "outputs": [
    {
     "data": {
      "text/plain": [
       "<CP2LFI.scores.E_valueScore at 0x7efbe84c0390>"
      ]
     },
     "execution_count": 8,
     "metadata": {},
     "output_type": "execute_result"
    }
   ],
   "source": [
    "# mg1 grid\n",
    "n_par = 8\n",
    "pars_1 = np.linspace(0.0001, 9.9999, n_par)\n",
    "pars_2 = np.linspace(0.0001, 1/3 - 0.0001, n_par)\n",
    "thetas_valid = np.c_[list(itertools.product(pars_1, pars_1, pars_2))]\n",
    "\n",
    "# defining scores\n",
    "# waldo score\n",
    "waldo_score = WaldoScore(nflow_post_mg1, is_fitted = True)\n",
    "waldo_score.fit()\n",
    "\n",
    "# BFF score\n",
    "bff_score = BFFScore(nflow_post_mg1, is_fitted = True)\n",
    "bff_score.fit()\n",
    "\n",
    "# e-value score\n",
    "e_value_score = E_valueScore(nflow_post_mg1, is_fitted = True)\n",
    "e_value_score.fit()"
   ]
  },
  {
   "cell_type": "code",
   "execution_count": 9,
   "metadata": {},
   "outputs": [
    {
     "name": "stdout",
     "output_type": "stream",
     "text": [
      "Running naive method\n"
     ]
    },
    {
     "name": "stderr",
     "output_type": "stream",
     "text": [
      "fitting monte carlo cutoffs: 27it [08:10, 18.18s/it]\n"
     ]
    },
    {
     "name": "stdout",
     "output_type": "stream",
     "text": [
      "[1.32618978 0.88483491 2.2493497  ... 0.97465496 0.86636917 0.60704099]\n",
      "Running all the other methods\n",
      "Obtaining tuning sample\n"
     ]
    },
    {
     "name": "stderr",
     "output_type": "stream",
     "text": [
      "Simulating all tuning sample: 100%|██████████| 300/300 [25:17<00:00,  5.06s/it]\n"
     ]
    },
    {
     "name": "stdout",
     "output_type": "stream",
     "text": [
      "Fitting tuned loforest\n"
     ]
    },
    {
     "name": "stderr",
     "output_type": "stream",
     "text": [
      "Evaluating coverage in this setting:   0%|          | 0/512 [00:00<?, ?it/s]/tmp/ipykernel_23497/1397556031.py:53: UserWarning: Creating a tensor from a list of numpy.ndarrays is extremely slow. Please consider converting the list to a single numpy.ndarray with numpy.array() before converting to a tensor. (Triggered internally at /opt/conda/conda-bld/pytorch_1708025842427/work/torch/csrc/utils/tensor_new.cpp:275.)\n",
      "  theta_repeated = torch.tensor([theta]).repeat_interleave(repeats = n_lambda*N, dim = 0)\n",
      "Evaluating coverage in this setting: 100%|██████████| 512/512 [1:28:24<00:00, 10.36s/it]\n"
     ]
    }
   ],
   "source": [
    "waldo_stats_mg1 = compute_MAE_N_B(\n",
    "    kind = \"mg1\", \n",
    "    score = waldo_score, \n",
    "    theta_grid_eval = thetas_valid, \n",
    "    simulator = simulator, \n",
    "    prior = prior, \n",
    "    N = 5, \n",
    "    B = 10000, \n",
    "    B_valid = 300, \n",
    "    N_lambda = 150,\n",
    "    seed = 125,\n",
    "    K = 70,\n",
    "    n_estimators = 250,\n",
    "    min_samples_leaf = 250,\n",
    "    log_transf = True,\n",
    "    split_calib = True,\n",
    "    )"
   ]
  },
  {
   "cell_type": "code",
   "execution_count": 10,
   "metadata": {},
   "outputs": [
    {
     "data": {
      "text/html": [
       "<div>\n",
       "<style scoped>\n",
       "    .dataframe tbody tr th:only-of-type {\n",
       "        vertical-align: middle;\n",
       "    }\n",
       "\n",
       "    .dataframe tbody tr th {\n",
       "        vertical-align: top;\n",
       "    }\n",
       "\n",
       "    .dataframe thead th {\n",
       "        text-align: right;\n",
       "    }\n",
       "</style>\n",
       "<table border=\"1\" class=\"dataframe\">\n",
       "  <thead>\n",
       "    <tr style=\"text-align: right;\">\n",
       "      <th></th>\n",
       "      <th>methods</th>\n",
       "      <th>N</th>\n",
       "      <th>B</th>\n",
       "      <th>MAE</th>\n",
       "      <th>se</th>\n",
       "    </tr>\n",
       "  </thead>\n",
       "  <tbody>\n",
       "    <tr>\n",
       "      <th>0</th>\n",
       "      <td>LOCART</td>\n",
       "      <td>5</td>\n",
       "      <td>10000</td>\n",
       "      <td>0.096589</td>\n",
       "      <td>0.007302</td>\n",
       "    </tr>\n",
       "    <tr>\n",
       "      <th>1</th>\n",
       "      <td>LOFOREST</td>\n",
       "      <td>5</td>\n",
       "      <td>10000</td>\n",
       "      <td>0.083255</td>\n",
       "      <td>0.006639</td>\n",
       "    </tr>\n",
       "    <tr>\n",
       "      <th>2</th>\n",
       "      <td>tuned LOFOREST</td>\n",
       "      <td>5</td>\n",
       "      <td>10000</td>\n",
       "      <td>0.081478</td>\n",
       "      <td>0.006325</td>\n",
       "    </tr>\n",
       "    <tr>\n",
       "      <th>3</th>\n",
       "      <td>boosting</td>\n",
       "      <td>5</td>\n",
       "      <td>10000</td>\n",
       "      <td>0.060645</td>\n",
       "      <td>0.003642</td>\n",
       "    </tr>\n",
       "    <tr>\n",
       "      <th>4</th>\n",
       "      <td>monte-carlo</td>\n",
       "      <td>5</td>\n",
       "      <td>10000</td>\n",
       "      <td>0.091504</td>\n",
       "      <td>0.007718</td>\n",
       "    </tr>\n",
       "  </tbody>\n",
       "</table>\n",
       "</div>"
      ],
      "text/plain": [
       "          methods  N      B       MAE        se\n",
       "0          LOCART  5  10000  0.096589  0.007302\n",
       "1        LOFOREST  5  10000  0.083255  0.006639\n",
       "2  tuned LOFOREST  5  10000  0.081478  0.006325\n",
       "3        boosting  5  10000  0.060645  0.003642\n",
       "4     monte-carlo  5  10000  0.091504  0.007718"
      ]
     },
     "execution_count": 10,
     "metadata": {},
     "output_type": "execute_result"
    }
   ],
   "source": [
    "waldo_stats_mg1"
   ]
  },
  {
   "cell_type": "code",
   "execution_count": 11,
   "metadata": {},
   "outputs": [
    {
     "name": "stdout",
     "output_type": "stream",
     "text": [
      "Running naive method\n"
     ]
    },
    {
     "name": "stderr",
     "output_type": "stream",
     "text": [
      "fitting monte carlo cutoffs: 27it [00:10,  2.59it/s]\n"
     ]
    },
    {
     "name": "stdout",
     "output_type": "stream",
     "text": [
      "[ -5.299469    -3.7729368   -5.6876936  ...  -0.03983647 -16.181982\n",
      "  -5.0748363 ]\n",
      "Running all the other methods\n",
      "Obtaining tuning sample\n"
     ]
    },
    {
     "name": "stderr",
     "output_type": "stream",
     "text": [
      "Simulating all tuning sample: 100%|██████████| 1000/1000 [06:20<00:00,  2.63it/s]\n"
     ]
    },
    {
     "name": "stdout",
     "output_type": "stream",
     "text": [
      "Fitting tuned loforest\n"
     ]
    },
    {
     "name": "stderr",
     "output_type": "stream",
     "text": [
      "Evaluating coverage in this setting: 100%|██████████| 512/512 [01:59<00:00,  4.30it/s]\n"
     ]
    }
   ],
   "source": [
    "bff_stats_mg1 = compute_MAE_N_B(\n",
    "    kind = \"mg1\", \n",
    "    score = bff_score, \n",
    "    theta_grid_eval = thetas_valid, \n",
    "    simulator = simulator, \n",
    "    prior = prior, \n",
    "    N = 5, \n",
    "    B = 10000, \n",
    "    B_valid = 1000, \n",
    "    N_lambda = 500,\n",
    "    seed = 125,\n",
    "    K = 70,\n",
    "    n_estimators = 250,\n",
    "    min_samples_leaf = 250,\n",
    "    log_transf = True,\n",
    "    split_calib = True,\n",
    "    )"
   ]
  },
  {
   "cell_type": "code",
   "execution_count": 12,
   "metadata": {},
   "outputs": [
    {
     "data": {
      "text/html": [
       "<div>\n",
       "<style scoped>\n",
       "    .dataframe tbody tr th:only-of-type {\n",
       "        vertical-align: middle;\n",
       "    }\n",
       "\n",
       "    .dataframe tbody tr th {\n",
       "        vertical-align: top;\n",
       "    }\n",
       "\n",
       "    .dataframe thead th {\n",
       "        text-align: right;\n",
       "    }\n",
       "</style>\n",
       "<table border=\"1\" class=\"dataframe\">\n",
       "  <thead>\n",
       "    <tr style=\"text-align: right;\">\n",
       "      <th></th>\n",
       "      <th>methods</th>\n",
       "      <th>N</th>\n",
       "      <th>B</th>\n",
       "      <th>MAE</th>\n",
       "      <th>se</th>\n",
       "    </tr>\n",
       "  </thead>\n",
       "  <tbody>\n",
       "    <tr>\n",
       "      <th>0</th>\n",
       "      <td>LOCART</td>\n",
       "      <td>5</td>\n",
       "      <td>10000</td>\n",
       "      <td>0.209922</td>\n",
       "      <td>0.013465</td>\n",
       "    </tr>\n",
       "    <tr>\n",
       "      <th>1</th>\n",
       "      <td>LOFOREST</td>\n",
       "      <td>5</td>\n",
       "      <td>10000</td>\n",
       "      <td>0.210195</td>\n",
       "      <td>0.013493</td>\n",
       "    </tr>\n",
       "    <tr>\n",
       "      <th>2</th>\n",
       "      <td>tuned LOFOREST</td>\n",
       "      <td>5</td>\n",
       "      <td>10000</td>\n",
       "      <td>0.205078</td>\n",
       "      <td>0.013106</td>\n",
       "    </tr>\n",
       "    <tr>\n",
       "      <th>3</th>\n",
       "      <td>boosting</td>\n",
       "      <td>5</td>\n",
       "      <td>10000</td>\n",
       "      <td>0.092982</td>\n",
       "      <td>0.007214</td>\n",
       "    </tr>\n",
       "    <tr>\n",
       "      <th>4</th>\n",
       "      <td>monte-carlo</td>\n",
       "      <td>5</td>\n",
       "      <td>10000</td>\n",
       "      <td>0.089622</td>\n",
       "      <td>0.005770</td>\n",
       "    </tr>\n",
       "  </tbody>\n",
       "</table>\n",
       "</div>"
      ],
      "text/plain": [
       "          methods  N      B       MAE        se\n",
       "0          LOCART  5  10000  0.209922  0.013465\n",
       "1        LOFOREST  5  10000  0.210195  0.013493\n",
       "2  tuned LOFOREST  5  10000  0.205078  0.013106\n",
       "3        boosting  5  10000  0.092982  0.007214\n",
       "4     monte-carlo  5  10000  0.089622  0.005770"
      ]
     },
     "execution_count": 12,
     "metadata": {},
     "output_type": "execute_result"
    }
   ],
   "source": [
    "bff_stats_mg1"
   ]
  },
  {
   "cell_type": "code",
   "execution_count": 13,
   "metadata": {},
   "outputs": [
    {
     "name": "stdout",
     "output_type": "stream",
     "text": [
      "Running naive method\n"
     ]
    },
    {
     "name": "stderr",
     "output_type": "stream",
     "text": [
      "fitting monte carlo cutoffs: 27it [14:25, 32.05s/it]\n"
     ]
    },
    {
     "name": "stdout",
     "output_type": "stream",
     "text": [
      "[0.291 0.641 0.258 ... 0.644 0.39  0.366]\n",
      "Running all the other methods\n",
      "Obtaining tuning sample\n"
     ]
    },
    {
     "name": "stderr",
     "output_type": "stream",
     "text": [
      "Simulating all tuning sample: 100%|██████████| 300/300 [48:09<00:00,  9.63s/it]\n"
     ]
    },
    {
     "name": "stdout",
     "output_type": "stream",
     "text": [
      "Fitting tuned loforest\n"
     ]
    },
    {
     "name": "stderr",
     "output_type": "stream",
     "text": [
      "Evaluating coverage in this setting: 100%|██████████| 512/512 [2:40:53<00:00, 18.86s/it]  \n"
     ]
    }
   ],
   "source": [
    "e_value_stats_mg1 = compute_MAE_N_B(\n",
    "    kind = \"mg1\", \n",
    "    score = e_value_score, \n",
    "    theta_grid_eval = thetas_valid, \n",
    "    simulator = simulator, \n",
    "    prior = prior, \n",
    "    N = 5, \n",
    "    B = 10000, \n",
    "    B_valid = 300, \n",
    "    N_lambda = 150,\n",
    "    seed = 125,\n",
    "    K = 70,\n",
    "    n_estimators = 250,\n",
    "    min_samples_leaf = 250,\n",
    "    log_transf = True,\n",
    "    split_calib = True,\n",
    "    )"
   ]
  },
  {
   "cell_type": "code",
   "execution_count": 14,
   "metadata": {},
   "outputs": [
    {
     "data": {
      "text/html": [
       "<div>\n",
       "<style scoped>\n",
       "    .dataframe tbody tr th:only-of-type {\n",
       "        vertical-align: middle;\n",
       "    }\n",
       "\n",
       "    .dataframe tbody tr th {\n",
       "        vertical-align: top;\n",
       "    }\n",
       "\n",
       "    .dataframe thead th {\n",
       "        text-align: right;\n",
       "    }\n",
       "</style>\n",
       "<table border=\"1\" class=\"dataframe\">\n",
       "  <thead>\n",
       "    <tr style=\"text-align: right;\">\n",
       "      <th></th>\n",
       "      <th>methods</th>\n",
       "      <th>N</th>\n",
       "      <th>B</th>\n",
       "      <th>MAE</th>\n",
       "      <th>se</th>\n",
       "    </tr>\n",
       "  </thead>\n",
       "  <tbody>\n",
       "    <tr>\n",
       "      <th>0</th>\n",
       "      <td>LOCART</td>\n",
       "      <td>5</td>\n",
       "      <td>10000</td>\n",
       "      <td>0.175104</td>\n",
       "      <td>0.011937</td>\n",
       "    </tr>\n",
       "    <tr>\n",
       "      <th>1</th>\n",
       "      <td>LOFOREST</td>\n",
       "      <td>5</td>\n",
       "      <td>10000</td>\n",
       "      <td>0.177559</td>\n",
       "      <td>0.012139</td>\n",
       "    </tr>\n",
       "    <tr>\n",
       "      <th>2</th>\n",
       "      <td>tuned LOFOREST</td>\n",
       "      <td>5</td>\n",
       "      <td>10000</td>\n",
       "      <td>0.177500</td>\n",
       "      <td>0.012225</td>\n",
       "    </tr>\n",
       "    <tr>\n",
       "      <th>3</th>\n",
       "      <td>boosting</td>\n",
       "      <td>5</td>\n",
       "      <td>10000</td>\n",
       "      <td>0.095553</td>\n",
       "      <td>0.007689</td>\n",
       "    </tr>\n",
       "    <tr>\n",
       "      <th>4</th>\n",
       "      <td>monte-carlo</td>\n",
       "      <td>5</td>\n",
       "      <td>10000</td>\n",
       "      <td>0.081771</td>\n",
       "      <td>0.005987</td>\n",
       "    </tr>\n",
       "  </tbody>\n",
       "</table>\n",
       "</div>"
      ],
      "text/plain": [
       "          methods  N      B       MAE        se\n",
       "0          LOCART  5  10000  0.175104  0.011937\n",
       "1        LOFOREST  5  10000  0.177559  0.012139\n",
       "2  tuned LOFOREST  5  10000  0.177500  0.012225\n",
       "3        boosting  5  10000  0.095553  0.007689\n",
       "4     monte-carlo  5  10000  0.081771  0.005987"
      ]
     },
     "execution_count": 14,
     "metadata": {},
     "output_type": "execute_result"
    }
   ],
   "source": [
    "e_value_stats_mg1"
   ]
  },
  {
   "cell_type": "markdown",
   "metadata": {},
   "source": [
    "### Changing the grid and removing values too close to the boundaries:"
   ]
  },
  {
   "cell_type": "code",
   "execution_count": 15,
   "metadata": {},
   "outputs": [
    {
     "data": {
      "text/plain": [
       "<CP2LFI.scores.E_valueScore at 0x7f8bd1c6b7d0>"
      ]
     },
     "execution_count": 15,
     "metadata": {},
     "output_type": "execute_result"
    }
   ],
   "source": [
    "# mg1 grid\n",
    "n_par = 10\n",
    "pars_1 = np.linspace(0.5, 9.5, n_par)\n",
    "pars_2 = np.linspace(0.01, 1/3 - 0.01, n_par)\n",
    "thetas_valid = np.c_[list(itertools.product(pars_1, pars_1, pars_2))]\n",
    "\n",
    "# defining scores\n",
    "# waldo score\n",
    "waldo_score = WaldoScore(nflow_post_mg1, is_fitted = True)\n",
    "waldo_score.fit()\n",
    "\n",
    "# BFF score\n",
    "bff_score = BFFScore(nflow_post_mg1, is_fitted = True)\n",
    "bff_score.fit()\n",
    "\n",
    "# e-value score\n",
    "e_value_score = E_valueScore(nflow_post_mg1, is_fitted = True)\n",
    "e_value_score.fit()"
   ]
  },
  {
   "cell_type": "markdown",
   "metadata": {},
   "source": [
    "assessing mean absolute error for all statistics in this case:"
   ]
  },
  {
   "cell_type": "code",
   "execution_count": 16,
   "metadata": {},
   "outputs": [
    {
     "name": "stdout",
     "output_type": "stream",
     "text": [
      "Running naive method\n"
     ]
    },
    {
     "name": "stderr",
     "output_type": "stream",
     "text": [
      "fitting monte carlo cutoffs: 27it [08:33, 19.01s/it]\n"
     ]
    },
    {
     "name": "stdout",
     "output_type": "stream",
     "text": [
      "[1.42456168 1.12011831 2.51521813 ... 1.76912834 0.52848892 2.68151573]\n",
      "Running all the other methods\n",
      "Obtaining tuning sample\n"
     ]
    },
    {
     "name": "stderr",
     "output_type": "stream",
     "text": [
      "Simulating all tuning sample: 100%|██████████| 300/300 [24:46<00:00,  4.96s/it]\n"
     ]
    },
    {
     "name": "stdout",
     "output_type": "stream",
     "text": [
      "Fitting tuned loforest\n"
     ]
    },
    {
     "name": "stderr",
     "output_type": "stream",
     "text": [
      "Evaluating coverage in this setting:   0%|          | 0/1000 [00:00<?, ?it/s]/tmp/ipykernel_5977/1397556031.py:53: UserWarning: Creating a tensor from a list of numpy.ndarrays is extremely slow. Please consider converting the list to a single numpy.ndarray with numpy.array() before converting to a tensor. (Triggered internally at /opt/conda/conda-bld/pytorch_1708025842427/work/torch/csrc/utils/tensor_new.cpp:275.)\n",
      "  theta_repeated = torch.tensor([theta]).repeat_interleave(repeats = n_lambda*N, dim = 0)\n",
      "Evaluating coverage in this setting: 100%|██████████| 1000/1000 [4:23:22<00:00, 15.80s/it] \n"
     ]
    }
   ],
   "source": [
    "waldo_stats_mg1 = compute_MAE_N_B(\n",
    "    kind = \"mg1\", \n",
    "    score = waldo_score, \n",
    "    theta_grid_eval = thetas_valid, \n",
    "    simulator = simulator, \n",
    "    prior = prior, \n",
    "    N = 5, \n",
    "    B = 10000, \n",
    "    B_valid = 300, \n",
    "    N_lambda = 150,\n",
    "    seed = 125,\n",
    "    K = 70,\n",
    "    n_estimators = 250,\n",
    "    min_samples_leaf = 250,\n",
    "    log_transf = True,\n",
    "    split_calib = False,\n",
    "    )"
   ]
  },
  {
   "cell_type": "code",
   "execution_count": 17,
   "metadata": {},
   "outputs": [
    {
     "data": {
      "text/html": [
       "<div>\n",
       "<style scoped>\n",
       "    .dataframe tbody tr th:only-of-type {\n",
       "        vertical-align: middle;\n",
       "    }\n",
       "\n",
       "    .dataframe tbody tr th {\n",
       "        vertical-align: top;\n",
       "    }\n",
       "\n",
       "    .dataframe thead th {\n",
       "        text-align: right;\n",
       "    }\n",
       "</style>\n",
       "<table border=\"1\" class=\"dataframe\">\n",
       "  <thead>\n",
       "    <tr style=\"text-align: right;\">\n",
       "      <th></th>\n",
       "      <th>methods</th>\n",
       "      <th>N</th>\n",
       "      <th>B</th>\n",
       "      <th>MAE</th>\n",
       "      <th>se</th>\n",
       "    </tr>\n",
       "  </thead>\n",
       "  <tbody>\n",
       "    <tr>\n",
       "      <th>0</th>\n",
       "      <td>LOCART</td>\n",
       "      <td>5</td>\n",
       "      <td>10000</td>\n",
       "      <td>0.034113</td>\n",
       "      <td>0.000849</td>\n",
       "    </tr>\n",
       "    <tr>\n",
       "      <th>1</th>\n",
       "      <td>LOFOREST</td>\n",
       "      <td>5</td>\n",
       "      <td>10000</td>\n",
       "      <td>0.035410</td>\n",
       "      <td>0.000996</td>\n",
       "    </tr>\n",
       "    <tr>\n",
       "      <th>2</th>\n",
       "      <td>tuned LOFOREST</td>\n",
       "      <td>5</td>\n",
       "      <td>10000</td>\n",
       "      <td>0.031490</td>\n",
       "      <td>0.000703</td>\n",
       "    </tr>\n",
       "    <tr>\n",
       "      <th>3</th>\n",
       "      <td>boosting</td>\n",
       "      <td>5</td>\n",
       "      <td>10000</td>\n",
       "      <td>0.034460</td>\n",
       "      <td>0.001442</td>\n",
       "    </tr>\n",
       "    <tr>\n",
       "      <th>4</th>\n",
       "      <td>monte-carlo</td>\n",
       "      <td>5</td>\n",
       "      <td>10000</td>\n",
       "      <td>0.061290</td>\n",
       "      <td>0.003567</td>\n",
       "    </tr>\n",
       "  </tbody>\n",
       "</table>\n",
       "</div>"
      ],
      "text/plain": [
       "          methods  N      B       MAE        se\n",
       "0          LOCART  5  10000  0.034113  0.000849\n",
       "1        LOFOREST  5  10000  0.035410  0.000996\n",
       "2  tuned LOFOREST  5  10000  0.031490  0.000703\n",
       "3        boosting  5  10000  0.034460  0.001442\n",
       "4     monte-carlo  5  10000  0.061290  0.003567"
      ]
     },
     "execution_count": 17,
     "metadata": {},
     "output_type": "execute_result"
    }
   ],
   "source": [
    "waldo_stats_mg1"
   ]
  },
  {
   "cell_type": "code",
   "execution_count": 18,
   "metadata": {},
   "outputs": [
    {
     "name": "stdout",
     "output_type": "stream",
     "text": [
      "Running naive method\n"
     ]
    },
    {
     "name": "stderr",
     "output_type": "stream",
     "text": [
      "fitting monte carlo cutoffs: 27it [00:11,  2.36it/s]\n"
     ]
    },
    {
     "name": "stdout",
     "output_type": "stream",
     "text": [
      "[ -4.2990685  -9.043294   -4.6063433 ...  -1.9536021 -37.43467\n",
      "  -7.9185653]\n",
      "Running all the other methods\n",
      "Obtaining tuning sample\n"
     ]
    },
    {
     "name": "stderr",
     "output_type": "stream",
     "text": [
      "Simulating all tuning sample: 100%|██████████| 1000/1000 [07:48<00:00,  2.14it/s]\n"
     ]
    },
    {
     "name": "stdout",
     "output_type": "stream",
     "text": [
      "Fitting tuned loforest\n"
     ]
    },
    {
     "name": "stderr",
     "output_type": "stream",
     "text": [
      "Evaluating coverage in this setting: 100%|██████████| 1000/1000 [04:50<00:00,  3.44it/s]\n"
     ]
    }
   ],
   "source": [
    "bff_stats_mg1 = compute_MAE_N_B(\n",
    "    kind = \"mg1\", \n",
    "    score = bff_score, \n",
    "    theta_grid_eval = thetas_valid, \n",
    "    simulator = simulator, \n",
    "    prior = prior, \n",
    "    N = 5, \n",
    "    B = 10000, \n",
    "    B_valid = 1000, \n",
    "    N_lambda = 500,\n",
    "    seed = 125,\n",
    "    K = 70,\n",
    "    n_estimators = 250,\n",
    "    min_samples_leaf = 250,\n",
    "    log_transf = True,\n",
    "    split_calib = False,\n",
    "    )"
   ]
  },
  {
   "cell_type": "code",
   "execution_count": 19,
   "metadata": {},
   "outputs": [
    {
     "data": {
      "text/html": [
       "<div>\n",
       "<style scoped>\n",
       "    .dataframe tbody tr th:only-of-type {\n",
       "        vertical-align: middle;\n",
       "    }\n",
       "\n",
       "    .dataframe tbody tr th {\n",
       "        vertical-align: top;\n",
       "    }\n",
       "\n",
       "    .dataframe thead th {\n",
       "        text-align: right;\n",
       "    }\n",
       "</style>\n",
       "<table border=\"1\" class=\"dataframe\">\n",
       "  <thead>\n",
       "    <tr style=\"text-align: right;\">\n",
       "      <th></th>\n",
       "      <th>methods</th>\n",
       "      <th>N</th>\n",
       "      <th>B</th>\n",
       "      <th>MAE</th>\n",
       "      <th>se</th>\n",
       "    </tr>\n",
       "  </thead>\n",
       "  <tbody>\n",
       "    <tr>\n",
       "      <th>0</th>\n",
       "      <td>LOCART</td>\n",
       "      <td>5</td>\n",
       "      <td>10000</td>\n",
       "      <td>0.039893</td>\n",
       "      <td>0.001258</td>\n",
       "    </tr>\n",
       "    <tr>\n",
       "      <th>1</th>\n",
       "      <td>LOFOREST</td>\n",
       "      <td>5</td>\n",
       "      <td>10000</td>\n",
       "      <td>0.040183</td>\n",
       "      <td>0.001015</td>\n",
       "    </tr>\n",
       "    <tr>\n",
       "      <th>2</th>\n",
       "      <td>tuned LOFOREST</td>\n",
       "      <td>5</td>\n",
       "      <td>10000</td>\n",
       "      <td>0.036370</td>\n",
       "      <td>0.000927</td>\n",
       "    </tr>\n",
       "    <tr>\n",
       "      <th>3</th>\n",
       "      <td>boosting</td>\n",
       "      <td>5</td>\n",
       "      <td>10000</td>\n",
       "      <td>0.045603</td>\n",
       "      <td>0.001395</td>\n",
       "    </tr>\n",
       "    <tr>\n",
       "      <th>4</th>\n",
       "      <td>monte-carlo</td>\n",
       "      <td>5</td>\n",
       "      <td>10000</td>\n",
       "      <td>0.119033</td>\n",
       "      <td>0.007537</td>\n",
       "    </tr>\n",
       "  </tbody>\n",
       "</table>\n",
       "</div>"
      ],
      "text/plain": [
       "          methods  N      B       MAE        se\n",
       "0          LOCART  5  10000  0.039893  0.001258\n",
       "1        LOFOREST  5  10000  0.040183  0.001015\n",
       "2  tuned LOFOREST  5  10000  0.036370  0.000927\n",
       "3        boosting  5  10000  0.045603  0.001395\n",
       "4     monte-carlo  5  10000  0.119033  0.007537"
      ]
     },
     "execution_count": 19,
     "metadata": {},
     "output_type": "execute_result"
    }
   ],
   "source": [
    "bff_stats_mg1"
   ]
  },
  {
   "cell_type": "code",
   "execution_count": 20,
   "metadata": {},
   "outputs": [
    {
     "name": "stdout",
     "output_type": "stream",
     "text": [
      "Running naive method\n"
     ]
    },
    {
     "name": "stderr",
     "output_type": "stream",
     "text": [
      "fitting monte carlo cutoffs: 27it [34:35, 76.88s/it]\n"
     ]
    },
    {
     "name": "stdout",
     "output_type": "stream",
     "text": [
      "[0.11  0.398 0.195 ... 0.009 0.213 0.375]\n",
      "Running all the other methods\n",
      "Obtaining tuning sample\n"
     ]
    },
    {
     "name": "stderr",
     "output_type": "stream",
     "text": [
      "Simulating all tuning sample: 100%|██████████| 300/300 [1:38:51<00:00, 19.77s/it]\n"
     ]
    },
    {
     "name": "stdout",
     "output_type": "stream",
     "text": [
      "Fitting tuned loforest\n"
     ]
    },
    {
     "name": "stderr",
     "output_type": "stream",
     "text": [
      "Evaluating coverage in this setting: 100%|██████████| 1000/1000 [9:28:55<00:00, 34.14s/it] \n"
     ]
    }
   ],
   "source": [
    "e_value_stats_mg1 = compute_MAE_N_B(\n",
    "    kind = \"mg1\", \n",
    "    score = e_value_score, \n",
    "    theta_grid_eval = thetas_valid, \n",
    "    simulator = simulator, \n",
    "    prior = prior, \n",
    "    N = 5, \n",
    "    B = 10000, \n",
    "    B_valid = 300, \n",
    "    N_lambda = 150,\n",
    "    seed = 125,\n",
    "    K = 70,\n",
    "    n_estimators = 250,\n",
    "    min_samples_leaf = 250,\n",
    "    log_transf = True,\n",
    "    split_calib = False,\n",
    "    )"
   ]
  },
  {
   "cell_type": "code",
   "execution_count": 21,
   "metadata": {},
   "outputs": [
    {
     "data": {
      "text/html": [
       "<div>\n",
       "<style scoped>\n",
       "    .dataframe tbody tr th:only-of-type {\n",
       "        vertical-align: middle;\n",
       "    }\n",
       "\n",
       "    .dataframe tbody tr th {\n",
       "        vertical-align: top;\n",
       "    }\n",
       "\n",
       "    .dataframe thead th {\n",
       "        text-align: right;\n",
       "    }\n",
       "</style>\n",
       "<table border=\"1\" class=\"dataframe\">\n",
       "  <thead>\n",
       "    <tr style=\"text-align: right;\">\n",
       "      <th></th>\n",
       "      <th>methods</th>\n",
       "      <th>N</th>\n",
       "      <th>B</th>\n",
       "      <th>MAE</th>\n",
       "      <th>se</th>\n",
       "    </tr>\n",
       "  </thead>\n",
       "  <tbody>\n",
       "    <tr>\n",
       "      <th>0</th>\n",
       "      <td>LOCART</td>\n",
       "      <td>5</td>\n",
       "      <td>10000</td>\n",
       "      <td>0.036760</td>\n",
       "      <td>0.000838</td>\n",
       "    </tr>\n",
       "    <tr>\n",
       "      <th>1</th>\n",
       "      <td>LOFOREST</td>\n",
       "      <td>5</td>\n",
       "      <td>10000</td>\n",
       "      <td>0.035260</td>\n",
       "      <td>0.001025</td>\n",
       "    </tr>\n",
       "    <tr>\n",
       "      <th>2</th>\n",
       "      <td>tuned LOFOREST</td>\n",
       "      <td>5</td>\n",
       "      <td>10000</td>\n",
       "      <td>0.033360</td>\n",
       "      <td>0.000767</td>\n",
       "    </tr>\n",
       "    <tr>\n",
       "      <th>3</th>\n",
       "      <td>boosting</td>\n",
       "      <td>5</td>\n",
       "      <td>10000</td>\n",
       "      <td>0.038197</td>\n",
       "      <td>0.001133</td>\n",
       "    </tr>\n",
       "    <tr>\n",
       "      <th>4</th>\n",
       "      <td>monte-carlo</td>\n",
       "      <td>5</td>\n",
       "      <td>10000</td>\n",
       "      <td>0.078913</td>\n",
       "      <td>0.004291</td>\n",
       "    </tr>\n",
       "  </tbody>\n",
       "</table>\n",
       "</div>"
      ],
      "text/plain": [
       "          methods  N      B       MAE        se\n",
       "0          LOCART  5  10000  0.036760  0.000838\n",
       "1        LOFOREST  5  10000  0.035260  0.001025\n",
       "2  tuned LOFOREST  5  10000  0.033360  0.000767\n",
       "3        boosting  5  10000  0.038197  0.001133\n",
       "4     monte-carlo  5  10000  0.078913  0.004291"
      ]
     },
     "execution_count": 21,
     "metadata": {},
     "output_type": "execute_result"
    }
   ],
   "source": [
    "e_value_stats_mg1"
   ]
  },
  {
   "cell_type": "markdown",
   "metadata": {},
   "source": [
    "### Using beta prior in the same grid with extremes:"
   ]
  },
  {
   "cell_type": "code",
   "execution_count": 146,
   "metadata": {},
   "outputs": [
    {
     "data": {
      "text/plain": [
       "<CP2LFI.scores.E_valueScore at 0x7f641c61b090>"
      ]
     },
     "execution_count": 146,
     "metadata": {},
     "output_type": "execute_result"
    }
   ],
   "source": [
    "# mg1 grid\n",
    "n_par = 10\n",
    "pars_1 = np.linspace(0.0001, 9.9999, n_par)\n",
    "pars_2 = np.linspace(0.0001, 1/3 - 0.0001, n_par)\n",
    "thetas_valid = np.c_[list(itertools.product(pars_1, pars_1, pars_2))]\n",
    "\n",
    "# defining scores\n",
    "# waldo score\n",
    "waldo_score = WaldoScore(nflow_post_mg1, is_fitted = True)\n",
    "waldo_score.fit()\n",
    "\n",
    "# BFF score\n",
    "bff_score = BFFScore(nflow_post_mg1, is_fitted = True)\n",
    "bff_score.fit()\n",
    "\n",
    "# e-value score\n",
    "e_value_score = E_valueScore(nflow_post_mg1, is_fitted = True)\n",
    "e_value_score.fit()"
   ]
  },
  {
   "cell_type": "markdown",
   "metadata": {},
   "source": [
    "starting by the BFF statistics:"
   ]
  },
  {
   "cell_type": "code",
   "execution_count": 147,
   "metadata": {},
   "outputs": [
    {
     "name": "stdout",
     "output_type": "stream",
     "text": [
      "Running naive method\n"
     ]
    },
    {
     "name": "stderr",
     "output_type": "stream",
     "text": [
      "fitting monte carlo cutoffs: 27it [00:10,  2.65it/s]\n"
     ]
    },
    {
     "name": "stdout",
     "output_type": "stream",
     "text": [
      "[ -2.2731955   -8.655793   -10.402449   ...  -0.74536204  -9.594842\n",
      "  -1.9769245 ]\n",
      "Running all the other methods\n",
      "Obtaining tuning sample\n"
     ]
    },
    {
     "name": "stderr",
     "output_type": "stream",
     "text": [
      "Simulating all tuning sample: 100%|██████████| 1000/1000 [06:23<00:00,  2.61it/s]\n"
     ]
    },
    {
     "name": "stdout",
     "output_type": "stream",
     "text": [
      "Fitting tuned loforest\n"
     ]
    },
    {
     "name": "stderr",
     "output_type": "stream",
     "text": [
      "Evaluating coverage in this setting: 100%|██████████| 1000/1000 [04:01<00:00,  4.14it/s]\n"
     ]
    }
   ],
   "source": [
    "bff_stats_mg1_beta = compute_MAE_N_B(\n",
    "    kind = \"mg1\", \n",
    "    score = bff_score, \n",
    "    theta_grid_eval = thetas_valid, \n",
    "    simulator = simulator, \n",
    "    prior = prior, \n",
    "    N = 5, \n",
    "    B = 10000, \n",
    "    B_valid = 1000, \n",
    "    N_lambda = 500,\n",
    "    seed = 125,\n",
    "    K = 70,\n",
    "    n_estimators = 250,\n",
    "    min_samples_leaf = 250,\n",
    "    log_transf = True,\n",
    "    split_calib = False,\n",
    "    using_beta = True,\n",
    "    )"
   ]
  },
  {
   "cell_type": "code",
   "execution_count": 148,
   "metadata": {},
   "outputs": [
    {
     "data": {
      "text/html": [
       "<div>\n",
       "<style scoped>\n",
       "    .dataframe tbody tr th:only-of-type {\n",
       "        vertical-align: middle;\n",
       "    }\n",
       "\n",
       "    .dataframe tbody tr th {\n",
       "        vertical-align: top;\n",
       "    }\n",
       "\n",
       "    .dataframe thead th {\n",
       "        text-align: right;\n",
       "    }\n",
       "</style>\n",
       "<table border=\"1\" class=\"dataframe\">\n",
       "  <thead>\n",
       "    <tr style=\"text-align: right;\">\n",
       "      <th></th>\n",
       "      <th>methods</th>\n",
       "      <th>N</th>\n",
       "      <th>B</th>\n",
       "      <th>MAE</th>\n",
       "      <th>se</th>\n",
       "    </tr>\n",
       "  </thead>\n",
       "  <tbody>\n",
       "    <tr>\n",
       "      <th>0</th>\n",
       "      <td>LOCART</td>\n",
       "      <td>5</td>\n",
       "      <td>10000</td>\n",
       "      <td>0.060290</td>\n",
       "      <td>0.002524</td>\n",
       "    </tr>\n",
       "    <tr>\n",
       "      <th>1</th>\n",
       "      <td>LOFOREST</td>\n",
       "      <td>5</td>\n",
       "      <td>10000</td>\n",
       "      <td>0.058917</td>\n",
       "      <td>0.002595</td>\n",
       "    </tr>\n",
       "    <tr>\n",
       "      <th>2</th>\n",
       "      <td>tuned LOFOREST</td>\n",
       "      <td>5</td>\n",
       "      <td>10000</td>\n",
       "      <td>0.057600</td>\n",
       "      <td>0.002355</td>\n",
       "    </tr>\n",
       "    <tr>\n",
       "      <th>3</th>\n",
       "      <td>boosting</td>\n",
       "      <td>5</td>\n",
       "      <td>10000</td>\n",
       "      <td>0.070807</td>\n",
       "      <td>0.003483</td>\n",
       "    </tr>\n",
       "    <tr>\n",
       "      <th>4</th>\n",
       "      <td>monte-carlo</td>\n",
       "      <td>5</td>\n",
       "      <td>10000</td>\n",
       "      <td>0.076290</td>\n",
       "      <td>0.004017</td>\n",
       "    </tr>\n",
       "  </tbody>\n",
       "</table>\n",
       "</div>"
      ],
      "text/plain": [
       "          methods  N      B       MAE        se\n",
       "0          LOCART  5  10000  0.060290  0.002524\n",
       "1        LOFOREST  5  10000  0.058917  0.002595\n",
       "2  tuned LOFOREST  5  10000  0.057600  0.002355\n",
       "3        boosting  5  10000  0.070807  0.003483\n",
       "4     monte-carlo  5  10000  0.076290  0.004017"
      ]
     },
     "execution_count": 148,
     "metadata": {},
     "output_type": "execute_result"
    }
   ],
   "source": [
    "bff_stats_mg1_beta"
   ]
  },
  {
   "cell_type": "markdown",
   "metadata": {},
   "source": [
    "testing in a good grid:"
   ]
  },
  {
   "cell_type": "code",
   "execution_count": 143,
   "metadata": {},
   "outputs": [
    {
     "data": {
      "text/plain": [
       "<CP2LFI.scores.E_valueScore at 0x7f641dccfdd0>"
      ]
     },
     "execution_count": 143,
     "metadata": {},
     "output_type": "execute_result"
    }
   ],
   "source": [
    "# mg1 grid\n",
    "n_par = 10\n",
    "pars_1 = np.linspace(0.5, 9.5, n_par)\n",
    "pars_2 = np.linspace(0.01, 1/3 - 0.01, n_par)\n",
    "thetas_valid = np.c_[list(itertools.product(pars_1, pars_1, pars_2))]\n",
    "\n",
    "# defining scores\n",
    "# waldo score\n",
    "waldo_score = WaldoScore(nflow_post_mg1, is_fitted = True)\n",
    "waldo_score.fit()\n",
    "\n",
    "# BFF score\n",
    "bff_score = BFFScore(nflow_post_mg1, is_fitted = True)\n",
    "bff_score.fit()\n",
    "\n",
    "# e-value score\n",
    "e_value_score = E_valueScore(nflow_post_mg1, is_fitted = True)\n",
    "e_value_score.fit()"
   ]
  },
  {
   "cell_type": "code",
   "execution_count": 144,
   "metadata": {},
   "outputs": [
    {
     "name": "stdout",
     "output_type": "stream",
     "text": [
      "Running naive method\n"
     ]
    },
    {
     "name": "stderr",
     "output_type": "stream",
     "text": [
      "fitting monte carlo cutoffs: 27it [00:10,  2.58it/s]\n"
     ]
    },
    {
     "name": "stdout",
     "output_type": "stream",
     "text": [
      "[-0.7596684 -0.8931533 -0.511202  ... -0.3324831 -1.0900158 -1.9335303]\n",
      "Running all the other methods\n",
      "Obtaining tuning sample\n"
     ]
    },
    {
     "name": "stderr",
     "output_type": "stream",
     "text": [
      "Simulating all tuning sample: 100%|██████████| 1000/1000 [06:18<00:00,  2.64it/s]\n"
     ]
    },
    {
     "name": "stdout",
     "output_type": "stream",
     "text": [
      "Fitting tuned loforest\n"
     ]
    },
    {
     "name": "stderr",
     "output_type": "stream",
     "text": [
      "Evaluating coverage in this setting: 100%|██████████| 1000/1000 [04:01<00:00,  4.14it/s]\n"
     ]
    }
   ],
   "source": [
    "bff_stats_mg1_beta = compute_MAE_N_B(\n",
    "    kind = \"mg1\", \n",
    "    score = bff_score, \n",
    "    theta_grid_eval = thetas_valid, \n",
    "    simulator = simulator, \n",
    "    prior = prior, \n",
    "    N = 5, \n",
    "    B = 10000, \n",
    "    B_valid = 1000, \n",
    "    N_lambda = 500,\n",
    "    seed = 125,\n",
    "    K = 70,\n",
    "    n_estimators = 250,\n",
    "    min_samples_leaf = 250,\n",
    "    log_transf = True,\n",
    "    split_calib = False,\n",
    "    using_beta = True,\n",
    "    )"
   ]
  },
  {
   "cell_type": "code",
   "execution_count": 145,
   "metadata": {},
   "outputs": [
    {
     "data": {
      "text/html": [
       "<div>\n",
       "<style scoped>\n",
       "    .dataframe tbody tr th:only-of-type {\n",
       "        vertical-align: middle;\n",
       "    }\n",
       "\n",
       "    .dataframe tbody tr th {\n",
       "        vertical-align: top;\n",
       "    }\n",
       "\n",
       "    .dataframe thead th {\n",
       "        text-align: right;\n",
       "    }\n",
       "</style>\n",
       "<table border=\"1\" class=\"dataframe\">\n",
       "  <thead>\n",
       "    <tr style=\"text-align: right;\">\n",
       "      <th></th>\n",
       "      <th>methods</th>\n",
       "      <th>N</th>\n",
       "      <th>B</th>\n",
       "      <th>MAE</th>\n",
       "      <th>se</th>\n",
       "    </tr>\n",
       "  </thead>\n",
       "  <tbody>\n",
       "    <tr>\n",
       "      <th>0</th>\n",
       "      <td>LOCART</td>\n",
       "      <td>5</td>\n",
       "      <td>10000</td>\n",
       "      <td>0.044690</td>\n",
       "      <td>0.001398</td>\n",
       "    </tr>\n",
       "    <tr>\n",
       "      <th>1</th>\n",
       "      <td>LOFOREST</td>\n",
       "      <td>5</td>\n",
       "      <td>10000</td>\n",
       "      <td>0.040553</td>\n",
       "      <td>0.001265</td>\n",
       "    </tr>\n",
       "    <tr>\n",
       "      <th>2</th>\n",
       "      <td>tuned LOFOREST</td>\n",
       "      <td>5</td>\n",
       "      <td>10000</td>\n",
       "      <td>0.040430</td>\n",
       "      <td>0.001346</td>\n",
       "    </tr>\n",
       "    <tr>\n",
       "      <th>3</th>\n",
       "      <td>boosting</td>\n",
       "      <td>5</td>\n",
       "      <td>10000</td>\n",
       "      <td>0.046677</td>\n",
       "      <td>0.001288</td>\n",
       "    </tr>\n",
       "    <tr>\n",
       "      <th>4</th>\n",
       "      <td>monte-carlo</td>\n",
       "      <td>5</td>\n",
       "      <td>10000</td>\n",
       "      <td>0.070010</td>\n",
       "      <td>0.003321</td>\n",
       "    </tr>\n",
       "  </tbody>\n",
       "</table>\n",
       "</div>"
      ],
      "text/plain": [
       "          methods  N      B       MAE        se\n",
       "0          LOCART  5  10000  0.044690  0.001398\n",
       "1        LOFOREST  5  10000  0.040553  0.001265\n",
       "2  tuned LOFOREST  5  10000  0.040430  0.001346\n",
       "3        boosting  5  10000  0.046677  0.001288\n",
       "4     monte-carlo  5  10000  0.070010  0.003321"
      ]
     },
     "execution_count": 145,
     "metadata": {},
     "output_type": "execute_result"
    }
   ],
   "source": [
    "bff_stats_mg1_beta"
   ]
  },
  {
   "cell_type": "markdown",
   "metadata": {},
   "source": [
    "testing waldo in the original grid with beta prior:"
   ]
  },
  {
   "cell_type": "code",
   "execution_count": 155,
   "metadata": {},
   "outputs": [],
   "source": [
    "# mg1 grid\n",
    "n_par = 10\n",
    "pars_1 = np.linspace(0.01, 9.99, n_par)\n",
    "pars_2 = np.linspace(0.001, 1/3 - 0.001, n_par)\n",
    "thetas_valid = np.c_[list(itertools.product(pars_1, pars_1, pars_2))]"
   ]
  },
  {
   "cell_type": "code",
   "execution_count": 156,
   "metadata": {},
   "outputs": [
    {
     "name": "stdout",
     "output_type": "stream",
     "text": [
      "Running naive method\n"
     ]
    },
    {
     "name": "stderr",
     "output_type": "stream",
     "text": [
      "fitting monte carlo cutoffs: 27it [07:53, 17.55s/it]\n"
     ]
    },
    {
     "name": "stdout",
     "output_type": "stream",
     "text": [
      "[0.69218715 1.08086466 1.52372079 ... 1.91300642 0.57371879 0.56064268]\n",
      "Running all the other methods\n",
      "Obtaining tuning sample\n"
     ]
    },
    {
     "name": "stderr",
     "output_type": "stream",
     "text": [
      "Simulating all tuning sample: 100%|██████████| 300/300 [25:50<00:00,  5.17s/it]\n"
     ]
    },
    {
     "name": "stdout",
     "output_type": "stream",
     "text": [
      "Fitting tuned loforest\n"
     ]
    },
    {
     "name": "stderr",
     "output_type": "stream",
     "text": [
      "Evaluating coverage in this setting: 100%|██████████| 1000/1000 [2:53:28<00:00, 10.41s/it] \n"
     ]
    }
   ],
   "source": [
    "waldo_stats_mg1_beta = compute_MAE_N_B(\n",
    "    kind = \"mg1\", \n",
    "    score = waldo_score, \n",
    "    theta_grid_eval = thetas_valid, \n",
    "    simulator = simulator, \n",
    "    prior = prior, \n",
    "    N = 5, \n",
    "    B = 10000, \n",
    "    B_valid = 300, \n",
    "    N_lambda = 150,\n",
    "    seed = 125,\n",
    "    K = 70,\n",
    "    n_estimators = 250,\n",
    "    min_samples_leaf = 250,\n",
    "    log_transf = True,\n",
    "    split_calib = False,\n",
    "    using_beta = True,\n",
    "    )"
   ]
  },
  {
   "cell_type": "code",
   "execution_count": 157,
   "metadata": {},
   "outputs": [
    {
     "data": {
      "text/html": [
       "<div>\n",
       "<style scoped>\n",
       "    .dataframe tbody tr th:only-of-type {\n",
       "        vertical-align: middle;\n",
       "    }\n",
       "\n",
       "    .dataframe tbody tr th {\n",
       "        vertical-align: top;\n",
       "    }\n",
       "\n",
       "    .dataframe thead th {\n",
       "        text-align: right;\n",
       "    }\n",
       "</style>\n",
       "<table border=\"1\" class=\"dataframe\">\n",
       "  <thead>\n",
       "    <tr style=\"text-align: right;\">\n",
       "      <th></th>\n",
       "      <th>methods</th>\n",
       "      <th>N</th>\n",
       "      <th>B</th>\n",
       "      <th>MAE</th>\n",
       "      <th>se</th>\n",
       "    </tr>\n",
       "  </thead>\n",
       "  <tbody>\n",
       "    <tr>\n",
       "      <th>0</th>\n",
       "      <td>LOCART</td>\n",
       "      <td>5</td>\n",
       "      <td>10000</td>\n",
       "      <td>0.042700</td>\n",
       "      <td>0.001933</td>\n",
       "    </tr>\n",
       "    <tr>\n",
       "      <th>1</th>\n",
       "      <td>LOFOREST</td>\n",
       "      <td>5</td>\n",
       "      <td>10000</td>\n",
       "      <td>0.037247</td>\n",
       "      <td>0.001159</td>\n",
       "    </tr>\n",
       "    <tr>\n",
       "      <th>2</th>\n",
       "      <td>tuned LOFOREST</td>\n",
       "      <td>5</td>\n",
       "      <td>10000</td>\n",
       "      <td>0.037270</td>\n",
       "      <td>0.001159</td>\n",
       "    </tr>\n",
       "    <tr>\n",
       "      <th>3</th>\n",
       "      <td>boosting</td>\n",
       "      <td>5</td>\n",
       "      <td>10000</td>\n",
       "      <td>0.040180</td>\n",
       "      <td>0.001841</td>\n",
       "    </tr>\n",
       "    <tr>\n",
       "      <th>4</th>\n",
       "      <td>monte-carlo</td>\n",
       "      <td>5</td>\n",
       "      <td>10000</td>\n",
       "      <td>0.080023</td>\n",
       "      <td>0.005161</td>\n",
       "    </tr>\n",
       "  </tbody>\n",
       "</table>\n",
       "</div>"
      ],
      "text/plain": [
       "          methods  N      B       MAE        se\n",
       "0          LOCART  5  10000  0.042700  0.001933\n",
       "1        LOFOREST  5  10000  0.037247  0.001159\n",
       "2  tuned LOFOREST  5  10000  0.037270  0.001159\n",
       "3        boosting  5  10000  0.040180  0.001841\n",
       "4     monte-carlo  5  10000  0.080023  0.005161"
      ]
     },
     "execution_count": 157,
     "metadata": {},
     "output_type": "execute_result"
    }
   ],
   "source": [
    "waldo_stats_mg1_beta"
   ]
  },
  {
   "cell_type": "markdown",
   "metadata": {},
   "source": [
    "testing the same for e-value:"
   ]
  },
  {
   "cell_type": "code",
   "execution_count": 153,
   "metadata": {},
   "outputs": [
    {
     "name": "stdout",
     "output_type": "stream",
     "text": [
      "Running naive method\n"
     ]
    },
    {
     "name": "stderr",
     "output_type": "stream",
     "text": [
      "fitting monte carlo cutoffs: 27it [14:48, 32.92s/it]\n"
     ]
    },
    {
     "name": "stdout",
     "output_type": "stream",
     "text": [
      "[0.615 0.617 0.375 ... 0.909 0.114 0.581]\n",
      "Running all the other methods\n",
      "Obtaining tuning sample\n"
     ]
    },
    {
     "name": "stderr",
     "output_type": "stream",
     "text": [
      "Simulating all tuning sample: 100%|██████████| 300/300 [41:41<00:00,  8.34s/it]\n"
     ]
    },
    {
     "name": "stdout",
     "output_type": "stream",
     "text": [
      "Fitting tuned loforest\n"
     ]
    },
    {
     "name": "stderr",
     "output_type": "stream",
     "text": [
      "Evaluating coverage in this setting: 100%|██████████| 1000/1000 [4:32:53<00:00, 16.37s/it] \n"
     ]
    }
   ],
   "source": [
    "e_value_stats_mg1_beta = compute_MAE_N_B(\n",
    "    kind = \"mg1\", \n",
    "    score = e_value_score, \n",
    "    theta_grid_eval = thetas_valid, \n",
    "    simulator = simulator, \n",
    "    prior = prior, \n",
    "    N = 5, \n",
    "    B = 10000, \n",
    "    B_valid = 300, \n",
    "    N_lambda = 150,\n",
    "    seed = 125,\n",
    "    K = 70,\n",
    "    n_estimators = 250,\n",
    "    min_samples_leaf = 250,\n",
    "    log_transf = True,\n",
    "    split_calib = False,\n",
    "    using_beta = True,\n",
    "    )"
   ]
  },
  {
   "cell_type": "code",
   "execution_count": 154,
   "metadata": {},
   "outputs": [
    {
     "data": {
      "text/html": [
       "<div>\n",
       "<style scoped>\n",
       "    .dataframe tbody tr th:only-of-type {\n",
       "        vertical-align: middle;\n",
       "    }\n",
       "\n",
       "    .dataframe tbody tr th {\n",
       "        vertical-align: top;\n",
       "    }\n",
       "\n",
       "    .dataframe thead th {\n",
       "        text-align: right;\n",
       "    }\n",
       "</style>\n",
       "<table border=\"1\" class=\"dataframe\">\n",
       "  <thead>\n",
       "    <tr style=\"text-align: right;\">\n",
       "      <th></th>\n",
       "      <th>methods</th>\n",
       "      <th>N</th>\n",
       "      <th>B</th>\n",
       "      <th>MAE</th>\n",
       "      <th>se</th>\n",
       "    </tr>\n",
       "  </thead>\n",
       "  <tbody>\n",
       "    <tr>\n",
       "      <th>0</th>\n",
       "      <td>LOCART</td>\n",
       "      <td>5</td>\n",
       "      <td>10000</td>\n",
       "      <td>0.051343</td>\n",
       "      <td>0.002015</td>\n",
       "    </tr>\n",
       "    <tr>\n",
       "      <th>1</th>\n",
       "      <td>LOFOREST</td>\n",
       "      <td>5</td>\n",
       "      <td>10000</td>\n",
       "      <td>0.049533</td>\n",
       "      <td>0.001986</td>\n",
       "    </tr>\n",
       "    <tr>\n",
       "      <th>2</th>\n",
       "      <td>tuned LOFOREST</td>\n",
       "      <td>5</td>\n",
       "      <td>10000</td>\n",
       "      <td>0.048923</td>\n",
       "      <td>0.001914</td>\n",
       "    </tr>\n",
       "    <tr>\n",
       "      <th>3</th>\n",
       "      <td>boosting</td>\n",
       "      <td>5</td>\n",
       "      <td>10000</td>\n",
       "      <td>0.063837</td>\n",
       "      <td>0.002635</td>\n",
       "    </tr>\n",
       "    <tr>\n",
       "      <th>4</th>\n",
       "      <td>monte-carlo</td>\n",
       "      <td>5</td>\n",
       "      <td>10000</td>\n",
       "      <td>0.069003</td>\n",
       "      <td>0.003723</td>\n",
       "    </tr>\n",
       "  </tbody>\n",
       "</table>\n",
       "</div>"
      ],
      "text/plain": [
       "          methods  N      B       MAE        se\n",
       "0          LOCART  5  10000  0.051343  0.002015\n",
       "1        LOFOREST  5  10000  0.049533  0.001986\n",
       "2  tuned LOFOREST  5  10000  0.048923  0.001914\n",
       "3        boosting  5  10000  0.063837  0.002635\n",
       "4     monte-carlo  5  10000  0.069003  0.003723"
      ]
     },
     "execution_count": 154,
     "metadata": {},
     "output_type": "execute_result"
    }
   ],
   "source": [
    "e_value_stats_mg1_beta"
   ]
  },
  {
   "cell_type": "markdown",
   "metadata": {},
   "source": [
    "## Testing the SIR data:"
   ]
  },
  {
   "cell_type": "code",
   "execution_count": 50,
   "metadata": {},
   "outputs": [],
   "source": [
    "simulator = sir.Simulator()\n",
    "prior = sir.Prior()"
   ]
  },
  {
   "cell_type": "markdown",
   "metadata": {},
   "source": [
    "fitting normalzing flows to SIR data:"
   ]
  },
  {
   "cell_type": "code",
   "execution_count": 51,
   "metadata": {},
   "outputs": [
    {
     "name": "stderr",
     "output_type": "stream",
     "text": [
      "Fitting normalizing flows posterior estimator:  81%|████████▏ | 1625/2000 [06:10<01:25,  4.38it/s]"
     ]
    },
    {
     "name": "stdout",
     "output_type": "stream",
     "text": [
      "Early stopping at epoch 1625\n",
      "a\n"
     ]
    },
    {
     "name": "stderr",
     "output_type": "stream",
     "text": [
      "\n"
     ]
    },
    {
     "data": {
      "image/png": "[encoded data removed]",
      "text/plain": [
       "<Figure size 640x480 with 1 Axes>"
      ]
     },
     "metadata": {},
     "output_type": "display_data"
    }
   ],
   "source": [
    "nflow_post_sir = fit_post_model(\n",
    "    simulator = simulator, \n",
    "    prior = prior, \n",
    "    B_model = 20000, \n",
    "    n = 5, \n",
    "    seed = 0, \n",
    "    split_seed = 125, \n",
    "    patience = 100,\n",
    "    n_flows = 4,\n",
    "    log_transf = False\n",
    "    )"
   ]
  },
  {
   "cell_type": "code",
   "execution_count": 52,
   "metadata": {},
   "outputs": [
    {
     "data": {
      "text/plain": [
       "<CP2LFI.scores.E_valueScore at 0x7feb94a5c150>"
      ]
     },
     "execution_count": 52,
     "metadata": {},
     "output_type": "execute_result"
    }
   ],
   "source": [
    "# sir gird\n",
    "n_par = 22\n",
    "pars_1 = np.linspace(0.0001, 0.4999, n_par)\n",
    "thetas_valid = np.c_[list(itertools.product(pars_1, pars_1))]\n",
    "\n",
    "# defining scores\n",
    "# waldo score\n",
    "waldo_score = WaldoScore(nflow_post_sir, is_fitted = True)\n",
    "waldo_score.fit()\n",
    "\n",
    "# BFF score\n",
    "bff_score = BFFScore(nflow_post_sir, is_fitted = True)\n",
    "bff_score.fit()\n",
    "\n",
    "# e-value score\n",
    "e_value_score = E_valueScore(nflow_post_sir, is_fitted = True)\n",
    "e_value_score.fit()"
   ]
  },
  {
   "cell_type": "code",
   "execution_count": 54,
   "metadata": {},
   "outputs": [
    {
     "name": "stdout",
     "output_type": "stream",
     "text": [
      "Running naive method\n"
     ]
    },
    {
     "name": "stderr",
     "output_type": "stream",
     "text": [
      "fitting monte carlo cutoffs: 25it [04:55, 11.83s/it]\n"
     ]
    },
    {
     "name": "stdout",
     "output_type": "stream",
     "text": [
      "[-1.272088  -1.2981942 -1.3118647 ... -1.4714609 -2.0535088 -1.6486702]\n",
      "Running all the other methods\n",
      "Obtaining tuning sample\n"
     ]
    },
    {
     "name": "stderr",
     "output_type": "stream",
     "text": [
      "Simulating all tuning sample: 100%|██████████| 500/500 [59:06<00:00,  7.09s/it]  \n"
     ]
    },
    {
     "name": "stdout",
     "output_type": "stream",
     "text": [
      "Fitting tuned loforest\n"
     ]
    },
    {
     "name": "stderr",
     "output_type": "stream",
     "text": [
      "Evaluating coverage in this setting: 100%|██████████| 484/484 [48:07<00:00,  5.97s/it]  \n"
     ]
    }
   ],
   "source": [
    "bff_stats_sir_beta = compute_MAE_N_B(\n",
    "    kind = \"sir\", \n",
    "    score = bff_score, \n",
    "    theta_grid_eval = thetas_valid, \n",
    "    simulator = simulator, \n",
    "    prior = prior, \n",
    "    N = 5, \n",
    "    B = 10000, \n",
    "    B_valid = 500, \n",
    "    N_lambda = 300,\n",
    "    seed = 125,\n",
    "    K = 70,\n",
    "    n_estimators = 250,\n",
    "    min_samples_leaf = 250,\n",
    "    log_transf = False,\n",
    "    split_calib = False,\n",
    "    using_beta = True,\n",
    "    )"
   ]
  },
  {
   "cell_type": "code",
   "execution_count": 55,
   "metadata": {},
   "outputs": [
    {
     "data": {
      "text/html": [
       "<div>\n",
       "<style scoped>\n",
       "    .dataframe tbody tr th:only-of-type {\n",
       "        vertical-align: middle;\n",
       "    }\n",
       "\n",
       "    .dataframe tbody tr th {\n",
       "        vertical-align: top;\n",
       "    }\n",
       "\n",
       "    .dataframe thead th {\n",
       "        text-align: right;\n",
       "    }\n",
       "</style>\n",
       "<table border=\"1\" class=\"dataframe\">\n",
       "  <thead>\n",
       "    <tr style=\"text-align: right;\">\n",
       "      <th></th>\n",
       "      <th>methods</th>\n",
       "      <th>N</th>\n",
       "      <th>B</th>\n",
       "      <th>MAE</th>\n",
       "      <th>se</th>\n",
       "    </tr>\n",
       "  </thead>\n",
       "  <tbody>\n",
       "    <tr>\n",
       "      <th>0</th>\n",
       "      <td>LOCART</td>\n",
       "      <td>5</td>\n",
       "      <td>10000</td>\n",
       "      <td>0.092769</td>\n",
       "      <td>0.008703</td>\n",
       "    </tr>\n",
       "    <tr>\n",
       "      <th>1</th>\n",
       "      <td>LOFOREST</td>\n",
       "      <td>5</td>\n",
       "      <td>10000</td>\n",
       "      <td>0.066736</td>\n",
       "      <td>0.005526</td>\n",
       "    </tr>\n",
       "    <tr>\n",
       "      <th>2</th>\n",
       "      <td>tuned LOFOREST</td>\n",
       "      <td>5</td>\n",
       "      <td>10000</td>\n",
       "      <td>0.057438</td>\n",
       "      <td>0.003704</td>\n",
       "    </tr>\n",
       "    <tr>\n",
       "      <th>3</th>\n",
       "      <td>boosting</td>\n",
       "      <td>5</td>\n",
       "      <td>10000</td>\n",
       "      <td>0.072314</td>\n",
       "      <td>0.006361</td>\n",
       "    </tr>\n",
       "    <tr>\n",
       "      <th>4</th>\n",
       "      <td>monte-carlo</td>\n",
       "      <td>5</td>\n",
       "      <td>10000</td>\n",
       "      <td>0.211777</td>\n",
       "      <td>0.015708</td>\n",
       "    </tr>\n",
       "  </tbody>\n",
       "</table>\n",
       "</div>"
      ],
      "text/plain": [
       "          methods  N      B       MAE        se\n",
       "0          LOCART  5  10000  0.092769  0.008703\n",
       "1        LOFOREST  5  10000  0.066736  0.005526\n",
       "2  tuned LOFOREST  5  10000  0.057438  0.003704\n",
       "3        boosting  5  10000  0.072314  0.006361\n",
       "4     monte-carlo  5  10000  0.211777  0.015708"
      ]
     },
     "execution_count": 55,
     "metadata": {},
     "output_type": "execute_result"
    }
   ],
   "source": [
    "bff_stats_sir_beta"
   ]
  },
  {
   "cell_type": "code",
   "execution_count": 56,
   "metadata": {},
   "outputs": [
    {
     "name": "stdout",
     "output_type": "stream",
     "text": [
      "Running naive method\n"
     ]
    },
    {
     "name": "stderr",
     "output_type": "stream",
     "text": [
      "fitting monte carlo cutoffs: 25it [08:12, 19.68s/it]\n"
     ]
    },
    {
     "name": "stdout",
     "output_type": "stream",
     "text": [
      "[1.25311826 1.93191455 1.42521074 ... 1.60749259 0.90995293 0.89861967]\n",
      "Running all the other methods\n",
      "Obtaining tuning sample\n"
     ]
    },
    {
     "name": "stderr",
     "output_type": "stream",
     "text": [
      "Simulating all tuning sample: 100%|██████████| 500/500 [49:33<00:00,  5.95s/it] \n"
     ]
    },
    {
     "name": "stdout",
     "output_type": "stream",
     "text": [
      "Fitting tuned loforest\n"
     ]
    },
    {
     "name": "stderr",
     "output_type": "stream",
     "text": [
      "Evaluating coverage in this setting: 100%|██████████| 484/484 [1:20:46<00:00, 10.01s/it]\n"
     ]
    }
   ],
   "source": [
    "waldo_stats_sir_beta = compute_MAE_N_B(\n",
    "    kind = \"sir\", \n",
    "    score = waldo_score, \n",
    "    theta_grid_eval = thetas_valid, \n",
    "    simulator = simulator, \n",
    "    prior = prior, \n",
    "    N = 5, \n",
    "    B = 10000, \n",
    "    B_valid = 500, \n",
    "    N_lambda = 150,\n",
    "    seed = 125,\n",
    "    K = 70,\n",
    "    n_estimators = 250,\n",
    "    min_samples_leaf = 250,\n",
    "    log_transf = False,\n",
    "    split_calib = False,\n",
    "    using_beta = True,\n",
    "    )"
   ]
  },
  {
   "cell_type": "code",
   "execution_count": 57,
   "metadata": {},
   "outputs": [
    {
     "data": {
      "text/html": [
       "<div>\n",
       "<style scoped>\n",
       "    .dataframe tbody tr th:only-of-type {\n",
       "        vertical-align: middle;\n",
       "    }\n",
       "\n",
       "    .dataframe tbody tr th {\n",
       "        vertical-align: top;\n",
       "    }\n",
       "\n",
       "    .dataframe thead th {\n",
       "        text-align: right;\n",
       "    }\n",
       "</style>\n",
       "<table border=\"1\" class=\"dataframe\">\n",
       "  <thead>\n",
       "    <tr style=\"text-align: right;\">\n",
       "      <th></th>\n",
       "      <th>methods</th>\n",
       "      <th>N</th>\n",
       "      <th>B</th>\n",
       "      <th>MAE</th>\n",
       "      <th>se</th>\n",
       "    </tr>\n",
       "  </thead>\n",
       "  <tbody>\n",
       "    <tr>\n",
       "      <th>0</th>\n",
       "      <td>LOCART</td>\n",
       "      <td>5</td>\n",
       "      <td>10000</td>\n",
       "      <td>0.053623</td>\n",
       "      <td>0.002873</td>\n",
       "    </tr>\n",
       "    <tr>\n",
       "      <th>1</th>\n",
       "      <td>LOFOREST</td>\n",
       "      <td>5</td>\n",
       "      <td>10000</td>\n",
       "      <td>0.043657</td>\n",
       "      <td>0.000808</td>\n",
       "    </tr>\n",
       "    <tr>\n",
       "      <th>2</th>\n",
       "      <td>tuned LOFOREST</td>\n",
       "      <td>5</td>\n",
       "      <td>10000</td>\n",
       "      <td>0.040909</td>\n",
       "      <td>0.001088</td>\n",
       "    </tr>\n",
       "    <tr>\n",
       "      <th>3</th>\n",
       "      <td>boosting</td>\n",
       "      <td>5</td>\n",
       "      <td>10000</td>\n",
       "      <td>0.039325</td>\n",
       "      <td>0.001347</td>\n",
       "    </tr>\n",
       "    <tr>\n",
       "      <th>4</th>\n",
       "      <td>monte-carlo</td>\n",
       "      <td>5</td>\n",
       "      <td>10000</td>\n",
       "      <td>0.243919</td>\n",
       "      <td>0.014867</td>\n",
       "    </tr>\n",
       "  </tbody>\n",
       "</table>\n",
       "</div>"
      ],
      "text/plain": [
       "          methods  N      B       MAE        se\n",
       "0          LOCART  5  10000  0.053623  0.002873\n",
       "1        LOFOREST  5  10000  0.043657  0.000808\n",
       "2  tuned LOFOREST  5  10000  0.040909  0.001088\n",
       "3        boosting  5  10000  0.039325  0.001347\n",
       "4     monte-carlo  5  10000  0.243919  0.014867"
      ]
     },
     "execution_count": 57,
     "metadata": {},
     "output_type": "execute_result"
    }
   ],
   "source": [
    "waldo_stats_sir_beta"
   ]
  },
  {
   "cell_type": "code",
   "execution_count": 58,
   "metadata": {},
   "outputs": [
    {
     "name": "stdout",
     "output_type": "stream",
     "text": [
      "Running naive method\n"
     ]
    },
    {
     "name": "stderr",
     "output_type": "stream",
     "text": [
      "fitting monte carlo cutoffs: 25it [10:58, 26.35s/it]\n"
     ]
    },
    {
     "name": "stdout",
     "output_type": "stream",
     "text": [
      "[0.781 0.78  0.82  ... 0.794 0.72  0.771]\n",
      "Running all the other methods\n",
      "Obtaining tuning sample\n"
     ]
    },
    {
     "name": "stderr",
     "output_type": "stream",
     "text": [
      "Simulating all tuning sample: 100%|██████████| 200/200 [27:33<00:00,  8.27s/it]\n"
     ]
    },
    {
     "name": "stdout",
     "output_type": "stream",
     "text": [
      "Fitting tuned loforest\n"
     ]
    },
    {
     "name": "stderr",
     "output_type": "stream",
     "text": [
      "Evaluating coverage in this setting: 100%|██████████| 484/484 [1:59:44<00:00, 14.84s/it]  \n"
     ]
    }
   ],
   "source": [
    "e_value_stats_sir_beta = compute_MAE_N_B(\n",
    "    kind = \"sir\", \n",
    "    score = e_value_score, \n",
    "    theta_grid_eval = thetas_valid, \n",
    "    simulator = simulator, \n",
    "    prior = prior, \n",
    "    N = 5, \n",
    "    B = 10000, \n",
    "    B_valid = 200, \n",
    "    N_lambda = 150,\n",
    "    seed = 125,\n",
    "    K = 70,\n",
    "    n_estimators = 250,\n",
    "    min_samples_leaf = 250,\n",
    "    log_transf = False,\n",
    "    split_calib = False,\n",
    "    using_beta = True,\n",
    "    )"
   ]
  },
  {
   "cell_type": "code",
   "execution_count": 59,
   "metadata": {},
   "outputs": [
    {
     "data": {
      "text/html": [
       "<div>\n",
       "<style scoped>\n",
       "    .dataframe tbody tr th:only-of-type {\n",
       "        vertical-align: middle;\n",
       "    }\n",
       "\n",
       "    .dataframe tbody tr th {\n",
       "        vertical-align: top;\n",
       "    }\n",
       "\n",
       "    .dataframe thead th {\n",
       "        text-align: right;\n",
       "    }\n",
       "</style>\n",
       "<table border=\"1\" class=\"dataframe\">\n",
       "  <thead>\n",
       "    <tr style=\"text-align: right;\">\n",
       "      <th></th>\n",
       "      <th>methods</th>\n",
       "      <th>N</th>\n",
       "      <th>B</th>\n",
       "      <th>MAE</th>\n",
       "      <th>se</th>\n",
       "    </tr>\n",
       "  </thead>\n",
       "  <tbody>\n",
       "    <tr>\n",
       "      <th>0</th>\n",
       "      <td>LOCART</td>\n",
       "      <td>5</td>\n",
       "      <td>10000</td>\n",
       "      <td>0.074669</td>\n",
       "      <td>0.005065</td>\n",
       "    </tr>\n",
       "    <tr>\n",
       "      <th>1</th>\n",
       "      <td>LOFOREST</td>\n",
       "      <td>5</td>\n",
       "      <td>10000</td>\n",
       "      <td>0.062300</td>\n",
       "      <td>0.003585</td>\n",
       "    </tr>\n",
       "    <tr>\n",
       "      <th>2</th>\n",
       "      <td>tuned LOFOREST</td>\n",
       "      <td>5</td>\n",
       "      <td>10000</td>\n",
       "      <td>0.061109</td>\n",
       "      <td>0.003352</td>\n",
       "    </tr>\n",
       "    <tr>\n",
       "      <th>3</th>\n",
       "      <td>boosting</td>\n",
       "      <td>5</td>\n",
       "      <td>10000</td>\n",
       "      <td>0.060978</td>\n",
       "      <td>0.002653</td>\n",
       "    </tr>\n",
       "    <tr>\n",
       "      <th>4</th>\n",
       "      <td>monte-carlo</td>\n",
       "      <td>5</td>\n",
       "      <td>10000</td>\n",
       "      <td>0.174725</td>\n",
       "      <td>0.013754</td>\n",
       "    </tr>\n",
       "  </tbody>\n",
       "</table>\n",
       "</div>"
      ],
      "text/plain": [
       "          methods  N      B       MAE        se\n",
       "0          LOCART  5  10000  0.074669  0.005065\n",
       "1        LOFOREST  5  10000  0.062300  0.003585\n",
       "2  tuned LOFOREST  5  10000  0.061109  0.003352\n",
       "3        boosting  5  10000  0.060978  0.002653\n",
       "4     monte-carlo  5  10000  0.174725  0.013754"
      ]
     },
     "execution_count": 59,
     "metadata": {},
     "output_type": "execute_result"
    }
   ],
   "source": [
    "e_value_stats_sir_beta"
   ]
  },
  {
   "cell_type": "markdown",
   "metadata": {},
   "source": [
    "## Testing the tractable data:"
   ]
  },
  {
   "cell_type": "markdown",
   "metadata": {},
   "source": [
    "Training the normalizing flow model:"
   ]
  },
  {
   "cell_type": "code",
   "execution_count": 83,
   "metadata": {},
   "outputs": [],
   "source": [
    "simulator = tractable.Simulator()\n",
    "prior = tractable.Prior()"
   ]
  },
  {
   "cell_type": "code",
   "execution_count": 84,
   "metadata": {},
   "outputs": [
    {
     "name": "stderr",
     "output_type": "stream",
     "text": [
      "Fitting normalizing flows posterior estimator: 100%|██████████| 2000/2000 [08:05<00:00,  4.12it/s]"
     ]
    },
    {
     "name": "stdout",
     "output_type": "stream",
     "text": [
      "a\n"
     ]
    },
    {
     "name": "stderr",
     "output_type": "stream",
     "text": [
      "\n"
     ]
    },
    {
     "data": {
      "image/png": "[encoded data removed]",
      "text/plain": [
       "<Figure size 640x480 with 1 Axes>"
      ]
     },
     "metadata": {},
     "output_type": "display_data"
    }
   ],
   "source": [
    "nflow_post_tractable = fit_post_model(\n",
    "    simulator = simulator, \n",
    "    prior = prior, \n",
    "    B_model = 20000, \n",
    "    n = 5, \n",
    "    seed = 0, \n",
    "    split_seed = 125, \n",
    "    patience = 100,\n",
    "    n_flows = 6,\n",
    "    log_transf = False,\n",
    "    n_epochs = 5000\n",
    "    )"
   ]
  },
  {
   "cell_type": "markdown",
   "metadata": {},
   "source": [
    "Testing the beta grid:"
   ]
  },
  {
   "cell_type": "code",
   "execution_count": 85,
   "metadata": {},
   "outputs": [
    {
     "data": {
      "text/plain": [
       "<CP2LFI.scores.E_valueScore at 0x7febe08d5250>"
      ]
     },
     "execution_count": 85,
     "metadata": {},
     "output_type": "execute_result"
    }
   ],
   "source": [
    "# tractable grid\n",
    "n_par = 5\n",
    "pars = np.linspace(-2.99, 2.99, n_par)\n",
    "pars[pars == 0] = 0.01\n",
    "thetas_valid = np.c_[list(itertools.product(pars, pars, pars, pars, pars))]\n",
    "\n",
    "# defining scores\n",
    "# waldo score\n",
    "waldo_score = WaldoScore(nflow_post_tractable, is_fitted = True)\n",
    "waldo_score.fit()\n",
    "\n",
    "# BFF score\n",
    "bff_score = BFFScore(nflow_post_tractable, is_fitted = True)\n",
    "bff_score.fit()\n",
    "\n",
    "# e-value score\n",
    "e_value_score = E_valueScore(nflow_post_tractable, is_fitted = True)\n",
    "e_value_score.fit()"
   ]
  },
  {
   "cell_type": "code",
   "execution_count": 86,
   "metadata": {},
   "outputs": [
    {
     "name": "stdout",
     "output_type": "stream",
     "text": [
      "Running naive method\n"
     ]
    },
    {
     "name": "stderr",
     "output_type": "stream",
     "text": [
      "fitting monte carlo cutoffs: 32it [00:18,  1.70it/s]\n"
     ]
    },
    {
     "name": "stdout",
     "output_type": "stream",
     "text": [
      "[-6.2763553e-05 -1.1378214e-05 -6.4707184e-01 ... -1.1480828e-03\n",
      " -3.7839392e-04 -1.9202424e-04]\n",
      "Running all the other methods\n",
      "Obtaining tuning sample\n"
     ]
    },
    {
     "name": "stderr",
     "output_type": "stream",
     "text": [
      "Simulating all tuning sample: 100%|██████████| 1000/1000 [10:30<00:00,  1.59it/s]\n"
     ]
    },
    {
     "name": "stdout",
     "output_type": "stream",
     "text": [
      "Fitting tuned loforest\n"
     ]
    },
    {
     "name": "stderr",
     "output_type": "stream",
     "text": [
      "Evaluating coverage in this setting: 100%|██████████| 3125/3125 [18:58<00:00,  2.75it/s]\n"
     ]
    }
   ],
   "source": [
    "bff_stats_tractable_beta = compute_MAE_N_B(\n",
    "    kind = \"tractable\", \n",
    "    score = bff_score, \n",
    "    theta_grid_eval = thetas_valid, \n",
    "    simulator = simulator, \n",
    "    prior = prior, \n",
    "    N = 5, \n",
    "    B = 10000, \n",
    "    B_valid = 1000, \n",
    "    N_lambda = 500,\n",
    "    seed = 125,\n",
    "    K = 70,\n",
    "    n_estimators = 250,\n",
    "    min_samples_leaf = 250,\n",
    "    log_transf = False,\n",
    "    split_calib = False,\n",
    "    using_beta = True,\n",
    "    )"
   ]
  },
  {
   "cell_type": "code",
   "execution_count": 64,
   "metadata": {},
   "outputs": [
    {
     "data": {
      "text/html": [
       "<div>\n",
       "<style scoped>\n",
       "    .dataframe tbody tr th:only-of-type {\n",
       "        vertical-align: middle;\n",
       "    }\n",
       "\n",
       "    .dataframe tbody tr th {\n",
       "        vertical-align: top;\n",
       "    }\n",
       "\n",
       "    .dataframe thead th {\n",
       "        text-align: right;\n",
       "    }\n",
       "</style>\n",
       "<table border=\"1\" class=\"dataframe\">\n",
       "  <thead>\n",
       "    <tr style=\"text-align: right;\">\n",
       "      <th></th>\n",
       "      <th>methods</th>\n",
       "      <th>N</th>\n",
       "      <th>B</th>\n",
       "      <th>MAE</th>\n",
       "      <th>se</th>\n",
       "    </tr>\n",
       "  </thead>\n",
       "  <tbody>\n",
       "    <tr>\n",
       "      <th>0</th>\n",
       "      <td>LOCART</td>\n",
       "      <td>5</td>\n",
       "      <td>10000</td>\n",
       "      <td>0.146734</td>\n",
       "      <td>0.003172</td>\n",
       "    </tr>\n",
       "    <tr>\n",
       "      <th>1</th>\n",
       "      <td>LOFOREST</td>\n",
       "      <td>5</td>\n",
       "      <td>10000</td>\n",
       "      <td>0.117478</td>\n",
       "      <td>0.002764</td>\n",
       "    </tr>\n",
       "    <tr>\n",
       "      <th>2</th>\n",
       "      <td>tuned LOFOREST</td>\n",
       "      <td>5</td>\n",
       "      <td>10000</td>\n",
       "      <td>0.126690</td>\n",
       "      <td>0.002941</td>\n",
       "    </tr>\n",
       "    <tr>\n",
       "      <th>3</th>\n",
       "      <td>boosting</td>\n",
       "      <td>5</td>\n",
       "      <td>10000</td>\n",
       "      <td>0.081843</td>\n",
       "      <td>0.001669</td>\n",
       "    </tr>\n",
       "    <tr>\n",
       "      <th>4</th>\n",
       "      <td>monte-carlo</td>\n",
       "      <td>5</td>\n",
       "      <td>10000</td>\n",
       "      <td>0.043058</td>\n",
       "      <td>0.000286</td>\n",
       "    </tr>\n",
       "  </tbody>\n",
       "</table>\n",
       "</div>"
      ],
      "text/plain": [
       "          methods  N      B       MAE        se\n",
       "0          LOCART  5  10000  0.146734  0.003172\n",
       "1        LOFOREST  5  10000  0.117478  0.002764\n",
       "2  tuned LOFOREST  5  10000  0.126690  0.002941\n",
       "3        boosting  5  10000  0.081843  0.001669\n",
       "4     monte-carlo  5  10000  0.043058  0.000286"
      ]
     },
     "execution_count": 64,
     "metadata": {},
     "output_type": "execute_result"
    }
   ],
   "source": [
    "bff_stats_tractable_beta"
   ]
  },
  {
   "cell_type": "markdown",
   "metadata": {},
   "source": [
    "trying waldo:"
   ]
  },
  {
   "cell_type": "code",
   "execution_count": 65,
   "metadata": {},
   "outputs": [
    {
     "name": "stdout",
     "output_type": "stream",
     "text": [
      "Running naive method\n"
     ]
    },
    {
     "name": "stderr",
     "output_type": "stream",
     "text": [
      "fitting monte carlo cutoffs: 0it [00:01, ?it/s]\n"
     ]
    },
    {
     "ename": "AssertionError",
     "evalue": "",
     "output_type": "error",
     "traceback": [
      "\u001b[0;31m---------------------------------------------------------------------------\u001b[0m",
      "\u001b[0;31mAssertionError\u001b[0m                            Traceback (most recent call last)",
      "Cell \u001b[0;32mIn[65], line 1\u001b[0m\n\u001b[0;32m----> 1\u001b[0m waldo_stats_tractable_beta \u001b[38;5;241m=\u001b[39m compute_MAE_N_B(\n\u001b[1;32m      2\u001b[0m     kind \u001b[38;5;241m=\u001b[39m \u001b[38;5;124m\"\u001b[39m\u001b[38;5;124mtractable\u001b[39m\u001b[38;5;124m\"\u001b[39m, \n\u001b[1;32m      3\u001b[0m     score \u001b[38;5;241m=\u001b[39m waldo_score, \n\u001b[1;32m      4\u001b[0m     theta_grid_eval \u001b[38;5;241m=\u001b[39m thetas_valid, \n\u001b[1;32m      5\u001b[0m     simulator \u001b[38;5;241m=\u001b[39m simulator, \n\u001b[1;32m      6\u001b[0m     prior \u001b[38;5;241m=\u001b[39m prior, \n\u001b[1;32m      7\u001b[0m     N \u001b[38;5;241m=\u001b[39m \u001b[38;5;241m5\u001b[39m, \n\u001b[1;32m      8\u001b[0m     B \u001b[38;5;241m=\u001b[39m \u001b[38;5;241m10000\u001b[39m, \n\u001b[1;32m      9\u001b[0m     B_valid \u001b[38;5;241m=\u001b[39m \u001b[38;5;241m300\u001b[39m, \n\u001b[1;32m     10\u001b[0m     N_lambda \u001b[38;5;241m=\u001b[39m \u001b[38;5;241m150\u001b[39m,\n\u001b[1;32m     11\u001b[0m     seed \u001b[38;5;241m=\u001b[39m \u001b[38;5;241m125\u001b[39m,\n\u001b[1;32m     12\u001b[0m     K \u001b[38;5;241m=\u001b[39m \u001b[38;5;241m70\u001b[39m,\n\u001b[1;32m     13\u001b[0m     n_estimators \u001b[38;5;241m=\u001b[39m \u001b[38;5;241m250\u001b[39m,\n\u001b[1;32m     14\u001b[0m     min_samples_leaf \u001b[38;5;241m=\u001b[39m \u001b[38;5;241m250\u001b[39m,\n\u001b[1;32m     15\u001b[0m     log_transf \u001b[38;5;241m=\u001b[39m \u001b[38;5;28;01mFalse\u001b[39;00m,\n\u001b[1;32m     16\u001b[0m     split_calib \u001b[38;5;241m=\u001b[39m \u001b[38;5;28;01mFalse\u001b[39;00m,\n\u001b[1;32m     17\u001b[0m     using_beta \u001b[38;5;241m=\u001b[39m \u001b[38;5;28;01mTrue\u001b[39;00m,\n\u001b[1;32m     18\u001b[0m     )\n",
      "Cell \u001b[0;32mIn[29], line 27\u001b[0m, in \u001b[0;36mcompute_MAE_N_B\u001b[0;34m(kind, score, theta_grid_eval, simulator, prior, N, B, alpha, min_samples_leaf, n_estimators, K, B_valid, N_lambda, K_grid, naive_n, disable_tqdm, seed, n_lambda, log_transf, split_calib, using_beta)\u001b[0m\n\u001b[1;32m     24\u001b[0m     torch\u001b[38;5;241m.\u001b[39mmanual_seed(seed)\n\u001b[1;32m     25\u001b[0m     torch\u001b[38;5;241m.\u001b[39mcuda\u001b[38;5;241m.\u001b[39mmanual_seed(seed)\n\u001b[0;32m---> 27\u001b[0m     quantiles_dict \u001b[38;5;241m=\u001b[39m obtain_quantiles(\n\u001b[1;32m     28\u001b[0m     kind \u001b[38;5;241m=\u001b[39m kind, \n\u001b[1;32m     29\u001b[0m     score \u001b[38;5;241m=\u001b[39m score, \n\u001b[1;32m     30\u001b[0m     theta_grid_eval \u001b[38;5;241m=\u001b[39m theta_grid_eval, \n\u001b[1;32m     31\u001b[0m     simulator \u001b[38;5;241m=\u001b[39m simulator,\n\u001b[1;32m     32\u001b[0m     prior \u001b[38;5;241m=\u001b[39m prior, \n\u001b[1;32m     33\u001b[0m     N \u001b[38;5;241m=\u001b[39m N, \n\u001b[1;32m     34\u001b[0m     B \u001b[38;5;241m=\u001b[39m B, \n\u001b[1;32m     35\u001b[0m     alpha \u001b[38;5;241m=\u001b[39m alpha, \n\u001b[1;32m     36\u001b[0m     min_samples_leaf \u001b[38;5;241m=\u001b[39m min_samples_leaf, \n\u001b[1;32m     37\u001b[0m     n_estimators \u001b[38;5;241m=\u001b[39m n_estimators, \n\u001b[1;32m     38\u001b[0m     K \u001b[38;5;241m=\u001b[39m K,\n\u001b[1;32m     39\u001b[0m     disable_tqdm \u001b[38;5;241m=\u001b[39m disable_tqdm,\n\u001b[1;32m     40\u001b[0m     B_valid \u001b[38;5;241m=\u001b[39m B_valid,\n\u001b[1;32m     41\u001b[0m     N_lambda\u001b[38;5;241m=\u001b[39m N_lambda,\n\u001b[1;32m     42\u001b[0m     K_grid \u001b[38;5;241m=\u001b[39m K_grid,\n\u001b[1;32m     43\u001b[0m     naive_n \u001b[38;5;241m=\u001b[39m naive_n,\n\u001b[1;32m     44\u001b[0m     log_transf \u001b[38;5;241m=\u001b[39m log_transf,\n\u001b[1;32m     45\u001b[0m     split_calib \u001b[38;5;241m=\u001b[39m split_calib,\n\u001b[1;32m     46\u001b[0m     using_beta \u001b[38;5;241m=\u001b[39m using_beta,\n\u001b[1;32m     47\u001b[0m )\n\u001b[1;32m     48\u001b[0m     mae_list, se_list, methods_list, N_list, B_list \u001b[38;5;241m=\u001b[39m [], [], [], [], []\n\u001b[1;32m     49\u001b[0m     err_data \u001b[38;5;241m=\u001b[39m np\u001b[38;5;241m.\u001b[39mzeros((theta_grid_eval\u001b[38;5;241m.\u001b[39mshape[\u001b[38;5;241m0\u001b[39m], \u001b[38;5;241m5\u001b[39m))\n",
      "Cell \u001b[0;32mIn[28], line 24\u001b[0m, in \u001b[0;36mobtain_quantiles\u001b[0;34m(kind, score, theta_grid_eval, simulator, prior, N, B, alpha, min_samples_leaf, n_estimators, K, B_valid, N_lambda, K_grid, naive_n, disable_tqdm, log_transf, split_calib, using_beta)\u001b[0m\n\u001b[1;32m      1\u001b[0m \u001b[38;5;28;01mdef\u001b[39;00m \u001b[38;5;21mobtain_quantiles\u001b[39m(\n\u001b[1;32m      2\u001b[0m     kind,\n\u001b[1;32m      3\u001b[0m     score,\n\u001b[0;32m   (...)\u001b[0m\n\u001b[1;32m     21\u001b[0m ):\n\u001b[1;32m     22\u001b[0m     \u001b[38;5;66;03m# fitting and predicting naive (monte-carlo\u001b[39;00m\n\u001b[1;32m     23\u001b[0m     \u001b[38;5;28mprint\u001b[39m(\u001b[38;5;124m\"\u001b[39m\u001b[38;5;124mRunning naive method\u001b[39m\u001b[38;5;124m\"\u001b[39m)\n\u001b[0;32m---> 24\u001b[0m     naive_quantiles \u001b[38;5;241m=\u001b[39m naive(\n\u001b[1;32m     25\u001b[0m         kind \u001b[38;5;241m=\u001b[39m kind, \n\u001b[1;32m     26\u001b[0m         simulator \u001b[38;5;241m=\u001b[39m simulator, \n\u001b[1;32m     27\u001b[0m         score \u001b[38;5;241m=\u001b[39m score, \n\u001b[1;32m     28\u001b[0m         alpha \u001b[38;5;241m=\u001b[39m alpha, \n\u001b[1;32m     29\u001b[0m         B\u001b[38;5;241m=\u001b[39mB, \n\u001b[1;32m     30\u001b[0m         N\u001b[38;5;241m=\u001b[39mN, \n\u001b[1;32m     31\u001b[0m         naive_n\u001b[38;5;241m=\u001b[39m naive_n, \n\u001b[1;32m     32\u001b[0m         log_transf \u001b[38;5;241m=\u001b[39m log_transf\n\u001b[1;32m     33\u001b[0m         )\n\u001b[1;32m     34\u001b[0m     naive_list \u001b[38;5;241m=\u001b[39m predict_naive_quantile(kind, theta_grid_eval, naive_quantiles)\n\u001b[1;32m     36\u001b[0m     \u001b[38;5;66;03m# simulating to fit models\u001b[39;00m\n",
      "Cell \u001b[0;32mIn[26], line 39\u001b[0m, in \u001b[0;36mnaive\u001b[0;34m(kind, simulator, score, alpha, B, N, naive_n, disable_tqdm, log_transf)\u001b[0m\n\u001b[1;32m     36\u001b[0m         X_dim \u001b[38;5;241m=\u001b[39m X_samples\u001b[38;5;241m.\u001b[39mshape[\u001b[38;5;241m1\u001b[39m]\n\u001b[1;32m     37\u001b[0m         X_samples \u001b[38;5;241m=\u001b[39m X_samples\u001b[38;5;241m.\u001b[39mreshape(naive_n, N \u001b[38;5;241m*\u001b[39m X_dim)\n\u001b[0;32m---> 39\u001b[0m         lambdas \u001b[38;5;241m=\u001b[39m score\u001b[38;5;241m.\u001b[39mcompute(thetas \u001b[38;5;241m=\u001b[39m repeated_thetas\u001b[38;5;241m.\u001b[39mnumpy()[\u001b[38;5;241m0\u001b[39m:naive_n, :], X \u001b[38;5;241m=\u001b[39m X_samples\u001b[38;5;241m.\u001b[39mnumpy(), disable_tqdm \u001b[38;5;241m=\u001b[39m disable_tqdm)\n\u001b[1;32m     41\u001b[0m         quantiles[(theta_1, theta_2, theta_3, theta_4, theta_5)] \u001b[38;5;241m=\u001b[39m np\u001b[38;5;241m.\u001b[39mquantile(lambdas, q \u001b[38;5;241m=\u001b[39m \u001b[38;5;241m1\u001b[39m \u001b[38;5;241m-\u001b[39m alpha)\n\u001b[1;32m     43\u001b[0m \u001b[38;5;28;01melif\u001b[39;00m kind \u001b[38;5;241m==\u001b[39m \u001b[38;5;124m\"\u001b[39m\u001b[38;5;124msir\u001b[39m\u001b[38;5;124m\"\u001b[39m:\n",
      "File \u001b[0;32m~/anaconda3/lib/python3.11/site-packages/CP2LFI/scores.py:153\u001b[0m, in \u001b[0;36mWaldoScore.compute\u001b[0;34m(self, thetas, X, N, one_sample, disable_tqdm)\u001b[0m\n\u001b[1;32m    146\u001b[0m \u001b[38;5;28;01mfor\u001b[39;00m theta \u001b[38;5;129;01min\u001b[39;00m tqdm(\n\u001b[1;32m    147\u001b[0m     thetas,\n\u001b[1;32m    148\u001b[0m     desc\u001b[38;5;241m=\u001b[39m\u001b[38;5;124m\"\u001b[39m\u001b[38;5;124mComputing waldo statistics using posterior model\u001b[39m\u001b[38;5;124m\"\u001b[39m,\n\u001b[1;32m    149\u001b[0m     disable\u001b[38;5;241m=\u001b[39mdisable_tqdm,\n\u001b[1;32m    150\u001b[0m ):\n\u001b[1;32m    151\u001b[0m     \u001b[38;5;28;01mif\u001b[39;00m \u001b[38;5;129;01mnot\u001b[39;00m one_sample:\n\u001b[1;32m    152\u001b[0m         \u001b[38;5;66;03m# simulating from the model\u001b[39;00m\n\u001b[0;32m--> 153\u001b[0m         s \u001b[38;5;241m=\u001b[39m \u001b[38;5;28mself\u001b[39m\u001b[38;5;241m.\u001b[39mbase_model\u001b[38;5;241m.\u001b[39msample(X\u001b[38;5;241m=\u001b[39mX[i, :], num_samples\u001b[38;5;241m=\u001b[39mN)\n\u001b[1;32m    155\u001b[0m         \u001b[38;5;66;03m# computing E[theta|X]\u001b[39;00m\n\u001b[1;32m    156\u001b[0m         mean_theta_X \u001b[38;5;241m=\u001b[39m np\u001b[38;5;241m.\u001b[39mmean(s, axis\u001b[38;5;241m=\u001b[39m\u001b[38;5;241m0\u001b[39m)\n",
      "File \u001b[0;32m~/anaconda3/lib/python3.11/site-packages/CP2LFI/posterior_models.py:290\u001b[0m, in \u001b[0;36mnormflow_posterior.sample\u001b[0;34m(self, X, num_samples, fix_seed, random_state)\u001b[0m\n\u001b[1;32m    287\u001b[0m     X_s \u001b[38;5;241m=\u001b[39m torch\u001b[38;5;241m.\u001b[39mtensor(X, dtype\u001b[38;5;241m=\u001b[39mtorch\u001b[38;5;241m.\u001b[39mfloat32)\u001b[38;5;241m.\u001b[39mto(\u001b[38;5;28mself\u001b[39m\u001b[38;5;241m.\u001b[39mdevice)\n\u001b[1;32m    289\u001b[0m \u001b[38;5;28;01mwith\u001b[39;00m torch\u001b[38;5;241m.\u001b[39mno_grad():\n\u001b[0;32m--> 290\u001b[0m     sample, _ \u001b[38;5;241m=\u001b[39m \u001b[38;5;28mself\u001b[39m\u001b[38;5;241m.\u001b[39mmodel\u001b[38;5;241m.\u001b[39msample(context\u001b[38;5;241m=\u001b[39mX_s, num_samples\u001b[38;5;241m=\u001b[39mnum_samples)\n\u001b[1;32m    292\u001b[0m \u001b[38;5;28;01mreturn\u001b[39;00m sample\u001b[38;5;241m.\u001b[39mto(\u001b[38;5;124m\"\u001b[39m\u001b[38;5;124mcpu\u001b[39m\u001b[38;5;124m\"\u001b[39m)\u001b[38;5;241m.\u001b[39mnumpy()\n",
      "File \u001b[0;32m~/anaconda3/lib/python3.11/site-packages/normflows/core.py:298\u001b[0m, in \u001b[0;36mConditionalNormalizingFlow.sample\u001b[0;34m(self, num_samples, context)\u001b[0m\n\u001b[1;32m    296\u001b[0m z, log_q \u001b[38;5;241m=\u001b[39m \u001b[38;5;28mself\u001b[39m\u001b[38;5;241m.\u001b[39mq0(num_samples, context\u001b[38;5;241m=\u001b[39mcontext)\n\u001b[1;32m    297\u001b[0m \u001b[38;5;28;01mfor\u001b[39;00m flow \u001b[38;5;129;01min\u001b[39;00m \u001b[38;5;28mself\u001b[39m\u001b[38;5;241m.\u001b[39mflows:\n\u001b[0;32m--> 298\u001b[0m     z, log_det \u001b[38;5;241m=\u001b[39m flow(z, context\u001b[38;5;241m=\u001b[39mcontext)\n\u001b[1;32m    299\u001b[0m     log_q \u001b[38;5;241m-\u001b[39m\u001b[38;5;241m=\u001b[39m log_det\n\u001b[1;32m    300\u001b[0m \u001b[38;5;28;01mreturn\u001b[39;00m z, log_q\n",
      "File \u001b[0;32m~/anaconda3/lib/python3.11/site-packages/torch/nn/modules/module.py:1511\u001b[0m, in \u001b[0;36mModule._wrapped_call_impl\u001b[0;34m(self, *args, **kwargs)\u001b[0m\n\u001b[1;32m   1509\u001b[0m     \u001b[38;5;28;01mreturn\u001b[39;00m \u001b[38;5;28mself\u001b[39m\u001b[38;5;241m.\u001b[39m_compiled_call_impl(\u001b[38;5;241m*\u001b[39margs, \u001b[38;5;241m*\u001b[39m\u001b[38;5;241m*\u001b[39mkwargs)  \u001b[38;5;66;03m# type: ignore[misc]\u001b[39;00m\n\u001b[1;32m   1510\u001b[0m \u001b[38;5;28;01melse\u001b[39;00m:\n\u001b[0;32m-> 1511\u001b[0m     \u001b[38;5;28;01mreturn\u001b[39;00m \u001b[38;5;28mself\u001b[39m\u001b[38;5;241m.\u001b[39m_call_impl(\u001b[38;5;241m*\u001b[39margs, \u001b[38;5;241m*\u001b[39m\u001b[38;5;241m*\u001b[39mkwargs)\n",
      "File \u001b[0;32m~/anaconda3/lib/python3.11/site-packages/torch/nn/modules/module.py:1520\u001b[0m, in \u001b[0;36mModule._call_impl\u001b[0;34m(self, *args, **kwargs)\u001b[0m\n\u001b[1;32m   1515\u001b[0m \u001b[38;5;66;03m# If we don't have any hooks, we want to skip the rest of the logic in\u001b[39;00m\n\u001b[1;32m   1516\u001b[0m \u001b[38;5;66;03m# this function, and just call forward.\u001b[39;00m\n\u001b[1;32m   1517\u001b[0m \u001b[38;5;28;01mif\u001b[39;00m \u001b[38;5;129;01mnot\u001b[39;00m (\u001b[38;5;28mself\u001b[39m\u001b[38;5;241m.\u001b[39m_backward_hooks \u001b[38;5;129;01mor\u001b[39;00m \u001b[38;5;28mself\u001b[39m\u001b[38;5;241m.\u001b[39m_backward_pre_hooks \u001b[38;5;129;01mor\u001b[39;00m \u001b[38;5;28mself\u001b[39m\u001b[38;5;241m.\u001b[39m_forward_hooks \u001b[38;5;129;01mor\u001b[39;00m \u001b[38;5;28mself\u001b[39m\u001b[38;5;241m.\u001b[39m_forward_pre_hooks\n\u001b[1;32m   1518\u001b[0m         \u001b[38;5;129;01mor\u001b[39;00m _global_backward_pre_hooks \u001b[38;5;129;01mor\u001b[39;00m _global_backward_hooks\n\u001b[1;32m   1519\u001b[0m         \u001b[38;5;129;01mor\u001b[39;00m _global_forward_hooks \u001b[38;5;129;01mor\u001b[39;00m _global_forward_pre_hooks):\n\u001b[0;32m-> 1520\u001b[0m     \u001b[38;5;28;01mreturn\u001b[39;00m forward_call(\u001b[38;5;241m*\u001b[39margs, \u001b[38;5;241m*\u001b[39m\u001b[38;5;241m*\u001b[39mkwargs)\n\u001b[1;32m   1522\u001b[0m \u001b[38;5;28;01mtry\u001b[39;00m:\n\u001b[1;32m   1523\u001b[0m     result \u001b[38;5;241m=\u001b[39m \u001b[38;5;28;01mNone\u001b[39;00m\n",
      "File \u001b[0;32m~/anaconda3/lib/python3.11/site-packages/normflows/flows/neural_spline/wrapper.py:231\u001b[0m, in \u001b[0;36mAutoregressiveRationalQuadraticSpline.forward\u001b[0;34m(self, z, context)\u001b[0m\n\u001b[1;32m    230\u001b[0m \u001b[38;5;28;01mdef\u001b[39;00m \u001b[38;5;21mforward\u001b[39m(\u001b[38;5;28mself\u001b[39m, z, context\u001b[38;5;241m=\u001b[39m\u001b[38;5;28;01mNone\u001b[39;00m):\n\u001b[0;32m--> 231\u001b[0m     z, log_det \u001b[38;5;241m=\u001b[39m \u001b[38;5;28mself\u001b[39m\u001b[38;5;241m.\u001b[39mmprqat\u001b[38;5;241m.\u001b[39minverse(z, context\u001b[38;5;241m=\u001b[39mcontext)\n\u001b[1;32m    232\u001b[0m     \u001b[38;5;28;01mreturn\u001b[39;00m z, log_det\u001b[38;5;241m.\u001b[39mview(\u001b[38;5;241m-\u001b[39m\u001b[38;5;241m1\u001b[39m)\n",
      "File \u001b[0;32m~/anaconda3/lib/python3.11/site-packages/normflows/flows/affine/autoregressive.py:35\u001b[0m, in \u001b[0;36mAutoregressive.inverse\u001b[0;34m(self, inputs, context)\u001b[0m\n\u001b[1;32m     33\u001b[0m \u001b[38;5;28;01mfor\u001b[39;00m _ \u001b[38;5;129;01min\u001b[39;00m \u001b[38;5;28mrange\u001b[39m(num_inputs):\n\u001b[1;32m     34\u001b[0m     autoregressive_params \u001b[38;5;241m=\u001b[39m \u001b[38;5;28mself\u001b[39m\u001b[38;5;241m.\u001b[39mautoregressive_net(outputs, context)\n\u001b[0;32m---> 35\u001b[0m     outputs, logabsdet \u001b[38;5;241m=\u001b[39m \u001b[38;5;28mself\u001b[39m\u001b[38;5;241m.\u001b[39m_elementwise_inverse(\n\u001b[1;32m     36\u001b[0m         inputs, autoregressive_params\n\u001b[1;32m     37\u001b[0m     )\n\u001b[1;32m     38\u001b[0m \u001b[38;5;28;01mreturn\u001b[39;00m outputs, logabsdet\n",
      "File \u001b[0;32m~/anaconda3/lib/python3.11/site-packages/normflows/flows/neural_spline/autoregressive.py:134\u001b[0m, in \u001b[0;36mMaskedPiecewiseRationalQuadraticAutoregressive._elementwise_inverse\u001b[0;34m(self, inputs, autoregressive_params)\u001b[0m\n\u001b[1;32m    133\u001b[0m \u001b[38;5;28;01mdef\u001b[39;00m \u001b[38;5;21m_elementwise_inverse\u001b[39m(\u001b[38;5;28mself\u001b[39m, inputs, autoregressive_params):\n\u001b[0;32m--> 134\u001b[0m     \u001b[38;5;28;01mreturn\u001b[39;00m \u001b[38;5;28mself\u001b[39m\u001b[38;5;241m.\u001b[39m_elementwise(inputs, autoregressive_params, inverse\u001b[38;5;241m=\u001b[39m\u001b[38;5;28;01mTrue\u001b[39;00m)\n",
      "File \u001b[0;32m~/anaconda3/lib/python3.11/site-packages/normflows/flows/neural_spline/autoregressive.py:116\u001b[0m, in \u001b[0;36mMaskedPiecewiseRationalQuadraticAutoregressive._elementwise\u001b[0;34m(self, inputs, autoregressive_params, inverse)\u001b[0m\n\u001b[1;32m    113\u001b[0m     spline_fn \u001b[38;5;241m=\u001b[39m splines\u001b[38;5;241m.\u001b[39munconstrained_rational_quadratic_spline\n\u001b[1;32m    114\u001b[0m     spline_kwargs \u001b[38;5;241m=\u001b[39m {\u001b[38;5;124m\"\u001b[39m\u001b[38;5;124mtails\u001b[39m\u001b[38;5;124m\"\u001b[39m: \u001b[38;5;28mself\u001b[39m\u001b[38;5;241m.\u001b[39mtails, \u001b[38;5;124m\"\u001b[39m\u001b[38;5;124mtail_bound\u001b[39m\u001b[38;5;124m\"\u001b[39m: \u001b[38;5;28mself\u001b[39m\u001b[38;5;241m.\u001b[39mtail_bound}\n\u001b[0;32m--> 116\u001b[0m outputs, logabsdet \u001b[38;5;241m=\u001b[39m spline_fn(\n\u001b[1;32m    117\u001b[0m     inputs\u001b[38;5;241m=\u001b[39minputs,\n\u001b[1;32m    118\u001b[0m     unnormalized_widths\u001b[38;5;241m=\u001b[39munnormalized_widths,\n\u001b[1;32m    119\u001b[0m     unnormalized_heights\u001b[38;5;241m=\u001b[39munnormalized_heights,\n\u001b[1;32m    120\u001b[0m     unnormalized_derivatives\u001b[38;5;241m=\u001b[39munnormalized_derivatives,\n\u001b[1;32m    121\u001b[0m     inverse\u001b[38;5;241m=\u001b[39minverse,\n\u001b[1;32m    122\u001b[0m     min_bin_width\u001b[38;5;241m=\u001b[39m\u001b[38;5;28mself\u001b[39m\u001b[38;5;241m.\u001b[39mmin_bin_width,\n\u001b[1;32m    123\u001b[0m     min_bin_height\u001b[38;5;241m=\u001b[39m\u001b[38;5;28mself\u001b[39m\u001b[38;5;241m.\u001b[39mmin_bin_height,\n\u001b[1;32m    124\u001b[0m     min_derivative\u001b[38;5;241m=\u001b[39m\u001b[38;5;28mself\u001b[39m\u001b[38;5;241m.\u001b[39mmin_derivative,\n\u001b[1;32m    125\u001b[0m     \u001b[38;5;241m*\u001b[39m\u001b[38;5;241m*\u001b[39mspline_kwargs\n\u001b[1;32m    126\u001b[0m )\n\u001b[1;32m    128\u001b[0m \u001b[38;5;28;01mreturn\u001b[39;00m outputs, utils\u001b[38;5;241m.\u001b[39msum_except_batch(logabsdet)\n",
      "File \u001b[0;32m~/anaconda3/lib/python3.11/site-packages/normflows/utils/splines.py:76\u001b[0m, in \u001b[0;36munconstrained_rational_quadratic_spline\u001b[0;34m(inputs, unnormalized_widths, unnormalized_heights, unnormalized_derivatives, inverse, tails, tail_bound, min_bin_width, min_bin_height, min_derivative)\u001b[0m\n\u001b[1;32m     70\u001b[0m     bottom \u001b[38;5;241m=\u001b[39m \u001b[38;5;241m-\u001b[39mtail_bound\n\u001b[1;32m     71\u001b[0m     top \u001b[38;5;241m=\u001b[39m tail_bound\n\u001b[1;32m     73\u001b[0m (\n\u001b[1;32m     74\u001b[0m     outputs_masked,\n\u001b[1;32m     75\u001b[0m     logabsdet_masked\n\u001b[0;32m---> 76\u001b[0m ) \u001b[38;5;241m=\u001b[39m rational_quadratic_spline(\n\u001b[1;32m     77\u001b[0m     inputs\u001b[38;5;241m=\u001b[39minputs[inside_interval_mask],\n\u001b[1;32m     78\u001b[0m     unnormalized_widths\u001b[38;5;241m=\u001b[39munnormalized_widths[inside_interval_mask, :],\n\u001b[1;32m     79\u001b[0m     unnormalized_heights\u001b[38;5;241m=\u001b[39munnormalized_heights[inside_interval_mask, :],\n\u001b[1;32m     80\u001b[0m     unnormalized_derivatives\u001b[38;5;241m=\u001b[39munnormalized_derivatives_[inside_interval_mask, :],\n\u001b[1;32m     81\u001b[0m     inverse\u001b[38;5;241m=\u001b[39minverse,\n\u001b[1;32m     82\u001b[0m     left\u001b[38;5;241m=\u001b[39mleft,\n\u001b[1;32m     83\u001b[0m     right\u001b[38;5;241m=\u001b[39mright,\n\u001b[1;32m     84\u001b[0m     bottom\u001b[38;5;241m=\u001b[39mbottom,\n\u001b[1;32m     85\u001b[0m     top\u001b[38;5;241m=\u001b[39mtop,\n\u001b[1;32m     86\u001b[0m     min_bin_width\u001b[38;5;241m=\u001b[39mmin_bin_width,\n\u001b[1;32m     87\u001b[0m     min_bin_height\u001b[38;5;241m=\u001b[39mmin_bin_height,\n\u001b[1;32m     88\u001b[0m     min_derivative\u001b[38;5;241m=\u001b[39mmin_derivative,\n\u001b[1;32m     89\u001b[0m )\n\u001b[1;32m     90\u001b[0m \u001b[38;5;28;01mif\u001b[39;00m outputs\u001b[38;5;241m.\u001b[39mdtype \u001b[38;5;241m==\u001b[39m outputs_masked\u001b[38;5;241m.\u001b[39mdtype \u001b[38;5;129;01mand\u001b[39;00m logabsdet\u001b[38;5;241m.\u001b[39mdtype \u001b[38;5;241m==\u001b[39m logabsdet_masked\u001b[38;5;241m.\u001b[39mdtype:\n\u001b[1;32m     91\u001b[0m     outputs[inside_interval_mask] \u001b[38;5;241m=\u001b[39m outputs_masked\n",
      "File \u001b[0;32m~/anaconda3/lib/python3.11/site-packages/normflows/utils/splines.py:181\u001b[0m, in \u001b[0;36mrational_quadratic_spline\u001b[0;34m(inputs, unnormalized_widths, unnormalized_heights, unnormalized_derivatives, inverse, left, right, bottom, top, min_bin_width, min_bin_height, min_derivative)\u001b[0m\n\u001b[1;32m    178\u001b[0m c \u001b[38;5;241m=\u001b[39m \u001b[38;5;241m-\u001b[39minput_delta \u001b[38;5;241m*\u001b[39m (inputs \u001b[38;5;241m-\u001b[39m input_cumheights)\n\u001b[1;32m    180\u001b[0m discriminant \u001b[38;5;241m=\u001b[39m b\u001b[38;5;241m.\u001b[39mpow(\u001b[38;5;241m2\u001b[39m) \u001b[38;5;241m-\u001b[39m \u001b[38;5;241m4\u001b[39m \u001b[38;5;241m*\u001b[39m a \u001b[38;5;241m*\u001b[39m c\n\u001b[0;32m--> 181\u001b[0m \u001b[38;5;28;01massert\u001b[39;00m (discriminant \u001b[38;5;241m>\u001b[39m\u001b[38;5;241m=\u001b[39m \u001b[38;5;241m0\u001b[39m)\u001b[38;5;241m.\u001b[39mall()\n\u001b[1;32m    183\u001b[0m root \u001b[38;5;241m=\u001b[39m (\u001b[38;5;241m2\u001b[39m \u001b[38;5;241m*\u001b[39m c) \u001b[38;5;241m/\u001b[39m (\u001b[38;5;241m-\u001b[39mb \u001b[38;5;241m-\u001b[39m torch\u001b[38;5;241m.\u001b[39msqrt(discriminant))\n\u001b[1;32m    184\u001b[0m outputs \u001b[38;5;241m=\u001b[39m root \u001b[38;5;241m*\u001b[39m input_bin_widths \u001b[38;5;241m+\u001b[39m input_cumwidths\n",
      "\u001b[0;31mAssertionError\u001b[0m: "
     ]
    }
   ],
   "source": [
    "waldo_stats_tractable_beta = compute_MAE_N_B(\n",
    "    kind = \"tractable\", \n",
    "    score = waldo_score, \n",
    "    theta_grid_eval = thetas_valid, \n",
    "    simulator = simulator, \n",
    "    prior = prior, \n",
    "    N = 5, \n",
    "    B = 10000, \n",
    "    B_valid = 300, \n",
    "    N_lambda = 150,\n",
    "    seed = 125,\n",
    "    K = 70,\n",
    "    n_estimators = 250,\n",
    "    min_samples_leaf = 250,\n",
    "    log_transf = False,\n",
    "    split_calib = False,\n",
    "    using_beta = True,\n",
    "    )"
   ]
  },
  {
   "cell_type": "code",
   "execution_count": null,
   "metadata": {},
   "outputs": [],
   "source": [
    "waldo_stats_tractable_beta"
   ]
  },
  {
   "cell_type": "markdown",
   "metadata": {},
   "source": [
    "starting with grid close to the boundaries:"
   ]
  },
  {
   "cell_type": "code",
   "execution_count": 48,
   "metadata": {},
   "outputs": [
    {
     "data": {
      "text/plain": [
       "<CP2LFI.scores.E_valueScore at 0x7febac4c1450>"
      ]
     },
     "execution_count": 48,
     "metadata": {},
     "output_type": "execute_result"
    }
   ],
   "source": [
    "# mg1 grid\n",
    "n_par = 5\n",
    "pars = np.linspace(-2.9999, 2.9999, n_par)\n",
    "pars[pars == 0] = 0.01\n",
    "thetas_valid = np.c_[list(itertools.product(pars, pars, pars, pars, pars))]\n",
    "\n",
    "# defining scores\n",
    "# waldo score\n",
    "waldo_score = WaldoScore(nflow_post_tractable, is_fitted = True)\n",
    "waldo_score.fit()\n",
    "\n",
    "# BFF score\n",
    "bff_score = BFFScore(nflow_post_tractable, is_fitted = True)\n",
    "bff_score.fit()\n",
    "\n",
    "# e-value score\n",
    "e_value_score = E_valueScore(nflow_post_tractable, is_fitted = True)\n",
    "e_value_score.fit()"
   ]
  },
  {
   "cell_type": "code",
   "execution_count": 79,
   "metadata": {},
   "outputs": [
    {
     "name": "stdout",
     "output_type": "stream",
     "text": [
      "Running naive method\n"
     ]
    },
    {
     "name": "stderr",
     "output_type": "stream",
     "text": [
      "fitting monte carlo cutoffs: 32it [00:20,  1.60it/s]\n"
     ]
    },
    {
     "name": "stdout",
     "output_type": "stream",
     "text": [
      "[-0.12894621 -0.25796425 -0.0782674  ... -0.03830183 -0.00255354\n",
      " -2.3045382 ]\n",
      "Running all the other methods\n",
      "Obtaining tuning sample\n"
     ]
    },
    {
     "name": "stderr",
     "output_type": "stream",
     "text": [
      "Simulating all tuning sample: 100%|██████████| 1000/1000 [10:34<00:00,  1.58it/s]\n"
     ]
    },
    {
     "name": "stdout",
     "output_type": "stream",
     "text": [
      "Fitting tuned loforest\n"
     ]
    },
    {
     "name": "stderr",
     "output_type": "stream",
     "text": [
      "Evaluating coverage in this setting: 100%|██████████| 3125/3125 [19:58<00:00,  2.61it/s]\n"
     ]
    }
   ],
   "source": [
    "bff_stats_tractable = compute_MAE_N_B(\n",
    "    kind = \"tractable\", \n",
    "    score = bff_score, \n",
    "    theta_grid_eval = thetas_valid, \n",
    "    simulator = simulator, \n",
    "    prior = prior, \n",
    "    N = 5, \n",
    "    B = 10000, \n",
    "    B_valid = 1000, \n",
    "    N_lambda = 500,\n",
    "    seed = 125,\n",
    "    K = 70,\n",
    "    n_estimators = 250,\n",
    "    min_samples_leaf = 250,\n",
    "    log_transf = False,\n",
    "    split_calib = False,\n",
    "    using_beta = True,\n",
    "    )"
   ]
  },
  {
   "cell_type": "code",
   "execution_count": 80,
   "metadata": {},
   "outputs": [
    {
     "data": {
      "text/html": [
       "<div>\n",
       "<style scoped>\n",
       "    .dataframe tbody tr th:only-of-type {\n",
       "        vertical-align: middle;\n",
       "    }\n",
       "\n",
       "    .dataframe tbody tr th {\n",
       "        vertical-align: top;\n",
       "    }\n",
       "\n",
       "    .dataframe thead th {\n",
       "        text-align: right;\n",
       "    }\n",
       "</style>\n",
       "<table border=\"1\" class=\"dataframe\">\n",
       "  <thead>\n",
       "    <tr style=\"text-align: right;\">\n",
       "      <th></th>\n",
       "      <th>methods</th>\n",
       "      <th>N</th>\n",
       "      <th>B</th>\n",
       "      <th>MAE</th>\n",
       "      <th>se</th>\n",
       "    </tr>\n",
       "  </thead>\n",
       "  <tbody>\n",
       "    <tr>\n",
       "      <th>0</th>\n",
       "      <td>LOCART</td>\n",
       "      <td>5</td>\n",
       "      <td>10000</td>\n",
       "      <td>0.258752</td>\n",
       "      <td>0.004558</td>\n",
       "    </tr>\n",
       "    <tr>\n",
       "      <th>1</th>\n",
       "      <td>LOFOREST</td>\n",
       "      <td>5</td>\n",
       "      <td>10000</td>\n",
       "      <td>0.250314</td>\n",
       "      <td>0.004366</td>\n",
       "    </tr>\n",
       "    <tr>\n",
       "      <th>2</th>\n",
       "      <td>tuned LOFOREST</td>\n",
       "      <td>5</td>\n",
       "      <td>10000</td>\n",
       "      <td>0.242700</td>\n",
       "      <td>0.004273</td>\n",
       "    </tr>\n",
       "    <tr>\n",
       "      <th>3</th>\n",
       "      <td>boosting</td>\n",
       "      <td>5</td>\n",
       "      <td>10000</td>\n",
       "      <td>0.147948</td>\n",
       "      <td>0.003389</td>\n",
       "    </tr>\n",
       "    <tr>\n",
       "      <th>4</th>\n",
       "      <td>monte-carlo</td>\n",
       "      <td>5</td>\n",
       "      <td>10000</td>\n",
       "      <td>0.046182</td>\n",
       "      <td>0.000404</td>\n",
       "    </tr>\n",
       "  </tbody>\n",
       "</table>\n",
       "</div>"
      ],
      "text/plain": [
       "          methods  N      B       MAE        se\n",
       "0          LOCART  5  10000  0.258752  0.004558\n",
       "1        LOFOREST  5  10000  0.250314  0.004366\n",
       "2  tuned LOFOREST  5  10000  0.242700  0.004273\n",
       "3        boosting  5  10000  0.147948  0.003389\n",
       "4     monte-carlo  5  10000  0.046182  0.000404"
      ]
     },
     "execution_count": 80,
     "metadata": {},
     "output_type": "execute_result"
    }
   ],
   "source": [
    "bff_stats_tractable"
   ]
  },
  {
   "cell_type": "markdown",
   "metadata": {},
   "source": [
    "changing grid:"
   ]
  },
  {
   "cell_type": "code",
   "execution_count": 82,
   "metadata": {},
   "outputs": [
    {
     "data": {
      "text/plain": [
       "<CP2LFI.scores.E_valueScore at 0x7f641dc91e10>"
      ]
     },
     "execution_count": 82,
     "metadata": {},
     "output_type": "execute_result"
    }
   ],
   "source": [
    "# mg1 grid\n",
    "n_par = 5\n",
    "pars = np.linspace(-2.85, 2.85, n_par)\n",
    "pars[pars == 0] = 0.01\n",
    "thetas_valid = np.c_[list(itertools.product(pars, pars, pars, pars, pars))]\n",
    "\n",
    "# defining scores\n",
    "# waldo score\n",
    "waldo_score = WaldoScore(nflow_post_tractable, is_fitted = True)\n",
    "waldo_score.fit()\n",
    "\n",
    "# BFF score\n",
    "bff_score = BFFScore(nflow_post_tractable, is_fitted = True)\n",
    "bff_score.fit()\n",
    "\n",
    "# e-value score\n",
    "e_value_score = E_valueScore(nflow_post_tractable, is_fitted = True)\n",
    "e_value_score.fit()"
   ]
  },
  {
   "cell_type": "code",
   "execution_count": 83,
   "metadata": {},
   "outputs": [
    {
     "name": "stdout",
     "output_type": "stream",
     "text": [
      "Running naive method\n"
     ]
    },
    {
     "name": "stderr",
     "output_type": "stream",
     "text": [
      "fitting monte carlo cutoffs: 32it [00:19,  1.63it/s]\n"
     ]
    },
    {
     "name": "stdout",
     "output_type": "stream",
     "text": [
      "[-0.12894621 -0.25796425 -0.0782674  ... -0.03830183 -0.00255354\n",
      " -2.3045382 ]\n",
      "Running all the other methods\n",
      "Obtaining tuning sample\n"
     ]
    },
    {
     "name": "stderr",
     "output_type": "stream",
     "text": [
      "Simulating all tuning sample: 100%|██████████| 1000/1000 [10:53<00:00,  1.53it/s]\n"
     ]
    },
    {
     "name": "stdout",
     "output_type": "stream",
     "text": [
      "Fitting tuned loforest\n"
     ]
    },
    {
     "name": "stderr",
     "output_type": "stream",
     "text": [
      "Evaluating coverage in this setting: 100%|██████████| 3125/3125 [19:59<00:00,  2.60it/s]\n"
     ]
    }
   ],
   "source": [
    "bff_stats_tractable = compute_MAE_N_B(\n",
    "    kind = \"tractable\", \n",
    "    score = bff_score, \n",
    "    theta_grid_eval = thetas_valid, \n",
    "    simulator = simulator, \n",
    "    prior = prior, \n",
    "    N = 5, \n",
    "    B = 10000, \n",
    "    B_valid = 1000, \n",
    "    N_lambda = 500,\n",
    "    seed = 125,\n",
    "    K = 70,\n",
    "    n_estimators = 250,\n",
    "    min_samples_leaf = 250,\n",
    "    log_transf = False,\n",
    "    split_calib = False,\n",
    "    )"
   ]
  },
  {
   "cell_type": "code",
   "execution_count": 84,
   "metadata": {},
   "outputs": [
    {
     "data": {
      "text/html": [
       "<div>\n",
       "<style scoped>\n",
       "    .dataframe tbody tr th:only-of-type {\n",
       "        vertical-align: middle;\n",
       "    }\n",
       "\n",
       "    .dataframe tbody tr th {\n",
       "        vertical-align: top;\n",
       "    }\n",
       "\n",
       "    .dataframe thead th {\n",
       "        text-align: right;\n",
       "    }\n",
       "</style>\n",
       "<table border=\"1\" class=\"dataframe\">\n",
       "  <thead>\n",
       "    <tr style=\"text-align: right;\">\n",
       "      <th></th>\n",
       "      <th>methods</th>\n",
       "      <th>N</th>\n",
       "      <th>B</th>\n",
       "      <th>MAE</th>\n",
       "      <th>se</th>\n",
       "    </tr>\n",
       "  </thead>\n",
       "  <tbody>\n",
       "    <tr>\n",
       "      <th>0</th>\n",
       "      <td>LOCART</td>\n",
       "      <td>5</td>\n",
       "      <td>10000</td>\n",
       "      <td>0.049453</td>\n",
       "      <td>0.000949</td>\n",
       "    </tr>\n",
       "    <tr>\n",
       "      <th>1</th>\n",
       "      <td>LOFOREST</td>\n",
       "      <td>5</td>\n",
       "      <td>10000</td>\n",
       "      <td>0.038174</td>\n",
       "      <td>0.000648</td>\n",
       "    </tr>\n",
       "    <tr>\n",
       "      <th>2</th>\n",
       "      <td>tuned LOFOREST</td>\n",
       "      <td>5</td>\n",
       "      <td>10000</td>\n",
       "      <td>0.033516</td>\n",
       "      <td>0.000689</td>\n",
       "    </tr>\n",
       "    <tr>\n",
       "      <th>3</th>\n",
       "      <td>boosting</td>\n",
       "      <td>5</td>\n",
       "      <td>10000</td>\n",
       "      <td>0.044921</td>\n",
       "      <td>0.000728</td>\n",
       "    </tr>\n",
       "    <tr>\n",
       "      <th>4</th>\n",
       "      <td>monte-carlo</td>\n",
       "      <td>5</td>\n",
       "      <td>10000</td>\n",
       "      <td>0.047677</td>\n",
       "      <td>0.000116</td>\n",
       "    </tr>\n",
       "  </tbody>\n",
       "</table>\n",
       "</div>"
      ],
      "text/plain": [
       "          methods  N      B       MAE        se\n",
       "0          LOCART  5  10000  0.049453  0.000949\n",
       "1        LOFOREST  5  10000  0.038174  0.000648\n",
       "2  tuned LOFOREST  5  10000  0.033516  0.000689\n",
       "3        boosting  5  10000  0.044921  0.000728\n",
       "4     monte-carlo  5  10000  0.047677  0.000116"
      ]
     },
     "execution_count": 84,
     "metadata": {},
     "output_type": "execute_result"
    }
   ],
   "source": [
    "bff_stats_tractable"
   ]
  },
  {
   "cell_type": "code",
   "execution_count": 87,
   "metadata": {},
   "outputs": [
    {
     "name": "stdout",
     "output_type": "stream",
     "text": [
      "Running naive method\n"
     ]
    },
    {
     "name": "stderr",
     "output_type": "stream",
     "text": [
      "fitting monte carlo cutoffs: 32it [26:38, 49.96s/it]\n"
     ]
    },
    {
     "name": "stdout",
     "output_type": "stream",
     "text": [
      "[0.90660962 2.52038984 2.88360596 ... 2.59774823 1.73852647 1.91145944]\n",
      "Running all the other methods\n",
      "Obtaining tuning sample\n"
     ]
    },
    {
     "name": "stderr",
     "output_type": "stream",
     "text": [
      "Simulating all tuning sample: 100%|██████████| 300/300 [1:22:05<00:00, 16.42s/it]\n"
     ]
    },
    {
     "name": "stdout",
     "output_type": "stream",
     "text": [
      "Fitting tuned loforest\n"
     ]
    },
    {
     "name": "stderr",
     "output_type": "stream",
     "text": [
      "Evaluating coverage in this setting:  20%|██        | 629/3125 [5:34:42<22:08:10, 31.93s/it]\n"
     ]
    },
    {
     "ename": "AssertionError",
     "evalue": "",
     "output_type": "error",
     "traceback": [
      "\u001b[0;31m---------------------------------------------------------------------------\u001b[0m",
      "\u001b[0;31mAssertionError\u001b[0m                            Traceback (most recent call last)",
      "Cell \u001b[0;32mIn[87], line 1\u001b[0m\n\u001b[0;32m----> 1\u001b[0m waldo_stats_tractable \u001b[38;5;241m=\u001b[39m compute_MAE_N_B(\n\u001b[1;32m      2\u001b[0m     kind \u001b[38;5;241m=\u001b[39m \u001b[38;5;124m\"\u001b[39m\u001b[38;5;124mtractable\u001b[39m\u001b[38;5;124m\"\u001b[39m, \n\u001b[1;32m      3\u001b[0m     score \u001b[38;5;241m=\u001b[39m waldo_score, \n\u001b[1;32m      4\u001b[0m     theta_grid_eval \u001b[38;5;241m=\u001b[39m thetas_valid, \n\u001b[1;32m      5\u001b[0m     simulator \u001b[38;5;241m=\u001b[39m simulator, \n\u001b[1;32m      6\u001b[0m     prior \u001b[38;5;241m=\u001b[39m prior, \n\u001b[1;32m      7\u001b[0m     N \u001b[38;5;241m=\u001b[39m \u001b[38;5;241m5\u001b[39m, \n\u001b[1;32m      8\u001b[0m     B \u001b[38;5;241m=\u001b[39m \u001b[38;5;241m10000\u001b[39m, \n\u001b[1;32m      9\u001b[0m     B_valid \u001b[38;5;241m=\u001b[39m \u001b[38;5;241m300\u001b[39m, \n\u001b[1;32m     10\u001b[0m     N_lambda \u001b[38;5;241m=\u001b[39m \u001b[38;5;241m150\u001b[39m,\n\u001b[1;32m     11\u001b[0m     seed \u001b[38;5;241m=\u001b[39m \u001b[38;5;241m125\u001b[39m,\n\u001b[1;32m     12\u001b[0m     K \u001b[38;5;241m=\u001b[39m \u001b[38;5;241m70\u001b[39m,\n\u001b[1;32m     13\u001b[0m     n_estimators \u001b[38;5;241m=\u001b[39m \u001b[38;5;241m250\u001b[39m,\n\u001b[1;32m     14\u001b[0m     min_samples_leaf \u001b[38;5;241m=\u001b[39m \u001b[38;5;241m250\u001b[39m,\n\u001b[1;32m     15\u001b[0m     log_transf \u001b[38;5;241m=\u001b[39m \u001b[38;5;28;01mFalse\u001b[39;00m,\n\u001b[1;32m     16\u001b[0m     split_calib \u001b[38;5;241m=\u001b[39m \u001b[38;5;28;01mFalse\u001b[39;00m,\n\u001b[1;32m     17\u001b[0m     )\n",
      "Cell \u001b[0;32mIn[50], line 61\u001b[0m, in \u001b[0;36mcompute_MAE_N_B\u001b[0;34m(kind, score, theta_grid_eval, simulator, prior, N, B, alpha, min_samples_leaf, n_estimators, K, B_valid, N_lambda, K_grid, naive_n, disable_tqdm, seed, n_lambda, log_transf, split_calib)\u001b[0m\n\u001b[1;32m     58\u001b[0m X_dim \u001b[38;5;241m=\u001b[39m X_net\u001b[38;5;241m.\u001b[39mshape[\u001b[38;5;241m1\u001b[39m]\n\u001b[1;32m     59\u001b[0m X_net \u001b[38;5;241m=\u001b[39m X_net\u001b[38;5;241m.\u001b[39mreshape(n_lambda, N \u001b[38;5;241m*\u001b[39m X_dim)\n\u001b[0;32m---> 61\u001b[0m stat \u001b[38;5;241m=\u001b[39m score\u001b[38;5;241m.\u001b[39mcompute(theta_repeated\u001b[38;5;241m.\u001b[39mnumpy()[\u001b[38;5;241m0\u001b[39m:n_lambda, :], X_net\u001b[38;5;241m.\u001b[39mnumpy(), disable_tqdm \u001b[38;5;241m=\u001b[39m \u001b[38;5;28;01mTrue\u001b[39;00m)\n\u001b[1;32m     63\u001b[0m \u001b[38;5;66;03m# comparing coverage of methods\u001b[39;00m\n\u001b[1;32m     64\u001b[0m locart_cover \u001b[38;5;241m=\u001b[39m np\u001b[38;5;241m.\u001b[39mmean(stat \u001b[38;5;241m<\u001b[39m\u001b[38;5;241m=\u001b[39m quantiles_dict[\u001b[38;5;124m\"\u001b[39m\u001b[38;5;124mlocart\u001b[39m\u001b[38;5;124m\"\u001b[39m][l])\n",
      "File \u001b[0;32m~/anaconda3/lib/python3.11/site-packages/CP2LFI/scores.py:153\u001b[0m, in \u001b[0;36mWaldoScore.compute\u001b[0;34m(self, thetas, X, N, one_sample, disable_tqdm)\u001b[0m\n\u001b[1;32m    146\u001b[0m \u001b[38;5;28;01mfor\u001b[39;00m theta \u001b[38;5;129;01min\u001b[39;00m tqdm(\n\u001b[1;32m    147\u001b[0m     thetas,\n\u001b[1;32m    148\u001b[0m     desc\u001b[38;5;241m=\u001b[39m\u001b[38;5;124m\"\u001b[39m\u001b[38;5;124mComputing waldo statistics using posterior model\u001b[39m\u001b[38;5;124m\"\u001b[39m,\n\u001b[1;32m    149\u001b[0m     disable\u001b[38;5;241m=\u001b[39mdisable_tqdm,\n\u001b[1;32m    150\u001b[0m ):\n\u001b[1;32m    151\u001b[0m     \u001b[38;5;28;01mif\u001b[39;00m \u001b[38;5;129;01mnot\u001b[39;00m one_sample:\n\u001b[1;32m    152\u001b[0m         \u001b[38;5;66;03m# simulating from the model\u001b[39;00m\n\u001b[0;32m--> 153\u001b[0m         s \u001b[38;5;241m=\u001b[39m \u001b[38;5;28mself\u001b[39m\u001b[38;5;241m.\u001b[39mbase_model\u001b[38;5;241m.\u001b[39msample(X\u001b[38;5;241m=\u001b[39mX[i, :], num_samples\u001b[38;5;241m=\u001b[39mN)\n\u001b[1;32m    155\u001b[0m         \u001b[38;5;66;03m# computing E[theta|X]\u001b[39;00m\n\u001b[1;32m    156\u001b[0m         mean_theta_X \u001b[38;5;241m=\u001b[39m np\u001b[38;5;241m.\u001b[39mmean(s, axis\u001b[38;5;241m=\u001b[39m\u001b[38;5;241m0\u001b[39m)\n",
      "File \u001b[0;32m~/anaconda3/lib/python3.11/site-packages/CP2LFI/posterior_models.py:290\u001b[0m, in \u001b[0;36mnormflow_posterior.sample\u001b[0;34m(self, X, num_samples, fix_seed, random_state)\u001b[0m\n\u001b[1;32m    287\u001b[0m     X_s \u001b[38;5;241m=\u001b[39m torch\u001b[38;5;241m.\u001b[39mtensor(X, dtype\u001b[38;5;241m=\u001b[39mtorch\u001b[38;5;241m.\u001b[39mfloat32)\u001b[38;5;241m.\u001b[39mto(\u001b[38;5;28mself\u001b[39m\u001b[38;5;241m.\u001b[39mdevice)\n\u001b[1;32m    289\u001b[0m \u001b[38;5;28;01mwith\u001b[39;00m torch\u001b[38;5;241m.\u001b[39mno_grad():\n\u001b[0;32m--> 290\u001b[0m     sample, _ \u001b[38;5;241m=\u001b[39m \u001b[38;5;28mself\u001b[39m\u001b[38;5;241m.\u001b[39mmodel\u001b[38;5;241m.\u001b[39msample(context\u001b[38;5;241m=\u001b[39mX_s, num_samples\u001b[38;5;241m=\u001b[39mnum_samples)\n\u001b[1;32m    292\u001b[0m \u001b[38;5;28;01mreturn\u001b[39;00m sample\u001b[38;5;241m.\u001b[39mto(\u001b[38;5;124m\"\u001b[39m\u001b[38;5;124mcpu\u001b[39m\u001b[38;5;124m\"\u001b[39m)\u001b[38;5;241m.\u001b[39mnumpy()\n",
      "File \u001b[0;32m~/anaconda3/lib/python3.11/site-packages/normflows/core.py:298\u001b[0m, in \u001b[0;36mConditionalNormalizingFlow.sample\u001b[0;34m(self, num_samples, context)\u001b[0m\n\u001b[1;32m    296\u001b[0m z, log_q \u001b[38;5;241m=\u001b[39m \u001b[38;5;28mself\u001b[39m\u001b[38;5;241m.\u001b[39mq0(num_samples, context\u001b[38;5;241m=\u001b[39mcontext)\n\u001b[1;32m    297\u001b[0m \u001b[38;5;28;01mfor\u001b[39;00m flow \u001b[38;5;129;01min\u001b[39;00m \u001b[38;5;28mself\u001b[39m\u001b[38;5;241m.\u001b[39mflows:\n\u001b[0;32m--> 298\u001b[0m     z, log_det \u001b[38;5;241m=\u001b[39m flow(z, context\u001b[38;5;241m=\u001b[39mcontext)\n\u001b[1;32m    299\u001b[0m     log_q \u001b[38;5;241m-\u001b[39m\u001b[38;5;241m=\u001b[39m log_det\n\u001b[1;32m    300\u001b[0m \u001b[38;5;28;01mreturn\u001b[39;00m z, log_q\n",
      "File \u001b[0;32m~/anaconda3/lib/python3.11/site-packages/torch/nn/modules/module.py:1511\u001b[0m, in \u001b[0;36mModule._wrapped_call_impl\u001b[0;34m(self, *args, **kwargs)\u001b[0m\n\u001b[1;32m   1509\u001b[0m     \u001b[38;5;28;01mreturn\u001b[39;00m \u001b[38;5;28mself\u001b[39m\u001b[38;5;241m.\u001b[39m_compiled_call_impl(\u001b[38;5;241m*\u001b[39margs, \u001b[38;5;241m*\u001b[39m\u001b[38;5;241m*\u001b[39mkwargs)  \u001b[38;5;66;03m# type: ignore[misc]\u001b[39;00m\n\u001b[1;32m   1510\u001b[0m \u001b[38;5;28;01melse\u001b[39;00m:\n\u001b[0;32m-> 1511\u001b[0m     \u001b[38;5;28;01mreturn\u001b[39;00m \u001b[38;5;28mself\u001b[39m\u001b[38;5;241m.\u001b[39m_call_impl(\u001b[38;5;241m*\u001b[39margs, \u001b[38;5;241m*\u001b[39m\u001b[38;5;241m*\u001b[39mkwargs)\n",
      "File \u001b[0;32m~/anaconda3/lib/python3.11/site-packages/torch/nn/modules/module.py:1520\u001b[0m, in \u001b[0;36mModule._call_impl\u001b[0;34m(self, *args, **kwargs)\u001b[0m\n\u001b[1;32m   1515\u001b[0m \u001b[38;5;66;03m# If we don't have any hooks, we want to skip the rest of the logic in\u001b[39;00m\n\u001b[1;32m   1516\u001b[0m \u001b[38;5;66;03m# this function, and just call forward.\u001b[39;00m\n\u001b[1;32m   1517\u001b[0m \u001b[38;5;28;01mif\u001b[39;00m \u001b[38;5;129;01mnot\u001b[39;00m (\u001b[38;5;28mself\u001b[39m\u001b[38;5;241m.\u001b[39m_backward_hooks \u001b[38;5;129;01mor\u001b[39;00m \u001b[38;5;28mself\u001b[39m\u001b[38;5;241m.\u001b[39m_backward_pre_hooks \u001b[38;5;129;01mor\u001b[39;00m \u001b[38;5;28mself\u001b[39m\u001b[38;5;241m.\u001b[39m_forward_hooks \u001b[38;5;129;01mor\u001b[39;00m \u001b[38;5;28mself\u001b[39m\u001b[38;5;241m.\u001b[39m_forward_pre_hooks\n\u001b[1;32m   1518\u001b[0m         \u001b[38;5;129;01mor\u001b[39;00m _global_backward_pre_hooks \u001b[38;5;129;01mor\u001b[39;00m _global_backward_hooks\n\u001b[1;32m   1519\u001b[0m         \u001b[38;5;129;01mor\u001b[39;00m _global_forward_hooks \u001b[38;5;129;01mor\u001b[39;00m _global_forward_pre_hooks):\n\u001b[0;32m-> 1520\u001b[0m     \u001b[38;5;28;01mreturn\u001b[39;00m forward_call(\u001b[38;5;241m*\u001b[39margs, \u001b[38;5;241m*\u001b[39m\u001b[38;5;241m*\u001b[39mkwargs)\n\u001b[1;32m   1522\u001b[0m \u001b[38;5;28;01mtry\u001b[39;00m:\n\u001b[1;32m   1523\u001b[0m     result \u001b[38;5;241m=\u001b[39m \u001b[38;5;28;01mNone\u001b[39;00m\n",
      "File \u001b[0;32m~/anaconda3/lib/python3.11/site-packages/normflows/flows/neural_spline/wrapper.py:231\u001b[0m, in \u001b[0;36mAutoregressiveRationalQuadraticSpline.forward\u001b[0;34m(self, z, context)\u001b[0m\n\u001b[1;32m    230\u001b[0m \u001b[38;5;28;01mdef\u001b[39;00m \u001b[38;5;21mforward\u001b[39m(\u001b[38;5;28mself\u001b[39m, z, context\u001b[38;5;241m=\u001b[39m\u001b[38;5;28;01mNone\u001b[39;00m):\n\u001b[0;32m--> 231\u001b[0m     z, log_det \u001b[38;5;241m=\u001b[39m \u001b[38;5;28mself\u001b[39m\u001b[38;5;241m.\u001b[39mmprqat\u001b[38;5;241m.\u001b[39minverse(z, context\u001b[38;5;241m=\u001b[39mcontext)\n\u001b[1;32m    232\u001b[0m     \u001b[38;5;28;01mreturn\u001b[39;00m z, log_det\u001b[38;5;241m.\u001b[39mview(\u001b[38;5;241m-\u001b[39m\u001b[38;5;241m1\u001b[39m)\n",
      "File \u001b[0;32m~/anaconda3/lib/python3.11/site-packages/normflows/flows/affine/autoregressive.py:35\u001b[0m, in \u001b[0;36mAutoregressive.inverse\u001b[0;34m(self, inputs, context)\u001b[0m\n\u001b[1;32m     33\u001b[0m \u001b[38;5;28;01mfor\u001b[39;00m _ \u001b[38;5;129;01min\u001b[39;00m \u001b[38;5;28mrange\u001b[39m(num_inputs):\n\u001b[1;32m     34\u001b[0m     autoregressive_params \u001b[38;5;241m=\u001b[39m \u001b[38;5;28mself\u001b[39m\u001b[38;5;241m.\u001b[39mautoregressive_net(outputs, context)\n\u001b[0;32m---> 35\u001b[0m     outputs, logabsdet \u001b[38;5;241m=\u001b[39m \u001b[38;5;28mself\u001b[39m\u001b[38;5;241m.\u001b[39m_elementwise_inverse(\n\u001b[1;32m     36\u001b[0m         inputs, autoregressive_params\n\u001b[1;32m     37\u001b[0m     )\n\u001b[1;32m     38\u001b[0m \u001b[38;5;28;01mreturn\u001b[39;00m outputs, logabsdet\n",
      "File \u001b[0;32m~/anaconda3/lib/python3.11/site-packages/normflows/flows/neural_spline/autoregressive.py:134\u001b[0m, in \u001b[0;36mMaskedPiecewiseRationalQuadraticAutoregressive._elementwise_inverse\u001b[0;34m(self, inputs, autoregressive_params)\u001b[0m\n\u001b[1;32m    133\u001b[0m \u001b[38;5;28;01mdef\u001b[39;00m \u001b[38;5;21m_elementwise_inverse\u001b[39m(\u001b[38;5;28mself\u001b[39m, inputs, autoregressive_params):\n\u001b[0;32m--> 134\u001b[0m     \u001b[38;5;28;01mreturn\u001b[39;00m \u001b[38;5;28mself\u001b[39m\u001b[38;5;241m.\u001b[39m_elementwise(inputs, autoregressive_params, inverse\u001b[38;5;241m=\u001b[39m\u001b[38;5;28;01mTrue\u001b[39;00m)\n",
      "File \u001b[0;32m~/anaconda3/lib/python3.11/site-packages/normflows/flows/neural_spline/autoregressive.py:116\u001b[0m, in \u001b[0;36mMaskedPiecewiseRationalQuadraticAutoregressive._elementwise\u001b[0;34m(self, inputs, autoregressive_params, inverse)\u001b[0m\n\u001b[1;32m    113\u001b[0m     spline_fn \u001b[38;5;241m=\u001b[39m splines\u001b[38;5;241m.\u001b[39munconstrained_rational_quadratic_spline\n\u001b[1;32m    114\u001b[0m     spline_kwargs \u001b[38;5;241m=\u001b[39m {\u001b[38;5;124m\"\u001b[39m\u001b[38;5;124mtails\u001b[39m\u001b[38;5;124m\"\u001b[39m: \u001b[38;5;28mself\u001b[39m\u001b[38;5;241m.\u001b[39mtails, \u001b[38;5;124m\"\u001b[39m\u001b[38;5;124mtail_bound\u001b[39m\u001b[38;5;124m\"\u001b[39m: \u001b[38;5;28mself\u001b[39m\u001b[38;5;241m.\u001b[39mtail_bound}\n\u001b[0;32m--> 116\u001b[0m outputs, logabsdet \u001b[38;5;241m=\u001b[39m spline_fn(\n\u001b[1;32m    117\u001b[0m     inputs\u001b[38;5;241m=\u001b[39minputs,\n\u001b[1;32m    118\u001b[0m     unnormalized_widths\u001b[38;5;241m=\u001b[39munnormalized_widths,\n\u001b[1;32m    119\u001b[0m     unnormalized_heights\u001b[38;5;241m=\u001b[39munnormalized_heights,\n\u001b[1;32m    120\u001b[0m     unnormalized_derivatives\u001b[38;5;241m=\u001b[39munnormalized_derivatives,\n\u001b[1;32m    121\u001b[0m     inverse\u001b[38;5;241m=\u001b[39minverse,\n\u001b[1;32m    122\u001b[0m     min_bin_width\u001b[38;5;241m=\u001b[39m\u001b[38;5;28mself\u001b[39m\u001b[38;5;241m.\u001b[39mmin_bin_width,\n\u001b[1;32m    123\u001b[0m     min_bin_height\u001b[38;5;241m=\u001b[39m\u001b[38;5;28mself\u001b[39m\u001b[38;5;241m.\u001b[39mmin_bin_height,\n\u001b[1;32m    124\u001b[0m     min_derivative\u001b[38;5;241m=\u001b[39m\u001b[38;5;28mself\u001b[39m\u001b[38;5;241m.\u001b[39mmin_derivative,\n\u001b[1;32m    125\u001b[0m     \u001b[38;5;241m*\u001b[39m\u001b[38;5;241m*\u001b[39mspline_kwargs\n\u001b[1;32m    126\u001b[0m )\n\u001b[1;32m    128\u001b[0m \u001b[38;5;28;01mreturn\u001b[39;00m outputs, utils\u001b[38;5;241m.\u001b[39msum_except_batch(logabsdet)\n",
      "File \u001b[0;32m~/anaconda3/lib/python3.11/site-packages/normflows/utils/splines.py:76\u001b[0m, in \u001b[0;36munconstrained_rational_quadratic_spline\u001b[0;34m(inputs, unnormalized_widths, unnormalized_heights, unnormalized_derivatives, inverse, tails, tail_bound, min_bin_width, min_bin_height, min_derivative)\u001b[0m\n\u001b[1;32m     70\u001b[0m     bottom \u001b[38;5;241m=\u001b[39m \u001b[38;5;241m-\u001b[39mtail_bound\n\u001b[1;32m     71\u001b[0m     top \u001b[38;5;241m=\u001b[39m tail_bound\n\u001b[1;32m     73\u001b[0m (\n\u001b[1;32m     74\u001b[0m     outputs_masked,\n\u001b[1;32m     75\u001b[0m     logabsdet_masked\n\u001b[0;32m---> 76\u001b[0m ) \u001b[38;5;241m=\u001b[39m rational_quadratic_spline(\n\u001b[1;32m     77\u001b[0m     inputs\u001b[38;5;241m=\u001b[39minputs[inside_interval_mask],\n\u001b[1;32m     78\u001b[0m     unnormalized_widths\u001b[38;5;241m=\u001b[39munnormalized_widths[inside_interval_mask, :],\n\u001b[1;32m     79\u001b[0m     unnormalized_heights\u001b[38;5;241m=\u001b[39munnormalized_heights[inside_interval_mask, :],\n\u001b[1;32m     80\u001b[0m     unnormalized_derivatives\u001b[38;5;241m=\u001b[39munnormalized_derivatives_[inside_interval_mask, :],\n\u001b[1;32m     81\u001b[0m     inverse\u001b[38;5;241m=\u001b[39minverse,\n\u001b[1;32m     82\u001b[0m     left\u001b[38;5;241m=\u001b[39mleft,\n\u001b[1;32m     83\u001b[0m     right\u001b[38;5;241m=\u001b[39mright,\n\u001b[1;32m     84\u001b[0m     bottom\u001b[38;5;241m=\u001b[39mbottom,\n\u001b[1;32m     85\u001b[0m     top\u001b[38;5;241m=\u001b[39mtop,\n\u001b[1;32m     86\u001b[0m     min_bin_width\u001b[38;5;241m=\u001b[39mmin_bin_width,\n\u001b[1;32m     87\u001b[0m     min_bin_height\u001b[38;5;241m=\u001b[39mmin_bin_height,\n\u001b[1;32m     88\u001b[0m     min_derivative\u001b[38;5;241m=\u001b[39mmin_derivative,\n\u001b[1;32m     89\u001b[0m )\n\u001b[1;32m     90\u001b[0m \u001b[38;5;28;01mif\u001b[39;00m outputs\u001b[38;5;241m.\u001b[39mdtype \u001b[38;5;241m==\u001b[39m outputs_masked\u001b[38;5;241m.\u001b[39mdtype \u001b[38;5;129;01mand\u001b[39;00m logabsdet\u001b[38;5;241m.\u001b[39mdtype \u001b[38;5;241m==\u001b[39m logabsdet_masked\u001b[38;5;241m.\u001b[39mdtype:\n\u001b[1;32m     91\u001b[0m     outputs[inside_interval_mask] \u001b[38;5;241m=\u001b[39m outputs_masked\n",
      "File \u001b[0;32m~/anaconda3/lib/python3.11/site-packages/normflows/utils/splines.py:181\u001b[0m, in \u001b[0;36mrational_quadratic_spline\u001b[0;34m(inputs, unnormalized_widths, unnormalized_heights, unnormalized_derivatives, inverse, left, right, bottom, top, min_bin_width, min_bin_height, min_derivative)\u001b[0m\n\u001b[1;32m    178\u001b[0m c \u001b[38;5;241m=\u001b[39m \u001b[38;5;241m-\u001b[39minput_delta \u001b[38;5;241m*\u001b[39m (inputs \u001b[38;5;241m-\u001b[39m input_cumheights)\n\u001b[1;32m    180\u001b[0m discriminant \u001b[38;5;241m=\u001b[39m b\u001b[38;5;241m.\u001b[39mpow(\u001b[38;5;241m2\u001b[39m) \u001b[38;5;241m-\u001b[39m \u001b[38;5;241m4\u001b[39m \u001b[38;5;241m*\u001b[39m a \u001b[38;5;241m*\u001b[39m c\n\u001b[0;32m--> 181\u001b[0m \u001b[38;5;28;01massert\u001b[39;00m (discriminant \u001b[38;5;241m>\u001b[39m\u001b[38;5;241m=\u001b[39m \u001b[38;5;241m0\u001b[39m)\u001b[38;5;241m.\u001b[39mall()\n\u001b[1;32m    183\u001b[0m root \u001b[38;5;241m=\u001b[39m (\u001b[38;5;241m2\u001b[39m \u001b[38;5;241m*\u001b[39m c) \u001b[38;5;241m/\u001b[39m (\u001b[38;5;241m-\u001b[39mb \u001b[38;5;241m-\u001b[39m torch\u001b[38;5;241m.\u001b[39msqrt(discriminant))\n\u001b[1;32m    184\u001b[0m outputs \u001b[38;5;241m=\u001b[39m root \u001b[38;5;241m*\u001b[39m input_bin_widths \u001b[38;5;241m+\u001b[39m input_cumwidths\n",
      "\u001b[0;31mAssertionError\u001b[0m: "
     ]
    }
   ],
   "source": [
    "waldo_stats_tractable = compute_MAE_N_B(\n",
    "    kind = \"tractable\", \n",
    "    score = waldo_score, \n",
    "    theta_grid_eval = thetas_valid, \n",
    "    simulator = simulator, \n",
    "    prior = prior, \n",
    "    N = 5, \n",
    "    B = 10000, \n",
    "    B_valid = 300, \n",
    "    N_lambda = 150,\n",
    "    seed = 125,\n",
    "    K = 70,\n",
    "    n_estimators = 250,\n",
    "    min_samples_leaf = 250,\n",
    "    log_transf = False,\n",
    "    split_calib = False,\n",
    "    )"
   ]
  },
  {
   "cell_type": "code",
   "execution_count": null,
   "metadata": {},
   "outputs": [],
   "source": [
    "waldo_stats_tractable"
   ]
  }
 ],
 "metadata": {
  "kernelspec": {
   "display_name": "base",
   "language": "python",
   "name": "python3"
  },
  "language_info": {
   "codemirror_mode": {
    "name": "ipython",
    "version": 3
   },
   "file_extension": ".py",
   "mimetype": "text/x-python",
   "name": "python",
   "nbconvert_exporter": "python",
   "pygments_lexer": "ipython3",
   "version": "3.11.5"
  }
 },
 "nbformat": 4,
 "nbformat_minor": 2
}
