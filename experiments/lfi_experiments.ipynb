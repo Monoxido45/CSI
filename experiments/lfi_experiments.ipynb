{
 "cells": [
  {
   "cell_type": "markdown",
   "metadata": {},
   "source": [
    "# First experiments with all LFI data"
   ]
  },
  {
   "cell_type": "code",
   "execution_count": 1,
   "metadata": {},
   "outputs": [],
   "source": [
    "# Importing all packages\n",
    "# normalizing flows packages\n",
    "import torch\n",
    "from torch.utils.data import TensorDataset, DataLoader\n",
    "import normflows as nf\n",
    "\n",
    "# loforest and locart functions\n",
    "from CP2LFI.loforest import ConformalLoforest, tune_loforest_LFI\n",
    "from CP2LFI.scores import Scores\n",
    "from CP2LFI.simulations import Simulations, naive, predict_naive_quantile\n",
    "from CP2LFI.posterior_models import normflow_posterior\n",
    "\n",
    "# quantile regression\n",
    "from sklearn.ensemble import HistGradientBoostingRegressor\n",
    "\n",
    "# plotting and numpy\n",
    "from matplotlib import pyplot as plt\n",
    "import numpy as np\n",
    "from tqdm import tqdm\n",
    "\n",
    "# package to simulate from weinberg LFI data\n",
    "# weinberg data (physics)\n",
    "from hypothesis.benchmark import weinberg\n",
    "# mg1 data (queue theory)\n",
    "from hypothesis.benchmark import mg1\n",
    "# multivariate normal (toy example)\n",
    "from hypothesis.benchmark import tractable"
   ]
  },
  {
   "cell_type": "markdown",
   "metadata": {},
   "source": [
    "## Organizing preliminary functions and classes first:"
   ]
  },
  {
   "cell_type": "code",
   "execution_count": null,
   "metadata": {},
   "outputs": [],
   "source": [
    "class WaldoScore(Scores):\n",
    "    def fit(self, X = None, thetas = None):\n",
    "        # setting up model for normalizing flows\n",
    "        if self.is_fitted:\n",
    "            return self\n",
    "        elif self.base_model is not None:\n",
    "            self.base_model.fit(X, thetas)\n",
    "        else:\n",
    "            return self\n",
    "\n",
    "    def compute(self, thetas, lambdas, B = 10**4):\n",
    "        \n",
    "        return lambdas\n",
    "\n",
    "    def predict(self, thetas, cutoff):\n",
    "        pred = np.vstack((thetas - cutoff, thetas + cutoff)).T\n",
    "        return pred"
   ]
  },
  {
   "cell_type": "markdown",
   "metadata": {},
   "source": [
    "## Starting by the multivariate normal data:"
   ]
  },
  {
   "cell_type": "markdown",
   "metadata": {},
   "source": [
    "Simulating and testing for tractable:"
   ]
  },
  {
   "cell_type": "code",
   "execution_count": 2,
   "metadata": {},
   "outputs": [],
   "source": [
    "simulator = tractable.Simulator()\n",
    "prior = tractable.Prior()\n",
    "\n",
    "# testing posterior model\n",
    "# simulating from prior\n",
    "inputs = prior.sample((10,)) # Draw 10 samples from the prior.\n",
    "repeated_inputs = inputs.repeat(2, 1)\n",
    "\n",
    "outputs = simulator(inputs)"
   ]
  },
  {
   "cell_type": "markdown",
   "metadata": {},
   "source": [
    "Setting $n = 5$ and $B^{'} = 10000$ for posterior modeling:"
   ]
  },
  {
   "cell_type": "code",
   "execution_count": 3,
   "metadata": {},
   "outputs": [
    {
     "data": {
      "text/plain": [
       "tensor([[-2.6983,  6.8049, -2.3008,  ..., -4.1367, -1.4454,  0.0833],\n",
       "        [-4.2739, 12.4222, -2.8186,  ...,  5.3743, -3.5249, 10.2442],\n",
       "        [-3.3973,  9.1984, -2.8430,  ..., -7.3831, -3.1952,  9.2909],\n",
       "        ...,\n",
       "        [-0.0912,  2.7111, -0.0203,  ...,  0.6607, -0.1690,  2.9145],\n",
       "        [-1.1218,  4.3075, -0.2426,  ...,  3.0292, -0.0418,  2.8721],\n",
       "        [-1.0765,  3.6011, -0.1130,  ...,  0.8354, -0.1374,  2.8256]])"
      ]
     },
     "execution_count": 3,
     "metadata": {},
     "output_type": "execute_result"
    }
   ],
   "source": [
    "B_model = 10000\n",
    "n = 5\n",
    "torch.manual_seed(45)\n",
    "# simulating thetas\n",
    "thetas = prior.sample((B_model, ))\n",
    "repeated_thetas = thetas.repeat_interleave(repeats = n, dim = 0)\n",
    "\n",
    "# simulating X's\n",
    "X_sample = simulator(repeated_thetas)\n",
    "X_dim = X_sample.shape[1]\n",
    "X_sample"
   ]
  },
  {
   "cell_type": "code",
   "execution_count": 4,
   "metadata": {},
   "outputs": [],
   "source": [
    "X_dim = X_sample.shape[1]\n",
    "X_net = X_sample.reshape(B_model, n * X_dim)"
   ]
  },
  {
   "cell_type": "markdown",
   "metadata": {},
   "source": [
    "Fitting normalizing flow model:"
   ]
  },
  {
   "cell_type": "code",
   "execution_count": 5,
   "metadata": {},
   "outputs": [
    {
     "ename": "AttributeError",
     "evalue": "'normflow_posterior' object has no attribute 'context_size'",
     "output_type": "error",
     "traceback": [
      "\u001b[0;31m---------------------------------------------------------------------------\u001b[0m",
      "\u001b[0;31mAttributeError\u001b[0m                            Traceback (most recent call last)",
      "Cell \u001b[0;32mIn[5], line 10\u001b[0m\n\u001b[1;32m      1\u001b[0m nflow_post \u001b[38;5;241m=\u001b[39m normflow_posterior(\n\u001b[1;32m      2\u001b[0m     latent_size \u001b[38;5;241m=\u001b[39m thetas\u001b[38;5;241m.\u001b[39mshape[\u001b[38;5;241m1\u001b[39m],\n\u001b[1;32m      3\u001b[0m     sample_size \u001b[38;5;241m=\u001b[39m X_net\u001b[38;5;241m.\u001b[39mshape[\u001b[38;5;241m1\u001b[39m], \n\u001b[0;32m   (...)\u001b[0m\n\u001b[1;32m      7\u001b[0m     enable_cuda \u001b[38;5;241m=\u001b[39m \u001b[38;5;28;01mTrue\u001b[39;00m,\n\u001b[1;32m      8\u001b[0m     )\n\u001b[0;32m---> 10\u001b[0m nflow_post\u001b[38;5;241m.\u001b[39mfit(X_net\u001b[38;5;241m.\u001b[39mnumpy(), thetas\u001b[38;5;241m.\u001b[39mnumpy(), patience \u001b[38;5;241m=\u001b[39m \u001b[38;5;241m50\u001b[39m, n_epochs \u001b[38;5;241m=\u001b[39m \u001b[38;5;241m100\u001b[39m)\n",
      "File \u001b[0;32m~/anaconda3/lib/python3.11/site-packages/CP2LFI/posterior_models.py:111\u001b[0m, in \u001b[0;36mnormflow_posterior.fit\u001b[0;34m(self, X, theta, val_size, n_epochs, patience, batch_size, learning_rate, weight_decay, torch_seed, split_seed, **kwargs)\u001b[0m\n\u001b[1;32m     94\u001b[0m \u001b[38;5;250m\u001b[39m\u001b[38;5;124;03m\"\"\"\u001b[39;00m\n\u001b[1;32m     95\u001b[0m \u001b[38;5;124;03mFit the posterior model to the given data.\u001b[39;00m\n\u001b[1;32m     96\u001b[0m \n\u001b[0;32m   (...)\u001b[0m\n\u001b[1;32m    108\u001b[0m \u001b[38;5;124;03m    Returns self.\u001b[39;00m\n\u001b[1;32m    109\u001b[0m \u001b[38;5;124;03m\"\"\"\u001b[39;00m\n\u001b[1;32m    110\u001b[0m \u001b[38;5;66;03m# setting up model\u001b[39;00m\n\u001b[0;32m--> 111\u001b[0m \u001b[38;5;28mself\u001b[39m\u001b[38;5;241m.\u001b[39mmodel \u001b[38;5;241m=\u001b[39m \u001b[38;5;28mself\u001b[39m\u001b[38;5;241m.\u001b[39mset_up_nflow(\u001b[38;5;241m*\u001b[39m\u001b[38;5;241m*\u001b[39mkwargs)\n\u001b[1;32m    113\u001b[0m \u001b[38;5;66;03m# splitting data\u001b[39;00m\n\u001b[1;32m    114\u001b[0m x_train, x_val, theta_train, theta_val \u001b[38;5;241m=\u001b[39m train_test_split(\n\u001b[1;32m    115\u001b[0m     X, theta, test_size\u001b[38;5;241m=\u001b[39mval_size, random_state\u001b[38;5;241m=\u001b[39msplit_seed\n\u001b[1;32m    116\u001b[0m )\n",
      "File \u001b[0;32m~/anaconda3/lib/python3.11/site-packages/CP2LFI/posterior_models.py:63\u001b[0m, in \u001b[0;36mnormflow_posterior.set_up_nflow\u001b[0;34m(self, **kwargs)\u001b[0m\n\u001b[1;32m     56\u001b[0m flows \u001b[38;5;241m=\u001b[39m []\n\u001b[1;32m     57\u001b[0m \u001b[38;5;28;01mfor\u001b[39;00m i \u001b[38;5;129;01min\u001b[39;00m \u001b[38;5;28mrange\u001b[39m(\u001b[38;5;28mself\u001b[39m\u001b[38;5;241m.\u001b[39mn_flows):\n\u001b[1;32m     58\u001b[0m     flows \u001b[38;5;241m+\u001b[39m\u001b[38;5;241m=\u001b[39m [\n\u001b[1;32m     59\u001b[0m         nf\u001b[38;5;241m.\u001b[39mflows\u001b[38;5;241m.\u001b[39mAutoregressiveRationalQuadraticSpline(\n\u001b[1;32m     60\u001b[0m             \u001b[38;5;28mself\u001b[39m\u001b[38;5;241m.\u001b[39mlatent_size,\n\u001b[1;32m     61\u001b[0m             \u001b[38;5;28mself\u001b[39m\u001b[38;5;241m.\u001b[39mhidden_layers,\n\u001b[1;32m     62\u001b[0m             \u001b[38;5;28mself\u001b[39m\u001b[38;5;241m.\u001b[39mhidden_units,\n\u001b[0;32m---> 63\u001b[0m             num_context_channels\u001b[38;5;241m=\u001b[39m\u001b[38;5;28mself\u001b[39m\u001b[38;5;241m.\u001b[39mcontext_size,\n\u001b[1;32m     64\u001b[0m             permute_mask\u001b[38;5;241m=\u001b[39m\u001b[38;5;28mself\u001b[39m\u001b[38;5;241m.\u001b[39mpermute_mask,\n\u001b[1;32m     65\u001b[0m             \u001b[38;5;241m*\u001b[39m\u001b[38;5;241m*\u001b[39mkwargs,\n\u001b[1;32m     66\u001b[0m         )\n\u001b[1;32m     67\u001b[0m     ]\n\u001b[1;32m     68\u001b[0m     flows \u001b[38;5;241m+\u001b[39m\u001b[38;5;241m=\u001b[39m [nf\u001b[38;5;241m.\u001b[39mflows\u001b[38;5;241m.\u001b[39mLULinearPermute(\u001b[38;5;28mself\u001b[39m\u001b[38;5;241m.\u001b[39mlatent_size)]\n\u001b[1;32m     70\u001b[0m \u001b[38;5;66;03m# Set base distribution\u001b[39;00m\n",
      "\u001b[0;31mAttributeError\u001b[0m: 'normflow_posterior' object has no attribute 'context_size'"
     ]
    }
   ],
   "source": [
    "nflow_post = normflow_posterior(\n",
    "    latent_size = thetas.shape[1],\n",
    "    sample_size = X_net.shape[1], \n",
    "    n_flows = 4, \n",
    "    hidden_units = 64, \n",
    "    hidden_layers = 2,\n",
    "    enable_cuda = True,\n",
    "    )\n",
    "\n",
    "nflow_post.fit(X_net.numpy(), thetas.numpy(), patience = 50, n_epochs = 100)"
   ]
  },
  {
   "cell_type": "code",
   "execution_count": null,
   "metadata": {},
   "outputs": [],
   "source": [
    "nflow_post.plot_history()"
   ]
  }
 ],
 "metadata": {
  "kernelspec": {
   "display_name": "base",
   "language": "python",
   "name": "python3"
  },
  "language_info": {
   "codemirror_mode": {
    "name": "ipython",
    "version": 3
   },
   "file_extension": ".py",
   "mimetype": "text/x-python",
   "name": "python",
   "nbconvert_exporter": "python",
   "pygments_lexer": "ipython3",
   "version": "3.11.5"
  }
 },
 "nbformat": 4,
 "nbformat_minor": 2
}
