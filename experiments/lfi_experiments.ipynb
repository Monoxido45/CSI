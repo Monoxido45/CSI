{
 "cells": [
  {
   "cell_type": "markdown",
   "metadata": {},
   "source": [
    "# First experiments with all LFI data"
   ]
  },
  {
   "cell_type": "code",
   "execution_count": 2,
   "metadata": {},
   "outputs": [],
   "source": [
    "# Importing all packages\n",
    "# normalizing flows packages\n",
    "import torch\n",
    "from torch.utils.data import TensorDataset, DataLoader\n",
    "import normflows as nf\n",
    "\n",
    "# loforest and locart functions\n",
    "from CP2LFI.loforest import ConformalLoforest, tune_loforest_LFI\n",
    "from CP2LFI.scores import Scores, LambdaScore, WaldoScore, BFFScore, E_valueScore\n",
    "from CP2LFI.simulations import predict_naive_quantile\n",
    "from CP2LFI.posterior_models import normflow_posterior\n",
    "from clover import LocartSplit\n",
    "\n",
    "# quantile regression\n",
    "from sklearn.ensemble import HistGradientBoostingRegressor\n",
    "\n",
    "# plotting and numpy\n",
    "from matplotlib import pyplot as plt\n",
    "import numpy as np\n",
    "from tqdm import tqdm\n",
    "import itertools\n",
    "import pandas as pd\n",
    "\n",
    "# package to simulate from weinberg LFI data\n",
    "# weinberg data (physics)\n",
    "from hypothesis.benchmark import weinberg\n",
    "# mg1 data (queue theory)\n",
    "from hypothesis.benchmark import mg1\n",
    "# multivariate normal (toy example)\n",
    "from hypothesis.benchmark import tractable"
   ]
  },
  {
   "cell_type": "markdown",
   "metadata": {},
   "source": [
    "## Defining general functions to make the comparisons:"
   ]
  },
  {
   "cell_type": "markdown",
   "metadata": {},
   "source": [
    "First, implementing naive quantiles and prediction:"
   ]
  },
  {
   "cell_type": "code",
   "execution_count": 3,
   "metadata": {},
   "outputs": [],
   "source": [
    "# defining naive function\n",
    "def naive(kind, simulator, score, alpha, B=1000, N=100, naive_n=500, disable_tqdm = True, log_transf = False):\n",
    "    n_grid = int(B / naive_n)\n",
    "    quantiles = {}\n",
    "\n",
    "    if kind == \"weinberg\":\n",
    "        thetas = np.linspace(0.5001, 1.4999, n_grid)\n",
    "        for theta in tqdm(thetas, desc = \"fitting monte carlo cutoffs\"):\n",
    "            theta_fixed = torch.tensor([theta])\n",
    "            repeated_thetas = theta_fixed.reshape(1, -1).repeat_interleave(repeats = naive_n*N, dim = 0)\n",
    "            X_samples = simulator(repeated_thetas)\n",
    "\n",
    "            if log_transf:\n",
    "                X_samples = torch.log(X_samples)\n",
    "\n",
    "            X_dim = X_samples.shape[1]\n",
    "            X_samples = X_samples.reshape(naive_n, N * X_dim)\n",
    "\n",
    "            lambdas = score.compute(thetas = repeated_thetas.numpy()[0:naive_n, :], X = X_samples.numpy(), disable_tqdm = disable_tqdm)\n",
    "\n",
    "            quantiles[theta] = np.quantile(lambdas, q = 1 - alpha)\n",
    "\n",
    "    elif kind == \"tractable\":\n",
    "        # given the complexity, reducing to only 10 grid if B > 5000\n",
    "        par_grid = np.linspace(-2.9999, 2.9999, int(np.ceil(n_grid**(1/5)))) \n",
    "\n",
    "        for theta_1, theta_2, theta_3, theta_4, theta_5 in tqdm(itertools.product(par_grid, par_grid, par_grid, par_grid, par_grid), \n",
    "                                                                desc =\"fitting monte carlo cutoffs\"):\n",
    "            theta_fixed = torch.tensor([theta_1, theta_2, theta_3, theta_4, theta_5])\n",
    "            repeated_thetas = theta_fixed.reshape(1, -1).repeat_interleave(repeats = naive_n*N, dim = 0)\n",
    "            X_samples = simulator(repeated_thetas)\n",
    "\n",
    "            if log_transf:\n",
    "                X_samples = torch.log(X_samples)\n",
    "\n",
    "            X_dim = X_samples.shape[1]\n",
    "            X_samples = X_samples.reshape(naive_n, N * X_dim)\n",
    "\n",
    "            lambdas = score.compute(thetas = repeated_thetas.numpy()[0:naive_n, :], X = X_samples.numpy(), disable_tqdm = disable_tqdm)\n",
    "\n",
    "            quantiles[(theta_1, theta_2, theta_3, theta_4, theta_5)] = np.quantile(lambdas, q = 1 - alpha)\n",
    "\n",
    "    elif kind == \"mg1\":\n",
    "        pars_1 = np.linspace(0.0001, 9.9999, int(np.ceil(n_grid**(1/3))))\n",
    "        pars_2 = np.linspace(0.0001, 1/3 - 0.0001, int(np.ceil((n_grid)**(1/3))))\n",
    "\n",
    "        for par1, par2, par3 in tqdm(itertools.product(pars_1, pars_1, pars_2), desc = \"fitting monte carlo cutoffs\"):\n",
    "            theta_fixed = torch.tensor([par1, par2, par3])\n",
    "            repeated_thetas = theta_fixed.reshape(1, -1).repeat_interleave(repeats = naive_n*N, dim = 0)\n",
    "            X_samples = simulator(repeated_thetas)\n",
    "            \n",
    "            if log_transf:\n",
    "                X_samples = torch.log(X_samples)\n",
    "                \n",
    "            X_dim = X_samples.shape[1]\n",
    "            X_samples = X_samples.reshape(naive_n, N * X_dim)\n",
    "\n",
    "            lambdas = score.compute(\n",
    "                thetas = repeated_thetas.numpy()[0:naive_n, :],\n",
    "                X = X_samples.numpy(), \n",
    "                disable_tqdm = disable_tqdm)\n",
    "\n",
    "            quantiles[(par1, par2, par3)] = np.quantile(lambdas, q = 1 - alpha)\n",
    "    return quantiles\n",
    "\n",
    "# prediction function for naive\n",
    "def predict_naive_quantile(kind, theta_grid, quantiles_dict):\n",
    "    thetas_values = np.array(list(quantiles_dict.keys()))\n",
    "    quantiles_list = []\n",
    "    for theta in theta_grid:\n",
    "        if kind == \"weinberg\":\n",
    "            idx = thetas_values[int(np.argmin(np.abs(theta - thetas_values)))]\n",
    "            quantiles_list.append(quantiles_dict[idx])\n",
    "        else:\n",
    "            distances = np.linalg.norm(thetas_values - theta, axis=1)\n",
    "            idx = thetas_values[np.argmin(distances)]\n",
    "            quantiles_list.append(quantiles_dict[tuple(idx)])\n",
    "    return quantiles_list"
   ]
  },
  {
   "cell_type": "markdown",
   "metadata": {},
   "source": [
    "Now, implementing function for obtaining quantile in LFI version:"
   ]
  },
  {
   "cell_type": "code",
   "execution_count": 4,
   "metadata": {},
   "outputs": [],
   "source": [
    "def obtain_quantiles(\n",
    "    kind,\n",
    "    score,\n",
    "    theta_grid_eval,\n",
    "    simulator,\n",
    "    prior,\n",
    "    N,\n",
    "    B=1000,\n",
    "    alpha=0.05,\n",
    "    min_samples_leaf=100,\n",
    "    n_estimators = 100,\n",
    "    K = 50,\n",
    "    B_valid=1000,\n",
    "    N_lambda = 150,\n",
    "    K_grid= np.concatenate((np.array([0]), np.arange(15, 95, 5))),\n",
    "    naive_n=500,\n",
    "    disable_tqdm = True,\n",
    "    log_transf = False,\n",
    "):\n",
    "    # fitting and predicting naive (monte-carlo\n",
    "    print(\"Running naive method\")\n",
    "    naive_quantiles = naive(\n",
    "        kind = kind, \n",
    "        simulator = simulator, \n",
    "        score = score, \n",
    "        alpha = alpha, \n",
    "        B=B, \n",
    "        N=N, \n",
    "        naive_n= naive_n, \n",
    "        log_transf = log_transf\n",
    "        )\n",
    "    naive_list = predict_naive_quantile(kind, theta_grid_eval, naive_quantiles)\n",
    "\n",
    "    # simulating to fit models\n",
    "    thetas_sim = prior.sample((B,))\n",
    "    if thetas_sim.ndim == 1:\n",
    "        model_thetas = thetas_sim.reshape(-1, 1)\n",
    "    else:\n",
    "        model_thetas = thetas_sim\n",
    "\n",
    "    repeated_thetas = thetas_sim.repeat_interleave(repeats = N, dim = 0)\n",
    "    X_net = simulator(repeated_thetas)\n",
    "    if log_transf:\n",
    "        X_net = torch.log(X_net)\n",
    "    X_dim = X_net.shape[1]\n",
    "    X_net = X_net.reshape(B, N * X_dim)\n",
    "\n",
    "    model_lambdas = score.compute(model_thetas.numpy(), X_net.numpy(), disable_tqdm = disable_tqdm)\n",
    "    print(model_lambdas)\n",
    "\n",
    "    print(\"Running all the other methods\")\n",
    "    locart_object = LocartSplit(\n",
    "        LambdaScore, None, alpha=alpha, is_fitted=True, split_calib=False\n",
    "    )\n",
    "    locart_quantiles = locart_object.calib(\n",
    "        model_thetas.numpy(), model_lambdas, min_samples_leaf=min_samples_leaf\n",
    "    )\n",
    "\n",
    "    # loforest quantiles\n",
    "    loforest_object = ConformalLoforest(\n",
    "        LambdaScore, None, alpha=alpha, is_fitted=True, split_calib=False\n",
    "    )\n",
    "    loforest_object.calibrate(\n",
    "        model_thetas.numpy(), \n",
    "        model_lambdas, \n",
    "        min_samples_leaf=min_samples_leaf, \n",
    "        n_estimators= n_estimators,\n",
    "        K = K,\n",
    "    )\n",
    "\n",
    "    # boosting quantiles\n",
    "    model = HistGradientBoostingRegressor(\n",
    "        loss=\"quantile\",\n",
    "        max_iter=100,\n",
    "        max_depth=3,\n",
    "        quantile=1 - alpha,\n",
    "        random_state=105,\n",
    "        n_iter_no_change=15,\n",
    "        early_stopping=True,\n",
    "    )\n",
    "    model.fit(model_thetas.numpy(), model_lambdas)\n",
    "\n",
    "    print(\"Obtaining tuning sample\")\n",
    "    # tuned loforest samples\n",
    "    theta_tune = prior.sample((B_valid, ))\n",
    "\n",
    "    # finding tuned K\n",
    "    lambda_tune = np.zeros((theta_tune.shape[0], N_lambda))\n",
    "    if theta_tune.ndim == 1:\n",
    "        K_valid_thetas = theta_tune.reshape(-1, 1)\n",
    "    else:\n",
    "        K_valid_thetas = theta_tune\n",
    "\n",
    "    i = 0\n",
    "    for theta in tqdm(theta_tune, desc = \"Simulating all tuning sample\"):\n",
    "        if theta_tune.ndim == 1:\n",
    "            theta_repeated = torch.tensor([theta]).reshape(1, -1).repeat_interleave(repeats = N_lambda*N, dim = 0)\n",
    "        else:\n",
    "            theta_repeated = theta.reshape(1, -1).repeat_interleave(repeats = N_lambda*N, dim = 0)\n",
    "            \n",
    "        X_net = simulator(theta_repeated)\n",
    "        if log_transf:\n",
    "            X_net = torch.log(X_net)\n",
    "        X_dim = X_net.shape[1]\n",
    "        X_net = X_net.reshape(N_lambda, N * X_dim)\n",
    "        lambda_tune[i, :] = score.compute(thetas = theta_repeated.numpy()[0:N_lambda, :], X = X_net.numpy(), disable_tqdm = disable_tqdm)\n",
    "        i += 1\n",
    "\n",
    "    print(\"Fitting tuned loforest\")\n",
    "    K_loforest = tune_loforest_LFI(\n",
    "        loforest_object, theta_data = K_valid_thetas.numpy(), lambda_data = lambda_tune, K_grid=K_grid\n",
    "    )\n",
    "\n",
    "    # locart quantiles\n",
    "    if theta_grid_eval.ndim == 1:\n",
    "        model_eval = theta_grid_eval.reshape(-1, 1)\n",
    "    else:\n",
    "        model_eval = theta_grid_eval\n",
    "\n",
    "    idxs = locart_object.cart.apply(model_eval)\n",
    "    list_locart_quantiles = [locart_quantiles[idx] for idx in idxs]\n",
    "\n",
    "    # loforest\n",
    "    loforest_cutoffs = loforest_object.compute_cutoffs(model_eval)\n",
    "\n",
    "    # tuned loforest\n",
    "    loforest_tuned_cutoffs = loforest_object.compute_cutoffs(\n",
    "        model_eval, K=K_loforest\n",
    "    )\n",
    "\n",
    "    # boosting\n",
    "    boosting_quantiles = model.predict(model_eval)\n",
    "\n",
    "\n",
    "    # dictionary of quantiles\n",
    "    quantile_dict = {\n",
    "        \"naive\": naive_list,\n",
    "        \"locart\": list_locart_quantiles,\n",
    "        \"loforest_fixed\": loforest_cutoffs,\n",
    "        \"loforest_tuned\": loforest_tuned_cutoffs,\n",
    "        \"boosting\": boosting_quantiles,\n",
    "    }\n",
    "\n",
    "    return quantile_dict"
   ]
  },
  {
   "cell_type": "markdown",
   "metadata": {},
   "source": [
    "Function to compute MAE for a fixed N and B:"
   ]
  },
  {
   "cell_type": "code",
   "execution_count": 5,
   "metadata": {},
   "outputs": [],
   "source": [
    "def compute_MAE_N_B(\n",
    "    kind,\n",
    "    score,\n",
    "    theta_grid_eval,\n",
    "    simulator,\n",
    "    prior,\n",
    "    N = 1,\n",
    "    B = 10000,\n",
    "    alpha=0.05,\n",
    "    min_samples_leaf = 300,\n",
    "    n_estimators = 200,\n",
    "    K = 50,\n",
    "    B_valid= 500,\n",
    "    N_lambda = 250,\n",
    "    K_grid= np.concatenate((np.array([0]), np.arange(15, 125, 5))),\n",
    "    naive_n=500,\n",
    "    disable_tqdm = True,\n",
    "    seed = 45,\n",
    "    n_lambda = 300,\n",
    "    log_transf = False,\n",
    "):\n",
    "    torch.manual_seed(seed)\n",
    "    torch.cuda.manual_seed(seed)\n",
    "\n",
    "    quantiles_dict = obtain_quantiles(\n",
    "    kind = kind, \n",
    "    score = score, \n",
    "    theta_grid_eval = theta_grid_eval, \n",
    "    simulator = simulator,\n",
    "    prior = prior, \n",
    "    N = N, \n",
    "    B = B, \n",
    "    alpha = alpha, \n",
    "    min_samples_leaf = min_samples_leaf, \n",
    "    n_estimators = n_estimators, \n",
    "    K = K,\n",
    "    disable_tqdm = disable_tqdm,\n",
    "    B_valid = B_valid,\n",
    "    N_lambda= N_lambda,\n",
    "    K_grid = K_grid,\n",
    "    naive_n = naive_n,\n",
    "    log_transf = log_transf,\n",
    ")\n",
    "    mae_list, se_list, methods_list, N_list, B_list = [], [], [], [], []\n",
    "    err_data = np.zeros((theta_grid_eval.shape[0], 5))\n",
    "    l = 0\n",
    "    for theta in tqdm(theta_grid_eval, desc = \"Evaluating coverage in this setting\"):\n",
    "        if theta_grid_eval.ndim == 1:\n",
    "            theta_repeated = torch.tensor([theta]).reshape(1, -1).repeat_interleave(repeats = n_lambda*N, dim = 0)\n",
    "        else:\n",
    "            theta_repeated = torch.tensor([theta]).repeat_interleave(repeats = n_lambda*N, dim = 0)\n",
    "        # simulating lambdas for testing\n",
    "        X_net = simulator(theta_repeated)\n",
    "        if log_transf:\n",
    "            X_net = torch.log(X_net)\n",
    "        X_dim = X_net.shape[1]\n",
    "        X_net = X_net.reshape(n_lambda, N * X_dim)\n",
    "\n",
    "        stat = score.compute(theta_repeated.numpy()[0:n_lambda, :], X_net.numpy(), disable_tqdm = True)\n",
    "                \n",
    "        # comparing coverage of methods\n",
    "        locart_cover = np.mean(stat <= quantiles_dict[\"locart\"][l])\n",
    "        loforest_cover = np.mean(stat <= quantiles_dict[\"loforest_fixed\"][l])\n",
    "        loforest_tuned_cover = np.mean(stat <= quantiles_dict[\"loforest_tuned\"][l])\n",
    "        boosting_cover = np.mean(stat <= quantiles_dict[\"boosting\"][l])\n",
    "        naive_cover = np.mean(stat <= quantiles_dict[\"naive\"][l])\n",
    "\n",
    "        # appending the errors\n",
    "        err_locart = np.abs(locart_cover - (1 - alpha))\n",
    "        err_loforest = np.abs(loforest_cover - (1 - alpha))\n",
    "        err_loforest_tuned = np.abs(loforest_tuned_cover - (1 - alpha))\n",
    "        err_boosting = np.abs(boosting_cover - (1 - alpha))\n",
    "        err_naive = np.abs(naive_cover - (1 - alpha))\n",
    "        \n",
    "            # saving in numpy array\n",
    "        err_data[l, :] = np.array([err_locart, err_loforest, err_loforest_tuned, err_boosting, err_naive])\n",
    "        l += 1\n",
    "\n",
    "    mae_list.extend(np.mean(err_data, axis=0).tolist())\n",
    "    se_list.extend((np.std(err_data, axis=0) / np.sqrt(theta_grid_eval.shape[0])).tolist())\n",
    "    methods_list.extend([\"LOCART\", \"LOFOREST\", \"tuned LOFOREST\", \"boosting\", \"monte-carlo\"])\n",
    "    N_list.extend([N] * 5)\n",
    "    B_list.extend([B] * 5)\n",
    "\n",
    "    stats_data = pd.DataFrame(\n",
    "        {\n",
    "            \"methods\": methods_list,\n",
    "            \"N\": N_list,\n",
    "            \"B\": B_list,\n",
    "            \"MAE\": mae_list,\n",
    "            \"se\": se_list,\n",
    "        }\n",
    "    )\n",
    "    return stats_data"
   ]
  },
  {
   "cell_type": "code",
   "execution_count": 6,
   "metadata": {},
   "outputs": [],
   "source": [
    "def fit_post_model(\n",
    "        simulator, \n",
    "        prior,\n",
    "        log_transf = False, \n",
    "        B_model = 20000, \n",
    "        n = 1, \n",
    "        seed = 45, \n",
    "        split_seed = 0,\n",
    "        n_flows = 8, \n",
    "        hidden_units = 128,\n",
    "        hidden_layers = 2,\n",
    "        enable_cuda = True,\n",
    "        patience = 50,\n",
    "        n_epochs = 2000,\n",
    "        batch_size = 250,\n",
    "        type_flow = \"Quadratic Spline\",\n",
    "        plot_history = True):\n",
    "\n",
    "        torch.manual_seed(seed)\n",
    "        torch.cuda.manual_seed(seed)\n",
    "\n",
    "        # simulating thetas\n",
    "        thetas = prior.sample((B_model, ))\n",
    "        repeated_thetas = thetas.repeat_interleave(repeats = n, dim = 0)\n",
    "\n",
    "        # simulating X's\n",
    "        X_sample = simulator(repeated_thetas)\n",
    "        # applying log if needed\n",
    "        if log_transf:\n",
    "                X_sample = torch.log(X_sample)\n",
    "        X_dim = X_sample.shape[1]\n",
    "        X_net = X_sample.reshape(B_model, n * X_dim)\n",
    "\n",
    "        if thetas.ndim == 1:\n",
    "                thetas = thetas.reshape(-1, 1)\n",
    "        nflow_post = normflow_posterior(\n",
    "        latent_size = thetas.shape[1],\n",
    "        sample_size = X_net.shape[1], \n",
    "        n_flows = n_flows, \n",
    "        hidden_units = hidden_units, \n",
    "        hidden_layers = hidden_layers,\n",
    "        enable_cuda = enable_cuda,\n",
    "        )\n",
    "\n",
    "        nflow_post.fit(\n",
    "                X_net.numpy(), \n",
    "                thetas.numpy(), \n",
    "                patience = patience, \n",
    "                n_epochs = n_epochs, \n",
    "                batch_size = batch_size, \n",
    "                split_seed = split_seed,\n",
    "                type = type_flow,\n",
    "                )\n",
    "        if plot_history:\n",
    "                nflow_post.plot_history()\n",
    "        \n",
    "        return nflow_post"
   ]
  },
  {
   "cell_type": "markdown",
   "metadata": {},
   "source": [
    "## Starting by the weinberg data:"
   ]
  },
  {
   "cell_type": "markdown",
   "metadata": {},
   "source": [
    "### First, fixing $n = 5$:"
   ]
  },
  {
   "cell_type": "markdown",
   "metadata": {},
   "source": [
    "Simulating and testing for tractable:"
   ]
  },
  {
   "cell_type": "code",
   "execution_count": 8,
   "metadata": {},
   "outputs": [],
   "source": [
    "simulator = weinberg.Simulator(default_beam_energy=40.0)\n",
    "prior = weinberg.Prior()"
   ]
  },
  {
   "cell_type": "markdown",
   "metadata": {},
   "source": [
    "Starting by samples size $n = 5$ and $B^{'} = 20000$ for posterior modeling. Fitting normalizing flow model and analysing loss:"
   ]
  },
  {
   "cell_type": "code",
   "execution_count": 9,
   "metadata": {},
   "outputs": [
    {
     "name": "stderr",
     "output_type": "stream",
     "text": [
      "Fitting normalizing flows posterior estimator:  10%|▉         | 198/2000 [00:43<06:32,  4.59it/s]"
     ]
    },
    {
     "name": "stdout",
     "output_type": "stream",
     "text": [
      "Early stopping at epoch 198\n",
      "a\n"
     ]
    },
    {
     "name": "stderr",
     "output_type": "stream",
     "text": [
      "\n"
     ]
    },
    {
     "data": {
      "image/png": "[encoded data removed]",
      "text/plain": [
       "<Figure size 640x480 with 1 Axes>"
      ]
     },
     "metadata": {},
     "output_type": "display_data"
    }
   ],
   "source": [
    "nflow_post = fit_post_model(simulator = simulator, prior = prior, B_model = 20000, n = 5, seed = 45, split_seed = 0)"
   ]
  },
  {
   "cell_type": "markdown",
   "metadata": {},
   "source": [
    "Now, fixing a grid and declaring all statistics that will be used in the comparisons:"
   ]
  },
  {
   "cell_type": "code",
   "execution_count": 10,
   "metadata": {},
   "outputs": [
    {
     "data": {
      "text/plain": [
       "<CP2LFI.scores.E_valueScore at 0x7f6860b7ed90>"
      ]
     },
     "execution_count": 10,
     "metadata": {},
     "output_type": "execute_result"
    }
   ],
   "source": [
    "# weinberg grid\n",
    "n_out = 150\n",
    "thetas_valid = np.linspace(0.5001, 1.4999, n_out)\n",
    "\n",
    "# defining scores\n",
    "# waldo score\n",
    "waldo_score = WaldoScore(nflow_post, is_fitted = True)\n",
    "waldo_score.fit()\n",
    "\n",
    "# BFF score\n",
    "bff_score = BFFScore(nflow_post, is_fitted = True)\n",
    "bff_score.fit()\n",
    "\n",
    "# e-value score\n",
    "e_value_score = E_valueScore(nflow_post, is_fitted = True)\n",
    "e_value_score.fit()"
   ]
  },
  {
   "cell_type": "markdown",
   "metadata": {},
   "source": [
    "#### Computing coverage for fixed $n$ and $B$:"
   ]
  },
  {
   "cell_type": "markdown",
   "metadata": {},
   "source": [
    "Computing for waldo:"
   ]
  },
  {
   "cell_type": "code",
   "execution_count": 11,
   "metadata": {},
   "outputs": [
    {
     "name": "stdout",
     "output_type": "stream",
     "text": [
      "Running naive method\n",
      "Running all the other methods\n",
      "Obtaining tuning sample\n"
     ]
    },
    {
     "name": "stderr",
     "output_type": "stream",
     "text": [
      "Simulating all tuning sample: 100%|██████████| 1000/1000 [1:46:51<00:00,  6.41s/it] \n"
     ]
    },
    {
     "name": "stdout",
     "output_type": "stream",
     "text": [
      "Fitting tuned loforest\n"
     ]
    },
    {
     "name": "stderr",
     "output_type": "stream",
     "text": [
      "Evaluating coverage in this setting: 100%|██████████| 300/300 [26:50<00:00,  5.37s/it]\n"
     ]
    }
   ],
   "source": [
    "waldo_stats_weinberg = compute_MAE_N_B(\n",
    "    kind = \"weinberg\", \n",
    "    score = waldo_score, \n",
    "    theta_grid_eval = thetas_valid, \n",
    "    simulator = simulator, \n",
    "    prior = prior, \n",
    "    N = 5, \n",
    "    B = 10000, \n",
    "    B_valid = 1000, \n",
    "    N_lambda = 300,\n",
    "    K = 70,\n",
    "    n_estimators = 200,\n",
    "    min_samples_leaf = 300,\n",
    "    )"
   ]
  },
  {
   "cell_type": "code",
   "execution_count": 14,
   "metadata": {},
   "outputs": [
    {
     "data": {
      "text/html": [
       "<div>\n",
       "<style scoped>\n",
       "    .dataframe tbody tr th:only-of-type {\n",
       "        vertical-align: middle;\n",
       "    }\n",
       "\n",
       "    .dataframe tbody tr th {\n",
       "        vertical-align: top;\n",
       "    }\n",
       "\n",
       "    .dataframe thead th {\n",
       "        text-align: right;\n",
       "    }\n",
       "</style>\n",
       "<table border=\"1\" class=\"dataframe\">\n",
       "  <thead>\n",
       "    <tr style=\"text-align: right;\">\n",
       "      <th></th>\n",
       "      <th>methods</th>\n",
       "      <th>N</th>\n",
       "      <th>B</th>\n",
       "      <th>MAE</th>\n",
       "      <th>se</th>\n",
       "    </tr>\n",
       "  </thead>\n",
       "  <tbody>\n",
       "    <tr>\n",
       "      <th>0</th>\n",
       "      <td>LOCART</td>\n",
       "      <td>5</td>\n",
       "      <td>10000</td>\n",
       "      <td>0.016367</td>\n",
       "      <td>0.000710</td>\n",
       "    </tr>\n",
       "    <tr>\n",
       "      <th>1</th>\n",
       "      <td>LOFOREST</td>\n",
       "      <td>5</td>\n",
       "      <td>10000</td>\n",
       "      <td>0.013800</td>\n",
       "      <td>0.000557</td>\n",
       "    </tr>\n",
       "    <tr>\n",
       "      <th>2</th>\n",
       "      <td>tuned LOFOREST</td>\n",
       "      <td>5</td>\n",
       "      <td>10000</td>\n",
       "      <td>0.013544</td>\n",
       "      <td>0.000536</td>\n",
       "    </tr>\n",
       "    <tr>\n",
       "      <th>3</th>\n",
       "      <td>boosting</td>\n",
       "      <td>5</td>\n",
       "      <td>10000</td>\n",
       "      <td>0.015722</td>\n",
       "      <td>0.000946</td>\n",
       "    </tr>\n",
       "    <tr>\n",
       "      <th>4</th>\n",
       "      <td>monte-carlo</td>\n",
       "      <td>5</td>\n",
       "      <td>10000</td>\n",
       "      <td>0.015311</td>\n",
       "      <td>0.000679</td>\n",
       "    </tr>\n",
       "  </tbody>\n",
       "</table>\n",
       "</div>"
      ],
      "text/plain": [
       "          methods  N      B       MAE        se\n",
       "0          LOCART  5  10000  0.016367  0.000710\n",
       "1        LOFOREST  5  10000  0.013800  0.000557\n",
       "2  tuned LOFOREST  5  10000  0.013544  0.000536\n",
       "3        boosting  5  10000  0.015722  0.000946\n",
       "4     monte-carlo  5  10000  0.015311  0.000679"
      ]
     },
     "execution_count": 14,
     "metadata": {},
     "output_type": "execute_result"
    }
   ],
   "source": [
    "waldo_stats_weinberg"
   ]
  },
  {
   "cell_type": "markdown",
   "metadata": {},
   "source": [
    "Computing for BFF:"
   ]
  },
  {
   "cell_type": "code",
   "execution_count": 18,
   "metadata": {},
   "outputs": [
    {
     "name": "stdout",
     "output_type": "stream",
     "text": [
      "Running naive method\n",
      "Running all the other methods\n",
      "Obtaining tuning sample\n"
     ]
    },
    {
     "name": "stderr",
     "output_type": "stream",
     "text": [
      "Simulating all tuning sample: 100%|██████████| 1000/1000 [03:46<00:00,  4.42it/s]\n"
     ]
    },
    {
     "name": "stdout",
     "output_type": "stream",
     "text": [
      "Fitting tuned loforest\n"
     ]
    },
    {
     "name": "stderr",
     "output_type": "stream",
     "text": [
      "Evaluating coverage in this setting: 100%|██████████| 300/300 [00:44<00:00,  6.80it/s]\n"
     ]
    }
   ],
   "source": [
    "bff_stats_weinberg = compute_MAE_N_B(\n",
    "    kind = \"weinberg\", \n",
    "    score = bff_score,\n",
    "    seed = 125,\n",
    "    theta_grid_eval = thetas_valid, \n",
    "    simulator = simulator, \n",
    "    prior = prior, \n",
    "    N = 5, \n",
    "    B = 10000, \n",
    "    B_valid = 1000, \n",
    "    N_lambda = 500,\n",
    "    K = 70,\n",
    "    n_estimators = 200,\n",
    "    min_samples_leaf = 300\n",
    "    )"
   ]
  },
  {
   "cell_type": "code",
   "execution_count": 19,
   "metadata": {},
   "outputs": [
    {
     "data": {
      "text/html": [
       "<div>\n",
       "<style scoped>\n",
       "    .dataframe tbody tr th:only-of-type {\n",
       "        vertical-align: middle;\n",
       "    }\n",
       "\n",
       "    .dataframe tbody tr th {\n",
       "        vertical-align: top;\n",
       "    }\n",
       "\n",
       "    .dataframe thead th {\n",
       "        text-align: right;\n",
       "    }\n",
       "</style>\n",
       "<table border=\"1\" class=\"dataframe\">\n",
       "  <thead>\n",
       "    <tr style=\"text-align: right;\">\n",
       "      <th></th>\n",
       "      <th>methods</th>\n",
       "      <th>N</th>\n",
       "      <th>B</th>\n",
       "      <th>MAE</th>\n",
       "      <th>se</th>\n",
       "    </tr>\n",
       "  </thead>\n",
       "  <tbody>\n",
       "    <tr>\n",
       "      <th>0</th>\n",
       "      <td>LOCART</td>\n",
       "      <td>5</td>\n",
       "      <td>10000</td>\n",
       "      <td>0.019544</td>\n",
       "      <td>0.001034</td>\n",
       "    </tr>\n",
       "    <tr>\n",
       "      <th>1</th>\n",
       "      <td>LOFOREST</td>\n",
       "      <td>5</td>\n",
       "      <td>10000</td>\n",
       "      <td>0.021856</td>\n",
       "      <td>0.001658</td>\n",
       "    </tr>\n",
       "    <tr>\n",
       "      <th>2</th>\n",
       "      <td>tuned LOFOREST</td>\n",
       "      <td>5</td>\n",
       "      <td>10000</td>\n",
       "      <td>0.020822</td>\n",
       "      <td>0.001657</td>\n",
       "    </tr>\n",
       "    <tr>\n",
       "      <th>3</th>\n",
       "      <td>boosting</td>\n",
       "      <td>5</td>\n",
       "      <td>10000</td>\n",
       "      <td>0.016644</td>\n",
       "      <td>0.000774</td>\n",
       "    </tr>\n",
       "    <tr>\n",
       "      <th>4</th>\n",
       "      <td>monte-carlo</td>\n",
       "      <td>5</td>\n",
       "      <td>10000</td>\n",
       "      <td>0.020367</td>\n",
       "      <td>0.001043</td>\n",
       "    </tr>\n",
       "  </tbody>\n",
       "</table>\n",
       "</div>"
      ],
      "text/plain": [
       "          methods  N      B       MAE        se\n",
       "0          LOCART  5  10000  0.019544  0.001034\n",
       "1        LOFOREST  5  10000  0.021856  0.001658\n",
       "2  tuned LOFOREST  5  10000  0.020822  0.001657\n",
       "3        boosting  5  10000  0.016644  0.000774\n",
       "4     monte-carlo  5  10000  0.020367  0.001043"
      ]
     },
     "execution_count": 19,
     "metadata": {},
     "output_type": "execute_result"
    }
   ],
   "source": [
    "bff_stats_weinberg"
   ]
  },
  {
   "cell_type": "markdown",
   "metadata": {},
   "source": [
    "Computing for e-value:"
   ]
  },
  {
   "cell_type": "code",
   "execution_count": 9,
   "metadata": {},
   "outputs": [
    {
     "name": "stdout",
     "output_type": "stream",
     "text": [
      "Running naive method\n",
      "Running all the other methods\n",
      "Obtaining tuning sample\n"
     ]
    },
    {
     "name": "stderr",
     "output_type": "stream",
     "text": [
      "Simulating all tuning sample: 100%|██████████| 500/500 [1:17:03<00:00,  9.25s/it]\n"
     ]
    },
    {
     "name": "stdout",
     "output_type": "stream",
     "text": [
      "Fitting tuned loforest\n"
     ]
    },
    {
     "name": "stderr",
     "output_type": "stream",
     "text": [
      "Evaluating coverage in this setting: 100%|██████████| 300/300 [1:08:46<00:00, 13.75s/it]\n"
     ]
    }
   ],
   "source": [
    "e_value_stats_weinberg = compute_MAE_N_B(\n",
    "    kind = \"weinberg\", \n",
    "    score = e_value_score,\n",
    "    seed = 150, \n",
    "    theta_grid_eval = thetas_valid, \n",
    "    simulator = simulator, \n",
    "    prior = prior, \n",
    "    N = 5, \n",
    "    B = 10000, \n",
    "    B_valid = 500, \n",
    "    N_lambda = 200,\n",
    "    K = 70,\n",
    "    n_estimators = 200,\n",
    "    min_samples_leaf = 300,\n",
    "    )"
   ]
  },
  {
   "cell_type": "code",
   "execution_count": 10,
   "metadata": {},
   "outputs": [
    {
     "data": {
      "text/html": [
       "<div>\n",
       "<style scoped>\n",
       "    .dataframe tbody tr th:only-of-type {\n",
       "        vertical-align: middle;\n",
       "    }\n",
       "\n",
       "    .dataframe tbody tr th {\n",
       "        vertical-align: top;\n",
       "    }\n",
       "\n",
       "    .dataframe thead th {\n",
       "        text-align: right;\n",
       "    }\n",
       "</style>\n",
       "<table border=\"1\" class=\"dataframe\">\n",
       "  <thead>\n",
       "    <tr style=\"text-align: right;\">\n",
       "      <th></th>\n",
       "      <th>methods</th>\n",
       "      <th>N</th>\n",
       "      <th>B</th>\n",
       "      <th>MAE</th>\n",
       "      <th>se</th>\n",
       "    </tr>\n",
       "  </thead>\n",
       "  <tbody>\n",
       "    <tr>\n",
       "      <th>0</th>\n",
       "      <td>LOCART</td>\n",
       "      <td>5</td>\n",
       "      <td>10000</td>\n",
       "      <td>0.020067</td>\n",
       "      <td>0.000966</td>\n",
       "    </tr>\n",
       "    <tr>\n",
       "      <th>1</th>\n",
       "      <td>LOFOREST</td>\n",
       "      <td>5</td>\n",
       "      <td>10000</td>\n",
       "      <td>0.021811</td>\n",
       "      <td>0.001100</td>\n",
       "    </tr>\n",
       "    <tr>\n",
       "      <th>2</th>\n",
       "      <td>tuned LOFOREST</td>\n",
       "      <td>5</td>\n",
       "      <td>10000</td>\n",
       "      <td>0.021733</td>\n",
       "      <td>0.001085</td>\n",
       "    </tr>\n",
       "    <tr>\n",
       "      <th>3</th>\n",
       "      <td>boosting</td>\n",
       "      <td>5</td>\n",
       "      <td>10000</td>\n",
       "      <td>0.017522</td>\n",
       "      <td>0.000995</td>\n",
       "    </tr>\n",
       "    <tr>\n",
       "      <th>4</th>\n",
       "      <td>monte-carlo</td>\n",
       "      <td>5</td>\n",
       "      <td>10000</td>\n",
       "      <td>0.023900</td>\n",
       "      <td>0.001530</td>\n",
       "    </tr>\n",
       "  </tbody>\n",
       "</table>\n",
       "</div>"
      ],
      "text/plain": [
       "          methods  N      B       MAE        se\n",
       "0          LOCART  5  10000  0.020067  0.000966\n",
       "1        LOFOREST  5  10000  0.021811  0.001100\n",
       "2  tuned LOFOREST  5  10000  0.021733  0.001085\n",
       "3        boosting  5  10000  0.017522  0.000995\n",
       "4     monte-carlo  5  10000  0.023900  0.001530"
      ]
     },
     "execution_count": 10,
     "metadata": {},
     "output_type": "execute_result"
    }
   ],
   "source": [
    "e_value_stats_weinberg"
   ]
  },
  {
   "cell_type": "markdown",
   "metadata": {},
   "source": [
    "### Increasing n to 25 and testing:"
   ]
  },
  {
   "cell_type": "markdown",
   "metadata": {},
   "source": [
    "refitting normalizing flows:"
   ]
  },
  {
   "cell_type": "code",
   "execution_count": 28,
   "metadata": {},
   "outputs": [
    {
     "name": "stderr",
     "output_type": "stream",
     "text": [
      "Fitting normalizing flows posterior estimator:  17%|█▋        | 342/2000 [01:14<06:02,  4.58it/s]"
     ]
    },
    {
     "name": "stdout",
     "output_type": "stream",
     "text": [
      "Early stopping at epoch 342\n",
      "a\n"
     ]
    },
    {
     "name": "stderr",
     "output_type": "stream",
     "text": [
      "\n"
     ]
    },
    {
     "data": {
      "image/png": "[encoded data removed]",
      "text/plain": [
       "<Figure size 640x480 with 1 Axes>"
      ]
     },
     "metadata": {},
     "output_type": "display_data"
    }
   ],
   "source": [
    "nflow_post = fit_post_model(simulator = simulator, prior = prior, B_model = 20000, n = 25, seed = 45, split_seed = 0)"
   ]
  },
  {
   "cell_type": "code",
   "execution_count": 29,
   "metadata": {},
   "outputs": [
    {
     "data": {
      "text/plain": [
       "<CP2LFI.scores.E_valueScore at 0x7f68582fb0d0>"
      ]
     },
     "execution_count": 29,
     "metadata": {},
     "output_type": "execute_result"
    }
   ],
   "source": [
    "# weinberg grid\n",
    "n_out = 150\n",
    "thetas_valid = np.linspace(0.5001, 1.4999, n_out)\n",
    "\n",
    "# defining scores\n",
    "# waldo score\n",
    "waldo_score = WaldoScore(nflow_post, is_fitted = True)\n",
    "waldo_score.fit()\n",
    "\n",
    "# BFF score\n",
    "bff_score = BFFScore(nflow_post, is_fitted = True)\n",
    "bff_score.fit()\n",
    "\n",
    "# e-value score\n",
    "e_value_score = E_valueScore(nflow_post, is_fitted = True)\n",
    "e_value_score.fit()"
   ]
  },
  {
   "cell_type": "markdown",
   "metadata": {},
   "source": [
    "testing first bff"
   ]
  },
  {
   "cell_type": "code",
   "execution_count": 30,
   "metadata": {},
   "outputs": [
    {
     "name": "stdout",
     "output_type": "stream",
     "text": [
      "Running naive method\n"
     ]
    },
    {
     "name": "stderr",
     "output_type": "stream",
     "text": [
      "fitting monte carlo cutoffs: 100%|██████████| 30/30 [00:32<00:00,  1.09s/it]\n"
     ]
    },
    {
     "name": "stdout",
     "output_type": "stream",
     "text": [
      "Running all the other methods\n",
      "Obtaining tuning sample\n"
     ]
    },
    {
     "name": "stderr",
     "output_type": "stream",
     "text": [
      "Simulating all tuning sample: 100%|██████████| 1000/1000 [24:23<00:00,  1.46s/it]\n"
     ]
    },
    {
     "name": "stdout",
     "output_type": "stream",
     "text": [
      "Fitting tuned loforest\n"
     ]
    },
    {
     "name": "stderr",
     "output_type": "stream",
     "text": [
      "Evaluating coverage in this setting: 100%|██████████| 150/150 [01:34<00:00,  1.59it/s]\n"
     ]
    }
   ],
   "source": [
    "bff_stats_weinberg = compute_MAE_N_B(\n",
    "    kind = \"weinberg\", \n",
    "    score = bff_score,\n",
    "    seed = 125,\n",
    "    theta_grid_eval = thetas_valid, \n",
    "    simulator = simulator, \n",
    "    prior = prior, \n",
    "    N = 25, \n",
    "    B = 15000, \n",
    "    B_valid = 1000, \n",
    "    N_lambda = 700,\n",
    "    K = 70,\n",
    "    n_estimators = 200,\n",
    "    min_samples_leaf = 300\n",
    "    )"
   ]
  },
  {
   "cell_type": "code",
   "execution_count": 31,
   "metadata": {},
   "outputs": [
    {
     "data": {
      "text/html": [
       "<div>\n",
       "<style scoped>\n",
       "    .dataframe tbody tr th:only-of-type {\n",
       "        vertical-align: middle;\n",
       "    }\n",
       "\n",
       "    .dataframe tbody tr th {\n",
       "        vertical-align: top;\n",
       "    }\n",
       "\n",
       "    .dataframe thead th {\n",
       "        text-align: right;\n",
       "    }\n",
       "</style>\n",
       "<table border=\"1\" class=\"dataframe\">\n",
       "  <thead>\n",
       "    <tr style=\"text-align: right;\">\n",
       "      <th></th>\n",
       "      <th>methods</th>\n",
       "      <th>N</th>\n",
       "      <th>B</th>\n",
       "      <th>MAE</th>\n",
       "      <th>se</th>\n",
       "    </tr>\n",
       "  </thead>\n",
       "  <tbody>\n",
       "    <tr>\n",
       "      <th>0</th>\n",
       "      <td>LOCART</td>\n",
       "      <td>25</td>\n",
       "      <td>15000</td>\n",
       "      <td>0.013911</td>\n",
       "      <td>0.001041</td>\n",
       "    </tr>\n",
       "    <tr>\n",
       "      <th>1</th>\n",
       "      <td>LOFOREST</td>\n",
       "      <td>25</td>\n",
       "      <td>15000</td>\n",
       "      <td>0.013956</td>\n",
       "      <td>0.001097</td>\n",
       "    </tr>\n",
       "    <tr>\n",
       "      <th>2</th>\n",
       "      <td>tuned LOFOREST</td>\n",
       "      <td>25</td>\n",
       "      <td>15000</td>\n",
       "      <td>0.013689</td>\n",
       "      <td>0.001059</td>\n",
       "    </tr>\n",
       "    <tr>\n",
       "      <th>3</th>\n",
       "      <td>boosting</td>\n",
       "      <td>25</td>\n",
       "      <td>15000</td>\n",
       "      <td>0.014000</td>\n",
       "      <td>0.001219</td>\n",
       "    </tr>\n",
       "    <tr>\n",
       "      <th>4</th>\n",
       "      <td>monte-carlo</td>\n",
       "      <td>25</td>\n",
       "      <td>15000</td>\n",
       "      <td>0.015622</td>\n",
       "      <td>0.001094</td>\n",
       "    </tr>\n",
       "  </tbody>\n",
       "</table>\n",
       "</div>"
      ],
      "text/plain": [
       "          methods   N      B       MAE        se\n",
       "0          LOCART  25  15000  0.013911  0.001041\n",
       "1        LOFOREST  25  15000  0.013956  0.001097\n",
       "2  tuned LOFOREST  25  15000  0.013689  0.001059\n",
       "3        boosting  25  15000  0.014000  0.001219\n",
       "4     monte-carlo  25  15000  0.015622  0.001094"
      ]
     },
     "execution_count": 31,
     "metadata": {},
     "output_type": "execute_result"
    }
   ],
   "source": [
    "bff_stats_weinberg"
   ]
  },
  {
   "cell_type": "markdown",
   "metadata": {},
   "source": [
    "## Now, testing MG1 data"
   ]
  },
  {
   "cell_type": "code",
   "execution_count": 7,
   "metadata": {},
   "outputs": [],
   "source": [
    "simulator = mg1.MG1Simulator()\n",
    "prior = mg1.Prior()"
   ]
  },
  {
   "cell_type": "markdown",
   "metadata": {},
   "source": [
    "fitting normalizing flow model to MG1:"
   ]
  },
  {
   "cell_type": "code",
   "execution_count": 8,
   "metadata": {},
   "outputs": [
    {
     "name": "stderr",
     "output_type": "stream",
     "text": [
      "Fitting normalizing flows posterior estimator:  65%|██████▌   | 1305/2000 [06:51<03:39,  3.17it/s]"
     ]
    },
    {
     "name": "stdout",
     "output_type": "stream",
     "text": [
      "Early stopping at epoch 1305\n",
      "a\n"
     ]
    },
    {
     "name": "stderr",
     "output_type": "stream",
     "text": [
      "\n"
     ]
    },
    {
     "data": {
      "image/png": "[encoded data removed]",
      "text/plain": [
       "<Figure size 640x480 with 1 Axes>"
      ]
     },
     "metadata": {},
     "output_type": "display_data"
    }
   ],
   "source": [
    "nflow_post_mg1 = fit_post_model(\n",
    "    simulator = simulator, \n",
    "    prior = prior, \n",
    "    B_model = 20000, \n",
    "    n = 5, \n",
    "    seed = 0, \n",
    "    split_seed = 125, \n",
    "    patience = 100,\n",
    "    n_flows = 6,\n",
    "    log_transf = True\n",
    "    )"
   ]
  },
  {
   "cell_type": "markdown",
   "metadata": {},
   "source": [
    "fixing grid and defining statistics to be computed:"
   ]
  },
  {
   "cell_type": "code",
   "execution_count": 9,
   "metadata": {},
   "outputs": [
    {
     "data": {
      "text/plain": [
       "<CP2LFI.scores.E_valueScore at 0x7f00dcfc81d0>"
      ]
     },
     "execution_count": 9,
     "metadata": {},
     "output_type": "execute_result"
    }
   ],
   "source": [
    "# mg1 grid\n",
    "n_par = 8\n",
    "pars_1 = np.linspace(0.0001, 9.9999, n_par)\n",
    "pars_2 = np.linspace(0.0001, 1/3 - 0.0001, n_par)\n",
    "thetas_valid = np.c_[list(itertools.product(pars_1, pars_1, pars_2))]\n",
    "\n",
    "# defining scores\n",
    "# waldo score\n",
    "waldo_score = WaldoScore(nflow_post_mg1, is_fitted = True)\n",
    "waldo_score.fit()\n",
    "\n",
    "# BFF score\n",
    "bff_score = BFFScore(nflow_post_mg1, is_fitted = True)\n",
    "bff_score.fit()\n",
    "\n",
    "# e-value score\n",
    "e_value_score = E_valueScore(nflow_post_mg1, is_fitted = True)\n",
    "e_value_score.fit()"
   ]
  },
  {
   "cell_type": "code",
   "execution_count": 10,
   "metadata": {},
   "outputs": [
    {
     "name": "stdout",
     "output_type": "stream",
     "text": [
      "Running naive method\n"
     ]
    },
    {
     "name": "stderr",
     "output_type": "stream",
     "text": [
      "fitting monte carlo cutoffs: 27it [07:18, 16.25s/it]\n"
     ]
    },
    {
     "name": "stdout",
     "output_type": "stream",
     "text": [
      "[1.46673818 0.89280439 2.94468069 ... 2.77766735 0.62837157 0.73800857]\n",
      "Running all the other methods\n",
      "Obtaining tuning sample\n"
     ]
    },
    {
     "name": "stderr",
     "output_type": "stream",
     "text": [
      "Simulating all tuning sample: 100%|██████████| 300/300 [24:39<00:00,  4.93s/it]\n"
     ]
    },
    {
     "name": "stdout",
     "output_type": "stream",
     "text": [
      "Fitting tuned loforest\n"
     ]
    },
    {
     "name": "stderr",
     "output_type": "stream",
     "text": [
      "Evaluating coverage in this setting:   0%|          | 0/512 [00:00<?, ?it/s]/tmp/ipykernel_109665/73735970.py:51: UserWarning: Creating a tensor from a list of numpy.ndarrays is extremely slow. Please consider converting the list to a single numpy.ndarray with numpy.array() before converting to a tensor. (Triggered internally at /opt/conda/conda-bld/pytorch_1708025842427/work/torch/csrc/utils/tensor_new.cpp:275.)\n",
      "  theta_repeated = torch.tensor([theta]).repeat_interleave(repeats = n_lambda*N, dim = 0)\n",
      "Evaluating coverage in this setting: 100%|██████████| 512/512 [1:24:31<00:00,  9.90s/it]\n"
     ]
    }
   ],
   "source": [
    "waldo_stats_mg1 = compute_MAE_N_B(\n",
    "    kind = \"mg1\", \n",
    "    score = waldo_score, \n",
    "    theta_grid_eval = thetas_valid, \n",
    "    simulator = simulator, \n",
    "    prior = prior, \n",
    "    N = 5, \n",
    "    B = 10000, \n",
    "    B_valid = 300, \n",
    "    N_lambda = 150,\n",
    "    seed = 125,\n",
    "    K = 70,\n",
    "    n_estimators = 250,\n",
    "    min_samples_leaf = 250,\n",
    "    log_transf = True,\n",
    "    )"
   ]
  },
  {
   "cell_type": "code",
   "execution_count": 11,
   "metadata": {},
   "outputs": [
    {
     "data": {
      "text/html": [
       "<div>\n",
       "<style scoped>\n",
       "    .dataframe tbody tr th:only-of-type {\n",
       "        vertical-align: middle;\n",
       "    }\n",
       "\n",
       "    .dataframe tbody tr th {\n",
       "        vertical-align: top;\n",
       "    }\n",
       "\n",
       "    .dataframe thead th {\n",
       "        text-align: right;\n",
       "    }\n",
       "</style>\n",
       "<table border=\"1\" class=\"dataframe\">\n",
       "  <thead>\n",
       "    <tr style=\"text-align: right;\">\n",
       "      <th></th>\n",
       "      <th>methods</th>\n",
       "      <th>N</th>\n",
       "      <th>B</th>\n",
       "      <th>MAE</th>\n",
       "      <th>se</th>\n",
       "    </tr>\n",
       "  </thead>\n",
       "  <tbody>\n",
       "    <tr>\n",
       "      <th>0</th>\n",
       "      <td>LOCART</td>\n",
       "      <td>5</td>\n",
       "      <td>10000</td>\n",
       "      <td>0.152689</td>\n",
       "      <td>0.010826</td>\n",
       "    </tr>\n",
       "    <tr>\n",
       "      <th>1</th>\n",
       "      <td>LOFOREST</td>\n",
       "      <td>5</td>\n",
       "      <td>10000</td>\n",
       "      <td>0.127839</td>\n",
       "      <td>0.009961</td>\n",
       "    </tr>\n",
       "    <tr>\n",
       "      <th>2</th>\n",
       "      <td>tuned LOFOREST</td>\n",
       "      <td>5</td>\n",
       "      <td>10000</td>\n",
       "      <td>0.126940</td>\n",
       "      <td>0.010180</td>\n",
       "    </tr>\n",
       "    <tr>\n",
       "      <th>3</th>\n",
       "      <td>boosting</td>\n",
       "      <td>5</td>\n",
       "      <td>10000</td>\n",
       "      <td>0.083646</td>\n",
       "      <td>0.006061</td>\n",
       "    </tr>\n",
       "    <tr>\n",
       "      <th>4</th>\n",
       "      <td>monte-carlo</td>\n",
       "      <td>5</td>\n",
       "      <td>10000</td>\n",
       "      <td>0.141621</td>\n",
       "      <td>0.011431</td>\n",
       "    </tr>\n",
       "  </tbody>\n",
       "</table>\n",
       "</div>"
      ],
      "text/plain": [
       "          methods  N      B       MAE        se\n",
       "0          LOCART  5  10000  0.152689  0.010826\n",
       "1        LOFOREST  5  10000  0.127839  0.009961\n",
       "2  tuned LOFOREST  5  10000  0.126940  0.010180\n",
       "3        boosting  5  10000  0.083646  0.006061\n",
       "4     monte-carlo  5  10000  0.141621  0.011431"
      ]
     },
     "execution_count": 11,
     "metadata": {},
     "output_type": "execute_result"
    }
   ],
   "source": [
    "waldo_stats_mg1"
   ]
  },
  {
   "cell_type": "code",
   "execution_count": 12,
   "metadata": {},
   "outputs": [
    {
     "name": "stdout",
     "output_type": "stream",
     "text": [
      "Running naive method\n"
     ]
    },
    {
     "name": "stderr",
     "output_type": "stream",
     "text": [
      "fitting monte carlo cutoffs: 27it [00:10,  2.69it/s]\n"
     ]
    },
    {
     "name": "stdout",
     "output_type": "stream",
     "text": [
      "[ -2.79461    -1.0651982  -5.6389422 ...  -2.2793975 -12.068804\n",
      "  -9.152488 ]\n",
      "Running all the other methods\n",
      "Obtaining tuning sample\n"
     ]
    },
    {
     "name": "stderr",
     "output_type": "stream",
     "text": [
      "Simulating all tuning sample: 100%|██████████| 1000/1000 [06:11<00:00,  2.69it/s]\n"
     ]
    },
    {
     "name": "stdout",
     "output_type": "stream",
     "text": [
      "Fitting tuned loforest\n"
     ]
    },
    {
     "name": "stderr",
     "output_type": "stream",
     "text": [
      "Evaluating coverage in this setting: 100%|██████████| 512/512 [01:58<00:00,  4.32it/s]\n"
     ]
    }
   ],
   "source": [
    "bff_stats_mg1 = compute_MAE_N_B(\n",
    "    kind = \"mg1\", \n",
    "    score = bff_score, \n",
    "    theta_grid_eval = thetas_valid, \n",
    "    simulator = simulator, \n",
    "    prior = prior, \n",
    "    N = 5, \n",
    "    B = 10000, \n",
    "    B_valid = 1000, \n",
    "    N_lambda = 500,\n",
    "    seed = 125,\n",
    "    K = 70,\n",
    "    n_estimators = 250,\n",
    "    min_samples_leaf = 250,\n",
    "    log_transf = True,\n",
    "    )"
   ]
  },
  {
   "cell_type": "code",
   "execution_count": 13,
   "metadata": {},
   "outputs": [
    {
     "data": {
      "text/html": [
       "<div>\n",
       "<style scoped>\n",
       "    .dataframe tbody tr th:only-of-type {\n",
       "        vertical-align: middle;\n",
       "    }\n",
       "\n",
       "    .dataframe tbody tr th {\n",
       "        vertical-align: top;\n",
       "    }\n",
       "\n",
       "    .dataframe thead th {\n",
       "        text-align: right;\n",
       "    }\n",
       "</style>\n",
       "<table border=\"1\" class=\"dataframe\">\n",
       "  <thead>\n",
       "    <tr style=\"text-align: right;\">\n",
       "      <th></th>\n",
       "      <th>methods</th>\n",
       "      <th>N</th>\n",
       "      <th>B</th>\n",
       "      <th>MAE</th>\n",
       "      <th>se</th>\n",
       "    </tr>\n",
       "  </thead>\n",
       "  <tbody>\n",
       "    <tr>\n",
       "      <th>0</th>\n",
       "      <td>LOCART</td>\n",
       "      <td>5</td>\n",
       "      <td>10000</td>\n",
       "      <td>0.223997</td>\n",
       "      <td>0.014036</td>\n",
       "    </tr>\n",
       "    <tr>\n",
       "      <th>1</th>\n",
       "      <td>LOFOREST</td>\n",
       "      <td>5</td>\n",
       "      <td>10000</td>\n",
       "      <td>0.223014</td>\n",
       "      <td>0.014342</td>\n",
       "    </tr>\n",
       "    <tr>\n",
       "      <th>2</th>\n",
       "      <td>tuned LOFOREST</td>\n",
       "      <td>5</td>\n",
       "      <td>10000</td>\n",
       "      <td>0.219023</td>\n",
       "      <td>0.014209</td>\n",
       "    </tr>\n",
       "    <tr>\n",
       "      <th>3</th>\n",
       "      <td>boosting</td>\n",
       "      <td>5</td>\n",
       "      <td>10000</td>\n",
       "      <td>0.184883</td>\n",
       "      <td>0.012025</td>\n",
       "    </tr>\n",
       "    <tr>\n",
       "      <th>4</th>\n",
       "      <td>monte-carlo</td>\n",
       "      <td>5</td>\n",
       "      <td>10000</td>\n",
       "      <td>0.190137</td>\n",
       "      <td>0.013502</td>\n",
       "    </tr>\n",
       "  </tbody>\n",
       "</table>\n",
       "</div>"
      ],
      "text/plain": [
       "          methods  N      B       MAE        se\n",
       "0          LOCART  5  10000  0.223997  0.014036\n",
       "1        LOFOREST  5  10000  0.223014  0.014342\n",
       "2  tuned LOFOREST  5  10000  0.219023  0.014209\n",
       "3        boosting  5  10000  0.184883  0.012025\n",
       "4     monte-carlo  5  10000  0.190137  0.013502"
      ]
     },
     "execution_count": 13,
     "metadata": {},
     "output_type": "execute_result"
    }
   ],
   "source": [
    "bff_stats_mg1"
   ]
  },
  {
   "cell_type": "code",
   "execution_count": 14,
   "metadata": {},
   "outputs": [
    {
     "name": "stdout",
     "output_type": "stream",
     "text": [
      "Running naive method\n"
     ]
    },
    {
     "name": "stderr",
     "output_type": "stream",
     "text": [
      "fitting monte carlo cutoffs: 27it [12:59, 28.88s/it]\n"
     ]
    },
    {
     "name": "stdout",
     "output_type": "stream",
     "text": [
      "[0.12  0.452 0.096 ... 0.941 0.045 0.13 ]\n",
      "Running all the other methods\n",
      "Obtaining tuning sample\n"
     ]
    },
    {
     "name": "stderr",
     "output_type": "stream",
     "text": [
      "Simulating all tuning sample: 100%|██████████| 300/300 [41:23<00:00,  8.28s/it]\n"
     ]
    },
    {
     "name": "stdout",
     "output_type": "stream",
     "text": [
      "Fitting tuned loforest\n"
     ]
    },
    {
     "name": "stderr",
     "output_type": "stream",
     "text": [
      "Evaluating coverage in this setting: 100%|██████████| 512/512 [2:20:42<00:00, 16.49s/it]  \n"
     ]
    }
   ],
   "source": [
    "e_value_stats_mg1 = compute_MAE_N_B(\n",
    "    kind = \"mg1\", \n",
    "    score = e_value_score, \n",
    "    theta_grid_eval = thetas_valid, \n",
    "    simulator = simulator, \n",
    "    prior = prior, \n",
    "    N = 5, \n",
    "    B = 10000, \n",
    "    B_valid = 300, \n",
    "    N_lambda = 150,\n",
    "    seed = 125,\n",
    "    K = 70,\n",
    "    n_estimators = 250,\n",
    "    min_samples_leaf = 250,\n",
    "    log_transf = True,\n",
    "    )"
   ]
  },
  {
   "cell_type": "code",
   "execution_count": 15,
   "metadata": {},
   "outputs": [
    {
     "data": {
      "text/html": [
       "<div>\n",
       "<style scoped>\n",
       "    .dataframe tbody tr th:only-of-type {\n",
       "        vertical-align: middle;\n",
       "    }\n",
       "\n",
       "    .dataframe tbody tr th {\n",
       "        vertical-align: top;\n",
       "    }\n",
       "\n",
       "    .dataframe thead th {\n",
       "        text-align: right;\n",
       "    }\n",
       "</style>\n",
       "<table border=\"1\" class=\"dataframe\">\n",
       "  <thead>\n",
       "    <tr style=\"text-align: right;\">\n",
       "      <th></th>\n",
       "      <th>methods</th>\n",
       "      <th>N</th>\n",
       "      <th>B</th>\n",
       "      <th>MAE</th>\n",
       "      <th>se</th>\n",
       "    </tr>\n",
       "  </thead>\n",
       "  <tbody>\n",
       "    <tr>\n",
       "      <th>0</th>\n",
       "      <td>LOCART</td>\n",
       "      <td>5</td>\n",
       "      <td>10000</td>\n",
       "      <td>0.153665</td>\n",
       "      <td>0.011501</td>\n",
       "    </tr>\n",
       "    <tr>\n",
       "      <th>1</th>\n",
       "      <td>LOFOREST</td>\n",
       "      <td>5</td>\n",
       "      <td>10000</td>\n",
       "      <td>0.149948</td>\n",
       "      <td>0.012043</td>\n",
       "    </tr>\n",
       "    <tr>\n",
       "      <th>2</th>\n",
       "      <td>tuned LOFOREST</td>\n",
       "      <td>5</td>\n",
       "      <td>10000</td>\n",
       "      <td>0.149271</td>\n",
       "      <td>0.011926</td>\n",
       "    </tr>\n",
       "    <tr>\n",
       "      <th>3</th>\n",
       "      <td>boosting</td>\n",
       "      <td>5</td>\n",
       "      <td>10000</td>\n",
       "      <td>0.117220</td>\n",
       "      <td>0.009315</td>\n",
       "    </tr>\n",
       "    <tr>\n",
       "      <th>4</th>\n",
       "      <td>monte-carlo</td>\n",
       "      <td>5</td>\n",
       "      <td>10000</td>\n",
       "      <td>0.137266</td>\n",
       "      <td>0.010159</td>\n",
       "    </tr>\n",
       "  </tbody>\n",
       "</table>\n",
       "</div>"
      ],
      "text/plain": [
       "          methods  N      B       MAE        se\n",
       "0          LOCART  5  10000  0.153665  0.011501\n",
       "1        LOFOREST  5  10000  0.149948  0.012043\n",
       "2  tuned LOFOREST  5  10000  0.149271  0.011926\n",
       "3        boosting  5  10000  0.117220  0.009315\n",
       "4     monte-carlo  5  10000  0.137266  0.010159"
      ]
     },
     "execution_count": 15,
     "metadata": {},
     "output_type": "execute_result"
    }
   ],
   "source": [
    "e_value_stats_mg1"
   ]
  }
 ],
 "metadata": {
  "kernelspec": {
   "display_name": "base",
   "language": "python",
   "name": "python3"
  },
  "language_info": {
   "codemirror_mode": {
    "name": "ipython",
    "version": 3
   },
   "file_extension": ".py",
   "mimetype": "text/x-python",
   "name": "python",
   "nbconvert_exporter": "python",
   "pygments_lexer": "ipython3",
   "version": "3.11.5"
  }
 },
 "nbformat": 4,
 "nbformat_minor": 2
}
