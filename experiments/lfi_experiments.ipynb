{
 "cells": [
  {
   "cell_type": "markdown",
   "metadata": {},
   "source": [
    "# First experiments with all LFI data"
   ]
  },
  {
   "cell_type": "code",
   "execution_count": 1,
   "metadata": {},
   "outputs": [],
   "source": [
    "# Importing all packages\n",
    "# normalizing flows packages\n",
    "import torch\n",
    "from torch.utils.data import TensorDataset, DataLoader\n",
    "import normflows as nf\n",
    "\n",
    "# loforest and locart functions\n",
    "from CP2LFI.loforest import ConformalLoforest, tune_loforest_LFI\n",
    "from CP2LFI.scores import Scores, LambdaScore, WaldoScore, BFFScore, E_valueScore\n",
    "from CP2LFI.simulations import predict_naive_quantile\n",
    "from CP2LFI.posterior_models import normflow_posterior\n",
    "from clover import LocartSplit\n",
    "\n",
    "# quantile regression\n",
    "from sklearn.ensemble import HistGradientBoostingRegressor\n",
    "\n",
    "# plotting and numpy\n",
    "from matplotlib import pyplot as plt\n",
    "import numpy as np\n",
    "from tqdm import tqdm\n",
    "import itertools\n",
    "import pandas as pd\n",
    "\n",
    "# package to simulate from weinberg LFI data\n",
    "# weinberg data (physics)\n",
    "from hypothesis.benchmark import weinberg\n",
    "# mg1 data (queue theory)\n",
    "from hypothesis.benchmark import mg1\n",
    "# multivariate normal (toy example)\n",
    "from hypothesis.benchmark import tractable"
   ]
  },
  {
   "cell_type": "markdown",
   "metadata": {},
   "source": [
    "## Defining general functions to make the comparisons:"
   ]
  },
  {
   "cell_type": "markdown",
   "metadata": {},
   "source": [
    "First, implementing naive quantiles and prediction:"
   ]
  },
  {
   "cell_type": "code",
   "execution_count": 2,
   "metadata": {},
   "outputs": [],
   "source": [
    "# defining naive function\n",
    "def naive(kind, simulator, score, alpha, B=1000, N=100, naive_n=500, disable_tqdm = True):\n",
    "    n_grid = int(B / naive_n)\n",
    "    quantiles = {}\n",
    "\n",
    "    if kind == \"weinberg\":\n",
    "        thetas = np.linspace(0.5001, 1.4999, n_grid)\n",
    "        for theta in thetas:\n",
    "            theta_fixed = torch.tensor([theta])\n",
    "            repeated_thetas = theta_fixed.reshape(1, -1).repeat_interleave(repeats = naive_n*N, dim = 0)\n",
    "            X_samples = simulator(repeated_thetas)\n",
    "            X_dim = X_samples.shape[1]\n",
    "            X_samples = X_samples.reshape(naive_n, N * X_dim)\n",
    "\n",
    "            lambdas = score.compute(thetas = repeated_thetas.numpy()[0:naive_n, :], X = X_samples.numpy(), disable_tqdm = disable_tqdm)\n",
    "\n",
    "            quantiles[theta] = np.quantile(lambdas, q = 1 - alpha)\n",
    "\n",
    "    elif kind == \"tractable\":\n",
    "        # given the complexity, reducing to only 10 grid if B > 5000\n",
    "        if B > 5000:\n",
    "            n_grid = 10\n",
    "        par_grid = np.linspace(-2.9999, 2.9999, n_grid)\n",
    "        for theta_1, theta_2, theta_3, theta_4, theta_5 in itertools.product(par_grid, par_grid, par_grid, par_grid, par_grid):\n",
    "            theta_fixed = torch.tensor([theta_1, theta_2, theta_3, theta_4, theta_5])\n",
    "            repeated_thetas = theta_fixed.reshape(1, -1).repeat_interleave(repeats = naive_n*N, dim = 0)\n",
    "            X_samples = simulator(repeated_thetas)\n",
    "            X_dim = X_samples.shape[1]\n",
    "            X_samples = X_samples.reshape(naive_n, N * X_dim)\n",
    "\n",
    "            lambdas = score.compute(thetas = repeated_thetas.numpy()[0:naive_n, :], X = X_samples.numpy())\n",
    "\n",
    "            quantiles[(theta_1, theta_2, theta_3, theta_4, theta_5)] = np.quantile(lambdas, q = 1 - alpha)\n",
    "\n",
    "    elif kind == \"mg1\":\n",
    "        pars_1 = np.linspace(0.0001, 9.9999, n_grid)\n",
    "        pars_2 = np.linspace(0.0001, 1/3 - 0.0001, n_grid)\n",
    "        for par1, par2, par3 in itertools.product(pars_1, pars_1, pars_2):\n",
    "            theta_fixed = torch.tensor([par1, par2, par3])\n",
    "            repeated_thetas = theta_fixed.reshape(1, -1).repeat_interleave(repeats = naive_n*N, dim = 0)\n",
    "            X_samples = simulator(repeated_thetas)\n",
    "            X_dim = X_samples.shape[1]\n",
    "            X_samples = X_samples.reshape(naive_n, N * X_dim)\n",
    "\n",
    "            lambdas = score.compute(thetas = repeated_thetas.numpy()[0:naive_n, :], X = X_samples.numpy())\n",
    "\n",
    "            quantiles[(theta_1, theta_2, theta_3)] = np.quantile(lambdas, q = 1 - alpha)\n",
    "    return quantiles\n",
    "\n",
    "# prediction function for naive\n",
    "def predict_naive_quantile(kind, theta_grid, quantiles_dict):\n",
    "    thetas_values = np.array(list(quantiles_dict.keys()))\n",
    "    quantiles_list = []\n",
    "    for theta in theta_grid:\n",
    "        if kind == \"weinberg\":\n",
    "            idx = thetas_values[int(np.argmin(np.abs(theta - thetas_values)))]\n",
    "            quantiles_list.append(quantiles_dict[idx])\n",
    "        else:\n",
    "            distances = np.linalg.norm(thetas_values - theta, axis=1)\n",
    "            idx = thetas_values[np.argmin(distances)]\n",
    "            quantiles_list.append(quantiles_dict[tuple(idx)])\n",
    "    return quantiles_list"
   ]
  },
  {
   "cell_type": "markdown",
   "metadata": {},
   "source": [
    "Now, implementing function for obtaining quantile in LFI version:"
   ]
  },
  {
   "cell_type": "code",
   "execution_count": 3,
   "metadata": {},
   "outputs": [],
   "source": [
    "def obtain_quantiles(\n",
    "    kind,\n",
    "    score,\n",
    "    theta_grid_eval,\n",
    "    simulator,\n",
    "    prior,\n",
    "    N,\n",
    "    B=1000,\n",
    "    alpha=0.05,\n",
    "    min_samples_leaf=100,\n",
    "    n_estimators = 100,\n",
    "    K = 50,\n",
    "    B_valid=1000,\n",
    "    N_lambda = 150,\n",
    "    K_grid= np.concatenate((np.array([0]), np.arange(15, 95, 5))),\n",
    "    naive_n=500,\n",
    "    disable_tqdm = True,\n",
    "):\n",
    "    # fitting and predicting naive (monte-carlo\n",
    "    print(\"Running naive method\")\n",
    "    naive_quantiles = naive(kind = kind, simulator = simulator, score = score, alpha = alpha, B=B, N=N, naive_n= naive_n)\n",
    "    naive_list = predict_naive_quantile(kind, theta_grid_eval, naive_quantiles)\n",
    "\n",
    "    # simulating to fit models\n",
    "    thetas_sim = prior.sample((B,))\n",
    "    if thetas_sim.ndim == 1:\n",
    "        model_thetas = thetas_sim.reshape(-1, 1)\n",
    "    else:\n",
    "        model_thetas = thetas_sim\n",
    "\n",
    "    repeated_thetas = thetas_sim.repeat_interleave(repeats = N, dim = 0)\n",
    "    X_net = simulator(repeated_thetas)\n",
    "    X_dim = X_net.shape[1]\n",
    "    X_net = X_net.reshape(B, N * X_dim)\n",
    "\n",
    "    model_lambdas = score.compute(model_thetas.numpy(), X_net.numpy(), disable_tqdm = disable_tqdm)\n",
    "\n",
    "    print(\"Running all the other methods\")\n",
    "    locart_object = LocartSplit(\n",
    "        LambdaScore, None, alpha=alpha, is_fitted=True, split_calib=False\n",
    "    )\n",
    "    locart_quantiles = locart_object.calib(\n",
    "        model_thetas.numpy(), model_lambdas, min_samples_leaf=min_samples_leaf\n",
    "    )\n",
    "\n",
    "    # loforest quantiles\n",
    "    loforest_object = ConformalLoforest(\n",
    "        LambdaScore, None, alpha=alpha, is_fitted=True, split_calib=False\n",
    "    )\n",
    "    loforest_object.calibrate(\n",
    "        model_thetas.numpy(), \n",
    "        model_lambdas, \n",
    "        min_samples_leaf=min_samples_leaf, \n",
    "        n_estimators= n_estimators,\n",
    "        K = K,\n",
    "    )\n",
    "\n",
    "    # boosting quantiles\n",
    "    model = HistGradientBoostingRegressor(\n",
    "        loss=\"quantile\",\n",
    "        max_iter=100,\n",
    "        max_depth=3,\n",
    "        quantile=1 - alpha,\n",
    "        random_state=105,\n",
    "        n_iter_no_change=15,\n",
    "        early_stopping=True,\n",
    "    )\n",
    "    model.fit(model_thetas.numpy(), model_lambdas)\n",
    "\n",
    "    print(\"Obtaining tuning sample\")\n",
    "    # tuned loforest samples\n",
    "    theta_tune = prior.sample((B_valid, ))\n",
    "\n",
    "    # finding tuned K\n",
    "    lambda_tune = np.zeros((theta_tune.shape[0], N_lambda))\n",
    "    if theta_tune.ndim == 1:\n",
    "        K_valid_thetas = theta_tune.reshape(-1, 1)\n",
    "    else:\n",
    "        K_valid_thetas = theta_tune\n",
    "\n",
    "    i = 0\n",
    "    for theta in tqdm(theta_tune, desc = \"Simulating all tuning sample\"):\n",
    "        if theta_tune.ndim == 1:\n",
    "            theta_repeated = torch.tensor([theta]).reshape(1, -1).repeat_interleave(repeats = N_lambda*N, dim = 0)\n",
    "        else:\n",
    "            theta.reshape(1, -1).repeat_interleave(repeats = N_lambda*N, dim = 0)\n",
    "        X_net = simulator(theta_repeated)\n",
    "        X_dim = X_net.shape[1]\n",
    "        X_net = X_net.reshape(N_lambda, N * X_dim)\n",
    "        lambda_tune[i, :] = score.compute(thetas = theta_repeated.numpy()[0:N_lambda, :], X = X_net.numpy(), disable_tqdm = disable_tqdm)\n",
    "        i += 1\n",
    "\n",
    "    print(\"Fitting tuned loforest\")\n",
    "    K_loforest = tune_loforest_LFI(\n",
    "        loforest_object, theta_data = K_valid_thetas.numpy(), lambda_data = lambda_tune, K_grid=K_grid\n",
    "    )\n",
    "\n",
    "    # locart quantiles\n",
    "    model_eval = theta_grid_eval.reshape(-1, 1)\n",
    "\n",
    "    idxs = locart_object.cart.apply(model_eval)\n",
    "    list_locart_quantiles = [locart_quantiles[idx] for idx in idxs]\n",
    "\n",
    "    # loforest\n",
    "    loforest_cutoffs = loforest_object.compute_cutoffs(model_eval)\n",
    "\n",
    "    # tuned loforest\n",
    "    loforest_tuned_cutoffs = loforest_object.compute_cutoffs(\n",
    "        model_eval, K=K_loforest\n",
    "    )\n",
    "\n",
    "    # boosting\n",
    "    boosting_quantiles = model.predict(model_eval)\n",
    "\n",
    "\n",
    "    # dictionary of quantiles\n",
    "    quantile_dict = {\n",
    "        \"naive\": naive_list,\n",
    "        \"locart\": list_locart_quantiles,\n",
    "        \"loforest_fixed\": loforest_cutoffs,\n",
    "        \"loforest_tuned\": loforest_tuned_cutoffs,\n",
    "        \"boosting\": boosting_quantiles,\n",
    "    }\n",
    "\n",
    "    return quantile_dict"
   ]
  },
  {
   "cell_type": "markdown",
   "metadata": {},
   "source": [
    "Function to compute MAE for a fixed N and B:"
   ]
  },
  {
   "cell_type": "code",
   "execution_count": 4,
   "metadata": {},
   "outputs": [],
   "source": [
    "def compute_MAE_N_B(\n",
    "    kind,\n",
    "    score,\n",
    "    theta_grid_eval,\n",
    "    simulator,\n",
    "    prior,\n",
    "    N = 1,\n",
    "    B = 10000,\n",
    "    alpha=0.05,\n",
    "    min_samples_leaf = 300,\n",
    "    n_estimators = 200,\n",
    "    K = 50,\n",
    "    B_valid= 500,\n",
    "    N_lambda = 250,\n",
    "    K_grid= np.concatenate((np.array([0]), np.arange(15, 95, 5))),\n",
    "    naive_n=500,\n",
    "    disable_tqdm = True,\n",
    "    seed = 45,\n",
    "    n_lambda = 300,\n",
    "):\n",
    "    torch.manual_seed(seed)\n",
    "    torch.cuda.manual_seed(seed)\n",
    "\n",
    "    quantiles_dict = obtain_quantiles(\n",
    "    kind = kind, \n",
    "    score = score, \n",
    "    theta_grid_eval = theta_grid_eval, \n",
    "    simulator = simulator,\n",
    "    prior = prior, \n",
    "    N = N, \n",
    "    B = B, \n",
    "    alpha = alpha, \n",
    "    min_samples_leaf = min_samples_leaf, \n",
    "    n_estimators = n_estimators, \n",
    "    K = K,\n",
    "    disable_tqdm = disable_tqdm,\n",
    "    B_valid = B_valid,\n",
    "    N_lambda= N_lambda,\n",
    "    K_grid = K_grid,\n",
    "    naive_n = naive_n\n",
    ")\n",
    "    mae_list, se_list, methods_list, N_list, B_list = [], [], [], [], []\n",
    "    err_data = np.zeros((theta_grid_eval.shape[0], 5))\n",
    "    l = 0\n",
    "    for theta in tqdm(theta_grid_eval, desc = \"Evaluating coverage in this setting\"):\n",
    "        if theta_grid_eval.ndim == 1:\n",
    "            theta_repeated = torch.tensor([theta]).reshape(1, -1).repeat_interleave(repeats = n_lambda*N, dim = 0)\n",
    "        else:\n",
    "            theta_repeated = theta.reshape(1, -1).repeat_interleave(repeats = n_lambda*N, dim = 0)\n",
    "        # simulating lambdas for testing\n",
    "        X_net = simulator(theta_repeated)\n",
    "        X_dim = X_net.shape[1]\n",
    "        X_net = X_net.reshape(n_lambda, N * X_dim)\n",
    "\n",
    "        stat = score.compute(theta_repeated.numpy()[0:n_lambda, :], X_net.numpy(), disable_tqdm = True)\n",
    "                \n",
    "        # comparing coverage of methods\n",
    "        locart_cover = np.mean(stat <= quantiles_dict[\"locart\"][l])\n",
    "        loforest_cover = np.mean(stat <= quantiles_dict[\"loforest_fixed\"][l])\n",
    "        loforest_tuned_cover = np.mean(stat <= quantiles_dict[\"loforest_tuned\"][l])\n",
    "        boosting_cover = np.mean(stat <= quantiles_dict[\"boosting\"][l])\n",
    "        naive_cover = np.mean(stat <= quantiles_dict[\"naive\"][l])\n",
    "\n",
    "        # appending the errors\n",
    "        err_locart = np.abs(locart_cover - (1 - alpha))\n",
    "        err_loforest = np.abs(loforest_cover - (1 - alpha))\n",
    "        err_loforest_tuned = np.abs(loforest_tuned_cover - (1 - alpha))\n",
    "        err_boosting = np.abs(boosting_cover - (1 - alpha))\n",
    "        err_naive = np.abs(naive_cover - (1 - alpha))\n",
    "        \n",
    "            # saving in numpy array\n",
    "        err_data[l, :] = np.array([err_locart, err_loforest, err_loforest_tuned, err_boosting, err_naive])\n",
    "        l += 1\n",
    "\n",
    "    mae_list.extend(np.mean(err_data, axis=0).tolist())\n",
    "    se_list.extend((np.std(err_data, axis=0) / np.sqrt(theta_grid_eval.shape[0])).tolist())\n",
    "    methods_list.extend([\"LOCART\", \"LOFOREST\", \"tuned LOFOREST\", \"boosting\", \"monte-carlo\"])\n",
    "    N_list.extend([N] * 5)\n",
    "    B_list.extend([B] * 5)\n",
    "\n",
    "    stats_data = pd.DataFrame(\n",
    "        {\n",
    "            \"methods\": methods_list,\n",
    "            \"N\": N_list,\n",
    "            \"B\": B_list,\n",
    "            \"MAE\": mae_list,\n",
    "            \"se\": se_list,\n",
    "        }\n",
    "    )\n",
    "    return stats_data"
   ]
  },
  {
   "cell_type": "code",
   "execution_count": 5,
   "metadata": {},
   "outputs": [],
   "source": [
    "def fit_post_model(\n",
    "        simulator, \n",
    "        prior, \n",
    "        B_model = 20000, \n",
    "        n = 1, \n",
    "        seed = 45, \n",
    "        split_seed = 0,\n",
    "        n_flows = 8, \n",
    "        hidden_units = 128,\n",
    "        hidden_layers = 2,\n",
    "        enable_cuda = True,\n",
    "        patience = 50,\n",
    "        n_epochs = 2000,\n",
    "        batch_size = 250,\n",
    "        plot_history = True):\n",
    "\n",
    "        torch.manual_seed(seed)\n",
    "        torch.cuda.manual_seed(seed)\n",
    "\n",
    "        # simulating thetas\n",
    "        thetas = prior.sample((B_model, ))\n",
    "        repeated_thetas = thetas.repeat_interleave(repeats = n, dim = 0)\n",
    "\n",
    "        # simulating X's\n",
    "        X_sample = simulator(repeated_thetas)\n",
    "        X_dim = X_sample.shape[1]\n",
    "        X_net = X_sample.reshape(B_model, n * X_dim)\n",
    "\n",
    "        if thetas.ndim == 1:\n",
    "                thetas = thetas.reshape(-1, 1)\n",
    "        nflow_post = normflow_posterior(\n",
    "        latent_size = thetas.shape[1],\n",
    "        sample_size = X_net.shape[1], \n",
    "        n_flows = n_flows, \n",
    "        hidden_units = hidden_units, \n",
    "        hidden_layers = hidden_layers,\n",
    "        enable_cuda = enable_cuda,\n",
    "        )\n",
    "\n",
    "        nflow_post.fit(\n",
    "                X_net.numpy(), \n",
    "                thetas.numpy(), \n",
    "                patience = patience, \n",
    "                n_epochs = n_epochs, \n",
    "                batch_size = batch_size, \n",
    "                split_seed = split_seed\n",
    "                )\n",
    "        if plot_history:\n",
    "                nflow_post.plot_history()\n",
    "        \n",
    "        return nflow_post"
   ]
  },
  {
   "cell_type": "markdown",
   "metadata": {},
   "source": [
    "## Starting by the weinberg data:"
   ]
  },
  {
   "cell_type": "markdown",
   "metadata": {},
   "source": [
    "Simulating and testing for tractable:"
   ]
  },
  {
   "cell_type": "code",
   "execution_count": 6,
   "metadata": {},
   "outputs": [],
   "source": [
    "simulator = weinberg.Simulator(default_beam_energy=40.0)\n",
    "prior = weinberg.Prior()"
   ]
  },
  {
   "cell_type": "markdown",
   "metadata": {},
   "source": [
    "Starting by samples size $n = 5$ and $B^{'} = 20000$ for posterior modeling. Fitting normalizing flow model and analysing loss:"
   ]
  },
  {
   "cell_type": "code",
   "execution_count": 7,
   "metadata": {},
   "outputs": [
    {
     "name": "stderr",
     "output_type": "stream",
     "text": [
      "Fitting normalizing flows posterior estimator:  13%|█▎        | 264/2000 [01:25<09:19,  3.10it/s]"
     ]
    },
    {
     "name": "stdout",
     "output_type": "stream",
     "text": [
      "Early stopping at epoch 264\n",
      "a\n"
     ]
    },
    {
     "name": "stderr",
     "output_type": "stream",
     "text": [
      "\n"
     ]
    },
    {
     "data": {
      "image/png": "[encoded data removed]",
      "text/plain": [
       "<Figure size 640x480 with 1 Axes>"
      ]
     },
     "metadata": {},
     "output_type": "display_data"
    }
   ],
   "source": [
    "nflow_post = fit_post_model(simulator = simulator, prior = prior, B_model = 20000, n = 5, seed = 45, split_seed = 0)"
   ]
  },
  {
   "cell_type": "markdown",
   "metadata": {},
   "source": [
    "Now, fixing a grid and declaring all statistics that will be used in the comparisons:"
   ]
  },
  {
   "cell_type": "code",
   "execution_count": 8,
   "metadata": {},
   "outputs": [],
   "source": [
    "# weinberg grid\n",
    "n_out = 300\n",
    "thetas_valid = np.linspace(0.5001, 1.4999, n_out)\n",
    "\n",
    "# defining scores\n",
    "# waldo score\n",
    "waldo_score = WaldoScore(nflow_post, is_fitted = True)\n",
    "waldo_score.fit()\n",
    "\n",
    "# BFF score\n",
    "bff_score = BFFScore(nflow_post, is_fitted = True)\n",
    "bff_score.fit()\n",
    "\n",
    "# e-value score\n",
    "e_value_score = E_valueScore(nflow_post, is_fitted = True)\n",
    "e_value_score.fit()\n",
    "\n",
    "# sample size\n",
    "n = 1\n",
    "B = 10000"
   ]
  },
  {
   "cell_type": "markdown",
   "metadata": {},
   "source": [
    "### Computing coverage for fixed $n$ and $B$:"
   ]
  },
  {
   "cell_type": "markdown",
   "metadata": {},
   "source": [
    "Computing for waldo:"
   ]
  },
  {
   "cell_type": "code",
   "execution_count": 35,
   "metadata": {},
   "outputs": [
    {
     "name": "stdout",
     "output_type": "stream",
     "text": [
      "Running naive method\n",
      "Running all the other methods\n",
      "Obtaining tuning sample\n"
     ]
    },
    {
     "name": "stderr",
     "output_type": "stream",
     "text": [
      "Simulating all tuning sample: 100%|██████████| 500/500 [27:01<00:00,  3.24s/it]\n"
     ]
    },
    {
     "name": "stdout",
     "output_type": "stream",
     "text": [
      "Fitting tuned loforest\n"
     ]
    },
    {
     "name": "stderr",
     "output_type": "stream",
     "text": [
      "Evaluating coverage in this setting: 100%|██████████| 300/300 [24:00<00:00,  4.80s/it]\n"
     ]
    }
   ],
   "source": [
    "waldo_stats_weinberg = compute_MAE_N_B(\n",
    "    kind = \"weinberg\", \n",
    "    score = waldo_score, \n",
    "    theta_grid_eval = thetas_valid, \n",
    "    simulator = simulator, \n",
    "    prior = prior, \n",
    "    N = 5, \n",
    "    B = 10000, \n",
    "    B_valid = 500, \n",
    "    N_lambda = 200,\n",
    "    K = 70,\n",
    "    n_estimators = 200,\n",
    "    min_samples_leaf = 300,\n",
    "    )"
   ]
  },
  {
   "cell_type": "code",
   "execution_count": 36,
   "metadata": {},
   "outputs": [
    {
     "data": {
      "text/html": [
       "<div>\n",
       "<style scoped>\n",
       "    .dataframe tbody tr th:only-of-type {\n",
       "        vertical-align: middle;\n",
       "    }\n",
       "\n",
       "    .dataframe tbody tr th {\n",
       "        vertical-align: top;\n",
       "    }\n",
       "\n",
       "    .dataframe thead th {\n",
       "        text-align: right;\n",
       "    }\n",
       "</style>\n",
       "<table border=\"1\" class=\"dataframe\">\n",
       "  <thead>\n",
       "    <tr style=\"text-align: right;\">\n",
       "      <th></th>\n",
       "      <th>methods</th>\n",
       "      <th>N</th>\n",
       "      <th>B</th>\n",
       "      <th>MAE</th>\n",
       "      <th>se</th>\n",
       "    </tr>\n",
       "  </thead>\n",
       "  <tbody>\n",
       "    <tr>\n",
       "      <th>0</th>\n",
       "      <td>LOCART</td>\n",
       "      <td>5</td>\n",
       "      <td>10000</td>\n",
       "      <td>0.014722</td>\n",
       "      <td>0.000588</td>\n",
       "    </tr>\n",
       "    <tr>\n",
       "      <th>1</th>\n",
       "      <td>LOFOREST</td>\n",
       "      <td>5</td>\n",
       "      <td>10000</td>\n",
       "      <td>0.013244</td>\n",
       "      <td>0.000547</td>\n",
       "    </tr>\n",
       "    <tr>\n",
       "      <th>2</th>\n",
       "      <td>tuned LOFOREST</td>\n",
       "      <td>5</td>\n",
       "      <td>10000</td>\n",
       "      <td>0.013544</td>\n",
       "      <td>0.000547</td>\n",
       "    </tr>\n",
       "    <tr>\n",
       "      <th>3</th>\n",
       "      <td>boosting</td>\n",
       "      <td>5</td>\n",
       "      <td>10000</td>\n",
       "      <td>0.015067</td>\n",
       "      <td>0.000796</td>\n",
       "    </tr>\n",
       "    <tr>\n",
       "      <th>4</th>\n",
       "      <td>monte-carlo</td>\n",
       "      <td>5</td>\n",
       "      <td>10000</td>\n",
       "      <td>0.013411</td>\n",
       "      <td>0.000582</td>\n",
       "    </tr>\n",
       "  </tbody>\n",
       "</table>\n",
       "</div>"
      ],
      "text/plain": [
       "          methods  N      B       MAE        se\n",
       "0          LOCART  5  10000  0.014722  0.000588\n",
       "1        LOFOREST  5  10000  0.013244  0.000547\n",
       "2  tuned LOFOREST  5  10000  0.013544  0.000547\n",
       "3        boosting  5  10000  0.015067  0.000796\n",
       "4     monte-carlo  5  10000  0.013411  0.000582"
      ]
     },
     "execution_count": 36,
     "metadata": {},
     "output_type": "execute_result"
    }
   ],
   "source": [
    "waldo_stats_weinberg"
   ]
  },
  {
   "cell_type": "markdown",
   "metadata": {},
   "source": [
    "Computing for BFF:"
   ]
  },
  {
   "cell_type": "code",
   "execution_count": 37,
   "metadata": {},
   "outputs": [
    {
     "name": "stdout",
     "output_type": "stream",
     "text": [
      "Running naive method\n",
      "Running all the other methods\n",
      "Obtaining tuning sample\n"
     ]
    },
    {
     "name": "stderr",
     "output_type": "stream",
     "text": [
      "Simulating all tuning sample: 100%|██████████| 1000/1000 [03:23<00:00,  4.91it/s]\n"
     ]
    },
    {
     "name": "stdout",
     "output_type": "stream",
     "text": [
      "Fitting tuned loforest\n"
     ]
    },
    {
     "name": "stderr",
     "output_type": "stream",
     "text": [
      "Evaluating coverage in this setting: 100%|██████████| 300/300 [00:39<00:00,  7.59it/s]\n"
     ]
    }
   ],
   "source": [
    "bff_stats_weinberg = compute_MAE_N_B(\n",
    "    kind = \"weinberg\", \n",
    "    score = bff_score,\n",
    "    seed = 125,\n",
    "    theta_grid_eval = thetas_valid, \n",
    "    simulator = simulator, \n",
    "    prior = prior, \n",
    "    N = 5, \n",
    "    B = 10000, \n",
    "    B_valid = 1000, \n",
    "    N_lambda = 500,\n",
    "    K = 70,\n",
    "    n_estimators = 200,\n",
    "    min_samples_leaf = 300\n",
    "    )"
   ]
  },
  {
   "cell_type": "code",
   "execution_count": 38,
   "metadata": {},
   "outputs": [
    {
     "data": {
      "text/html": [
       "<div>\n",
       "<style scoped>\n",
       "    .dataframe tbody tr th:only-of-type {\n",
       "        vertical-align: middle;\n",
       "    }\n",
       "\n",
       "    .dataframe tbody tr th {\n",
       "        vertical-align: top;\n",
       "    }\n",
       "\n",
       "    .dataframe thead th {\n",
       "        text-align: right;\n",
       "    }\n",
       "</style>\n",
       "<table border=\"1\" class=\"dataframe\">\n",
       "  <thead>\n",
       "    <tr style=\"text-align: right;\">\n",
       "      <th></th>\n",
       "      <th>methods</th>\n",
       "      <th>N</th>\n",
       "      <th>B</th>\n",
       "      <th>MAE</th>\n",
       "      <th>se</th>\n",
       "    </tr>\n",
       "  </thead>\n",
       "  <tbody>\n",
       "    <tr>\n",
       "      <th>0</th>\n",
       "      <td>LOCART</td>\n",
       "      <td>5</td>\n",
       "      <td>10000</td>\n",
       "      <td>0.017944</td>\n",
       "      <td>0.000938</td>\n",
       "    </tr>\n",
       "    <tr>\n",
       "      <th>1</th>\n",
       "      <td>LOFOREST</td>\n",
       "      <td>5</td>\n",
       "      <td>10000</td>\n",
       "      <td>0.017767</td>\n",
       "      <td>0.001184</td>\n",
       "    </tr>\n",
       "    <tr>\n",
       "      <th>2</th>\n",
       "      <td>tuned LOFOREST</td>\n",
       "      <td>5</td>\n",
       "      <td>10000</td>\n",
       "      <td>0.017744</td>\n",
       "      <td>0.001188</td>\n",
       "    </tr>\n",
       "    <tr>\n",
       "      <th>3</th>\n",
       "      <td>boosting</td>\n",
       "      <td>5</td>\n",
       "      <td>10000</td>\n",
       "      <td>0.015100</td>\n",
       "      <td>0.000680</td>\n",
       "    </tr>\n",
       "    <tr>\n",
       "      <th>4</th>\n",
       "      <td>monte-carlo</td>\n",
       "      <td>5</td>\n",
       "      <td>10000</td>\n",
       "      <td>0.015733</td>\n",
       "      <td>0.000798</td>\n",
       "    </tr>\n",
       "  </tbody>\n",
       "</table>\n",
       "</div>"
      ],
      "text/plain": [
       "          methods  N      B       MAE        se\n",
       "0          LOCART  5  10000  0.017944  0.000938\n",
       "1        LOFOREST  5  10000  0.017767  0.001184\n",
       "2  tuned LOFOREST  5  10000  0.017744  0.001188\n",
       "3        boosting  5  10000  0.015100  0.000680\n",
       "4     monte-carlo  5  10000  0.015733  0.000798"
      ]
     },
     "execution_count": 38,
     "metadata": {},
     "output_type": "execute_result"
    }
   ],
   "source": [
    "bff_stats_weinberg"
   ]
  },
  {
   "cell_type": "markdown",
   "metadata": {},
   "source": [
    "Computing for e-value:"
   ]
  },
  {
   "cell_type": "code",
   "execution_count": 9,
   "metadata": {},
   "outputs": [
    {
     "name": "stdout",
     "output_type": "stream",
     "text": [
      "Running naive method\n",
      "Running all the other methods\n",
      "Obtaining tuning sample\n"
     ]
    },
    {
     "name": "stderr",
     "output_type": "stream",
     "text": [
      "Simulating all tuning sample:  87%|████████▋ | 436/500 [1:11:46<10:32,  9.88s/it]\n"
     ]
    },
    {
     "ename": "KeyboardInterrupt",
     "evalue": "",
     "output_type": "error",
     "traceback": [
      "\u001b[0;31m---------------------------------------------------------------------------\u001b[0m",
      "\u001b[0;31mKeyboardInterrupt\u001b[0m                         Traceback (most recent call last)",
      "Cell \u001b[0;32mIn[9], line 1\u001b[0m\n\u001b[0;32m----> 1\u001b[0m e_value_stats_weinberg \u001b[38;5;241m=\u001b[39m compute_MAE_N_B(\n\u001b[1;32m      2\u001b[0m     kind \u001b[38;5;241m=\u001b[39m \u001b[38;5;124m\"\u001b[39m\u001b[38;5;124mweinberg\u001b[39m\u001b[38;5;124m\"\u001b[39m, \n\u001b[1;32m      3\u001b[0m     score \u001b[38;5;241m=\u001b[39m e_value_score,\n\u001b[1;32m      4\u001b[0m     seed \u001b[38;5;241m=\u001b[39m \u001b[38;5;241m150\u001b[39m, \n\u001b[1;32m      5\u001b[0m     theta_grid_eval \u001b[38;5;241m=\u001b[39m thetas_valid, \n\u001b[1;32m      6\u001b[0m     simulator \u001b[38;5;241m=\u001b[39m simulator, \n\u001b[1;32m      7\u001b[0m     prior \u001b[38;5;241m=\u001b[39m prior, \n\u001b[1;32m      8\u001b[0m     N \u001b[38;5;241m=\u001b[39m \u001b[38;5;241m5\u001b[39m, \n\u001b[1;32m      9\u001b[0m     B \u001b[38;5;241m=\u001b[39m \u001b[38;5;241m10000\u001b[39m, \n\u001b[1;32m     10\u001b[0m     B_valid \u001b[38;5;241m=\u001b[39m \u001b[38;5;241m500\u001b[39m, \n\u001b[1;32m     11\u001b[0m     N_lambda \u001b[38;5;241m=\u001b[39m \u001b[38;5;241m200\u001b[39m,\n\u001b[1;32m     12\u001b[0m     K \u001b[38;5;241m=\u001b[39m \u001b[38;5;241m70\u001b[39m,\n\u001b[1;32m     13\u001b[0m     n_estimators \u001b[38;5;241m=\u001b[39m \u001b[38;5;241m200\u001b[39m,\n\u001b[1;32m     14\u001b[0m     min_samples_leaf \u001b[38;5;241m=\u001b[39m \u001b[38;5;241m300\u001b[39m,\n\u001b[1;32m     15\u001b[0m     )\n",
      "Cell \u001b[0;32mIn[4], line 24\u001b[0m, in \u001b[0;36mcompute_MAE_N_B\u001b[0;34m(kind, score, theta_grid_eval, simulator, prior, N, B, alpha, min_samples_leaf, n_estimators, K, B_valid, N_lambda, K_grid, naive_n, disable_tqdm, seed, n_lambda)\u001b[0m\n\u001b[1;32m     21\u001b[0m     torch\u001b[38;5;241m.\u001b[39mmanual_seed(seed)\n\u001b[1;32m     22\u001b[0m     torch\u001b[38;5;241m.\u001b[39mcuda\u001b[38;5;241m.\u001b[39mmanual_seed(seed)\n\u001b[0;32m---> 24\u001b[0m     quantiles_dict \u001b[38;5;241m=\u001b[39m obtain_quantiles(\n\u001b[1;32m     25\u001b[0m     kind \u001b[38;5;241m=\u001b[39m kind, \n\u001b[1;32m     26\u001b[0m     score \u001b[38;5;241m=\u001b[39m score, \n\u001b[1;32m     27\u001b[0m     theta_grid_eval \u001b[38;5;241m=\u001b[39m theta_grid_eval, \n\u001b[1;32m     28\u001b[0m     simulator \u001b[38;5;241m=\u001b[39m simulator,\n\u001b[1;32m     29\u001b[0m     prior \u001b[38;5;241m=\u001b[39m prior, \n\u001b[1;32m     30\u001b[0m     N \u001b[38;5;241m=\u001b[39m N, \n\u001b[1;32m     31\u001b[0m     B \u001b[38;5;241m=\u001b[39m B, \n\u001b[1;32m     32\u001b[0m     alpha \u001b[38;5;241m=\u001b[39m alpha, \n\u001b[1;32m     33\u001b[0m     min_samples_leaf \u001b[38;5;241m=\u001b[39m min_samples_leaf, \n\u001b[1;32m     34\u001b[0m     n_estimators \u001b[38;5;241m=\u001b[39m n_estimators, \n\u001b[1;32m     35\u001b[0m     K \u001b[38;5;241m=\u001b[39m K,\n\u001b[1;32m     36\u001b[0m     disable_tqdm \u001b[38;5;241m=\u001b[39m disable_tqdm,\n\u001b[1;32m     37\u001b[0m     B_valid \u001b[38;5;241m=\u001b[39m B_valid,\n\u001b[1;32m     38\u001b[0m     N_lambda\u001b[38;5;241m=\u001b[39m N_lambda,\n\u001b[1;32m     39\u001b[0m     K_grid \u001b[38;5;241m=\u001b[39m K_grid,\n\u001b[1;32m     40\u001b[0m     naive_n \u001b[38;5;241m=\u001b[39m naive_n\n\u001b[1;32m     41\u001b[0m )\n\u001b[1;32m     42\u001b[0m     mae_list, se_list, methods_list, N_list, B_list \u001b[38;5;241m=\u001b[39m [], [], [], [], []\n\u001b[1;32m     43\u001b[0m     err_data \u001b[38;5;241m=\u001b[39m np\u001b[38;5;241m.\u001b[39mzeros((theta_grid_eval\u001b[38;5;241m.\u001b[39mshape[\u001b[38;5;241m0\u001b[39m], \u001b[38;5;241m5\u001b[39m))\n",
      "Cell \u001b[0;32mIn[3], line 90\u001b[0m, in \u001b[0;36mobtain_quantiles\u001b[0;34m(kind, score, theta_grid_eval, simulator, prior, N, B, alpha, min_samples_leaf, n_estimators, K, B_valid, N_lambda, K_grid, naive_n, disable_tqdm)\u001b[0m\n\u001b[1;32m     88\u001b[0m     X_dim \u001b[38;5;241m=\u001b[39m X_net\u001b[38;5;241m.\u001b[39mshape[\u001b[38;5;241m1\u001b[39m]\n\u001b[1;32m     89\u001b[0m     X_net \u001b[38;5;241m=\u001b[39m X_net\u001b[38;5;241m.\u001b[39mreshape(N_lambda, N \u001b[38;5;241m*\u001b[39m X_dim)\n\u001b[0;32m---> 90\u001b[0m     lambda_tune[i, :] \u001b[38;5;241m=\u001b[39m score\u001b[38;5;241m.\u001b[39mcompute(thetas \u001b[38;5;241m=\u001b[39m theta_repeated\u001b[38;5;241m.\u001b[39mnumpy()[\u001b[38;5;241m0\u001b[39m:N_lambda, :], X \u001b[38;5;241m=\u001b[39m X_net\u001b[38;5;241m.\u001b[39mnumpy(), disable_tqdm \u001b[38;5;241m=\u001b[39m disable_tqdm)\n\u001b[1;32m     91\u001b[0m     i \u001b[38;5;241m+\u001b[39m\u001b[38;5;241m=\u001b[39m \u001b[38;5;241m1\u001b[39m\n\u001b[1;32m     93\u001b[0m \u001b[38;5;28mprint\u001b[39m(\u001b[38;5;124m\"\u001b[39m\u001b[38;5;124mFitting tuned loforest\u001b[39m\u001b[38;5;124m\"\u001b[39m)\n",
      "File \u001b[0;32m~/anaconda3/lib/python3.11/site-packages/CP2LFI/scores.py:255\u001b[0m, in \u001b[0;36mE_valueScore.compute\u001b[0;34m(self, thetas, X, N, one_sample, disable_tqdm)\u001b[0m\n\u001b[1;32m    248\u001b[0m \u001b[38;5;28;01mfor\u001b[39;00m theta \u001b[38;5;129;01min\u001b[39;00m tqdm(\n\u001b[1;32m    249\u001b[0m     thetas,\n\u001b[1;32m    250\u001b[0m     desc\u001b[38;5;241m=\u001b[39m\u001b[38;5;124m\"\u001b[39m\u001b[38;5;124mComputing e-value statistics using posterior model\u001b[39m\u001b[38;5;124m\"\u001b[39m,\n\u001b[1;32m    251\u001b[0m     disable\u001b[38;5;241m=\u001b[39mdisable_tqdm,\n\u001b[1;32m    252\u001b[0m ):\n\u001b[1;32m    253\u001b[0m     \u001b[38;5;28;01mif\u001b[39;00m \u001b[38;5;129;01mnot\u001b[39;00m one_sample:\n\u001b[1;32m    254\u001b[0m         \u001b[38;5;66;03m# simulating from the posterior for each X\u001b[39;00m\n\u001b[0;32m--> 255\u001b[0m         s \u001b[38;5;241m=\u001b[39m \u001b[38;5;28mself\u001b[39m\u001b[38;5;241m.\u001b[39mbase_model\u001b[38;5;241m.\u001b[39msample(X\u001b[38;5;241m=\u001b[39mX[i, :], num_samples\u001b[38;5;241m=\u001b[39mN)\n\u001b[1;32m    257\u001b[0m         \u001b[38;5;66;03m# computing probability for each sample\u001b[39;00m\n\u001b[1;32m    258\u001b[0m         prob_s \u001b[38;5;241m=\u001b[39m \u001b[38;5;28mself\u001b[39m\u001b[38;5;241m.\u001b[39mbase_model\u001b[38;5;241m.\u001b[39mpredict(s, np\u001b[38;5;241m.\u001b[39mtile(X[i, :], (N, \u001b[38;5;241m1\u001b[39m)))\n",
      "File \u001b[0;32m~/anaconda3/lib/python3.11/site-packages/CP2LFI/posterior_models.py:274\u001b[0m, in \u001b[0;36mnormflow_posterior.sample\u001b[0;34m(self, X, num_samples, fix_seed, random_state)\u001b[0m\n\u001b[1;32m    271\u001b[0m     X_s \u001b[38;5;241m=\u001b[39m torch\u001b[38;5;241m.\u001b[39mtensor(X, dtype\u001b[38;5;241m=\u001b[39mtorch\u001b[38;5;241m.\u001b[39mfloat32)\u001b[38;5;241m.\u001b[39mto(\u001b[38;5;28mself\u001b[39m\u001b[38;5;241m.\u001b[39mdevice)\n\u001b[1;32m    273\u001b[0m \u001b[38;5;28;01mwith\u001b[39;00m torch\u001b[38;5;241m.\u001b[39mno_grad():\n\u001b[0;32m--> 274\u001b[0m     sample, _ \u001b[38;5;241m=\u001b[39m \u001b[38;5;28mself\u001b[39m\u001b[38;5;241m.\u001b[39mmodel\u001b[38;5;241m.\u001b[39msample(context\u001b[38;5;241m=\u001b[39mX_s, num_samples\u001b[38;5;241m=\u001b[39mnum_samples)\n\u001b[1;32m    276\u001b[0m \u001b[38;5;28;01mreturn\u001b[39;00m sample\u001b[38;5;241m.\u001b[39mto(\u001b[38;5;124m\"\u001b[39m\u001b[38;5;124mcpu\u001b[39m\u001b[38;5;124m\"\u001b[39m)\u001b[38;5;241m.\u001b[39mnumpy()\n",
      "File \u001b[0;32m~/anaconda3/lib/python3.11/site-packages/normflows/core.py:298\u001b[0m, in \u001b[0;36mConditionalNormalizingFlow.sample\u001b[0;34m(self, num_samples, context)\u001b[0m\n\u001b[1;32m    296\u001b[0m z, log_q \u001b[38;5;241m=\u001b[39m \u001b[38;5;28mself\u001b[39m\u001b[38;5;241m.\u001b[39mq0(num_samples, context\u001b[38;5;241m=\u001b[39mcontext)\n\u001b[1;32m    297\u001b[0m \u001b[38;5;28;01mfor\u001b[39;00m flow \u001b[38;5;129;01min\u001b[39;00m \u001b[38;5;28mself\u001b[39m\u001b[38;5;241m.\u001b[39mflows:\n\u001b[0;32m--> 298\u001b[0m     z, log_det \u001b[38;5;241m=\u001b[39m flow(z, context\u001b[38;5;241m=\u001b[39mcontext)\n\u001b[1;32m    299\u001b[0m     log_q \u001b[38;5;241m-\u001b[39m\u001b[38;5;241m=\u001b[39m log_det\n\u001b[1;32m    300\u001b[0m \u001b[38;5;28;01mreturn\u001b[39;00m z, log_q\n",
      "File \u001b[0;32m~/anaconda3/lib/python3.11/site-packages/torch/nn/modules/module.py:1511\u001b[0m, in \u001b[0;36mModule._wrapped_call_impl\u001b[0;34m(self, *args, **kwargs)\u001b[0m\n\u001b[1;32m   1509\u001b[0m     \u001b[38;5;28;01mreturn\u001b[39;00m \u001b[38;5;28mself\u001b[39m\u001b[38;5;241m.\u001b[39m_compiled_call_impl(\u001b[38;5;241m*\u001b[39margs, \u001b[38;5;241m*\u001b[39m\u001b[38;5;241m*\u001b[39mkwargs)  \u001b[38;5;66;03m# type: ignore[misc]\u001b[39;00m\n\u001b[1;32m   1510\u001b[0m \u001b[38;5;28;01melse\u001b[39;00m:\n\u001b[0;32m-> 1511\u001b[0m     \u001b[38;5;28;01mreturn\u001b[39;00m \u001b[38;5;28mself\u001b[39m\u001b[38;5;241m.\u001b[39m_call_impl(\u001b[38;5;241m*\u001b[39margs, \u001b[38;5;241m*\u001b[39m\u001b[38;5;241m*\u001b[39mkwargs)\n",
      "File \u001b[0;32m~/anaconda3/lib/python3.11/site-packages/torch/nn/modules/module.py:1520\u001b[0m, in \u001b[0;36mModule._call_impl\u001b[0;34m(self, *args, **kwargs)\u001b[0m\n\u001b[1;32m   1515\u001b[0m \u001b[38;5;66;03m# If we don't have any hooks, we want to skip the rest of the logic in\u001b[39;00m\n\u001b[1;32m   1516\u001b[0m \u001b[38;5;66;03m# this function, and just call forward.\u001b[39;00m\n\u001b[1;32m   1517\u001b[0m \u001b[38;5;28;01mif\u001b[39;00m \u001b[38;5;129;01mnot\u001b[39;00m (\u001b[38;5;28mself\u001b[39m\u001b[38;5;241m.\u001b[39m_backward_hooks \u001b[38;5;129;01mor\u001b[39;00m \u001b[38;5;28mself\u001b[39m\u001b[38;5;241m.\u001b[39m_backward_pre_hooks \u001b[38;5;129;01mor\u001b[39;00m \u001b[38;5;28mself\u001b[39m\u001b[38;5;241m.\u001b[39m_forward_hooks \u001b[38;5;129;01mor\u001b[39;00m \u001b[38;5;28mself\u001b[39m\u001b[38;5;241m.\u001b[39m_forward_pre_hooks\n\u001b[1;32m   1518\u001b[0m         \u001b[38;5;129;01mor\u001b[39;00m _global_backward_pre_hooks \u001b[38;5;129;01mor\u001b[39;00m _global_backward_hooks\n\u001b[1;32m   1519\u001b[0m         \u001b[38;5;129;01mor\u001b[39;00m _global_forward_hooks \u001b[38;5;129;01mor\u001b[39;00m _global_forward_pre_hooks):\n\u001b[0;32m-> 1520\u001b[0m     \u001b[38;5;28;01mreturn\u001b[39;00m forward_call(\u001b[38;5;241m*\u001b[39margs, \u001b[38;5;241m*\u001b[39m\u001b[38;5;241m*\u001b[39mkwargs)\n\u001b[1;32m   1522\u001b[0m \u001b[38;5;28;01mtry\u001b[39;00m:\n\u001b[1;32m   1523\u001b[0m     result \u001b[38;5;241m=\u001b[39m \u001b[38;5;28;01mNone\u001b[39;00m\n",
      "File \u001b[0;32m~/anaconda3/lib/python3.11/site-packages/normflows/flows/neural_spline/wrapper.py:231\u001b[0m, in \u001b[0;36mAutoregressiveRationalQuadraticSpline.forward\u001b[0;34m(self, z, context)\u001b[0m\n\u001b[1;32m    230\u001b[0m \u001b[38;5;28;01mdef\u001b[39;00m \u001b[38;5;21mforward\u001b[39m(\u001b[38;5;28mself\u001b[39m, z, context\u001b[38;5;241m=\u001b[39m\u001b[38;5;28;01mNone\u001b[39;00m):\n\u001b[0;32m--> 231\u001b[0m     z, log_det \u001b[38;5;241m=\u001b[39m \u001b[38;5;28mself\u001b[39m\u001b[38;5;241m.\u001b[39mmprqat\u001b[38;5;241m.\u001b[39minverse(z, context\u001b[38;5;241m=\u001b[39mcontext)\n\u001b[1;32m    232\u001b[0m     \u001b[38;5;28;01mreturn\u001b[39;00m z, log_det\u001b[38;5;241m.\u001b[39mview(\u001b[38;5;241m-\u001b[39m\u001b[38;5;241m1\u001b[39m)\n",
      "File \u001b[0;32m~/anaconda3/lib/python3.11/site-packages/normflows/flows/affine/autoregressive.py:35\u001b[0m, in \u001b[0;36mAutoregressive.inverse\u001b[0;34m(self, inputs, context)\u001b[0m\n\u001b[1;32m     33\u001b[0m \u001b[38;5;28;01mfor\u001b[39;00m _ \u001b[38;5;129;01min\u001b[39;00m \u001b[38;5;28mrange\u001b[39m(num_inputs):\n\u001b[1;32m     34\u001b[0m     autoregressive_params \u001b[38;5;241m=\u001b[39m \u001b[38;5;28mself\u001b[39m\u001b[38;5;241m.\u001b[39mautoregressive_net(outputs, context)\n\u001b[0;32m---> 35\u001b[0m     outputs, logabsdet \u001b[38;5;241m=\u001b[39m \u001b[38;5;28mself\u001b[39m\u001b[38;5;241m.\u001b[39m_elementwise_inverse(\n\u001b[1;32m     36\u001b[0m         inputs, autoregressive_params\n\u001b[1;32m     37\u001b[0m     )\n\u001b[1;32m     38\u001b[0m \u001b[38;5;28;01mreturn\u001b[39;00m outputs, logabsdet\n",
      "File \u001b[0;32m~/anaconda3/lib/python3.11/site-packages/normflows/flows/neural_spline/autoregressive.py:134\u001b[0m, in \u001b[0;36mMaskedPiecewiseRationalQuadraticAutoregressive._elementwise_inverse\u001b[0;34m(self, inputs, autoregressive_params)\u001b[0m\n\u001b[1;32m    133\u001b[0m \u001b[38;5;28;01mdef\u001b[39;00m \u001b[38;5;21m_elementwise_inverse\u001b[39m(\u001b[38;5;28mself\u001b[39m, inputs, autoregressive_params):\n\u001b[0;32m--> 134\u001b[0m     \u001b[38;5;28;01mreturn\u001b[39;00m \u001b[38;5;28mself\u001b[39m\u001b[38;5;241m.\u001b[39m_elementwise(inputs, autoregressive_params, inverse\u001b[38;5;241m=\u001b[39m\u001b[38;5;28;01mTrue\u001b[39;00m)\n",
      "File \u001b[0;32m~/anaconda3/lib/python3.11/site-packages/normflows/flows/neural_spline/autoregressive.py:116\u001b[0m, in \u001b[0;36mMaskedPiecewiseRationalQuadraticAutoregressive._elementwise\u001b[0;34m(self, inputs, autoregressive_params, inverse)\u001b[0m\n\u001b[1;32m    113\u001b[0m     spline_fn \u001b[38;5;241m=\u001b[39m splines\u001b[38;5;241m.\u001b[39munconstrained_rational_quadratic_spline\n\u001b[1;32m    114\u001b[0m     spline_kwargs \u001b[38;5;241m=\u001b[39m {\u001b[38;5;124m\"\u001b[39m\u001b[38;5;124mtails\u001b[39m\u001b[38;5;124m\"\u001b[39m: \u001b[38;5;28mself\u001b[39m\u001b[38;5;241m.\u001b[39mtails, \u001b[38;5;124m\"\u001b[39m\u001b[38;5;124mtail_bound\u001b[39m\u001b[38;5;124m\"\u001b[39m: \u001b[38;5;28mself\u001b[39m\u001b[38;5;241m.\u001b[39mtail_bound}\n\u001b[0;32m--> 116\u001b[0m outputs, logabsdet \u001b[38;5;241m=\u001b[39m spline_fn(\n\u001b[1;32m    117\u001b[0m     inputs\u001b[38;5;241m=\u001b[39minputs,\n\u001b[1;32m    118\u001b[0m     unnormalized_widths\u001b[38;5;241m=\u001b[39munnormalized_widths,\n\u001b[1;32m    119\u001b[0m     unnormalized_heights\u001b[38;5;241m=\u001b[39munnormalized_heights,\n\u001b[1;32m    120\u001b[0m     unnormalized_derivatives\u001b[38;5;241m=\u001b[39munnormalized_derivatives,\n\u001b[1;32m    121\u001b[0m     inverse\u001b[38;5;241m=\u001b[39minverse,\n\u001b[1;32m    122\u001b[0m     min_bin_width\u001b[38;5;241m=\u001b[39m\u001b[38;5;28mself\u001b[39m\u001b[38;5;241m.\u001b[39mmin_bin_width,\n\u001b[1;32m    123\u001b[0m     min_bin_height\u001b[38;5;241m=\u001b[39m\u001b[38;5;28mself\u001b[39m\u001b[38;5;241m.\u001b[39mmin_bin_height,\n\u001b[1;32m    124\u001b[0m     min_derivative\u001b[38;5;241m=\u001b[39m\u001b[38;5;28mself\u001b[39m\u001b[38;5;241m.\u001b[39mmin_derivative,\n\u001b[1;32m    125\u001b[0m     \u001b[38;5;241m*\u001b[39m\u001b[38;5;241m*\u001b[39mspline_kwargs\n\u001b[1;32m    126\u001b[0m )\n\u001b[1;32m    128\u001b[0m \u001b[38;5;28;01mreturn\u001b[39;00m outputs, utils\u001b[38;5;241m.\u001b[39msum_except_batch(logabsdet)\n",
      "File \u001b[0;32m~/anaconda3/lib/python3.11/site-packages/normflows/utils/splines.py:61\u001b[0m, in \u001b[0;36munconstrained_rational_quadratic_spline\u001b[0;34m(inputs, unnormalized_widths, unnormalized_heights, unnormalized_derivatives, inverse, tails, tail_bound, min_bin_width, min_bin_height, min_derivative)\u001b[0m\n\u001b[1;32m     58\u001b[0m \u001b[38;5;28;01melse\u001b[39;00m:\n\u001b[1;32m     59\u001b[0m     \u001b[38;5;28;01mraise\u001b[39;00m \u001b[38;5;167;01mRuntimeError\u001b[39;00m(\u001b[38;5;124m\"\u001b[39m\u001b[38;5;132;01m{}\u001b[39;00m\u001b[38;5;124m tails are not implemented.\u001b[39m\u001b[38;5;124m\"\u001b[39m\u001b[38;5;241m.\u001b[39mformat(tails))\n\u001b[0;32m---> 61\u001b[0m \u001b[38;5;28;01mif\u001b[39;00m torch\u001b[38;5;241m.\u001b[39mis_tensor(tail_bound):\n\u001b[1;32m     62\u001b[0m     tail_bound_ \u001b[38;5;241m=\u001b[39m torch\u001b[38;5;241m.\u001b[39mbroadcast_to(tail_bound, inputs\u001b[38;5;241m.\u001b[39mshape)\n\u001b[1;32m     63\u001b[0m     left \u001b[38;5;241m=\u001b[39m \u001b[38;5;241m-\u001b[39mtail_bound_[inside_interval_mask]\n",
      "File \u001b[0;32m~/anaconda3/lib/python3.11/site-packages/torch/__init__.py:584\u001b[0m, in \u001b[0;36mis_tensor\u001b[0;34m(obj)\u001b[0m\n\u001b[1;32m    579\u001b[0m         class_name \u001b[38;5;241m=\u001b[39m o\u001b[38;5;241m.\u001b[39m\u001b[38;5;18m__class__\u001b[39m\u001b[38;5;241m.\u001b[39m\u001b[38;5;18m__name__\u001b[39m\n\u001b[1;32m    581\u001b[0m     \u001b[38;5;28;01mreturn\u001b[39;00m module \u001b[38;5;241m+\u001b[39m class_name\n\u001b[0;32m--> 584\u001b[0m \u001b[38;5;28;01mdef\u001b[39;00m \u001b[38;5;21mis_tensor\u001b[39m(obj):\n\u001b[1;32m    585\u001b[0m \u001b[38;5;250m    \u001b[39m\u001b[38;5;124mr\u001b[39m\u001b[38;5;124;03m\"\"\"Returns True if `obj` is a PyTorch tensor.\u001b[39;00m\n\u001b[1;32m    586\u001b[0m \n\u001b[1;32m    587\u001b[0m \u001b[38;5;124;03m    Note that this function is simply doing ``isinstance(obj, Tensor)``.\u001b[39;00m\n\u001b[0;32m   (...)\u001b[0m\n\u001b[1;32m    599\u001b[0m \n\u001b[1;32m    600\u001b[0m \u001b[38;5;124;03m    \"\"\"\u001b[39;00m\n\u001b[1;32m    601\u001b[0m     \u001b[38;5;28;01mreturn\u001b[39;00m \u001b[38;5;28misinstance\u001b[39m(obj, torch\u001b[38;5;241m.\u001b[39mTensor)\n",
      "\u001b[0;31mKeyboardInterrupt\u001b[0m: "
     ]
    }
   ],
   "source": [
    "e_value_stats_weinberg = compute_MAE_N_B(\n",
    "    kind = \"weinberg\", \n",
    "    score = e_value_score,\n",
    "    seed = 150, \n",
    "    theta_grid_eval = thetas_valid, \n",
    "    simulator = simulator, \n",
    "    prior = prior, \n",
    "    N = 5, \n",
    "    B = 10000, \n",
    "    B_valid = 500, \n",
    "    N_lambda = 200,\n",
    "    K = 70,\n",
    "    n_estimators = 200,\n",
    "    min_samples_leaf = 300,\n",
    "    )"
   ]
  },
  {
   "cell_type": "code",
   "execution_count": null,
   "metadata": {},
   "outputs": [],
   "source": [
    "e_value_stats_weinberg"
   ]
  }
 ],
 "metadata": {
  "kernelspec": {
   "display_name": "base",
   "language": "python",
   "name": "python3"
  },
  "language_info": {
   "codemirror_mode": {
    "name": "ipython",
    "version": 3
   },
   "file_extension": ".py",
   "mimetype": "text/x-python",
   "name": "python",
   "nbconvert_exporter": "python",
   "pygments_lexer": "ipython3",
   "version": "3.11.5"
  }
 },
 "nbformat": 4,
 "nbformat_minor": 2
}
