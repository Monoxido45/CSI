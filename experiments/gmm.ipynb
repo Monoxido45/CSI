{
 "cells": [
  {
   "cell_type": "raw",
   "id": "484a5a04",
   "metadata": {},
   "source": [
    "---\n",
    "title: \"GMM experiment\"\n",
    "execute:\n",
    "  keep-ipynb: true\n",
    "format: pdf\n",
    "---"
   ]
  },
  {
   "cell_type": "code",
   "execution_count": 1,
   "id": "1d74fa33",
   "metadata": {},
   "outputs": [],
   "source": [
    "# importing packages\n",
    "from sklearn.ensemble import HistGradientBoostingRegressor\n",
    "import numpy as np\n",
    "import pandas as pd\n",
    "import seaborn as sns\n",
    "import matplotlib.pyplot as plt\n",
    "\n",
    "# loforest and locart functions\n",
    "from CP2LFI.loforest import ConformalLoforest\n",
    "from CP2LFI.scores import LambdaScore\n",
    "\n",
    "from clover import Scores\n",
    "from clover import LocartSplit\n",
    "\n",
    "from copy import deepcopy\n",
    "from tqdm import tqdm\n",
    "\n",
    "from scipy import stats\n",
    "from scipy.optimize import minimize_scalar\n",
    "\n",
    "import time"
   ]
  },
  {
   "cell_type": "markdown",
   "id": "1ed94c0b",
   "metadata": {},
   "source": [
    "\\section{Comparing our methods with quantile regression in a GMM setting}\n",
    "Taking $\\theta \\in \\Theta = [0,5]$ we consider a one-dimensional Normal mixture with unknown mean but known unit variance:\n",
    "\\begin{align*}\n",
    "X \\sim 0.5 N(\\theta, 1) + 0.5 N(-\\theta, 1)\n",
    "\\end{align*}\n",
    "We consider three different sample sizes:\n",
    "$$ N = 10, 100, 1000 $$\n"
   ]
  },
  {
   "cell_type": "code",
   "execution_count": 2,
   "id": "ca7a4673",
   "metadata": {},
   "outputs": [],
   "source": [
    "# simulator\n",
    "def sim_gmm(n, theta):\n",
    "    group = np.random.binomial(n=1, p=0.5, size=n)\n",
    "    X = (((group == 0)*(np.random.normal(theta, 1, size = n))) + \n",
    "    ((group == 1)*(np.random.normal(-theta, 1, size = n))))\n",
    "    return X\n",
    "\n",
    "# randomly sampling from gmm\n",
    "def sample_gmm(n, N, seed = 450):\n",
    "    np.random.seed(seed)\n",
    "    thetas = np.random.uniform(0, 5, size = n)\n",
    "    lambdas = np.zeros(n)\n",
    "    i = 0 \n",
    "    for theta in tqdm(thetas, desc = \"Simulating lambdas and thetas\"):\n",
    "        X = sim_gmm(N, theta)\n",
    "        lambdas[i] = compute_lrt_statistic(theta, X)\n",
    "        i += 1\n",
    "    return thetas, lambdas\n",
    "\n",
    "\n",
    "# likelihood function\n",
    "def l_func(theta, x):\n",
    "    # prob from X_i\n",
    "    p_xi = np.zeros(x.shape[0])\n",
    "    i = 0\n",
    "    for x_i in x:\n",
    "        p_xi = np.log((0.5*stats.norm.pdf(x_i, loc = theta, scale = 1)) + (0.5*stats.norm.pdf(x_i, loc = -theta, scale = 1)))\n",
    "        i += 1\n",
    "    return -(np.sum(p_xi))\n",
    "\n",
    "# likelihood ratio statistic\n",
    "def compute_lrt_statistic(theta_0, X):\n",
    "    # computing MLE\n",
    "    res = minimize_scalar(l_func, args = (X), bounds = (0, 5)) \n",
    "    mle_theta = res.x\n",
    "    lrt_stat = -2*((-l_func(theta_0, X)) - (-l_func(mle_theta, X)))\n",
    "    return lrt_stat\n",
    "\n",
    "# naive method\n",
    "def naive(alpha, n_grid = 250, B = 1000, N = 100, lower = 0, upper = 5, seed = 250):\n",
    "    np.random.seed(seed)\n",
    "    thetas = np.linspace(lower, upper, n_grid)\n",
    "    quantiles = {}\n",
    "    for theta in tqdm(thetas, desc = \"Obtaining naive quantiles\"):\n",
    "        LRT_stat = np.zeros(B)\n",
    "        for i in range(0, B):\n",
    "            X = sim_gmm(N, theta)\n",
    "            LRT_stat[i] = compute_lrt_statistic(theta, X)\n",
    "        quantiles[theta] = np.quantile(LRT_stat, q = 1 - alpha)\n",
    "    return quantiles\n",
    "\n",
    "# naive predict function\n",
    "def predict_naive_quantile(theta_grid, quantiles_dict):\n",
    "    thetas_values = np.array(list(quantiles_dict.keys()))\n",
    "    quantiles_list = []\n",
    "    for theta in theta_grid:\n",
    "        idx = thetas_values[int(np.argmin(np.abs(theta - thetas_values)))]\n",
    "        quantiles_list.append(quantiles_dict[idx])\n",
    "    return quantiles_list"
   ]
  },
  {
   "cell_type": "markdown",
   "id": "fbe6e477",
   "metadata": {},
   "source": [
    "Function to evaluate coverage for a given sample size $N$:\n"
   ]
  },
  {
   "cell_type": "code",
   "execution_count": 3,
   "id": "fb78f7ad",
   "metadata": {},
   "outputs": [],
   "source": [
    "def evaluate_coverage(quantiles_dict, thetas, alpha=0.05, n=500, N=100):\n",
    "    err_data = np.zeros((thetas.shape[0], 4))\n",
    "    coverage_data = np.zeros((thetas.shape[0], 4))\n",
    "    j = 0\n",
    "    for theta in tqdm(thetas, desc=\"Computing coverage for each method\"):\n",
    "        # generating several lambdas\n",
    "        LRT_stat = np.zeros(n)\n",
    "        for i in range(0, n):\n",
    "            samples = sim_gmm(N, theta)\n",
    "            LRT_stat[i] = compute_lrt_statistic(theta, samples)\n",
    "\n",
    "        # comparing coverage of methods\n",
    "        locart_cover = np.mean(LRT_stat <= quantiles_dict[\"locart\"][j])\n",
    "        loforest_cover = np.mean(LRT_stat <= quantiles_dict[\"loforest\"][j])\n",
    "        boosting_cover = np.mean(LRT_stat <= quantiles_dict[\"boosting\"][j])\n",
    "        naive_cover = np.mean(LRT_stat <= quantiles_dict[\"naive\"][j])\n",
    "\n",
    "        # appending the errors\n",
    "        err_locart = np.abs(locart_cover - (1 - alpha))\n",
    "        err_loforest = np.abs(loforest_cover - (1 - alpha))\n",
    "        err_boosting = np.abs(boosting_cover - (1 - alpha))\n",
    "        err_naive = np.abs(naive_cover - (1 - alpha))\n",
    "\n",
    "        # saving in numpy array\n",
    "        err_data[j, :] = np.array([err_locart, err_loforest, err_boosting, err_naive])\n",
    "        coverage_data[j, :] = np.array(\n",
    "            [locart_cover, loforest_cover, boosting_cover, naive_cover]\n",
    "        )\n",
    "        j += 1\n",
    "\n",
    "    # obtaining MAE and standard error for each method\n",
    "    mae_vector, std_vector = np.mean(err_data, axis=0), np.std(err_data, axis=0)\n",
    "    stats_data = pd.DataFrame(\n",
    "        {\n",
    "            \"methods\": [\"LOCART\", \"LOFOREST\", \"boosting\", \"naive\"],\n",
    "            \"MAE\": mae_vector,\n",
    "            \"str\": std_vector / (np.sqrt(thetas.shape[0])),\n",
    "        }\n",
    "    )\n",
    "\n",
    "    coverage_data = pd.DataFrame(\n",
    "        {\n",
    "            \"thetas\": thetas,\n",
    "            \"LOCART\": coverage_data[:, 0],\n",
    "            \"LOFOREST\": coverage_data[:, 1],\n",
    "            \"boosting\": coverage_data[:, 2],\n",
    "            \"naive\": coverage_data[:, 3],\n",
    "        }\n",
    "    )\n",
    "    return [stats_data, coverage_data]"
   ]
  },
  {
   "cell_type": "markdown",
   "id": "926d836f",
   "metadata": {},
   "source": [
    "Now, we compare all methods fixing $\\alpha = 0.05$, $N = 100$ and $B = 1000$ for locart, loforest and boosting and n_grid = 30 for naive. Starting by fitting naive:"
   ]
  },
  {
   "cell_type": "code",
   "execution_count": 4,
   "id": "532e5975",
   "metadata": {},
   "outputs": [
    {
     "name": "stderr",
     "output_type": "stream",
     "text": [
      "\r",
      "Obtaining naive quantiles:   0%|          | 0/30 [00:00<?, ?it/s]"
     ]
    },
    {
     "name": "stderr",
     "output_type": "stream",
     "text": [
      "\r",
      "Obtaining naive quantiles:   3%|▎         | 1/30 [03:41<1:47:02, 221.48s/it]"
     ]
    },
    {
     "name": "stderr",
     "output_type": "stream",
     "text": [
      "\r",
      "Obtaining naive quantiles:   7%|▋         | 2/30 [07:33<1:46:22, 227.96s/it]"
     ]
    },
    {
     "name": "stderr",
     "output_type": "stream",
     "text": [
      "\r",
      "Obtaining naive quantiles:  10%|█         | 3/30 [11:20<1:42:22, 227.51s/it]"
     ]
    },
    {
     "name": "stderr",
     "output_type": "stream",
     "text": [
      "\r",
      "Obtaining naive quantiles:  13%|█▎        | 4/30 [14:53<1:36:05, 221.76s/it]"
     ]
    },
    {
     "name": "stderr",
     "output_type": "stream",
     "text": [
      "\r",
      "Obtaining naive quantiles:  17%|█▋        | 5/30 [18:21<1:30:20, 216.80s/it]"
     ]
    },
    {
     "name": "stderr",
     "output_type": "stream",
     "text": [
      "\r",
      "Obtaining naive quantiles:  20%|██        | 6/30 [21:39<1:24:04, 210.18s/it]"
     ]
    },
    {
     "name": "stderr",
     "output_type": "stream",
     "text": [
      "\r",
      "Obtaining naive quantiles:  23%|██▎       | 7/30 [24:56<1:18:57, 205.97s/it]"
     ]
    },
    {
     "name": "stderr",
     "output_type": "stream",
     "text": [
      "\r",
      "Obtaining naive quantiles:  27%|██▋       | 8/30 [27:42<1:10:48, 193.13s/it]"
     ]
    },
    {
     "name": "stderr",
     "output_type": "stream",
     "text": [
      "\r",
      "Obtaining naive quantiles:  30%|███       | 9/30 [30:21<1:03:52, 182.52s/it]"
     ]
    },
    {
     "name": "stderr",
     "output_type": "stream",
     "text": [
      "\r",
      "Obtaining naive quantiles:  33%|███▎      | 10/30 [32:46<56:57, 170.88s/it] "
     ]
    },
    {
     "name": "stderr",
     "output_type": "stream",
     "text": [
      "\r",
      "Obtaining naive quantiles:  37%|███▋      | 11/30 [34:59<50:27, 159.35s/it]"
     ]
    },
    {
     "name": "stderr",
     "output_type": "stream",
     "text": [
      "\r",
      "Obtaining naive quantiles:  40%|████      | 12/30 [37:00<44:18, 147.69s/it]"
     ]
    },
    {
     "name": "stderr",
     "output_type": "stream",
     "text": [
      "\r",
      "Obtaining naive quantiles:  43%|████▎     | 13/30 [38:52<38:48, 136.95s/it]"
     ]
    },
    {
     "name": "stderr",
     "output_type": "stream",
     "text": [
      "\r",
      "Obtaining naive quantiles:  47%|████▋     | 14/30 [40:44<34:28, 129.30s/it]"
     ]
    },
    {
     "name": "stderr",
     "output_type": "stream",
     "text": [
      "\r",
      "Obtaining naive quantiles:  50%|█████     | 15/30 [42:32<30:44, 122.96s/it]"
     ]
    },
    {
     "name": "stderr",
     "output_type": "stream",
     "text": [
      "\r",
      "Obtaining naive quantiles:  53%|█████▎    | 16/30 [44:14<27:13, 116.67s/it]"
     ]
    },
    {
     "name": "stderr",
     "output_type": "stream",
     "text": [
      "\r",
      "Obtaining naive quantiles:  57%|█████▋    | 17/30 [45:51<23:58, 110.62s/it]"
     ]
    },
    {
     "name": "stderr",
     "output_type": "stream",
     "text": [
      "\r",
      "Obtaining naive quantiles:  60%|██████    | 18/30 [47:30<21:27, 107.30s/it]"
     ]
    },
    {
     "name": "stderr",
     "output_type": "stream",
     "text": [
      "\r",
      "Obtaining naive quantiles:  63%|██████▎   | 19/30 [49:08<19:10, 104.58s/it]"
     ]
    },
    {
     "name": "stderr",
     "output_type": "stream",
     "text": [
      "\r",
      "Obtaining naive quantiles:  67%|██████▋   | 20/30 [50:47<17:06, 102.63s/it]"
     ]
    },
    {
     "name": "stderr",
     "output_type": "stream",
     "text": [
      "\r",
      "Obtaining naive quantiles:  70%|███████   | 21/30 [52:26<15:15, 101.70s/it]"
     ]
    },
    {
     "name": "stderr",
     "output_type": "stream",
     "text": [
      "\r",
      "Obtaining naive quantiles:  73%|███████▎  | 22/30 [54:09<13:37, 102.18s/it]"
     ]
    },
    {
     "name": "stderr",
     "output_type": "stream",
     "text": [
      "\r",
      "Obtaining naive quantiles:  77%|███████▋  | 23/30 [55:52<11:55, 102.17s/it]"
     ]
    },
    {
     "name": "stderr",
     "output_type": "stream",
     "text": [
      "\r",
      "Obtaining naive quantiles:  80%|████████  | 24/30 [57:43<10:29, 104.85s/it]"
     ]
    },
    {
     "name": "stderr",
     "output_type": "stream",
     "text": [
      "\r",
      "Obtaining naive quantiles:  83%|████████▎ | 25/30 [59:40<09:02, 108.46s/it]"
     ]
    },
    {
     "name": "stderr",
     "output_type": "stream",
     "text": [
      "\r",
      "Obtaining naive quantiles:  87%|████████▋ | 26/30 [1:01:49<07:39, 114.79s/it]"
     ]
    },
    {
     "name": "stderr",
     "output_type": "stream",
     "text": [
      "\r",
      "Obtaining naive quantiles:  90%|█████████ | 27/30 [1:04:07<06:05, 121.68s/it]"
     ]
    },
    {
     "name": "stderr",
     "output_type": "stream",
     "text": [
      "\r",
      "Obtaining naive quantiles:  93%|█████████▎| 28/30 [1:06:50<04:28, 134.15s/it]"
     ]
    },
    {
     "name": "stderr",
     "output_type": "stream",
     "text": [
      "\r",
      "Obtaining naive quantiles:  97%|█████████▋| 29/30 [1:09:56<02:29, 149.83s/it]"
     ]
    },
    {
     "name": "stderr",
     "output_type": "stream",
     "text": [
      "\r",
      "Obtaining naive quantiles: 100%|██████████| 30/30 [1:13:20<00:00, 165.99s/it]"
     ]
    },
    {
     "name": "stderr",
     "output_type": "stream",
     "text": [
      "\r",
      "Obtaining naive quantiles: 100%|██████████| 30/30 [1:13:20<00:00, 146.69s/it]"
     ]
    },
    {
     "name": "stdout",
     "output_type": "stream",
     "text": [
      "Naive running time: 4400.668137788773 seconds.\n"
     ]
    },
    {
     "name": "stderr",
     "output_type": "stream",
     "text": [
      "\n"
     ]
    }
   ],
   "source": [
    "# running naive\n",
    "N, B, alpha = 100, 1000, 0.05\n",
    "\n",
    "start_time = time.time()\n",
    "naive_quantiles = naive(alpha, n_grid = 30)\n",
    "end_time = time.time()\n",
    "\n",
    "running_time = end_time - start_time\n",
    "print(f\"Naive running time: {running_time} seconds.\")"
   ]
  },
  {
   "cell_type": "markdown",
   "id": "5e8914ac",
   "metadata": {},
   "source": [
    "Simulating $\\theta$ and $\\lambda$ to fit the models:\n"
   ]
  },
  {
   "cell_type": "code",
   "execution_count": 5,
   "id": "c2639a53",
   "metadata": {},
   "outputs": [
    {
     "name": "stderr",
     "output_type": "stream",
     "text": [
      "\r",
      "Simulating lambdas and thetas:   0%|          | 0/1000 [00:00<?, ?it/s]"
     ]
    },
    {
     "name": "stderr",
     "output_type": "stream",
     "text": [
      "\r",
      "Simulating lambdas and thetas:   0%|          | 2/1000 [00:00<01:18, 12.77it/s]"
     ]
    },
    {
     "name": "stderr",
     "output_type": "stream",
     "text": [
      "\r",
      "Simulating lambdas and thetas:   0%|          | 4/1000 [00:00<01:16, 13.07it/s]"
     ]
    },
    {
     "name": "stderr",
     "output_type": "stream",
     "text": [
      "\r",
      "Simulating lambdas and thetas:   1%|          | 6/1000 [00:00<01:29, 11.09it/s]"
     ]
    },
    {
     "name": "stderr",
     "output_type": "stream",
     "text": [
      "\r",
      "Simulating lambdas and thetas:   1%|          | 8/1000 [00:00<01:24, 11.72it/s]"
     ]
    },
    {
     "name": "stderr",
     "output_type": "stream",
     "text": [
      "\r",
      "Simulating lambdas and thetas:   1%|          | 10/1000 [00:00<01:37, 10.17it/s]"
     ]
    },
    {
     "name": "stderr",
     "output_type": "stream",
     "text": [
      "\r",
      "Simulating lambdas and thetas:   1%|          | 12/1000 [00:01<02:05,  7.84it/s]"
     ]
    },
    {
     "name": "stderr",
     "output_type": "stream",
     "text": [
      "\r",
      "Simulating lambdas and thetas:   1%|▏         | 13/1000 [00:01<02:01,  8.14it/s]"
     ]
    },
    {
     "name": "stderr",
     "output_type": "stream",
     "text": [
      "\r",
      "Simulating lambdas and thetas:   2%|▏         | 15/1000 [00:01<01:52,  8.75it/s]"
     ]
    },
    {
     "name": "stderr",
     "output_type": "stream",
     "text": [
      "\r",
      "Simulating lambdas and thetas:   2%|▏         | 17/1000 [00:01<01:43,  9.49it/s]"
     ]
    },
    {
     "name": "stderr",
     "output_type": "stream",
     "text": [
      "\r",
      "Simulating lambdas and thetas:   2%|▏         | 19/1000 [00:01<01:37, 10.08it/s]"
     ]
    },
    {
     "name": "stderr",
     "output_type": "stream",
     "text": [
      "\r",
      "Simulating lambdas and thetas:   2%|▏         | 21/1000 [00:02<02:05,  7.82it/s]"
     ]
    },
    {
     "name": "stderr",
     "output_type": "stream",
     "text": [
      "\r",
      "Simulating lambdas and thetas:   2%|▏         | 23/1000 [00:02<01:51,  8.78it/s]"
     ]
    },
    {
     "name": "stderr",
     "output_type": "stream",
     "text": [
      "\r",
      "Simulating lambdas and thetas:   2%|▎         | 25/1000 [00:02<01:57,  8.30it/s]"
     ]
    },
    {
     "name": "stderr",
     "output_type": "stream",
     "text": [
      "\r",
      "Simulating lambdas and thetas:   3%|▎         | 27/1000 [00:02<01:44,  9.31it/s]"
     ]
    },
    {
     "name": "stderr",
     "output_type": "stream",
     "text": [
      "\r",
      "Simulating lambdas and thetas:   3%|▎         | 29/1000 [00:03<01:39,  9.73it/s]"
     ]
    },
    {
     "name": "stderr",
     "output_type": "stream",
     "text": [
      "\r",
      "Simulating lambdas and thetas:   3%|▎         | 31/1000 [00:03<01:49,  8.81it/s]"
     ]
    },
    {
     "name": "stderr",
     "output_type": "stream",
     "text": [
      "\r",
      "Simulating lambdas and thetas:   3%|▎         | 33/1000 [00:03<01:40,  9.64it/s]"
     ]
    },
    {
     "name": "stderr",
     "output_type": "stream",
     "text": [
      "\r",
      "Simulating lambdas and thetas:   4%|▎         | 35/1000 [00:03<02:06,  7.66it/s]"
     ]
    },
    {
     "name": "stderr",
     "output_type": "stream",
     "text": [
      "\r",
      "Simulating lambdas and thetas:   4%|▎         | 37/1000 [00:04<02:04,  7.75it/s]"
     ]
    },
    {
     "name": "stderr",
     "output_type": "stream",
     "text": [
      "\r",
      "Simulating lambdas and thetas:   4%|▍         | 39/1000 [00:04<01:52,  8.54it/s]"
     ]
    },
    {
     "name": "stderr",
     "output_type": "stream",
     "text": [
      "\r",
      "Simulating lambdas and thetas:   4%|▍         | 40/1000 [00:04<02:00,  7.94it/s]"
     ]
    },
    {
     "name": "stderr",
     "output_type": "stream",
     "text": [
      "\r",
      "Simulating lambdas and thetas:   4%|▍         | 42/1000 [00:04<01:50,  8.70it/s]"
     ]
    },
    {
     "name": "stderr",
     "output_type": "stream",
     "text": [
      "\r",
      "Simulating lambdas and thetas:   4%|▍         | 43/1000 [00:05<02:24,  6.62it/s]"
     ]
    },
    {
     "name": "stderr",
     "output_type": "stream",
     "text": [
      "\r",
      "Simulating lambdas and thetas:   4%|▍         | 45/1000 [00:05<02:05,  7.60it/s]"
     ]
    },
    {
     "name": "stderr",
     "output_type": "stream",
     "text": [
      "\r",
      "Simulating lambdas and thetas:   5%|▍         | 47/1000 [00:05<01:57,  8.12it/s]"
     ]
    },
    {
     "name": "stderr",
     "output_type": "stream",
     "text": [
      "\r",
      "Simulating lambdas and thetas:   5%|▍         | 49/1000 [00:05<01:49,  8.69it/s]"
     ]
    },
    {
     "name": "stderr",
     "output_type": "stream",
     "text": [
      "\r",
      "Simulating lambdas and thetas:   5%|▌         | 50/1000 [00:05<01:47,  8.86it/s]"
     ]
    },
    {
     "name": "stderr",
     "output_type": "stream",
     "text": [
      "\r",
      "Simulating lambdas and thetas:   5%|▌         | 52/1000 [00:05<01:54,  8.26it/s]"
     ]
    },
    {
     "name": "stderr",
     "output_type": "stream",
     "text": [
      "\r",
      "Simulating lambdas and thetas:   5%|▌         | 54/1000 [00:06<01:49,  8.67it/s]"
     ]
    },
    {
     "name": "stderr",
     "output_type": "stream",
     "text": [
      "\r",
      "Simulating lambdas and thetas:   6%|▌         | 56/1000 [00:06<01:43,  9.15it/s]"
     ]
    },
    {
     "name": "stderr",
     "output_type": "stream",
     "text": [
      "\r",
      "Simulating lambdas and thetas:   6%|▌         | 58/1000 [00:06<01:36,  9.80it/s]"
     ]
    },
    {
     "name": "stderr",
     "output_type": "stream",
     "text": [
      "\r",
      "Simulating lambdas and thetas:   6%|▌         | 60/1000 [00:07<02:11,  7.13it/s]"
     ]
    },
    {
     "name": "stderr",
     "output_type": "stream",
     "text": [
      "\r",
      "Simulating lambdas and thetas:   6%|▌         | 62/1000 [00:07<01:59,  7.83it/s]"
     ]
    },
    {
     "name": "stderr",
     "output_type": "stream",
     "text": [
      "\r",
      "Simulating lambdas and thetas:   6%|▋         | 63/1000 [00:07<02:31,  6.17it/s]"
     ]
    },
    {
     "name": "stderr",
     "output_type": "stream",
     "text": [
      "\r",
      "Simulating lambdas and thetas:   6%|▋         | 65/1000 [00:07<02:06,  7.36it/s]"
     ]
    },
    {
     "name": "stderr",
     "output_type": "stream",
     "text": [
      "\r",
      "Simulating lambdas and thetas:   7%|▋         | 67/1000 [00:07<01:58,  7.85it/s]"
     ]
    },
    {
     "name": "stderr",
     "output_type": "stream",
     "text": [
      "\r",
      "Simulating lambdas and thetas:   7%|▋         | 69/1000 [00:08<01:44,  8.95it/s]"
     ]
    },
    {
     "name": "stderr",
     "output_type": "stream",
     "text": [
      "\r",
      "Simulating lambdas and thetas:   7%|▋         | 70/1000 [00:08<01:42,  9.09it/s]"
     ]
    },
    {
     "name": "stderr",
     "output_type": "stream",
     "text": [
      "\r",
      "Simulating lambdas and thetas:   7%|▋         | 72/1000 [00:08<01:38,  9.47it/s]"
     ]
    },
    {
     "name": "stderr",
     "output_type": "stream",
     "text": [
      "\r",
      "Simulating lambdas and thetas:   7%|▋         | 73/1000 [00:08<01:36,  9.56it/s]"
     ]
    },
    {
     "name": "stderr",
     "output_type": "stream",
     "text": [
      "\r",
      "Simulating lambdas and thetas:   8%|▊         | 75/1000 [00:08<02:03,  7.49it/s]"
     ]
    },
    {
     "name": "stderr",
     "output_type": "stream",
     "text": [
      "\r",
      "Simulating lambdas and thetas:   8%|▊         | 77/1000 [00:09<01:50,  8.33it/s]"
     ]
    },
    {
     "name": "stderr",
     "output_type": "stream",
     "text": [
      "\r",
      "Simulating lambdas and thetas:   8%|▊         | 79/1000 [00:09<01:40,  9.20it/s]"
     ]
    },
    {
     "name": "stderr",
     "output_type": "stream",
     "text": [
      "\r",
      "Simulating lambdas and thetas:   8%|▊         | 81/1000 [00:09<01:32,  9.91it/s]"
     ]
    },
    {
     "name": "stderr",
     "output_type": "stream",
     "text": [
      "\r",
      "Simulating lambdas and thetas:   8%|▊         | 83/1000 [00:09<02:24,  6.32it/s]"
     ]
    },
    {
     "name": "stderr",
     "output_type": "stream",
     "text": [
      "\r",
      "Simulating lambdas and thetas:   8%|▊         | 85/1000 [00:10<02:03,  7.41it/s]"
     ]
    },
    {
     "name": "stderr",
     "output_type": "stream",
     "text": [
      "\r",
      "Simulating lambdas and thetas:   9%|▊         | 87/1000 [00:10<02:18,  6.58it/s]"
     ]
    },
    {
     "name": "stderr",
     "output_type": "stream",
     "text": [
      "\r",
      "Simulating lambdas and thetas:   9%|▉         | 89/1000 [00:10<02:26,  6.20it/s]"
     ]
    },
    {
     "name": "stderr",
     "output_type": "stream",
     "text": [
      "\r",
      "Simulating lambdas and thetas:   9%|▉         | 91/1000 [00:11<02:09,  7.03it/s]"
     ]
    },
    {
     "name": "stderr",
     "output_type": "stream",
     "text": [
      "\r",
      "Simulating lambdas and thetas:   9%|▉         | 93/1000 [00:11<01:59,  7.56it/s]"
     ]
    },
    {
     "name": "stderr",
     "output_type": "stream",
     "text": [
      "\r",
      "Simulating lambdas and thetas:   9%|▉         | 94/1000 [00:11<01:55,  7.86it/s]"
     ]
    },
    {
     "name": "stderr",
     "output_type": "stream",
     "text": [
      "\r",
      "Simulating lambdas and thetas:  10%|▉         | 96/1000 [00:11<01:46,  8.51it/s]"
     ]
    },
    {
     "name": "stderr",
     "output_type": "stream",
     "text": [
      "\r",
      "Simulating lambdas and thetas:  10%|▉         | 97/1000 [00:11<02:15,  6.66it/s]"
     ]
    },
    {
     "name": "stderr",
     "output_type": "stream",
     "text": [
      "\r",
      "Simulating lambdas and thetas:  10%|▉         | 98/1000 [00:11<02:07,  7.05it/s]"
     ]
    },
    {
     "name": "stderr",
     "output_type": "stream",
     "text": [
      "\r",
      "Simulating lambdas and thetas:  10%|█         | 100/1000 [00:12<01:55,  7.80it/s]"
     ]
    },
    {
     "name": "stderr",
     "output_type": "stream",
     "text": [
      "\r",
      "Simulating lambdas and thetas:  10%|█         | 101/1000 [00:12<01:58,  7.57it/s]"
     ]
    },
    {
     "name": "stderr",
     "output_type": "stream",
     "text": [
      "\r",
      "Simulating lambdas and thetas:  10%|█         | 102/1000 [00:12<02:02,  7.33it/s]"
     ]
    },
    {
     "name": "stderr",
     "output_type": "stream",
     "text": [
      "\r",
      "Simulating lambdas and thetas:  10%|█         | 103/1000 [00:12<01:56,  7.71it/s]"
     ]
    },
    {
     "name": "stderr",
     "output_type": "stream",
     "text": [
      "\r",
      "Simulating lambdas and thetas:  10%|█         | 104/1000 [00:12<02:33,  5.84it/s]"
     ]
    },
    {
     "name": "stderr",
     "output_type": "stream",
     "text": [
      "\r",
      "Simulating lambdas and thetas:  11%|█         | 106/1000 [00:13<02:39,  5.61it/s]"
     ]
    },
    {
     "name": "stderr",
     "output_type": "stream",
     "text": [
      "\r",
      "Simulating lambdas and thetas:  11%|█         | 108/1000 [00:13<02:03,  7.22it/s]"
     ]
    },
    {
     "name": "stderr",
     "output_type": "stream",
     "text": [
      "\r",
      "Simulating lambdas and thetas:  11%|█         | 110/1000 [00:13<01:47,  8.30it/s]"
     ]
    },
    {
     "name": "stderr",
     "output_type": "stream",
     "text": [
      "\r",
      "Simulating lambdas and thetas:  11%|█         | 111/1000 [00:13<02:16,  6.50it/s]"
     ]
    },
    {
     "name": "stderr",
     "output_type": "stream",
     "text": [
      "\r",
      "Simulating lambdas and thetas:  11%|█         | 112/1000 [00:13<02:14,  6.62it/s]"
     ]
    },
    {
     "name": "stderr",
     "output_type": "stream",
     "text": [
      "\r",
      "Simulating lambdas and thetas:  11%|█▏        | 114/1000 [00:14<01:48,  8.16it/s]"
     ]
    },
    {
     "name": "stderr",
     "output_type": "stream",
     "text": [
      "\r",
      "Simulating lambdas and thetas:  12%|█▏        | 116/1000 [00:14<01:39,  8.92it/s]"
     ]
    },
    {
     "name": "stderr",
     "output_type": "stream",
     "text": [
      "\r",
      "Simulating lambdas and thetas:  12%|█▏        | 118/1000 [00:14<01:33,  9.42it/s]"
     ]
    },
    {
     "name": "stderr",
     "output_type": "stream",
     "text": [
      "\r",
      "Simulating lambdas and thetas:  12%|█▏        | 120/1000 [00:14<01:27, 10.07it/s]"
     ]
    },
    {
     "name": "stderr",
     "output_type": "stream",
     "text": [
      "\r",
      "Simulating lambdas and thetas:  12%|█▏        | 122/1000 [00:14<01:22, 10.62it/s]"
     ]
    },
    {
     "name": "stderr",
     "output_type": "stream",
     "text": [
      "\r",
      "Simulating lambdas and thetas:  12%|█▏        | 124/1000 [00:15<01:59,  7.34it/s]"
     ]
    },
    {
     "name": "stderr",
     "output_type": "stream",
     "text": [
      "\r",
      "Simulating lambdas and thetas:  13%|█▎        | 126/1000 [00:15<01:45,  8.30it/s]"
     ]
    },
    {
     "name": "stderr",
     "output_type": "stream",
     "text": [
      "\r",
      "Simulating lambdas and thetas:  13%|█▎        | 128/1000 [00:15<01:39,  8.79it/s]"
     ]
    },
    {
     "name": "stderr",
     "output_type": "stream",
     "text": [
      "\r",
      "Simulating lambdas and thetas:  13%|█▎        | 129/1000 [00:15<02:06,  6.86it/s]"
     ]
    },
    {
     "name": "stderr",
     "output_type": "stream",
     "text": [
      "\r",
      "Simulating lambdas and thetas:  13%|█▎        | 130/1000 [00:16<02:08,  6.80it/s]"
     ]
    },
    {
     "name": "stderr",
     "output_type": "stream",
     "text": [
      "\r",
      "Simulating lambdas and thetas:  13%|█▎        | 132/1000 [00:16<02:18,  6.25it/s]"
     ]
    },
    {
     "name": "stderr",
     "output_type": "stream",
     "text": [
      "\r",
      "Simulating lambdas and thetas:  13%|█▎        | 134/1000 [00:16<02:03,  7.04it/s]"
     ]
    },
    {
     "name": "stderr",
     "output_type": "stream",
     "text": [
      "\r",
      "Simulating lambdas and thetas:  14%|█▎        | 136/1000 [00:16<01:45,  8.19it/s]"
     ]
    },
    {
     "name": "stderr",
     "output_type": "stream",
     "text": [
      "\r",
      "Simulating lambdas and thetas:  14%|█▎        | 137/1000 [00:16<01:46,  8.07it/s]"
     ]
    },
    {
     "name": "stderr",
     "output_type": "stream",
     "text": [
      "\r",
      "Simulating lambdas and thetas:  14%|█▍        | 139/1000 [00:17<02:07,  6.77it/s]"
     ]
    },
    {
     "name": "stderr",
     "output_type": "stream",
     "text": [
      "\r",
      "Simulating lambdas and thetas:  14%|█▍        | 141/1000 [00:17<01:46,  8.08it/s]"
     ]
    },
    {
     "name": "stderr",
     "output_type": "stream",
     "text": [
      "\r",
      "Simulating lambdas and thetas:  14%|█▍        | 143/1000 [00:17<01:38,  8.70it/s]"
     ]
    },
    {
     "name": "stderr",
     "output_type": "stream",
     "text": [
      "\r",
      "Simulating lambdas and thetas:  14%|█▍        | 145/1000 [00:17<01:30,  9.48it/s]"
     ]
    },
    {
     "name": "stderr",
     "output_type": "stream",
     "text": [
      "\r",
      "Simulating lambdas and thetas:  15%|█▍        | 147/1000 [00:18<01:21, 10.41it/s]"
     ]
    },
    {
     "name": "stderr",
     "output_type": "stream",
     "text": [
      "\r",
      "Simulating lambdas and thetas:  15%|█▍        | 149/1000 [00:18<02:12,  6.42it/s]"
     ]
    },
    {
     "name": "stderr",
     "output_type": "stream",
     "text": [
      "\r",
      "Simulating lambdas and thetas:  15%|█▌        | 150/1000 [00:18<02:11,  6.48it/s]"
     ]
    },
    {
     "name": "stderr",
     "output_type": "stream",
     "text": [
      "\r",
      "Simulating lambdas and thetas:  15%|█▌        | 152/1000 [00:18<01:51,  7.64it/s]"
     ]
    },
    {
     "name": "stderr",
     "output_type": "stream",
     "text": [
      "\r",
      "Simulating lambdas and thetas:  15%|█▌        | 153/1000 [00:19<02:18,  6.10it/s]"
     ]
    },
    {
     "name": "stderr",
     "output_type": "stream",
     "text": [
      "\r",
      "Simulating lambdas and thetas:  16%|█▌        | 155/1000 [00:19<02:25,  5.80it/s]"
     ]
    },
    {
     "name": "stderr",
     "output_type": "stream",
     "text": [
      "\r",
      "Simulating lambdas and thetas:  16%|█▌        | 157/1000 [00:19<02:01,  6.95it/s]"
     ]
    },
    {
     "name": "stderr",
     "output_type": "stream",
     "text": [
      "\r",
      "Simulating lambdas and thetas:  16%|█▌        | 159/1000 [00:19<01:44,  8.01it/s]"
     ]
    },
    {
     "name": "stderr",
     "output_type": "stream",
     "text": [
      "\r",
      "Simulating lambdas and thetas:  16%|█▌        | 161/1000 [00:20<01:34,  8.90it/s]"
     ]
    },
    {
     "name": "stderr",
     "output_type": "stream",
     "text": [
      "\r",
      "Simulating lambdas and thetas:  16%|█▋        | 163/1000 [00:20<01:24,  9.94it/s]"
     ]
    },
    {
     "name": "stderr",
     "output_type": "stream",
     "text": [
      "\r",
      "Simulating lambdas and thetas:  16%|█▋        | 165/1000 [00:20<01:27,  9.50it/s]"
     ]
    },
    {
     "name": "stderr",
     "output_type": "stream",
     "text": [
      "\r",
      "Simulating lambdas and thetas:  17%|█▋        | 167/1000 [00:20<01:28,  9.38it/s]"
     ]
    },
    {
     "name": "stderr",
     "output_type": "stream",
     "text": [
      "\r",
      "Simulating lambdas and thetas:  17%|█▋        | 169/1000 [00:20<01:20, 10.31it/s]"
     ]
    },
    {
     "name": "stderr",
     "output_type": "stream",
     "text": [
      "\r",
      "Simulating lambdas and thetas:  17%|█▋        | 171/1000 [00:21<01:43,  8.03it/s]"
     ]
    },
    {
     "name": "stderr",
     "output_type": "stream",
     "text": [
      "\r",
      "Simulating lambdas and thetas:  17%|█▋        | 172/1000 [00:21<01:40,  8.28it/s]"
     ]
    },
    {
     "name": "stderr",
     "output_type": "stream",
     "text": [
      "\r",
      "Simulating lambdas and thetas:  17%|█▋        | 173/1000 [00:21<02:07,  6.50it/s]"
     ]
    },
    {
     "name": "stderr",
     "output_type": "stream",
     "text": [
      "\r",
      "Simulating lambdas and thetas:  17%|█▋        | 174/1000 [00:21<02:31,  5.45it/s]"
     ]
    },
    {
     "name": "stderr",
     "output_type": "stream",
     "text": [
      "\r",
      "Simulating lambdas and thetas:  18%|█▊        | 175/1000 [00:22<02:52,  4.79it/s]"
     ]
    },
    {
     "name": "stderr",
     "output_type": "stream",
     "text": [
      "\r",
      "Simulating lambdas and thetas:  18%|█▊        | 177/1000 [00:22<02:24,  5.68it/s]"
     ]
    },
    {
     "name": "stderr",
     "output_type": "stream",
     "text": [
      "\r",
      "Simulating lambdas and thetas:  18%|█▊        | 179/1000 [00:22<02:04,  6.58it/s]"
     ]
    },
    {
     "name": "stderr",
     "output_type": "stream",
     "text": [
      "\r",
      "Simulating lambdas and thetas:  18%|█▊        | 180/1000 [00:22<01:56,  7.06it/s]"
     ]
    },
    {
     "name": "stderr",
     "output_type": "stream",
     "text": [
      "\r",
      "Simulating lambdas and thetas:  18%|█▊        | 182/1000 [00:22<01:35,  8.59it/s]"
     ]
    },
    {
     "name": "stderr",
     "output_type": "stream",
     "text": [
      "\r",
      "Simulating lambdas and thetas:  18%|█▊        | 183/1000 [00:23<01:32,  8.81it/s]"
     ]
    },
    {
     "name": "stderr",
     "output_type": "stream",
     "text": [
      "\r",
      "Simulating lambdas and thetas:  18%|█▊        | 185/1000 [00:23<01:23,  9.79it/s]"
     ]
    },
    {
     "name": "stderr",
     "output_type": "stream",
     "text": [
      "\r",
      "Simulating lambdas and thetas:  19%|█▊        | 187/1000 [00:23<01:29,  9.05it/s]"
     ]
    },
    {
     "name": "stderr",
     "output_type": "stream",
     "text": [
      "\r",
      "Simulating lambdas and thetas:  19%|█▉        | 188/1000 [00:23<01:33,  8.72it/s]"
     ]
    },
    {
     "name": "stderr",
     "output_type": "stream",
     "text": [
      "\r",
      "Simulating lambdas and thetas:  19%|█▉        | 189/1000 [00:23<02:03,  6.57it/s]"
     ]
    },
    {
     "name": "stderr",
     "output_type": "stream",
     "text": [
      "\r",
      "Simulating lambdas and thetas:  19%|█▉        | 191/1000 [00:24<01:38,  8.19it/s]"
     ]
    },
    {
     "name": "stderr",
     "output_type": "stream",
     "text": [
      "\r",
      "Simulating lambdas and thetas:  19%|█▉        | 193/1000 [00:24<01:31,  8.84it/s]"
     ]
    },
    {
     "name": "stderr",
     "output_type": "stream",
     "text": [
      "\r",
      "Simulating lambdas and thetas:  20%|█▉        | 195/1000 [00:24<01:25,  9.42it/s]"
     ]
    },
    {
     "name": "stderr",
     "output_type": "stream",
     "text": [
      "\r",
      "Simulating lambdas and thetas:  20%|█▉        | 197/1000 [00:24<01:20,  9.92it/s]"
     ]
    },
    {
     "name": "stderr",
     "output_type": "stream",
     "text": [
      "\r",
      "Simulating lambdas and thetas:  20%|█▉        | 199/1000 [00:24<01:14, 10.71it/s]"
     ]
    },
    {
     "name": "stderr",
     "output_type": "stream",
     "text": [
      "\r",
      "Simulating lambdas and thetas:  20%|██        | 201/1000 [00:24<01:13, 10.88it/s]"
     ]
    },
    {
     "name": "stderr",
     "output_type": "stream",
     "text": [
      "\r",
      "Simulating lambdas and thetas:  20%|██        | 203/1000 [00:25<01:13, 10.88it/s]"
     ]
    },
    {
     "name": "stderr",
     "output_type": "stream",
     "text": [
      "\r",
      "Simulating lambdas and thetas:  20%|██        | 205/1000 [00:25<01:13, 10.76it/s]"
     ]
    },
    {
     "name": "stderr",
     "output_type": "stream",
     "text": [
      "\r",
      "Simulating lambdas and thetas:  21%|██        | 207/1000 [00:25<01:50,  7.20it/s]"
     ]
    },
    {
     "name": "stderr",
     "output_type": "stream",
     "text": [
      "\r",
      "Simulating lambdas and thetas:  21%|██        | 208/1000 [00:25<01:46,  7.46it/s]"
     ]
    },
    {
     "name": "stderr",
     "output_type": "stream",
     "text": [
      "\r",
      "Simulating lambdas and thetas:  21%|██        | 209/1000 [00:26<02:12,  5.96it/s]"
     ]
    },
    {
     "name": "stderr",
     "output_type": "stream",
     "text": [
      "\r",
      "Simulating lambdas and thetas:  21%|██        | 211/1000 [00:26<01:44,  7.52it/s]"
     ]
    },
    {
     "name": "stderr",
     "output_type": "stream",
     "text": [
      "\r",
      "Simulating lambdas and thetas:  21%|██▏       | 213/1000 [00:26<01:39,  7.93it/s]"
     ]
    },
    {
     "name": "stderr",
     "output_type": "stream",
     "text": [
      "\r",
      "Simulating lambdas and thetas:  22%|██▏       | 215/1000 [00:26<01:31,  8.61it/s]"
     ]
    },
    {
     "name": "stderr",
     "output_type": "stream",
     "text": [
      "\r",
      "Simulating lambdas and thetas:  22%|██▏       | 217/1000 [00:26<01:24,  9.32it/s]"
     ]
    },
    {
     "name": "stderr",
     "output_type": "stream",
     "text": [
      "\r",
      "Simulating lambdas and thetas:  22%|██▏       | 219/1000 [00:27<01:18,  9.89it/s]"
     ]
    },
    {
     "name": "stderr",
     "output_type": "stream",
     "text": [
      "\r",
      "Simulating lambdas and thetas:  22%|██▏       | 221/1000 [00:27<01:15, 10.38it/s]"
     ]
    },
    {
     "name": "stderr",
     "output_type": "stream",
     "text": [
      "\r",
      "Simulating lambdas and thetas:  22%|██▏       | 223/1000 [00:27<01:15, 10.34it/s]"
     ]
    },
    {
     "name": "stderr",
     "output_type": "stream",
     "text": [
      "\r",
      "Simulating lambdas and thetas:  22%|██▎       | 225/1000 [00:27<01:14, 10.45it/s]"
     ]
    },
    {
     "name": "stderr",
     "output_type": "stream",
     "text": [
      "\r",
      "Simulating lambdas and thetas:  23%|██▎       | 227/1000 [00:27<01:11, 10.87it/s]"
     ]
    },
    {
     "name": "stderr",
     "output_type": "stream",
     "text": [
      "\r",
      "Simulating lambdas and thetas:  23%|██▎       | 229/1000 [00:28<01:36,  8.00it/s]"
     ]
    },
    {
     "name": "stderr",
     "output_type": "stream",
     "text": [
      "\r",
      "Simulating lambdas and thetas:  23%|██▎       | 230/1000 [00:28<01:39,  7.76it/s]"
     ]
    },
    {
     "name": "stderr",
     "output_type": "stream",
     "text": [
      "\r",
      "Simulating lambdas and thetas:  23%|██▎       | 232/1000 [00:28<01:40,  7.68it/s]"
     ]
    },
    {
     "name": "stderr",
     "output_type": "stream",
     "text": [
      "\r",
      "Simulating lambdas and thetas:  23%|██▎       | 234/1000 [00:28<01:36,  7.95it/s]"
     ]
    },
    {
     "name": "stderr",
     "output_type": "stream",
     "text": [
      "\r",
      "Simulating lambdas and thetas:  24%|██▎       | 236/1000 [00:29<01:36,  7.95it/s]"
     ]
    },
    {
     "name": "stderr",
     "output_type": "stream",
     "text": [
      "\r",
      "Simulating lambdas and thetas:  24%|██▍       | 238/1000 [00:29<01:27,  8.72it/s]"
     ]
    },
    {
     "name": "stderr",
     "output_type": "stream",
     "text": [
      "\r",
      "Simulating lambdas and thetas:  24%|██▍       | 240/1000 [00:29<01:20,  9.41it/s]"
     ]
    },
    {
     "name": "stderr",
     "output_type": "stream",
     "text": [
      "\r",
      "Simulating lambdas and thetas:  24%|██▍       | 241/1000 [00:29<01:46,  7.12it/s]"
     ]
    },
    {
     "name": "stderr",
     "output_type": "stream",
     "text": [
      "\r",
      "Simulating lambdas and thetas:  24%|██▍       | 243/1000 [00:29<01:29,  8.50it/s]"
     ]
    },
    {
     "name": "stderr",
     "output_type": "stream",
     "text": [
      "\r",
      "Simulating lambdas and thetas:  24%|██▍       | 245/1000 [00:30<01:21,  9.23it/s]"
     ]
    },
    {
     "name": "stderr",
     "output_type": "stream",
     "text": [
      "\r",
      "Simulating lambdas and thetas:  25%|██▍       | 247/1000 [00:30<01:42,  7.33it/s]"
     ]
    },
    {
     "name": "stderr",
     "output_type": "stream",
     "text": [
      "\r",
      "Simulating lambdas and thetas:  25%|██▍       | 248/1000 [00:30<02:04,  6.03it/s]"
     ]
    },
    {
     "name": "stderr",
     "output_type": "stream",
     "text": [
      "\r",
      "Simulating lambdas and thetas:  25%|██▍       | 249/1000 [00:30<02:00,  6.24it/s]"
     ]
    },
    {
     "name": "stderr",
     "output_type": "stream",
     "text": [
      "\r",
      "Simulating lambdas and thetas:  25%|██▌       | 250/1000 [00:31<01:49,  6.83it/s]"
     ]
    },
    {
     "name": "stderr",
     "output_type": "stream",
     "text": [
      "\r",
      "Simulating lambdas and thetas:  25%|██▌       | 252/1000 [00:31<01:31,  8.18it/s]"
     ]
    },
    {
     "name": "stderr",
     "output_type": "stream",
     "text": [
      "\r",
      "Simulating lambdas and thetas:  25%|██▌       | 254/1000 [00:31<01:48,  6.85it/s]"
     ]
    },
    {
     "name": "stderr",
     "output_type": "stream",
     "text": [
      "\r",
      "Simulating lambdas and thetas:  26%|██▌       | 255/1000 [00:31<01:45,  7.06it/s]"
     ]
    },
    {
     "name": "stderr",
     "output_type": "stream",
     "text": [
      "\r",
      "Simulating lambdas and thetas:  26%|██▌       | 257/1000 [00:32<01:57,  6.34it/s]"
     ]
    },
    {
     "name": "stderr",
     "output_type": "stream",
     "text": [
      "\r",
      "Simulating lambdas and thetas:  26%|██▌       | 258/1000 [00:32<01:49,  6.75it/s]"
     ]
    },
    {
     "name": "stderr",
     "output_type": "stream",
     "text": [
      "\r",
      "Simulating lambdas and thetas:  26%|██▌       | 260/1000 [00:32<01:29,  8.24it/s]"
     ]
    },
    {
     "name": "stderr",
     "output_type": "stream",
     "text": [
      "\r",
      "Simulating lambdas and thetas:  26%|██▌       | 262/1000 [00:32<01:31,  8.09it/s]"
     ]
    },
    {
     "name": "stderr",
     "output_type": "stream",
     "text": [
      "\r",
      "Simulating lambdas and thetas:  26%|██▋       | 264/1000 [00:32<01:48,  6.78it/s]"
     ]
    },
    {
     "name": "stderr",
     "output_type": "stream",
     "text": [
      "\r",
      "Simulating lambdas and thetas:  26%|██▋       | 265/1000 [00:33<01:50,  6.63it/s]"
     ]
    },
    {
     "name": "stderr",
     "output_type": "stream",
     "text": [
      "\r",
      "Simulating lambdas and thetas:  27%|██▋       | 267/1000 [00:33<01:59,  6.12it/s]"
     ]
    },
    {
     "name": "stderr",
     "output_type": "stream",
     "text": [
      "\r",
      "Simulating lambdas and thetas:  27%|██▋       | 268/1000 [00:33<01:56,  6.28it/s]"
     ]
    },
    {
     "name": "stderr",
     "output_type": "stream",
     "text": [
      "\r",
      "Simulating lambdas and thetas:  27%|██▋       | 270/1000 [00:33<01:46,  6.86it/s]"
     ]
    },
    {
     "name": "stderr",
     "output_type": "stream",
     "text": [
      "\r",
      "Simulating lambdas and thetas:  27%|██▋       | 271/1000 [00:34<01:39,  7.32it/s]"
     ]
    },
    {
     "name": "stderr",
     "output_type": "stream",
     "text": [
      "\r",
      "Simulating lambdas and thetas:  27%|██▋       | 273/1000 [00:34<01:23,  8.69it/s]"
     ]
    },
    {
     "name": "stderr",
     "output_type": "stream",
     "text": [
      "\r",
      "Simulating lambdas and thetas:  28%|██▊       | 275/1000 [00:34<01:16,  9.42it/s]"
     ]
    },
    {
     "name": "stderr",
     "output_type": "stream",
     "text": [
      "\r",
      "Simulating lambdas and thetas:  28%|██▊       | 277/1000 [00:34<01:09, 10.44it/s]"
     ]
    },
    {
     "name": "stderr",
     "output_type": "stream",
     "text": [
      "\r",
      "Simulating lambdas and thetas:  28%|██▊       | 279/1000 [00:34<01:08, 10.55it/s]"
     ]
    },
    {
     "name": "stderr",
     "output_type": "stream",
     "text": [
      "\r",
      "Simulating lambdas and thetas:  28%|██▊       | 281/1000 [00:34<01:04, 11.21it/s]"
     ]
    },
    {
     "name": "stderr",
     "output_type": "stream",
     "text": [
      "\r",
      "Simulating lambdas and thetas:  28%|██▊       | 283/1000 [00:35<01:01, 11.70it/s]"
     ]
    },
    {
     "name": "stderr",
     "output_type": "stream",
     "text": [
      "\r",
      "Simulating lambdas and thetas:  28%|██▊       | 285/1000 [00:35<01:12,  9.89it/s]"
     ]
    },
    {
     "name": "stderr",
     "output_type": "stream",
     "text": [
      "\r",
      "Simulating lambdas and thetas:  29%|██▊       | 287/1000 [00:35<01:08, 10.42it/s]"
     ]
    },
    {
     "name": "stderr",
     "output_type": "stream",
     "text": [
      "\r",
      "Simulating lambdas and thetas:  29%|██▉       | 289/1000 [00:35<01:04, 11.04it/s]"
     ]
    },
    {
     "name": "stderr",
     "output_type": "stream",
     "text": [
      "\r",
      "Simulating lambdas and thetas:  29%|██▉       | 291/1000 [00:35<01:10, 10.08it/s]"
     ]
    },
    {
     "name": "stderr",
     "output_type": "stream",
     "text": [
      "\r",
      "Simulating lambdas and thetas:  29%|██▉       | 293/1000 [00:36<01:28,  7.99it/s]"
     ]
    },
    {
     "name": "stderr",
     "output_type": "stream",
     "text": [
      "\r",
      "Simulating lambdas and thetas:  29%|██▉       | 294/1000 [00:36<01:48,  6.49it/s]"
     ]
    },
    {
     "name": "stderr",
     "output_type": "stream",
     "text": [
      "\r",
      "Simulating lambdas and thetas:  30%|██▉       | 295/1000 [00:36<01:41,  6.95it/s]"
     ]
    },
    {
     "name": "stderr",
     "output_type": "stream",
     "text": [
      "\r",
      "Simulating lambdas and thetas:  30%|██▉       | 296/1000 [00:36<01:34,  7.42it/s]"
     ]
    },
    {
     "name": "stderr",
     "output_type": "stream",
     "text": [
      "\r",
      "Simulating lambdas and thetas:  30%|██▉       | 297/1000 [00:36<01:30,  7.75it/s]"
     ]
    },
    {
     "name": "stderr",
     "output_type": "stream",
     "text": [
      "\r",
      "Simulating lambdas and thetas:  30%|██▉       | 299/1000 [00:36<01:18,  8.93it/s]"
     ]
    },
    {
     "name": "stderr",
     "output_type": "stream",
     "text": [
      "\r",
      "Simulating lambdas and thetas:  30%|███       | 300/1000 [00:37<01:47,  6.53it/s]"
     ]
    },
    {
     "name": "stderr",
     "output_type": "stream",
     "text": [
      "\r",
      "Simulating lambdas and thetas:  30%|███       | 302/1000 [00:37<01:28,  7.88it/s]"
     ]
    },
    {
     "name": "stderr",
     "output_type": "stream",
     "text": [
      "\r",
      "Simulating lambdas and thetas:  30%|███       | 303/1000 [00:37<01:53,  6.16it/s]"
     ]
    },
    {
     "name": "stderr",
     "output_type": "stream",
     "text": [
      "\r",
      "Simulating lambdas and thetas:  30%|███       | 304/1000 [00:38<02:13,  5.21it/s]"
     ]
    },
    {
     "name": "stderr",
     "output_type": "stream",
     "text": [
      "\r",
      "Simulating lambdas and thetas:  30%|███       | 305/1000 [00:38<02:30,  4.62it/s]"
     ]
    },
    {
     "name": "stderr",
     "output_type": "stream",
     "text": [
      "\r",
      "Simulating lambdas and thetas:  31%|███       | 306/1000 [00:38<02:11,  5.26it/s]"
     ]
    },
    {
     "name": "stderr",
     "output_type": "stream",
     "text": [
      "\r",
      "Simulating lambdas and thetas:  31%|███       | 308/1000 [00:38<01:42,  6.78it/s]"
     ]
    },
    {
     "name": "stderr",
     "output_type": "stream",
     "text": [
      "\r",
      "Simulating lambdas and thetas:  31%|███       | 310/1000 [00:38<01:25,  8.09it/s]"
     ]
    },
    {
     "name": "stderr",
     "output_type": "stream",
     "text": [
      "\r",
      "Simulating lambdas and thetas:  31%|███       | 311/1000 [00:39<01:49,  6.28it/s]"
     ]
    },
    {
     "name": "stderr",
     "output_type": "stream",
     "text": [
      "\r",
      "Simulating lambdas and thetas:  31%|███▏      | 313/1000 [00:39<01:57,  5.86it/s]"
     ]
    },
    {
     "name": "stderr",
     "output_type": "stream",
     "text": [
      "\r",
      "Simulating lambdas and thetas:  31%|███▏      | 314/1000 [00:39<02:13,  5.13it/s]"
     ]
    },
    {
     "name": "stderr",
     "output_type": "stream",
     "text": [
      "\r",
      "Simulating lambdas and thetas:  32%|███▏      | 315/1000 [00:40<02:28,  4.61it/s]"
     ]
    },
    {
     "name": "stderr",
     "output_type": "stream",
     "text": [
      "\r",
      "Simulating lambdas and thetas:  32%|███▏      | 316/1000 [00:40<02:41,  4.22it/s]"
     ]
    },
    {
     "name": "stderr",
     "output_type": "stream",
     "text": [
      "\r",
      "Simulating lambdas and thetas:  32%|███▏      | 317/1000 [00:40<02:34,  4.43it/s]"
     ]
    },
    {
     "name": "stderr",
     "output_type": "stream",
     "text": [
      "\r",
      "Simulating lambdas and thetas:  32%|███▏      | 319/1000 [00:40<01:58,  5.76it/s]"
     ]
    },
    {
     "name": "stderr",
     "output_type": "stream",
     "text": [
      "\r",
      "Simulating lambdas and thetas:  32%|███▏      | 321/1000 [00:40<01:35,  7.11it/s]"
     ]
    },
    {
     "name": "stderr",
     "output_type": "stream",
     "text": [
      "\r",
      "Simulating lambdas and thetas:  32%|███▏      | 322/1000 [00:41<01:30,  7.49it/s]"
     ]
    },
    {
     "name": "stderr",
     "output_type": "stream",
     "text": [
      "\r",
      "Simulating lambdas and thetas:  32%|███▏      | 324/1000 [00:41<01:16,  8.88it/s]"
     ]
    },
    {
     "name": "stderr",
     "output_type": "stream",
     "text": [
      "\r",
      "Simulating lambdas and thetas:  32%|███▎      | 325/1000 [00:41<01:41,  6.67it/s]"
     ]
    },
    {
     "name": "stderr",
     "output_type": "stream",
     "text": [
      "\r",
      "Simulating lambdas and thetas:  33%|███▎      | 327/1000 [00:41<01:48,  6.21it/s]"
     ]
    },
    {
     "name": "stderr",
     "output_type": "stream",
     "text": [
      "\r",
      "Simulating lambdas and thetas:  33%|███▎      | 329/1000 [00:41<01:29,  7.53it/s]"
     ]
    },
    {
     "name": "stderr",
     "output_type": "stream",
     "text": [
      "\r",
      "Simulating lambdas and thetas:  33%|███▎      | 330/1000 [00:42<01:30,  7.39it/s]"
     ]
    },
    {
     "name": "stderr",
     "output_type": "stream",
     "text": [
      "\r",
      "Simulating lambdas and thetas:  33%|███▎      | 332/1000 [00:42<01:43,  6.44it/s]"
     ]
    },
    {
     "name": "stderr",
     "output_type": "stream",
     "text": [
      "\r",
      "Simulating lambdas and thetas:  33%|███▎      | 334/1000 [00:42<01:26,  7.69it/s]"
     ]
    },
    {
     "name": "stderr",
     "output_type": "stream",
     "text": [
      "\r",
      "Simulating lambdas and thetas:  34%|███▎      | 335/1000 [00:42<01:30,  7.37it/s]"
     ]
    },
    {
     "name": "stderr",
     "output_type": "stream",
     "text": [
      "\r",
      "Simulating lambdas and thetas:  34%|███▎      | 336/1000 [00:43<01:42,  6.48it/s]"
     ]
    },
    {
     "name": "stderr",
     "output_type": "stream",
     "text": [
      "\r",
      "Simulating lambdas and thetas:  34%|███▎      | 337/1000 [00:43<02:11,  5.04it/s]"
     ]
    },
    {
     "name": "stderr",
     "output_type": "stream",
     "text": [
      "\r",
      "Simulating lambdas and thetas:  34%|███▍      | 339/1000 [00:43<02:08,  5.13it/s]"
     ]
    },
    {
     "name": "stderr",
     "output_type": "stream",
     "text": [
      "\r",
      "Simulating lambdas and thetas:  34%|███▍      | 341/1000 [00:43<01:42,  6.44it/s]"
     ]
    },
    {
     "name": "stderr",
     "output_type": "stream",
     "text": [
      "\r",
      "Simulating lambdas and thetas:  34%|███▍      | 342/1000 [00:44<01:34,  6.94it/s]"
     ]
    },
    {
     "name": "stderr",
     "output_type": "stream",
     "text": [
      "\r",
      "Simulating lambdas and thetas:  34%|███▍      | 344/1000 [00:44<01:46,  6.17it/s]"
     ]
    },
    {
     "name": "stderr",
     "output_type": "stream",
     "text": [
      "\r",
      "Simulating lambdas and thetas:  34%|███▍      | 345/1000 [00:44<02:06,  5.18it/s]"
     ]
    },
    {
     "name": "stderr",
     "output_type": "stream",
     "text": [
      "\r",
      "Simulating lambdas and thetas:  35%|███▍      | 346/1000 [00:44<01:52,  5.83it/s]"
     ]
    },
    {
     "name": "stderr",
     "output_type": "stream",
     "text": [
      "\r",
      "Simulating lambdas and thetas:  35%|███▍      | 348/1000 [00:45<01:59,  5.47it/s]"
     ]
    },
    {
     "name": "stderr",
     "output_type": "stream",
     "text": [
      "\r",
      "Simulating lambdas and thetas:  35%|███▍      | 349/1000 [00:45<02:09,  5.02it/s]"
     ]
    },
    {
     "name": "stderr",
     "output_type": "stream",
     "text": [
      "\r",
      "Simulating lambdas and thetas:  35%|███▌      | 350/1000 [00:45<02:24,  4.51it/s]"
     ]
    },
    {
     "name": "stderr",
     "output_type": "stream",
     "text": [
      "\r",
      "Simulating lambdas and thetas:  35%|███▌      | 351/1000 [00:46<02:34,  4.20it/s]"
     ]
    },
    {
     "name": "stderr",
     "output_type": "stream",
     "text": [
      "\r",
      "Simulating lambdas and thetas:  35%|███▌      | 353/1000 [00:46<01:51,  5.82it/s]"
     ]
    },
    {
     "name": "stderr",
     "output_type": "stream",
     "text": [
      "\r",
      "Simulating lambdas and thetas:  35%|███▌      | 354/1000 [00:46<01:43,  6.26it/s]"
     ]
    },
    {
     "name": "stderr",
     "output_type": "stream",
     "text": [
      "\r",
      "Simulating lambdas and thetas:  36%|███▌      | 356/1000 [00:46<01:47,  6.00it/s]"
     ]
    },
    {
     "name": "stderr",
     "output_type": "stream",
     "text": [
      "\r",
      "Simulating lambdas and thetas:  36%|███▌      | 358/1000 [00:47<01:53,  5.63it/s]"
     ]
    },
    {
     "name": "stderr",
     "output_type": "stream",
     "text": [
      "\r",
      "Simulating lambdas and thetas:  36%|███▌      | 360/1000 [00:47<01:34,  6.79it/s]"
     ]
    },
    {
     "name": "stderr",
     "output_type": "stream",
     "text": [
      "\r",
      "Simulating lambdas and thetas:  36%|███▌      | 362/1000 [00:47<01:19,  8.00it/s]"
     ]
    },
    {
     "name": "stderr",
     "output_type": "stream",
     "text": [
      "\r",
      "Simulating lambdas and thetas:  36%|███▋      | 363/1000 [00:47<01:23,  7.62it/s]"
     ]
    },
    {
     "name": "stderr",
     "output_type": "stream",
     "text": [
      "\r",
      "Simulating lambdas and thetas:  36%|███▋      | 364/1000 [00:47<01:30,  6.99it/s]"
     ]
    },
    {
     "name": "stderr",
     "output_type": "stream",
     "text": [
      "\r",
      "Simulating lambdas and thetas:  37%|███▋      | 366/1000 [00:47<01:17,  8.15it/s]"
     ]
    },
    {
     "name": "stderr",
     "output_type": "stream",
     "text": [
      "\r",
      "Simulating lambdas and thetas:  37%|███▋      | 368/1000 [00:48<01:25,  7.41it/s]"
     ]
    },
    {
     "name": "stderr",
     "output_type": "stream",
     "text": [
      "\r",
      "Simulating lambdas and thetas:  37%|███▋      | 369/1000 [00:48<01:47,  5.89it/s]"
     ]
    },
    {
     "name": "stderr",
     "output_type": "stream",
     "text": [
      "\r",
      "Simulating lambdas and thetas:  37%|███▋      | 371/1000 [00:48<01:30,  6.98it/s]"
     ]
    },
    {
     "name": "stderr",
     "output_type": "stream",
     "text": [
      "\r",
      "Simulating lambdas and thetas:  37%|███▋      | 373/1000 [00:48<01:18,  8.02it/s]"
     ]
    },
    {
     "name": "stderr",
     "output_type": "stream",
     "text": [
      "\r",
      "Simulating lambdas and thetas:  37%|███▋      | 374/1000 [00:49<01:40,  6.21it/s]"
     ]
    },
    {
     "name": "stderr",
     "output_type": "stream",
     "text": [
      "\r",
      "Simulating lambdas and thetas:  38%|███▊      | 375/1000 [00:49<01:58,  5.29it/s]"
     ]
    },
    {
     "name": "stderr",
     "output_type": "stream",
     "text": [
      "\r",
      "Simulating lambdas and thetas:  38%|███▊      | 377/1000 [00:49<01:30,  6.88it/s]"
     ]
    },
    {
     "name": "stderr",
     "output_type": "stream",
     "text": [
      "\r",
      "Simulating lambdas and thetas:  38%|███▊      | 378/1000 [00:49<01:26,  7.23it/s]"
     ]
    },
    {
     "name": "stderr",
     "output_type": "stream",
     "text": [
      "\r",
      "Simulating lambdas and thetas:  38%|███▊      | 380/1000 [00:50<01:39,  6.23it/s]"
     ]
    },
    {
     "name": "stderr",
     "output_type": "stream",
     "text": [
      "\r",
      "Simulating lambdas and thetas:  38%|███▊      | 381/1000 [00:50<01:33,  6.61it/s]"
     ]
    },
    {
     "name": "stderr",
     "output_type": "stream",
     "text": [
      "\r",
      "Simulating lambdas and thetas:  38%|███▊      | 382/1000 [00:50<01:35,  6.51it/s]"
     ]
    },
    {
     "name": "stderr",
     "output_type": "stream",
     "text": [
      "\r",
      "Simulating lambdas and thetas:  38%|███▊      | 383/1000 [00:50<01:41,  6.09it/s]"
     ]
    },
    {
     "name": "stderr",
     "output_type": "stream",
     "text": [
      "\r",
      "Simulating lambdas and thetas:  38%|███▊      | 385/1000 [00:50<01:18,  7.79it/s]"
     ]
    },
    {
     "name": "stderr",
     "output_type": "stream",
     "text": [
      "\r",
      "Simulating lambdas and thetas:  39%|███▊      | 386/1000 [00:51<01:42,  5.99it/s]"
     ]
    },
    {
     "name": "stderr",
     "output_type": "stream",
     "text": [
      "\r",
      "Simulating lambdas and thetas:  39%|███▉      | 388/1000 [00:51<01:19,  7.74it/s]"
     ]
    },
    {
     "name": "stderr",
     "output_type": "stream",
     "text": [
      "\r",
      "Simulating lambdas and thetas:  39%|███▉      | 389/1000 [00:51<01:40,  6.09it/s]"
     ]
    },
    {
     "name": "stderr",
     "output_type": "stream",
     "text": [
      "\r",
      "Simulating lambdas and thetas:  39%|███▉      | 390/1000 [00:51<01:57,  5.17it/s]"
     ]
    },
    {
     "name": "stderr",
     "output_type": "stream",
     "text": [
      "\r",
      "Simulating lambdas and thetas:  39%|███▉      | 392/1000 [00:52<01:28,  6.90it/s]"
     ]
    },
    {
     "name": "stderr",
     "output_type": "stream",
     "text": [
      "\r",
      "Simulating lambdas and thetas:  39%|███▉      | 394/1000 [00:52<01:14,  8.16it/s]"
     ]
    },
    {
     "name": "stderr",
     "output_type": "stream",
     "text": [
      "\r",
      "Simulating lambdas and thetas:  40%|███▉      | 396/1000 [00:52<01:05,  9.29it/s]"
     ]
    },
    {
     "name": "stderr",
     "output_type": "stream",
     "text": [
      "\r",
      "Simulating lambdas and thetas:  40%|███▉      | 398/1000 [00:52<01:00,  9.88it/s]"
     ]
    },
    {
     "name": "stderr",
     "output_type": "stream",
     "text": [
      "\r",
      "Simulating lambdas and thetas:  40%|████      | 400/1000 [00:52<00:58, 10.20it/s]"
     ]
    },
    {
     "name": "stderr",
     "output_type": "stream",
     "text": [
      "\r",
      "Simulating lambdas and thetas:  40%|████      | 402/1000 [00:52<00:54, 10.89it/s]"
     ]
    },
    {
     "name": "stderr",
     "output_type": "stream",
     "text": [
      "\r",
      "Simulating lambdas and thetas:  40%|████      | 404/1000 [00:53<01:06,  8.97it/s]"
     ]
    },
    {
     "name": "stderr",
     "output_type": "stream",
     "text": [
      "\r",
      "Simulating lambdas and thetas:  40%|████      | 405/1000 [00:53<01:05,  9.13it/s]"
     ]
    },
    {
     "name": "stderr",
     "output_type": "stream",
     "text": [
      "\r",
      "Simulating lambdas and thetas:  41%|████      | 407/1000 [00:53<01:08,  8.60it/s]"
     ]
    },
    {
     "name": "stderr",
     "output_type": "stream",
     "text": [
      "\r",
      "Simulating lambdas and thetas:  41%|████      | 408/1000 [00:53<01:13,  8.04it/s]"
     ]
    },
    {
     "name": "stderr",
     "output_type": "stream",
     "text": [
      "\r",
      "Simulating lambdas and thetas:  41%|████      | 410/1000 [00:54<01:28,  6.66it/s]"
     ]
    },
    {
     "name": "stderr",
     "output_type": "stream",
     "text": [
      "\r",
      "Simulating lambdas and thetas:  41%|████      | 411/1000 [00:54<01:22,  7.12it/s]"
     ]
    },
    {
     "name": "stderr",
     "output_type": "stream",
     "text": [
      "\r",
      "Simulating lambdas and thetas:  41%|████▏     | 413/1000 [00:54<01:31,  6.40it/s]"
     ]
    },
    {
     "name": "stderr",
     "output_type": "stream",
     "text": [
      "\r",
      "Simulating lambdas and thetas:  41%|████▏     | 414/1000 [00:54<01:32,  6.35it/s]"
     ]
    },
    {
     "name": "stderr",
     "output_type": "stream",
     "text": [
      "\r",
      "Simulating lambdas and thetas:  42%|████▏     | 415/1000 [00:54<01:26,  6.77it/s]"
     ]
    },
    {
     "name": "stderr",
     "output_type": "stream",
     "text": [
      "\r",
      "Simulating lambdas and thetas:  42%|████▏     | 416/1000 [00:55<01:48,  5.39it/s]"
     ]
    },
    {
     "name": "stderr",
     "output_type": "stream",
     "text": [
      "\r",
      "Simulating lambdas and thetas:  42%|████▏     | 417/1000 [00:55<02:03,  4.71it/s]"
     ]
    },
    {
     "name": "stderr",
     "output_type": "stream",
     "text": [
      "\r",
      "Simulating lambdas and thetas:  42%|████▏     | 419/1000 [00:55<01:56,  4.99it/s]"
     ]
    },
    {
     "name": "stderr",
     "output_type": "stream",
     "text": [
      "\r",
      "Simulating lambdas and thetas:  42%|████▏     | 421/1000 [00:55<01:30,  6.40it/s]"
     ]
    },
    {
     "name": "stderr",
     "output_type": "stream",
     "text": [
      "\r",
      "Simulating lambdas and thetas:  42%|████▏     | 423/1000 [00:56<01:17,  7.48it/s]"
     ]
    },
    {
     "name": "stderr",
     "output_type": "stream",
     "text": [
      "\r",
      "Simulating lambdas and thetas:  42%|████▎     | 425/1000 [00:56<01:06,  8.64it/s]"
     ]
    },
    {
     "name": "stderr",
     "output_type": "stream",
     "text": [
      "\r",
      "Simulating lambdas and thetas:  43%|████▎     | 426/1000 [00:56<01:09,  8.24it/s]"
     ]
    },
    {
     "name": "stderr",
     "output_type": "stream",
     "text": [
      "\r",
      "Simulating lambdas and thetas:  43%|████▎     | 427/1000 [00:56<01:07,  8.50it/s]"
     ]
    },
    {
     "name": "stderr",
     "output_type": "stream",
     "text": [
      "\r",
      "Simulating lambdas and thetas:  43%|████▎     | 429/1000 [00:56<01:01,  9.27it/s]"
     ]
    },
    {
     "name": "stderr",
     "output_type": "stream",
     "text": [
      "\r",
      "Simulating lambdas and thetas:  43%|████▎     | 431/1000 [00:56<00:56, 10.05it/s]"
     ]
    },
    {
     "name": "stderr",
     "output_type": "stream",
     "text": [
      "\r",
      "Simulating lambdas and thetas:  43%|████▎     | 433/1000 [00:57<01:35,  5.92it/s]"
     ]
    },
    {
     "name": "stderr",
     "output_type": "stream",
     "text": [
      "\r",
      "Simulating lambdas and thetas:  43%|████▎     | 434/1000 [00:57<01:28,  6.41it/s]"
     ]
    },
    {
     "name": "stderr",
     "output_type": "stream",
     "text": [
      "\r",
      "Simulating lambdas and thetas:  44%|████▎     | 436/1000 [00:57<01:14,  7.62it/s]"
     ]
    },
    {
     "name": "stderr",
     "output_type": "stream",
     "text": [
      "\r",
      "Simulating lambdas and thetas:  44%|████▎     | 437/1000 [00:58<01:35,  5.91it/s]"
     ]
    },
    {
     "name": "stderr",
     "output_type": "stream",
     "text": [
      "\r",
      "Simulating lambdas and thetas:  44%|████▍     | 439/1000 [00:58<01:17,  7.25it/s]"
     ]
    },
    {
     "name": "stderr",
     "output_type": "stream",
     "text": [
      "\r",
      "Simulating lambdas and thetas:  44%|████▍     | 441/1000 [00:58<01:06,  8.43it/s]"
     ]
    },
    {
     "name": "stderr",
     "output_type": "stream",
     "text": [
      "\r",
      "Simulating lambdas and thetas:  44%|████▍     | 443/1000 [00:58<01:02,  8.91it/s]"
     ]
    },
    {
     "name": "stderr",
     "output_type": "stream",
     "text": [
      "\r",
      "Simulating lambdas and thetas:  44%|████▍     | 445/1000 [00:58<00:57,  9.59it/s]"
     ]
    },
    {
     "name": "stderr",
     "output_type": "stream",
     "text": [
      "\r",
      "Simulating lambdas and thetas:  45%|████▍     | 447/1000 [00:59<01:15,  7.34it/s]"
     ]
    },
    {
     "name": "stderr",
     "output_type": "stream",
     "text": [
      "\r",
      "Simulating lambdas and thetas:  45%|████▍     | 448/1000 [00:59<01:12,  7.66it/s]"
     ]
    },
    {
     "name": "stderr",
     "output_type": "stream",
     "text": [
      "\r",
      "Simulating lambdas and thetas:  45%|████▍     | 449/1000 [00:59<01:32,  5.99it/s]"
     ]
    },
    {
     "name": "stderr",
     "output_type": "stream",
     "text": [
      "\r",
      "Simulating lambdas and thetas:  45%|████▌     | 451/1000 [01:00<01:36,  5.66it/s]"
     ]
    },
    {
     "name": "stderr",
     "output_type": "stream",
     "text": [
      "\r",
      "Simulating lambdas and thetas:  45%|████▌     | 452/1000 [01:00<01:53,  4.84it/s]"
     ]
    },
    {
     "name": "stderr",
     "output_type": "stream",
     "text": [
      "\r",
      "Simulating lambdas and thetas:  45%|████▌     | 454/1000 [01:00<01:26,  6.30it/s]"
     ]
    },
    {
     "name": "stderr",
     "output_type": "stream",
     "text": [
      "\r",
      "Simulating lambdas and thetas:  46%|████▌     | 456/1000 [01:00<01:12,  7.48it/s]"
     ]
    },
    {
     "name": "stderr",
     "output_type": "stream",
     "text": [
      "\r",
      "Simulating lambdas and thetas:  46%|████▌     | 457/1000 [01:00<01:09,  7.83it/s]"
     ]
    },
    {
     "name": "stderr",
     "output_type": "stream",
     "text": [
      "\r",
      "Simulating lambdas and thetas:  46%|████▌     | 459/1000 [01:00<01:00,  8.92it/s]"
     ]
    },
    {
     "name": "stderr",
     "output_type": "stream",
     "text": [
      "\r",
      "Simulating lambdas and thetas:  46%|████▌     | 461/1000 [01:01<00:57,  9.31it/s]"
     ]
    },
    {
     "name": "stderr",
     "output_type": "stream",
     "text": [
      "\r",
      "Simulating lambdas and thetas:  46%|████▋     | 463/1000 [01:01<00:52, 10.15it/s]"
     ]
    },
    {
     "name": "stderr",
     "output_type": "stream",
     "text": [
      "\r",
      "Simulating lambdas and thetas:  46%|████▋     | 465/1000 [01:01<01:13,  7.31it/s]"
     ]
    },
    {
     "name": "stderr",
     "output_type": "stream",
     "text": [
      "\r",
      "Simulating lambdas and thetas:  47%|████▋     | 466/1000 [01:01<01:16,  6.95it/s]"
     ]
    },
    {
     "name": "stderr",
     "output_type": "stream",
     "text": [
      "\r",
      "Simulating lambdas and thetas:  47%|████▋     | 467/1000 [01:02<01:33,  5.71it/s]"
     ]
    },
    {
     "name": "stderr",
     "output_type": "stream",
     "text": [
      "\r",
      "Simulating lambdas and thetas:  47%|████▋     | 468/1000 [01:02<01:36,  5.49it/s]"
     ]
    },
    {
     "name": "stderr",
     "output_type": "stream",
     "text": [
      "\r",
      "Simulating lambdas and thetas:  47%|████▋     | 469/1000 [01:02<01:50,  4.79it/s]"
     ]
    },
    {
     "name": "stderr",
     "output_type": "stream",
     "text": [
      "\r",
      "Simulating lambdas and thetas:  47%|████▋     | 471/1000 [01:03<01:47,  4.90it/s]"
     ]
    },
    {
     "name": "stderr",
     "output_type": "stream",
     "text": [
      "\r",
      "Simulating lambdas and thetas:  47%|████▋     | 472/1000 [01:03<01:47,  4.91it/s]"
     ]
    },
    {
     "name": "stderr",
     "output_type": "stream",
     "text": [
      "\r",
      "Simulating lambdas and thetas:  47%|████▋     | 474/1000 [01:03<01:21,  6.44it/s]"
     ]
    },
    {
     "name": "stderr",
     "output_type": "stream",
     "text": [
      "\r",
      "Simulating lambdas and thetas:  48%|████▊     | 476/1000 [01:03<01:08,  7.69it/s]"
     ]
    },
    {
     "name": "stderr",
     "output_type": "stream",
     "text": [
      "\r",
      "Simulating lambdas and thetas:  48%|████▊     | 478/1000 [01:03<01:00,  8.59it/s]"
     ]
    },
    {
     "name": "stderr",
     "output_type": "stream",
     "text": [
      "\r",
      "Simulating lambdas and thetas:  48%|████▊     | 479/1000 [01:03<01:01,  8.48it/s]"
     ]
    },
    {
     "name": "stderr",
     "output_type": "stream",
     "text": [
      "\r",
      "Simulating lambdas and thetas:  48%|████▊     | 481/1000 [01:04<01:17,  6.66it/s]"
     ]
    },
    {
     "name": "stderr",
     "output_type": "stream",
     "text": [
      "\r",
      "Simulating lambdas and thetas:  48%|████▊     | 483/1000 [01:04<01:07,  7.61it/s]"
     ]
    },
    {
     "name": "stderr",
     "output_type": "stream",
     "text": [
      "\r",
      "Simulating lambdas and thetas:  48%|████▊     | 485/1000 [01:04<00:58,  8.75it/s]"
     ]
    },
    {
     "name": "stderr",
     "output_type": "stream",
     "text": [
      "\r",
      "Simulating lambdas and thetas:  49%|████▊     | 487/1000 [01:04<00:55,  9.23it/s]"
     ]
    },
    {
     "name": "stderr",
     "output_type": "stream",
     "text": [
      "\r",
      "Simulating lambdas and thetas:  49%|████▉     | 489/1000 [01:05<01:06,  7.67it/s]"
     ]
    },
    {
     "name": "stderr",
     "output_type": "stream",
     "text": [
      "\r",
      "Simulating lambdas and thetas:  49%|████▉     | 490/1000 [01:05<01:20,  6.34it/s]"
     ]
    },
    {
     "name": "stderr",
     "output_type": "stream",
     "text": [
      "\r",
      "Simulating lambdas and thetas:  49%|████▉     | 492/1000 [01:05<01:07,  7.50it/s]"
     ]
    },
    {
     "name": "stderr",
     "output_type": "stream",
     "text": [
      "\r",
      "Simulating lambdas and thetas:  49%|████▉     | 494/1000 [01:05<01:06,  7.66it/s]"
     ]
    },
    {
     "name": "stderr",
     "output_type": "stream",
     "text": [
      "\r",
      "Simulating lambdas and thetas:  50%|████▉     | 496/1000 [01:06<01:15,  6.70it/s]"
     ]
    },
    {
     "name": "stderr",
     "output_type": "stream",
     "text": [
      "\r",
      "Simulating lambdas and thetas:  50%|████▉     | 497/1000 [01:06<01:11,  7.05it/s]"
     ]
    },
    {
     "name": "stderr",
     "output_type": "stream",
     "text": [
      "\r",
      "Simulating lambdas and thetas:  50%|████▉     | 498/1000 [01:06<01:28,  5.67it/s]"
     ]
    },
    {
     "name": "stderr",
     "output_type": "stream",
     "text": [
      "\r",
      "Simulating lambdas and thetas:  50%|█████     | 500/1000 [01:06<01:13,  6.83it/s]"
     ]
    },
    {
     "name": "stderr",
     "output_type": "stream",
     "text": [
      "\r",
      "Simulating lambdas and thetas:  50%|█████     | 501/1000 [01:07<01:08,  7.24it/s]"
     ]
    },
    {
     "name": "stderr",
     "output_type": "stream",
     "text": [
      "\r",
      "Simulating lambdas and thetas:  50%|█████     | 502/1000 [01:07<01:05,  7.63it/s]"
     ]
    },
    {
     "name": "stderr",
     "output_type": "stream",
     "text": [
      "\r",
      "Simulating lambdas and thetas:  50%|█████     | 503/1000 [01:07<01:25,  5.83it/s]"
     ]
    },
    {
     "name": "stderr",
     "output_type": "stream",
     "text": [
      "\r",
      "Simulating lambdas and thetas:  50%|█████     | 505/1000 [01:07<01:09,  7.08it/s]"
     ]
    },
    {
     "name": "stderr",
     "output_type": "stream",
     "text": [
      "\r",
      "Simulating lambdas and thetas:  51%|█████     | 507/1000 [01:07<01:00,  8.20it/s]"
     ]
    },
    {
     "name": "stderr",
     "output_type": "stream",
     "text": [
      "\r",
      "Simulating lambdas and thetas:  51%|█████     | 508/1000 [01:08<01:19,  6.15it/s]"
     ]
    },
    {
     "name": "stderr",
     "output_type": "stream",
     "text": [
      "\r",
      "Simulating lambdas and thetas:  51%|█████     | 509/1000 [01:08<01:21,  6.03it/s]"
     ]
    },
    {
     "name": "stderr",
     "output_type": "stream",
     "text": [
      "\r",
      "Simulating lambdas and thetas:  51%|█████     | 510/1000 [01:08<01:14,  6.56it/s]"
     ]
    },
    {
     "name": "stderr",
     "output_type": "stream",
     "text": [
      "\r",
      "Simulating lambdas and thetas:  51%|█████     | 512/1000 [01:08<01:19,  6.12it/s]"
     ]
    },
    {
     "name": "stderr",
     "output_type": "stream",
     "text": [
      "\r",
      "Simulating lambdas and thetas:  51%|█████▏    | 514/1000 [01:09<01:13,  6.65it/s]"
     ]
    },
    {
     "name": "stderr",
     "output_type": "stream",
     "text": [
      "\r",
      "Simulating lambdas and thetas:  52%|█████▏    | 515/1000 [01:09<01:26,  5.64it/s]"
     ]
    },
    {
     "name": "stderr",
     "output_type": "stream",
     "text": [
      "\r",
      "Simulating lambdas and thetas:  52%|█████▏    | 517/1000 [01:09<01:08,  7.07it/s]"
     ]
    },
    {
     "name": "stderr",
     "output_type": "stream",
     "text": [
      "\r",
      "Simulating lambdas and thetas:  52%|█████▏    | 519/1000 [01:09<00:58,  8.29it/s]"
     ]
    },
    {
     "name": "stderr",
     "output_type": "stream",
     "text": [
      "\r",
      "Simulating lambdas and thetas:  52%|█████▏    | 520/1000 [01:09<01:17,  6.23it/s]"
     ]
    },
    {
     "name": "stderr",
     "output_type": "stream",
     "text": [
      "\r",
      "Simulating lambdas and thetas:  52%|█████▏    | 521/1000 [01:10<01:30,  5.32it/s]"
     ]
    },
    {
     "name": "stderr",
     "output_type": "stream",
     "text": [
      "\r",
      "Simulating lambdas and thetas:  52%|█████▏    | 523/1000 [01:10<01:29,  5.32it/s]"
     ]
    },
    {
     "name": "stderr",
     "output_type": "stream",
     "text": [
      "\r",
      "Simulating lambdas and thetas:  52%|█████▏    | 524/1000 [01:10<01:38,  4.82it/s]"
     ]
    },
    {
     "name": "stderr",
     "output_type": "stream",
     "text": [
      "\r",
      "Simulating lambdas and thetas:  53%|█████▎    | 526/1000 [01:11<01:25,  5.56it/s]"
     ]
    },
    {
     "name": "stderr",
     "output_type": "stream",
     "text": [
      "\r",
      "Simulating lambdas and thetas:  53%|█████▎    | 528/1000 [01:11<01:07,  6.98it/s]"
     ]
    },
    {
     "name": "stderr",
     "output_type": "stream",
     "text": [
      "\r",
      "Simulating lambdas and thetas:  53%|█████▎    | 529/1000 [01:11<01:20,  5.83it/s]"
     ]
    },
    {
     "name": "stderr",
     "output_type": "stream",
     "text": [
      "\r",
      "Simulating lambdas and thetas:  53%|█████▎    | 531/1000 [01:11<01:22,  5.72it/s]"
     ]
    },
    {
     "name": "stderr",
     "output_type": "stream",
     "text": [
      "\r",
      "Simulating lambdas and thetas:  53%|█████▎    | 533/1000 [01:12<01:22,  5.66it/s]"
     ]
    },
    {
     "name": "stderr",
     "output_type": "stream",
     "text": [
      "\r",
      "Simulating lambdas and thetas:  54%|█████▎    | 535/1000 [01:12<01:23,  5.54it/s]"
     ]
    },
    {
     "name": "stderr",
     "output_type": "stream",
     "text": [
      "\r",
      "Simulating lambdas and thetas:  54%|█████▎    | 537/1000 [01:12<01:09,  6.70it/s]"
     ]
    },
    {
     "name": "stderr",
     "output_type": "stream",
     "text": [
      "\r",
      "Simulating lambdas and thetas:  54%|█████▍    | 538/1000 [01:12<01:04,  7.12it/s]"
     ]
    },
    {
     "name": "stderr",
     "output_type": "stream",
     "text": [
      "\r",
      "Simulating lambdas and thetas:  54%|█████▍    | 539/1000 [01:13<01:18,  5.85it/s]"
     ]
    },
    {
     "name": "stderr",
     "output_type": "stream",
     "text": [
      "\r",
      "Simulating lambdas and thetas:  54%|█████▍    | 541/1000 [01:13<01:08,  6.68it/s]"
     ]
    },
    {
     "name": "stderr",
     "output_type": "stream",
     "text": [
      "\r",
      "Simulating lambdas and thetas:  54%|█████▍    | 543/1000 [01:13<00:57,  7.89it/s]"
     ]
    },
    {
     "name": "stderr",
     "output_type": "stream",
     "text": [
      "\r",
      "Simulating lambdas and thetas:  55%|█████▍    | 545/1000 [01:13<00:52,  8.67it/s]"
     ]
    },
    {
     "name": "stderr",
     "output_type": "stream",
     "text": [
      "\r",
      "Simulating lambdas and thetas:  55%|█████▍    | 546/1000 [01:14<01:07,  6.76it/s]"
     ]
    },
    {
     "name": "stderr",
     "output_type": "stream",
     "text": [
      "\r",
      "Simulating lambdas and thetas:  55%|█████▍    | 548/1000 [01:14<00:58,  7.69it/s]"
     ]
    },
    {
     "name": "stderr",
     "output_type": "stream",
     "text": [
      "\r",
      "Simulating lambdas and thetas:  55%|█████▍    | 549/1000 [01:14<01:02,  7.20it/s]"
     ]
    },
    {
     "name": "stderr",
     "output_type": "stream",
     "text": [
      "\r",
      "Simulating lambdas and thetas:  55%|█████▌    | 551/1000 [01:14<00:51,  8.66it/s]"
     ]
    },
    {
     "name": "stderr",
     "output_type": "stream",
     "text": [
      "\r",
      "Simulating lambdas and thetas:  55%|█████▌    | 552/1000 [01:14<01:07,  6.62it/s]"
     ]
    },
    {
     "name": "stderr",
     "output_type": "stream",
     "text": [
      "\r",
      "Simulating lambdas and thetas:  55%|█████▌    | 554/1000 [01:15<00:54,  8.17it/s]"
     ]
    },
    {
     "name": "stderr",
     "output_type": "stream",
     "text": [
      "\r",
      "Simulating lambdas and thetas:  56%|█████▌    | 556/1000 [01:15<00:46,  9.47it/s]"
     ]
    },
    {
     "name": "stderr",
     "output_type": "stream",
     "text": [
      "\r",
      "Simulating lambdas and thetas:  56%|█████▌    | 558/1000 [01:15<01:02,  7.08it/s]"
     ]
    },
    {
     "name": "stderr",
     "output_type": "stream",
     "text": [
      "\r",
      "Simulating lambdas and thetas:  56%|█████▌    | 559/1000 [01:15<01:14,  5.94it/s]"
     ]
    },
    {
     "name": "stderr",
     "output_type": "stream",
     "text": [
      "\r",
      "Simulating lambdas and thetas:  56%|█████▌    | 561/1000 [01:16<00:59,  7.41it/s]"
     ]
    },
    {
     "name": "stderr",
     "output_type": "stream",
     "text": [
      "\r",
      "Simulating lambdas and thetas:  56%|█████▋    | 563/1000 [01:16<00:50,  8.72it/s]"
     ]
    },
    {
     "name": "stderr",
     "output_type": "stream",
     "text": [
      "\r",
      "Simulating lambdas and thetas:  56%|█████▋    | 565/1000 [01:16<01:05,  6.69it/s]"
     ]
    },
    {
     "name": "stderr",
     "output_type": "stream",
     "text": [
      "\r",
      "Simulating lambdas and thetas:  57%|█████▋    | 567/1000 [01:16<00:56,  7.61it/s]"
     ]
    },
    {
     "name": "stderr",
     "output_type": "stream",
     "text": [
      "\r",
      "Simulating lambdas and thetas:  57%|█████▋    | 569/1000 [01:17<00:51,  8.36it/s]"
     ]
    },
    {
     "name": "stderr",
     "output_type": "stream",
     "text": [
      "\r",
      "Simulating lambdas and thetas:  57%|█████▋    | 571/1000 [01:17<00:47,  9.11it/s]"
     ]
    },
    {
     "name": "stderr",
     "output_type": "stream",
     "text": [
      "\r",
      "Simulating lambdas and thetas:  57%|█████▋    | 573/1000 [01:17<00:47,  9.00it/s]"
     ]
    },
    {
     "name": "stderr",
     "output_type": "stream",
     "text": [
      "\r",
      "Simulating lambdas and thetas:  57%|█████▋    | 574/1000 [01:17<00:47,  9.04it/s]"
     ]
    },
    {
     "name": "stderr",
     "output_type": "stream",
     "text": [
      "\r",
      "Simulating lambdas and thetas:  58%|█████▊    | 576/1000 [01:17<00:56,  7.49it/s]"
     ]
    },
    {
     "name": "stderr",
     "output_type": "stream",
     "text": [
      "\r",
      "Simulating lambdas and thetas:  58%|█████▊    | 578/1000 [01:18<00:48,  8.65it/s]"
     ]
    },
    {
     "name": "stderr",
     "output_type": "stream",
     "text": [
      "\r",
      "Simulating lambdas and thetas:  58%|█████▊    | 579/1000 [01:18<00:52,  7.98it/s]"
     ]
    },
    {
     "name": "stderr",
     "output_type": "stream",
     "text": [
      "\r",
      "Simulating lambdas and thetas:  58%|█████▊    | 580/1000 [01:18<00:50,  8.29it/s]"
     ]
    },
    {
     "name": "stderr",
     "output_type": "stream",
     "text": [
      "\r",
      "Simulating lambdas and thetas:  58%|█████▊    | 582/1000 [01:18<00:44,  9.36it/s]"
     ]
    },
    {
     "name": "stderr",
     "output_type": "stream",
     "text": [
      "\r",
      "Simulating lambdas and thetas:  58%|█████▊    | 584/1000 [01:18<00:40, 10.19it/s]"
     ]
    },
    {
     "name": "stderr",
     "output_type": "stream",
     "text": [
      "\r",
      "Simulating lambdas and thetas:  59%|█████▊    | 586/1000 [01:18<00:47,  8.80it/s]"
     ]
    },
    {
     "name": "stderr",
     "output_type": "stream",
     "text": [
      "\r",
      "Simulating lambdas and thetas:  59%|█████▊    | 587/1000 [01:19<01:00,  6.84it/s]"
     ]
    },
    {
     "name": "stderr",
     "output_type": "stream",
     "text": [
      "\r",
      "Simulating lambdas and thetas:  59%|█████▉    | 588/1000 [01:19<01:12,  5.70it/s]"
     ]
    },
    {
     "name": "stderr",
     "output_type": "stream",
     "text": [
      "\r",
      "Simulating lambdas and thetas:  59%|█████▉    | 590/1000 [01:19<01:12,  5.67it/s]"
     ]
    },
    {
     "name": "stderr",
     "output_type": "stream",
     "text": [
      "\r",
      "Simulating lambdas and thetas:  59%|█████▉    | 592/1000 [01:20<01:12,  5.60it/s]"
     ]
    },
    {
     "name": "stderr",
     "output_type": "stream",
     "text": [
      "\r",
      "Simulating lambdas and thetas:  59%|█████▉    | 594/1000 [01:20<01:00,  6.71it/s]"
     ]
    },
    {
     "name": "stderr",
     "output_type": "stream",
     "text": [
      "\r",
      "Simulating lambdas and thetas:  60%|█████▉    | 596/1000 [01:20<00:51,  7.85it/s]"
     ]
    },
    {
     "name": "stderr",
     "output_type": "stream",
     "text": [
      "\r",
      "Simulating lambdas and thetas:  60%|█████▉    | 598/1000 [01:20<00:45,  8.76it/s]"
     ]
    },
    {
     "name": "stderr",
     "output_type": "stream",
     "text": [
      "\r",
      "Simulating lambdas and thetas:  60%|█████▉    | 599/1000 [01:20<00:45,  8.91it/s]"
     ]
    },
    {
     "name": "stderr",
     "output_type": "stream",
     "text": [
      "\r",
      "Simulating lambdas and thetas:  60%|██████    | 600/1000 [01:20<00:44,  9.06it/s]"
     ]
    },
    {
     "name": "stderr",
     "output_type": "stream",
     "text": [
      "\r",
      "Simulating lambdas and thetas:  60%|██████    | 601/1000 [01:21<00:56,  7.01it/s]"
     ]
    },
    {
     "name": "stderr",
     "output_type": "stream",
     "text": [
      "\r",
      "Simulating lambdas and thetas:  60%|██████    | 602/1000 [01:21<01:10,  5.64it/s]"
     ]
    },
    {
     "name": "stderr",
     "output_type": "stream",
     "text": [
      "\r",
      "Simulating lambdas and thetas:  60%|██████    | 603/1000 [01:21<01:21,  4.90it/s]"
     ]
    },
    {
     "name": "stderr",
     "output_type": "stream",
     "text": [
      "\r",
      "Simulating lambdas and thetas:  60%|██████    | 604/1000 [01:21<01:10,  5.63it/s]"
     ]
    },
    {
     "name": "stderr",
     "output_type": "stream",
     "text": [
      "\r",
      "Simulating lambdas and thetas:  61%|██████    | 606/1000 [01:22<00:53,  7.31it/s]"
     ]
    },
    {
     "name": "stderr",
     "output_type": "stream",
     "text": [
      "\r",
      "Simulating lambdas and thetas:  61%|██████    | 608/1000 [01:22<00:44,  8.78it/s]"
     ]
    },
    {
     "name": "stderr",
     "output_type": "stream",
     "text": [
      "\r",
      "Simulating lambdas and thetas:  61%|██████    | 610/1000 [01:22<00:40,  9.74it/s]"
     ]
    },
    {
     "name": "stderr",
     "output_type": "stream",
     "text": [
      "\r",
      "Simulating lambdas and thetas:  61%|██████    | 612/1000 [01:22<00:36, 10.66it/s]"
     ]
    },
    {
     "name": "stderr",
     "output_type": "stream",
     "text": [
      "\r",
      "Simulating lambdas and thetas:  61%|██████▏   | 614/1000 [01:22<00:38,  9.93it/s]"
     ]
    },
    {
     "name": "stderr",
     "output_type": "stream",
     "text": [
      "\r",
      "Simulating lambdas and thetas:  62%|██████▏   | 616/1000 [01:23<00:43,  8.82it/s]"
     ]
    },
    {
     "name": "stderr",
     "output_type": "stream",
     "text": [
      "\r",
      "Simulating lambdas and thetas:  62%|██████▏   | 617/1000 [01:23<00:57,  6.70it/s]"
     ]
    },
    {
     "name": "stderr",
     "output_type": "stream",
     "text": [
      "\r",
      "Simulating lambdas and thetas:  62%|██████▏   | 619/1000 [01:23<00:48,  7.86it/s]"
     ]
    },
    {
     "name": "stderr",
     "output_type": "stream",
     "text": [
      "\r",
      "Simulating lambdas and thetas:  62%|██████▏   | 621/1000 [01:23<00:41,  9.04it/s]"
     ]
    },
    {
     "name": "stderr",
     "output_type": "stream",
     "text": [
      "\r",
      "Simulating lambdas and thetas:  62%|██████▏   | 623/1000 [01:23<00:47,  7.90it/s]"
     ]
    },
    {
     "name": "stderr",
     "output_type": "stream",
     "text": [
      "\r",
      "Simulating lambdas and thetas:  62%|██████▎   | 625/1000 [01:24<00:43,  8.52it/s]"
     ]
    },
    {
     "name": "stderr",
     "output_type": "stream",
     "text": [
      "\r",
      "Simulating lambdas and thetas:  63%|██████▎   | 627/1000 [01:24<00:39,  9.45it/s]"
     ]
    },
    {
     "name": "stderr",
     "output_type": "stream",
     "text": [
      "\r",
      "Simulating lambdas and thetas:  63%|██████▎   | 629/1000 [01:24<00:42,  8.73it/s]"
     ]
    },
    {
     "name": "stderr",
     "output_type": "stream",
     "text": [
      "\r",
      "Simulating lambdas and thetas:  63%|██████▎   | 630/1000 [01:24<00:41,  8.90it/s]"
     ]
    },
    {
     "name": "stderr",
     "output_type": "stream",
     "text": [
      "\r",
      "Simulating lambdas and thetas:  63%|██████▎   | 631/1000 [01:24<00:44,  8.28it/s]"
     ]
    },
    {
     "name": "stderr",
     "output_type": "stream",
     "text": [
      "\r",
      "Simulating lambdas and thetas:  63%|██████▎   | 632/1000 [01:25<00:58,  6.27it/s]"
     ]
    },
    {
     "name": "stderr",
     "output_type": "stream",
     "text": [
      "\r",
      "Simulating lambdas and thetas:  63%|██████▎   | 634/1000 [01:25<00:47,  7.71it/s]"
     ]
    },
    {
     "name": "stderr",
     "output_type": "stream",
     "text": [
      "\r",
      "Simulating lambdas and thetas:  64%|██████▎   | 636/1000 [01:25<00:54,  6.62it/s]"
     ]
    },
    {
     "name": "stderr",
     "output_type": "stream",
     "text": [
      "\r",
      "Simulating lambdas and thetas:  64%|██████▍   | 638/1000 [01:26<00:58,  6.23it/s]"
     ]
    },
    {
     "name": "stderr",
     "output_type": "stream",
     "text": [
      "\r",
      "Simulating lambdas and thetas:  64%|██████▍   | 639/1000 [01:26<01:06,  5.41it/s]"
     ]
    },
    {
     "name": "stderr",
     "output_type": "stream",
     "text": [
      "\r",
      "Simulating lambdas and thetas:  64%|██████▍   | 641/1000 [01:26<01:06,  5.38it/s]"
     ]
    },
    {
     "name": "stderr",
     "output_type": "stream",
     "text": [
      "\r",
      "Simulating lambdas and thetas:  64%|██████▍   | 643/1000 [01:26<00:59,  6.02it/s]"
     ]
    },
    {
     "name": "stderr",
     "output_type": "stream",
     "text": [
      "\r",
      "Simulating lambdas and thetas:  64%|██████▍   | 645/1000 [01:27<00:49,  7.15it/s]"
     ]
    },
    {
     "name": "stderr",
     "output_type": "stream",
     "text": [
      "\r",
      "Simulating lambdas and thetas:  65%|██████▍   | 646/1000 [01:27<00:47,  7.52it/s]"
     ]
    },
    {
     "name": "stderr",
     "output_type": "stream",
     "text": [
      "\r",
      "Simulating lambdas and thetas:  65%|██████▍   | 647/1000 [01:27<00:59,  5.89it/s]"
     ]
    },
    {
     "name": "stderr",
     "output_type": "stream",
     "text": [
      "\r",
      "Simulating lambdas and thetas:  65%|██████▍   | 648/1000 [01:27<00:56,  6.27it/s]"
     ]
    },
    {
     "name": "stderr",
     "output_type": "stream",
     "text": [
      "\r",
      "Simulating lambdas and thetas:  65%|██████▌   | 650/1000 [01:27<00:44,  7.80it/s]"
     ]
    },
    {
     "name": "stderr",
     "output_type": "stream",
     "text": [
      "\r",
      "Simulating lambdas and thetas:  65%|██████▌   | 651/1000 [01:28<00:48,  7.14it/s]"
     ]
    },
    {
     "name": "stderr",
     "output_type": "stream",
     "text": [
      "\r",
      "Simulating lambdas and thetas:  65%|██████▌   | 652/1000 [01:28<00:45,  7.61it/s]"
     ]
    },
    {
     "name": "stderr",
     "output_type": "stream",
     "text": [
      "\r",
      "Simulating lambdas and thetas:  65%|██████▌   | 654/1000 [01:28<00:37,  9.20it/s]"
     ]
    },
    {
     "name": "stderr",
     "output_type": "stream",
     "text": [
      "\r",
      "Simulating lambdas and thetas:  66%|██████▌   | 655/1000 [01:28<00:52,  6.63it/s]"
     ]
    },
    {
     "name": "stderr",
     "output_type": "stream",
     "text": [
      "\r",
      "Simulating lambdas and thetas:  66%|██████▌   | 657/1000 [01:28<00:42,  8.02it/s]"
     ]
    },
    {
     "name": "stderr",
     "output_type": "stream",
     "text": [
      "\r",
      "Simulating lambdas and thetas:  66%|██████▌   | 659/1000 [01:29<00:49,  6.92it/s]"
     ]
    },
    {
     "name": "stderr",
     "output_type": "stream",
     "text": [
      "\r",
      "Simulating lambdas and thetas:  66%|██████▌   | 660/1000 [01:29<00:46,  7.37it/s]"
     ]
    },
    {
     "name": "stderr",
     "output_type": "stream",
     "text": [
      "\r",
      "Simulating lambdas and thetas:  66%|██████▌   | 661/1000 [01:29<00:57,  5.86it/s]"
     ]
    },
    {
     "name": "stderr",
     "output_type": "stream",
     "text": [
      "\r",
      "Simulating lambdas and thetas:  66%|██████▋   | 663/1000 [01:29<00:50,  6.69it/s]"
     ]
    },
    {
     "name": "stderr",
     "output_type": "stream",
     "text": [
      "\r",
      "Simulating lambdas and thetas:  66%|██████▋   | 665/1000 [01:30<00:49,  6.81it/s]"
     ]
    },
    {
     "name": "stderr",
     "output_type": "stream",
     "text": [
      "\r",
      "Simulating lambdas and thetas:  67%|██████▋   | 666/1000 [01:30<00:58,  5.73it/s]"
     ]
    },
    {
     "name": "stderr",
     "output_type": "stream",
     "text": [
      "\r",
      "Simulating lambdas and thetas:  67%|██████▋   | 667/1000 [01:30<01:06,  5.05it/s]"
     ]
    },
    {
     "name": "stderr",
     "output_type": "stream",
     "text": [
      "\r",
      "Simulating lambdas and thetas:  67%|██████▋   | 668/1000 [01:30<01:14,  4.48it/s]"
     ]
    },
    {
     "name": "stderr",
     "output_type": "stream",
     "text": [
      "\r",
      "Simulating lambdas and thetas:  67%|██████▋   | 670/1000 [01:31<00:53,  6.16it/s]"
     ]
    },
    {
     "name": "stderr",
     "output_type": "stream",
     "text": [
      "\r",
      "Simulating lambdas and thetas:  67%|██████▋   | 671/1000 [01:31<00:57,  5.77it/s]"
     ]
    },
    {
     "name": "stderr",
     "output_type": "stream",
     "text": [
      "\r",
      "Simulating lambdas and thetas:  67%|██████▋   | 673/1000 [01:31<00:57,  5.67it/s]"
     ]
    },
    {
     "name": "stderr",
     "output_type": "stream",
     "text": [
      "\r",
      "Simulating lambdas and thetas:  68%|██████▊   | 675/1000 [01:31<00:47,  6.80it/s]"
     ]
    },
    {
     "name": "stderr",
     "output_type": "stream",
     "text": [
      "\r",
      "Simulating lambdas and thetas:  68%|██████▊   | 677/1000 [01:31<00:41,  7.69it/s]"
     ]
    },
    {
     "name": "stderr",
     "output_type": "stream",
     "text": [
      "\r",
      "Simulating lambdas and thetas:  68%|██████▊   | 678/1000 [01:32<00:46,  6.99it/s]"
     ]
    },
    {
     "name": "stderr",
     "output_type": "stream",
     "text": [
      "\r",
      "Simulating lambdas and thetas:  68%|██████▊   | 680/1000 [01:32<00:38,  8.23it/s]"
     ]
    },
    {
     "name": "stderr",
     "output_type": "stream",
     "text": [
      "\r",
      "Simulating lambdas and thetas:  68%|██████▊   | 682/1000 [01:32<00:34,  9.26it/s]"
     ]
    },
    {
     "name": "stderr",
     "output_type": "stream",
     "text": [
      "\r",
      "Simulating lambdas and thetas:  68%|██████▊   | 684/1000 [01:32<00:31,  9.93it/s]"
     ]
    },
    {
     "name": "stderr",
     "output_type": "stream",
     "text": [
      "\r",
      "Simulating lambdas and thetas:  69%|██████▊   | 686/1000 [01:33<00:41,  7.65it/s]"
     ]
    },
    {
     "name": "stderr",
     "output_type": "stream",
     "text": [
      "\r",
      "Simulating lambdas and thetas:  69%|██████▉   | 688/1000 [01:33<00:45,  6.85it/s]"
     ]
    },
    {
     "name": "stderr",
     "output_type": "stream",
     "text": [
      "\r",
      "Simulating lambdas and thetas:  69%|██████▉   | 689/1000 [01:33<00:53,  5.86it/s]"
     ]
    },
    {
     "name": "stderr",
     "output_type": "stream",
     "text": [
      "\r",
      "Simulating lambdas and thetas:  69%|██████▉   | 691/1000 [01:33<00:44,  6.91it/s]"
     ]
    },
    {
     "name": "stderr",
     "output_type": "stream",
     "text": [
      "\r",
      "Simulating lambdas and thetas:  69%|██████▉   | 692/1000 [01:34<00:44,  6.96it/s]"
     ]
    },
    {
     "name": "stderr",
     "output_type": "stream",
     "text": [
      "\r",
      "Simulating lambdas and thetas:  69%|██████▉   | 693/1000 [01:34<00:41,  7.35it/s]"
     ]
    },
    {
     "name": "stderr",
     "output_type": "stream",
     "text": [
      "\r",
      "Simulating lambdas and thetas:  69%|██████▉   | 694/1000 [01:34<00:41,  7.42it/s]"
     ]
    },
    {
     "name": "stderr",
     "output_type": "stream",
     "text": [
      "\r",
      "Simulating lambdas and thetas:  70%|██████▉   | 695/1000 [01:34<00:53,  5.67it/s]"
     ]
    },
    {
     "name": "stderr",
     "output_type": "stream",
     "text": [
      "\r",
      "Simulating lambdas and thetas:  70%|██████▉   | 697/1000 [01:34<00:41,  7.22it/s]"
     ]
    },
    {
     "name": "stderr",
     "output_type": "stream",
     "text": [
      "\r",
      "Simulating lambdas and thetas:  70%|██████▉   | 699/1000 [01:35<00:46,  6.44it/s]"
     ]
    },
    {
     "name": "stderr",
     "output_type": "stream",
     "text": [
      "\r",
      "Simulating lambdas and thetas:  70%|███████   | 700/1000 [01:35<00:55,  5.40it/s]"
     ]
    },
    {
     "name": "stderr",
     "output_type": "stream",
     "text": [
      "\r",
      "Simulating lambdas and thetas:  70%|███████   | 702/1000 [01:35<00:44,  6.76it/s]"
     ]
    },
    {
     "name": "stderr",
     "output_type": "stream",
     "text": [
      "\r",
      "Simulating lambdas and thetas:  70%|███████   | 703/1000 [01:35<00:52,  5.62it/s]"
     ]
    },
    {
     "name": "stderr",
     "output_type": "stream",
     "text": [
      "\r",
      "Simulating lambdas and thetas:  70%|███████   | 704/1000 [01:36<00:49,  6.00it/s]"
     ]
    },
    {
     "name": "stderr",
     "output_type": "stream",
     "text": [
      "\r",
      "Simulating lambdas and thetas:  70%|███████   | 705/1000 [01:36<00:45,  6.55it/s]"
     ]
    },
    {
     "name": "stderr",
     "output_type": "stream",
     "text": [
      "\r",
      "Simulating lambdas and thetas:  71%|███████   | 706/1000 [01:36<00:46,  6.32it/s]"
     ]
    },
    {
     "name": "stderr",
     "output_type": "stream",
     "text": [
      "\r",
      "Simulating lambdas and thetas:  71%|███████   | 707/1000 [01:36<00:57,  5.07it/s]"
     ]
    },
    {
     "name": "stderr",
     "output_type": "stream",
     "text": [
      "\r",
      "Simulating lambdas and thetas:  71%|███████   | 708/1000 [01:36<01:05,  4.44it/s]"
     ]
    },
    {
     "name": "stderr",
     "output_type": "stream",
     "text": [
      "\r",
      "Simulating lambdas and thetas:  71%|███████   | 709/1000 [01:37<01:01,  4.71it/s]"
     ]
    },
    {
     "name": "stderr",
     "output_type": "stream",
     "text": [
      "\r",
      "Simulating lambdas and thetas:  71%|███████   | 710/1000 [01:37<00:56,  5.09it/s]"
     ]
    },
    {
     "name": "stderr",
     "output_type": "stream",
     "text": [
      "\r",
      "Simulating lambdas and thetas:  71%|███████   | 711/1000 [01:37<00:52,  5.47it/s]"
     ]
    },
    {
     "name": "stderr",
     "output_type": "stream",
     "text": [
      "\r",
      "Simulating lambdas and thetas:  71%|███████   | 712/1000 [01:37<01:02,  4.63it/s]"
     ]
    },
    {
     "name": "stderr",
     "output_type": "stream",
     "text": [
      "\r",
      "Simulating lambdas and thetas:  71%|███████▏  | 714/1000 [01:37<00:51,  5.53it/s]"
     ]
    },
    {
     "name": "stderr",
     "output_type": "stream",
     "text": [
      "\r",
      "Simulating lambdas and thetas:  72%|███████▏  | 715/1000 [01:38<01:01,  4.63it/s]"
     ]
    },
    {
     "name": "stderr",
     "output_type": "stream",
     "text": [
      "\r",
      "Simulating lambdas and thetas:  72%|███████▏  | 716/1000 [01:38<00:52,  5.36it/s]"
     ]
    },
    {
     "name": "stderr",
     "output_type": "stream",
     "text": [
      "\r",
      "Simulating lambdas and thetas:  72%|███████▏  | 717/1000 [01:38<00:46,  6.12it/s]"
     ]
    },
    {
     "name": "stderr",
     "output_type": "stream",
     "text": [
      "\r",
      "Simulating lambdas and thetas:  72%|███████▏  | 718/1000 [01:38<00:57,  4.86it/s]"
     ]
    },
    {
     "name": "stderr",
     "output_type": "stream",
     "text": [
      "\r",
      "Simulating lambdas and thetas:  72%|███████▏  | 720/1000 [01:38<00:43,  6.44it/s]"
     ]
    },
    {
     "name": "stderr",
     "output_type": "stream",
     "text": [
      "\r",
      "Simulating lambdas and thetas:  72%|███████▏  | 722/1000 [01:39<00:40,  6.95it/s]"
     ]
    },
    {
     "name": "stderr",
     "output_type": "stream",
     "text": [
      "\r",
      "Simulating lambdas and thetas:  72%|███████▏  | 724/1000 [01:39<00:33,  8.20it/s]"
     ]
    },
    {
     "name": "stderr",
     "output_type": "stream",
     "text": [
      "\r",
      "Simulating lambdas and thetas:  73%|███████▎  | 726/1000 [01:39<00:31,  8.77it/s]"
     ]
    },
    {
     "name": "stderr",
     "output_type": "stream",
     "text": [
      "\r",
      "Simulating lambdas and thetas:  73%|███████▎  | 728/1000 [01:39<00:29,  9.20it/s]"
     ]
    },
    {
     "name": "stderr",
     "output_type": "stream",
     "text": [
      "\r",
      "Simulating lambdas and thetas:  73%|███████▎  | 729/1000 [01:39<00:29,  9.29it/s]"
     ]
    },
    {
     "name": "stderr",
     "output_type": "stream",
     "text": [
      "\r",
      "Simulating lambdas and thetas:  73%|███████▎  | 731/1000 [01:40<00:38,  7.02it/s]"
     ]
    },
    {
     "name": "stderr",
     "output_type": "stream",
     "text": [
      "\r",
      "Simulating lambdas and thetas:  73%|███████▎  | 732/1000 [01:40<00:41,  6.42it/s]"
     ]
    },
    {
     "name": "stderr",
     "output_type": "stream",
     "text": [
      "\r",
      "Simulating lambdas and thetas:  73%|███████▎  | 733/1000 [01:40<00:39,  6.76it/s]"
     ]
    },
    {
     "name": "stderr",
     "output_type": "stream",
     "text": [
      "\r",
      "Simulating lambdas and thetas:  73%|███████▎  | 734/1000 [01:40<00:40,  6.63it/s]"
     ]
    },
    {
     "name": "stderr",
     "output_type": "stream",
     "text": [
      "\r",
      "Simulating lambdas and thetas:  74%|███████▎  | 735/1000 [01:41<00:51,  5.15it/s]"
     ]
    },
    {
     "name": "stderr",
     "output_type": "stream",
     "text": [
      "\r",
      "Simulating lambdas and thetas:  74%|███████▎  | 736/1000 [01:41<01:00,  4.36it/s]"
     ]
    },
    {
     "name": "stderr",
     "output_type": "stream",
     "text": [
      "\r",
      "Simulating lambdas and thetas:  74%|███████▎  | 737/1000 [01:41<00:58,  4.52it/s]"
     ]
    },
    {
     "name": "stderr",
     "output_type": "stream",
     "text": [
      "\r",
      "Simulating lambdas and thetas:  74%|███████▍  | 739/1000 [01:41<00:42,  6.16it/s]"
     ]
    },
    {
     "name": "stderr",
     "output_type": "stream",
     "text": [
      "\r",
      "Simulating lambdas and thetas:  74%|███████▍  | 740/1000 [01:41<00:39,  6.63it/s]"
     ]
    },
    {
     "name": "stderr",
     "output_type": "stream",
     "text": [
      "\r",
      "Simulating lambdas and thetas:  74%|███████▍  | 741/1000 [01:42<00:36,  7.18it/s]"
     ]
    },
    {
     "name": "stderr",
     "output_type": "stream",
     "text": [
      "\r",
      "Simulating lambdas and thetas:  74%|███████▍  | 742/1000 [01:42<00:34,  7.49it/s]"
     ]
    },
    {
     "name": "stderr",
     "output_type": "stream",
     "text": [
      "\r",
      "Simulating lambdas and thetas:  74%|███████▍  | 743/1000 [01:42<00:35,  7.34it/s]"
     ]
    },
    {
     "name": "stderr",
     "output_type": "stream",
     "text": [
      "\r",
      "Simulating lambdas and thetas:  74%|███████▍  | 744/1000 [01:42<00:32,  7.86it/s]"
     ]
    },
    {
     "name": "stderr",
     "output_type": "stream",
     "text": [
      "\r",
      "Simulating lambdas and thetas:  75%|███████▍  | 746/1000 [01:42<00:27,  9.32it/s]"
     ]
    },
    {
     "name": "stderr",
     "output_type": "stream",
     "text": [
      "\r",
      "Simulating lambdas and thetas:  75%|███████▍  | 748/1000 [01:42<00:24, 10.26it/s]"
     ]
    },
    {
     "name": "stderr",
     "output_type": "stream",
     "text": [
      "\r",
      "Simulating lambdas and thetas:  75%|███████▌  | 750/1000 [01:42<00:25,  9.68it/s]"
     ]
    },
    {
     "name": "stderr",
     "output_type": "stream",
     "text": [
      "\r",
      "Simulating lambdas and thetas:  75%|███████▌  | 751/1000 [01:43<00:25,  9.68it/s]"
     ]
    },
    {
     "name": "stderr",
     "output_type": "stream",
     "text": [
      "\r",
      "Simulating lambdas and thetas:  75%|███████▌  | 753/1000 [01:43<00:33,  7.48it/s]"
     ]
    },
    {
     "name": "stderr",
     "output_type": "stream",
     "text": [
      "\r",
      "Simulating lambdas and thetas:  76%|███████▌  | 755/1000 [01:43<00:29,  8.30it/s]"
     ]
    },
    {
     "name": "stderr",
     "output_type": "stream",
     "text": [
      "\r",
      "Simulating lambdas and thetas:  76%|███████▌  | 756/1000 [01:43<00:28,  8.52it/s]"
     ]
    },
    {
     "name": "stderr",
     "output_type": "stream",
     "text": [
      "\r",
      "Simulating lambdas and thetas:  76%|███████▌  | 758/1000 [01:43<00:25,  9.38it/s]"
     ]
    },
    {
     "name": "stderr",
     "output_type": "stream",
     "text": [
      "\r",
      "Simulating lambdas and thetas:  76%|███████▌  | 759/1000 [01:44<00:28,  8.55it/s]"
     ]
    },
    {
     "name": "stderr",
     "output_type": "stream",
     "text": [
      "\r",
      "Simulating lambdas and thetas:  76%|███████▌  | 760/1000 [01:44<00:27,  8.84it/s]"
     ]
    },
    {
     "name": "stderr",
     "output_type": "stream",
     "text": [
      "\r",
      "Simulating lambdas and thetas:  76%|███████▌  | 762/1000 [01:44<00:25,  9.45it/s]"
     ]
    },
    {
     "name": "stderr",
     "output_type": "stream",
     "text": [
      "\r",
      "Simulating lambdas and thetas:  76%|███████▋  | 764/1000 [01:44<00:22, 10.49it/s]"
     ]
    },
    {
     "name": "stderr",
     "output_type": "stream",
     "text": [
      "\r",
      "Simulating lambdas and thetas:  77%|███████▋  | 766/1000 [01:44<00:21, 10.68it/s]"
     ]
    },
    {
     "name": "stderr",
     "output_type": "stream",
     "text": [
      "\r",
      "Simulating lambdas and thetas:  77%|███████▋  | 768/1000 [01:45<00:29,  7.93it/s]"
     ]
    },
    {
     "name": "stderr",
     "output_type": "stream",
     "text": [
      "\r",
      "Simulating lambdas and thetas:  77%|███████▋  | 770/1000 [01:45<00:25,  8.88it/s]"
     ]
    },
    {
     "name": "stderr",
     "output_type": "stream",
     "text": [
      "\r",
      "Simulating lambdas and thetas:  77%|███████▋  | 772/1000 [01:45<00:23,  9.50it/s]"
     ]
    },
    {
     "name": "stderr",
     "output_type": "stream",
     "text": [
      "\r",
      "Simulating lambdas and thetas:  77%|███████▋  | 774/1000 [01:45<00:29,  7.67it/s]"
     ]
    },
    {
     "name": "stderr",
     "output_type": "stream",
     "text": [
      "\r",
      "Simulating lambdas and thetas:  78%|███████▊  | 776/1000 [01:45<00:26,  8.35it/s]"
     ]
    },
    {
     "name": "stderr",
     "output_type": "stream",
     "text": [
      "\r",
      "Simulating lambdas and thetas:  78%|███████▊  | 777/1000 [01:46<00:33,  6.61it/s]"
     ]
    },
    {
     "name": "stderr",
     "output_type": "stream",
     "text": [
      "\r",
      "Simulating lambdas and thetas:  78%|███████▊  | 778/1000 [01:46<00:33,  6.59it/s]"
     ]
    },
    {
     "name": "stderr",
     "output_type": "stream",
     "text": [
      "\r",
      "Simulating lambdas and thetas:  78%|███████▊  | 779/1000 [01:46<00:41,  5.32it/s]"
     ]
    },
    {
     "name": "stderr",
     "output_type": "stream",
     "text": [
      "\r",
      "Simulating lambdas and thetas:  78%|███████▊  | 780/1000 [01:46<00:41,  5.36it/s]"
     ]
    },
    {
     "name": "stderr",
     "output_type": "stream",
     "text": [
      "\r",
      "Simulating lambdas and thetas:  78%|███████▊  | 782/1000 [01:47<00:31,  6.84it/s]"
     ]
    },
    {
     "name": "stderr",
     "output_type": "stream",
     "text": [
      "\r",
      "Simulating lambdas and thetas:  78%|███████▊  | 783/1000 [01:47<00:34,  6.35it/s]"
     ]
    },
    {
     "name": "stderr",
     "output_type": "stream",
     "text": [
      "\r",
      "Simulating lambdas and thetas:  78%|███████▊  | 785/1000 [01:47<00:28,  7.68it/s]"
     ]
    },
    {
     "name": "stderr",
     "output_type": "stream",
     "text": [
      "\r",
      "Simulating lambdas and thetas:  79%|███████▊  | 786/1000 [01:47<00:29,  7.20it/s]"
     ]
    },
    {
     "name": "stderr",
     "output_type": "stream",
     "text": [
      "\r",
      "Simulating lambdas and thetas:  79%|███████▊  | 787/1000 [01:47<00:40,  5.32it/s]"
     ]
    },
    {
     "name": "stderr",
     "output_type": "stream",
     "text": [
      "\r",
      "Simulating lambdas and thetas:  79%|███████▉  | 788/1000 [01:48<00:46,  4.57it/s]"
     ]
    },
    {
     "name": "stderr",
     "output_type": "stream",
     "text": [
      "\r",
      "Simulating lambdas and thetas:  79%|███████▉  | 789/1000 [01:48<00:39,  5.30it/s]"
     ]
    },
    {
     "name": "stderr",
     "output_type": "stream",
     "text": [
      "\r",
      "Simulating lambdas and thetas:  79%|███████▉  | 791/1000 [01:48<00:35,  5.88it/s]"
     ]
    },
    {
     "name": "stderr",
     "output_type": "stream",
     "text": [
      "\r",
      "Simulating lambdas and thetas:  79%|███████▉  | 792/1000 [01:48<00:33,  6.25it/s]"
     ]
    },
    {
     "name": "stderr",
     "output_type": "stream",
     "text": [
      "\r",
      "Simulating lambdas and thetas:  79%|███████▉  | 793/1000 [01:48<00:33,  6.27it/s]"
     ]
    },
    {
     "name": "stderr",
     "output_type": "stream",
     "text": [
      "\r",
      "Simulating lambdas and thetas:  79%|███████▉  | 794/1000 [01:49<00:30,  6.76it/s]"
     ]
    },
    {
     "name": "stderr",
     "output_type": "stream",
     "text": [
      "\r",
      "Simulating lambdas and thetas:  80%|███████▉  | 796/1000 [01:49<00:27,  7.44it/s]"
     ]
    },
    {
     "name": "stderr",
     "output_type": "stream",
     "text": [
      "\r",
      "Simulating lambdas and thetas:  80%|███████▉  | 797/1000 [01:49<00:36,  5.62it/s]"
     ]
    },
    {
     "name": "stderr",
     "output_type": "stream",
     "text": [
      "\r",
      "Simulating lambdas and thetas:  80%|███████▉  | 798/1000 [01:49<00:34,  5.78it/s]"
     ]
    },
    {
     "name": "stderr",
     "output_type": "stream",
     "text": [
      "\r",
      "Simulating lambdas and thetas:  80%|███████▉  | 799/1000 [01:49<00:31,  6.43it/s]"
     ]
    },
    {
     "name": "stderr",
     "output_type": "stream",
     "text": [
      "\r",
      "Simulating lambdas and thetas:  80%|████████  | 801/1000 [01:50<00:26,  7.54it/s]"
     ]
    },
    {
     "name": "stderr",
     "output_type": "stream",
     "text": [
      "\r",
      "Simulating lambdas and thetas:  80%|████████  | 802/1000 [01:50<00:27,  7.25it/s]"
     ]
    },
    {
     "name": "stderr",
     "output_type": "stream",
     "text": [
      "\r",
      "Simulating lambdas and thetas:  80%|████████  | 803/1000 [01:50<00:25,  7.69it/s]"
     ]
    },
    {
     "name": "stderr",
     "output_type": "stream",
     "text": [
      "\r",
      "Simulating lambdas and thetas:  80%|████████  | 804/1000 [01:50<00:29,  6.66it/s]"
     ]
    },
    {
     "name": "stderr",
     "output_type": "stream",
     "text": [
      "\r",
      "Simulating lambdas and thetas:  80%|████████  | 805/1000 [01:50<00:31,  6.23it/s]"
     ]
    },
    {
     "name": "stderr",
     "output_type": "stream",
     "text": [
      "\r",
      "Simulating lambdas and thetas:  81%|████████  | 807/1000 [01:50<00:25,  7.61it/s]"
     ]
    },
    {
     "name": "stderr",
     "output_type": "stream",
     "text": [
      "\r",
      "Simulating lambdas and thetas:  81%|████████  | 808/1000 [01:51<00:33,  5.66it/s]"
     ]
    },
    {
     "name": "stderr",
     "output_type": "stream",
     "text": [
      "\r",
      "Simulating lambdas and thetas:  81%|████████  | 810/1000 [01:51<00:35,  5.36it/s]"
     ]
    },
    {
     "name": "stderr",
     "output_type": "stream",
     "text": [
      "\r",
      "Simulating lambdas and thetas:  81%|████████  | 811/1000 [01:51<00:31,  5.99it/s]"
     ]
    },
    {
     "name": "stderr",
     "output_type": "stream",
     "text": [
      "\r",
      "Simulating lambdas and thetas:  81%|████████  | 812/1000 [01:52<00:38,  4.91it/s]"
     ]
    },
    {
     "name": "stderr",
     "output_type": "stream",
     "text": [
      "\r",
      "Simulating lambdas and thetas:  81%|████████▏ | 813/1000 [01:52<00:33,  5.62it/s]"
     ]
    },
    {
     "name": "stderr",
     "output_type": "stream",
     "text": [
      "\r",
      "Simulating lambdas and thetas:  81%|████████▏ | 814/1000 [01:52<00:39,  4.65it/s]"
     ]
    },
    {
     "name": "stderr",
     "output_type": "stream",
     "text": [
      "\r",
      "Simulating lambdas and thetas:  82%|████████▏ | 816/1000 [01:52<00:28,  6.37it/s]"
     ]
    },
    {
     "name": "stderr",
     "output_type": "stream",
     "text": [
      "\r",
      "Simulating lambdas and thetas:  82%|████████▏ | 817/1000 [01:52<00:35,  5.17it/s]"
     ]
    },
    {
     "name": "stderr",
     "output_type": "stream",
     "text": [
      "\r",
      "Simulating lambdas and thetas:  82%|████████▏ | 818/1000 [01:53<00:32,  5.58it/s]"
     ]
    },
    {
     "name": "stderr",
     "output_type": "stream",
     "text": [
      "\r",
      "Simulating lambdas and thetas:  82%|████████▏ | 820/1000 [01:53<00:33,  5.32it/s]"
     ]
    },
    {
     "name": "stderr",
     "output_type": "stream",
     "text": [
      "\r",
      "Simulating lambdas and thetas:  82%|████████▏ | 822/1000 [01:53<00:33,  5.27it/s]"
     ]
    },
    {
     "name": "stderr",
     "output_type": "stream",
     "text": [
      "\r",
      "Simulating lambdas and thetas:  82%|████████▏ | 823/1000 [01:54<00:30,  5.76it/s]"
     ]
    },
    {
     "name": "stderr",
     "output_type": "stream",
     "text": [
      "\r",
      "Simulating lambdas and thetas:  82%|████████▏ | 824/1000 [01:54<00:31,  5.51it/s]"
     ]
    },
    {
     "name": "stderr",
     "output_type": "stream",
     "text": [
      "\r",
      "Simulating lambdas and thetas:  82%|████████▎ | 825/1000 [01:54<00:37,  4.73it/s]"
     ]
    },
    {
     "name": "stderr",
     "output_type": "stream",
     "text": [
      "\r",
      "Simulating lambdas and thetas:  83%|████████▎ | 826/1000 [01:54<00:41,  4.20it/s]"
     ]
    },
    {
     "name": "stderr",
     "output_type": "stream",
     "text": [
      "\r",
      "Simulating lambdas and thetas:  83%|████████▎ | 827/1000 [01:55<00:38,  4.49it/s]"
     ]
    },
    {
     "name": "stderr",
     "output_type": "stream",
     "text": [
      "\r",
      "Simulating lambdas and thetas:  83%|████████▎ | 828/1000 [01:55<00:35,  4.86it/s]"
     ]
    },
    {
     "name": "stderr",
     "output_type": "stream",
     "text": [
      "\r",
      "Simulating lambdas and thetas:  83%|████████▎ | 829/1000 [01:55<00:30,  5.59it/s]"
     ]
    },
    {
     "name": "stderr",
     "output_type": "stream",
     "text": [
      "\r",
      "Simulating lambdas and thetas:  83%|████████▎ | 831/1000 [01:55<00:23,  7.34it/s]"
     ]
    },
    {
     "name": "stderr",
     "output_type": "stream",
     "text": [
      "\r",
      "Simulating lambdas and thetas:  83%|████████▎ | 833/1000 [01:55<00:26,  6.23it/s]"
     ]
    },
    {
     "name": "stderr",
     "output_type": "stream",
     "text": [
      "\r",
      "Simulating lambdas and thetas:  83%|████████▎ | 834/1000 [01:55<00:24,  6.75it/s]"
     ]
    },
    {
     "name": "stderr",
     "output_type": "stream",
     "text": [
      "\r",
      "Simulating lambdas and thetas:  84%|████████▎ | 835/1000 [01:56<00:30,  5.37it/s]"
     ]
    },
    {
     "name": "stderr",
     "output_type": "stream",
     "text": [
      "\r",
      "Simulating lambdas and thetas:  84%|████████▎ | 836/1000 [01:56<00:29,  5.58it/s]"
     ]
    },
    {
     "name": "stderr",
     "output_type": "stream",
     "text": [
      "\r",
      "Simulating lambdas and thetas:  84%|████████▎ | 837/1000 [01:56<00:25,  6.27it/s]"
     ]
    },
    {
     "name": "stderr",
     "output_type": "stream",
     "text": [
      "\r",
      "Simulating lambdas and thetas:  84%|████████▍ | 839/1000 [01:56<00:28,  5.66it/s]"
     ]
    },
    {
     "name": "stderr",
     "output_type": "stream",
     "text": [
      "\r",
      "Simulating lambdas and thetas:  84%|████████▍ | 840/1000 [01:57<00:25,  6.19it/s]"
     ]
    },
    {
     "name": "stderr",
     "output_type": "stream",
     "text": [
      "\r",
      "Simulating lambdas and thetas:  84%|████████▍ | 841/1000 [01:57<00:23,  6.83it/s]"
     ]
    },
    {
     "name": "stderr",
     "output_type": "stream",
     "text": [
      "\r",
      "Simulating lambdas and thetas:  84%|████████▍ | 842/1000 [01:57<00:21,  7.42it/s]"
     ]
    },
    {
     "name": "stderr",
     "output_type": "stream",
     "text": [
      "\r",
      "Simulating lambdas and thetas:  84%|████████▍ | 843/1000 [01:57<00:21,  7.32it/s]"
     ]
    },
    {
     "name": "stderr",
     "output_type": "stream",
     "text": [
      "\r",
      "Simulating lambdas and thetas:  84%|████████▍ | 844/1000 [01:57<00:20,  7.67it/s]"
     ]
    },
    {
     "name": "stderr",
     "output_type": "stream",
     "text": [
      "\r",
      "Simulating lambdas and thetas:  85%|████████▍ | 846/1000 [01:57<00:18,  8.35it/s]"
     ]
    },
    {
     "name": "stderr",
     "output_type": "stream",
     "text": [
      "\r",
      "Simulating lambdas and thetas:  85%|████████▍ | 847/1000 [01:57<00:17,  8.52it/s]"
     ]
    },
    {
     "name": "stderr",
     "output_type": "stream",
     "text": [
      "\r",
      "Simulating lambdas and thetas:  85%|████████▍ | 848/1000 [01:57<00:17,  8.85it/s]"
     ]
    },
    {
     "name": "stderr",
     "output_type": "stream",
     "text": [
      "\r",
      "Simulating lambdas and thetas:  85%|████████▌ | 850/1000 [01:58<00:14, 10.19it/s]"
     ]
    },
    {
     "name": "stderr",
     "output_type": "stream",
     "text": [
      "\r",
      "Simulating lambdas and thetas:  85%|████████▌ | 852/1000 [01:58<00:15,  9.78it/s]"
     ]
    },
    {
     "name": "stderr",
     "output_type": "stream",
     "text": [
      "\r",
      "Simulating lambdas and thetas:  85%|████████▌ | 854/1000 [01:58<00:16,  9.06it/s]"
     ]
    },
    {
     "name": "stderr",
     "output_type": "stream",
     "text": [
      "\r",
      "Simulating lambdas and thetas:  86%|████████▌ | 856/1000 [01:58<00:15,  9.27it/s]"
     ]
    },
    {
     "name": "stderr",
     "output_type": "stream",
     "text": [
      "\r",
      "Simulating lambdas and thetas:  86%|████████▌ | 858/1000 [01:58<00:14,  9.89it/s]"
     ]
    },
    {
     "name": "stderr",
     "output_type": "stream",
     "text": [
      "\r",
      "Simulating lambdas and thetas:  86%|████████▌ | 860/1000 [01:59<00:15,  9.17it/s]"
     ]
    },
    {
     "name": "stderr",
     "output_type": "stream",
     "text": [
      "\r",
      "Simulating lambdas and thetas:  86%|████████▌ | 861/1000 [01:59<00:17,  8.16it/s]"
     ]
    },
    {
     "name": "stderr",
     "output_type": "stream",
     "text": [
      "\r",
      "Simulating lambdas and thetas:  86%|████████▌ | 862/1000 [01:59<00:22,  6.13it/s]"
     ]
    },
    {
     "name": "stderr",
     "output_type": "stream",
     "text": [
      "\r",
      "Simulating lambdas and thetas:  86%|████████▋ | 863/1000 [02:00<00:26,  5.16it/s]"
     ]
    },
    {
     "name": "stderr",
     "output_type": "stream",
     "text": [
      "\r",
      "Simulating lambdas and thetas:  86%|████████▋ | 864/1000 [02:00<00:30,  4.48it/s]"
     ]
    },
    {
     "name": "stderr",
     "output_type": "stream",
     "text": [
      "\r",
      "Simulating lambdas and thetas:  86%|████████▋ | 865/1000 [02:00<00:27,  4.89it/s]"
     ]
    },
    {
     "name": "stderr",
     "output_type": "stream",
     "text": [
      "\r",
      "Simulating lambdas and thetas:  87%|████████▋ | 867/1000 [02:00<00:21,  6.32it/s]"
     ]
    },
    {
     "name": "stderr",
     "output_type": "stream",
     "text": [
      "\r",
      "Simulating lambdas and thetas:  87%|████████▋ | 868/1000 [02:00<00:19,  6.61it/s]"
     ]
    },
    {
     "name": "stderr",
     "output_type": "stream",
     "text": [
      "\r",
      "Simulating lambdas and thetas:  87%|████████▋ | 870/1000 [02:00<00:16,  7.98it/s]"
     ]
    },
    {
     "name": "stderr",
     "output_type": "stream",
     "text": [
      "\r",
      "Simulating lambdas and thetas:  87%|████████▋ | 871/1000 [02:01<00:21,  6.05it/s]"
     ]
    },
    {
     "name": "stderr",
     "output_type": "stream",
     "text": [
      "\r",
      "Simulating lambdas and thetas:  87%|████████▋ | 872/1000 [02:01<00:25,  4.94it/s]"
     ]
    },
    {
     "name": "stderr",
     "output_type": "stream",
     "text": [
      "\r",
      "Simulating lambdas and thetas:  87%|████████▋ | 873/1000 [02:01<00:22,  5.65it/s]"
     ]
    },
    {
     "name": "stderr",
     "output_type": "stream",
     "text": [
      "\r",
      "Simulating lambdas and thetas:  88%|████████▊ | 875/1000 [02:01<00:17,  6.95it/s]"
     ]
    },
    {
     "name": "stderr",
     "output_type": "stream",
     "text": [
      "\r",
      "Simulating lambdas and thetas:  88%|████████▊ | 877/1000 [02:02<00:17,  7.04it/s]"
     ]
    },
    {
     "name": "stderr",
     "output_type": "stream",
     "text": [
      "\r",
      "Simulating lambdas and thetas:  88%|████████▊ | 879/1000 [02:02<00:14,  8.28it/s]"
     ]
    },
    {
     "name": "stderr",
     "output_type": "stream",
     "text": [
      "\r",
      "Simulating lambdas and thetas:  88%|████████▊ | 881/1000 [02:02<00:17,  6.75it/s]"
     ]
    },
    {
     "name": "stderr",
     "output_type": "stream",
     "text": [
      "\r",
      "Simulating lambdas and thetas:  88%|████████▊ | 882/1000 [02:02<00:16,  7.15it/s]"
     ]
    },
    {
     "name": "stderr",
     "output_type": "stream",
     "text": [
      "\r",
      "Simulating lambdas and thetas:  88%|████████▊ | 883/1000 [02:02<00:15,  7.55it/s]"
     ]
    },
    {
     "name": "stderr",
     "output_type": "stream",
     "text": [
      "\r",
      "Simulating lambdas and thetas:  88%|████████▊ | 884/1000 [02:03<00:15,  7.66it/s]"
     ]
    },
    {
     "name": "stderr",
     "output_type": "stream",
     "text": [
      "\r",
      "Simulating lambdas and thetas:  89%|████████▊ | 886/1000 [02:03<00:12,  8.93it/s]"
     ]
    },
    {
     "name": "stderr",
     "output_type": "stream",
     "text": [
      "\r",
      "Simulating lambdas and thetas:  89%|████████▊ | 887/1000 [02:03<00:17,  6.35it/s]"
     ]
    },
    {
     "name": "stderr",
     "output_type": "stream",
     "text": [
      "\r",
      "Simulating lambdas and thetas:  89%|████████▉ | 889/1000 [02:03<00:14,  7.73it/s]"
     ]
    },
    {
     "name": "stderr",
     "output_type": "stream",
     "text": [
      "\r",
      "Simulating lambdas and thetas:  89%|████████▉ | 891/1000 [02:03<00:12,  8.76it/s]"
     ]
    },
    {
     "name": "stderr",
     "output_type": "stream",
     "text": [
      "\r",
      "Simulating lambdas and thetas:  89%|████████▉ | 892/1000 [02:03<00:12,  8.98it/s]"
     ]
    },
    {
     "name": "stderr",
     "output_type": "stream",
     "text": [
      "\r",
      "Simulating lambdas and thetas:  89%|████████▉ | 894/1000 [02:04<00:15,  7.01it/s]"
     ]
    },
    {
     "name": "stderr",
     "output_type": "stream",
     "text": [
      "\r",
      "Simulating lambdas and thetas:  90%|████████▉ | 896/1000 [02:04<00:16,  6.20it/s]"
     ]
    },
    {
     "name": "stderr",
     "output_type": "stream",
     "text": [
      "\r",
      "Simulating lambdas and thetas:  90%|████████▉ | 897/1000 [02:04<00:16,  6.34it/s]"
     ]
    },
    {
     "name": "stderr",
     "output_type": "stream",
     "text": [
      "\r",
      "Simulating lambdas and thetas:  90%|████████▉ | 899/1000 [02:05<00:13,  7.69it/s]"
     ]
    },
    {
     "name": "stderr",
     "output_type": "stream",
     "text": [
      "\r",
      "Simulating lambdas and thetas:  90%|█████████ | 900/1000 [02:05<00:12,  8.03it/s]"
     ]
    },
    {
     "name": "stderr",
     "output_type": "stream",
     "text": [
      "\r",
      "Simulating lambdas and thetas:  90%|█████████ | 901/1000 [02:05<00:11,  8.38it/s]"
     ]
    },
    {
     "name": "stderr",
     "output_type": "stream",
     "text": [
      "\r",
      "Simulating lambdas and thetas:  90%|█████████ | 903/1000 [02:05<00:10,  9.58it/s]"
     ]
    },
    {
     "name": "stderr",
     "output_type": "stream",
     "text": [
      "\r",
      "Simulating lambdas and thetas:  90%|█████████ | 905/1000 [02:05<00:09,  9.55it/s]"
     ]
    },
    {
     "name": "stderr",
     "output_type": "stream",
     "text": [
      "\r",
      "Simulating lambdas and thetas:  91%|█████████ | 906/1000 [02:05<00:10,  8.59it/s]"
     ]
    },
    {
     "name": "stderr",
     "output_type": "stream",
     "text": [
      "\r",
      "Simulating lambdas and thetas:  91%|█████████ | 908/1000 [02:06<00:13,  6.80it/s]"
     ]
    },
    {
     "name": "stderr",
     "output_type": "stream",
     "text": [
      "\r",
      "Simulating lambdas and thetas:  91%|█████████ | 910/1000 [02:06<00:14,  6.11it/s]"
     ]
    },
    {
     "name": "stderr",
     "output_type": "stream",
     "text": [
      "\r",
      "Simulating lambdas and thetas:  91%|█████████ | 911/1000 [02:06<00:15,  5.80it/s]"
     ]
    },
    {
     "name": "stderr",
     "output_type": "stream",
     "text": [
      "\r",
      "Simulating lambdas and thetas:  91%|█████████ | 912/1000 [02:07<00:17,  4.92it/s]"
     ]
    },
    {
     "name": "stderr",
     "output_type": "stream",
     "text": [
      "\r",
      "Simulating lambdas and thetas:  91%|█████████▏| 913/1000 [02:07<00:16,  5.37it/s]"
     ]
    },
    {
     "name": "stderr",
     "output_type": "stream",
     "text": [
      "\r",
      "Simulating lambdas and thetas:  92%|█████████▏| 915/1000 [02:07<00:15,  5.32it/s]"
     ]
    },
    {
     "name": "stderr",
     "output_type": "stream",
     "text": [
      "\r",
      "Simulating lambdas and thetas:  92%|█████████▏| 917/1000 [02:07<00:12,  6.78it/s]"
     ]
    },
    {
     "name": "stderr",
     "output_type": "stream",
     "text": [
      "\r",
      "Simulating lambdas and thetas:  92%|█████████▏| 919/1000 [02:07<00:10,  8.05it/s]"
     ]
    },
    {
     "name": "stderr",
     "output_type": "stream",
     "text": [
      "\r",
      "Simulating lambdas and thetas:  92%|█████████▏| 921/1000 [02:08<00:09,  8.50it/s]"
     ]
    },
    {
     "name": "stderr",
     "output_type": "stream",
     "text": [
      "\r",
      "Simulating lambdas and thetas:  92%|█████████▏| 923/1000 [02:08<00:11,  6.88it/s]"
     ]
    },
    {
     "name": "stderr",
     "output_type": "stream",
     "text": [
      "\r",
      "Simulating lambdas and thetas:  92%|█████████▏| 924/1000 [02:08<00:13,  5.60it/s]"
     ]
    },
    {
     "name": "stderr",
     "output_type": "stream",
     "text": [
      "\r",
      "Simulating lambdas and thetas:  92%|█████████▎| 925/1000 [02:09<00:13,  5.38it/s]"
     ]
    },
    {
     "name": "stderr",
     "output_type": "stream",
     "text": [
      "\r",
      "Simulating lambdas and thetas:  93%|█████████▎| 926/1000 [02:09<00:15,  4.65it/s]"
     ]
    },
    {
     "name": "stderr",
     "output_type": "stream",
     "text": [
      "\r",
      "Simulating lambdas and thetas:  93%|█████████▎| 928/1000 [02:09<00:14,  4.83it/s]"
     ]
    },
    {
     "name": "stderr",
     "output_type": "stream",
     "text": [
      "\r",
      "Simulating lambdas and thetas:  93%|█████████▎| 929/1000 [02:09<00:13,  5.45it/s]"
     ]
    },
    {
     "name": "stderr",
     "output_type": "stream",
     "text": [
      "\r",
      "Simulating lambdas and thetas:  93%|█████████▎| 931/1000 [02:10<00:13,  5.25it/s]"
     ]
    },
    {
     "name": "stderr",
     "output_type": "stream",
     "text": [
      "\r",
      "Simulating lambdas and thetas:  93%|█████████▎| 932/1000 [02:10<00:11,  5.75it/s]"
     ]
    },
    {
     "name": "stderr",
     "output_type": "stream",
     "text": [
      "\r",
      "Simulating lambdas and thetas:  93%|█████████▎| 934/1000 [02:10<00:09,  6.82it/s]"
     ]
    },
    {
     "name": "stderr",
     "output_type": "stream",
     "text": [
      "\r",
      "Simulating lambdas and thetas:  94%|█████████▎| 935/1000 [02:10<00:08,  7.24it/s]"
     ]
    },
    {
     "name": "stderr",
     "output_type": "stream",
     "text": [
      "\r",
      "Simulating lambdas and thetas:  94%|█████████▎| 936/1000 [02:10<00:09,  6.82it/s]"
     ]
    },
    {
     "name": "stderr",
     "output_type": "stream",
     "text": [
      "\r",
      "Simulating lambdas and thetas:  94%|█████████▎| 937/1000 [02:11<00:08,  7.37it/s]"
     ]
    },
    {
     "name": "stderr",
     "output_type": "stream",
     "text": [
      "\r",
      "Simulating lambdas and thetas:  94%|█████████▍| 939/1000 [02:11<00:09,  6.74it/s]"
     ]
    },
    {
     "name": "stderr",
     "output_type": "stream",
     "text": [
      "\r",
      "Simulating lambdas and thetas:  94%|█████████▍| 940/1000 [02:11<00:11,  5.41it/s]"
     ]
    },
    {
     "name": "stderr",
     "output_type": "stream",
     "text": [
      "\r",
      "Simulating lambdas and thetas:  94%|█████████▍| 942/1000 [02:11<00:08,  6.83it/s]"
     ]
    },
    {
     "name": "stderr",
     "output_type": "stream",
     "text": [
      "\r",
      "Simulating lambdas and thetas:  94%|█████████▍| 943/1000 [02:12<00:10,  5.43it/s]"
     ]
    },
    {
     "name": "stderr",
     "output_type": "stream",
     "text": [
      "\r",
      "Simulating lambdas and thetas:  94%|█████████▍| 944/1000 [02:12<00:09,  6.04it/s]"
     ]
    },
    {
     "name": "stderr",
     "output_type": "stream",
     "text": [
      "\r",
      "Simulating lambdas and thetas:  95%|█████████▍| 946/1000 [02:12<00:09,  5.66it/s]"
     ]
    },
    {
     "name": "stderr",
     "output_type": "stream",
     "text": [
      "\r",
      "Simulating lambdas and thetas:  95%|█████████▍| 948/1000 [02:13<00:09,  5.50it/s]"
     ]
    },
    {
     "name": "stderr",
     "output_type": "stream",
     "text": [
      "\r",
      "Simulating lambdas and thetas:  95%|█████████▍| 949/1000 [02:13<00:08,  6.00it/s]"
     ]
    },
    {
     "name": "stderr",
     "output_type": "stream",
     "text": [
      "\r",
      "Simulating lambdas and thetas:  95%|█████████▌| 950/1000 [02:13<00:07,  6.53it/s]"
     ]
    },
    {
     "name": "stderr",
     "output_type": "stream",
     "text": [
      "\r",
      "Simulating lambdas and thetas:  95%|█████████▌| 952/1000 [02:13<00:06,  7.61it/s]"
     ]
    },
    {
     "name": "stderr",
     "output_type": "stream",
     "text": [
      "\r",
      "Simulating lambdas and thetas:  95%|█████████▌| 954/1000 [02:13<00:07,  6.44it/s]"
     ]
    },
    {
     "name": "stderr",
     "output_type": "stream",
     "text": [
      "\r",
      "Simulating lambdas and thetas:  96%|█████████▌| 956/1000 [02:14<00:05,  7.50it/s]"
     ]
    },
    {
     "name": "stderr",
     "output_type": "stream",
     "text": [
      "\r",
      "Simulating lambdas and thetas:  96%|█████████▌| 957/1000 [02:14<00:05,  7.87it/s]"
     ]
    },
    {
     "name": "stderr",
     "output_type": "stream",
     "text": [
      "\r",
      "Simulating lambdas and thetas:  96%|█████████▌| 959/1000 [02:14<00:04,  8.38it/s]"
     ]
    },
    {
     "name": "stderr",
     "output_type": "stream",
     "text": [
      "\r",
      "Simulating lambdas and thetas:  96%|█████████▌| 960/1000 [02:14<00:06,  6.25it/s]"
     ]
    },
    {
     "name": "stderr",
     "output_type": "stream",
     "text": [
      "\r",
      "Simulating lambdas and thetas:  96%|█████████▌| 961/1000 [02:14<00:05,  6.59it/s]"
     ]
    },
    {
     "name": "stderr",
     "output_type": "stream",
     "text": [
      "\r",
      "Simulating lambdas and thetas:  96%|█████████▌| 962/1000 [02:14<00:05,  6.49it/s]"
     ]
    },
    {
     "name": "stderr",
     "output_type": "stream",
     "text": [
      "\r",
      "Simulating lambdas and thetas:  96%|█████████▋| 964/1000 [02:15<00:04,  7.81it/s]"
     ]
    },
    {
     "name": "stderr",
     "output_type": "stream",
     "text": [
      "\r",
      "Simulating lambdas and thetas:  96%|█████████▋| 965/1000 [02:15<00:04,  8.01it/s]"
     ]
    },
    {
     "name": "stderr",
     "output_type": "stream",
     "text": [
      "\r",
      "Simulating lambdas and thetas:  97%|█████████▋| 966/1000 [02:15<00:04,  8.37it/s]"
     ]
    },
    {
     "name": "stderr",
     "output_type": "stream",
     "text": [
      "\r",
      "Simulating lambdas and thetas:  97%|█████████▋| 967/1000 [02:15<00:03,  8.66it/s]"
     ]
    },
    {
     "name": "stderr",
     "output_type": "stream",
     "text": [
      "\r",
      "Simulating lambdas and thetas:  97%|█████████▋| 968/1000 [02:15<00:03,  8.74it/s]"
     ]
    },
    {
     "name": "stderr",
     "output_type": "stream",
     "text": [
      "\r",
      "Simulating lambdas and thetas:  97%|█████████▋| 969/1000 [02:15<00:03,  8.91it/s]"
     ]
    },
    {
     "name": "stderr",
     "output_type": "stream",
     "text": [
      "\r",
      "Simulating lambdas and thetas:  97%|█████████▋| 971/1000 [02:15<00:03,  9.06it/s]"
     ]
    },
    {
     "name": "stderr",
     "output_type": "stream",
     "text": [
      "\r",
      "Simulating lambdas and thetas:  97%|█████████▋| 972/1000 [02:16<00:03,  7.93it/s]"
     ]
    },
    {
     "name": "stderr",
     "output_type": "stream",
     "text": [
      "\r",
      "Simulating lambdas and thetas:  97%|█████████▋| 974/1000 [02:16<00:03,  8.65it/s]"
     ]
    },
    {
     "name": "stderr",
     "output_type": "stream",
     "text": [
      "\r",
      "Simulating lambdas and thetas:  98%|█████████▊| 976/1000 [02:16<00:03,  6.84it/s]"
     ]
    },
    {
     "name": "stderr",
     "output_type": "stream",
     "text": [
      "\r",
      "Simulating lambdas and thetas:  98%|█████████▊| 978/1000 [02:16<00:02,  8.03it/s]"
     ]
    },
    {
     "name": "stderr",
     "output_type": "stream",
     "text": [
      "\r",
      "Simulating lambdas and thetas:  98%|█████████▊| 980/1000 [02:17<00:02,  8.24it/s]"
     ]
    },
    {
     "name": "stderr",
     "output_type": "stream",
     "text": [
      "\r",
      "Simulating lambdas and thetas:  98%|█████████▊| 981/1000 [02:17<00:02,  6.44it/s]"
     ]
    },
    {
     "name": "stderr",
     "output_type": "stream",
     "text": [
      "\r",
      "Simulating lambdas and thetas:  98%|█████████▊| 982/1000 [02:17<00:02,  6.89it/s]"
     ]
    },
    {
     "name": "stderr",
     "output_type": "stream",
     "text": [
      "\r",
      "Simulating lambdas and thetas:  98%|█████████▊| 984/1000 [02:17<00:02,  7.78it/s]"
     ]
    },
    {
     "name": "stderr",
     "output_type": "stream",
     "text": [
      "\r",
      "Simulating lambdas and thetas:  98%|█████████▊| 985/1000 [02:17<00:02,  5.93it/s]"
     ]
    },
    {
     "name": "stderr",
     "output_type": "stream",
     "text": [
      "\r",
      "Simulating lambdas and thetas:  99%|█████████▊| 986/1000 [02:18<00:02,  6.50it/s]"
     ]
    },
    {
     "name": "stderr",
     "output_type": "stream",
     "text": [
      "\r",
      "Simulating lambdas and thetas:  99%|█████████▉| 988/1000 [02:18<00:02,  5.74it/s]"
     ]
    },
    {
     "name": "stderr",
     "output_type": "stream",
     "text": [
      "\r",
      "Simulating lambdas and thetas:  99%|█████████▉| 989/1000 [02:18<00:01,  5.76it/s]"
     ]
    },
    {
     "name": "stderr",
     "output_type": "stream",
     "text": [
      "\r",
      "Simulating lambdas and thetas:  99%|█████████▉| 990/1000 [02:18<00:01,  6.21it/s]"
     ]
    },
    {
     "name": "stderr",
     "output_type": "stream",
     "text": [
      "\r",
      "Simulating lambdas and thetas:  99%|█████████▉| 991/1000 [02:19<00:01,  5.65it/s]"
     ]
    },
    {
     "name": "stderr",
     "output_type": "stream",
     "text": [
      "\r",
      "Simulating lambdas and thetas:  99%|█████████▉| 992/1000 [02:19<00:01,  6.27it/s]"
     ]
    },
    {
     "name": "stderr",
     "output_type": "stream",
     "text": [
      "\r",
      "Simulating lambdas and thetas:  99%|█████████▉| 994/1000 [02:19<00:00,  7.69it/s]"
     ]
    },
    {
     "name": "stderr",
     "output_type": "stream",
     "text": [
      "\r",
      "Simulating lambdas and thetas: 100%|█████████▉| 996/1000 [02:19<00:00,  6.41it/s]"
     ]
    },
    {
     "name": "stderr",
     "output_type": "stream",
     "text": [
      "\r",
      "Simulating lambdas and thetas: 100%|█████████▉| 998/1000 [02:19<00:00,  7.48it/s]"
     ]
    },
    {
     "name": "stderr",
     "output_type": "stream",
     "text": [
      "\r",
      "Simulating lambdas and thetas: 100%|█████████▉| 999/1000 [02:20<00:00,  5.87it/s]"
     ]
    },
    {
     "name": "stderr",
     "output_type": "stream",
     "text": [
      "\r",
      "Simulating lambdas and thetas: 100%|██████████| 1000/1000 [02:20<00:00,  6.01it/s]"
     ]
    },
    {
     "name": "stderr",
     "output_type": "stream",
     "text": [
      "\r",
      "Simulating lambdas and thetas: 100%|██████████| 1000/1000 [02:20<00:00,  7.13it/s]"
     ]
    },
    {
     "name": "stderr",
     "output_type": "stream",
     "text": [
      "\n"
     ]
    }
   ],
   "source": [
    "thetas, model_lambdas = sample_gmm(n = B, N = N)\n",
    "model_thetas = thetas.reshape(-1, 1)"
   ]
  },
  {
   "cell_type": "markdown",
   "id": "8feb07fc",
   "metadata": {},
   "source": [
    "Fitting all other methods:"
   ]
  },
  {
   "cell_type": "code",
   "execution_count": 6,
   "id": "92f4612c",
   "metadata": {},
   "outputs": [
    {
     "name": "stdout",
     "output_type": "stream",
     "text": [
      "LOCART running time: 0.008133888244628906 seconds.\n",
      "LOFOREST running time: 0.13367795944213867 seconds.\n"
     ]
    },
    {
     "name": "stdout",
     "output_type": "stream",
     "text": [
      "Boosting running time: 0.35764503479003906 seconds.\n"
     ]
    }
   ],
   "source": [
    "# locart quantiles\n",
    "start_time = time.time()\n",
    "locart_object = LocartSplit(LambdaScore, None, alpha = alpha, is_fitted = True, split_calib = False)\n",
    "locart_quantiles = locart_object.calib(model_thetas, model_lambdas, min_samples_leaf = 50)\n",
    "end_time = time.time()\n",
    "print(f\"LOCART running time: {end_time - start_time} seconds.\")\n",
    "\n",
    "# loforest quantiles\n",
    "start_time = time.time()\n",
    "loforest_object = ConformalLoforest(LambdaScore, None, alpha = alpha, is_fitted = True, split_calib = False)\n",
    "loforest_object.calibrate(model_thetas, model_lambdas, min_samples_leaf = 100)\n",
    "end_time = time.time()\n",
    "print(f\"LOFOREST running time: {end_time - start_time} seconds.\")\n",
    "\n",
    "# boosting quantiles\n",
    "start_time = time.time()\n",
    "model = HistGradientBoostingRegressor(loss=\"quantile\", quantile = 1 - alpha, random_state = 105)\n",
    "model.fit(model_thetas, model_lambdas)\n",
    "end_time = time.time()\n",
    "print(f\"Boosting running time: {end_time - start_time} seconds.\")"
   ]
  },
  {
   "cell_type": "markdown",
   "id": "41375042",
   "metadata": {},
   "source": [
    "Predicting for $theta$ in a relatively thin grid:\n"
   ]
  },
  {
   "cell_type": "code",
   "execution_count": 7,
   "id": "39468a39",
   "metadata": {},
   "outputs": [],
   "source": [
    "n_out = 45\n",
    "thetas = np.linspace(0.001, 4.999, n_out)\n",
    "\n",
    "# naive quantiles\n",
    "naive_list = predict_naive_quantile(thetas, naive_quantiles)\n",
    "\n",
    "# locart quantiles\n",
    "idxs = locart_object.cart.apply(thetas.reshape(-1, 1))\n",
    "list_locart_quantiles = [locart_quantiles[idx] for idx in idxs]\n",
    "\n",
    "# loforest\n",
    "loforest_cutoffs = loforest_object.compute_cutoffs(thetas.reshape(-1, 1))\n",
    "\n",
    "# boosting\n",
    "boosting_quantiles = model.predict(thetas.reshape(-1, 1))\n",
    "\n",
    "# dictionary of quantiles\n",
    "quantile_dict = {\n",
    "    \"naive\": naive_list,\n",
    "    \"locart\": list_locart_quantiles,\n",
    "    \"loforest\": loforest_cutoffs,\n",
    "    \"boosting\": boosting_quantiles,\n",
    "}"
   ]
  },
  {
   "cell_type": "markdown",
   "id": "e0120e15",
   "metadata": {},
   "source": [
    "Obtaining coverage data for $N = 100$:"
   ]
  },
  {
   "cell_type": "code",
   "execution_count": 8,
   "id": "73c28643",
   "metadata": {},
   "outputs": [
    {
     "name": "stderr",
     "output_type": "stream",
     "text": [
      "\r",
      "Computing coverage for each method:   0%|          | 0/45 [00:00<?, ?it/s]"
     ]
    },
    {
     "name": "stderr",
     "output_type": "stream",
     "text": [
      "\r",
      "Computing coverage for each method:   2%|▏         | 1/45 [01:55<1:24:59, 115.90s/it]"
     ]
    },
    {
     "name": "stderr",
     "output_type": "stream",
     "text": [
      "\r",
      "Computing coverage for each method:   4%|▍         | 2/45 [03:54<1:24:09, 117.44s/it]"
     ]
    },
    {
     "name": "stderr",
     "output_type": "stream",
     "text": [
      "\r",
      "Computing coverage for each method:   7%|▋         | 3/45 [05:44<1:19:58, 114.26s/it]"
     ]
    },
    {
     "name": "stderr",
     "output_type": "stream",
     "text": [
      "\r",
      "Computing coverage for each method:   9%|▉         | 4/45 [07:30<1:15:42, 110.78s/it]"
     ]
    },
    {
     "name": "stderr",
     "output_type": "stream",
     "text": [
      "\r",
      "Computing coverage for each method:  11%|█         | 5/45 [09:17<1:13:02, 109.56s/it]"
     ]
    },
    {
     "name": "stderr",
     "output_type": "stream",
     "text": [
      "\r",
      "Computing coverage for each method:  13%|█▎        | 6/45 [10:56<1:08:48, 105.85s/it]"
     ]
    },
    {
     "name": "stderr",
     "output_type": "stream",
     "text": [
      "\r",
      "Computing coverage for each method:  16%|█▌        | 7/45 [12:33<1:05:10, 102.91s/it]"
     ]
    },
    {
     "name": "stderr",
     "output_type": "stream",
     "text": [
      "\r",
      "Computing coverage for each method:  18%|█▊        | 8/45 [14:08<1:01:58, 100.51s/it]"
     ]
    },
    {
     "name": "stderr",
     "output_type": "stream",
     "text": [
      "\r",
      "Computing coverage for each method:  20%|██        | 9/45 [15:38<58:16, 97.13s/it]   "
     ]
    },
    {
     "name": "stderr",
     "output_type": "stream",
     "text": [
      "\r",
      "Computing coverage for each method:  22%|██▏       | 10/45 [17:09<55:40, 95.43s/it]"
     ]
    },
    {
     "name": "stderr",
     "output_type": "stream",
     "text": [
      "\r",
      "Computing coverage for each method:  24%|██▍       | 11/45 [18:39<53:05, 93.69s/it]"
     ]
    },
    {
     "name": "stderr",
     "output_type": "stream",
     "text": [
      "\r",
      "Computing coverage for each method:  27%|██▋       | 12/45 [20:00<49:19, 89.68s/it]"
     ]
    },
    {
     "name": "stderr",
     "output_type": "stream",
     "text": [
      "\r",
      "Computing coverage for each method:  29%|██▉       | 13/45 [21:18<46:04, 86.38s/it]"
     ]
    },
    {
     "name": "stderr",
     "output_type": "stream",
     "text": [
      "\r",
      "Computing coverage for each method:  31%|███       | 14/45 [22:36<43:19, 83.85s/it]"
     ]
    },
    {
     "name": "stderr",
     "output_type": "stream",
     "text": [
      "\r",
      "Computing coverage for each method:  33%|███▎      | 15/45 [23:48<40:04, 80.15s/it]"
     ]
    },
    {
     "name": "stderr",
     "output_type": "stream",
     "text": [
      "\r",
      "Computing coverage for each method:  36%|███▌      | 16/45 [24:59<37:24, 77.40s/it]"
     ]
    },
    {
     "name": "stderr",
     "output_type": "stream",
     "text": [
      "\r",
      "Computing coverage for each method:  38%|███▊      | 17/45 [26:06<34:36, 74.16s/it]"
     ]
    },
    {
     "name": "stderr",
     "output_type": "stream",
     "text": [
      "\r",
      "Computing coverage for each method:  40%|████      | 18/45 [27:08<31:43, 70.50s/it]"
     ]
    },
    {
     "name": "stderr",
     "output_type": "stream",
     "text": [
      "\r",
      "Computing coverage for each method:  42%|████▏     | 19/45 [28:06<28:59, 66.90s/it]"
     ]
    },
    {
     "name": "stderr",
     "output_type": "stream",
     "text": [
      "\r",
      "Computing coverage for each method:  44%|████▍     | 20/45 [29:05<26:55, 64.60s/it]"
     ]
    },
    {
     "name": "stderr",
     "output_type": "stream",
     "text": [
      "\r",
      "Computing coverage for each method:  47%|████▋     | 21/45 [29:59<24:30, 61.26s/it]"
     ]
    },
    {
     "name": "stderr",
     "output_type": "stream",
     "text": [
      "\r",
      "Computing coverage for each method:  49%|████▉     | 22/45 [30:50<22:16, 58.12s/it]"
     ]
    },
    {
     "name": "stderr",
     "output_type": "stream",
     "text": [
      "\r",
      "Computing coverage for each method:  51%|█████     | 23/45 [31:40<20:23, 55.63s/it]"
     ]
    },
    {
     "name": "stderr",
     "output_type": "stream",
     "text": [
      "\r",
      "Computing coverage for each method:  53%|█████▎    | 24/45 [32:27<18:34, 53.06s/it]"
     ]
    },
    {
     "name": "stderr",
     "output_type": "stream",
     "text": [
      "\r",
      "Computing coverage for each method:  56%|█████▌    | 25/45 [33:13<17:00, 51.03s/it]"
     ]
    },
    {
     "name": "stderr",
     "output_type": "stream",
     "text": [
      "\r",
      "Computing coverage for each method:  58%|█████▊    | 26/45 [33:57<15:32, 49.09s/it]"
     ]
    },
    {
     "name": "stderr",
     "output_type": "stream",
     "text": [
      "\r",
      "Computing coverage for each method:  60%|██████    | 27/45 [34:44<14:27, 48.20s/it]"
     ]
    },
    {
     "name": "stderr",
     "output_type": "stream",
     "text": [
      "\r",
      "Computing coverage for each method:  62%|██████▏   | 28/45 [35:29<13:26, 47.46s/it]"
     ]
    },
    {
     "name": "stderr",
     "output_type": "stream",
     "text": [
      "\r",
      "Computing coverage for each method:  64%|██████▍   | 29/45 [36:14<12:25, 46.57s/it]"
     ]
    },
    {
     "name": "stderr",
     "output_type": "stream",
     "text": [
      "\r",
      "Computing coverage for each method:  67%|██████▋   | 30/45 [36:59<11:32, 46.20s/it]"
     ]
    },
    {
     "name": "stderr",
     "output_type": "stream",
     "text": [
      "\r",
      "Computing coverage for each method:  69%|██████▉   | 31/45 [37:47<10:53, 46.69s/it]"
     ]
    },
    {
     "name": "stderr",
     "output_type": "stream",
     "text": [
      "\r",
      "Computing coverage for each method:  71%|███████   | 32/45 [38:34<10:08, 46.83s/it]"
     ]
    },
    {
     "name": "stderr",
     "output_type": "stream",
     "text": [
      "\r",
      "Computing coverage for each method:  73%|███████▎  | 33/45 [39:22<09:27, 47.27s/it]"
     ]
    },
    {
     "name": "stderr",
     "output_type": "stream",
     "text": [
      "\r",
      "Computing coverage for each method:  76%|███████▌  | 34/45 [40:10<08:40, 47.31s/it]"
     ]
    },
    {
     "name": "stderr",
     "output_type": "stream",
     "text": [
      "\r",
      "Computing coverage for each method:  78%|███████▊  | 35/45 [41:02<08:06, 48.65s/it]"
     ]
    },
    {
     "name": "stderr",
     "output_type": "stream",
     "text": [
      "\r",
      "Computing coverage for each method:  80%|████████  | 36/45 [41:55<07:31, 50.17s/it]"
     ]
    },
    {
     "name": "stderr",
     "output_type": "stream",
     "text": [
      "\r",
      "Computing coverage for each method:  82%|████████▏ | 37/45 [42:55<07:04, 53.10s/it]"
     ]
    },
    {
     "name": "stderr",
     "output_type": "stream",
     "text": [
      "\r",
      "Computing coverage for each method:  84%|████████▍ | 38/45 [43:59<06:34, 56.42s/it]"
     ]
    },
    {
     "name": "stderr",
     "output_type": "stream",
     "text": [
      "\r",
      "Computing coverage for each method:  87%|████████▋ | 39/45 [45:02<05:50, 58.41s/it]"
     ]
    },
    {
     "name": "stderr",
     "output_type": "stream",
     "text": [
      "\r",
      "Computing coverage for each method:  89%|████████▉ | 40/45 [46:15<05:12, 62.56s/it]"
     ]
    },
    {
     "name": "stderr",
     "output_type": "stream",
     "text": [
      "\r",
      "Computing coverage for each method:  91%|█████████ | 41/45 [47:31<04:27, 66.76s/it]"
     ]
    },
    {
     "name": "stderr",
     "output_type": "stream",
     "text": [
      "\r",
      "Computing coverage for each method:  93%|█████████▎| 42/45 [48:53<03:33, 71.24s/it]"
     ]
    },
    {
     "name": "stderr",
     "output_type": "stream",
     "text": [
      "\r",
      "Computing coverage for each method:  96%|█████████▌| 43/45 [50:16<02:29, 74.70s/it]"
     ]
    },
    {
     "name": "stderr",
     "output_type": "stream",
     "text": [
      "\r",
      "Computing coverage for each method:  98%|█████████▊| 44/45 [51:44<01:18, 78.69s/it]"
     ]
    },
    {
     "name": "stderr",
     "output_type": "stream",
     "text": [
      "\r",
      "Computing coverage for each method: 100%|██████████| 45/45 [53:20<00:00, 83.86s/it]"
     ]
    },
    {
     "name": "stderr",
     "output_type": "stream",
     "text": [
      "\r",
      "Computing coverage for each method: 100%|██████████| 45/45 [53:20<00:00, 71.12s/it]"
     ]
    },
    {
     "name": "stderr",
     "output_type": "stream",
     "text": [
      "\n"
     ]
    }
   ],
   "source": [
    "cover_data = evaluate_coverage(quantile_dict, thetas)"
   ]
  },
  {
   "cell_type": "markdown",
   "id": "5ef97115",
   "metadata": {},
   "source": [
    "Analising MAE and std"
   ]
  },
  {
   "cell_type": "code",
   "execution_count": 9,
   "id": "843ced5b",
   "metadata": {},
   "outputs": [
    {
     "data": {
      "text/html": [
       "<div>\n",
       "<style scoped>\n",
       "    .dataframe tbody tr th:only-of-type {\n",
       "        vertical-align: middle;\n",
       "    }\n",
       "\n",
       "    .dataframe tbody tr th {\n",
       "        vertical-align: top;\n",
       "    }\n",
       "\n",
       "    .dataframe thead th {\n",
       "        text-align: right;\n",
       "    }\n",
       "</style>\n",
       "<table border=\"1\" class=\"dataframe\">\n",
       "  <thead>\n",
       "    <tr style=\"text-align: right;\">\n",
       "      <th></th>\n",
       "      <th>methods</th>\n",
       "      <th>MAE</th>\n",
       "      <th>str</th>\n",
       "    </tr>\n",
       "  </thead>\n",
       "  <tbody>\n",
       "    <tr>\n",
       "      <th>0</th>\n",
       "      <td>LOCART</td>\n",
       "      <td>0.017467</td>\n",
       "      <td>0.001531</td>\n",
       "    </tr>\n",
       "    <tr>\n",
       "      <th>1</th>\n",
       "      <td>LOFOREST</td>\n",
       "      <td>0.016933</td>\n",
       "      <td>0.001679</td>\n",
       "    </tr>\n",
       "    <tr>\n",
       "      <th>2</th>\n",
       "      <td>boosting</td>\n",
       "      <td>0.057200</td>\n",
       "      <td>0.007783</td>\n",
       "    </tr>\n",
       "    <tr>\n",
       "      <th>3</th>\n",
       "      <td>naive</td>\n",
       "      <td>0.009956</td>\n",
       "      <td>0.001218</td>\n",
       "    </tr>\n",
       "  </tbody>\n",
       "</table>\n",
       "</div>"
      ],
      "text/plain": [
       "    methods       MAE       str\n",
       "0    LOCART  0.017467  0.001531\n",
       "1  LOFOREST  0.016933  0.001679\n",
       "2  boosting  0.057200  0.007783\n",
       "3     naive  0.009956  0.001218"
      ]
     },
     "execution_count": 9,
     "metadata": {},
     "output_type": "execute_result"
    }
   ],
   "source": [
    "cover_data[0]"
   ]
  },
  {
   "cell_type": "markdown",
   "id": "8c823b32",
   "metadata": {},
   "source": [
    "Visualizing coverage:"
   ]
  },
  {
   "cell_type": "code",
   "execution_count": 10,
   "id": "2c1ad388",
   "metadata": {},
   "outputs": [
    {
     "data": {
      "application/pdf": "[encoded data removed]",
      "text/plain": [
       "<Figure size 3000x1800 with 1 Axes>"
      ]
     },
     "metadata": {},
     "output_type": "display_data"
    }
   ],
   "source": [
    "# Melt the coverage data\n",
    "coverage_data_melted = pd.melt(\n",
    "    cover_data[1], id_vars=[\"thetas\"], var_name=\"method\", value_name=\"coverage\"\n",
    ")\n",
    "\n",
    "# Plot the coverage as function of the thetas generated\n",
    "plt.figure(figsize=(10, 6))\n",
    "sns.lineplot(data=coverage_data_melted, x=\"thetas\", y=\"coverage\", hue=\"method\")\n",
    "plt.title(\"Coverage as function of the thetas generated\")\n",
    "plt.xlabel(\"Thetas\")\n",
    "plt.ylabel(\"Coverage\")\n",
    "plt.show()"
   ]
  }
 ],
 "metadata": {
  "kernelspec": {
   "display_name": "Python 3 (ipykernel)",
   "language": "python",
   "name": "python3"
  },
  "language_info": {
   "codemirror_mode": {
    "name": "ipython",
    "version": 3
   },
   "file_extension": ".py",
   "mimetype": "text/x-python",
   "name": "python",
   "nbconvert_exporter": "python",
   "pygments_lexer": "ipython3",
   "version": "3.11.5"
  }
 },
 "nbformat": 4,
 "nbformat_minor": 5
}
