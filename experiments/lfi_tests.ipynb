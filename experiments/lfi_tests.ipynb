{
 "cells": [
  {
   "cell_type": "markdown",
   "metadata": {},
   "source": [
    "# Testing posterior estimators in the LFI context"
   ]
  },
  {
   "cell_type": "code",
   "execution_count": 2,
   "metadata": {},
   "outputs": [],
   "source": [
    "# Importing all packages\n",
    "# normalizing flows packages\n",
    "import torch\n",
    "from torch.utils.data import TensorDataset, DataLoader\n",
    "import normflows as nf\n",
    "\n",
    "# loforest and locart functions\n",
    "from CP2LFI.loforest import ConformalLoforest, tune_loforest_LFI\n",
    "from CP2LFI.scores import Scores, LambdaScore\n",
    "from CP2LFI.simulations import Simulations, naive, predict_naive_quantile\n",
    "from CP2LFI.posterior_models import normflow_posterior\n",
    "\n",
    "# quantile regression\n",
    "from sklearn.ensemble import HistGradientBoostingRegressor\n",
    "\n",
    "# plotting and numpy\n",
    "from matplotlib import pyplot as plt\n",
    "import numpy as np\n",
    "from tqdm import tqdm\n",
    "\n",
    "# package to simulate from weinberg LFI data\n",
    "# weinberg data (physics)\n",
    "from hypothesis.benchmark import weinberg\n",
    "# mg1 data (queue theory)\n",
    "from hypothesis.benchmark import mg1\n",
    "# multivariate normal (toy example)\n",
    "from hypothesis.benchmark import tractable"
   ]
  },
  {
   "cell_type": "markdown",
   "metadata": {},
   "source": [
    "## Organizing preliminary functions and classes first:"
   ]
  },
  {
   "cell_type": "code",
   "execution_count": 3,
   "metadata": {},
   "outputs": [],
   "source": [
    "# creating all used statistics scores\n",
    "# waldo score \n",
    "class WaldoScore(Scores):\n",
    "    def fit(self, X = None, thetas = None):\n",
    "        # setting up model for normalizing flows\n",
    "        if self.is_fitted:\n",
    "            return self\n",
    "        elif self.base_model is not None:\n",
    "            self.base_model.fit(X, thetas)\n",
    "        else:\n",
    "            return self\n",
    "\n",
    "    def compute(self, thetas, X, N = 10**4, one_sample = False):\n",
    "        # simulating from each theta and dataset to compute waldo statistic\n",
    "        i = 0\n",
    "        lambdas = np.zeros(thetas.shape[0])\n",
    "        \n",
    "        for theta in tqdm(thetas, desc = \"Computing waldo statistics using posterior model\"):\n",
    "            if not one_sample:\n",
    "                # simulating from the model\n",
    "                s = self.base_model.sample(X = X[i, :], num_samples = N)\n",
    "                \n",
    "                # computing E[theta|X]\n",
    "                mean_theta_X = np.mean(s, axis = 0)\n",
    "                var_theta_x = np.cov(s, rowvar = False)\n",
    "\n",
    "                # computing waldo statistic\n",
    "                if mean_theta_X.ndim > 1:\n",
    "                    lambdas[i] = (mean_theta_X - theta).transpose() @ np.linalg.inv(var_theta_x) @ (mean_theta_X - theta)\n",
    "                else:\n",
    "                    lambdas[i] = (mean_theta_X - theta)**2/(var_theta_x)\n",
    "                i += 1\n",
    "            else:\n",
    "                # simulating from the model\n",
    "                s = self.base_model.sample(X = X, num_samples = N)\n",
    "                \n",
    "                # computing E[theta|X]\n",
    "                mean_theta_X = np.mean(s, axis = 0)\n",
    "                var_theta_x = np.cov(s, rowvar = False)\n",
    "\n",
    "                # computing waldo statistic\n",
    "                if mean_theta_X.ndim > 1:\n",
    "                    lambdas[i] = (mean_theta_X - theta).transpose() @ np.linalg.inv(var_theta_x) @ (mean_theta_X - theta)\n",
    "                else:\n",
    "                    lambdas[i] = (mean_theta_X - theta)**2/(var_theta_x)\n",
    "                i += 1\n",
    "\n",
    "        return lambdas\n",
    "\n",
    "    def predict(self, thetas_grid, X, cutoffs):\n",
    "        # TODO: grid with thetas and cutoffs to generate set\n",
    "        # predicting lambdas for all thetas\n",
    "        lambdas = self.compute(thetas_grid, X, one_sample = True)\n",
    "        idxs = list(np.where(lambdas <= cutoffs)[0])\n",
    "\n",
    "        return thetas_grid.squeeze()[idxs]\n",
    "\n",
    "class BFFScore(Scores):\n",
    "    def fit(self, X = None, thetas = None):\n",
    "        # setting up model for normalizing flows\n",
    "        if self.is_fitted:\n",
    "            return self\n",
    "        elif self.base_model is not None:\n",
    "            self.base_model.fit(X, thetas)\n",
    "        else:\n",
    "            return self\n",
    "\n",
    "    def compute(self, thetas, X, one_sample = False):\n",
    "        # simulating from each theta and dataset to compute waldo statistic\n",
    "        # predicting posterior density for X and theta\n",
    "        if not one_sample:\n",
    "            return -self.base_model.predict(thetas, X)\n",
    "        else:\n",
    "            X_tile = np.tile(X, (thetas.shape[0], 1))\n",
    "            return -self.base_model.predict(thetas, X_tile)\n",
    "\n",
    "    def predict(self, thetas_grid, X, cutoffs):\n",
    "        # TODO: grid with thetas and cutoffs to generate set\n",
    "        # predicting lambdas for all thetas\n",
    "        lambdas = self.compute(thetas_grid, X, one_sample = True)\n",
    "        idxs = list(np.where(lambdas <= cutoffs)[0])\n",
    "\n",
    "        return thetas_grid.squeeze()[idxs]\n",
    "\n",
    "class E_valueScore(Scores):\n",
    "    def fit(self, X = None, thetas = None):\n",
    "        # setting up model for normalizing flows\n",
    "        if self.is_fitted:\n",
    "            return self\n",
    "        elif self.base_model is not None:\n",
    "            self.base_model.fit(X, thetas)\n",
    "        else:\n",
    "            return self\n",
    "        \n",
    "    def compute(self, thetas, X, N = 10**4, one_sample = False):\n",
    "        # simulating from each theta and dataset to compute waldo statistic\n",
    "        i = 0\n",
    "        lambdas = np.zeros(thetas.shape[0])\n",
    "        \n",
    "        for theta in tqdm(thetas, desc = \"Computing e-value statistics using posterior model\"):\n",
    "            if not one_sample:\n",
    "                # simulating from the posterior for each X\n",
    "                s = self.base_model.sample(X = X[i, :], num_samples = N)\n",
    "\n",
    "                # computing probability for each sample\n",
    "                prob_s = self.base_model.predict(s, np.tile(X[i, :], (N, 1)))\n",
    "\n",
    "                # compute probability for theta\n",
    "                prob_theta = self.base_model.predict(theta, X[i, :].reshape(1, -1))\n",
    "            else:\n",
    "                # simulating from the posterior for each X\n",
    "                s = self.base_model.sample(X = X, num_samples = N)\n",
    "\n",
    "                # computing probability for each sample\n",
    "                prob_s = self.base_model.predict(s, np.tile(X, (N, 1)))\n",
    "\n",
    "                # compute probability for theta\n",
    "                prob_theta = self.base_model.predict(theta, X.reshape(1, -1))\n",
    "\n",
    "            # computing e-value\n",
    "            lambdas[i] = np.mean(prob_s >= prob_theta)\n",
    "            i += 1\n",
    "\n",
    "        return lambdas\n",
    "    \n",
    "    def predict(self, thetas_grid, X, cutoffs):\n",
    "        # TODO: grid with thetas and cutoffs to generate set\n",
    "        # predicting lambdas for all thetas\n",
    "        lambdas = self.compute(thetas_grid, X, one_sample = True)\n",
    "        idxs = list(np.where(lambdas <= cutoffs)[0])\n",
    "\n",
    "        return thetas_grid.squeeze()[idxs]"
   ]
  },
  {
   "cell_type": "markdown",
   "metadata": {},
   "source": [
    "## Starting by a visible example:"
   ]
  },
  {
   "cell_type": "markdown",
   "metadata": {},
   "source": [
    "Simulating and testing for weinberg:"
   ]
  },
  {
   "cell_type": "code",
   "execution_count": 4,
   "metadata": {},
   "outputs": [],
   "source": [
    "simulator = weinberg.Simulator(default_beam_energy=40.0)\n",
    "prior = weinberg.Prior()"
   ]
  },
  {
   "cell_type": "markdown",
   "metadata": {},
   "source": [
    "Setting $n = 100$ and $B^{'} = 20000$ for posterior modeling:"
   ]
  },
  {
   "cell_type": "code",
   "execution_count": 5,
   "metadata": {},
   "outputs": [],
   "source": [
    "B_model = 20000\n",
    "n = 100\n",
    "torch.manual_seed(45)\n",
    "# simulating thetas\n",
    "thetas = prior.sample((B_model, ))\n",
    "repeated_thetas = thetas.repeat_interleave(repeats = n, dim = 0)\n",
    "\n",
    "# simulating X's\n",
    "X_sample = simulator(repeated_thetas)"
   ]
  },
  {
   "cell_type": "code",
   "execution_count": 6,
   "metadata": {},
   "outputs": [],
   "source": [
    "X_dim = X_sample.shape[1]\n",
    "X_net = X_sample.reshape(B_model, n * X_dim)"
   ]
  },
  {
   "cell_type": "code",
   "execution_count": 8,
   "metadata": {},
   "outputs": [
    {
     "data": {
      "text/plain": [
       "torch.Size([20000, 100])"
      ]
     },
     "execution_count": 8,
     "metadata": {},
     "output_type": "execute_result"
    }
   ],
   "source": [
    "X_net.shape"
   ]
  },
  {
   "cell_type": "markdown",
   "metadata": {},
   "source": [
    "Fitting normalizing flow model:"
   ]
  },
  {
   "cell_type": "code",
   "execution_count": 9,
   "metadata": {},
   "outputs": [
    {
     "name": "stderr",
     "output_type": "stream",
     "text": [
      "Fitting normalizing flows posterior estimator:  33%|███▎      | 651/2000 [03:29<07:14,  3.10it/s]"
     ]
    },
    {
     "name": "stdout",
     "output_type": "stream",
     "text": [
      "Early stopping at epoch 651\n",
      "a\n"
     ]
    },
    {
     "name": "stderr",
     "output_type": "stream",
     "text": [
      "\n"
     ]
    },
    {
     "data": {
      "text/html": [
       "<style>#sk-container-id-1 {color: black;}#sk-container-id-1 pre{padding: 0;}#sk-container-id-1 div.sk-toggleable {background-color: white;}#sk-container-id-1 label.sk-toggleable__label {cursor: pointer;display: block;width: 100%;margin-bottom: 0;padding: 0.3em;box-sizing: border-box;text-align: center;}#sk-container-id-1 label.sk-toggleable__label-arrow:before {content: \"▸\";float: left;margin-right: 0.25em;color: #696969;}#sk-container-id-1 label.sk-toggleable__label-arrow:hover:before {color: black;}#sk-container-id-1 div.sk-estimator:hover label.sk-toggleable__label-arrow:before {color: black;}#sk-container-id-1 div.sk-toggleable__content {max-height: 0;max-width: 0;overflow: hidden;text-align: left;background-color: #f0f8ff;}#sk-container-id-1 div.sk-toggleable__content pre {margin: 0.2em;color: black;border-radius: 0.25em;background-color: #f0f8ff;}#sk-container-id-1 input.sk-toggleable__control:checked~div.sk-toggleable__content {max-height: 200px;max-width: 100%;overflow: auto;}#sk-container-id-1 input.sk-toggleable__control:checked~label.sk-toggleable__label-arrow:before {content: \"▾\";}#sk-container-id-1 div.sk-estimator input.sk-toggleable__control:checked~label.sk-toggleable__label {background-color: #d4ebff;}#sk-container-id-1 div.sk-label input.sk-toggleable__control:checked~label.sk-toggleable__label {background-color: #d4ebff;}#sk-container-id-1 input.sk-hidden--visually {border: 0;clip: rect(1px 1px 1px 1px);clip: rect(1px, 1px, 1px, 1px);height: 1px;margin: -1px;overflow: hidden;padding: 0;position: absolute;width: 1px;}#sk-container-id-1 div.sk-estimator {font-family: monospace;background-color: #f0f8ff;border: 1px dotted black;border-radius: 0.25em;box-sizing: border-box;margin-bottom: 0.5em;}#sk-container-id-1 div.sk-estimator:hover {background-color: #d4ebff;}#sk-container-id-1 div.sk-parallel-item::after {content: \"\";width: 100%;border-bottom: 1px solid gray;flex-grow: 1;}#sk-container-id-1 div.sk-label:hover label.sk-toggleable__label {background-color: #d4ebff;}#sk-container-id-1 div.sk-serial::before {content: \"\";position: absolute;border-left: 1px solid gray;box-sizing: border-box;top: 0;bottom: 0;left: 50%;z-index: 0;}#sk-container-id-1 div.sk-serial {display: flex;flex-direction: column;align-items: center;background-color: white;padding-right: 0.2em;padding-left: 0.2em;position: relative;}#sk-container-id-1 div.sk-item {position: relative;z-index: 1;}#sk-container-id-1 div.sk-parallel {display: flex;align-items: stretch;justify-content: center;background-color: white;position: relative;}#sk-container-id-1 div.sk-item::before, #sk-container-id-1 div.sk-parallel-item::before {content: \"\";position: absolute;border-left: 1px solid gray;box-sizing: border-box;top: 0;bottom: 0;left: 50%;z-index: -1;}#sk-container-id-1 div.sk-parallel-item {display: flex;flex-direction: column;z-index: 1;position: relative;background-color: white;}#sk-container-id-1 div.sk-parallel-item:first-child::after {align-self: flex-end;width: 50%;}#sk-container-id-1 div.sk-parallel-item:last-child::after {align-self: flex-start;width: 50%;}#sk-container-id-1 div.sk-parallel-item:only-child::after {width: 0;}#sk-container-id-1 div.sk-dashed-wrapped {border: 1px dashed gray;margin: 0 0.4em 0.5em 0.4em;box-sizing: border-box;padding-bottom: 0.4em;background-color: white;}#sk-container-id-1 div.sk-label label {font-family: monospace;font-weight: bold;display: inline-block;line-height: 1.2em;}#sk-container-id-1 div.sk-label-container {text-align: center;}#sk-container-id-1 div.sk-container {/* jupyter's `normalize.less` sets `[hidden] { display: none; }` but bootstrap.min.css set `[hidden] { display: none !important; }` so we also need the `!important` here to be able to override the default hidden behavior on the sphinx rendered scikit-learn.org. See: https://github.com/scikit-learn/scikit-learn/issues/21755 */display: inline-block !important;position: relative;}#sk-container-id-1 div.sk-text-repr-fallback {display: none;}</style><div id=\"sk-container-id-1\" class=\"sk-top-container\"><div class=\"sk-text-repr-fallback\"><pre>normflow_posterior(latent_size=1, sample_size=100)</pre><b>In a Jupyter environment, please rerun this cell to show the HTML representation or trust the notebook. <br />On GitHub, the HTML representation is unable to render, please try loading this page with nbviewer.org.</b></div><div class=\"sk-container\" hidden><div class=\"sk-item\"><div class=\"sk-estimator sk-toggleable\"><input class=\"sk-toggleable__control sk-hidden--visually\" id=\"sk-estimator-id-1\" type=\"checkbox\" checked><label for=\"sk-estimator-id-1\" class=\"sk-toggleable__label sk-toggleable__label-arrow\">normflow_posterior</label><div class=\"sk-toggleable__content\"><pre>normflow_posterior(latent_size=1, sample_size=100)</pre></div></div></div></div></div>"
      ],
      "text/plain": [
       "normflow_posterior(latent_size=1, sample_size=100)"
      ]
     },
     "execution_count": 9,
     "metadata": {},
     "output_type": "execute_result"
    }
   ],
   "source": [
    "# reshaping thetas\n",
    "thetas = thetas.reshape(-1, 1)\n",
    "nflow_post = normflow_posterior(\n",
    "    latent_size = thetas.shape[1],\n",
    "    sample_size = X_net.shape[1], \n",
    "    n_flows = 8, \n",
    "    hidden_units = 128, \n",
    "    hidden_layers = 2,\n",
    "    enable_cuda = True,\n",
    "    )\n",
    "\n",
    "nflow_post.fit(X_net.numpy(), thetas.numpy(), patience = 100, n_epochs = 2000, batch_size = 250)"
   ]
  },
  {
   "cell_type": "code",
   "execution_count": 10,
   "metadata": {},
   "outputs": [
    {
     "data": {
      "image/png": "[encoded data removed]",
      "text/plain": [
       "<Figure size 640x480 with 1 Axes>"
      ]
     },
     "metadata": {},
     "output_type": "display_data"
    }
   ],
   "source": [
    "nflow_post.plot_history()"
   ]
  },
  {
   "cell_type": "markdown",
   "metadata": {},
   "source": [
    "Simulating sample to fit confidence regions estimators:"
   ]
  },
  {
   "cell_type": "code",
   "execution_count": 12,
   "metadata": {},
   "outputs": [],
   "source": [
    "# simulating to fit estimated confidence regions\n",
    "B_rand = 10000\n",
    "n = 100\n",
    "\n",
    "torch.manual_seed(125)\n",
    "# sampling from theta\n",
    "thetas_new = prior.sample((B_rand, ))\n",
    "repeated_thetas = thetas_new.repeat_interleave(repeats = n, dim = 0)\n",
    "X_conf = simulator(repeated_thetas)\n",
    "X_dim = X_conf.shape[1]\n",
    "X_net = X_conf.reshape(B_rand, n * X_dim)"
   ]
  },
  {
   "cell_type": "markdown",
   "metadata": {},
   "source": [
    "Computing all scores dataset:"
   ]
  },
  {
   "cell_type": "code",
   "execution_count": 13,
   "metadata": {},
   "outputs": [
    {
     "name": "stderr",
     "output_type": "stream",
     "text": [
      "Computing waldo statistics using posterior model: 100%|██████████| 10000/10000 [03:03<00:00, 54.55it/s]\n",
      "Computing e-value statistics using posterior model: 100%|██████████| 10000/10000 [09:38<00:00, 17.27it/s]\n"
     ]
    }
   ],
   "source": [
    "# reshaping array\n",
    "thetas_new = thetas_new.reshape(-1, 1)\n",
    "\n",
    "# waldo score\n",
    "waldo_score = WaldoScore(nflow_post, is_fitted = True)\n",
    "waldo_score.fit()\n",
    "sample_waldo = waldo_score.compute(thetas_new.numpy(), X = X_net.numpy(), N = 1000)\n",
    "\n",
    "# BFF score\n",
    "bff_score = BFFScore(nflow_post, is_fitted = True)\n",
    "bff_score.fit()\n",
    "sample_bff = bff_score.compute(thetas_new.numpy(), X = X_net.numpy())\n",
    "\n",
    "# e-value score\n",
    "e_value_score = E_valueScore(nflow_post, is_fitted = True)\n",
    "e_value_score.fit()\n",
    "sample_e_value = e_value_score.compute(thetas_new.numpy(), X = X_net.numpy(), N = 1000)"
   ]
  },
  {
   "cell_type": "markdown",
   "metadata": {},
   "source": [
    "Fitting a fixed TRUST++ to the problem:"
   ]
  },
  {
   "cell_type": "code",
   "execution_count": 15,
   "metadata": {},
   "outputs": [],
   "source": [
    "alpha, min_samples_leaf, n_estimators, K = 0.05, 300, 200, 70\n",
    "\n",
    "# fitting TRUST++ to waldo and visualizing\n",
    "loforest_waldo = ConformalLoforest(\n",
    "        LambdaScore, None, alpha=alpha, is_fitted=True, split_calib=False\n",
    "    )\n",
    "\n",
    "loforest_waldo.calibrate(\n",
    "    thetas_new.numpy(), \n",
    "    sample_waldo, \n",
    "    min_samples_leaf=min_samples_leaf, \n",
    "    n_estimators= n_estimators,\n",
    "    K = K,\n",
    ")\n",
    "\n",
    "# fitting to BF\n",
    "loforest_bf = ConformalLoforest(\n",
    "        LambdaScore, None, alpha=alpha, is_fitted=True, split_calib=False\n",
    "    )\n",
    "\n",
    "loforest_bf.calibrate(\n",
    "    thetas_new.numpy(), \n",
    "    sample_bff, \n",
    "    min_samples_leaf=min_samples_leaf, \n",
    "    n_estimators= n_estimators,\n",
    "    K = K,\n",
    ")\n",
    "\n",
    "# fitting to e-value\n",
    "loforest_e_value = ConformalLoforest(\n",
    "        LambdaScore, None, alpha=alpha, is_fitted=True, split_calib=False\n",
    "    )\n",
    "\n",
    "loforest_e_value.calibrate(\n",
    "    thetas_new.numpy(), \n",
    "    sample_e_value, \n",
    "    min_samples_leaf=min_samples_leaf, \n",
    "    n_estimators= n_estimators,\n",
    "    K = K,\n",
    ")"
   ]
  },
  {
   "cell_type": "markdown",
   "metadata": {},
   "source": [
    "Computing confidence regions:"
   ]
  },
  {
   "cell_type": "code",
   "execution_count": 16,
   "metadata": {},
   "outputs": [],
   "source": [
    "res_thetas = np.linspace(0.5001, 1.4999, 500).reshape(-1, 1)\n",
    "# waldo cutoffs\n",
    "waldo_cutoffs = loforest_waldo.compute_cutoffs(res_thetas)\n",
    "\n",
    "# bayes factor cutoffs\n",
    "bf_cutoffs = loforest_bf.compute_cutoffs(res_thetas)\n",
    "\n",
    "# e_value cutoffs\n",
    "e_value_cutoffs = loforest_e_value.compute_cutoffs(res_thetas)"
   ]
  },
  {
   "cell_type": "markdown",
   "metadata": {},
   "source": [
    "Testing $X$ generated fixing $\\theta = 1$:"
   ]
  },
  {
   "cell_type": "code",
   "execution_count": 17,
   "metadata": {},
   "outputs": [
    {
     "data": {
      "text/plain": [
       "array([-9.0912902e-01, -5.2644277e-01, -1.6158916e-01, -7.6846647e-01,\n",
       "       -6.6844094e-01, -4.7640166e-01, -9.4975978e-01,  1.2970899e-01,\n",
       "       -2.3482265e-01, -8.6722708e-01, -4.6376497e-01, -3.7626676e-02,\n",
       "       -9.2219967e-01, -3.8411894e-01, -4.1795933e-01, -3.6648211e-01,\n",
       "       -5.9312093e-01,  8.4655970e-01, -9.4386232e-01, -7.0697474e-01,\n",
       "       -3.2127714e-01, -9.6454990e-01,  1.2342653e-01, -7.9238981e-01,\n",
       "       -9.1915864e-01,  8.2619846e-01, -2.8910816e-01, -3.5223445e-01,\n",
       "       -3.4950617e-01, -5.4576272e-01, -5.3472626e-01,  2.5259632e-01,\n",
       "        7.8798610e-01, -9.3922746e-01, -6.4054769e-01, -8.2121897e-01,\n",
       "       -2.9237735e-01, -3.5072705e-01, -4.0284950e-01, -4.6694434e-01,\n",
       "       -5.1180953e-01, -5.0942719e-01, -9.9701577e-01, -7.2485119e-01,\n",
       "       -6.4948648e-01, -5.5914307e-01,  5.6955820e-01, -8.9363265e-01,\n",
       "       -8.9307576e-01, -6.0757685e-01, -6.2484628e-01, -9.7795528e-01,\n",
       "       -9.7096151e-01, -9.5005333e-01, -8.8277775e-01,  8.2070035e-01,\n",
       "       -8.3087057e-01, -9.6992862e-01, -6.1533183e-01, -8.8363111e-01,\n",
       "       -4.5476907e-01, -6.0788530e-01, -8.3512825e-01, -2.0196745e-01,\n",
       "       -9.0418792e-01, -8.9806610e-01, -7.7297360e-01,  8.5487288e-01,\n",
       "       -7.0660817e-04, -9.0108448e-01, -7.6357049e-01, -8.5152477e-01,\n",
       "        3.7894905e-01,  8.5566574e-01, -8.8053185e-01,  7.9427940e-01,\n",
       "       -4.2231661e-01, -4.8970547e-01, -4.7211045e-01, -7.5217497e-01,\n",
       "       -5.8703101e-01, -2.1215096e-01, -9.7068143e-01, -6.7413580e-01,\n",
       "       -8.3129126e-01, -4.1628578e-01, -7.4065560e-01, -7.7525061e-01,\n",
       "       -8.0385417e-01, -1.8755049e-01, -9.9430811e-01, -5.5576658e-01,\n",
       "       -7.7913511e-01, -8.6358100e-01, -1.4229584e-01, -4.2632097e-01,\n",
       "       -1.5484834e-01, -4.2457083e-01, -5.5190325e-01, -3.4760380e-01],\n",
       "      dtype=float32)"
      ]
     },
     "execution_count": 17,
     "metadata": {},
     "output_type": "execute_result"
    }
   ],
   "source": [
    "# observed data with n = 5\n",
    "torch.manual_seed(45)\n",
    "theta = 1\n",
    "X = simulator(np.repeat(theta, n))\n",
    "X = X.squeeze().numpy()\n",
    "X"
   ]
  },
  {
   "cell_type": "markdown",
   "metadata": {},
   "source": [
    "Analysing distribution:"
   ]
  },
  {
   "cell_type": "code",
   "execution_count": 18,
   "metadata": {},
   "outputs": [
    {
     "data": {
      "image/png": "[encoded data removed]",
      "text/plain": [
       "<Figure size 640x480 with 1 Axes>"
      ]
     },
     "metadata": {},
     "output_type": "display_data"
    }
   ],
   "source": [
    "plt.hist(X)\n",
    "plt.title(r\"$\\theta$ = 1\")\n",
    "plt.show()"
   ]
  },
  {
   "cell_type": "markdown",
   "metadata": {},
   "source": [
    "Comparing to $\\theta = 0.55$:"
   ]
  },
  {
   "cell_type": "code",
   "execution_count": 19,
   "metadata": {},
   "outputs": [],
   "source": [
    "torch.manual_seed(45)\n",
    "theta = 0.55\n",
    "X_alt = simulator(np.repeat(theta, n))\n",
    "X_alt = X_alt.squeeze().numpy()"
   ]
  },
  {
   "cell_type": "code",
   "execution_count": 20,
   "metadata": {},
   "outputs": [
    {
     "data": {
      "image/png": "[encoded data removed]",
      "text/plain": [
       "<Figure size 640x480 with 1 Axes>"
      ]
     },
     "metadata": {},
     "output_type": "display_data"
    }
   ],
   "source": [
    "plt.hist(X_alt)\n",
    "plt.title(r\"$\\theta = 0.55$\")\n",
    "plt.show()"
   ]
  },
  {
   "cell_type": "code",
   "execution_count": 21,
   "metadata": {},
   "outputs": [],
   "source": [
    "thetas_nflow = nflow_post.sample(X, num_samples = 10000)"
   ]
  },
  {
   "cell_type": "code",
   "execution_count": 28,
   "metadata": {},
   "outputs": [
    {
     "data": {
      "image/png": "[encoded data removed]",
      "text/plain": [
       "<Figure size 640x480 with 1 Axes>"
      ]
     },
     "metadata": {},
     "output_type": "display_data"
    }
   ],
   "source": [
    "# posterior probability for all theta\n",
    "import seaborn as sns\n",
    "sns.histplot(thetas_nflow, kde = True, stat = \"density\")\n",
    "plt.xlim(0.25, 1.75)\n",
    "plt.show()"
   ]
  },
  {
   "cell_type": "code",
   "execution_count": 23,
   "metadata": {},
   "outputs": [
    {
     "name": "stderr",
     "output_type": "stream",
     "text": [
      "Computing waldo statistics using posterior model: 100%|██████████| 500/500 [00:12<00:00, 40.05it/s]\n",
      "Computing e-value statistics using posterior model: 100%|██████████| 500/500 [00:34<00:00, 14.69it/s]\n"
     ]
    }
   ],
   "source": [
    "waldo_conf = waldo_score.predict(res_thetas, X = X, cutoffs = waldo_cutoffs)\n",
    "bff_conf = bff_score.predict(res_thetas, X = X, cutoffs = bf_cutoffs)\n",
    "e_value_conf = e_value_score.predict(res_thetas, X = X, cutoffs = e_value_cutoffs)"
   ]
  },
  {
   "cell_type": "code",
   "execution_count": 25,
   "metadata": {},
   "outputs": [
    {
     "data": {
      "text/plain": [
       "array([0.86876373, 0.87076733, 0.87277094, 0.87477455, 0.87677816,\n",
       "       0.87878176, 0.88078537, 0.88278898, 0.88479259, 0.88679619,\n",
       "       0.8887998 , 0.89080341, 0.89280701, 0.89481062, 0.89681423,\n",
       "       0.89881784, 0.90082144, 0.90282505, 0.90482866, 0.90683226,\n",
       "       0.90883587, 0.91083948, 0.91284309, 0.91484669, 0.9168503 ,\n",
       "       0.91885391, 0.92085752, 0.92286112, 0.92486473, 0.92686834,\n",
       "       0.92887194, 0.93087555, 0.93287916, 0.93488277, 0.93688637,\n",
       "       0.93888998, 0.94089359, 0.94289719, 0.9449008 , 0.94690441,\n",
       "       0.94890802, 0.95091162, 0.95291523, 0.95491884, 0.95692244,\n",
       "       0.95892605, 0.96092966, 0.96293327, 0.96493687, 0.96694048,\n",
       "       0.96894409, 0.9709477 , 0.9729513 , 0.97495491, 0.97695852,\n",
       "       0.97896212, 0.98096573, 0.98296934, 0.98497295, 0.98697655,\n",
       "       0.98898016, 0.99098377, 0.99298737, 0.99499098, 0.99699459,\n",
       "       0.9989982 , 1.0010018 , 1.00300541, 1.00500902, 1.00701263,\n",
       "       1.00901623, 1.01101984, 1.01302345, 1.01502705, 1.01703066,\n",
       "       1.01903427, 1.02103788, 1.02304148, 1.02504509, 1.0270487 ,\n",
       "       1.0290523 , 1.03105591, 1.03305952, 1.03506313, 1.03706673,\n",
       "       1.03907034, 1.04107395, 1.04307756, 1.04508116, 1.04708477,\n",
       "       1.04908838, 1.05109198, 1.05309559, 1.0550992 , 1.05710281,\n",
       "       1.05910641, 1.06111002, 1.06311363, 1.06511723, 1.06712084,\n",
       "       1.06912445, 1.07112806, 1.07313166, 1.07513527, 1.07713888,\n",
       "       1.07914248, 1.08114609, 1.0831497 , 1.08515331, 1.08715691,\n",
       "       1.08916052, 1.09116413, 1.09316774, 1.09517134, 1.09717495,\n",
       "       1.09917856, 1.10118216, 1.10318577, 1.10518938, 1.10719299,\n",
       "       1.10919659, 1.1112002 , 1.11320381, 1.11520741, 1.11721102,\n",
       "       1.11921463, 1.12121824, 1.12322184, 1.12522545, 1.12722906,\n",
       "       1.12923267, 1.13123627, 1.13323988, 1.13524349, 1.13724709,\n",
       "       1.1392507 , 1.14125431, 1.14325792, 1.14526152, 1.14726513,\n",
       "       1.14926874, 1.15127234, 1.15327595, 1.15527956, 1.15728317,\n",
       "       1.15928677, 1.16129038, 1.16329399, 1.1652976 , 1.1673012 ,\n",
       "       1.16930481, 1.17130842, 1.17331202, 1.17531563, 1.17731924,\n",
       "       1.17932285, 1.18132645, 1.18333006, 1.18533367, 1.18733727])"
      ]
     },
     "execution_count": 25,
     "metadata": {},
     "output_type": "execute_result"
    }
   ],
   "source": [
    "waldo_conf"
   ]
  },
  {
   "cell_type": "code",
   "execution_count": 24,
   "metadata": {},
   "outputs": [
    {
     "data": {
      "text/plain": [
       "array([0.8326988 , 0.8347024 , 0.83670601, 0.83870962, 0.84071323,\n",
       "       0.84271683, 0.84472044, 0.84672405, 0.84872766, 0.85073126,\n",
       "       0.85273487, 0.85473848, 0.85674208, 0.85874569, 0.8607493 ,\n",
       "       0.86275291, 0.86475651, 0.86676012, 0.86876373, 0.87076733,\n",
       "       0.87277094, 0.87477455, 0.87677816, 0.87878176, 0.88078537,\n",
       "       0.88278898, 0.88479259, 0.88679619, 0.8887998 , 0.89080341,\n",
       "       0.89280701, 0.89481062, 0.89681423, 0.89881784, 0.90082144,\n",
       "       0.90282505, 0.90482866, 0.90683226, 0.90883587, 0.91083948,\n",
       "       0.91284309, 0.91484669, 0.9168503 , 0.91885391, 0.92085752,\n",
       "       0.92286112, 0.92486473, 0.92686834, 0.92887194, 0.93087555,\n",
       "       0.93287916, 0.93488277, 0.93688637, 0.93888998, 0.94089359,\n",
       "       0.94289719, 0.9449008 , 0.94690441, 0.94890802, 0.95091162,\n",
       "       0.95291523, 0.95491884, 0.95692244, 0.95892605, 0.96092966,\n",
       "       0.96293327, 0.96493687, 0.96694048, 0.96894409, 0.9709477 ,\n",
       "       0.9729513 , 0.97495491, 0.97695852, 0.97896212, 0.98096573,\n",
       "       0.98296934, 0.98497295, 0.98697655, 0.98898016, 0.99098377,\n",
       "       0.99298737, 0.99499098, 0.99699459, 0.9989982 , 1.0010018 ,\n",
       "       1.00300541, 1.00500902, 1.00701263, 1.00901623, 1.01101984,\n",
       "       1.01302345, 1.01502705, 1.01703066, 1.01903427, 1.02103788,\n",
       "       1.02304148, 1.02504509, 1.0270487 , 1.0290523 , 1.03105591,\n",
       "       1.03305952, 1.03506313, 1.03706673, 1.03907034, 1.04107395,\n",
       "       1.04307756, 1.04508116, 1.04708477, 1.04908838, 1.05109198,\n",
       "       1.05309559, 1.0550992 , 1.05710281, 1.05910641, 1.06111002,\n",
       "       1.06311363, 1.06511723, 1.06712084, 1.06912445, 1.07112806,\n",
       "       1.07313166, 1.07513527, 1.07713888, 1.07914248, 1.08114609,\n",
       "       1.0831497 , 1.08515331, 1.08715691, 1.08916052, 1.09116413,\n",
       "       1.09316774, 1.09517134, 1.09717495, 1.09917856, 1.10118216,\n",
       "       1.10318577, 1.10518938, 1.10719299, 1.10919659, 1.1112002 ,\n",
       "       1.11320381, 1.11520741, 1.11721102, 1.11921463, 1.12121824,\n",
       "       1.12322184, 1.12522545, 1.12722906, 1.12923267, 1.13123627,\n",
       "       1.13323988, 1.13524349, 1.13724709, 1.1392507 , 1.14125431,\n",
       "       1.14325792, 1.14526152, 1.14726513, 1.14926874, 1.15127234,\n",
       "       1.15327595, 1.15527956, 1.15728317, 1.15928677, 1.16129038,\n",
       "       1.16329399, 1.1652976 , 1.1673012 , 1.16930481, 1.17130842,\n",
       "       1.17331202, 1.17531563, 1.17731924, 1.17932285, 1.18132645,\n",
       "       1.18333006, 1.18533367, 1.18733727, 1.18934088, 1.19134449,\n",
       "       1.1933481 , 1.1953517 , 1.19735531, 1.19935892, 1.20136253,\n",
       "       1.20336613, 1.20536974, 1.20737335, 1.20937695, 1.21138056,\n",
       "       1.21338417, 1.21538778, 1.21739138, 1.21939499])"
      ]
     },
     "execution_count": 24,
     "metadata": {},
     "output_type": "execute_result"
    }
   ],
   "source": [
    "e_value_conf"
   ]
  },
  {
   "cell_type": "code",
   "execution_count": 30,
   "metadata": {},
   "outputs": [
    {
     "data": {
      "text/plain": [
       "array([0.85473848, 0.85674208, 0.85874569, 0.8607493 , 0.86275291,\n",
       "       0.86475651, 0.86676012, 0.86876373, 0.87076733, 0.87277094,\n",
       "       0.87477455, 0.87677816, 0.87878176, 0.88078537, 0.88278898,\n",
       "       0.88479259, 0.88679619, 0.8887998 , 0.89080341, 0.89280701,\n",
       "       0.89481062, 0.89681423, 0.89881784, 0.90082144, 0.90282505,\n",
       "       0.90482866, 0.90683226, 0.90883587, 0.91083948, 0.91284309,\n",
       "       0.91484669, 0.9168503 , 0.91885391, 0.92085752, 0.92286112,\n",
       "       0.92486473, 0.92686834, 0.92887194, 0.93087555, 0.93287916,\n",
       "       0.93488277, 0.93688637, 0.93888998, 0.94089359, 0.94289719,\n",
       "       0.9449008 , 0.94690441, 0.94890802, 0.95091162, 0.95291523,\n",
       "       0.95491884, 0.95692244, 0.95892605, 0.96092966, 0.96293327,\n",
       "       0.96493687, 0.96694048, 0.96894409, 0.9709477 , 0.9729513 ,\n",
       "       0.97495491, 0.97695852, 0.97896212, 0.98096573, 0.98296934,\n",
       "       0.98497295, 0.98697655, 0.98898016, 0.99098377, 0.99298737,\n",
       "       0.99499098, 0.99699459, 0.9989982 , 1.0010018 , 1.00300541,\n",
       "       1.00500902, 1.00701263, 1.00901623, 1.01101984, 1.01302345,\n",
       "       1.01502705, 1.01703066, 1.01903427, 1.02103788, 1.02304148,\n",
       "       1.02504509, 1.0270487 , 1.0290523 , 1.03105591, 1.03305952,\n",
       "       1.03506313, 1.03706673, 1.03907034, 1.04107395, 1.04307756,\n",
       "       1.04508116, 1.04708477, 1.04908838, 1.05109198, 1.05309559,\n",
       "       1.0550992 , 1.05710281, 1.05910641, 1.06111002, 1.06311363,\n",
       "       1.06511723, 1.06712084, 1.06912445, 1.07112806, 1.07313166,\n",
       "       1.07513527, 1.07713888, 1.07914248, 1.08114609, 1.0831497 ,\n",
       "       1.08515331, 1.08715691, 1.08916052, 1.09116413, 1.09316774,\n",
       "       1.09517134, 1.09717495, 1.09917856, 1.10118216, 1.10318577,\n",
       "       1.10518938, 1.10719299, 1.10919659, 1.1112002 , 1.11320381,\n",
       "       1.11520741, 1.11721102, 1.11921463, 1.12121824, 1.12322184,\n",
       "       1.12522545, 1.12722906, 1.12923267, 1.13123627, 1.13323988,\n",
       "       1.13524349, 1.13724709, 1.1392507 , 1.14125431, 1.14325792,\n",
       "       1.14526152, 1.14726513, 1.14926874, 1.15127234, 1.15327595,\n",
       "       1.15527956, 1.15728317, 1.15928677, 1.16129038, 1.16329399,\n",
       "       1.1652976 , 1.1673012 , 1.16930481, 1.17130842, 1.17331202,\n",
       "       1.17531563, 1.17731924, 1.17932285, 1.18132645, 1.18333006,\n",
       "       1.18533367, 1.18733727, 1.18934088, 1.19134449, 1.1933481 ,\n",
       "       1.1953517 , 1.19735531, 1.19935892, 1.20136253, 1.20336613,\n",
       "       1.20536974])"
      ]
     },
     "execution_count": 30,
     "metadata": {},
     "output_type": "execute_result"
    }
   ],
   "source": [
    "bff_conf"
   ]
  },
  {
   "cell_type": "markdown",
   "metadata": {},
   "source": [
    "Plotting all confidence intervals:"
   ]
  },
  {
   "cell_type": "code",
   "execution_count": 49,
   "metadata": {},
   "outputs": [
    {
     "data": {
      "image/png": "[encoded data removed]",
      "text/plain": [
       "<Figure size 640x480 with 1 Axes>"
      ]
     },
     "metadata": {},
     "output_type": "display_data"
    }
   ],
   "source": [
    "x_1 = np.repeat(np.array([\"Waldo\"]),waldo_conf.shape[0])\n",
    "x_2 = np.repeat(np.array([\"BFF\"]),bff_conf.shape[0])\n",
    "x_3 = np.repeat(np.array([\"E-value\"]),e_value_conf.shape[0])\n",
    "plt.errorbar(waldo_conf, x_1, label = \"Waldo\")\n",
    "plt.errorbar(bff_conf, x_2, label = \"BFF\")\n",
    "plt.errorbar(e_value_conf, x_3, label = \"E-value\")\n",
    "plt.xlim(0.5, 1.5)\n",
    "plt.legend()\n",
    "plt.show()"
   ]
  }
 ],
 "metadata": {
  "kernelspec": {
   "display_name": "base",
   "language": "python",
   "name": "python3"
  },
  "language_info": {
   "codemirror_mode": {
    "name": "ipython",
    "version": 3
   },
   "file_extension": ".py",
   "mimetype": "text/x-python",
   "name": "python",
   "nbconvert_exporter": "python",
   "pygments_lexer": "ipython3",
   "version": "3.11.5"
  }
 },
 "nbformat": 4,
 "nbformat_minor": 2
}
